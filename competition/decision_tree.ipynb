{
 "cells": [
  {
   "cell_type": "markdown",
   "metadata": {},
   "source": [
    "# Competição ML @SBS/DAA - 5ª Edição (2022/2023)\n",
    "\n",
    "Esta competição está relacionada com o Trabalho Prático de Grupo das UCs do perfil Machine Learning: Fundamentos e Aplicações da Uminho e da UC Dados e Aprendizagem Automática, tendo, como destinatários, alunos do Mestrado em Engenharia Informática, do Mestrado em Matemática e Computação, e do Mestrado em Engenharia de Sistemas.\n",
    "\n",
    "# Descrição da Competição\n",
    "A previsão da quantidade de incidentes rodoviários é um conhecido problema de características estocásticas, não-lineares. Tem, contudo, aparecido na literatura um conjunto de modelos que demonstram um potencial assinalável neste tipo de previsões. Com isso em consideração, foi construído um dataset que contém dados referentes à quantidade e características dos incidentes rodoviários que ocorreram na cidade de Guimarães em 2021 (o dataset cobre um período que vai desde o dia 01 de Janeiro de 2021 até ao dia 31 de Dezembro do mesmo ano).\n",
    "\n",
    "Com esta competição espera-se que os alunos desenvolvam e otimizem modelos de Machine Learning que sejam capazes de prever o número de incidentes rodoviários que irão acontecer na cidade de Guimarães a uma determinada hora."
   ]
  },
  {
   "cell_type": "markdown",
   "metadata": {},
   "source": [
    "## Imports utilizados"
   ]
  },
  {
   "cell_type": "code",
   "execution_count": 1,
   "metadata": {
    "tags": []
   },
   "outputs": [],
   "source": [
    "%matplotlib inline\n",
    "\n",
    "import pandas as pd\n",
    "import numpy as np\n",
    "import matplotlib.pyplot as plt\n",
    "import seaborn as sns\n",
    "from sklearn.model_selection import train_test_split\n",
    "from sklearn.model_selection import cross_val_score\n",
    "from sklearn.tree import DecisionTreeClassifier, export_graphviz\n",
    "from sklearn.ensemble import RandomForestClassifier\n",
    "from sklearn.metrics import confusion_matrix, ConfusionMatrixDisplay\n",
    "from sklearn.metrics import recall_score\n",
    "from sklearn.metrics import accuracy_score\n",
    "from sklearn.metrics import precision_score"
   ]
  },
  {
   "cell_type": "markdown",
   "metadata": {
    "collapsed": false
   },
   "source": [
    "# Instalar as dependências necessárias"
   ]
  },
  {
   "cell_type": "code",
   "execution_count": 2,
   "metadata": {
    "collapsed": false
   },
   "outputs": [
    {
     "name": "stdout",
     "output_type": "stream",
     "text": [
      "Requirement already satisfied: scipy in /Users/annaphens/opt/anaconda3/lib/python3.9/site-packages (1.7.3)\n",
      "Requirement already satisfied: numpy<1.23.0,>=1.16.5 in /Users/annaphens/opt/anaconda3/lib/python3.9/site-packages (from scipy) (1.21.5)\n",
      "Requirement already satisfied: pydotplus in /Users/annaphens/opt/anaconda3/lib/python3.9/site-packages (2.0.2)\n",
      "Requirement already satisfied: pyparsing>=2.0.1 in /Users/annaphens/opt/anaconda3/lib/python3.9/site-packages (from pydotplus) (3.0.4)\n",
      "Requirement already satisfied: graphviz in /Users/annaphens/opt/anaconda3/lib/python3.9/site-packages (0.20.1)\n"
     ]
    }
   ],
   "source": [
    "!pip3 install scipy\n",
    "!pip3 install pydotplus\n",
    "!pip3 install graphviz"
   ]
  },
  {
   "cell_type": "markdown",
   "metadata": {},
   "source": [
    "### Mudar o modo que a Interactive shell imprime as variáveis"
   ]
  },
  {
   "cell_type": "code",
   "execution_count": 3,
   "metadata": {
    "collapsed": false,
    "jupyter": {
     "outputs_hidden": false
    }
   },
   "outputs": [],
   "source": [
    "from IPython.core.interactiveshell import InteractiveShell\n",
    "\n",
    "InteractiveShell.ast_node_interactivity = \"all\""
   ]
  },
  {
   "cell_type": "markdown",
   "metadata": {},
   "source": [
    "## Carregar os dataset de treino e de teste"
   ]
  },
  {
   "cell_type": "code",
   "execution_count": 4,
   "metadata": {
    "collapsed": false,
    "jupyter": {
     "outputs_hidden": false
    }
   },
   "outputs": [],
   "source": [
    "TRAINING_DATASET_SOURCE = 'datasets/training_data.csv'\n",
    "TEST_DATASET_SOURCE = 'datasets/test_data.csv'"
   ]
  },
  {
   "cell_type": "code",
   "execution_count": 5,
   "metadata": {
    "collapsed": false,
    "jupyter": {
     "outputs_hidden": false
    }
   },
   "outputs": [],
   "source": [
    "train_df = pd.read_csv(TRAINING_DATASET_SOURCE)\n",
    "test_df = pd.read_csv(TEST_DATASET_SOURCE)"
   ]
  },
  {
   "cell_type": "markdown",
   "metadata": {},
   "source": [
    "#### Seed utilizada"
   ]
  },
  {
   "cell_type": "code",
   "execution_count": 6,
   "metadata": {
    "collapsed": false,
    "jupyter": {
     "outputs_hidden": false
    }
   },
   "outputs": [],
   "source": [
    "SEED = 120"
   ]
  },
  {
   "cell_type": "markdown",
   "metadata": {},
   "source": [
    "## Preparação de Dados"
   ]
  },
  {
   "cell_type": "code",
   "execution_count": 7,
   "metadata": {},
   "outputs": [],
   "source": [
    "# Não tratar outliers de 'affected_roads', 'hour', 'day', 'month', 'weekday', 'weekend', 'holiday'\n",
    "numeric_columns = ['avg_temperature', 'avg_atm_pressure', 'avg_humidity', 'avg_wind_speed', 'luminosity']"
   ]
  },
  {
   "cell_type": "markdown",
   "metadata": {
    "collapsed": false
   },
   "source": [
    "### Converter features categóricas para valores numéricos"
   ]
  },
  {
   "cell_type": "code",
   "execution_count": 8,
   "metadata": {
    "collapsed": false
   },
   "outputs": [],
   "source": [
    "categorical_to_numerical = {\n",
    "    'luminosity': {\n",
    "        'LOW_LIGHT': 0,\n",
    "        'LIGHT': 1,\n",
    "        'DARK': 2\n",
    "    },\n",
    "    'avg_rain': {\n",
    "        'Sem Chuva': 0,\n",
    "        'chuva fraca': 1,\n",
    "        'chuva moderada': 1,\n",
    "        'chuva forte': 1,\n",
    "    }\n",
    "}"
   ]
  },
  {
   "cell_type": "code",
   "execution_count": 9,
   "metadata": {
    "collapsed": false
   },
   "outputs": [],
   "source": [
    "from pandas import DataFrame\n",
    "from sklearn.preprocessing import KBinsDiscretizer\n",
    "import statistics\n",
    "from datetime import datetime\n",
    "from sklearn.preprocessing import StandardScaler\n",
    "from scipy.stats import boxcox\n",
    "\n",
    "dropped_columns = ['city_name','avg_precipitation', 'magnitude_of_delay']\n",
    "holidays_in_guimaraes = pd.read_csv('datasets/national_holidays_2021.csv')"
   ]
  },
  {
   "attachments": {},
   "cell_type": "markdown",
   "metadata": {},
   "source": [
    "#### Funções Auxiliares"
   ]
  },
  {
   "cell_type": "code",
   "execution_count": 10,
   "metadata": {},
   "outputs": [],
   "source": [
    "### Criar 5 bins para a variável hour\n",
    "def create_bins_for_hour(df: DataFrame):\n",
    "    est = KBinsDiscretizer(n_bins=5, encode='ordinal', strategy='uniform')\n",
    "    est.fit(df['hour'].to_frame())\n",
    "    df['hour'] = est.transform(df['hour'].to_frame())\n",
    "    return df['hour']\n",
    "\n",
    "### Verificar se a data se refere a um feriado português.\n",
    "def is_it_holiday(month: int, day: int):\n",
    "    is_holiday = 0\n",
    "    for date in holidays_in_guimaraes['date']:\n",
    "        date_splitted = str(date).split('-')\n",
    "        month_holiday = date_splitted[1]\n",
    "        day_holiday = date_splitted[2]\n",
    "        if str(day) == day_holiday and str(month) == month_holiday:\n",
    "            is_holiday = 1\n",
    "            break\n",
    "    return is_holiday"
   ]
  },
  {
   "cell_type": "code",
   "execution_count": 11,
   "metadata": {
    "collapsed": false
   },
   "outputs": [],
   "source": [
    "# noinspection PyPep8Naming\n",
    "def decision_tree_data_preparation(df: DataFrame) -> DataFrame:\n",
    "    prep_df = df.drop(dropped_columns, axis=1)\n",
    "    prep_df.drop_duplicates()\n",
    "\n",
    "    ### Converter as features categoricas em numericas\n",
    "    prep_df.replace(categorical_to_numerical, inplace=True)\n",
    "\n",
    "    ### Extrair a hora e dia da semana da feature 'record_date'\n",
    "    record_date = pd.DatetimeIndex(prep_df['record_date'])\n",
    "\n",
    "    prep_df['hour'] = record_date.hour\n",
    "    prep_df['day'] = record_date.day\n",
    "    prep_df['month'] = record_date.month\n",
    "    prep_df['weekday'] = record_date.weekday\n",
    "\n",
    "    ### Verificar se a data se refere a um dia de fim-de-semana ou não.\n",
    "    weekend = []\n",
    "    for weekday in prep_df['weekday']:\n",
    "        if weekday == 5 or weekday == 6:\n",
    "            weekend.append(1)\n",
    "        else:\n",
    "            weekend.append(0)\n",
    "    prep_df['weekend'] = weekend\n",
    "\n",
    "    prep_df['hour'] = create_bins_for_hour(prep_df)\n",
    "\n",
    "    is_holiday = []\n",
    "    i = 0\n",
    "    while i < len(prep_df):\n",
    "        is_holiday.append(is_it_holiday(prep_df['month'][i], prep_df['day'][i]))\n",
    "        i += 1\n",
    "    prep_df[\"is_holiday\"] = is_holiday\n",
    "\n",
    "    prep_df.drop(columns=['record_date'], inplace=True)\n",
    "\n",
    "    train_df['affected_roads'] = train_df['affected_roads'].fillna(train_df['affected_roads'].mode().iloc[0])\n",
    "\n",
    "    roads_already_added = []\n",
    "    i = 0\n",
    "    for line in prep_df['affected_roads']:\n",
    "        unique_roads = set(str(line).split(','))\n",
    "        for valid_road in unique_roads:\n",
    "            if (valid_road != ''):\n",
    "                multiple_roads = valid_road.split(' - ')\n",
    "                if(len(multiple_roads) > 1):\n",
    "                    if (multiple_roads[0] not in roads_already_added):\n",
    "                        roads_already_added.append(multiple_roads[0])\n",
    "                        prep_df[f'{multiple_roads[0]}'] = [0] * len(prep_df)\n",
    "                        prep_df[f'{multiple_roads[0]}'][i] = 1     # 1 significa que essa rua foi afetada\n",
    "                    else:\n",
    "                        prep_df[f'{multiple_roads[0]}'][i] = 1     # 1 significa que essa rua foi afetada\n",
    "                    if (multiple_roads[1] not in roads_already_added):\n",
    "                        roads_already_added.append(multiple_roads[1])\n",
    "                        prep_df[f'{multiple_roads[1]}'] = [0] * len(prep_df)\n",
    "                        prep_df[f'{multiple_roads[1]}'][i] = 1     # 1 significa que essa rua foi afetada\n",
    "                    else:\n",
    "                        prep_df[f'{multiple_roads[1]}'][i] = 1     # 1 significa que essa rua foi afetada\n",
    "                else:\n",
    "                    if (valid_road not in roads_already_added):\n",
    "                        roads_already_added.append(valid_road)\n",
    "                        prep_df[f'{valid_road}'] = [0] * len(prep_df)\n",
    "                        prep_df[f'{valid_road}'][i] = 1     # 1 significa que essa rua foi afetada\n",
    "                    elif (valid_road in roads_already_added):\n",
    "                        prep_df[f'{valid_road}'][i] = 1     # 1 significa que essa rua foi afetada\n",
    "                    else:\n",
    "                        pass\n",
    "        i+=1\n",
    "\n",
    "    prep_df.drop(columns=['nan'], inplace=True)\n",
    "\n",
    "    ### Ao analisar o resultado pós-tratamento, verificámos que a feature 'affected_roads' tinha alta correlação com 'delay_in_minutes'\n",
    "    prep_df.drop(columns=['affected_roads'], inplace=True)\n",
    "\n",
    "    ### Converter a feature 'delay_in_seconds' para 'delay_in_minutes' de modo a reduzir o intervalo de valores\n",
    "    delay_in_minutes = []\n",
    "    for seconds in prep_df['delay_in_seconds']:\n",
    "        minutes = seconds / 60\n",
    "        delay_in_minutes.append(minutes)\n",
    "\n",
    "    prep_df.drop(columns=['delay_in_seconds'], inplace=True)\n",
    "    prep_df['delay_in_minutes'] = delay_in_minutes\n",
    "\n",
    "    # Normalizar o intervalo de valores de delay_in_minutes\n",
    "    delay_2D = np.array(prep_df['delay_in_minutes']).reshape(-1, 1)\n",
    "    scaler = StandardScaler()\n",
    "    normalized_delay_2D = scaler.fit_transform(delay_2D)\n",
    "    prep_df['delay_in_minutes'] = np.array(normalized_delay_2D).flatten()\n",
    "    \n",
    "    ### Limites superior e inferior (sem outliers) dos diagramas de caixa\n",
    "    whiskers = []\n",
    "    for num in numeric_columns:\n",
    "        Q1 = prep_df[num].quantile(0.25)\n",
    "        Q3 = prep_df[num].quantile(0.75)\n",
    "        IQR = Q3 - Q1\n",
    "\n",
    "        lower = Q1 - 1.5 * IQR\n",
    "        upper = Q3 + 1.5 * IQR\n",
    "        whiskers.append((num,lower,upper))\n",
    "\n",
    "    ### Tratar os outliers das features numéricas:\n",
    "    ### Substituir os valores dos outliers pela mediana\n",
    "    i = 0\n",
    "    for num in numeric_columns:\n",
    "        median = np.median(prep_df[num])\n",
    "        prep_df.loc[prep_df[num] <= whiskers[i][1], num] = median\n",
    "        prep_df.loc[prep_df[num] >= whiskers[i][2], num] = median\n",
    "        i = i + 1\n",
    "\n",
    "    return prep_df"
   ]
  },
  {
   "cell_type": "markdown",
   "metadata": {},
   "source": [
    "### Divisão do dataset de treino em dados de treino e de teste"
   ]
  },
  {
   "cell_type": "code",
   "execution_count": null,
   "metadata": {
    "collapsed": false
   },
   "outputs": [],
   "source": [
    "from sklearn.model_selection import train_test_split\n",
    "\n",
    "X = decision_tree_data_preparation(train_df)\n",
    "\n",
    "# Separate the target variable from the input features\n",
    "y = X['incidents']\n",
    "X.drop(columns=['incidents'], inplace=True)\n",
    "\n",
    "# Split the data into training and test sets\n",
    "X_train, X_test, y_train, y_test = train_test_split(X, y, test_size=0.2, random_state=SEED)"
   ]
  },
  {
   "cell_type": "markdown",
   "metadata": {},
   "source": [
    "### Modelo de Árvore de decisão"
   ]
  },
  {
   "cell_type": "code",
   "execution_count": 13,
   "metadata": {
    "collapsed": false
   },
   "outputs": [
    {
     "data": {
      "text/plain": [
       "\"\\n# Evaluate the model using 10-fold cross-validation\\nscores = cross_val_score(estimator=clf, X=X, y=y, cv=20)\\n\\n# Print the mean and standard deviation of the scores\\n#print(f'Mean accuracy: {scores.mean():.3f}')\\n#print(f'Standard deviation: {scores.std():.3f}')\\n\\nclf.fit(X_train, y_train)\\n\""
      ]
     },
     "execution_count": 13,
     "metadata": {},
     "output_type": "execute_result"
    },
    {
     "data": {
      "text/plain": [
       "DecisionTreeClassifier()"
      ]
     },
     "execution_count": 13,
     "metadata": {},
     "output_type": "execute_result"
    },
    {
     "name": "stdout",
     "output_type": "stream",
     "text": [
      "F1 score: 0.91 (+/- 0.05)\n"
     ]
    }
   ],
   "source": [
    "from sklearn.linear_model import LogisticRegression\n",
    "from sklearn.model_selection import GridSearchCV\n",
    "\n",
    "# Create a Decision Tree model\n",
    "clf = DecisionTreeClassifier()\n",
    "# clf = RandomForestClassifier()\n",
    "# clf = LogisticRegression(C=0.1)\n",
    "\n",
    "\"\"\"\n",
    "# Evaluate the model using 10-fold cross-validation\n",
    "scores = cross_val_score(estimator=clf, X=X, y=y, cv=20)\n",
    "\n",
    "# Print the mean and standard deviation of the scores\n",
    "#print(f'Mean accuracy: {scores.mean():.3f}')\n",
    "#print(f'Standard deviation: {scores.std():.3f}')\n",
    "\n",
    "clf.fit(X_train, y_train)\n",
    "\"\"\"\n",
    "\n",
    "# Fit the model to the training data\n",
    "clf.fit(X_train, y_train)\n",
    "\n",
    "# Evaluate the model using cross-validation\n",
    "scores = cross_val_score(clf, X, y, cv=200, scoring='f1_micro')\n",
    "\n",
    "# Print the mean and standard deviation of the cross-validation scores\n",
    "print(\"F1 score: %0.2f (+/- %0.2f)\" % (scores.mean(), scores.std()))\n"
   ]
  },
  {
   "cell_type": "markdown",
   "metadata": {
    "collapsed": false
   },
   "source": [
    "#### Exportar o gráfico da árvore de decisão"
   ]
  },
  {
   "cell_type": "code",
   "execution_count": null,
   "metadata": {
    "collapsed": false
   },
   "outputs": [],
   "source": [
    "\"\"\"\n",
    "from six import StringIO\n",
    "from IPython.display import Image\n",
    "import pydotplus\n",
    "\n",
    "prep_df = decision_tree_data_preparation(train_df)\n",
    "prep_df.drop(columns=['incidents'], inplace=True)\n",
    "\n",
    "dot_data = StringIO()\n",
    "export_graphviz(clf, out_file=dot_data,\n",
    "                filled=True, rounded=True,\n",
    "                special_characters=True,feature_names = prep_df.columns,class_names=['0','1','2','3','4'])\n",
    "\n",
    "graph = pydotplus.graph_from_dot_data(dot_data.getvalue())\n",
    "graph.write_png('incidents-decision-tree.png')\n",
    "Image(graph.create_png())\n",
    "\"\"\""
   ]
  },
  {
   "cell_type": "markdown",
   "metadata": {},
   "source": [
    "#### Obter as previsões"
   ]
  },
  {
   "cell_type": "code",
   "execution_count": 15,
   "metadata": {
    "collapsed": false,
    "jupyter": {
     "outputs_hidden": false
    }
   },
   "outputs": [],
   "source": [
    "from sklearn.metrics import f1_score\n",
    "\n",
    "# Make predictions on the test data\n",
    "predictions = clf.predict(X_test)"
   ]
  },
  {
   "cell_type": "code",
   "execution_count": 16,
   "metadata": {
    "collapsed": false,
    "jupyter": {
     "outputs_hidden": false
    }
   },
   "outputs": [
    {
     "data": {
      "text/plain": [
       "<sklearn.metrics._plot.confusion_matrix.ConfusionMatrixDisplay at 0x7fd41babbca0>"
      ]
     },
     "execution_count": 16,
     "metadata": {},
     "output_type": "execute_result"
    },
    {
     "data": {
      "image/png": "[encoded data removed]",
      "text/plain": [
       "<Figure size 432x288 with 2 Axes>"
      ]
     },
     "metadata": {
      "needs_background": "light"
     },
     "output_type": "display_data"
    }
   ],
   "source": [
    "cm = confusion_matrix(y_test, predictions)\n",
    "# TP FP\n",
    "# FN TN\n",
    "disp = ConfusionMatrixDisplay(cm)\n",
    "\n",
    "disp.plot()"
   ]
  },
  {
   "cell_type": "code",
   "execution_count": 17,
   "metadata": {
    "collapsed": false,
    "jupyter": {
     "outputs_hidden": false
    }
   },
   "outputs": [
    {
     "data": {
      "text/plain": [
       "0.914"
      ]
     },
     "execution_count": 17,
     "metadata": {},
     "output_type": "execute_result"
    },
    {
     "data": {
      "text/plain": [
       "0.914"
      ]
     },
     "execution_count": 17,
     "metadata": {},
     "output_type": "execute_result"
    },
    {
     "data": {
      "text/plain": [
       "0.914"
      ]
     },
     "execution_count": 17,
     "metadata": {},
     "output_type": "execute_result"
    }
   ],
   "source": [
    "accuracy_score(y_test, predictions)\n",
    "# (TP + TN) / (TP + FP + FN + TN)\n",
    "\n",
    "precision_score(y_test, predictions, average='micro')\n",
    "# TP / (TP + FP)\n",
    "\n",
    "recall_score(y_test, predictions, average='micro')\n",
    "# TP / (TP + FN)"
   ]
  },
  {
   "cell_type": "markdown",
   "metadata": {},
   "source": [
    "# Reading the test dataset"
   ]
  },
  {
   "cell_type": "code",
   "execution_count": null,
   "metadata": {
    "collapsed": false,
    "jupyter": {
     "outputs_hidden": false
    }
   },
   "outputs": [],
   "source": [
    "X = decision_tree_data_preparation(test_df)\n"
   ]
  },
  {
   "cell_type": "markdown",
   "metadata": {},
   "source": [
    "# Getting the predictions"
   ]
  },
  {
   "cell_type": "code",
   "execution_count": null,
   "metadata": {
    "collapsed": false,
    "jupyter": {
     "outputs_hidden": false
    }
   },
   "outputs": [],
   "source": [
    "predictions = clf.predict(X)\n",
    "\n",
    "predictions_df = pd.DataFrame(predictions)\n",
    "\n",
    "predictions_df.index += 1\n",
    "\n",
    "predictions_df.to_csv(\"submission.csv\", header=['Incidents'], index_label='RowId')"
   ]
  }
 ],
 "metadata": {
  "kernelspec": {
   "display_name": "base",
   "language": "python",
   "name": "python3"
  },
  "language_info": {
   "codemirror_mode": {
    "name": "ipython",
    "version": 3
   },
   "file_extension": ".py",
   "mimetype": "text/x-python",
   "name": "python",
   "nbconvert_exporter": "python",
   "pygments_lexer": "ipython3",
   "version": "3.9.12"
  },
  "vscode": {
   "interpreter": {
    "hash": "ddb1a984dc606e8a9c0ef42c41531599b55da58846aaf6b0703a14cafee0a970"
   }
  }
 },
 "nbformat": 4,
 "nbformat_minor": 4
}
