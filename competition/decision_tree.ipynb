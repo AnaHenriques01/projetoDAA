{
 "cells": [
  {
   "cell_type": "markdown",
   "metadata": {},
   "source": [
    "# Competição ML @SBS/DAA - 5ª Edição (2022/2023)\n",
    "\n",
    "Esta competição está relacionada com o Trabalho Prático de Grupo das UCs do perfil Machine Learning: Fundamentos e Aplicações da Uminho e da UC Dados e Aprendizagem Automática, tendo, como destinatários, alunos do Mestrado em Engenharia Informática, do Mestrado em Matemática e Computação, e do Mestrado em Engenharia de Sistemas.\n",
    "\n",
    "# Descrição da Competição\n",
    "A previsão da quantidade de incidentes rodoviários é um conhecido problema de características estocásticas, não-lineares. Tem, contudo, aparecido na literatura um conjunto de modelos que demonstram um potencial assinalável neste tipo de previsões. Com isso em consideração, foi construído um dataset que contém dados referentes à quantidade e características dos incidentes rodoviários que ocorreram na cidade de Guimarães em 2021 (o dataset cobre um período que vai desde o dia 01 de Janeiro de 2021 até ao dia 31 de Dezembro do mesmo ano).\n",
    "\n",
    "Com esta competição espera-se que os alunos desenvolvam e otimizem modelos de Machine Learning que sejam capazes de prever o número de incidentes rodoviários que irão acontecer na cidade de Guimarães a uma determinada hora."
   ]
  },
  {
   "cell_type": "markdown",
   "metadata": {},
   "source": [
    "## Imports utilizados"
   ]
  },
  {
   "cell_type": "code",
   "execution_count": 1,
   "metadata": {
    "tags": []
   },
   "outputs": [],
   "source": [
    "import pandas as pd\n",
    "import numpy as np\n",
    "import matplotlib.pyplot as plt\n",
    "import seaborn as sns\n",
    "import time\n",
    "\n",
    "from sklearn.model_selection import train_test_split\n",
    "from sklearn.model_selection import cross_val_score\n",
    "\n",
    "from sklearn.tree import DecisionTreeClassifier\n",
    "from sklearn.tree import DecisionTreeRegressor\n",
    "\n",
    "from sklearn.metrics import confusion_matrix, ConfusionMatrixDisplay\n",
    "from sklearn.metrics import recall_score\n",
    "from sklearn.metrics import accuracy_score\n",
    "from sklearn.metrics import precision_score\n",
    "from sklearn.metrics import roc_curve\n",
    "from sklearn.metrics import f1_score\n",
    "from sklearn.metrics import fbeta_score\n",
    "from sklearn.metrics import mean_absolute_error\n",
    "from sklearn.metrics import mean_squared_error\n",
    "\n",
    "# matplotlib inline"
   ]
  },
  {
   "cell_type": "markdown",
   "metadata": {},
   "source": [
    "### Mudar o modo que a Interactive shell imprime as variáveis"
   ]
  },
  {
   "cell_type": "code",
   "execution_count": 2,
   "metadata": {
    "collapsed": false,
    "jupyter": {
     "outputs_hidden": false
    }
   },
   "outputs": [],
   "source": [
    "from IPython.core.interactiveshell import InteractiveShell\n",
    "\n",
    "InteractiveShell.ast_node_interactivity = \"all\""
   ]
  },
  {
   "cell_type": "markdown",
   "metadata": {},
   "source": [
    "## Carregar os dataset de treino e de teste"
   ]
  },
  {
   "cell_type": "code",
   "execution_count": 3,
   "metadata": {
    "collapsed": false,
    "jupyter": {
     "outputs_hidden": false
    }
   },
   "outputs": [],
   "source": [
    "TRAINING_DATASET_SOURCE = 'training_data.csv'\n",
    "TEST_DATASET_SOURCE = 'test_data.csv'"
   ]
  },
  {
   "cell_type": "code",
   "execution_count": 4,
   "metadata": {
    "collapsed": false,
    "jupyter": {
     "outputs_hidden": false
    }
   },
   "outputs": [],
   "source": [
    "train_df = pd.read_csv(TRAINING_DATASET_SOURCE)\n",
    "test_df = pd.read_csv(TEST_DATASET_SOURCE)"
   ]
  },
  {
   "cell_type": "markdown",
   "metadata": {},
   "source": [
    "#### Seed utilizada"
   ]
  },
  {
   "cell_type": "code",
   "execution_count": 5,
   "metadata": {
    "collapsed": false,
    "jupyter": {
     "outputs_hidden": false
    }
   },
   "outputs": [],
   "source": [
    "SEED = 101"
   ]
  },
  {
   "cell_type": "markdown",
   "metadata": {},
   "source": [
    "## Preparação de Dados"
   ]
  },
  {
   "cell_type": "code",
   "execution_count": 6,
   "metadata": {},
   "outputs": [],
   "source": [
    "# Não tratar outliers de 'affected_roads', 'hour', 'day', 'month', 'weekday', 'weekend', 'holiday'\n",
    "numeric_columns = ['avg_temperature', 'avg_atm_pressure', 'avg_humidity', 'avg_wind_speed']"
   ]
  },
  {
   "cell_type": "code",
   "execution_count": 7,
   "metadata": {
    "tags": []
   },
   "outputs": [],
   "source": [
    "from pandas import DataFrame\n",
    "import holidays\n",
    "\n",
    "dropped_columns = ['city_name','avg_precipitation']\n",
    "\n",
    "# noinspection PyPep8Naming\n",
    "def decision_tree_data_preparation(df: DataFrame) -> DataFrame:\n",
    "\n",
    "    prep_df = df.drop(dropped_columns, axis=1)\n",
    "    \n",
    "    ### Agrupar em 2 bins a feature 'avg_rain'\n",
    "    prep_df.loc[prep_df['avg_rain'] == 'Sem Chuva', 'rain_level'] = 0\n",
    "    prep_df.loc[prep_df['avg_rain'] != 'Sem Chuva', 'rain_level'] = 1\n",
    "\n",
    "    prep_df.drop(columns=['avg_rain'], inplace=True)\n",
    "    \n",
    "    ### Converter features categóricas para valores numéricos\n",
    "    categorical_to_numerical = {\n",
    "        'luminosity': {\n",
    "            'LOW_LIGHT': 0,\n",
    "            'LIGHT': 1,\n",
    "            'DARK': 2\n",
    "        },\n",
    "        'magnitude_of_delay': {\n",
    "            'UNDEFINED': 0,\n",
    "            'MODERATE': 1,\n",
    "            'MAJOR': 2\n",
    "        }\n",
    "    }\n",
    "    prep_df.replace(categorical_to_numerical, inplace=True)\n",
    "\n",
    "    ### Extrair a hora e dia da semana da feature 'record_date'\n",
    "    record_date = pd.DatetimeIndex(prep_df['record_date'])\n",
    "\n",
    "    prep_df['hour'] = record_date.hour\n",
    "    prep_df['day'] = record_date.day\n",
    "    prep_df['month'] = record_date.month\n",
    "    prep_df['weekday'] = record_date.weekday\n",
    "    \n",
    "    ### Verificar se a data se refere a um dia de fim-de-semana ou não.\n",
    "    weekend = []\n",
    "    for weekday in prep_df['weekday']:\n",
    "        if weekday == 5 or weekday == 6:\n",
    "            weekend.append(1)\n",
    "        else:\n",
    "            weekend.append(0)\n",
    "    prep_df['weekend'] = weekend\n",
    "    \n",
    "    ### Criar 5 bins para a feature 'hour' consoante as horas do dia e a sua quantidade de tráfego.\n",
    "    def hour_of_the_day(hour):\n",
    "        if hour == 24 or (hour > 0 and hour < 8):\n",
    "            return 1\n",
    "        elif hour >= 8 and hour < 12:\n",
    "            return 2\n",
    "        elif hour >= 12 and hour < 16:\n",
    "            return 3\n",
    "        elif hour >= 16 and hour < 20:\n",
    "            return 4\n",
    "        else:\n",
    "            return 5\n",
    "    \n",
    "    prep_df[\"hour\"] = prep_df[\"hour\"].apply(hour_of_the_day)\n",
    "    \n",
    "    ### Verificar se a data se refere a um feriado português.\n",
    "    ### !pip install holidays\n",
    "    portugueseHolidays = holidays.Portugal()\n",
    "\n",
    "    def is_it_holiday(dateTime):\n",
    "        if dateTime in portugueseHolidays:\n",
    "            return 1\n",
    "        else:\n",
    "            return 0\n",
    "\n",
    "    prep_df[\"holiday\"] = prep_df[\"record_date\"].apply(is_it_holiday)\n",
    "    \n",
    "    prep_df.drop(columns=['record_date'], inplace=True)\n",
    "\n",
    "    ### Quantificar a feature 'affected_roads' para o número único de estradas afetadas\n",
    "    road_quantity = []\n",
    "    for line in prep_df['affected_roads']:\n",
    "        unique_roads = set(str(line).split(','))\n",
    "        valid_roads = [elem for elem in unique_roads if elem != '']\n",
    "        count = len(valid_roads)\n",
    "        road_quantity.append(count)\n",
    "\n",
    "    prep_df['affected_roads'] = road_quantity\n",
    "    \n",
    "    ### Converter a feature 'delay_in_seconds' para 'delay_in_hours' de modo a reduzir o intervalo de valores\n",
    "    delay_in_minutes = []\n",
    "    for seconds in prep_df['delay_in_seconds']:\n",
    "        minutes = seconds / 3600\n",
    "        delay_in_minutes.append(minutes)\n",
    "\n",
    "    prep_df.drop(columns=['delay_in_seconds'], inplace=True)\n",
    "    prep_df['delay_in_minutes'] = delay_in_minutes\n",
    "    \n",
    "    ### Limites superior e inferior (sem outliers) dos diagramas de caixa\n",
    "    whiskers = []\n",
    "    for num in numeric_columns:\n",
    "        Q1 = prep_df[num].quantile(0.25)\n",
    "        Q3 = prep_df[num].quantile(0.75)\n",
    "        IQR = Q3 - Q1\n",
    "\n",
    "        lower = Q1 - 1.5 * IQR\n",
    "        upper = Q3 + 1.5 * IQR\n",
    "        whiskers.append((num,lower,upper))\n",
    "    \n",
    "    ### Tratar os outliers das features numéricas:\n",
    "    ### Substituir os valores dos outliers pela mediana\n",
    "    i = 0\n",
    "    for num in numeric_columns:\n",
    "        median = np.median(prep_df[num])\n",
    "        prep_df.loc[prep_df[num] <= whiskers[i][1], num] = median\n",
    "        prep_df.loc[prep_df[num] >= whiskers[i][2], num] = median\n",
    "        i = i + 1\n",
    "        \n",
    "    return prep_df"
   ]
  },
  {
   "cell_type": "markdown",
   "metadata": {},
   "source": [
    "### Divisão do dataset de treino em dados de treino e de teste"
   ]
  },
  {
   "cell_type": "code",
   "execution_count": 8,
   "metadata": {
    "collapsed": false,
    "jupyter": {
     "outputs_hidden": false
    }
   },
   "outputs": [],
   "source": [
    "from sklearn.model_selection import train_test_split\n",
    "\n",
    "X = decision_tree_data_preparation(train_df)\n",
    "\n",
    "y = X['incidents']\n",
    "\n",
    "X.drop(columns=['incidents'], inplace=True)\n",
    "\n",
    "X_train, X_test, y_train, y_test = train_test_split(X, y, test_size=0.2, random_state=SEED)"
   ]
  },
  {
   "cell_type": "markdown",
   "metadata": {},
   "source": [
    "### Modelo de Árvore de decisão"
   ]
  },
  {
   "cell_type": "code",
   "execution_count": 9,
   "metadata": {
    "collapsed": false,
    "jupyter": {
     "outputs_hidden": false
    }
   },
   "outputs": [
    {
     "data": {
      "text/html": [
       "<style>#sk-container-id-1 {color: black;background-color: white;}#sk-container-id-1 pre{padding: 0;}#sk-container-id-1 div.sk-toggleable {background-color: white;}#sk-container-id-1 label.sk-toggleable__label {cursor: pointer;display: block;width: 100%;margin-bottom: 0;padding: 0.3em;box-sizing: border-box;text-align: center;}#sk-container-id-1 label.sk-toggleable__label-arrow:before {content: \"▸\";float: left;margin-right: 0.25em;color: #696969;}#sk-container-id-1 label.sk-toggleable__label-arrow:hover:before {color: black;}#sk-container-id-1 div.sk-estimator:hover label.sk-toggleable__label-arrow:before {color: black;}#sk-container-id-1 div.sk-toggleable__content {max-height: 0;max-width: 0;overflow: hidden;text-align: left;background-color: #f0f8ff;}#sk-container-id-1 div.sk-toggleable__content pre {margin: 0.2em;color: black;border-radius: 0.25em;background-color: #f0f8ff;}#sk-container-id-1 input.sk-toggleable__control:checked~div.sk-toggleable__content {max-height: 200px;max-width: 100%;overflow: auto;}#sk-container-id-1 input.sk-toggleable__control:checked~label.sk-toggleable__label-arrow:before {content: \"▾\";}#sk-container-id-1 div.sk-estimator input.sk-toggleable__control:checked~label.sk-toggleable__label {background-color: #d4ebff;}#sk-container-id-1 div.sk-label input.sk-toggleable__control:checked~label.sk-toggleable__label {background-color: #d4ebff;}#sk-container-id-1 input.sk-hidden--visually {border: 0;clip: rect(1px 1px 1px 1px);clip: rect(1px, 1px, 1px, 1px);height: 1px;margin: -1px;overflow: hidden;padding: 0;position: absolute;width: 1px;}#sk-container-id-1 div.sk-estimator {font-family: monospace;background-color: #f0f8ff;border: 1px dotted black;border-radius: 0.25em;box-sizing: border-box;margin-bottom: 0.5em;}#sk-container-id-1 div.sk-estimator:hover {background-color: #d4ebff;}#sk-container-id-1 div.sk-parallel-item::after {content: \"\";width: 100%;border-bottom: 1px solid gray;flex-grow: 1;}#sk-container-id-1 div.sk-label:hover label.sk-toggleable__label {background-color: #d4ebff;}#sk-container-id-1 div.sk-serial::before {content: \"\";position: absolute;border-left: 1px solid gray;box-sizing: border-box;top: 0;bottom: 0;left: 50%;z-index: 0;}#sk-container-id-1 div.sk-serial {display: flex;flex-direction: column;align-items: center;background-color: white;padding-right: 0.2em;padding-left: 0.2em;position: relative;}#sk-container-id-1 div.sk-item {position: relative;z-index: 1;}#sk-container-id-1 div.sk-parallel {display: flex;align-items: stretch;justify-content: center;background-color: white;position: relative;}#sk-container-id-1 div.sk-item::before, #sk-container-id-1 div.sk-parallel-item::before {content: \"\";position: absolute;border-left: 1px solid gray;box-sizing: border-box;top: 0;bottom: 0;left: 50%;z-index: -1;}#sk-container-id-1 div.sk-parallel-item {display: flex;flex-direction: column;z-index: 1;position: relative;background-color: white;}#sk-container-id-1 div.sk-parallel-item:first-child::after {align-self: flex-end;width: 50%;}#sk-container-id-1 div.sk-parallel-item:last-child::after {align-self: flex-start;width: 50%;}#sk-container-id-1 div.sk-parallel-item:only-child::after {width: 0;}#sk-container-id-1 div.sk-dashed-wrapped {border: 1px dashed gray;margin: 0 0.4em 0.5em 0.4em;box-sizing: border-box;padding-bottom: 0.4em;background-color: white;}#sk-container-id-1 div.sk-label label {font-family: monospace;font-weight: bold;display: inline-block;line-height: 1.2em;}#sk-container-id-1 div.sk-label-container {text-align: center;}#sk-container-id-1 div.sk-container {/* jupyter's `normalize.less` sets `[hidden] { display: none; }` but bootstrap.min.css set `[hidden] { display: none !important; }` so we also need the `!important` here to be able to override the default hidden behavior on the sphinx rendered scikit-learn.org. See: https://github.com/scikit-learn/scikit-learn/issues/21755 */display: inline-block !important;position: relative;}#sk-container-id-1 div.sk-text-repr-fallback {display: none;}</style><div id=\"sk-container-id-1\" class=\"sk-top-container\"><div class=\"sk-text-repr-fallback\"><pre>DecisionTreeClassifier(random_state=101)</pre><b>In a Jupyter environment, please rerun this cell to show the HTML representation or trust the notebook. <br />On GitHub, the HTML representation is unable to render, please try loading this page with nbviewer.org.</b></div><div class=\"sk-container\" hidden><div class=\"sk-item\"><div class=\"sk-estimator sk-toggleable\"><input class=\"sk-toggleable__control sk-hidden--visually\" id=\"sk-estimator-id-1\" type=\"checkbox\" checked><label for=\"sk-estimator-id-1\" class=\"sk-toggleable__label sk-toggleable__label-arrow\">DecisionTreeClassifier</label><div class=\"sk-toggleable__content\"><pre>DecisionTreeClassifier(random_state=101)</pre></div></div></div></div></div>"
      ],
      "text/plain": [
       "DecisionTreeClassifier(random_state=101)"
      ]
     },
     "execution_count": 9,
     "metadata": {},
     "output_type": "execute_result"
    },
    {
     "data": {
      "text/plain": [
       "'\\n# Validação cruzada (K Fold)\\nfrom sklearn.svm import SVC\\n\\ncross_valid_model = SVC(random_state=2021)\\nscoresSVC = cross_val_score(cross_valid_model, X, np.ravel(y), cv=2)\\n\\nscoresSVC\\n'"
      ]
     },
     "execution_count": 9,
     "metadata": {},
     "output_type": "execute_result"
    },
    {
     "name": "stdout",
     "output_type": "stream",
     "text": [
      "Accuracy de 0.90 com um desvio padrão de 0.01\n"
     ]
    }
   ],
   "source": [
    "clf = DecisionTreeClassifier(random_state=SEED)\n",
    "\n",
    "clf.fit(X_train, y_train)\n",
    "\n",
    "scoresDT = cross_val_score(clf, X, y, cv=5)\n",
    "\n",
    "\"\"\"\n",
    "# Validação cruzada (K Fold)\n",
    "from sklearn.svm import SVC\n",
    "\n",
    "cross_valid_model = SVC(random_state=2021)\n",
    "scoresSVC = cross_val_score(cross_valid_model, X, np.ravel(y), cv=2)\n",
    "\n",
    "scoresSVC\n",
    "\"\"\"\n",
    "print(\"Accuracy de %0.2f com um desvio padrão de %0.2f\" % (scoresDT.mean(), scoresDT.std()))"
   ]
  },
  {
   "cell_type": "markdown",
   "metadata": {},
   "source": [
    "#### Obter as previsões"
   ]
  },
  {
   "cell_type": "code",
   "execution_count": 10,
   "metadata": {
    "collapsed": false,
    "jupyter": {
     "outputs_hidden": false
    }
   },
   "outputs": [],
   "source": [
    "predictions = clf.predict(X_test)"
   ]
  },
  {
   "cell_type": "code",
   "execution_count": 11,
   "metadata": {
    "collapsed": false,
    "jupyter": {
     "outputs_hidden": false
    }
   },
   "outputs": [
    {
     "data": {
      "text/plain": [
       "<sklearn.metrics._plot.confusion_matrix.ConfusionMatrixDisplay at 0x108068d10>"
      ]
     },
     "execution_count": 11,
     "metadata": {},
     "output_type": "execute_result"
    },
    {
     "data": {
      "image/png": "[encoded data removed]",
      "text/plain": [
       "<Figure size 640x480 with 2 Axes>"
      ]
     },
     "metadata": {},
     "output_type": "display_data"
    }
   ],
   "source": [
    "cm = confusion_matrix(y_test, predictions)\n",
    "# TP FP\n",
    "# FN TN\n",
    "disp = ConfusionMatrixDisplay(cm)\n",
    "\n",
    "disp.plot()"
   ]
  },
  {
   "cell_type": "code",
   "execution_count": 12,
   "metadata": {
    "collapsed": false,
    "jupyter": {
     "outputs_hidden": false
    }
   },
   "outputs": [
    {
     "data": {
      "text/plain": [
       "0.895"
      ]
     },
     "execution_count": 12,
     "metadata": {},
     "output_type": "execute_result"
    },
    {
     "data": {
      "text/plain": [
       "0.895"
      ]
     },
     "execution_count": 12,
     "metadata": {},
     "output_type": "execute_result"
    },
    {
     "data": {
      "text/plain": [
       "0.895"
      ]
     },
     "execution_count": 12,
     "metadata": {},
     "output_type": "execute_result"
    }
   ],
   "source": [
    "accuracy_score(y_test, predictions)\n",
    "# (TP + TN) / (TP + FP + FN + TN)\n",
    "\n",
    "precision_score(y_test, predictions, average='micro')\n",
    "# TP / (TP + FP)\n",
    "\n",
    "recall_score(y_test, predictions, average='micro')\n",
    "# TP / (TP + FN)"
   ]
  },
  {
   "cell_type": "markdown",
   "metadata": {},
   "source": [
    "# Reading the test dataset"
   ]
  },
  {
   "cell_type": "code",
   "execution_count": 13,
   "metadata": {
    "collapsed": false,
    "jupyter": {
     "outputs_hidden": false
    }
   },
   "outputs": [
    {
     "data": {
      "text/html": [
       "<div>\n",
       "<style scoped>\n",
       "    .dataframe tbody tr th:only-of-type {\n",
       "        vertical-align: middle;\n",
       "    }\n",
       "\n",
       "    .dataframe tbody tr th {\n",
       "        vertical-align: top;\n",
       "    }\n",
       "\n",
       "    .dataframe thead th {\n",
       "        text-align: right;\n",
       "    }\n",
       "</style>\n",
       "<table border=\"1\" class=\"dataframe\">\n",
       "  <thead>\n",
       "    <tr style=\"text-align: right;\">\n",
       "      <th></th>\n",
       "      <th>city_name</th>\n",
       "      <th>magnitude_of_delay</th>\n",
       "      <th>delay_in_seconds</th>\n",
       "      <th>affected_roads</th>\n",
       "      <th>record_date</th>\n",
       "      <th>luminosity</th>\n",
       "      <th>avg_temperature</th>\n",
       "      <th>avg_atm_pressure</th>\n",
       "      <th>avg_humidity</th>\n",
       "      <th>avg_wind_speed</th>\n",
       "      <th>avg_precipitation</th>\n",
       "      <th>avg_rain</th>\n",
       "    </tr>\n",
       "  </thead>\n",
       "  <tbody>\n",
       "    <tr>\n",
       "      <th>0</th>\n",
       "      <td>Guimaraes</td>\n",
       "      <td>UNDEFINED</td>\n",
       "      <td>1211</td>\n",
       "      <td>N101,N101,N101,N101,N101,N101,</td>\n",
       "      <td>2021-04-13 19:00</td>\n",
       "      <td>LIGHT</td>\n",
       "      <td>15.0</td>\n",
       "      <td>1018.0</td>\n",
       "      <td>80.0</td>\n",
       "      <td>0.0</td>\n",
       "      <td>0.0</td>\n",
       "      <td>Sem Chuva</td>\n",
       "    </tr>\n",
       "    <tr>\n",
       "      <th>1</th>\n",
       "      <td>Guimaraes</td>\n",
       "      <td>UNDEFINED</td>\n",
       "      <td>0</td>\n",
       "      <td>N101,N101,N101,N101,N101</td>\n",
       "      <td>2021-10-13 04:00</td>\n",
       "      <td>DARK</td>\n",
       "      <td>16.0</td>\n",
       "      <td>1018.0</td>\n",
       "      <td>41.0</td>\n",
       "      <td>2.0</td>\n",
       "      <td>0.0</td>\n",
       "      <td>Sem Chuva</td>\n",
       "    </tr>\n",
       "    <tr>\n",
       "      <th>2</th>\n",
       "      <td>Guimaraes</td>\n",
       "      <td>UNDEFINED</td>\n",
       "      <td>0</td>\n",
       "      <td>N101,N101,N101,N101,N101</td>\n",
       "      <td>2021-07-18 19:00</td>\n",
       "      <td>LIGHT</td>\n",
       "      <td>22.0</td>\n",
       "      <td>1017.0</td>\n",
       "      <td>71.0</td>\n",
       "      <td>0.0</td>\n",
       "      <td>0.0</td>\n",
       "      <td>Sem Chuva</td>\n",
       "    </tr>\n",
       "    <tr>\n",
       "      <th>3</th>\n",
       "      <td>Guimaraes</td>\n",
       "      <td>UNDEFINED</td>\n",
       "      <td>140</td>\n",
       "      <td>N101,R206,N101,N101,N101,N101</td>\n",
       "      <td>2021-10-30 15:00</td>\n",
       "      <td>LIGHT</td>\n",
       "      <td>18.0</td>\n",
       "      <td>1008.0</td>\n",
       "      <td>81.0</td>\n",
       "      <td>3.0</td>\n",
       "      <td>0.0</td>\n",
       "      <td>Sem Chuva</td>\n",
       "    </tr>\n",
       "    <tr>\n",
       "      <th>4</th>\n",
       "      <td>Guimaraes</td>\n",
       "      <td>UNDEFINED</td>\n",
       "      <td>0</td>\n",
       "      <td>N101,N101,N101,N101,N101</td>\n",
       "      <td>2021-10-18 10:00</td>\n",
       "      <td>LIGHT</td>\n",
       "      <td>20.0</td>\n",
       "      <td>1022.0</td>\n",
       "      <td>86.0</td>\n",
       "      <td>0.0</td>\n",
       "      <td>0.0</td>\n",
       "      <td>Sem Chuva</td>\n",
       "    </tr>\n",
       "  </tbody>\n",
       "</table>\n",
       "</div>"
      ],
      "text/plain": [
       "   city_name magnitude_of_delay  delay_in_seconds  \\\n",
       "0  Guimaraes          UNDEFINED              1211   \n",
       "1  Guimaraes          UNDEFINED                 0   \n",
       "2  Guimaraes          UNDEFINED                 0   \n",
       "3  Guimaraes          UNDEFINED               140   \n",
       "4  Guimaraes          UNDEFINED                 0   \n",
       "\n",
       "                   affected_roads       record_date luminosity  \\\n",
       "0  N101,N101,N101,N101,N101,N101,  2021-04-13 19:00      LIGHT   \n",
       "1        N101,N101,N101,N101,N101  2021-10-13 04:00       DARK   \n",
       "2        N101,N101,N101,N101,N101  2021-07-18 19:00      LIGHT   \n",
       "3   N101,R206,N101,N101,N101,N101  2021-10-30 15:00      LIGHT   \n",
       "4        N101,N101,N101,N101,N101  2021-10-18 10:00      LIGHT   \n",
       "\n",
       "   avg_temperature  avg_atm_pressure  avg_humidity  avg_wind_speed  \\\n",
       "0             15.0            1018.0          80.0             0.0   \n",
       "1             16.0            1018.0          41.0             2.0   \n",
       "2             22.0            1017.0          71.0             0.0   \n",
       "3             18.0            1008.0          81.0             3.0   \n",
       "4             20.0            1022.0          86.0             0.0   \n",
       "\n",
       "   avg_precipitation   avg_rain  \n",
       "0                0.0  Sem Chuva  \n",
       "1                0.0  Sem Chuva  \n",
       "2                0.0  Sem Chuva  \n",
       "3                0.0  Sem Chuva  \n",
       "4                0.0  Sem Chuva  "
      ]
     },
     "execution_count": 13,
     "metadata": {},
     "output_type": "execute_result"
    },
    {
     "name": "stdout",
     "output_type": "stream",
     "text": [
      "<class 'pandas.core.frame.DataFrame'>\n",
      "RangeIndex: 1206 entries, 0 to 1205\n",
      "Data columns (total 12 columns):\n",
      " #   Column              Non-Null Count  Dtype  \n",
      "---  ------              --------------  -----  \n",
      " 0   city_name           1206 non-null   object \n",
      " 1   magnitude_of_delay  1206 non-null   object \n",
      " 2   delay_in_seconds    1206 non-null   int64  \n",
      " 3   affected_roads      1184 non-null   object \n",
      " 4   record_date         1206 non-null   object \n",
      " 5   luminosity          1206 non-null   object \n",
      " 6   avg_temperature     1206 non-null   float64\n",
      " 7   avg_atm_pressure    1206 non-null   float64\n",
      " 8   avg_humidity        1206 non-null   float64\n",
      " 9   avg_wind_speed      1206 non-null   float64\n",
      " 10  avg_precipitation   1206 non-null   float64\n",
      " 11  avg_rain            1206 non-null   object \n",
      "dtypes: float64(5), int64(1), object(6)\n",
      "memory usage: 113.2+ KB\n"
     ]
    },
    {
     "data": {
      "text/html": [
       "<div>\n",
       "<style scoped>\n",
       "    .dataframe tbody tr th:only-of-type {\n",
       "        vertical-align: middle;\n",
       "    }\n",
       "\n",
       "    .dataframe tbody tr th {\n",
       "        vertical-align: top;\n",
       "    }\n",
       "\n",
       "    .dataframe thead th {\n",
       "        text-align: right;\n",
       "    }\n",
       "</style>\n",
       "<table border=\"1\" class=\"dataframe\">\n",
       "  <thead>\n",
       "    <tr style=\"text-align: right;\">\n",
       "      <th></th>\n",
       "      <th>delay_in_seconds</th>\n",
       "      <th>avg_temperature</th>\n",
       "      <th>avg_atm_pressure</th>\n",
       "      <th>avg_humidity</th>\n",
       "      <th>avg_wind_speed</th>\n",
       "      <th>avg_precipitation</th>\n",
       "    </tr>\n",
       "  </thead>\n",
       "  <tbody>\n",
       "    <tr>\n",
       "      <th>count</th>\n",
       "      <td>1206.000000</td>\n",
       "      <td>1206.000000</td>\n",
       "      <td>1206.000000</td>\n",
       "      <td>1206.000000</td>\n",
       "      <td>1206.000000</td>\n",
       "      <td>1206.0</td>\n",
       "    </tr>\n",
       "    <tr>\n",
       "      <th>mean</th>\n",
       "      <td>565.080431</td>\n",
       "      <td>14.649254</td>\n",
       "      <td>1018.024876</td>\n",
       "      <td>73.865672</td>\n",
       "      <td>1.332504</td>\n",
       "      <td>0.0</td>\n",
       "    </tr>\n",
       "    <tr>\n",
       "      <th>std</th>\n",
       "      <td>1584.544376</td>\n",
       "      <td>4.691180</td>\n",
       "      <td>5.338753</td>\n",
       "      <td>17.202341</td>\n",
       "      <td>1.337510</td>\n",
       "      <td>0.0</td>\n",
       "    </tr>\n",
       "    <tr>\n",
       "      <th>min</th>\n",
       "      <td>0.000000</td>\n",
       "      <td>2.000000</td>\n",
       "      <td>999.000000</td>\n",
       "      <td>7.000000</td>\n",
       "      <td>0.000000</td>\n",
       "      <td>0.0</td>\n",
       "    </tr>\n",
       "    <tr>\n",
       "      <th>25%</th>\n",
       "      <td>0.000000</td>\n",
       "      <td>11.000000</td>\n",
       "      <td>1015.000000</td>\n",
       "      <td>62.000000</td>\n",
       "      <td>0.000000</td>\n",
       "      <td>0.0</td>\n",
       "    </tr>\n",
       "    <tr>\n",
       "      <th>50%</th>\n",
       "      <td>0.000000</td>\n",
       "      <td>14.000000</td>\n",
       "      <td>1018.000000</td>\n",
       "      <td>77.000000</td>\n",
       "      <td>1.000000</td>\n",
       "      <td>0.0</td>\n",
       "    </tr>\n",
       "    <tr>\n",
       "      <th>75%</th>\n",
       "      <td>268.750000</td>\n",
       "      <td>18.000000</td>\n",
       "      <td>1022.000000</td>\n",
       "      <td>90.000000</td>\n",
       "      <td>2.000000</td>\n",
       "      <td>0.0</td>\n",
       "    </tr>\n",
       "    <tr>\n",
       "      <th>max</th>\n",
       "      <td>14866.000000</td>\n",
       "      <td>30.000000</td>\n",
       "      <td>1031.000000</td>\n",
       "      <td>100.000000</td>\n",
       "      <td>9.000000</td>\n",
       "      <td>0.0</td>\n",
       "    </tr>\n",
       "  </tbody>\n",
       "</table>\n",
       "</div>"
      ],
      "text/plain": [
       "       delay_in_seconds  avg_temperature  avg_atm_pressure  avg_humidity  \\\n",
       "count       1206.000000      1206.000000       1206.000000   1206.000000   \n",
       "mean         565.080431        14.649254       1018.024876     73.865672   \n",
       "std         1584.544376         4.691180          5.338753     17.202341   \n",
       "min            0.000000         2.000000        999.000000      7.000000   \n",
       "25%            0.000000        11.000000       1015.000000     62.000000   \n",
       "50%            0.000000        14.000000       1018.000000     77.000000   \n",
       "75%          268.750000        18.000000       1022.000000     90.000000   \n",
       "max        14866.000000        30.000000       1031.000000    100.000000   \n",
       "\n",
       "       avg_wind_speed  avg_precipitation  \n",
       "count     1206.000000             1206.0  \n",
       "mean         1.332504                0.0  \n",
       "std          1.337510                0.0  \n",
       "min          0.000000                0.0  \n",
       "25%          0.000000                0.0  \n",
       "50%          1.000000                0.0  \n",
       "75%          2.000000                0.0  \n",
       "max          9.000000                0.0  "
      ]
     },
     "execution_count": 13,
     "metadata": {},
     "output_type": "execute_result"
    }
   ],
   "source": [
    "test_df.head()\n",
    "test_df.info()\n",
    "test_df.describe()"
   ]
  },
  {
   "cell_type": "code",
   "execution_count": 14,
   "metadata": {
    "collapsed": false,
    "jupyter": {
     "outputs_hidden": false
    }
   },
   "outputs": [],
   "source": [
    "X = decision_tree_data_preparation(test_df)"
   ]
  },
  {
   "cell_type": "markdown",
   "metadata": {},
   "source": [
    "# Getting the predictions"
   ]
  },
  {
   "cell_type": "code",
   "execution_count": 15,
   "metadata": {
    "collapsed": false,
    "jupyter": {
     "outputs_hidden": false
    }
   },
   "outputs": [],
   "source": [
    "predictions = clf.predict(X)\n",
    "\n",
    "predictions_df = pd.DataFrame(predictions)\n",
    "\n",
    "predictions_df.index += 1\n",
    "\n",
    "predictions_df.to_csv(\"submission.csv\", header=['Incidents'], index_label='RowId')"
   ]
  }
 ],
 "metadata": {
  "kernelspec": {
   "display_name": "Python 3 (ipykernel)",
   "language": "python",
   "name": "python3"
  },
  "language_info": {
   "codemirror_mode": {
    "name": "ipython",
    "version": 3
   },
   "file_extension": ".py",
   "mimetype": "text/x-python",
   "name": "python",
   "nbconvert_exporter": "python",
   "pygments_lexer": "ipython3",
   "version": "3.11.0"
  },
  "vscode": {
   "interpreter": {
    "hash": "aee8b7b246df8f9039afb4144a1f6fd8d2ca17a180786b69acc140d282b71a49"
   }
  }
 },
 "nbformat": 4,
 "nbformat_minor": 4
}
