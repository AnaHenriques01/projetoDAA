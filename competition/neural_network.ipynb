{
 "cells": [
  {
   "cell_type": "markdown",
   "source": [
    "# Imports"
   ],
   "metadata": {
    "collapsed": false
   }
  },
  {
   "cell_type": "code",
   "execution_count": 3,
   "outputs": [
    {
     "name": "stdout",
     "output_type": "stream",
     "text": [
      "2.9.1\n"
     ]
    }
   ],
   "source": [
    "import pandas as pd\n",
    "import numpy as np\n",
    "import matplotlib.pyplot as plt\n",
    "import seaborn as sns\n",
    "import time\n",
    "\n",
    "from sklearn.model_selection import train_test_split\n",
    "from sklearn.model_selection import cross_val_score\n",
    "\n",
    "from sklearn.tree import DecisionTreeClassifier\n",
    "from sklearn.tree import DecisionTreeRegressor\n",
    "\n",
    "from sklearn.metrics import confusion_matrix, ConfusionMatrixDisplay\n",
    "from sklearn.metrics import recall_score\n",
    "from sklearn.metrics import accuracy_score\n",
    "from sklearn.metrics import precision_score\n",
    "from sklearn.metrics import roc_curve\n",
    "from sklearn.metrics import f1_score\n",
    "from sklearn.metrics import fbeta_score\n",
    "from sklearn.metrics import mean_absolute_error\n",
    "from sklearn.metrics import mean_squared_error\n",
    "\n",
    "import tensorflow as tf\n",
    "from tensorflow.python.keras.models import Sequential\n",
    "from tensorflow.python.keras.layers import Dense, Dropout\n",
    "from tensorflow.python.keras.losses import SparseCategoricalCrossentropy\n",
    "from tensorflow.python.keras.wrappers.scikit_learn import KerasRegressor\n",
    "from sklearn.model_selection import GridSearchCV, KFold, train_test_split\n",
    "from sklearn.preprocessing import MinMaxScaler\n",
    "\n",
    "from sklearn.model_selection import train_test_split\n",
    "\n",
    "% matplotlib inline\n",
    "\n",
    "print(tf.__version__)\n"
   ],
   "metadata": {
    "collapsed": false
   }
  },
  {
   "cell_type": "code",
   "execution_count": 6,
   "outputs": [
    {
     "name": "stdout",
     "output_type": "stream",
     "text": [
      "Collecting git+https://github.com/tensorflow/docs\n",
      "  Cloning https://github.com/tensorflow/docs to c:\\users\\gonca\\appdata\\local\\temp\\pip-req-build-en9nkq6u\n",
      "  Resolved https://github.com/tensorflow/docs to commit b8d090113861d46bf007c087c089cb8442d41060\n",
      "  Preparing metadata (setup.py): started\n",
      "  Preparing metadata (setup.py): finished with status 'done'\n",
      "Requirement already satisfied: astor in c:\\users\\gonca\\.conda\\envs\\daa\\lib\\site-packages (from tensorflow-docs==0.0.0.dev0) (0.8.1)\n",
      "Requirement already satisfied: absl-py in c:\\users\\gonca\\.conda\\envs\\daa\\lib\\site-packages (from tensorflow-docs==0.0.0.dev0) (1.3.0)\n",
      "Requirement already satisfied: jinja2 in c:\\users\\gonca\\.conda\\envs\\daa\\lib\\site-packages (from tensorflow-docs==0.0.0.dev0) (3.1.2)\n",
      "Requirement already satisfied: nbformat in c:\\users\\gonca\\.conda\\envs\\daa\\lib\\site-packages (from tensorflow-docs==0.0.0.dev0) (5.6.1)\n",
      "Requirement already satisfied: protobuf<3.20,>=3.12.0 in c:\\users\\gonca\\.conda\\envs\\daa\\lib\\site-packages (from tensorflow-docs==0.0.0.dev0) (3.19.6)\n",
      "Requirement already satisfied: pyyaml in c:\\users\\gonca\\.conda\\envs\\daa\\lib\\site-packages (from tensorflow-docs==0.0.0.dev0) (6.0)\n",
      "Requirement already satisfied: MarkupSafe>=2.0 in c:\\users\\gonca\\.conda\\envs\\daa\\lib\\site-packages (from jinja2->tensorflow-docs==0.0.0.dev0) (2.1.1)\n",
      "Requirement already satisfied: traitlets>=5.1 in c:\\users\\gonca\\.conda\\envs\\daa\\lib\\site-packages (from nbformat->tensorflow-docs==0.0.0.dev0) (5.4.0)\n",
      "Requirement already satisfied: jupyter-core in c:\\users\\gonca\\.conda\\envs\\daa\\lib\\site-packages (from nbformat->tensorflow-docs==0.0.0.dev0) (4.11.1)\n",
      "Requirement already satisfied: fastjsonschema in c:\\users\\gonca\\.conda\\envs\\daa\\lib\\site-packages (from nbformat->tensorflow-docs==0.0.0.dev0) (2.16.2)\n",
      "Requirement already satisfied: jsonschema>=2.6 in c:\\users\\gonca\\.conda\\envs\\daa\\lib\\site-packages (from nbformat->tensorflow-docs==0.0.0.dev0) (4.16.0)\n",
      "Requirement already satisfied: attrs>=17.4.0 in c:\\users\\gonca\\.conda\\envs\\daa\\lib\\site-packages (from jsonschema>=2.6->nbformat->tensorflow-docs==0.0.0.dev0) (22.1.0)\n",
      "Requirement already satisfied: pyrsistent!=0.17.0,!=0.17.1,!=0.17.2,>=0.14.0 in c:\\users\\gonca\\.conda\\envs\\daa\\lib\\site-packages (from jsonschema>=2.6->nbformat->tensorflow-docs==0.0.0.dev0) (0.18.1)\n",
      "Requirement already satisfied: pywin32>=1.0 in c:\\users\\gonca\\.conda\\envs\\daa\\lib\\site-packages (from jupyter-core->nbformat->tensorflow-docs==0.0.0.dev0) (303)\n"
     ]
    },
    {
     "name": "stderr",
     "output_type": "stream",
     "text": [
      "  Running command git clone --filter=blob:none --quiet https://github.com/tensorflow/docs 'C:\\Users\\gonca\\AppData\\Local\\Temp\\pip-req-build-en9nkq6u'\n"
     ]
    }
   ],
   "source": [
    "!pip install git+https: // github.com / tensorflow / docs\n",
    "\n",
    "import tensorflow_docs as tfdocs\n",
    "import tensorflow_docs.modeling\n",
    "import tensorflow_docs.plots"
   ],
   "metadata": {
    "collapsed": false
   }
  },
  {
   "cell_type": "markdown",
   "source": [
    "# Carregamento de dados"
   ],
   "metadata": {
    "collapsed": false
   }
  },
  {
   "cell_type": "code",
   "execution_count": 4,
   "outputs": [],
   "source": [
    "TRAINING_DATASET_SOURCE = 'training_data.csv'\n",
    "TEST_DATASET_SOURCE = 'test_data.csv'\n",
    "\n",
    "train_df = pd.read_csv(TRAINING_DATASET_SOURCE)\n",
    "test_df = pd.read_csv(TEST_DATASET_SOURCE)"
   ],
   "metadata": {
    "collapsed": false
   }
  },
  {
   "cell_type": "markdown",
   "source": [
    "# SEED utilizada"
   ],
   "metadata": {
    "collapsed": false
   }
  },
  {
   "cell_type": "code",
   "execution_count": 5,
   "outputs": [],
   "source": [
    "SEED = 101"
   ],
   "metadata": {
    "collapsed": false
   }
  },
  {
   "cell_type": "markdown",
   "source": [
    "# Preparação dos dados"
   ],
   "metadata": {
    "collapsed": false
   }
  },
  {
   "cell_type": "code",
   "execution_count": 51,
   "outputs": [],
   "source": [
    "\n",
    "#### Data Preparation\n",
    "def neural_network_data_preparation(df: pd.DataFrame) -> pd.DataFrame:\n",
    "    dropped_columns = ['city_name', 'magnitude_of_delay', 'avg_precipitation']\n",
    "\n",
    "    prep_df = df.drop(dropped_columns, axis=1)\n",
    "\n",
    "    ### Agrupar em 2 bins a feature 'avg_rain'\n",
    "    prep_df.loc[prep_df['avg_rain'] == 'Sem Chuva', 'rain'] = 0\n",
    "    prep_df.loc[prep_df['avg_rain'] != 'Sem Chuva', 'rain'] = 1\n",
    "\n",
    "    prep_df.drop(columns=['avg_rain'], inplace=True)\n",
    "\n",
    "    ### Agrupar em 2 bins a feature 'delay_in_seconds'\n",
    "    prep_df.loc[prep_df['delay_in_seconds'] == 0, 'delay'] = 0  # 'NONE'\n",
    "    prep_df.loc[prep_df['delay_in_seconds'] >= 1, 'delay'] = 1  # 'DELAYED'\n",
    "\n",
    "    prep_df.drop(columns=['delay_in_seconds'], inplace=True)\n",
    "\n",
    "    ### Agrupar em 3 bins a feature 'luminosity'\n",
    "    prep_df.loc[prep_df['luminosity'] == 'LOW_LIGHT', 'luminosity_binned'] = 0\n",
    "    prep_df.loc[prep_df['luminosity'] == 'LIGHT', 'luminosity_binned'] = 1\n",
    "    prep_df.loc[prep_df['luminosity'] == 'DARK', 'luminosity_binned'] = 2\n",
    "\n",
    "    prep_df.drop(columns=['luminosity'], inplace=True)\n",
    "\n",
    "    ### Extrair a hora e dia da semana da feature 'record_date'\n",
    "    record_date = pd.DatetimeIndex(prep_df['record_date'])\n",
    "\n",
    "    prep_df['record_date_hour'] = record_date.hour\n",
    "    prep_df['record_date_day'] = record_date.day\n",
    "    prep_df['record_date_month'] = record_date.month\n",
    "    prep_df['record_date_weekday'] = record_date.weekday\n",
    "\n",
    "    prep_df.drop(columns=['record_date'], inplace=True)\n",
    "\n",
    "    ### Agrupar em 3 bins a feature 'avg_temperature'\n",
    "\n",
    "    prep_df.loc[prep_df['avg_temperature'].between(0, 10, 'right'), 'temperature'] = 0  #'LOW'\n",
    "    prep_df.loc[prep_df['avg_temperature'].between(10, 19, 'both'), 'temperature'] = 1  #'MEAN'\n",
    "    prep_df.loc[prep_df['avg_temperature'].between(19, 35, 'right'), 'temperature'] = 2  #'HIGH'\n",
    "\n",
    "    prep_df.drop(columns=['avg_temperature'], inplace=True)\n",
    "\n",
    "    ### Quantificar a feature 'affected_roads' para o número único de estradas afetadas\n",
    "    road_quantity = []\n",
    "    for line in prep_df['affected_roads']:\n",
    "        res = set(str(line).split(','))\n",
    "        res2 = [elem for elem in res if elem != '']\n",
    "        count = len(res2)\n",
    "        road_quantity.append(count)\n",
    "\n",
    "    prep_df['affected_roads'] = road_quantity\n",
    "\n",
    "    ### (?) Remover outliers da feature 'avg_wind_speed'\n",
    "\n",
    "    # outliers = train_df[\"avg_wind_speed\"].quantile(8.0)\n",
    "    # X.drop(X[X['avg_wind_speed'] >= 8.0].index, inplace=True)\n",
    "\n",
    "    ### Target\n",
    "    if 'incidents' in prep_df.columns:\n",
    "        prep_df.loc[prep_df['incidents'] == 'None', 'incidents_binned'] = 0  # 'None'\n",
    "        prep_df.loc[prep_df['incidents'] == 'Low', 'incidents_binned'] = 1  # 'Low'\n",
    "        prep_df.loc[prep_df['incidents'] == 'Medium', 'incidents_binned'] = 2  # 'Medium'\n",
    "        prep_df.loc[prep_df['incidents'] == 'High', 'incidents_binned'] = 3  #'High'\n",
    "        prep_df.loc[prep_df['incidents'] == 'Very_High', 'incidents_binned'] = 4  #'Very_High'\n",
    "\n",
    "        prep_df.drop(columns=['incidents'], inplace=True)\n",
    "\n",
    "    return prep_df"
   ],
   "metadata": {
    "collapsed": false
   }
  },
  {
   "cell_type": "code",
   "execution_count": 52,
   "outputs": [
    {
     "name": "stderr",
     "output_type": "stream",
     "text": [
      "C:\\Users\\gonca\\.conda\\envs\\DAA\\lib\\site-packages\\sklearn\\base.py:493: FutureWarning: The feature names should match those that were passed during fit. Starting version 1.2, an error will be raised.\n",
      "Feature names seen at fit time, yet now missing:\n",
      "- incidents_binned\n",
      "\n",
      "  warnings.warn(message, FutureWarning)\n"
     ]
    },
    {
     "ename": "ValueError",
     "evalue": "X has 12 features, but MinMaxScaler is expecting 13 features as input.",
     "output_type": "error",
     "traceback": [
      "\u001B[1;31m---------------------------------------------------------------------------\u001B[0m",
      "\u001B[1;31mValueError\u001B[0m                                Traceback (most recent call last)",
      "Cell \u001B[1;32mIn [52], line 1\u001B[0m\n\u001B[1;32m----> 1\u001B[0m X \u001B[38;5;241m=\u001B[39m neural_network_data_preparation(train_df)\n\u001B[0;32m      2\u001B[0m y \u001B[38;5;241m=\u001B[39m X[\u001B[38;5;124m'\u001B[39m\u001B[38;5;124mincidents_binned\u001B[39m\u001B[38;5;124m'\u001B[39m]\n\u001B[0;32m      4\u001B[0m X\u001B[38;5;241m.\u001B[39mdrop(columns\u001B[38;5;241m=\u001B[39m[\u001B[38;5;124m'\u001B[39m\u001B[38;5;124mincidents_binned\u001B[39m\u001B[38;5;124m'\u001B[39m], inplace\u001B[38;5;241m=\u001B[39m\u001B[38;5;28;01mTrue\u001B[39;00m)\n",
      "Cell \u001B[1;32mIn [51], line 70\u001B[0m, in \u001B[0;36mneural_network_data_preparation\u001B[1;34m(df)\u001B[0m\n\u001B[0;32m     67\u001B[0m     prep_df\u001B[38;5;241m.\u001B[39mdrop(columns\u001B[38;5;241m=\u001B[39m[\u001B[38;5;124m'\u001B[39m\u001B[38;5;124mincidents\u001B[39m\u001B[38;5;124m'\u001B[39m], inplace\u001B[38;5;241m=\u001B[39m\u001B[38;5;28;01mTrue\u001B[39;00m)\n\u001B[0;32m     69\u001B[0m scaler_X \u001B[38;5;241m=\u001B[39m MinMaxScaler(feature_range\u001B[38;5;241m=\u001B[39m(\u001B[38;5;241m0\u001B[39m, \u001B[38;5;241m1\u001B[39m))\u001B[38;5;241m.\u001B[39mfit(prep_df)\n\u001B[1;32m---> 70\u001B[0m prep_df \u001B[38;5;241m=\u001B[39m pd\u001B[38;5;241m.\u001B[39mDataFrame(\u001B[43mscaler_X\u001B[49m\u001B[38;5;241;43m.\u001B[39;49m\u001B[43mtransform\u001B[49m\u001B[43m(\u001B[49m\u001B[43mX\u001B[49m\u001B[43m[\u001B[49m\u001B[43mX\u001B[49m\u001B[38;5;241;43m.\u001B[39;49m\u001B[43mcolumns\u001B[49m\u001B[43m]\u001B[49m\u001B[43m)\u001B[49m, columns\u001B[38;5;241m=\u001B[39mX\u001B[38;5;241m.\u001B[39mcolumns)\n\u001B[0;32m     72\u001B[0m \u001B[38;5;28;01mreturn\u001B[39;00m prep_df\n",
      "File \u001B[1;32m~\\.conda\\envs\\DAA\\lib\\site-packages\\sklearn\\preprocessing\\_data.py:499\u001B[0m, in \u001B[0;36mMinMaxScaler.transform\u001B[1;34m(self, X)\u001B[0m\n\u001B[0;32m    485\u001B[0m \u001B[38;5;124;03m\"\"\"Scale features of X according to feature_range.\u001B[39;00m\n\u001B[0;32m    486\u001B[0m \n\u001B[0;32m    487\u001B[0m \u001B[38;5;124;03mParameters\u001B[39;00m\n\u001B[1;32m   (...)\u001B[0m\n\u001B[0;32m    495\u001B[0m \u001B[38;5;124;03m    Transformed data.\u001B[39;00m\n\u001B[0;32m    496\u001B[0m \u001B[38;5;124;03m\"\"\"\u001B[39;00m\n\u001B[0;32m    497\u001B[0m check_is_fitted(\u001B[38;5;28mself\u001B[39m)\n\u001B[1;32m--> 499\u001B[0m X \u001B[38;5;241m=\u001B[39m \u001B[38;5;28;43mself\u001B[39;49m\u001B[38;5;241;43m.\u001B[39;49m\u001B[43m_validate_data\u001B[49m\u001B[43m(\u001B[49m\n\u001B[0;32m    500\u001B[0m \u001B[43m    \u001B[49m\u001B[43mX\u001B[49m\u001B[43m,\u001B[49m\n\u001B[0;32m    501\u001B[0m \u001B[43m    \u001B[49m\u001B[43mcopy\u001B[49m\u001B[38;5;241;43m=\u001B[39;49m\u001B[38;5;28;43mself\u001B[39;49m\u001B[38;5;241;43m.\u001B[39;49m\u001B[43mcopy\u001B[49m\u001B[43m,\u001B[49m\n\u001B[0;32m    502\u001B[0m \u001B[43m    \u001B[49m\u001B[43mdtype\u001B[49m\u001B[38;5;241;43m=\u001B[39;49m\u001B[43mFLOAT_DTYPES\u001B[49m\u001B[43m,\u001B[49m\n\u001B[0;32m    503\u001B[0m \u001B[43m    \u001B[49m\u001B[43mforce_all_finite\u001B[49m\u001B[38;5;241;43m=\u001B[39;49m\u001B[38;5;124;43m\"\u001B[39;49m\u001B[38;5;124;43mallow-nan\u001B[39;49m\u001B[38;5;124;43m\"\u001B[39;49m\u001B[43m,\u001B[49m\n\u001B[0;32m    504\u001B[0m \u001B[43m    \u001B[49m\u001B[43mreset\u001B[49m\u001B[38;5;241;43m=\u001B[39;49m\u001B[38;5;28;43;01mFalse\u001B[39;49;00m\u001B[43m,\u001B[49m\n\u001B[0;32m    505\u001B[0m \u001B[43m\u001B[49m\u001B[43m)\u001B[49m\n\u001B[0;32m    507\u001B[0m X \u001B[38;5;241m*\u001B[39m\u001B[38;5;241m=\u001B[39m \u001B[38;5;28mself\u001B[39m\u001B[38;5;241m.\u001B[39mscale_\n\u001B[0;32m    508\u001B[0m X \u001B[38;5;241m+\u001B[39m\u001B[38;5;241m=\u001B[39m \u001B[38;5;28mself\u001B[39m\u001B[38;5;241m.\u001B[39mmin_\n",
      "File \u001B[1;32m~\\.conda\\envs\\DAA\\lib\\site-packages\\sklearn\\base.py:600\u001B[0m, in \u001B[0;36mBaseEstimator._validate_data\u001B[1;34m(self, X, y, reset, validate_separately, **check_params)\u001B[0m\n\u001B[0;32m    597\u001B[0m     out \u001B[38;5;241m=\u001B[39m X, y\n\u001B[0;32m    599\u001B[0m \u001B[38;5;28;01mif\u001B[39;00m \u001B[38;5;129;01mnot\u001B[39;00m no_val_X \u001B[38;5;129;01mand\u001B[39;00m check_params\u001B[38;5;241m.\u001B[39mget(\u001B[38;5;124m\"\u001B[39m\u001B[38;5;124mensure_2d\u001B[39m\u001B[38;5;124m\"\u001B[39m, \u001B[38;5;28;01mTrue\u001B[39;00m):\n\u001B[1;32m--> 600\u001B[0m     \u001B[38;5;28;43mself\u001B[39;49m\u001B[38;5;241;43m.\u001B[39;49m\u001B[43m_check_n_features\u001B[49m\u001B[43m(\u001B[49m\u001B[43mX\u001B[49m\u001B[43m,\u001B[49m\u001B[43m \u001B[49m\u001B[43mreset\u001B[49m\u001B[38;5;241;43m=\u001B[39;49m\u001B[43mreset\u001B[49m\u001B[43m)\u001B[49m\n\u001B[0;32m    602\u001B[0m \u001B[38;5;28;01mreturn\u001B[39;00m out\n",
      "File \u001B[1;32m~\\.conda\\envs\\DAA\\lib\\site-packages\\sklearn\\base.py:400\u001B[0m, in \u001B[0;36mBaseEstimator._check_n_features\u001B[1;34m(self, X, reset)\u001B[0m\n\u001B[0;32m    397\u001B[0m     \u001B[38;5;28;01mreturn\u001B[39;00m\n\u001B[0;32m    399\u001B[0m \u001B[38;5;28;01mif\u001B[39;00m n_features \u001B[38;5;241m!=\u001B[39m \u001B[38;5;28mself\u001B[39m\u001B[38;5;241m.\u001B[39mn_features_in_:\n\u001B[1;32m--> 400\u001B[0m     \u001B[38;5;28;01mraise\u001B[39;00m \u001B[38;5;167;01mValueError\u001B[39;00m(\n\u001B[0;32m    401\u001B[0m         \u001B[38;5;124mf\u001B[39m\u001B[38;5;124m\"\u001B[39m\u001B[38;5;124mX has \u001B[39m\u001B[38;5;132;01m{\u001B[39;00mn_features\u001B[38;5;132;01m}\u001B[39;00m\u001B[38;5;124m features, but \u001B[39m\u001B[38;5;132;01m{\u001B[39;00m\u001B[38;5;28mself\u001B[39m\u001B[38;5;241m.\u001B[39m\u001B[38;5;18m__class__\u001B[39m\u001B[38;5;241m.\u001B[39m\u001B[38;5;18m__name__\u001B[39m\u001B[38;5;132;01m}\u001B[39;00m\u001B[38;5;124m \u001B[39m\u001B[38;5;124m\"\u001B[39m\n\u001B[0;32m    402\u001B[0m         \u001B[38;5;124mf\u001B[39m\u001B[38;5;124m\"\u001B[39m\u001B[38;5;124mis expecting \u001B[39m\u001B[38;5;132;01m{\u001B[39;00m\u001B[38;5;28mself\u001B[39m\u001B[38;5;241m.\u001B[39mn_features_in_\u001B[38;5;132;01m}\u001B[39;00m\u001B[38;5;124m features as input.\u001B[39m\u001B[38;5;124m\"\u001B[39m\n\u001B[0;32m    403\u001B[0m     )\n",
      "\u001B[1;31mValueError\u001B[0m: X has 12 features, but MinMaxScaler is expecting 13 features as input."
     ]
    }
   ],
   "source": [
    "X = neural_network_data_preparation(train_df)\n",
    "y = X['incidents_binned']\n",
    "\n",
    "X.drop(columns=['incidents_binned'], inplace=True)"
   ],
   "metadata": {
    "collapsed": false
   }
  },
  {
   "cell_type": "code",
   "execution_count": 52,
   "outputs": [],
   "source": [
    "scaler_X = MinMaxScaler(feature_range=(0, 1)).fit(X)\n",
    "X_scaled = pd.DataFrame(scaler_X.transform(X[X.columns]), columns=X.columns)"
   ],
   "metadata": {
    "collapsed": false
   }
  },
  {
   "cell_type": "code",
   "execution_count": 9,
   "outputs": [
    {
     "data": {
      "text/plain": "(4000, 12)"
     },
     "execution_count": 9,
     "metadata": {},
     "output_type": "execute_result"
    }
   ],
   "source": [
    "X_train, X_test, y_train, y_test = train_test_split(X_scaled, y, test_size=0.2, random_state=SEED)"
   ],
   "metadata": {
    "collapsed": false
   }
  },
  {
   "cell_type": "markdown",
   "source": [
    "# Construção da estrutura da rede neuronal"
   ],
   "metadata": {
    "collapsed": false
   }
  },
  {
   "cell_type": "code",
   "execution_count": 17,
   "outputs": [],
   "source": [
    "def build_model(activation='relu', learning_rate=0.01):\n",
    "    # Create a sequential model (with three layers - last one is the output)\n",
    "    model = Sequential(\n",
    "        [\n",
    "            Dense(16, input_dim=12, activation=activation),\n",
    "            Dense(8, activation=activation),\n",
    "\n",
    "            # Output Layer\n",
    "            Dense(5, activation='sigmoid')\n",
    "            # Dense(1, activation='softmax')\n",
    "        ]\n",
    "    )\n",
    "\n",
    "    # Model compilation\n",
    "    model.compile(loss=SparseCategoricalCrossentropy(), optimizer='adam', metrics=['accuracy'])\n",
    "\n",
    "    return model\n"
   ],
   "metadata": {
    "collapsed": false
   }
  },
  {
   "cell_type": "code",
   "execution_count": 18,
   "outputs": [
    {
     "name": "stdout",
     "output_type": "stream",
     "text": [
      "Model: \"sequential_1\"\n",
      "_________________________________________________________________\n",
      "Layer (type)                 Output Shape              Param #   \n",
      "=================================================================\n",
      "dense_3 (Dense)              (None, 16)                208       \n",
      "_________________________________________________________________\n",
      "dense_4 (Dense)              (None, 8)                 136       \n",
      "_________________________________________________________________\n",
      "dense_5 (Dense)              (None, 5)                 45        \n",
      "=================================================================\n",
      "Total params: 389\n",
      "Trainable params: 389\n",
      "Non-trainable params: 0\n",
      "_________________________________________________________________\n"
     ]
    }
   ],
   "source": [
    "model = build_model()\n",
    "\n",
    "model.summary()"
   ],
   "metadata": {
    "collapsed": false
   }
  },
  {
   "cell_type": "code",
   "execution_count": 19,
   "outputs": [
    {
     "name": "stdout",
     "output_type": "stream",
     "text": [
      "Epoch 1/50\n",
      "200/200 [==============================] - 0s 2ms/step - loss: 1.4420 - accuracy: 0.4405 - val_loss: 1.3188 - val_accuracy: 0.5050\n",
      "Epoch 2/50\n",
      "200/200 [==============================] - 0s 1ms/step - loss: 1.2449 - accuracy: 0.5077 - val_loss: 1.1792 - val_accuracy: 0.5270\n",
      "Epoch 3/50\n",
      "200/200 [==============================] - 0s 1ms/step - loss: 1.1426 - accuracy: 0.5240 - val_loss: 1.1149 - val_accuracy: 0.5220\n",
      "Epoch 4/50\n",
      "200/200 [==============================] - 0s 1ms/step - loss: 1.0870 - accuracy: 0.5242 - val_loss: 1.0816 - val_accuracy: 0.5250\n",
      "Epoch 5/50\n",
      "200/200 [==============================] - 0s 1ms/step - loss: 1.0546 - accuracy: 0.5322 - val_loss: 1.0599 - val_accuracy: 0.5360\n",
      "Epoch 6/50\n",
      "200/200 [==============================] - 0s 1ms/step - loss: 1.0302 - accuracy: 0.5428 - val_loss: 1.0421 - val_accuracy: 0.5540\n",
      "Epoch 7/50\n",
      "200/200 [==============================] - 0s 976us/step - loss: 1.0132 - accuracy: 0.5570 - val_loss: 1.0248 - val_accuracy: 0.5720\n",
      "Epoch 8/50\n",
      "200/200 [==============================] - 0s 1ms/step - loss: 0.9967 - accuracy: 0.5753 - val_loss: 1.0067 - val_accuracy: 0.5560\n",
      "Epoch 9/50\n",
      "200/200 [==============================] - 0s 1ms/step - loss: 0.9827 - accuracy: 0.5882 - val_loss: 0.9941 - val_accuracy: 0.5700\n",
      "Epoch 10/50\n",
      "200/200 [==============================] - 0s 1ms/step - loss: 0.9684 - accuracy: 0.6072 - val_loss: 0.9771 - val_accuracy: 0.6130\n",
      "Epoch 11/50\n",
      "200/200 [==============================] - 0s 1ms/step - loss: 0.9545 - accuracy: 0.6242 - val_loss: 0.9603 - val_accuracy: 0.6290\n",
      "Epoch 12/50\n",
      "200/200 [==============================] - 0s 979us/step - loss: 0.9410 - accuracy: 0.6388 - val_loss: 0.9554 - val_accuracy: 0.6160\n",
      "Epoch 13/50\n",
      "200/200 [==============================] - 0s 1ms/step - loss: 0.9240 - accuracy: 0.6582 - val_loss: 0.9237 - val_accuracy: 0.6730\n",
      "Epoch 14/50\n",
      "200/200 [==============================] - 0s 1ms/step - loss: 0.9074 - accuracy: 0.6672 - val_loss: 0.9096 - val_accuracy: 0.6800\n",
      "Epoch 15/50\n",
      "200/200 [==============================] - 0s 1ms/step - loss: 0.8968 - accuracy: 0.6740 - val_loss: 0.8943 - val_accuracy: 0.6940\n",
      "Epoch 16/50\n",
      "200/200 [==============================] - 0s 1ms/step - loss: 0.8846 - accuracy: 0.6837 - val_loss: 0.8810 - val_accuracy: 0.6890\n",
      "Epoch 17/50\n",
      "200/200 [==============================] - 0s 1ms/step - loss: 0.8712 - accuracy: 0.6862 - val_loss: 0.8641 - val_accuracy: 0.6850\n",
      "Epoch 18/50\n",
      "200/200 [==============================] - 0s 1ms/step - loss: 0.8605 - accuracy: 0.6902 - val_loss: 0.8586 - val_accuracy: 0.6940\n",
      "Epoch 19/50\n",
      "200/200 [==============================] - 0s 1ms/step - loss: 0.8477 - accuracy: 0.6985 - val_loss: 0.8419 - val_accuracy: 0.7000\n",
      "Epoch 20/50\n",
      "200/200 [==============================] - 0s 1ms/step - loss: 0.8377 - accuracy: 0.7028 - val_loss: 0.8331 - val_accuracy: 0.6930\n",
      "Epoch 21/50\n",
      "200/200 [==============================] - 0s 1ms/step - loss: 0.8263 - accuracy: 0.7013 - val_loss: 0.8181 - val_accuracy: 0.7060\n",
      "Epoch 22/50\n",
      "200/200 [==============================] - 0s 1ms/step - loss: 0.8137 - accuracy: 0.7072 - val_loss: 0.8129 - val_accuracy: 0.7000\n",
      "Epoch 23/50\n",
      "200/200 [==============================] - 0s 1ms/step - loss: 0.8019 - accuracy: 0.7097 - val_loss: 0.8125 - val_accuracy: 0.6940\n",
      "Epoch 24/50\n",
      "200/200 [==============================] - 0s 971us/step - loss: 0.7968 - accuracy: 0.7103 - val_loss: 0.7893 - val_accuracy: 0.7140\n",
      "Epoch 25/50\n",
      "200/200 [==============================] - 0s 1ms/step - loss: 0.7882 - accuracy: 0.7105 - val_loss: 0.7825 - val_accuracy: 0.7170\n",
      "Epoch 26/50\n",
      "200/200 [==============================] - 0s 1ms/step - loss: 0.7823 - accuracy: 0.7163 - val_loss: 0.7761 - val_accuracy: 0.7150\n",
      "Epoch 27/50\n",
      "200/200 [==============================] - 0s 1ms/step - loss: 0.7749 - accuracy: 0.7185 - val_loss: 0.7814 - val_accuracy: 0.7170\n",
      "Epoch 28/50\n",
      "200/200 [==============================] - 0s 1ms/step - loss: 0.7687 - accuracy: 0.7207 - val_loss: 0.7662 - val_accuracy: 0.7140\n",
      "Epoch 29/50\n",
      "200/200 [==============================] - 0s 998us/step - loss: 0.7641 - accuracy: 0.7222 - val_loss: 0.7625 - val_accuracy: 0.7240\n",
      "Epoch 30/50\n",
      "200/200 [==============================] - 0s 1ms/step - loss: 0.7589 - accuracy: 0.7225 - val_loss: 0.7598 - val_accuracy: 0.7170\n",
      "Epoch 31/50\n",
      "200/200 [==============================] - 0s 971us/step - loss: 0.7540 - accuracy: 0.7243 - val_loss: 0.7591 - val_accuracy: 0.7140\n",
      "Epoch 32/50\n",
      "200/200 [==============================] - 0s 1ms/step - loss: 0.7487 - accuracy: 0.7270 - val_loss: 0.7491 - val_accuracy: 0.7200\n",
      "Epoch 33/50\n",
      "200/200 [==============================] - 0s 1ms/step - loss: 0.7462 - accuracy: 0.7255 - val_loss: 0.7448 - val_accuracy: 0.7220\n",
      "Epoch 34/50\n",
      "200/200 [==============================] - 0s 1ms/step - loss: 0.7400 - accuracy: 0.7297 - val_loss: 0.7410 - val_accuracy: 0.7200\n",
      "Epoch 35/50\n",
      "200/200 [==============================] - 0s 1ms/step - loss: 0.7361 - accuracy: 0.7287 - val_loss: 0.7335 - val_accuracy: 0.7290\n",
      "Epoch 36/50\n",
      "200/200 [==============================] - 0s 1ms/step - loss: 0.7317 - accuracy: 0.7385 - val_loss: 0.7306 - val_accuracy: 0.7310\n",
      "Epoch 37/50\n",
      "200/200 [==============================] - 0s 1ms/step - loss: 0.7268 - accuracy: 0.7362 - val_loss: 0.7308 - val_accuracy: 0.7210\n",
      "Epoch 38/50\n",
      "200/200 [==============================] - 0s 1ms/step - loss: 0.7250 - accuracy: 0.7340 - val_loss: 0.7216 - val_accuracy: 0.7290\n",
      "Epoch 39/50\n",
      "200/200 [==============================] - 0s 1ms/step - loss: 0.7214 - accuracy: 0.7337 - val_loss: 0.7175 - val_accuracy: 0.7340\n",
      "Epoch 40/50\n",
      "200/200 [==============================] - 0s 1ms/step - loss: 0.7175 - accuracy: 0.7405 - val_loss: 0.7273 - val_accuracy: 0.7200\n",
      "Epoch 41/50\n",
      "200/200 [==============================] - 0s 975us/step - loss: 0.7119 - accuracy: 0.7387 - val_loss: 0.7116 - val_accuracy: 0.7390\n",
      "Epoch 42/50\n",
      "200/200 [==============================] - 0s 1ms/step - loss: 0.7100 - accuracy: 0.7380 - val_loss: 0.7094 - val_accuracy: 0.7330\n",
      "Epoch 43/50\n",
      "200/200 [==============================] - 0s 1ms/step - loss: 0.7052 - accuracy: 0.7423 - val_loss: 0.7052 - val_accuracy: 0.7350\n",
      "Epoch 44/50\n",
      "200/200 [==============================] - 0s 1ms/step - loss: 0.7039 - accuracy: 0.7387 - val_loss: 0.7057 - val_accuracy: 0.7370\n",
      "Epoch 45/50\n",
      "200/200 [==============================] - 0s 1ms/step - loss: 0.7015 - accuracy: 0.7437 - val_loss: 0.7036 - val_accuracy: 0.7420\n",
      "Epoch 46/50\n",
      "200/200 [==============================] - 0s 1ms/step - loss: 0.6971 - accuracy: 0.7465 - val_loss: 0.6987 - val_accuracy: 0.7440\n",
      "Epoch 47/50\n",
      "200/200 [==============================] - 0s 1ms/step - loss: 0.6950 - accuracy: 0.7460 - val_loss: 0.6919 - val_accuracy: 0.7450\n",
      "Epoch 48/50\n",
      "200/200 [==============================] - 0s 971us/step - loss: 0.6948 - accuracy: 0.7445 - val_loss: 0.6954 - val_accuracy: 0.7430\n",
      "Epoch 49/50\n",
      "200/200 [==============================] - 0s 1ms/step - loss: 0.6895 - accuracy: 0.7498 - val_loss: 0.6886 - val_accuracy: 0.7500\n",
      "Epoch 50/50\n",
      "200/200 [==============================] - 0s 1ms/step - loss: 0.6871 - accuracy: 0.7462 - val_loss: 0.6883 - val_accuracy: 0.7470\n"
     ]
    }
   ],
   "source": [
    "history = model.fit(X_train, y_train, validation_data=(X_test, y_test), epochs=50, batch_size=20)"
   ],
   "metadata": {
    "collapsed": false
   }
  },
  {
   "cell_type": "code",
   "execution_count": 20,
   "metadata": {
    "collapsed": true
   },
   "outputs": [
    {
     "data": {
      "text/plain": "<Figure size 640x480 with 1 Axes>",
      "image/png": "[encoded data removed]"
     },
     "metadata": {},
     "output_type": "display_data"
    }
   ],
   "source": [
    "history_dict = history.history\n",
    "\n",
    "acc = history_dict['accuracy']\n",
    "loss = history_dict['loss']\n",
    "\n",
    "epochs = range(1, len(acc) + 1)\n",
    "\n",
    "# \"bo\" is for \"blue dot\"\n",
    "plt.plot(epochs, loss, 'bo', label='Training loss')\n",
    "# b is for \"solid blue line\"\n",
    "plt.plot(epochs, acc, 'b', label='Validation loss')\n",
    "plt.title('Training and validation loss')\n",
    "plt.xlabel('Epochs')\n",
    "plt.ylabel('Loss')\n",
    "plt.legend()\n",
    "\n",
    "plt.show()"
   ]
  },
  {
   "cell_type": "code",
   "execution_count": 21,
   "outputs": [
    {
     "name": "stdout",
     "output_type": "stream",
     "text": [
      "32/32 [==============================] - 0s 501us/step - loss: 0.6883 - accuracy: 0.7470\n"
     ]
    }
   ],
   "source": [
    "loss, accuracy = model.evaluate(X_test, y_test, verbose=1)"
   ],
   "metadata": {
    "collapsed": false
   }
  },
  {
   "cell_type": "code",
   "execution_count": 32,
   "outputs": [],
   "source": [
    "# probability_model = Sequential([model, tf.keras.layers.Dense(1, activation='softmax')])"
   ],
   "metadata": {
    "collapsed": false
   }
  },
  {
   "cell_type": "code",
   "execution_count": 49,
   "outputs": [
    {
     "data": {
      "text/plain": "[0,\n 4,\n 4,\n 0,\n 0,\n 0,\n 0,\n 0,\n 1,\n 0,\n 3,\n 0,\n 0,\n 0,\n 0,\n 0,\n 0,\n 3,\n 1,\n 4,\n 3,\n 3,\n 1,\n 1,\n 0,\n 0,\n 0,\n 0,\n 0,\n 1,\n 4,\n 3,\n 0,\n 1,\n 1,\n 0,\n 0,\n 3,\n 3,\n 2,\n 0,\n 0,\n 1,\n 0,\n 0,\n 0,\n 0,\n 0,\n 0,\n 0,\n 4,\n 3,\n 3,\n 0,\n 3,\n 3,\n 0,\n 0,\n 0,\n 1,\n 0,\n 1,\n 1,\n 0,\n 4,\n 0,\n 0,\n 0,\n 3,\n 0,\n 4,\n 0,\n 0,\n 3,\n 1,\n 1,\n 0,\n 1,\n 4,\n 4,\n 1,\n 0,\n 3,\n 3,\n 0,\n 0,\n 0,\n 0,\n 0,\n 0,\n 2,\n 0,\n 0,\n 1,\n 1,\n 2,\n 3,\n 4,\n 1,\n 4,\n 0,\n 3,\n 0,\n 3,\n 1,\n 3,\n 0,\n 1,\n 0,\n 0,\n 1,\n 0,\n 0,\n 0,\n 1,\n 4,\n 0,\n 0,\n 0,\n 4,\n 0,\n 0,\n 0,\n 1,\n 4,\n 0,\n 1,\n 0,\n 3,\n 1,\n 1,\n 3,\n 0,\n 3,\n 0,\n 3,\n 4,\n 3,\n 0,\n 0,\n 0,\n 3,\n 0,\n 2,\n 1,\n 0,\n 0,\n 1,\n 0,\n 4,\n 1,\n 0,\n 2,\n 0,\n 1,\n 0,\n 0,\n 0,\n 0,\n 3,\n 3,\n 0,\n 1,\n 0,\n 1,\n 0,\n 0,\n 1,\n 1,\n 2,\n 1,\n 2,\n 4,\n 0,\n 0,\n 1,\n 3,\n 0,\n 1,\n 0,\n 1,\n 0,\n 4,\n 1,\n 3,\n 0,\n 4,\n 0,\n 3,\n 1,\n 3,\n 4,\n 0,\n 3,\n 0,\n 3,\n 0,\n 0,\n 0,\n 3,\n 3,\n 4,\n 0,\n 0,\n 3,\n 0,\n 0,\n 4,\n 3,\n 0,\n 0,\n 0,\n 0,\n 1,\n 0,\n 3,\n 3,\n 0,\n 3,\n 0,\n 1,\n 0,\n 4,\n 0,\n 0,\n 0,\n 4,\n 4,\n 0,\n 3,\n 1,\n 0,\n 4,\n 3,\n 1,\n 0,\n 1,\n 3,\n 3,\n 0,\n 3,\n 4,\n 2,\n 4,\n 3,\n 0,\n 0,\n 0,\n 0,\n 3,\n 1,\n 0,\n 0,\n 3,\n 0,\n 0,\n 3,\n 3,\n 1,\n 4,\n 0,\n 0,\n 4,\n 3,\n 1,\n 3,\n 4,\n 0,\n 3,\n 0,\n 1,\n 1,\n 4,\n 0,\n 0,\n 2,\n 0,\n 1,\n 0,\n 3,\n 3,\n 1,\n 0,\n 0,\n 0,\n 1,\n 0,\n 4,\n 1,\n 1,\n 0,\n 0,\n 3,\n 1,\n 3,\n 1,\n 3,\n 3,\n 4,\n 3,\n 3,\n 3,\n 1,\n 0,\n 1,\n 0,\n 0,\n 0,\n 1,\n 0,\n 3,\n 2,\n 4,\n 1,\n 1,\n 0,\n 3,\n 4,\n 4,\n 1,\n 4,\n 4,\n 1,\n 0,\n 4,\n 3,\n 4,\n 0,\n 1,\n 3,\n 0,\n 1,\n 0,\n 0,\n 3,\n 0,\n 0,\n 3,\n 0,\n 0,\n 3,\n 0,\n 1,\n 0,\n 1,\n 1,\n 2,\n 0,\n 3,\n 1,\n 3,\n 0,\n 2,\n 0,\n 0,\n 1,\n 0,\n 1,\n 0,\n 0,\n 3,\n 0,\n 0,\n 0,\n 0,\n 4,\n 3,\n 3,\n 0,\n 0,\n 1,\n 0,\n 0,\n 4,\n 0,\n 4,\n 1,\n 3,\n 1,\n 4,\n 4,\n 4,\n 0,\n 3,\n 0,\n 4,\n 0,\n 4,\n 0,\n 1,\n 2,\n 0,\n 1,\n 0,\n 0,\n 1,\n 3,\n 4,\n 0,\n 0,\n 0,\n 0,\n 3,\n 4,\n 0,\n 3,\n 0,\n 2,\n 0,\n 0,\n 4,\n 4,\n 0,\n 3,\n 0,\n 3,\n 0,\n 3,\n 0,\n 0,\n 4,\n 4,\n 0,\n 0,\n 0,\n 0,\n 3,\n 1,\n 0,\n 1,\n 3,\n 0,\n 4,\n 0,\n 1,\n 0,\n 0,\n 0,\n 4,\n 0,\n 4,\n 4,\n 0,\n 0,\n 4,\n 1,\n 3,\n 1,\n 0,\n 0,\n 0,\n 0,\n 2,\n 0,\n 0,\n 0,\n 1,\n 0,\n 3,\n 0,\n 3,\n 0,\n 4,\n 1,\n 0,\n 0,\n 1,\n 1,\n 0,\n 2,\n 0,\n 1,\n 1,\n 4,\n 0,\n 4,\n 3,\n 1,\n 3,\n 1,\n 3,\n 1,\n 0,\n 3,\n 0,\n 0,\n 3,\n 3,\n 0,\n 3,\n 0,\n 0,\n 0,\n 3,\n 1,\n 0,\n 3,\n 0,\n 0,\n 3,\n 4,\n 4,\n 3,\n 0,\n 0,\n 0,\n 0,\n 0,\n 0,\n 0,\n 1,\n 0,\n 0,\n 0,\n 3,\n 1,\n 3,\n 1,\n 3,\n 1,\n 0,\n 3,\n 0,\n 0,\n 3,\n 1,\n 0,\n 1,\n 0,\n 4,\n 0,\n 1,\n 0,\n 0,\n 4,\n 1,\n 3,\n 0,\n 1,\n 3,\n 3,\n 4,\n 0,\n 3,\n 0,\n 3,\n 1,\n 4,\n 1,\n 0,\n 0,\n 3,\n 3,\n 3,\n 3,\n 0,\n 0,\n 0,\n 4,\n 3,\n 0,\n 0,\n 3,\n 3,\n 1,\n 3,\n 3,\n 4,\n 1,\n 0,\n 3,\n 0,\n 3,\n 0,\n 3,\n 0,\n 4,\n 1,\n 3,\n 0,\n 3,\n 0,\n 3,\n 0,\n 0,\n 4,\n 0,\n 3,\n 4,\n 4,\n 4,\n 3,\n 1,\n 0,\n 0,\n 0,\n 3,\n 0,\n 0,\n 3,\n 4,\n 0,\n 3,\n 4,\n 3,\n 4,\n 3,\n 0,\n 3,\n 0,\n 0,\n 0,\n 4,\n 0,\n 2,\n 4,\n 2,\n 4,\n 3,\n 1,\n 0,\n 4,\n 0,\n 4,\n 1,\n 4,\n 3,\n 0,\n 1,\n 3,\n 0,\n 3,\n 4,\n 0,\n 0,\n 2,\n 0,\n 4,\n 1,\n 3,\n 3,\n 3,\n 4,\n 0,\n 3,\n 1,\n 2,\n 0,\n 0,\n 0,\n 0,\n 0,\n 4,\n 0,\n 3,\n 0,\n 0,\n 0,\n 0,\n 3,\n 0,\n 0,\n 1,\n 2,\n 0,\n 4,\n 1,\n 0,\n 0,\n 0,\n 0,\n 0,\n 3,\n 4,\n 3,\n 0,\n 4,\n 0,\n 4,\n 3,\n 0,\n 0,\n 1,\n 3,\n 0,\n 0,\n 0,\n 0,\n 4,\n 0,\n 0,\n 3,\n 0,\n 1,\n 1,\n 0,\n 0,\n 1,\n 3,\n 0,\n 4,\n 3,\n 0,\n 2,\n 0,\n 0,\n 0,\n 1,\n 1,\n 0,\n 0,\n 0,\n 0,\n 0,\n 0,\n 3,\n 3,\n 4,\n 0,\n 3,\n 0,\n 3,\n 0,\n 0,\n 1,\n 4,\n 0,\n 3,\n 4,\n 0,\n 0,\n 3,\n 3,\n 0,\n 1,\n 0,\n 4,\n 0,\n 0,\n 1,\n 0,\n 0,\n 1,\n 3,\n 1,\n 3,\n 4,\n 4,\n 1,\n 3,\n 3,\n 3,\n 2,\n 4,\n 1,\n 1,\n 2,\n 1,\n 0,\n 4,\n 4,\n 0,\n 1,\n 0,\n 1,\n 0,\n 3,\n 1,\n 0,\n 3,\n 0,\n 3,\n 0,\n 1,\n 0,\n 0,\n 0,\n 0,\n 2,\n 0,\n 1,\n 3,\n 0,\n 0,\n 0,\n 4,\n 4,\n 0,\n 0,\n 0,\n 0,\n 0,\n 3,\n 0,\n 4,\n 3,\n 1,\n 4,\n 3,\n 1,\n 0,\n 1,\n 0,\n 4,\n 3,\n 0,\n 0,\n 3,\n 1,\n 4,\n 0,\n 3,\n 3,\n 0,\n 3,\n 4,\n 0,\n 0,\n 3,\n 4,\n 1,\n 0,\n 1,\n 3,\n 4,\n 0,\n 0,\n 3,\n 3,\n 0,\n 0,\n 0,\n 3,\n 0,\n 0,\n 0,\n 0,\n 2,\n 0,\n 0,\n 4,\n 4,\n 0,\n 0,\n 0,\n 4,\n 1,\n 2,\n 0,\n 3,\n 4,\n 0,\n 3,\n 4,\n 0,\n 0,\n 3,\n 4,\n 4,\n 2,\n 0,\n 3,\n 1,\n 4,\n 0,\n 1,\n 0,\n 4,\n 0,\n 0,\n 3,\n 0,\n 4,\n 0,\n 4,\n 0,\n 0,\n 0,\n 0,\n 3,\n 1,\n 4,\n 3,\n 3,\n 4,\n 4,\n 4,\n 0,\n 0,\n 3,\n 0,\n 0,\n 0,\n 3,\n 0,\n 3,\n 1,\n 0,\n 0,\n 0,\n 3,\n 1,\n 0,\n 3,\n 3,\n 0,\n 3,\n 0,\n 0,\n 3,\n 1,\n 4,\n 4,\n 0,\n 0,\n 0,\n 1,\n 0,\n 3,\n 1,\n 0,\n 1,\n 0,\n 1,\n 1,\n 3,\n 1,\n 0,\n 0,\n 3,\n 0,\n 4,\n 0,\n 4,\n 1,\n 0,\n 1,\n 0,\n 0,\n 3,\n 1,\n 3,\n 0,\n 3,\n 4,\n 1,\n 0,\n 1,\n 3,\n 1,\n 4,\n 0,\n 4,\n 0,\n 3,\n 0,\n 4,\n 1,\n 2,\n 1,\n 3,\n 3,\n 1,\n 0,\n 4,\n 3,\n 4,\n 2,\n 4,\n 3,\n 3,\n 0,\n 3,\n 0,\n 3,\n 1,\n 0,\n 3,\n 0,\n 4,\n 2,\n 0,\n 3,\n 4,\n 3,\n 0,\n 0,\n 0,\n 0,\n 0,\n 0,\n 4,\n 1,\n 0,\n 4,\n 4,\n 0,\n 3,\n 0,\n 1]"
     },
     "execution_count": 49,
     "metadata": {},
     "output_type": "execute_result"
    }
   ],
   "source": [
    "predicts = model.predict(X_test)\n",
    "\n",
    "categories_predicted = [np.argmax(pred) for pred in predicts]\n",
    "\n",
    "categories_predicted"
   ],
   "metadata": {
    "collapsed": false
   }
  },
  {
   "cell_type": "code",
   "execution_count": 25,
   "outputs": [
    {
     "data": {
      "text/plain": "1718    0.0\n2511    1.0\n345     1.0\n2521    0.0\n54      0.0\n       ... \n3900    4.0\n3753    0.0\n3582    3.0\n2392    0.0\n3343    4.0\nName: incidents_binned, Length: 1000, dtype: float64"
     },
     "execution_count": 25,
     "metadata": {},
     "output_type": "execute_result"
    }
   ],
   "source": [
    "y_test"
   ],
   "metadata": {
    "collapsed": false
   }
  },
  {
   "cell_type": "code",
   "execution_count": null,
   "outputs": [],
   "source": [
    "TUNING_DICT = {\n",
    "    'activation': ['relu', 'sigmoid'],\n",
    "    'learning_rate': [0.01, 0.001]\n",
    "}"
   ],
   "metadata": {
    "collapsed": false
   }
  },
  {
   "cell_type": "markdown",
   "source": [
    "# KFolding"
   ],
   "metadata": {
    "collapsed": false
   }
  },
  {
   "cell_type": "code",
   "execution_count": 63,
   "outputs": [
    {
     "ename": "NameError",
     "evalue": "name 'TUNING_DICT' is not defined",
     "output_type": "error",
     "traceback": [
      "\u001B[1;31m---------------------------------------------------------------------------\u001B[0m",
      "\u001B[1;31mNameError\u001B[0m                                 Traceback (most recent call last)",
      "Cell \u001B[1;32mIn [63], line 6\u001B[0m\n\u001B[0;32m      1\u001B[0m \u001B[38;5;66;03m#### Não funciona atualmente!\u001B[39;00m\n\u001B[0;32m      3\u001B[0m kf \u001B[38;5;241m=\u001B[39m KFold(n_splits\u001B[38;5;241m=\u001B[39m\u001B[38;5;241m5\u001B[39m, shuffle\u001B[38;5;241m=\u001B[39m\u001B[38;5;28;01mTrue\u001B[39;00m, random_state\u001B[38;5;241m=\u001B[39mSEED)\n\u001B[0;32m      5\u001B[0m grid_search \u001B[38;5;241m=\u001B[39m GridSearchCV(estimator\u001B[38;5;241m=\u001B[39mmodel,\n\u001B[1;32m----> 6\u001B[0m                            param_grid\u001B[38;5;241m=\u001B[39mTUNING_DICT,\n\u001B[0;32m      7\u001B[0m                            cv\u001B[38;5;241m=\u001B[39mkf,\n\u001B[0;32m      8\u001B[0m                            scoring\u001B[38;5;241m=\u001B[39m\u001B[38;5;124m'\u001B[39m\u001B[38;5;124maccuracy\u001B[39m\u001B[38;5;124m'\u001B[39m,\n\u001B[0;32m      9\u001B[0m                            refit\u001B[38;5;241m=\u001B[39m\u001B[38;5;28;01mTrue\u001B[39;00m,\n\u001B[0;32m     10\u001B[0m                            error_score\u001B[38;5;241m=\u001B[39m\u001B[38;5;124m\"\u001B[39m\u001B[38;5;124mraise\u001B[39m\u001B[38;5;124m\"\u001B[39m,\n\u001B[0;32m     11\u001B[0m                            verbose\u001B[38;5;241m=\u001B[39m\u001B[38;5;241m3\u001B[39m)\n\u001B[0;32m     13\u001B[0m grid_search\u001B[38;5;241m.\u001B[39mfit(X_train, y_train, validation_split\u001B[38;5;241m=\u001B[39m\u001B[38;5;241m0.2\u001B[39m)\n",
      "\u001B[1;31mNameError\u001B[0m: name 'TUNING_DICT' is not defined"
     ]
    }
   ],
   "source": [
    "#### Não funciona atualmente!\n",
    "\n",
    "kf = KFold(n_splits=5, shuffle=True, random_state=SEED)\n",
    "\n",
    "grid_search = GridSearchCV(estimator=model,\n",
    "                           param_grid=TUNING_DICT,\n",
    "                           cv=kf,\n",
    "                           scoring='accuracy',\n",
    "                           refit=True,\n",
    "                           error_score=\"raise\",\n",
    "                           verbose=3)\n",
    "\n",
    "grid_search.fit(X_train, y_train, validation_split=0.2)"
   ],
   "metadata": {
    "collapsed": false
   }
  },
  {
   "cell_type": "markdown",
   "source": [
    "## Resultados"
   ],
   "metadata": {
    "collapsed": false
   }
  },
  {
   "cell_type": "code",
   "execution_count": null,
   "outputs": [],
   "source": [
    "#summarize results\n",
    "print(\"Best: %f using %s\" % (grid_search.best_score_, grid_search.best_params_))\n",
    "means = grid_search.cv_results_['mean_test_score']\n",
    "stds = grid_search.cv_results_['std_test_score']\n",
    "params = grid_search.cv_results_['params']\n",
    "\n",
    "for mean, stdev, param in zip(means, stds, params):\n",
    "    print(\"%f (%f) with: %r\" % (mean, stdev, param))"
   ],
   "metadata": {
    "collapsed": false
   }
  },
  {
   "cell_type": "code",
   "execution_count": 41,
   "outputs": [
    {
     "ename": "NameError",
     "evalue": "name 'grid_search' is not defined",
     "output_type": "error",
     "traceback": [
      "\u001B[1;31m---------------------------------------------------------------------------\u001B[0m",
      "\u001B[1;31mNameError\u001B[0m                                 Traceback (most recent call last)",
      "Cell \u001B[1;32mIn [41], line 1\u001B[0m\n\u001B[1;32m----> 1\u001B[0m best_mlp_model \u001B[38;5;241m=\u001B[39m grid_search\u001B[38;5;241m.\u001B[39mbest_estimator_\n\u001B[0;32m      2\u001B[0m \u001B[38;5;66;03m#Obtain predictions\u001B[39;00m\n\u001B[0;32m      3\u001B[0m predictions \u001B[38;5;241m=\u001B[39m best_mlp_model\u001B[38;5;241m.\u001B[39mpredict(X_test)\n",
      "\u001B[1;31mNameError\u001B[0m: name 'grid_search' is not defined"
     ]
    }
   ],
   "source": [
    "best_mlp_model = grid_search.best_estimator_\n",
    "#Obtain predictions\n",
    "predictions = best_mlp_model.predict(X_test)\n",
    "predictions = predictions.reshape(predictions.shape[0], 1)\n",
    "predictions[:5]\n",
    "\n",
    "plt.scatter(y_test, predictions)\n"
   ],
   "metadata": {
    "collapsed": false
   }
  },
  {
   "cell_type": "markdown",
   "source": [
    "# Obter as previsões no dataset de submissão"
   ],
   "metadata": {
    "collapsed": false
   }
  },
  {
   "cell_type": "code",
   "execution_count": 54,
   "outputs": [
    {
     "data": {
      "text/plain": "      affected_roads  avg_atm_pressure  avg_humidity  avg_wind_speed  rain  \\\n0           0.142857           0.59375      0.784946        0.000000   0.0   \n1           0.142857           0.59375      0.365591        0.222222   0.0   \n2           0.142857           0.56250      0.688172        0.000000   0.0   \n3           0.285714           0.28125      0.795699        0.333333   0.0   \n4           0.142857           0.71875      0.849462        0.000000   0.0   \n...              ...               ...           ...             ...   ...   \n1201        0.142857           0.81250      0.677419        0.222222   0.0   \n1202        0.142857           0.53125      0.344086        0.222222   0.0   \n1203        0.142857           0.59375      0.569892        0.000000   0.0   \n1204        0.142857           0.50000      0.462366        0.111111   0.0   \n1205        0.142857           0.71875      0.408602        0.111111   0.0   \n\n      delay  luminosity_binned  record_date_hour  record_date_day  \\\n0       1.0                0.5          0.826087         0.400000   \n1       0.0                1.0          0.173913         0.400000   \n2       0.0                0.5          0.826087         0.566667   \n3       1.0                0.5          0.652174         0.966667   \n4       0.0                0.5          0.434783         0.566667   \n...     ...                ...               ...              ...   \n1201    0.0                0.5          0.434783         1.000000   \n1202    1.0                1.0          0.000000         0.500000   \n1203    1.0                0.5          0.652174         0.600000   \n1204    1.0                0.5          0.739130         0.233333   \n1205    0.0                0.5          0.434783         0.166667   \n\n      record_date_month  record_date_weekday  temperature  \n0              0.272727             0.166667          0.5  \n1              0.818182             0.333333          0.5  \n2              0.545455             1.000000          1.0  \n3              0.818182             0.833333          0.5  \n4              0.818182             0.000000          1.0  \n...                 ...                  ...          ...  \n1201           1.000000             0.666667          0.5  \n1202           0.545455             0.666667          1.0  \n1203           1.000000             1.000000          0.5  \n1204           0.181818             0.000000          0.5  \n1205           0.454545             1.000000          0.5  \n\n[1206 rows x 12 columns]",
      "text/html": "<div>\n<style scoped>\n    .dataframe tbody tr th:only-of-type {\n        vertical-align: middle;\n    }\n\n    .dataframe tbody tr th {\n        vertical-align: top;\n    }\n\n    .dataframe thead th {\n        text-align: right;\n    }\n</style>\n<table border=\"1\" class=\"dataframe\">\n  <thead>\n    <tr style=\"text-align: right;\">\n      <th></th>\n      <th>affected_roads</th>\n      <th>avg_atm_pressure</th>\n      <th>avg_humidity</th>\n      <th>avg_wind_speed</th>\n      <th>rain</th>\n      <th>delay</th>\n      <th>luminosity_binned</th>\n      <th>record_date_hour</th>\n      <th>record_date_day</th>\n      <th>record_date_month</th>\n      <th>record_date_weekday</th>\n      <th>temperature</th>\n    </tr>\n  </thead>\n  <tbody>\n    <tr>\n      <th>0</th>\n      <td>0.142857</td>\n      <td>0.59375</td>\n      <td>0.784946</td>\n      <td>0.000000</td>\n      <td>0.0</td>\n      <td>1.0</td>\n      <td>0.5</td>\n      <td>0.826087</td>\n      <td>0.400000</td>\n      <td>0.272727</td>\n      <td>0.166667</td>\n      <td>0.5</td>\n    </tr>\n    <tr>\n      <th>1</th>\n      <td>0.142857</td>\n      <td>0.59375</td>\n      <td>0.365591</td>\n      <td>0.222222</td>\n      <td>0.0</td>\n      <td>0.0</td>\n      <td>1.0</td>\n      <td>0.173913</td>\n      <td>0.400000</td>\n      <td>0.818182</td>\n      <td>0.333333</td>\n      <td>0.5</td>\n    </tr>\n    <tr>\n      <th>2</th>\n      <td>0.142857</td>\n      <td>0.56250</td>\n      <td>0.688172</td>\n      <td>0.000000</td>\n      <td>0.0</td>\n      <td>0.0</td>\n      <td>0.5</td>\n      <td>0.826087</td>\n      <td>0.566667</td>\n      <td>0.545455</td>\n      <td>1.000000</td>\n      <td>1.0</td>\n    </tr>\n    <tr>\n      <th>3</th>\n      <td>0.285714</td>\n      <td>0.28125</td>\n      <td>0.795699</td>\n      <td>0.333333</td>\n      <td>0.0</td>\n      <td>1.0</td>\n      <td>0.5</td>\n      <td>0.652174</td>\n      <td>0.966667</td>\n      <td>0.818182</td>\n      <td>0.833333</td>\n      <td>0.5</td>\n    </tr>\n    <tr>\n      <th>4</th>\n      <td>0.142857</td>\n      <td>0.71875</td>\n      <td>0.849462</td>\n      <td>0.000000</td>\n      <td>0.0</td>\n      <td>0.0</td>\n      <td>0.5</td>\n      <td>0.434783</td>\n      <td>0.566667</td>\n      <td>0.818182</td>\n      <td>0.000000</td>\n      <td>1.0</td>\n    </tr>\n    <tr>\n      <th>...</th>\n      <td>...</td>\n      <td>...</td>\n      <td>...</td>\n      <td>...</td>\n      <td>...</td>\n      <td>...</td>\n      <td>...</td>\n      <td>...</td>\n      <td>...</td>\n      <td>...</td>\n      <td>...</td>\n      <td>...</td>\n    </tr>\n    <tr>\n      <th>1201</th>\n      <td>0.142857</td>\n      <td>0.81250</td>\n      <td>0.677419</td>\n      <td>0.222222</td>\n      <td>0.0</td>\n      <td>0.0</td>\n      <td>0.5</td>\n      <td>0.434783</td>\n      <td>1.000000</td>\n      <td>1.000000</td>\n      <td>0.666667</td>\n      <td>0.5</td>\n    </tr>\n    <tr>\n      <th>1202</th>\n      <td>0.142857</td>\n      <td>0.53125</td>\n      <td>0.344086</td>\n      <td>0.222222</td>\n      <td>0.0</td>\n      <td>1.0</td>\n      <td>1.0</td>\n      <td>0.000000</td>\n      <td>0.500000</td>\n      <td>0.545455</td>\n      <td>0.666667</td>\n      <td>1.0</td>\n    </tr>\n    <tr>\n      <th>1203</th>\n      <td>0.142857</td>\n      <td>0.59375</td>\n      <td>0.569892</td>\n      <td>0.000000</td>\n      <td>0.0</td>\n      <td>1.0</td>\n      <td>0.5</td>\n      <td>0.652174</td>\n      <td>0.600000</td>\n      <td>1.000000</td>\n      <td>1.000000</td>\n      <td>0.5</td>\n    </tr>\n    <tr>\n      <th>1204</th>\n      <td>0.142857</td>\n      <td>0.50000</td>\n      <td>0.462366</td>\n      <td>0.111111</td>\n      <td>0.0</td>\n      <td>1.0</td>\n      <td>0.5</td>\n      <td>0.739130</td>\n      <td>0.233333</td>\n      <td>0.181818</td>\n      <td>0.000000</td>\n      <td>0.5</td>\n    </tr>\n    <tr>\n      <th>1205</th>\n      <td>0.142857</td>\n      <td>0.71875</td>\n      <td>0.408602</td>\n      <td>0.111111</td>\n      <td>0.0</td>\n      <td>0.0</td>\n      <td>0.5</td>\n      <td>0.434783</td>\n      <td>0.166667</td>\n      <td>0.454545</td>\n      <td>1.000000</td>\n      <td>0.5</td>\n    </tr>\n  </tbody>\n</table>\n<p>1206 rows × 12 columns</p>\n</div>"
     },
     "execution_count": 54,
     "metadata": {},
     "output_type": "execute_result"
    }
   ],
   "source": [
    "X = neural_network_data_preparation(test_df)\n",
    "\n",
    "scaler_X = MinMaxScaler(feature_range=(0, 1)).fit(X)\n",
    "X_scaled = pd.DataFrame(scaler_X.transform(X[X.columns]), columns=X.columns)\n",
    "\n",
    "X_scaled"
   ],
   "metadata": {
    "collapsed": false
   }
  },
  {
   "cell_type": "code",
   "execution_count": 61,
   "outputs": [
    {
     "data": {
      "text/plain": "LabelEncoder()",
      "text/html": "<style>#sk-container-id-1 {color: black;background-color: white;}#sk-container-id-1 pre{padding: 0;}#sk-container-id-1 div.sk-toggleable {background-color: white;}#sk-container-id-1 label.sk-toggleable__label {cursor: pointer;display: block;width: 100%;margin-bottom: 0;padding: 0.3em;box-sizing: border-box;text-align: center;}#sk-container-id-1 label.sk-toggleable__label-arrow:before {content: \"▸\";float: left;margin-right: 0.25em;color: #696969;}#sk-container-id-1 label.sk-toggleable__label-arrow:hover:before {color: black;}#sk-container-id-1 div.sk-estimator:hover label.sk-toggleable__label-arrow:before {color: black;}#sk-container-id-1 div.sk-toggleable__content {max-height: 0;max-width: 0;overflow: hidden;text-align: left;background-color: #f0f8ff;}#sk-container-id-1 div.sk-toggleable__content pre {margin: 0.2em;color: black;border-radius: 0.25em;background-color: #f0f8ff;}#sk-container-id-1 input.sk-toggleable__control:checked~div.sk-toggleable__content {max-height: 200px;max-width: 100%;overflow: auto;}#sk-container-id-1 input.sk-toggleable__control:checked~label.sk-toggleable__label-arrow:before {content: \"▾\";}#sk-container-id-1 div.sk-estimator input.sk-toggleable__control:checked~label.sk-toggleable__label {background-color: #d4ebff;}#sk-container-id-1 div.sk-label input.sk-toggleable__control:checked~label.sk-toggleable__label {background-color: #d4ebff;}#sk-container-id-1 input.sk-hidden--visually {border: 0;clip: rect(1px 1px 1px 1px);clip: rect(1px, 1px, 1px, 1px);height: 1px;margin: -1px;overflow: hidden;padding: 0;position: absolute;width: 1px;}#sk-container-id-1 div.sk-estimator {font-family: monospace;background-color: #f0f8ff;border: 1px dotted black;border-radius: 0.25em;box-sizing: border-box;margin-bottom: 0.5em;}#sk-container-id-1 div.sk-estimator:hover {background-color: #d4ebff;}#sk-container-id-1 div.sk-parallel-item::after {content: \"\";width: 100%;border-bottom: 1px solid gray;flex-grow: 1;}#sk-container-id-1 div.sk-label:hover label.sk-toggleable__label {background-color: #d4ebff;}#sk-container-id-1 div.sk-serial::before {content: \"\";position: absolute;border-left: 1px solid gray;box-sizing: border-box;top: 0;bottom: 0;left: 50%;z-index: 0;}#sk-container-id-1 div.sk-serial {display: flex;flex-direction: column;align-items: center;background-color: white;padding-right: 0.2em;padding-left: 0.2em;position: relative;}#sk-container-id-1 div.sk-item {position: relative;z-index: 1;}#sk-container-id-1 div.sk-parallel {display: flex;align-items: stretch;justify-content: center;background-color: white;position: relative;}#sk-container-id-1 div.sk-item::before, #sk-container-id-1 div.sk-parallel-item::before {content: \"\";position: absolute;border-left: 1px solid gray;box-sizing: border-box;top: 0;bottom: 0;left: 50%;z-index: -1;}#sk-container-id-1 div.sk-parallel-item {display: flex;flex-direction: column;z-index: 1;position: relative;background-color: white;}#sk-container-id-1 div.sk-parallel-item:first-child::after {align-self: flex-end;width: 50%;}#sk-container-id-1 div.sk-parallel-item:last-child::after {align-self: flex-start;width: 50%;}#sk-container-id-1 div.sk-parallel-item:only-child::after {width: 0;}#sk-container-id-1 div.sk-dashed-wrapped {border: 1px dashed gray;margin: 0 0.4em 0.5em 0.4em;box-sizing: border-box;padding-bottom: 0.4em;background-color: white;}#sk-container-id-1 div.sk-label label {font-family: monospace;font-weight: bold;display: inline-block;line-height: 1.2em;}#sk-container-id-1 div.sk-label-container {text-align: center;}#sk-container-id-1 div.sk-container {/* jupyter's `normalize.less` sets `[hidden] { display: none; }` but bootstrap.min.css set `[hidden] { display: none !important; }` so we also need the `!important` here to be able to override the default hidden behavior on the sphinx rendered scikit-learn.org. See: https://github.com/scikit-learn/scikit-learn/issues/21755 */display: inline-block !important;position: relative;}#sk-container-id-1 div.sk-text-repr-fallback {display: none;}</style><div id=\"sk-container-id-1\" class=\"sk-top-container\"><div class=\"sk-text-repr-fallback\"><pre>LabelEncoder()</pre><b>In a Jupyter environment, please rerun this cell to show the HTML representation or trust the notebook. <br />On GitHub, the HTML representation is unable to render, please try loading this page with nbviewer.org.</b></div><div class=\"sk-container\" hidden><div class=\"sk-item\"><div class=\"sk-estimator sk-toggleable\"><input class=\"sk-toggleable__control sk-hidden--visually\" id=\"sk-estimator-id-1\" type=\"checkbox\" checked><label for=\"sk-estimator-id-1\" class=\"sk-toggleable__label sk-toggleable__label-arrow\">LabelEncoder</label><div class=\"sk-toggleable__content\"><pre>LabelEncoder()</pre></div></div></div></div></div>"
     },
     "execution_count": 61,
     "metadata": {},
     "output_type": "execute_result"
    }
   ],
   "source": [
    "from sklearn import preprocessing\n",
    "\n",
    "incidents_enconder = preprocessing.LabelEncoder()\n",
    "\n",
    "incidents_enconder.fit(['None', 'Low', 'Medium', 'High', 'Very_High'])"
   ],
   "metadata": {
    "collapsed": false
   }
  },
  {
   "cell_type": "code",
   "execution_count": 62,
   "outputs": [],
   "source": [
    "predictions = categories_predicted = [np.argmax(pred) for pred in model.predict(X_scaled)]\n",
    "\n",
    "predictions = incidents_enconder.inverse_transform(predictions)\n",
    "\n",
    "predictions_df = pd.DataFrame(predictions)\n",
    "\n",
    "predictions_df.index += 1\n",
    "\n",
    "predictions_df.to_csv(\"submission.csv\", header=['Incidents'], index_label='RowId')"
   ],
   "metadata": {
    "collapsed": false
   }
  },
  {
   "cell_type": "code",
   "execution_count": null,
   "outputs": [],
   "source": [],
   "metadata": {
    "collapsed": false
   }
  }
 ],
 "metadata": {
  "kernelspec": {
   "display_name": "Python 3",
   "language": "python",
   "name": "python3"
  },
  "language_info": {
   "codemirror_mode": {
    "name": "ipython",
    "version": 2
   },
   "file_extension": ".py",
   "mimetype": "text/x-python",
   "name": "python",
   "nbconvert_exporter": "python",
   "pygments_lexer": "ipython2",
   "version": "2.7.6"
  }
 },
 "nbformat": 4,
 "nbformat_minor": 0
}
