{
 "cells": [
  {
   "cell_type": "markdown",
   "source": [
    "# Imports"
   ],
   "metadata": {
    "collapsed": false
   }
  },
  {
   "cell_type": "code",
   "execution_count": 1,
   "outputs": [
    {
     "name": "stdout",
     "output_type": "stream",
     "text": [
      "2.9.1\n"
     ]
    }
   ],
   "source": [
    "import pandas as pd\n",
    "import numpy as np\n",
    "import matplotlib.pyplot as plt\n",
    "import seaborn as sns\n",
    "import time\n",
    "\n",
    "from sklearn.model_selection import train_test_split\n",
    "from sklearn.model_selection import cross_val_score\n",
    "\n",
    "from sklearn.tree import DecisionTreeClassifier\n",
    "from sklearn.tree import DecisionTreeRegressor\n",
    "\n",
    "from sklearn.metrics import confusion_matrix, ConfusionMatrixDisplay\n",
    "from sklearn.metrics import recall_score\n",
    "from sklearn.metrics import accuracy_score\n",
    "from sklearn.metrics import precision_score\n",
    "from sklearn.metrics import roc_curve\n",
    "from sklearn.metrics import f1_score\n",
    "from sklearn.metrics import fbeta_score\n",
    "from sklearn.metrics import mean_absolute_error\n",
    "from sklearn.metrics import mean_squared_error\n",
    "\n",
    "import tensorflow as tf\n",
    "from tensorflow.python.keras.models import Sequential\n",
    "from tensorflow.python.keras.layers import Dense, Dropout\n",
    "from tensorflow.python.keras.losses import SparseCategoricalCrossentropy\n",
    "from sklearn.model_selection import GridSearchCV, KFold, train_test_split\n",
    "from sklearn.preprocessing import MinMaxScaler\n",
    "\n",
    "from sklearn.model_selection import train_test_split\n",
    "\n",
    "% matplotlib inline\n",
    "\n",
    "print(tf.__version__)\n"
   ],
   "metadata": {
    "collapsed": false
   }
  },
  {
   "cell_type": "markdown",
   "source": [
    "# Carregamento de dados"
   ],
   "metadata": {
    "collapsed": false
   }
  },
  {
   "cell_type": "code",
   "execution_count": 2,
   "outputs": [],
   "source": [
    "TRAINING_DATASET_SOURCE = 'training_data.csv'\n",
    "TEST_DATASET_SOURCE = 'test_data.csv'\n",
    "\n",
    "train_df = pd.read_csv(TRAINING_DATASET_SOURCE)\n",
    "test_df = pd.read_csv(TEST_DATASET_SOURCE)"
   ],
   "metadata": {
    "collapsed": false
   }
  },
  {
   "cell_type": "markdown",
   "source": [
    "# SEED utilizada"
   ],
   "metadata": {
    "collapsed": false
   }
  },
  {
   "cell_type": "code",
   "execution_count": 43,
   "outputs": [],
   "source": [
    "SEED = 2022"
   ],
   "metadata": {
    "collapsed": false
   }
  },
  {
   "cell_type": "markdown",
   "source": [
    "# Preparação dos dados"
   ],
   "metadata": {
    "collapsed": false
   }
  },
  {
   "cell_type": "code",
   "execution_count": 44,
   "outputs": [],
   "source": [
    "categorical_to_numerical = {\n",
    "    'avg_rain': {\n",
    "        'Sem Chuva': 0,\n",
    "        'chuva fraca': 1,\n",
    "        'chuva moderada': 2,\n",
    "        'chuva forte': 3\n",
    "    },\n",
    "    'luminosity': {\n",
    "        'LOW_LIGHT': 0,\n",
    "        'LIGHT': 1,\n",
    "        'DARK': 2,\n",
    "    }\n",
    "}\n",
    "\n",
    "incidents_to_numerical = {\n",
    "    'incidents': {\n",
    "        'None': 0,\n",
    "        'Low': 1,\n",
    "        'Medium': 2,\n",
    "        'High': 3,\n",
    "        'Very_High': 4,\n",
    "    }\n",
    "}"
   ],
   "metadata": {
    "collapsed": false
   }
  },
  {
   "cell_type": "code",
   "execution_count": 60,
   "outputs": [],
   "source": [
    "def neural_network_data_preparation(df: pd.DataFrame) -> pd.DataFrame:\n",
    "    dropped_columns = ['city_name', 'magnitude_of_delay', 'avg_precipitation']\n",
    "\n",
    "    prep_df = df.drop(dropped_columns, axis=1)\n",
    "\n",
    "    ### Extrair a hora e dia da semana da feature 'record_date'\n",
    "    record_date = pd.DatetimeIndex(prep_df['record_date'])\n",
    "\n",
    "    prep_df['record_date_hour'] = record_date.hour\n",
    "    prep_df['record_date_day'] = record_date.day\n",
    "    prep_df['record_date_month'] = record_date.month\n",
    "    prep_df['record_date_weekday'] = record_date.weekday\n",
    "\n",
    "    prep_df.drop(columns=['record_date'], inplace=True)\n",
    "\n",
    "    ### Quantificar a feature 'affected_roads' para o número único de estradas afetadas\n",
    "    road_quantity = []\n",
    "    for line in prep_df['affected_roads']:\n",
    "        res = set(str(line).split(','))\n",
    "        res2 = [elem for elem in res if elem != '']\n",
    "        count = len(res2)\n",
    "        road_quantity.append(count)\n",
    "\n",
    "    prep_df['affected_roads'] = road_quantity\n",
    "\n",
    "    prep_df.replace(categorical_to_numerical, inplace=True)\n",
    "\n",
    "    ### Target\n",
    "    if 'incidents' in prep_df.columns:\n",
    "        prep_df.replace(incidents_to_numerical, inplace=True)\n",
    "\n",
    "    return prep_df"
   ],
   "metadata": {
    "collapsed": false
   }
  },
  {
   "cell_type": "code",
   "execution_count": 61,
   "outputs": [],
   "source": [
    "X = neural_network_data_preparation(train_df)"
   ],
   "metadata": {
    "collapsed": false
   }
  },
  {
   "cell_type": "code",
   "execution_count": 47,
   "outputs": [
    {
     "name": "stdout",
     "output_type": "stream",
     "text": [
      "<class 'pandas.core.frame.DataFrame'>\n",
      "RangeIndex: 5000 entries, 0 to 4999\n",
      "Data columns (total 13 columns):\n",
      " #   Column               Non-Null Count  Dtype  \n",
      "---  ------               --------------  -----  \n",
      " 0   delay_in_seconds     5000 non-null   int64  \n",
      " 1   affected_roads       5000 non-null   int64  \n",
      " 2   luminosity           5000 non-null   int64  \n",
      " 3   avg_temperature      5000 non-null   float64\n",
      " 4   avg_atm_pressure     5000 non-null   float64\n",
      " 5   avg_humidity         5000 non-null   float64\n",
      " 6   avg_wind_speed       5000 non-null   float64\n",
      " 7   avg_rain             5000 non-null   int64  \n",
      " 8   incidents            5000 non-null   int64  \n",
      " 9   record_date_hour     5000 non-null   int64  \n",
      " 10  record_date_day      5000 non-null   int64  \n",
      " 11  record_date_month    5000 non-null   int64  \n",
      " 12  record_date_weekday  5000 non-null   int64  \n",
      "dtypes: float64(4), int64(9)\n",
      "memory usage: 507.9 KB\n"
     ]
    }
   ],
   "source": [
    "X.info()"
   ],
   "metadata": {
    "collapsed": false
   }
  },
  {
   "cell_type": "code",
   "execution_count": 48,
   "outputs": [],
   "source": [
    "y = X['incidents']\n",
    "\n",
    "X.drop(columns=['incidents'], inplace=True)"
   ],
   "metadata": {
    "collapsed": false
   }
  },
  {
   "cell_type": "code",
   "execution_count": 49,
   "outputs": [],
   "source": [
    "scaler_X = MinMaxScaler(feature_range=(0, 1)).fit(X)\n",
    "X_scaled = pd.DataFrame(scaler_X.transform(X[X.columns]), columns=X.columns)"
   ],
   "metadata": {
    "collapsed": false
   }
  },
  {
   "cell_type": "code",
   "execution_count": 50,
   "outputs": [],
   "source": [
    "X_train, X_test, y_train, y_test = train_test_split(X_scaled, y, test_size=0.2, random_state=SEED)"
   ],
   "metadata": {
    "collapsed": false
   }
  },
  {
   "cell_type": "markdown",
   "source": [
    "# Construção da estrutura da rede neuronal"
   ],
   "metadata": {
    "collapsed": false
   }
  },
  {
   "cell_type": "code",
   "execution_count": 69,
   "outputs": [],
   "source": [
    "N_VALIDATION = int(1e3)\n",
    "N_TRAIN = int(1e4)\n",
    "BUFFER_SIZE = int(1e4)\n",
    "BATCH_SIZE = 500\n",
    "STEPS_PER_EPOCH = N_TRAIN//BATCH_SIZE"
   ],
   "metadata": {
    "collapsed": false
   }
  },
  {
   "cell_type": "code",
   "execution_count": 73,
   "outputs": [],
   "source": [
    "from tensorflow import keras\n",
    "\n",
    "lr_schedule = tf.keras.optimizers.schedules.InverseTimeDecay(\n",
    "  0.001,\n",
    "  decay_steps=STEPS_PER_EPOCH*1000,\n",
    "  decay_rate=1,\n",
    "  staircase=False)\n",
    "\n",
    "def get_optimizer():\n",
    "  return tf.keras.optimizers.Adam(lr_schedule)\n",
    "\n",
    "def build_model():\n",
    "    model = keras.Sequential()\n",
    "\n",
    "    model.add(Dense(16, input_dim=12, activation='relu'))  # Input Layer\n",
    "\n",
    "    model.add(Dense(8, activation=\"relu\"))\n",
    "\n",
    "    model.add(Dense(5, activation='softmax'))  # Output Layer\n",
    "\n",
    "    # Model compilation\n",
    "    model.compile(loss=SparseCategoricalCrossentropy(), optimizer=get_optimizer(),#keras.optimizers.Adam(learning_rate=0.001),\n",
    "                  metrics=['accuracy'])\n",
    "\n",
    "    return model\n"
   ],
   "metadata": {
    "collapsed": false
   }
  },
  {
   "cell_type": "code",
   "execution_count": 74,
   "outputs": [],
   "source": [
    "model = build_model()"
   ],
   "metadata": {
    "collapsed": false
   }
  },
  {
   "cell_type": "code",
   "execution_count": 75,
   "outputs": [
    {
     "name": "stdout",
     "output_type": "stream",
     "text": [
      "Epoch 1/20\n",
      "500/500 [==============================] - 1s 658us/step - loss: 1.4965 - accuracy: 0.3650\n",
      "Epoch 2/20\n",
      "500/500 [==============================] - 0s 659us/step - loss: 1.3482 - accuracy: 0.4520\n",
      "Epoch 3/20\n",
      "500/500 [==============================] - 0s 669us/step - loss: 1.1683 - accuracy: 0.5515\n",
      "Epoch 4/20\n",
      "500/500 [==============================] - 0s 658us/step - loss: 1.0552 - accuracy: 0.6070\n",
      "Epoch 5/20\n",
      "500/500 [==============================] - 0s 670us/step - loss: 0.9992 - accuracy: 0.6283\n",
      "Epoch 6/20\n",
      "500/500 [==============================] - 0s 639us/step - loss: 0.9708 - accuracy: 0.6302\n",
      "Epoch 7/20\n",
      "500/500 [==============================] - 0s 658us/step - loss: 0.9468 - accuracy: 0.6425\n",
      "Epoch 8/20\n",
      "500/500 [==============================] - 0s 639us/step - loss: 0.9294 - accuracy: 0.6460\n",
      "Epoch 9/20\n",
      "500/500 [==============================] - 0s 638us/step - loss: 0.9135 - accuracy: 0.6520\n",
      "Epoch 10/20\n",
      "500/500 [==============================] - 0s 626us/step - loss: 0.9016 - accuracy: 0.6543\n",
      "Epoch 11/20\n",
      "500/500 [==============================] - 0s 638us/step - loss: 0.8893 - accuracy: 0.6565\n",
      "Epoch 12/20\n",
      "500/500 [==============================] - 0s 638us/step - loss: 0.8769 - accuracy: 0.6603\n",
      "Epoch 13/20\n",
      "500/500 [==============================] - 0s 626us/step - loss: 0.8689 - accuracy: 0.6593\n",
      "Epoch 14/20\n",
      "500/500 [==============================] - 0s 639us/step - loss: 0.8580 - accuracy: 0.6643\n",
      "Epoch 15/20\n",
      "500/500 [==============================] - 0s 658us/step - loss: 0.8497 - accuracy: 0.6775\n",
      "Epoch 16/20\n",
      "500/500 [==============================] - 0s 671us/step - loss: 0.8419 - accuracy: 0.6745\n",
      "Epoch 17/20\n",
      "500/500 [==============================] - 0s 639us/step - loss: 0.8311 - accuracy: 0.6787\n",
      "Epoch 18/20\n",
      "500/500 [==============================] - 0s 658us/step - loss: 0.8230 - accuracy: 0.6845\n",
      "Epoch 19/20\n",
      "500/500 [==============================] - 0s 669us/step - loss: 0.8126 - accuracy: 0.6862\n",
      "Epoch 20/20\n",
      "500/500 [==============================] - 0s 640us/step - loss: 0.8063 - accuracy: 0.6920\n"
     ]
    }
   ],
   "source": [
    "history = model.fit(X_train, y_train, epochs=20, batch_size=8)"
   ],
   "metadata": {
    "collapsed": false
   }
  },
  {
   "cell_type": "markdown",
   "source": [
    "-------\n",
    "-------\n",
    "-------"
   ],
   "metadata": {
    "collapsed": false
   }
  },
  {
   "cell_type": "code",
   "execution_count": 76,
   "metadata": {
    "collapsed": true
   },
   "outputs": [
    {
     "data": {
      "text/plain": "<Figure size 800x600 with 1 Axes>",
      "image/png": "[encoded data removed]"
     },
     "metadata": {},
     "output_type": "display_data"
    }
   ],
   "source": [
    "step = np.linspace(0,100000)\n",
    "lr = lr_schedule(step)\n",
    "plt.figure(figsize = (8,6))\n",
    "plt.plot(step/STEPS_PER_EPOCH, lr)\n",
    "plt.ylim([0,max(plt.ylim())])\n",
    "plt.xlabel('Epoch')\n",
    "_ = plt.ylabel('Learning Rate')"
   ]
  },
  {
   "cell_type": "code",
   "execution_count": 55,
   "outputs": [
    {
     "name": "stdout",
     "output_type": "stream",
     "text": [
      "32/32 [==============================] - 0s 1ms/step - loss: 0.6432 - accuracy: 0.7650\n"
     ]
    }
   ],
   "source": [
    "loss, accuracy = model.evaluate(X_test, y_test, verbose=1)"
   ],
   "metadata": {
    "collapsed": false
   }
  },
  {
   "cell_type": "code",
   "execution_count": 56,
   "outputs": [
    {
     "name": "stdout",
     "output_type": "stream",
     "text": [
      "32/32 [==============================] - 0s 504us/step\n"
     ]
    }
   ],
   "source": [
    "predicts = model.predict(X_test)\n",
    "\n",
    "categories_predicted = [np.argmax(pred) for pred in predicts]"
   ],
   "metadata": {
    "collapsed": false
   }
  },
  {
   "cell_type": "code",
   "execution_count": 57,
   "outputs": [
    {
     "data": {
      "text/plain": "array([[4.75691229e-01, 2.22463757e-01, 1.68854594e-01, 1.30061507e-01,\n        2.92889099e-03],\n       [6.20517631e-06, 2.05465872e-02, 4.00241464e-02, 2.86401331e-01,\n        6.53021812e-01],\n       [7.65914798e-01, 1.87089309e-01, 4.68937233e-02, 1.02171594e-04,\n        2.82225869e-08],\n       ...,\n       [3.06977949e-04, 4.08356115e-02, 1.07213750e-01, 5.76981843e-01,\n        2.74661809e-01],\n       [8.21162641e-01, 1.55125350e-01, 2.36095060e-02, 1.02119833e-04,\n        2.52276863e-07],\n       [4.32011366e-01, 6.49048686e-02, 1.61545783e-01, 3.37455899e-01,\n        4.08200454e-03]], dtype=float32)"
     },
     "execution_count": 57,
     "metadata": {},
     "output_type": "execute_result"
    }
   ],
   "source": [
    "predicts"
   ],
   "metadata": {
    "collapsed": false
   }
  },
  {
   "cell_type": "code",
   "execution_count": 58,
   "outputs": [
    {
     "data": {
      "text/plain": "[0,\n 4,\n 0,\n 0,\n 0,\n 0,\n 0,\n 0,\n 3,\n 3,\n 0,\n 0,\n 3,\n 4,\n 0,\n 3,\n 1,\n 0,\n 3,\n 4,\n 0,\n 3,\n 0,\n 4,\n 1,\n 0,\n 0,\n 0,\n 3,\n 3,\n 4,\n 4,\n 4,\n 3,\n 0,\n 1,\n 0,\n 2,\n 3,\n 0,\n 1,\n 0,\n 0,\n 0,\n 2,\n 2,\n 0,\n 4,\n 4,\n 0,\n 3,\n 0,\n 0,\n 0,\n 2,\n 1,\n 0,\n 0,\n 0,\n 3,\n 0,\n 2,\n 0,\n 0,\n 0,\n 0,\n 3,\n 0,\n 3,\n 3,\n 3,\n 4,\n 1,\n 3,\n 4,\n 0,\n 0,\n 0,\n 1,\n 0,\n 3,\n 3,\n 3,\n 3,\n 2,\n 0,\n 0,\n 4,\n 0,\n 0,\n 3,\n 3,\n 2,\n 4,\n 0,\n 0,\n 0,\n 0,\n 1,\n 3,\n 0,\n 3,\n 4,\n 3,\n 1,\n 2,\n 3,\n 0,\n 0,\n 3,\n 3,\n 2,\n 0,\n 4,\n 0,\n 0,\n 4,\n 0,\n 0,\n 0,\n 0,\n 1,\n 0,\n 0,\n 3,\n 0,\n 0,\n 0,\n 0,\n 0,\n 3,\n 0,\n 0,\n 1,\n 3,\n 3,\n 4,\n 0,\n 3,\n 1,\n 2,\n 3,\n 4,\n 3,\n 0,\n 3,\n 0,\n 3,\n 2,\n 0,\n 3,\n 3,\n 0,\n 1,\n 0,\n 1,\n 4,\n 0,\n 0,\n 1,\n 0,\n 3,\n 3,\n 0,\n 0,\n 4,\n 4,\n 3,\n 4,\n 4,\n 0,\n 0,\n 3,\n 4,\n 0,\n 3,\n 2,\n 2,\n 0,\n 0,\n 0,\n 1,\n 2,\n 3,\n 3,\n 3,\n 0,\n 3,\n 2,\n 0,\n 1,\n 0,\n 4,\n 0,\n 4,\n 4,\n 1,\n 0,\n 3,\n 0,\n 3,\n 1,\n 3,\n 3,\n 0,\n 4,\n 0,\n 0,\n 3,\n 3,\n 0,\n 3,\n 3,\n 0,\n 3,\n 2,\n 0,\n 3,\n 3,\n 0,\n 0,\n 0,\n 3,\n 3,\n 0,\n 0,\n 3,\n 0,\n 0,\n 4,\n 1,\n 0,\n 3,\n 2,\n 3,\n 0,\n 0,\n 3,\n 0,\n 4,\n 2,\n 3,\n 2,\n 4,\n 0,\n 3,\n 0,\n 4,\n 0,\n 0,\n 0,\n 0,\n 2,\n 0,\n 0,\n 0,\n 3,\n 3,\n 0,\n 0,\n 3,\n 4,\n 3,\n 0,\n 3,\n 2,\n 4,\n 0,\n 1,\n 0,\n 0,\n 0,\n 0,\n 2,\n 0,\n 0,\n 3,\n 3,\n 3,\n 0,\n 1,\n 3,\n 2,\n 3,\n 3,\n 3,\n 0,\n 0,\n 0,\n 1,\n 3,\n 4,\n 4,\n 0,\n 0,\n 2,\n 4,\n 0,\n 0,\n 3,\n 0,\n 0,\n 0,\n 0,\n 0,\n 0,\n 3,\n 0,\n 0,\n 3,\n 0,\n 3,\n 4,\n 3,\n 0,\n 2,\n 0,\n 0,\n 0,\n 0,\n 3,\n 0,\n 2,\n 0,\n 0,\n 3,\n 0,\n 2,\n 2,\n 0,\n 3,\n 4,\n 0,\n 3,\n 3,\n 4,\n 1,\n 0,\n 2,\n 0,\n 1,\n 1,\n 4,\n 0,\n 0,\n 4,\n 0,\n 3,\n 1,\n 4,\n 0,\n 0,\n 3,\n 0,\n 0,\n 3,\n 0,\n 1,\n 2,\n 4,\n 2,\n 4,\n 0,\n 2,\n 3,\n 3,\n 2,\n 0,\n 0,\n 0,\n 1,\n 0,\n 0,\n 3,\n 0,\n 1,\n 4,\n 0,\n 0,\n 1,\n 3,\n 0,\n 0,\n 1,\n 3,\n 0,\n 0,\n 0,\n 1,\n 0,\n 0,\n 0,\n 4,\n 3,\n 0,\n 2,\n 0,\n 3,\n 2,\n 0,\n 1,\n 3,\n 0,\n 0,\n 0,\n 3,\n 0,\n 2,\n 1,\n 3,\n 3,\n 0,\n 0,\n 0,\n 0,\n 0,\n 0,\n 3,\n 1,\n 3,\n 0,\n 0,\n 0,\n 0,\n 0,\n 0,\n 3,\n 3,\n 1,\n 0,\n 3,\n 0,\n 1,\n 3,\n 0,\n 2,\n 0,\n 2,\n 3,\n 0,\n 2,\n 0,\n 0,\n 0,\n 0,\n 0,\n 3,\n 0,\n 0,\n 0,\n 1,\n 0,\n 2,\n 4,\n 3,\n 2,\n 0,\n 3,\n 3,\n 0,\n 0,\n 0,\n 2,\n 0,\n 3,\n 2,\n 0,\n 3,\n 4,\n 0,\n 0,\n 3,\n 0,\n 3,\n 3,\n 1,\n 0,\n 1,\n 0,\n 4,\n 1,\n 3,\n 3,\n 1,\n 3,\n 0,\n 0,\n 0,\n 0,\n 3,\n 0,\n 1,\n 1,\n 3,\n 0,\n 0,\n 3,\n 1,\n 0,\n 2,\n 3,\n 4,\n 1,\n 1,\n 2,\n 1,\n 3,\n 1,\n 0,\n 0,\n 3,\n 0,\n 0,\n 3,\n 4,\n 3,\n 3,\n 1,\n 2,\n 1,\n 0,\n 3,\n 1,\n 0,\n 2,\n 0,\n 1,\n 3,\n 2,\n 0,\n 0,\n 3,\n 3,\n 1,\n 3,\n 2,\n 0,\n 0,\n 1,\n 2,\n 4,\n 1,\n 1,\n 3,\n 0,\n 2,\n 3,\n 0,\n 0,\n 0,\n 2,\n 0,\n 4,\n 0,\n 4,\n 0,\n 1,\n 2,\n 1,\n 3,\n 4,\n 4,\n 1,\n 3,\n 0,\n 0,\n 4,\n 0,\n 0,\n 2,\n 4,\n 0,\n 0,\n 3,\n 0,\n 0,\n 3,\n 1,\n 0,\n 3,\n 2,\n 0,\n 0,\n 0,\n 1,\n 3,\n 0,\n 0,\n 0,\n 0,\n 0,\n 0,\n 0,\n 0,\n 0,\n 1,\n 0,\n 3,\n 4,\n 1,\n 0,\n 0,\n 3,\n 0,\n 4,\n 2,\n 3,\n 4,\n 3,\n 0,\n 0,\n 3,\n 4,\n 1,\n 0,\n 2,\n 3,\n 0,\n 0,\n 0,\n 0,\n 4,\n 0,\n 0,\n 3,\n 3,\n 3,\n 3,\n 0,\n 3,\n 4,\n 4,\n 3,\n 4,\n 3,\n 0,\n 1,\n 0,\n 3,\n 0,\n 3,\n 0,\n 3,\n 0,\n 0,\n 4,\n 3,\n 1,\n 0,\n 0,\n 0,\n 0,\n 0,\n 4,\n 3,\n 4,\n 0,\n 0,\n 1,\n 3,\n 3,\n 4,\n 0,\n 2,\n 4,\n 4,\n 0,\n 4,\n 0,\n 3,\n 3,\n 0,\n 1,\n 2,\n 0,\n 3,\n 1,\n 2,\n 3,\n 3,\n 0,\n 3,\n 4,\n 1,\n 0,\n 1,\n 0,\n 3,\n 0,\n 0,\n 3,\n 2,\n 0,\n 3,\n 0,\n 2,\n 3,\n 0,\n 0,\n 0,\n 1,\n 1,\n 0,\n 3,\n 0,\n 0,\n 0,\n 0,\n 0,\n 3,\n 4,\n 3,\n 0,\n 4,\n 4,\n 3,\n 4,\n 0,\n 1,\n 4,\n 0,\n 3,\n 0,\n 0,\n 3,\n 3,\n 3,\n 3,\n 0,\n 0,\n 0,\n 1,\n 0,\n 0,\n 3,\n 0,\n 0,\n 3,\n 3,\n 3,\n 1,\n 0,\n 0,\n 0,\n 0,\n 0,\n 1,\n 3,\n 2,\n 0,\n 3,\n 0,\n 0,\n 0,\n 3,\n 0,\n 0,\n 0,\n 0,\n 3,\n 0,\n 3,\n 0,\n 1,\n 4,\n 0,\n 4,\n 3,\n 3,\n 0,\n 0,\n 1,\n 4,\n 2,\n 4,\n 2,\n 3,\n 3,\n 3,\n 1,\n 0,\n 3,\n 1,\n 4,\n 0,\n 4,\n 4,\n 3,\n 3,\n 4,\n 4,\n 3,\n 0,\n 1,\n 3,\n 0,\n 2,\n 0,\n 0,\n 3,\n 1,\n 3,\n 4,\n 3,\n 0,\n 0,\n 0,\n 0,\n 0,\n 0,\n 0,\n 4,\n 0,\n 1,\n 2,\n 0,\n 0,\n 0,\n 1,\n 0,\n 3,\n 0,\n 0,\n 0,\n 0,\n 3,\n 2,\n 0,\n 0,\n 3,\n 0,\n 2,\n 0,\n 3,\n 4,\n 3,\n 0,\n 0,\n 3,\n 0,\n 0,\n 2,\n 2,\n 4,\n 0,\n 0,\n 0,\n 2,\n 0,\n 1,\n 4,\n 4,\n 3,\n 1,\n 0,\n 3,\n 2,\n 3,\n 0,\n 0,\n 0,\n 3,\n 3,\n 0,\n 1,\n 0,\n 0,\n 3,\n 0,\n 0,\n 4,\n 0,\n 2,\n 0,\n 0,\n 4,\n 0,\n 0,\n 0,\n 0,\n 0,\n 3,\n 0,\n 3,\n 3,\n 4,\n 3,\n 4,\n 0,\n 3,\n 1,\n 0,\n 0,\n 3,\n 3,\n 1,\n 0,\n 3,\n 3,\n 1,\n 3,\n 2,\n 0,\n 0,\n 3,\n 3,\n 0,\n 0,\n 4,\n 2,\n 1,\n 3,\n 4,\n 3,\n 3,\n 3,\n 3,\n 0,\n 2,\n 3,\n 1,\n 0,\n 0,\n 0,\n 0,\n 3,\n 4,\n 0,\n 0,\n 1,\n 2,\n 0,\n 4,\n 4,\n 0,\n 0,\n 1,\n 3,\n 2,\n 3,\n 1,\n 4,\n 2,\n 2,\n 0,\n 0,\n 0,\n 3,\n 3,\n 1,\n 3,\n 2,\n 4,\n 0,\n 2,\n 1,\n 1,\n 4,\n 4,\n 0,\n 1,\n 0,\n 3,\n 3,\n 1,\n 0,\n 0,\n 3,\n 3,\n 0,\n 1,\n 0,\n 0,\n 0,\n 0,\n 0,\n 0,\n 1,\n 0,\n 3,\n 0,\n 2,\n 4,\n 2,\n 4,\n 3,\n 3,\n 3,\n 0,\n 1,\n 2,\n 0,\n 3,\n 1,\n 3,\n 4,\n 0,\n 3,\n 0,\n 0]"
     },
     "execution_count": 58,
     "metadata": {},
     "output_type": "execute_result"
    }
   ],
   "source": [
    "categories_predicted"
   ],
   "metadata": {
    "collapsed": false
   }
  },
  {
   "cell_type": "code",
   "execution_count": 59,
   "outputs": [
    {
     "data": {
      "text/plain": "3419    1\n178     4\n3721    0\n3087    0\n3685    1\n       ..\n3884    4\n3855    0\n2070    4\n1482    0\n2602    0\nName: incidents, Length: 1000, dtype: int64"
     },
     "execution_count": 59,
     "metadata": {},
     "output_type": "execute_result"
    }
   ],
   "source": [
    "y_test"
   ],
   "metadata": {
    "collapsed": false
   }
  },
  {
   "cell_type": "markdown",
   "source": [
    "# Obter as previsões no dataset de submissão"
   ],
   "metadata": {
    "collapsed": false
   }
  },
  {
   "cell_type": "code",
   "execution_count": 18,
   "outputs": [
    {
     "data": {
      "text/plain": "      affected_roads  avg_atm_pressure  avg_humidity  avg_wind_speed  rain  \\\n0           0.142857           0.59375      0.784946        0.000000   0.0   \n1           0.142857           0.59375      0.365591        0.222222   0.0   \n2           0.142857           0.56250      0.688172        0.000000   0.0   \n3           0.285714           0.28125      0.795699        0.333333   0.0   \n4           0.142857           0.71875      0.849462        0.000000   0.0   \n...              ...               ...           ...             ...   ...   \n1201        0.142857           0.81250      0.677419        0.222222   0.0   \n1202        0.142857           0.53125      0.344086        0.222222   0.0   \n1203        0.142857           0.59375      0.569892        0.000000   0.0   \n1204        0.142857           0.50000      0.462366        0.111111   0.0   \n1205        0.142857           0.71875      0.408602        0.111111   0.0   \n\n      delay  luminosity_binned  record_date_hour  record_date_month  \\\n0       1.0                0.5          0.826087           0.272727   \n1       0.0                1.0          0.173913           0.818182   \n2       0.0                0.5          0.826087           0.545455   \n3       1.0                0.5          0.652174           0.818182   \n4       0.0                0.5          0.434783           0.818182   \n...     ...                ...               ...                ...   \n1201    0.0                0.5          0.434783           1.000000   \n1202    1.0                1.0          0.000000           0.545455   \n1203    1.0                0.5          0.652174           1.000000   \n1204    1.0                0.5          0.739130           0.181818   \n1205    0.0                0.5          0.434783           0.454545   \n\n      record_date_weekday  temperature  \n0                0.166667          0.5  \n1                0.333333          0.5  \n2                1.000000          1.0  \n3                0.833333          0.5  \n4                0.000000          1.0  \n...                   ...          ...  \n1201             0.666667          0.5  \n1202             0.666667          1.0  \n1203             1.000000          0.5  \n1204             0.000000          0.5  \n1205             1.000000          0.5  \n\n[1206 rows x 11 columns]",
      "text/html": "<div>\n<style scoped>\n    .dataframe tbody tr th:only-of-type {\n        vertical-align: middle;\n    }\n\n    .dataframe tbody tr th {\n        vertical-align: top;\n    }\n\n    .dataframe thead th {\n        text-align: right;\n    }\n</style>\n<table border=\"1\" class=\"dataframe\">\n  <thead>\n    <tr style=\"text-align: right;\">\n      <th></th>\n      <th>affected_roads</th>\n      <th>avg_atm_pressure</th>\n      <th>avg_humidity</th>\n      <th>avg_wind_speed</th>\n      <th>rain</th>\n      <th>delay</th>\n      <th>luminosity_binned</th>\n      <th>record_date_hour</th>\n      <th>record_date_month</th>\n      <th>record_date_weekday</th>\n      <th>temperature</th>\n    </tr>\n  </thead>\n  <tbody>\n    <tr>\n      <th>0</th>\n      <td>0.142857</td>\n      <td>0.59375</td>\n      <td>0.784946</td>\n      <td>0.000000</td>\n      <td>0.0</td>\n      <td>1.0</td>\n      <td>0.5</td>\n      <td>0.826087</td>\n      <td>0.272727</td>\n      <td>0.166667</td>\n      <td>0.5</td>\n    </tr>\n    <tr>\n      <th>1</th>\n      <td>0.142857</td>\n      <td>0.59375</td>\n      <td>0.365591</td>\n      <td>0.222222</td>\n      <td>0.0</td>\n      <td>0.0</td>\n      <td>1.0</td>\n      <td>0.173913</td>\n      <td>0.818182</td>\n      <td>0.333333</td>\n      <td>0.5</td>\n    </tr>\n    <tr>\n      <th>2</th>\n      <td>0.142857</td>\n      <td>0.56250</td>\n      <td>0.688172</td>\n      <td>0.000000</td>\n      <td>0.0</td>\n      <td>0.0</td>\n      <td>0.5</td>\n      <td>0.826087</td>\n      <td>0.545455</td>\n      <td>1.000000</td>\n      <td>1.0</td>\n    </tr>\n    <tr>\n      <th>3</th>\n      <td>0.285714</td>\n      <td>0.28125</td>\n      <td>0.795699</td>\n      <td>0.333333</td>\n      <td>0.0</td>\n      <td>1.0</td>\n      <td>0.5</td>\n      <td>0.652174</td>\n      <td>0.818182</td>\n      <td>0.833333</td>\n      <td>0.5</td>\n    </tr>\n    <tr>\n      <th>4</th>\n      <td>0.142857</td>\n      <td>0.71875</td>\n      <td>0.849462</td>\n      <td>0.000000</td>\n      <td>0.0</td>\n      <td>0.0</td>\n      <td>0.5</td>\n      <td>0.434783</td>\n      <td>0.818182</td>\n      <td>0.000000</td>\n      <td>1.0</td>\n    </tr>\n    <tr>\n      <th>...</th>\n      <td>...</td>\n      <td>...</td>\n      <td>...</td>\n      <td>...</td>\n      <td>...</td>\n      <td>...</td>\n      <td>...</td>\n      <td>...</td>\n      <td>...</td>\n      <td>...</td>\n      <td>...</td>\n    </tr>\n    <tr>\n      <th>1201</th>\n      <td>0.142857</td>\n      <td>0.81250</td>\n      <td>0.677419</td>\n      <td>0.222222</td>\n      <td>0.0</td>\n      <td>0.0</td>\n      <td>0.5</td>\n      <td>0.434783</td>\n      <td>1.000000</td>\n      <td>0.666667</td>\n      <td>0.5</td>\n    </tr>\n    <tr>\n      <th>1202</th>\n      <td>0.142857</td>\n      <td>0.53125</td>\n      <td>0.344086</td>\n      <td>0.222222</td>\n      <td>0.0</td>\n      <td>1.0</td>\n      <td>1.0</td>\n      <td>0.000000</td>\n      <td>0.545455</td>\n      <td>0.666667</td>\n      <td>1.0</td>\n    </tr>\n    <tr>\n      <th>1203</th>\n      <td>0.142857</td>\n      <td>0.59375</td>\n      <td>0.569892</td>\n      <td>0.000000</td>\n      <td>0.0</td>\n      <td>1.0</td>\n      <td>0.5</td>\n      <td>0.652174</td>\n      <td>1.000000</td>\n      <td>1.000000</td>\n      <td>0.5</td>\n    </tr>\n    <tr>\n      <th>1204</th>\n      <td>0.142857</td>\n      <td>0.50000</td>\n      <td>0.462366</td>\n      <td>0.111111</td>\n      <td>0.0</td>\n      <td>1.0</td>\n      <td>0.5</td>\n      <td>0.739130</td>\n      <td>0.181818</td>\n      <td>0.000000</td>\n      <td>0.5</td>\n    </tr>\n    <tr>\n      <th>1205</th>\n      <td>0.142857</td>\n      <td>0.71875</td>\n      <td>0.408602</td>\n      <td>0.111111</td>\n      <td>0.0</td>\n      <td>0.0</td>\n      <td>0.5</td>\n      <td>0.434783</td>\n      <td>0.454545</td>\n      <td>1.000000</td>\n      <td>0.5</td>\n    </tr>\n  </tbody>\n</table>\n<p>1206 rows × 11 columns</p>\n</div>"
     },
     "execution_count": 18,
     "metadata": {},
     "output_type": "execute_result"
    }
   ],
   "source": [
    "X = neural_network_data_preparation(test_df)\n",
    "\n",
    "scaler_X = MinMaxScaler(feature_range=(0, 1)).fit(X)\n",
    "X_scaled = pd.DataFrame(scaler_X.transform(X[X.columns]), columns=X.columns)\n",
    "\n",
    "X_scaled"
   ],
   "metadata": {
    "collapsed": false
   }
  },
  {
   "cell_type": "code",
   "execution_count": 79,
   "outputs": [
    {
     "name": "stdout",
     "output_type": "stream",
     "text": [
      "157/157 [==============================] - 0s 581us/step\n"
     ]
    },
    {
     "data": {
      "text/plain": "array([[8.06052864e-01, 1.08760618e-01, 6.04739301e-02, 2.35867519e-02,\n        1.12582510e-03],\n       [9.02602673e-01, 7.87358657e-02, 1.40679125e-02, 4.52117668e-03,\n        7.22777186e-05],\n       [8.35287452e-01, 1.21180668e-01, 3.17842290e-02, 1.10725844e-02,\n        6.74955838e-04],\n       ...,\n       [9.09227788e-01, 3.51204611e-02, 4.22889255e-02, 1.31193772e-02,\n        2.43412243e-04],\n       [8.09608102e-01, 1.49051800e-01, 1.99526288e-02, 2.07594763e-02,\n        6.27925037e-04],\n       [9.07103837e-01, 7.61709660e-02, 1.32241165e-02, 3.44768935e-03,\n        5.34562278e-05]], dtype=float32)"
     },
     "execution_count": 79,
     "metadata": {},
     "output_type": "execute_result"
    }
   ],
   "source": [
    "categories_prob_predictions = model.predict(X_scaled)\n",
    "\n",
    "categories_prob_predictions"
   ],
   "metadata": {
    "collapsed": false
   }
  },
  {
   "cell_type": "code",
   "execution_count": 80,
   "outputs": [
    {
     "data": {
      "text/plain": "[0, 0, 0, 4, 0, 0, 0, 3, 3, 4]"
     },
     "execution_count": 80,
     "metadata": {},
     "output_type": "execute_result"
    }
   ],
   "source": [
    "numerical_predictions = [np.argmax(pred) for pred in categories_prob_predictions]\n",
    "\n",
    "numerical_predictions[:10]"
   ],
   "metadata": {
    "collapsed": false
   }
  },
  {
   "cell_type": "code",
   "execution_count": 81,
   "outputs": [],
   "source": [
    "numerical_predictions_df = pd.DataFrame(numerical_predictions)\n",
    "\n",
    "incidents_categories = {\n",
    "    0: 'None',\n",
    "    1: 'Low',\n",
    "    2: 'Medium',\n",
    "    3: 'High',\n",
    "    4: 'Very_High',\n",
    "}\n",
    "\n",
    "predictions_df = numerical_predictions_df.replace(incidents_categories)"
   ],
   "metadata": {
    "collapsed": false
   }
  },
  {
   "cell_type": "code",
   "execution_count": 82,
   "outputs": [],
   "source": [
    "predictions_df.index += 1\n",
    "\n",
    "predictions_df.to_csv(\"submission.csv\", header=['Incidents'], index_label='RowId')"
   ],
   "metadata": {
    "collapsed": false
   }
  },
  {
   "cell_type": "code",
   "execution_count": null,
   "outputs": [],
   "source": [],
   "metadata": {
    "collapsed": false,
    "pycharm": {
     "is_executing": true
    }
   }
  },
  {
   "cell_type": "code",
   "execution_count": 82,
   "outputs": [],
   "source": [],
   "metadata": {
    "collapsed": false
   }
  }
 ],
 "metadata": {
  "kernelspec": {
   "display_name": "Python 3",
   "language": "python",
   "name": "python3"
  },
  "language_info": {
   "codemirror_mode": {
    "name": "ipython",
    "version": 2
   },
   "file_extension": ".py",
   "mimetype": "text/x-python",
   "name": "python",
   "nbconvert_exporter": "python",
   "pygments_lexer": "ipython2",
   "version": "2.7.6"
  }
 },
 "nbformat": 4,
 "nbformat_minor": 0
}
