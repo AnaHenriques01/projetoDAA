{
 "cells": [
  {
   "cell_type": "markdown",
   "source": [
    "# Imports"
   ],
   "metadata": {
    "collapsed": false
   }
  },
  {
   "cell_type": "code",
   "execution_count": 1,
   "outputs": [
    {
     "name": "stdout",
     "output_type": "stream",
     "text": [
      "2.9.1\n"
     ]
    }
   ],
   "source": [
    "import pandas as pd\n",
    "import numpy as np\n",
    "import matplotlib.pyplot as plt\n",
    "import seaborn as sns\n",
    "import time\n",
    "\n",
    "from sklearn.model_selection import train_test_split\n",
    "from sklearn.model_selection import cross_val_score\n",
    "\n",
    "from sklearn.tree import DecisionTreeClassifier\n",
    "from sklearn.tree import DecisionTreeRegressor\n",
    "\n",
    "from sklearn.metrics import confusion_matrix, ConfusionMatrixDisplay\n",
    "from sklearn.metrics import recall_score\n",
    "from sklearn.metrics import accuracy_score\n",
    "from sklearn.metrics import precision_score\n",
    "from sklearn.metrics import roc_curve\n",
    "from sklearn.metrics import f1_score\n",
    "from sklearn.metrics import fbeta_score\n",
    "from sklearn.metrics import mean_absolute_error\n",
    "from sklearn.metrics import mean_squared_error\n",
    "\n",
    "import tensorflow as tf\n",
    "from tensorflow.python.keras.models import Sequential\n",
    "from tensorflow.python.keras.layers import Dense, Dropout\n",
    "from tensorflow.python.keras.losses import SparseCategoricalCrossentropy\n",
    "from tensorflow.python.keras.wrappers.scikit_learn import KerasRegressor\n",
    "from sklearn.model_selection import GridSearchCV, KFold, train_test_split\n",
    "from sklearn.preprocessing import MinMaxScaler\n",
    "\n",
    "from sklearn.model_selection import train_test_split\n",
    "\n",
    "%matplotlib inline\n",
    "\n",
    "print(tf.__version__)\n"
   ],
   "metadata": {
    "collapsed": false
   }
  },
  {
   "cell_type": "markdown",
   "source": [
    "# Carregamento de dados"
   ],
   "metadata": {
    "collapsed": false
   }
  },
  {
   "cell_type": "code",
   "execution_count": 2,
   "outputs": [],
   "source": [
    "TRAINING_DATASET_SOURCE = 'training_data.csv'\n",
    "TEST_DATASET_SOURCE = 'test_data.csv'\n",
    "\n",
    "train_df = pd.read_csv(TRAINING_DATASET_SOURCE)\n",
    "test_df = pd.read_csv(TEST_DATASET_SOURCE)"
   ],
   "metadata": {
    "collapsed": false
   }
  },
  {
   "cell_type": "markdown",
   "source": [
    "# SEED utilizada"
   ],
   "metadata": {
    "collapsed": false
   }
  },
  {
   "cell_type": "code",
   "execution_count": 3,
   "outputs": [],
   "source": [
    "SEED = 101"
   ],
   "metadata": {
    "collapsed": false
   }
  },
  {
   "cell_type": "markdown",
   "source": [
    "# Preparação dos dados"
   ],
   "metadata": {
    "collapsed": false
   }
  },
  {
   "cell_type": "code",
   "execution_count": 4,
   "outputs": [],
   "source": [
    "\n",
    "#### Data Preparation\n",
    "def neural_network_data_preparation(df: pd.DataFrame) -> pd.DataFrame:\n",
    "    dropped_columns = ['city_name', 'magnitude_of_delay', 'avg_precipitation']\n",
    "\n",
    "    prep_df = df.drop(dropped_columns, axis=1)\n",
    "\n",
    "    ### Agrupar em 2 bins a feature 'avg_rain'\n",
    "    prep_df.loc[prep_df['avg_rain'] == 'Sem Chuva', 'rain'] = 0\n",
    "    prep_df.loc[prep_df['avg_rain'] != 'Sem Chuva', 'rain'] = 1\n",
    "\n",
    "    prep_df.drop(columns=['avg_rain'], inplace=True)\n",
    "\n",
    "    ### Agrupar em 2 bins a feature 'delay_in_seconds'\n",
    "    prep_df.loc[prep_df['delay_in_seconds'] == 0, 'delay'] = 0  # 'NONE'\n",
    "    prep_df.loc[prep_df['delay_in_seconds'] >= 1, 'delay'] = 1  # 'DELAYED'\n",
    "\n",
    "    prep_df.drop(columns=['delay_in_seconds'], inplace=True)\n",
    "\n",
    "    ### Agrupar em 3 bins a feature 'luminosity'\n",
    "    prep_df.loc[prep_df['luminosity'] == 'LOW_LIGHT', 'luminosity_binned'] = 0\n",
    "    prep_df.loc[prep_df['luminosity'] == 'LIGHT', 'luminosity_binned'] = 1\n",
    "    prep_df.loc[prep_df['luminosity'] == 'DARK', 'luminosity_binned'] = 2\n",
    "\n",
    "    prep_df.drop(columns=['luminosity'], inplace=True)\n",
    "\n",
    "    ### Extrair a hora e dia da semana da feature 'record_date'\n",
    "    record_date = pd.DatetimeIndex(prep_df['record_date'])\n",
    "\n",
    "    prep_df['record_date_hour'] = record_date.hour\n",
    "    prep_df['record_date_day'] = record_date.day\n",
    "    prep_df['record_date_month'] = record_date.month\n",
    "    prep_df['record_date_weekday'] = record_date.weekday\n",
    "\n",
    "    prep_df.drop(columns=['record_date'], inplace=True)\n",
    "\n",
    "    ### Agrupar em 3 bins a feature 'avg_temperature'\n",
    "\n",
    "    prep_df.loc[prep_df['avg_temperature'].between(0, 10, 'right'), 'temperature'] = 0  #'LOW'\n",
    "    prep_df.loc[prep_df['avg_temperature'].between(10, 19, 'both'), 'temperature'] = 1  #'MEAN'\n",
    "    prep_df.loc[prep_df['avg_temperature'].between(19, 35, 'right'), 'temperature'] = 2  #'HIGH'\n",
    "\n",
    "    prep_df.drop(columns=['avg_temperature'], inplace=True)\n",
    "\n",
    "    ### Quantificar a feature 'affected_roads' para o número único de estradas afetadas\n",
    "    road_quantity = []\n",
    "    for line in prep_df['affected_roads']:\n",
    "        res = set(str(line).split(','))\n",
    "        res2 = [elem for elem in res if elem != '']\n",
    "        count = len(res2)\n",
    "        road_quantity.append(count)\n",
    "\n",
    "    prep_df['affected_roads'] = road_quantity\n",
    "\n",
    "    ### (?) Remover outliers da feature 'avg_wind_speed'\n",
    "\n",
    "    # outliers = train_df[\"avg_wind_speed\"].quantile(8.0)\n",
    "    # X.drop(X[X['avg_wind_speed'] >= 8.0].index, inplace=True)\n",
    "\n",
    "    ### Target\n",
    "    if 'incidents' in prep_df.columns:\n",
    "        prep_df.loc[prep_df['incidents'] == 'None', 'incidents_binned'] = 0  # 'None'\n",
    "        prep_df.loc[prep_df['incidents'] == 'Low', 'incidents_binned'] = 1  # 'Low'\n",
    "        prep_df.loc[prep_df['incidents'] == 'Medium', 'incidents_binned'] = 2  # 'Medium'\n",
    "        prep_df.loc[prep_df['incidents'] == 'High', 'incidents_binned'] = 3  #'High'\n",
    "        prep_df.loc[prep_df['incidents'] == 'Very_High', 'incidents_binned'] = 4  #'Very_High'\n",
    "\n",
    "        prep_df.drop(columns=['incidents'], inplace=True)\n",
    "\n",
    "    return prep_df"
   ],
   "metadata": {
    "collapsed": false
   }
  },
  {
   "cell_type": "code",
   "execution_count": 5,
   "outputs": [],
   "source": [
    "X = neural_network_data_preparation(train_df)\n",
    "y = X['incidents_binned']\n",
    "\n",
    "X.drop(columns=['incidents_binned'], inplace=True)"
   ],
   "metadata": {
    "collapsed": false
   }
  },
  {
   "cell_type": "code",
   "execution_count": 6,
   "outputs": [],
   "source": [
    "scaler_X = MinMaxScaler(feature_range=(0, 1)).fit(X)\n",
    "X_scaled = pd.DataFrame(scaler_X.transform(X[X.columns]), columns=X.columns)"
   ],
   "metadata": {
    "collapsed": false
   }
  },
  {
   "cell_type": "code",
   "execution_count": 7,
   "outputs": [],
   "source": [
    "X_train, X_test, y_train, y_test = train_test_split(X_scaled, y, test_size=0.2, random_state=SEED)"
   ],
   "metadata": {
    "collapsed": false
   }
  },
  {
   "cell_type": "markdown",
   "source": [
    "# Construção da estrutura da rede neuronal"
   ],
   "metadata": {
    "collapsed": false
   }
  },
  {
   "cell_type": "code",
   "execution_count": 8,
   "outputs": [],
   "source": [
    "def build_model(activation='relu', learning_rate=0.01):\n",
    "    # Create a sequential model (with three layers - last one is the output)\n",
    "    model = Sequential(\n",
    "        [\n",
    "            Dense(16, input_dim=12, activation=activation),\n",
    "            Dense(8, activation=activation),\n",
    "\n",
    "            # Output Layer\n",
    "            Dense(5, activation='sigmoid')\n",
    "            # Dense(1, activation='softmax')\n",
    "        ]\n",
    "    )\n",
    "\n",
    "    # Model compilation\n",
    "    model.compile(loss=SparseCategoricalCrossentropy(), optimizer='adam', metrics=['accuracy'])\n",
    "\n",
    "    return model\n"
   ],
   "metadata": {
    "collapsed": false
   }
  },
  {
   "cell_type": "code",
   "execution_count": 9,
   "outputs": [
    {
     "name": "stdout",
     "output_type": "stream",
     "text": [
      "Model: \"sequential\"\n",
      "_________________________________________________________________\n",
      "Layer (type)                 Output Shape              Param #   \n",
      "=================================================================\n",
      "dense (Dense)                (None, 16)                208       \n",
      "_________________________________________________________________\n",
      "dense_1 (Dense)              (None, 8)                 136       \n",
      "_________________________________________________________________\n",
      "dense_2 (Dense)              (None, 5)                 45        \n",
      "=================================================================\n",
      "Total params: 389\n",
      "Trainable params: 389\n",
      "Non-trainable params: 0\n",
      "_________________________________________________________________\n"
     ]
    }
   ],
   "source": [
    "model = build_model()\n",
    "\n",
    "model.summary()"
   ],
   "metadata": {
    "collapsed": false
   }
  },
  {
   "cell_type": "code",
   "execution_count": 10,
   "outputs": [
    {
     "name": "stdout",
     "output_type": "stream",
     "text": [
      "Epoch 1/50\n",
      "200/200 [==============================] - 0s 1ms/step - loss: 1.4435 - accuracy: 0.4160 - val_loss: 1.3068 - val_accuracy: 0.4860\n",
      "Epoch 2/50\n",
      "200/200 [==============================] - 0s 745us/step - loss: 1.2290 - accuracy: 0.5160 - val_loss: 1.1834 - val_accuracy: 0.5300\n",
      "Epoch 3/50\n",
      "200/200 [==============================] - 0s 766us/step - loss: 1.1441 - accuracy: 0.5245 - val_loss: 1.1288 - val_accuracy: 0.5260\n",
      "Epoch 4/50\n",
      "200/200 [==============================] - 0s 755us/step - loss: 1.0986 - accuracy: 0.5335 - val_loss: 1.0950 - val_accuracy: 0.5420\n",
      "Epoch 5/50\n",
      "200/200 [==============================] - 0s 750us/step - loss: 1.0602 - accuracy: 0.5433 - val_loss: 1.0558 - val_accuracy: 0.5490\n",
      "Epoch 6/50\n",
      "200/200 [==============================] - 0s 735us/step - loss: 1.0195 - accuracy: 0.5713 - val_loss: 1.0232 - val_accuracy: 0.5690\n",
      "Epoch 7/50\n",
      "200/200 [==============================] - 0s 735us/step - loss: 0.9868 - accuracy: 0.6072 - val_loss: 0.9857 - val_accuracy: 0.6550\n",
      "Epoch 8/50\n",
      "200/200 [==============================] - 0s 740us/step - loss: 0.9544 - accuracy: 0.6432 - val_loss: 0.9539 - val_accuracy: 0.6540\n",
      "Epoch 9/50\n",
      "200/200 [==============================] - 0s 725us/step - loss: 0.9286 - accuracy: 0.6562 - val_loss: 0.9273 - val_accuracy: 0.6630\n",
      "Epoch 10/50\n",
      "200/200 [==============================] - 0s 755us/step - loss: 0.9053 - accuracy: 0.6665 - val_loss: 0.9059 - val_accuracy: 0.6750\n",
      "Epoch 11/50\n",
      "200/200 [==============================] - 0s 775us/step - loss: 0.8870 - accuracy: 0.6710 - val_loss: 0.8897 - val_accuracy: 0.6880\n",
      "Epoch 12/50\n",
      "200/200 [==============================] - 0s 740us/step - loss: 0.8751 - accuracy: 0.6747 - val_loss: 0.8757 - val_accuracy: 0.6780\n",
      "Epoch 13/50\n",
      "200/200 [==============================] - 0s 741us/step - loss: 0.8640 - accuracy: 0.6770 - val_loss: 0.8624 - val_accuracy: 0.6890\n",
      "Epoch 14/50\n",
      "200/200 [==============================] - 0s 740us/step - loss: 0.8535 - accuracy: 0.6837 - val_loss: 0.8639 - val_accuracy: 0.6860\n",
      "Epoch 15/50\n",
      "200/200 [==============================] - 0s 740us/step - loss: 0.8472 - accuracy: 0.6812 - val_loss: 0.8481 - val_accuracy: 0.6910\n",
      "Epoch 16/50\n",
      "200/200 [==============================] - 0s 740us/step - loss: 0.8383 - accuracy: 0.6858 - val_loss: 0.8374 - val_accuracy: 0.6910\n",
      "Epoch 17/50\n",
      "200/200 [==============================] - 0s 740us/step - loss: 0.8328 - accuracy: 0.6895 - val_loss: 0.8350 - val_accuracy: 0.6860\n",
      "Epoch 18/50\n",
      "200/200 [==============================] - 0s 740us/step - loss: 0.8250 - accuracy: 0.6938 - val_loss: 0.8317 - val_accuracy: 0.6930\n",
      "Epoch 19/50\n",
      "200/200 [==============================] - 0s 735us/step - loss: 0.8184 - accuracy: 0.6940 - val_loss: 0.8225 - val_accuracy: 0.6980\n",
      "Epoch 20/50\n",
      "200/200 [==============================] - 0s 735us/step - loss: 0.8117 - accuracy: 0.6998 - val_loss: 0.8222 - val_accuracy: 0.6910\n",
      "Epoch 21/50\n",
      "200/200 [==============================] - 0s 745us/step - loss: 0.8058 - accuracy: 0.6988 - val_loss: 0.8164 - val_accuracy: 0.6950\n",
      "Epoch 22/50\n",
      "200/200 [==============================] - 0s 750us/step - loss: 0.8013 - accuracy: 0.7020 - val_loss: 0.8104 - val_accuracy: 0.7070\n",
      "Epoch 23/50\n",
      "200/200 [==============================] - 0s 781us/step - loss: 0.7952 - accuracy: 0.7028 - val_loss: 0.8046 - val_accuracy: 0.7020\n",
      "Epoch 24/50\n",
      "200/200 [==============================] - 0s 761us/step - loss: 0.7904 - accuracy: 0.7048 - val_loss: 0.8075 - val_accuracy: 0.7070\n",
      "Epoch 25/50\n",
      "200/200 [==============================] - 0s 745us/step - loss: 0.7858 - accuracy: 0.7017 - val_loss: 0.7987 - val_accuracy: 0.7050\n",
      "Epoch 26/50\n",
      "200/200 [==============================] - 0s 756us/step - loss: 0.7835 - accuracy: 0.7063 - val_loss: 0.7959 - val_accuracy: 0.7090\n",
      "Epoch 27/50\n",
      "200/200 [==============================] - 0s 768us/step - loss: 0.7764 - accuracy: 0.7092 - val_loss: 0.7905 - val_accuracy: 0.7100\n",
      "Epoch 28/50\n",
      "200/200 [==============================] - 0s 783us/step - loss: 0.7705 - accuracy: 0.7080 - val_loss: 0.7965 - val_accuracy: 0.7000\n",
      "Epoch 29/50\n",
      "200/200 [==============================] - 0s 730us/step - loss: 0.7680 - accuracy: 0.7038 - val_loss: 0.7818 - val_accuracy: 0.7090\n",
      "Epoch 30/50\n",
      "200/200 [==============================] - 0s 770us/step - loss: 0.7604 - accuracy: 0.7080 - val_loss: 0.7763 - val_accuracy: 0.7050\n",
      "Epoch 31/50\n",
      "200/200 [==============================] - 0s 735us/step - loss: 0.7519 - accuracy: 0.7055 - val_loss: 0.7693 - val_accuracy: 0.7090\n",
      "Epoch 32/50\n",
      "200/200 [==============================] - 0s 740us/step - loss: 0.7447 - accuracy: 0.7095 - val_loss: 0.7621 - val_accuracy: 0.7160\n",
      "Epoch 33/50\n",
      "200/200 [==============================] - 0s 740us/step - loss: 0.7413 - accuracy: 0.7143 - val_loss: 0.7556 - val_accuracy: 0.7040\n",
      "Epoch 34/50\n",
      "200/200 [==============================] - 0s 740us/step - loss: 0.7334 - accuracy: 0.7090 - val_loss: 0.7602 - val_accuracy: 0.7010\n",
      "Epoch 35/50\n",
      "200/200 [==============================] - 0s 735us/step - loss: 0.7257 - accuracy: 0.7107 - val_loss: 0.7439 - val_accuracy: 0.7230\n",
      "Epoch 36/50\n",
      "200/200 [==============================] - 0s 740us/step - loss: 0.7209 - accuracy: 0.7160 - val_loss: 0.7405 - val_accuracy: 0.7060\n",
      "Epoch 37/50\n",
      "200/200 [==============================] - 0s 751us/step - loss: 0.7156 - accuracy: 0.7203 - val_loss: 0.7310 - val_accuracy: 0.7160\n",
      "Epoch 38/50\n",
      "200/200 [==============================] - 0s 745us/step - loss: 0.7108 - accuracy: 0.7212 - val_loss: 0.7280 - val_accuracy: 0.7140\n",
      "Epoch 39/50\n",
      "200/200 [==============================] - 0s 761us/step - loss: 0.7056 - accuracy: 0.7228 - val_loss: 0.7244 - val_accuracy: 0.7200\n",
      "Epoch 40/50\n",
      "200/200 [==============================] - 0s 735us/step - loss: 0.7020 - accuracy: 0.7287 - val_loss: 0.7284 - val_accuracy: 0.7130\n",
      "Epoch 41/50\n",
      "200/200 [==============================] - 0s 776us/step - loss: 0.6974 - accuracy: 0.7287 - val_loss: 0.7145 - val_accuracy: 0.7190\n",
      "Epoch 42/50\n",
      "200/200 [==============================] - 0s 818us/step - loss: 0.6934 - accuracy: 0.7315 - val_loss: 0.7120 - val_accuracy: 0.7380\n",
      "Epoch 43/50\n",
      "200/200 [==============================] - 0s 786us/step - loss: 0.6887 - accuracy: 0.7387 - val_loss: 0.7141 - val_accuracy: 0.7110\n",
      "Epoch 44/50\n",
      "200/200 [==============================] - 0s 755us/step - loss: 0.6861 - accuracy: 0.7358 - val_loss: 0.7133 - val_accuracy: 0.7210\n",
      "Epoch 45/50\n",
      "200/200 [==============================] - 0s 776us/step - loss: 0.6835 - accuracy: 0.7383 - val_loss: 0.6999 - val_accuracy: 0.7310\n",
      "Epoch 46/50\n",
      "200/200 [==============================] - 0s 803us/step - loss: 0.6813 - accuracy: 0.7437 - val_loss: 0.7012 - val_accuracy: 0.7270\n",
      "Epoch 47/50\n",
      "200/200 [==============================] - 0s 745us/step - loss: 0.6777 - accuracy: 0.7410 - val_loss: 0.6985 - val_accuracy: 0.7400\n",
      "Epoch 48/50\n",
      "200/200 [==============================] - 0s 755us/step - loss: 0.6762 - accuracy: 0.7437 - val_loss: 0.6973 - val_accuracy: 0.7230\n",
      "Epoch 49/50\n",
      "200/200 [==============================] - 0s 786us/step - loss: 0.6736 - accuracy: 0.7412 - val_loss: 0.6943 - val_accuracy: 0.7350\n",
      "Epoch 50/50\n",
      "200/200 [==============================] - 0s 783us/step - loss: 0.6721 - accuracy: 0.7435 - val_loss: 0.6913 - val_accuracy: 0.7480\n"
     ]
    }
   ],
   "source": [
    "history = model.fit(X_train, y_train, validation_data=(X_test, y_test), epochs=50, batch_size=20)"
   ],
   "metadata": {
    "collapsed": false
   }
  },
  {
   "cell_type": "code",
   "execution_count": 11,
   "metadata": {
    "collapsed": true
   },
   "outputs": [
    {
     "data": {
      "text/plain": "<Figure size 640x480 with 1 Axes>",
      "image/png": "[encoded data removed]"
     },
     "metadata": {},
     "output_type": "display_data"
    }
   ],
   "source": [
    "history_dict = history.history\n",
    "\n",
    "acc = history_dict['accuracy']\n",
    "loss = history_dict['loss']\n",
    "\n",
    "epochs = range(1, len(acc) + 1)\n",
    "\n",
    "# \"bo\" is for \"blue dot\"\n",
    "plt.plot(epochs, loss, 'bo', label='Training loss')\n",
    "# b is for \"solid blue line\"\n",
    "plt.plot(epochs, acc, 'b', label='Validation loss')\n",
    "plt.title('Training and validation loss')\n",
    "plt.xlabel('Epochs')\n",
    "plt.ylabel('Loss')\n",
    "plt.legend()\n",
    "\n",
    "plt.show()"
   ]
  },
  {
   "cell_type": "code",
   "execution_count": 12,
   "outputs": [
    {
     "name": "stdout",
     "output_type": "stream",
     "text": [
      "32/32 [==============================] - 0s 718us/step - loss: 0.6913 - accuracy: 0.7480\n"
     ]
    }
   ],
   "source": [
    "loss, accuracy = model.evaluate(X_test, y_test, verbose=1)"
   ],
   "metadata": {
    "collapsed": false
   }
  },
  {
   "cell_type": "code",
   "execution_count": 13,
   "outputs": [],
   "source": [
    "# probability_model = Sequential([model, tf.keras.layers.Dense(1, activation='softmax')])"
   ],
   "metadata": {
    "collapsed": false
   }
  },
  {
   "cell_type": "code",
   "execution_count": 14,
   "outputs": [
    {
     "data": {
      "text/plain": "[0,\n 4,\n 4,\n 0,\n 0,\n 0,\n 0,\n 0,\n 1,\n 0,\n 3,\n 0,\n 0,\n 0,\n 0,\n 0,\n 0,\n 3,\n 1,\n 4,\n 0,\n 3,\n 1,\n 1,\n 0,\n 0,\n 0,\n 0,\n 0,\n 1,\n 4,\n 3,\n 0,\n 1,\n 1,\n 0,\n 0,\n 1,\n 3,\n 1,\n 0,\n 0,\n 1,\n 0,\n 0,\n 0,\n 0,\n 0,\n 0,\n 0,\n 4,\n 3,\n 2,\n 0,\n 3,\n 3,\n 0,\n 0,\n 0,\n 1,\n 0,\n 1,\n 1,\n 0,\n 4,\n 0,\n 0,\n 0,\n 3,\n 0,\n 4,\n 0,\n 0,\n 2,\n 1,\n 1,\n 0,\n 1,\n 4,\n 3,\n 1,\n 0,\n 3,\n 3,\n 0,\n 0,\n 0,\n 0,\n 0,\n 0,\n 2,\n 0,\n 0,\n 1,\n 1,\n 1,\n 3,\n 4,\n 1,\n 4,\n 0,\n 1,\n 0,\n 3,\n 1,\n 1,\n 0,\n 1,\n 0,\n 0,\n 1,\n 0,\n 0,\n 0,\n 1,\n 4,\n 0,\n 0,\n 0,\n 4,\n 0,\n 0,\n 0,\n 1,\n 4,\n 0,\n 1,\n 0,\n 1,\n 1,\n 1,\n 1,\n 0,\n 1,\n 0,\n 3,\n 4,\n 1,\n 0,\n 0,\n 0,\n 3,\n 0,\n 2,\n 1,\n 0,\n 0,\n 1,\n 0,\n 4,\n 1,\n 0,\n 3,\n 0,\n 1,\n 0,\n 1,\n 0,\n 0,\n 3,\n 3,\n 0,\n 1,\n 0,\n 1,\n 0,\n 0,\n 1,\n 1,\n 3,\n 1,\n 0,\n 4,\n 0,\n 0,\n 1,\n 3,\n 0,\n 4,\n 0,\n 1,\n 0,\n 1,\n 1,\n 3,\n 0,\n 4,\n 0,\n 3,\n 1,\n 3,\n 4,\n 0,\n 3,\n 0,\n 1,\n 0,\n 0,\n 0,\n 3,\n 3,\n 4,\n 0,\n 0,\n 3,\n 0,\n 0,\n 4,\n 3,\n 0,\n 0,\n 0,\n 0,\n 1,\n 0,\n 3,\n 3,\n 0,\n 3,\n 0,\n 1,\n 0,\n 4,\n 0,\n 0,\n 0,\n 4,\n 4,\n 0,\n 3,\n 1,\n 0,\n 4,\n 3,\n 1,\n 0,\n 2,\n 3,\n 1,\n 0,\n 1,\n 4,\n 2,\n 3,\n 3,\n 0,\n 0,\n 2,\n 0,\n 1,\n 1,\n 0,\n 0,\n 3,\n 0,\n 0,\n 3,\n 3,\n 1,\n 4,\n 0,\n 0,\n 4,\n 3,\n 0,\n 1,\n 4,\n 0,\n 3,\n 0,\n 1,\n 1,\n 1,\n 2,\n 0,\n 2,\n 0,\n 1,\n 0,\n 3,\n 1,\n 1,\n 0,\n 0,\n 0,\n 3,\n 0,\n 4,\n 1,\n 2,\n 0,\n 0,\n 3,\n 1,\n 1,\n 1,\n 3,\n 3,\n 4,\n 3,\n 3,\n 3,\n 1,\n 0,\n 1,\n 0,\n 0,\n 0,\n 1,\n 0,\n 3,\n 2,\n 4,\n 1,\n 4,\n 0,\n 1,\n 4,\n 3,\n 1,\n 4,\n 4,\n 1,\n 0,\n 4,\n 3,\n 4,\n 0,\n 1,\n 2,\n 0,\n 1,\n 0,\n 0,\n 4,\n 0,\n 0,\n 1,\n 0,\n 0,\n 3,\n 0,\n 1,\n 0,\n 1,\n 1,\n 1,\n 0,\n 3,\n 1,\n 3,\n 0,\n 1,\n 0,\n 0,\n 0,\n 0,\n 1,\n 0,\n 0,\n 3,\n 0,\n 0,\n 2,\n 2,\n 4,\n 3,\n 3,\n 0,\n 0,\n 1,\n 0,\n 0,\n 4,\n 0,\n 4,\n 1,\n 1,\n 1,\n 4,\n 4,\n 4,\n 0,\n 3,\n 0,\n 4,\n 0,\n 4,\n 0,\n 1,\n 2,\n 0,\n 0,\n 0,\n 0,\n 1,\n 3,\n 4,\n 0,\n 0,\n 0,\n 0,\n 1,\n 4,\n 0,\n 3,\n 0,\n 1,\n 0,\n 0,\n 4,\n 4,\n 0,\n 3,\n 0,\n 2,\n 0,\n 3,\n 0,\n 0,\n 4,\n 4,\n 0,\n 0,\n 0,\n 0,\n 3,\n 1,\n 0,\n 1,\n 3,\n 0,\n 4,\n 0,\n 1,\n 0,\n 0,\n 0,\n 4,\n 0,\n 4,\n 4,\n 0,\n 0,\n 1,\n 1,\n 1,\n 1,\n 0,\n 0,\n 0,\n 0,\n 2,\n 0,\n 0,\n 0,\n 1,\n 0,\n 3,\n 0,\n 3,\n 0,\n 4,\n 3,\n 0,\n 0,\n 1,\n 1,\n 0,\n 2,\n 1,\n 0,\n 1,\n 4,\n 0,\n 4,\n 3,\n 1,\n 1,\n 1,\n 3,\n 1,\n 0,\n 3,\n 0,\n 0,\n 3,\n 3,\n 0,\n 3,\n 0,\n 0,\n 0,\n 3,\n 0,\n 0,\n 3,\n 0,\n 0,\n 3,\n 4,\n 4,\n 3,\n 0,\n 0,\n 0,\n 0,\n 0,\n 0,\n 0,\n 3,\n 0,\n 0,\n 0,\n 0,\n 1,\n 3,\n 1,\n 3,\n 0,\n 0,\n 3,\n 0,\n 0,\n 3,\n 1,\n 0,\n 0,\n 0,\n 4,\n 0,\n 1,\n 0,\n 0,\n 4,\n 1,\n 1,\n 0,\n 4,\n 4,\n 4,\n 4,\n 0,\n 4,\n 0,\n 3,\n 1,\n 4,\n 1,\n 0,\n 0,\n 1,\n 4,\n 3,\n 4,\n 0,\n 0,\n 0,\n 4,\n 3,\n 0,\n 0,\n 3,\n 4,\n 1,\n 3,\n 3,\n 4,\n 4,\n 0,\n 3,\n 0,\n 3,\n 0,\n 3,\n 0,\n 4,\n 1,\n 3,\n 0,\n 3,\n 0,\n 3,\n 0,\n 0,\n 4,\n 0,\n 3,\n 4,\n 4,\n 4,\n 3,\n 1,\n 0,\n 0,\n 0,\n 2,\n 0,\n 0,\n 3,\n 3,\n 0,\n 3,\n 4,\n 3,\n 4,\n 0,\n 0,\n 3,\n 0,\n 0,\n 0,\n 4,\n 0,\n 1,\n 4,\n 3,\n 4,\n 3,\n 1,\n 0,\n 4,\n 0,\n 4,\n 1,\n 4,\n 3,\n 0,\n 1,\n 3,\n 0,\n 3,\n 4,\n 0,\n 0,\n 1,\n 0,\n 4,\n 1,\n 0,\n 3,\n 3,\n 4,\n 0,\n 3,\n 1,\n 3,\n 0,\n 0,\n 0,\n 0,\n 0,\n 4,\n 0,\n 3,\n 0,\n 0,\n 0,\n 0,\n 3,\n 0,\n 0,\n 1,\n 2,\n 0,\n 4,\n 1,\n 0,\n 0,\n 0,\n 0,\n 0,\n 3,\n 4,\n 0,\n 0,\n 4,\n 0,\n 4,\n 3,\n 0,\n 0,\n 1,\n 1,\n 0,\n 0,\n 0,\n 0,\n 4,\n 0,\n 0,\n 3,\n 0,\n 1,\n 2,\n 2,\n 0,\n 1,\n 3,\n 0,\n 4,\n 3,\n 0,\n 3,\n 0,\n 0,\n 0,\n 1,\n 3,\n 0,\n 0,\n 0,\n 2,\n 0,\n 0,\n 3,\n 3,\n 4,\n 0,\n 4,\n 0,\n 3,\n 0,\n 0,\n 1,\n 4,\n 0,\n 3,\n 4,\n 0,\n 0,\n 3,\n 0,\n 0,\n 1,\n 0,\n 1,\n 0,\n 0,\n 1,\n 0,\n 0,\n 1,\n 3,\n 1,\n 3,\n 4,\n 4,\n 1,\n 3,\n 3,\n 3,\n 2,\n 4,\n 1,\n 1,\n 3,\n 1,\n 0,\n 4,\n 4,\n 0,\n 1,\n 0,\n 1,\n 0,\n 3,\n 1,\n 0,\n 3,\n 0,\n 3,\n 0,\n 1,\n 0,\n 0,\n 0,\n 0,\n 2,\n 0,\n 1,\n 3,\n 0,\n 0,\n 0,\n 4,\n 4,\n 0,\n 0,\n 0,\n 0,\n 0,\n 3,\n 0,\n 4,\n 3,\n 1,\n 4,\n 3,\n 3,\n 0,\n 1,\n 0,\n 4,\n 3,\n 0,\n 0,\n 1,\n 1,\n 4,\n 0,\n 3,\n 3,\n 0,\n 3,\n 4,\n 0,\n 0,\n 3,\n 4,\n 1,\n 0,\n 0,\n 3,\n 4,\n 0,\n 0,\n 3,\n 3,\n 0,\n 2,\n 0,\n 3,\n 0,\n 0,\n 0,\n 0,\n 2,\n 0,\n 0,\n 1,\n 4,\n 0,\n 0,\n 0,\n 4,\n 3,\n 3,\n 0,\n 0,\n 4,\n 0,\n 3,\n 4,\n 0,\n 0,\n 3,\n 4,\n 4,\n 2,\n 0,\n 3,\n 1,\n 4,\n 0,\n 1,\n 0,\n 4,\n 0,\n 0,\n 3,\n 0,\n 4,\n 0,\n 4,\n 0,\n 0,\n 0,\n 0,\n 3,\n 1,\n 4,\n 0,\n 3,\n 4,\n 4,\n 3,\n 0,\n 0,\n 3,\n 2,\n 1,\n 1,\n 3,\n 0,\n 3,\n 2,\n 0,\n 0,\n 0,\n 3,\n 4,\n 1,\n 3,\n 3,\n 0,\n 1,\n 0,\n 2,\n 3,\n 1,\n 4,\n 4,\n 0,\n 0,\n 0,\n 1,\n 0,\n 3,\n 1,\n 0,\n 1,\n 0,\n 1,\n 1,\n 0,\n 1,\n 0,\n 0,\n 4,\n 0,\n 4,\n 0,\n 4,\n 1,\n 0,\n 1,\n 0,\n 0,\n 3,\n 0,\n 3,\n 0,\n 3,\n 4,\n 1,\n 0,\n 1,\n 3,\n 1,\n 4,\n 0,\n 4,\n 0,\n 3,\n 0,\n 4,\n 1,\n 3,\n 1,\n 3,\n 3,\n 1,\n 0,\n 1,\n 3,\n 4,\n 1,\n 4,\n 3,\n 3,\n 0,\n 3,\n 0,\n 3,\n 1,\n 0,\n 3,\n 0,\n 1,\n 3,\n 0,\n 1,\n 4,\n 3,\n 0,\n 2,\n 1,\n 0,\n 0,\n 0,\n 1,\n 1,\n 0,\n 4,\n 4,\n 0,\n 1,\n 0,\n 1]"
     },
     "execution_count": 14,
     "metadata": {},
     "output_type": "execute_result"
    }
   ],
   "source": [
    "predicts = model.predict(X_test)\n",
    "\n",
    "categories_predicted = [np.argmax(pred) for pred in predicts]\n",
    "\n",
    "categories_predicted"
   ],
   "metadata": {
    "collapsed": false
   }
  },
  {
   "cell_type": "code",
   "execution_count": 15,
   "outputs": [
    {
     "data": {
      "text/plain": "1718    0.0\n2511    1.0\n345     1.0\n2521    0.0\n54      0.0\n       ... \n3900    4.0\n3753    0.0\n3582    3.0\n2392    0.0\n3343    4.0\nName: incidents_binned, Length: 1000, dtype: float64"
     },
     "execution_count": 15,
     "metadata": {},
     "output_type": "execute_result"
    }
   ],
   "source": [
    "y_test"
   ],
   "metadata": {
    "collapsed": false
   }
  },
  {
   "cell_type": "code",
   "execution_count": 16,
   "outputs": [],
   "source": [
    "TUNING_DICT = {\n",
    "    'activation': ['relu', 'sigmoid'],\n",
    "    'learning_rate': [0.01, 0.001]\n",
    "}"
   ],
   "metadata": {
    "collapsed": false
   }
  },
  {
   "cell_type": "markdown",
   "source": [
    "# KFolding"
   ],
   "metadata": {
    "collapsed": false
   }
  },
  {
   "cell_type": "code",
   "execution_count": 17,
   "outputs": [],
   "source": [
    "#### Não funciona atualmente!\n",
    "\n",
    "kf = KFold(n_splits=5, shuffle=True, random_state=SEED)\n",
    "\n",
    "grid_search = GridSearchCV(estimator=model,\n",
    "                           param_grid=TUNING_DICT,\n",
    "                           cv=kf,\n",
    "                           scoring='accuracy',\n",
    "                           refit=True,\n",
    "                           error_score=\"raise\",\n",
    "                           verbose=3)\n",
    "\n",
    "#grid_search.fit(X_train, y_train, validation_split=0.2)"
   ],
   "metadata": {
    "collapsed": false
   }
  },
  {
   "cell_type": "markdown",
   "source": [
    "## Resultados"
   ],
   "metadata": {
    "collapsed": false
   }
  },
  {
   "cell_type": "code",
   "execution_count": 18,
   "outputs": [
    {
     "ename": "AttributeError",
     "evalue": "'GridSearchCV' object has no attribute 'best_score_'",
     "output_type": "error",
     "traceback": [
      "\u001B[1;31m---------------------------------------------------------------------------\u001B[0m",
      "\u001B[1;31mAttributeError\u001B[0m                            Traceback (most recent call last)",
      "Cell \u001B[1;32mIn [18], line 2\u001B[0m\n\u001B[0;32m      1\u001B[0m \u001B[38;5;66;03m#summarize results\u001B[39;00m\n\u001B[1;32m----> 2\u001B[0m \u001B[38;5;28mprint\u001B[39m(\u001B[38;5;124m\"\u001B[39m\u001B[38;5;124mBest: \u001B[39m\u001B[38;5;132;01m%f\u001B[39;00m\u001B[38;5;124m using \u001B[39m\u001B[38;5;132;01m%s\u001B[39;00m\u001B[38;5;124m\"\u001B[39m \u001B[38;5;241m%\u001B[39m (grid_search\u001B[38;5;241m.\u001B[39mbest_score_, grid_search\u001B[38;5;241m.\u001B[39mbest_params_))\n\u001B[0;32m      3\u001B[0m means \u001B[38;5;241m=\u001B[39m grid_search\u001B[38;5;241m.\u001B[39mcv_results_[\u001B[38;5;124m'\u001B[39m\u001B[38;5;124mmean_test_score\u001B[39m\u001B[38;5;124m'\u001B[39m]\n\u001B[0;32m      4\u001B[0m stds \u001B[38;5;241m=\u001B[39m grid_search\u001B[38;5;241m.\u001B[39mcv_results_[\u001B[38;5;124m'\u001B[39m\u001B[38;5;124mstd_test_score\u001B[39m\u001B[38;5;124m'\u001B[39m]\n",
      "\u001B[1;31mAttributeError\u001B[0m: 'GridSearchCV' object has no attribute 'best_score_'"
     ]
    }
   ],
   "source": [
    "#summarize results\n",
    "print(\"Best: %f using %s\" % (grid_search.best_score_, grid_search.best_params_))\n",
    "means = grid_search.cv_results_['mean_test_score']\n",
    "stds = grid_search.cv_results_['std_test_score']\n",
    "params = grid_search.cv_results_['params']\n",
    "\n",
    "for mean, stdev, param in zip(means, stds, params):\n",
    "    print(\"%f (%f) with: %r\" % (mean, stdev, param))"
   ],
   "metadata": {
    "collapsed": false
   }
  },
  {
   "cell_type": "code",
   "execution_count": 41,
   "outputs": [
    {
     "ename": "NameError",
     "evalue": "name 'grid_search' is not defined",
     "output_type": "error",
     "traceback": [
      "\u001B[1;31m---------------------------------------------------------------------------\u001B[0m",
      "\u001B[1;31mNameError\u001B[0m                                 Traceback (most recent call last)",
      "Cell \u001B[1;32mIn [41], line 1\u001B[0m\n\u001B[1;32m----> 1\u001B[0m best_mlp_model \u001B[38;5;241m=\u001B[39m grid_search\u001B[38;5;241m.\u001B[39mbest_estimator_\n\u001B[0;32m      2\u001B[0m \u001B[38;5;66;03m#Obtain predictions\u001B[39;00m\n\u001B[0;32m      3\u001B[0m predictions \u001B[38;5;241m=\u001B[39m best_mlp_model\u001B[38;5;241m.\u001B[39mpredict(X_test)\n",
      "\u001B[1;31mNameError\u001B[0m: name 'grid_search' is not defined"
     ]
    }
   ],
   "source": [
    "best_mlp_model = grid_search.best_estimator_\n",
    "#Obtain predictions\n",
    "predictions = best_mlp_model.predict(X_test)\n",
    "predictions = predictions.reshape(predictions.shape[0], 1)\n",
    "predictions[:5]\n",
    "\n",
    "plt.scatter(y_test, predictions)\n"
   ],
   "metadata": {
    "collapsed": false
   }
  },
  {
   "cell_type": "markdown",
   "source": [
    "# Obter as previsões no dataset de submissão"
   ],
   "metadata": {
    "collapsed": false
   }
  },
  {
   "cell_type": "code",
   "execution_count": 19,
   "outputs": [
    {
     "data": {
      "text/plain": "      affected_roads  avg_atm_pressure  avg_humidity  avg_wind_speed  rain  \\\n0           0.142857           0.59375      0.784946        0.000000   0.0   \n1           0.142857           0.59375      0.365591        0.222222   0.0   \n2           0.142857           0.56250      0.688172        0.000000   0.0   \n3           0.285714           0.28125      0.795699        0.333333   0.0   \n4           0.142857           0.71875      0.849462        0.000000   0.0   \n...              ...               ...           ...             ...   ...   \n1201        0.142857           0.81250      0.677419        0.222222   0.0   \n1202        0.142857           0.53125      0.344086        0.222222   0.0   \n1203        0.142857           0.59375      0.569892        0.000000   0.0   \n1204        0.142857           0.50000      0.462366        0.111111   0.0   \n1205        0.142857           0.71875      0.408602        0.111111   0.0   \n\n      delay  luminosity_binned  record_date_hour  record_date_day  \\\n0       1.0                0.5          0.826087         0.400000   \n1       0.0                1.0          0.173913         0.400000   \n2       0.0                0.5          0.826087         0.566667   \n3       1.0                0.5          0.652174         0.966667   \n4       0.0                0.5          0.434783         0.566667   \n...     ...                ...               ...              ...   \n1201    0.0                0.5          0.434783         1.000000   \n1202    1.0                1.0          0.000000         0.500000   \n1203    1.0                0.5          0.652174         0.600000   \n1204    1.0                0.5          0.739130         0.233333   \n1205    0.0                0.5          0.434783         0.166667   \n\n      record_date_month  record_date_weekday  temperature  \n0              0.272727             0.166667          0.5  \n1              0.818182             0.333333          0.5  \n2              0.545455             1.000000          1.0  \n3              0.818182             0.833333          0.5  \n4              0.818182             0.000000          1.0  \n...                 ...                  ...          ...  \n1201           1.000000             0.666667          0.5  \n1202           0.545455             0.666667          1.0  \n1203           1.000000             1.000000          0.5  \n1204           0.181818             0.000000          0.5  \n1205           0.454545             1.000000          0.5  \n\n[1206 rows x 12 columns]",
      "text/html": "<div>\n<style scoped>\n    .dataframe tbody tr th:only-of-type {\n        vertical-align: middle;\n    }\n\n    .dataframe tbody tr th {\n        vertical-align: top;\n    }\n\n    .dataframe thead th {\n        text-align: right;\n    }\n</style>\n<table border=\"1\" class=\"dataframe\">\n  <thead>\n    <tr style=\"text-align: right;\">\n      <th></th>\n      <th>affected_roads</th>\n      <th>avg_atm_pressure</th>\n      <th>avg_humidity</th>\n      <th>avg_wind_speed</th>\n      <th>rain</th>\n      <th>delay</th>\n      <th>luminosity_binned</th>\n      <th>record_date_hour</th>\n      <th>record_date_day</th>\n      <th>record_date_month</th>\n      <th>record_date_weekday</th>\n      <th>temperature</th>\n    </tr>\n  </thead>\n  <tbody>\n    <tr>\n      <th>0</th>\n      <td>0.142857</td>\n      <td>0.59375</td>\n      <td>0.784946</td>\n      <td>0.000000</td>\n      <td>0.0</td>\n      <td>1.0</td>\n      <td>0.5</td>\n      <td>0.826087</td>\n      <td>0.400000</td>\n      <td>0.272727</td>\n      <td>0.166667</td>\n      <td>0.5</td>\n    </tr>\n    <tr>\n      <th>1</th>\n      <td>0.142857</td>\n      <td>0.59375</td>\n      <td>0.365591</td>\n      <td>0.222222</td>\n      <td>0.0</td>\n      <td>0.0</td>\n      <td>1.0</td>\n      <td>0.173913</td>\n      <td>0.400000</td>\n      <td>0.818182</td>\n      <td>0.333333</td>\n      <td>0.5</td>\n    </tr>\n    <tr>\n      <th>2</th>\n      <td>0.142857</td>\n      <td>0.56250</td>\n      <td>0.688172</td>\n      <td>0.000000</td>\n      <td>0.0</td>\n      <td>0.0</td>\n      <td>0.5</td>\n      <td>0.826087</td>\n      <td>0.566667</td>\n      <td>0.545455</td>\n      <td>1.000000</td>\n      <td>1.0</td>\n    </tr>\n    <tr>\n      <th>3</th>\n      <td>0.285714</td>\n      <td>0.28125</td>\n      <td>0.795699</td>\n      <td>0.333333</td>\n      <td>0.0</td>\n      <td>1.0</td>\n      <td>0.5</td>\n      <td>0.652174</td>\n      <td>0.966667</td>\n      <td>0.818182</td>\n      <td>0.833333</td>\n      <td>0.5</td>\n    </tr>\n    <tr>\n      <th>4</th>\n      <td>0.142857</td>\n      <td>0.71875</td>\n      <td>0.849462</td>\n      <td>0.000000</td>\n      <td>0.0</td>\n      <td>0.0</td>\n      <td>0.5</td>\n      <td>0.434783</td>\n      <td>0.566667</td>\n      <td>0.818182</td>\n      <td>0.000000</td>\n      <td>1.0</td>\n    </tr>\n    <tr>\n      <th>...</th>\n      <td>...</td>\n      <td>...</td>\n      <td>...</td>\n      <td>...</td>\n      <td>...</td>\n      <td>...</td>\n      <td>...</td>\n      <td>...</td>\n      <td>...</td>\n      <td>...</td>\n      <td>...</td>\n      <td>...</td>\n    </tr>\n    <tr>\n      <th>1201</th>\n      <td>0.142857</td>\n      <td>0.81250</td>\n      <td>0.677419</td>\n      <td>0.222222</td>\n      <td>0.0</td>\n      <td>0.0</td>\n      <td>0.5</td>\n      <td>0.434783</td>\n      <td>1.000000</td>\n      <td>1.000000</td>\n      <td>0.666667</td>\n      <td>0.5</td>\n    </tr>\n    <tr>\n      <th>1202</th>\n      <td>0.142857</td>\n      <td>0.53125</td>\n      <td>0.344086</td>\n      <td>0.222222</td>\n      <td>0.0</td>\n      <td>1.0</td>\n      <td>1.0</td>\n      <td>0.000000</td>\n      <td>0.500000</td>\n      <td>0.545455</td>\n      <td>0.666667</td>\n      <td>1.0</td>\n    </tr>\n    <tr>\n      <th>1203</th>\n      <td>0.142857</td>\n      <td>0.59375</td>\n      <td>0.569892</td>\n      <td>0.000000</td>\n      <td>0.0</td>\n      <td>1.0</td>\n      <td>0.5</td>\n      <td>0.652174</td>\n      <td>0.600000</td>\n      <td>1.000000</td>\n      <td>1.000000</td>\n      <td>0.5</td>\n    </tr>\n    <tr>\n      <th>1204</th>\n      <td>0.142857</td>\n      <td>0.50000</td>\n      <td>0.462366</td>\n      <td>0.111111</td>\n      <td>0.0</td>\n      <td>1.0</td>\n      <td>0.5</td>\n      <td>0.739130</td>\n      <td>0.233333</td>\n      <td>0.181818</td>\n      <td>0.000000</td>\n      <td>0.5</td>\n    </tr>\n    <tr>\n      <th>1205</th>\n      <td>0.142857</td>\n      <td>0.71875</td>\n      <td>0.408602</td>\n      <td>0.111111</td>\n      <td>0.0</td>\n      <td>0.0</td>\n      <td>0.5</td>\n      <td>0.434783</td>\n      <td>0.166667</td>\n      <td>0.454545</td>\n      <td>1.000000</td>\n      <td>0.5</td>\n    </tr>\n  </tbody>\n</table>\n<p>1206 rows × 12 columns</p>\n</div>"
     },
     "execution_count": 19,
     "metadata": {},
     "output_type": "execute_result"
    }
   ],
   "source": [
    "X = neural_network_data_preparation(test_df)\n",
    "\n",
    "scaler_X = MinMaxScaler(feature_range=(0, 1)).fit(X)\n",
    "X_scaled = pd.DataFrame(scaler_X.transform(X[X.columns]), columns=X.columns)\n",
    "\n",
    "X_scaled"
   ],
   "metadata": {
    "collapsed": false
   }
  },
  {
   "cell_type": "code",
   "execution_count": 20,
   "outputs": [
    {
     "data": {
      "text/plain": "LabelEncoder()",
      "text/html": "<style>#sk-container-id-1 {color: black;background-color: white;}#sk-container-id-1 pre{padding: 0;}#sk-container-id-1 div.sk-toggleable {background-color: white;}#sk-container-id-1 label.sk-toggleable__label {cursor: pointer;display: block;width: 100%;margin-bottom: 0;padding: 0.3em;box-sizing: border-box;text-align: center;}#sk-container-id-1 label.sk-toggleable__label-arrow:before {content: \"▸\";float: left;margin-right: 0.25em;color: #696969;}#sk-container-id-1 label.sk-toggleable__label-arrow:hover:before {color: black;}#sk-container-id-1 div.sk-estimator:hover label.sk-toggleable__label-arrow:before {color: black;}#sk-container-id-1 div.sk-toggleable__content {max-height: 0;max-width: 0;overflow: hidden;text-align: left;background-color: #f0f8ff;}#sk-container-id-1 div.sk-toggleable__content pre {margin: 0.2em;color: black;border-radius: 0.25em;background-color: #f0f8ff;}#sk-container-id-1 input.sk-toggleable__control:checked~div.sk-toggleable__content {max-height: 200px;max-width: 100%;overflow: auto;}#sk-container-id-1 input.sk-toggleable__control:checked~label.sk-toggleable__label-arrow:before {content: \"▾\";}#sk-container-id-1 div.sk-estimator input.sk-toggleable__control:checked~label.sk-toggleable__label {background-color: #d4ebff;}#sk-container-id-1 div.sk-label input.sk-toggleable__control:checked~label.sk-toggleable__label {background-color: #d4ebff;}#sk-container-id-1 input.sk-hidden--visually {border: 0;clip: rect(1px 1px 1px 1px);clip: rect(1px, 1px, 1px, 1px);height: 1px;margin: -1px;overflow: hidden;padding: 0;position: absolute;width: 1px;}#sk-container-id-1 div.sk-estimator {font-family: monospace;background-color: #f0f8ff;border: 1px dotted black;border-radius: 0.25em;box-sizing: border-box;margin-bottom: 0.5em;}#sk-container-id-1 div.sk-estimator:hover {background-color: #d4ebff;}#sk-container-id-1 div.sk-parallel-item::after {content: \"\";width: 100%;border-bottom: 1px solid gray;flex-grow: 1;}#sk-container-id-1 div.sk-label:hover label.sk-toggleable__label {background-color: #d4ebff;}#sk-container-id-1 div.sk-serial::before {content: \"\";position: absolute;border-left: 1px solid gray;box-sizing: border-box;top: 0;bottom: 0;left: 50%;z-index: 0;}#sk-container-id-1 div.sk-serial {display: flex;flex-direction: column;align-items: center;background-color: white;padding-right: 0.2em;padding-left: 0.2em;position: relative;}#sk-container-id-1 div.sk-item {position: relative;z-index: 1;}#sk-container-id-1 div.sk-parallel {display: flex;align-items: stretch;justify-content: center;background-color: white;position: relative;}#sk-container-id-1 div.sk-item::before, #sk-container-id-1 div.sk-parallel-item::before {content: \"\";position: absolute;border-left: 1px solid gray;box-sizing: border-box;top: 0;bottom: 0;left: 50%;z-index: -1;}#sk-container-id-1 div.sk-parallel-item {display: flex;flex-direction: column;z-index: 1;position: relative;background-color: white;}#sk-container-id-1 div.sk-parallel-item:first-child::after {align-self: flex-end;width: 50%;}#sk-container-id-1 div.sk-parallel-item:last-child::after {align-self: flex-start;width: 50%;}#sk-container-id-1 div.sk-parallel-item:only-child::after {width: 0;}#sk-container-id-1 div.sk-dashed-wrapped {border: 1px dashed gray;margin: 0 0.4em 0.5em 0.4em;box-sizing: border-box;padding-bottom: 0.4em;background-color: white;}#sk-container-id-1 div.sk-label label {font-family: monospace;font-weight: bold;display: inline-block;line-height: 1.2em;}#sk-container-id-1 div.sk-label-container {text-align: center;}#sk-container-id-1 div.sk-container {/* jupyter's `normalize.less` sets `[hidden] { display: none; }` but bootstrap.min.css set `[hidden] { display: none !important; }` so we also need the `!important` here to be able to override the default hidden behavior on the sphinx rendered scikit-learn.org. See: https://github.com/scikit-learn/scikit-learn/issues/21755 */display: inline-block !important;position: relative;}#sk-container-id-1 div.sk-text-repr-fallback {display: none;}</style><div id=\"sk-container-id-1\" class=\"sk-top-container\"><div class=\"sk-text-repr-fallback\"><pre>LabelEncoder()</pre><b>In a Jupyter environment, please rerun this cell to show the HTML representation or trust the notebook. <br />On GitHub, the HTML representation is unable to render, please try loading this page with nbviewer.org.</b></div><div class=\"sk-container\" hidden><div class=\"sk-item\"><div class=\"sk-estimator sk-toggleable\"><input class=\"sk-toggleable__control sk-hidden--visually\" id=\"sk-estimator-id-1\" type=\"checkbox\" checked><label for=\"sk-estimator-id-1\" class=\"sk-toggleable__label sk-toggleable__label-arrow\">LabelEncoder</label><div class=\"sk-toggleable__content\"><pre>LabelEncoder()</pre></div></div></div></div></div>"
     },
     "execution_count": 20,
     "metadata": {},
     "output_type": "execute_result"
    }
   ],
   "source": [
    "from sklearn import preprocessing\n",
    "\n",
    "incidents_enconder = preprocessing.LabelEncoder()\n",
    "\n",
    "incidents_enconder.fit(['None', 'Low', 'Medium', 'High', 'Very_High'])"
   ],
   "metadata": {
    "collapsed": false
   }
  },
  {
   "cell_type": "code",
   "execution_count": 21,
   "outputs": [],
   "source": [
    "predictions = categories_predicted = [np.argmax(pred) for pred in model.predict(X_scaled)]\n",
    "\n",
    "predictions = incidents_enconder.inverse_transform(predictions)\n",
    "\n",
    "predictions_df = pd.DataFrame(predictions)\n",
    "\n",
    "predictions_df.index += 1\n",
    "\n",
    "predictions_df.to_csv(\"submission.csv\", header=['Incidents'], index_label='RowId')"
   ],
   "metadata": {
    "collapsed": false
   }
  },
  {
   "cell_type": "code",
   "execution_count": null,
   "outputs": [],
   "source": [],
   "metadata": {
    "collapsed": false
   }
  }
 ],
 "metadata": {
  "kernelspec": {
   "display_name": "Python 3",
   "language": "python",
   "name": "python3"
  },
  "language_info": {
   "codemirror_mode": {
    "name": "ipython",
    "version": 2
   },
   "file_extension": ".py",
   "mimetype": "text/x-python",
   "name": "python",
   "nbconvert_exporter": "python",
   "pygments_lexer": "ipython2",
   "version": "2.7.6"
  }
 },
 "nbformat": 4,
 "nbformat_minor": 0
}
