{
 "cells": [
  {
   "cell_type": "markdown",
   "source": [
    "# Implementação do Random Forest"
   ],
   "metadata": {
    "collapsed": false
   }
  },
  {
   "cell_type": "code",
   "execution_count": 82,
   "outputs": [],
   "source": [
    "TRAINING_DATASET_SOURCE = '../training_data.csv'  # Since we are one directory up, we should go down one directory to import the datasets\n",
    "TEST_DATASET_SOURCE = '../test_data.csv'"
   ],
   "metadata": {
    "collapsed": false
   }
  },
  {
   "cell_type": "code",
   "execution_count": 83,
   "outputs": [],
   "source": [
    "import pandas as pd\n",
    "from sklearn.compose import make_column_transformer\n",
    "from sklearn.impute import SimpleImputer\n",
    "from sklearn.model_selection import RandomizedSearchCV\n",
    "from sklearn.model_selection import train_test_split\n",
    "from sklearn.pipeline import make_pipeline\n",
    "from sklearn.preprocessing import MinMaxScaler, OneHotEncoder\n",
    "\n",
    "train_df = pd.read_csv(TRAINING_DATASET_SOURCE)\n",
    "test_df = pd.read_csv(TEST_DATASET_SOURCE)"
   ],
   "metadata": {
    "collapsed": false
   }
  },
  {
   "cell_type": "markdown",
   "source": [
    "# Definição dos dados de teste e de treino"
   ],
   "metadata": {
    "collapsed": false
   }
  },
  {
   "cell_type": "code",
   "execution_count": 84,
   "outputs": [
    {
     "name": "stdout",
     "output_type": "stream",
     "text": [
      "(5000, 13) (1206, 12)\n"
     ]
    }
   ],
   "source": [
    "print(train_df.shape, test_df.shape)"
   ],
   "metadata": {
    "collapsed": false
   }
  },
  {
   "cell_type": "code",
   "execution_count": 85,
   "outputs": [
    {
     "data": {
      "text/plain": "None         2028\nHigh         1073\nLow           718\nVery_High     603\nMedium        578\nName: incidents, dtype: int64"
     },
     "execution_count": 85,
     "metadata": {},
     "output_type": "execute_result"
    }
   ],
   "source": [
    "train_df['incidents'].value_counts()"
   ],
   "metadata": {
    "collapsed": false
   }
  },
  {
   "cell_type": "code",
   "execution_count": 86,
   "outputs": [
    {
     "name": "stdout",
     "output_type": "stream",
     "text": [
      "Max value count: 2028\n",
      "None         2028\n",
      "High         2028\n",
      "Low          2028\n",
      "Very_High    2028\n",
      "Medium       2028\n",
      "Name: incidents, dtype: int64\n"
     ]
    }
   ],
   "source": [
    "#count_class0, count_class1, count_class2, count_class3, count_class4 = train_df['incidents'].value_counts().to_frame()\n",
    "\n",
    "incidents_count = train_df['incidents'].value_counts()\n",
    "\n",
    "max_count = incidents_count.max()\n",
    "\n",
    "print('Max value count:', max_count)\n",
    "\n",
    "df_classes = []\n",
    "for category, counts in zip(incidents_count.index, incidents_count):\n",
    "    #print(category, counts)\n",
    "    df_classes.append(train_df[train_df['incidents'] == category])\n",
    "\n",
    "df_classes_over = []\n",
    "\n",
    "for category in df_classes:\n",
    "    df_classes_over.append(category.sample(max_count, replace=True))\n",
    "\n",
    "df_test_over = pd.concat(df_classes_over, axis=0)\n",
    "\n",
    "print(df_test_over['incidents'].value_counts())\n"
   ],
   "metadata": {
    "collapsed": false
   }
  },
  {
   "cell_type": "code",
   "execution_count": 87,
   "outputs": [],
   "source": [
    "dropped_columns = ['city_name', 'avg_precipitation', 'magnitude_of_delay', 'record_date', 'affected_roads']\n",
    "\n",
    "X = df_test_over.drop([*dropped_columns, 'incidents'], axis=1)\n",
    "y = df_test_over['incidents']\n",
    "\n",
    "all_features = X.columns.tolist()"
   ],
   "metadata": {
    "collapsed": false
   }
  },
  {
   "cell_type": "code",
   "execution_count": 88,
   "outputs": [
    {
     "data": {
      "text/plain": "      delay_in_seconds luminosity  avg_temperature  avg_atm_pressure  \\\n3482                 0      LIGHT             19.0            1021.0   \n4383                 0       DARK              7.0            1024.0   \n350                  0       DARK              8.0            1015.0   \n760                  0       DARK             12.0            1022.0   \n729                 39       DARK             13.0            1013.0   \n...                ...        ...              ...               ...   \n1938                 0      LIGHT             16.0            1012.0   \n1111                 0       DARK              5.0            1031.0   \n4730                 0       DARK             14.0            1019.0   \n1077                 0      LIGHT             16.0            1016.0   \n2115                 0       DARK             11.0            1023.0   \n\n      avg_humidity  avg_wind_speed   avg_rain  \n3482          56.0             1.0  Sem Chuva  \n4383          77.0             2.0  Sem Chuva  \n350           92.0             0.0  Sem Chuva  \n760           91.0             1.0  Sem Chuva  \n729           93.0             1.0  Sem Chuva  \n...            ...             ...        ...  \n1938          76.0             3.0  Sem Chuva  \n1111          93.0             2.0  Sem Chuva  \n4730          90.0             0.0  Sem Chuva  \n1077          82.0             1.0  Sem Chuva  \n2115          66.0             2.0  Sem Chuva  \n\n[10140 rows x 7 columns]",
      "text/html": "<div>\n<style scoped>\n    .dataframe tbody tr th:only-of-type {\n        vertical-align: middle;\n    }\n\n    .dataframe tbody tr th {\n        vertical-align: top;\n    }\n\n    .dataframe thead th {\n        text-align: right;\n    }\n</style>\n<table border=\"1\" class=\"dataframe\">\n  <thead>\n    <tr style=\"text-align: right;\">\n      <th></th>\n      <th>delay_in_seconds</th>\n      <th>luminosity</th>\n      <th>avg_temperature</th>\n      <th>avg_atm_pressure</th>\n      <th>avg_humidity</th>\n      <th>avg_wind_speed</th>\n      <th>avg_rain</th>\n    </tr>\n  </thead>\n  <tbody>\n    <tr>\n      <th>3482</th>\n      <td>0</td>\n      <td>LIGHT</td>\n      <td>19.0</td>\n      <td>1021.0</td>\n      <td>56.0</td>\n      <td>1.0</td>\n      <td>Sem Chuva</td>\n    </tr>\n    <tr>\n      <th>4383</th>\n      <td>0</td>\n      <td>DARK</td>\n      <td>7.0</td>\n      <td>1024.0</td>\n      <td>77.0</td>\n      <td>2.0</td>\n      <td>Sem Chuva</td>\n    </tr>\n    <tr>\n      <th>350</th>\n      <td>0</td>\n      <td>DARK</td>\n      <td>8.0</td>\n      <td>1015.0</td>\n      <td>92.0</td>\n      <td>0.0</td>\n      <td>Sem Chuva</td>\n    </tr>\n    <tr>\n      <th>760</th>\n      <td>0</td>\n      <td>DARK</td>\n      <td>12.0</td>\n      <td>1022.0</td>\n      <td>91.0</td>\n      <td>1.0</td>\n      <td>Sem Chuva</td>\n    </tr>\n    <tr>\n      <th>729</th>\n      <td>39</td>\n      <td>DARK</td>\n      <td>13.0</td>\n      <td>1013.0</td>\n      <td>93.0</td>\n      <td>1.0</td>\n      <td>Sem Chuva</td>\n    </tr>\n    <tr>\n      <th>...</th>\n      <td>...</td>\n      <td>...</td>\n      <td>...</td>\n      <td>...</td>\n      <td>...</td>\n      <td>...</td>\n      <td>...</td>\n    </tr>\n    <tr>\n      <th>1938</th>\n      <td>0</td>\n      <td>LIGHT</td>\n      <td>16.0</td>\n      <td>1012.0</td>\n      <td>76.0</td>\n      <td>3.0</td>\n      <td>Sem Chuva</td>\n    </tr>\n    <tr>\n      <th>1111</th>\n      <td>0</td>\n      <td>DARK</td>\n      <td>5.0</td>\n      <td>1031.0</td>\n      <td>93.0</td>\n      <td>2.0</td>\n      <td>Sem Chuva</td>\n    </tr>\n    <tr>\n      <th>4730</th>\n      <td>0</td>\n      <td>DARK</td>\n      <td>14.0</td>\n      <td>1019.0</td>\n      <td>90.0</td>\n      <td>0.0</td>\n      <td>Sem Chuva</td>\n    </tr>\n    <tr>\n      <th>1077</th>\n      <td>0</td>\n      <td>LIGHT</td>\n      <td>16.0</td>\n      <td>1016.0</td>\n      <td>82.0</td>\n      <td>1.0</td>\n      <td>Sem Chuva</td>\n    </tr>\n    <tr>\n      <th>2115</th>\n      <td>0</td>\n      <td>DARK</td>\n      <td>11.0</td>\n      <td>1023.0</td>\n      <td>66.0</td>\n      <td>2.0</td>\n      <td>Sem Chuva</td>\n    </tr>\n  </tbody>\n</table>\n<p>10140 rows × 7 columns</p>\n</div>"
     },
     "execution_count": 88,
     "metadata": {},
     "output_type": "execute_result"
    }
   ],
   "source": [
    "X"
   ],
   "metadata": {
    "collapsed": false
   }
  },
  {
   "cell_type": "code",
   "execution_count": 89,
   "outputs": [],
   "source": [
    "numerical_features = [column for column, dtype in zip(X.columns, X.dtypes)\n",
    "                      if dtype.kind in ['i', 'f']]\n",
    "\n",
    "categorical_features = [column for column, dtype in zip(X.columns, X.dtypes)\n",
    "                        if dtype.kind not in ['i', 'f']]"
   ],
   "metadata": {
    "collapsed": false
   }
  },
  {
   "cell_type": "code",
   "execution_count": 90,
   "outputs": [],
   "source": [
    "X_train, X_test, y_train, y_test = train_test_split(X, y, test_size=0.3, random_state=2000)"
   ],
   "metadata": {
    "collapsed": false
   }
  },
  {
   "cell_type": "code",
   "execution_count": 91,
   "outputs": [],
   "source": [
    "preprocessor = make_column_transformer(\n",
    "    (make_pipeline(\n",
    "        SimpleImputer(strategy='median'),\n",
    "        MinMaxScaler(),\n",
    "    ), numerical_features),\n",
    "\n",
    "    (make_pipeline(\n",
    "        SimpleImputer(strategy='constant', fill_value='missing'),\n",
    "        OneHotEncoder(categories='auto', handle_unknown='ignore'),\n",
    "    ), categorical_features),\n",
    ")"
   ],
   "metadata": {
    "collapsed": false
   }
  },
  {
   "cell_type": "code",
   "execution_count": 92,
   "outputs": [],
   "source": [
    "from sklearn.feature_selection import SelectKBest, VarianceThreshold, f_classif\n",
    "\n",
    "preprocessor_best = make_pipeline(preprocessor, VarianceThreshold(), SelectKBest(f_classif, k='all'))"
   ],
   "metadata": {
    "collapsed": false
   }
  },
  {
   "cell_type": "code",
   "execution_count": 93,
   "outputs": [],
   "source": [
    "from sklearn.ensemble import RandomForestClassifier\n",
    "\n",
    "RF_Model = make_pipeline(preprocessor_best, RandomForestClassifier(n_estimators=100))"
   ],
   "metadata": {
    "collapsed": false
   }
  },
  {
   "cell_type": "code",
   "execution_count": 94,
   "outputs": [
    {
     "data": {
      "text/plain": "0.9964778810932657"
     },
     "execution_count": 94,
     "metadata": {},
     "output_type": "execute_result"
    }
   ],
   "source": [
    "RF_Model.fit(X_train, y_train)\n",
    "RF_Model.score(X_train, y_train)"
   ],
   "metadata": {
    "collapsed": false
   }
  },
  {
   "cell_type": "code",
   "execution_count": 95,
   "outputs": [
    {
     "data": {
      "text/plain": "0.9102564102564102"
     },
     "execution_count": 95,
     "metadata": {},
     "output_type": "execute_result"
    }
   ],
   "source": [
    "RF_Model.score(X_test, y_test)"
   ],
   "metadata": {
    "collapsed": false
   }
  },
  {
   "cell_type": "markdown",
   "source": [
    "## Hyperparameter Tuning"
   ],
   "metadata": {
    "collapsed": false
   }
  },
  {
   "cell_type": "code",
   "execution_count": 96,
   "outputs": [],
   "source": [
    "import numpy as np\n",
    "\n",
    "n_estimators = [int(x) for x in np.linspace(start=100, stop=200, num=3)]\n",
    "\n",
    "max_features = ['auto', 'sqrt']\n",
    "\n",
    "max_depth = [2, 6, 12, 20, 30, 40, 50]\n",
    "\n",
    "min_samples_split = [2, 5, 30]\n",
    "\n",
    "min_samples_leaf = [1, 2, 50]\n",
    "\n",
    "bootstrap = [True, False]\n",
    "\n",
    "criterions = [\"gini\", \"entropy\", \"log_loss\"]"
   ],
   "metadata": {
    "collapsed": false
   }
  },
  {
   "cell_type": "code",
   "execution_count": 97,
   "outputs": [
    {
     "data": {
      "text/plain": "{'randomforestclassifier__n_estimators': [100, 150, 200],\n 'randomforestclassifier__max_features': ['auto', 'sqrt'],\n 'randomforestclassifier__max_depth': [2, 6, 12, 20, 30, 40, 50],\n 'randomforestclassifier__min_samples_split': [2, 5, 30],\n 'randomforestclassifier__min_samples_leaf': [1, 2, 50],\n 'randomforestclassifier__bootstrap': [True, False],\n 'randomforestclassifier__criterion': ['gini', 'entropy', 'log_loss']}"
     },
     "execution_count": 97,
     "metadata": {},
     "output_type": "execute_result"
    }
   ],
   "source": [
    "param_grid = {\n",
    "    'randomforestclassifier__n_estimators': n_estimators,\n",
    "    'randomforestclassifier__max_features': max_features,\n",
    "    'randomforestclassifier__max_depth': max_depth,\n",
    "    'randomforestclassifier__min_samples_split': min_samples_split,\n",
    "    'randomforestclassifier__min_samples_leaf': min_samples_leaf,\n",
    "    'randomforestclassifier__bootstrap': bootstrap,\n",
    "    'randomforestclassifier__criterion': criterions\n",
    "}\n",
    "\n",
    "param_grid"
   ],
   "metadata": {
    "collapsed": false
   }
  },
  {
   "cell_type": "code",
   "execution_count": 98,
   "outputs": [
    {
     "name": "stdout",
     "output_type": "stream",
     "text": [
      "['accuracy', 'adjusted_mutual_info_score', 'adjusted_rand_score', 'average_precision', 'balanced_accuracy', 'completeness_score', 'explained_variance', 'f1', 'f1_macro', 'f1_micro', 'f1_samples', 'f1_weighted', 'fowlkes_mallows_score', 'homogeneity_score', 'jaccard', 'jaccard_macro', 'jaccard_micro', 'jaccard_samples', 'jaccard_weighted', 'matthews_corrcoef', 'max_error', 'mutual_info_score', 'neg_brier_score', 'neg_log_loss', 'neg_mean_absolute_error', 'neg_mean_absolute_percentage_error', 'neg_mean_gamma_deviance', 'neg_mean_poisson_deviance', 'neg_mean_squared_error', 'neg_mean_squared_log_error', 'neg_median_absolute_error', 'neg_root_mean_squared_error', 'normalized_mutual_info_score', 'precision', 'precision_macro', 'precision_micro', 'precision_samples', 'precision_weighted', 'r2', 'rand_score', 'recall', 'recall_macro', 'recall_micro', 'recall_samples', 'recall_weighted', 'roc_auc', 'roc_auc_ovo', 'roc_auc_ovo_weighted', 'roc_auc_ovr', 'roc_auc_ovr_weighted', 'top_k_accuracy', 'v_measure_score']\n"
     ]
    }
   ],
   "source": [
    "from sklearn import metrics\n",
    "\n",
    "print(metrics.get_scorer_names())"
   ],
   "metadata": {
    "collapsed": false
   }
  },
  {
   "cell_type": "code",
   "execution_count": 99,
   "outputs": [],
   "source": [
    "rf_RandomGrid = RandomizedSearchCV(estimator=RF_Model, param_distributions=param_grid, cv=5, verbose=3, n_jobs=-1,\n",
    "                                   n_iter=5, scoring='balanced_accuracy')"
   ],
   "metadata": {
    "collapsed": false
   }
  },
  {
   "cell_type": "code",
   "execution_count": 100,
   "outputs": [
    {
     "name": "stdout",
     "output_type": "stream",
     "text": [
      "Fitting 5 folds for each of 5 candidates, totalling 25 fits\n",
      "CPU times: total: 641 ms\n",
      "Wall time: 1.99 s\n"
     ]
    },
    {
     "data": {
      "text/plain": "RandomizedSearchCV(cv=5,\n                   estimator=Pipeline(steps=[('pipeline',\n                                              Pipeline(steps=[('columntransformer',\n                                                               ColumnTransformer(transformers=[('pipeline-1',\n                                                                                                Pipeline(steps=[('simpleimputer',\n                                                                                                                 SimpleImputer(strategy='median')),\n                                                                                                                ('minmaxscaler',\n                                                                                                                 MinMaxScaler())]),\n                                                                                                ['delay_in_seconds',\n                                                                                                 'avg_temperature',\n                                                                                                 'avg_atm_pressure',\n                                                                                                 'avg_humidity',\n                                                                                                 'avg_wind_speed']),\n                                                                                               ('pipeline-2'...\n                                        'randomforestclassifier__criterion': ['gini',\n                                                                              'entropy',\n                                                                              'log_loss'],\n                                        'randomforestclassifier__max_depth': [2,\n                                                                              6,\n                                                                              12,\n                                                                              20,\n                                                                              30,\n                                                                              40,\n                                                                              50],\n                                        'randomforestclassifier__max_features': ['auto',\n                                                                                 'sqrt'],\n                                        'randomforestclassifier__min_samples_leaf': [1,\n                                                                                     2,\n                                                                                     50],\n                                        'randomforestclassifier__min_samples_split': [2,\n                                                                                      5,\n                                                                                      30],\n                                        'randomforestclassifier__n_estimators': [100,\n                                                                                 150,\n                                                                                 200]},\n                   scoring='balanced_accuracy', verbose=3)",
      "text/html": "<style>#sk-container-id-12 {color: black;background-color: white;}#sk-container-id-12 pre{padding: 0;}#sk-container-id-12 div.sk-toggleable {background-color: white;}#sk-container-id-12 label.sk-toggleable__label {cursor: pointer;display: block;width: 100%;margin-bottom: 0;padding: 0.3em;box-sizing: border-box;text-align: center;}#sk-container-id-12 label.sk-toggleable__label-arrow:before {content: \"▸\";float: left;margin-right: 0.25em;color: #696969;}#sk-container-id-12 label.sk-toggleable__label-arrow:hover:before {color: black;}#sk-container-id-12 div.sk-estimator:hover label.sk-toggleable__label-arrow:before {color: black;}#sk-container-id-12 div.sk-toggleable__content {max-height: 0;max-width: 0;overflow: hidden;text-align: left;background-color: #f0f8ff;}#sk-container-id-12 div.sk-toggleable__content pre {margin: 0.2em;color: black;border-radius: 0.25em;background-color: #f0f8ff;}#sk-container-id-12 input.sk-toggleable__control:checked~div.sk-toggleable__content {max-height: 200px;max-width: 100%;overflow: auto;}#sk-container-id-12 input.sk-toggleable__control:checked~label.sk-toggleable__label-arrow:before {content: \"▾\";}#sk-container-id-12 div.sk-estimator input.sk-toggleable__control:checked~label.sk-toggleable__label {background-color: #d4ebff;}#sk-container-id-12 div.sk-label input.sk-toggleable__control:checked~label.sk-toggleable__label {background-color: #d4ebff;}#sk-container-id-12 input.sk-hidden--visually {border: 0;clip: rect(1px 1px 1px 1px);clip: rect(1px, 1px, 1px, 1px);height: 1px;margin: -1px;overflow: hidden;padding: 0;position: absolute;width: 1px;}#sk-container-id-12 div.sk-estimator {font-family: monospace;background-color: #f0f8ff;border: 1px dotted black;border-radius: 0.25em;box-sizing: border-box;margin-bottom: 0.5em;}#sk-container-id-12 div.sk-estimator:hover {background-color: #d4ebff;}#sk-container-id-12 div.sk-parallel-item::after {content: \"\";width: 100%;border-bottom: 1px solid gray;flex-grow: 1;}#sk-container-id-12 div.sk-label:hover label.sk-toggleable__label {background-color: #d4ebff;}#sk-container-id-12 div.sk-serial::before {content: \"\";position: absolute;border-left: 1px solid gray;box-sizing: border-box;top: 0;bottom: 0;left: 50%;z-index: 0;}#sk-container-id-12 div.sk-serial {display: flex;flex-direction: column;align-items: center;background-color: white;padding-right: 0.2em;padding-left: 0.2em;position: relative;}#sk-container-id-12 div.sk-item {position: relative;z-index: 1;}#sk-container-id-12 div.sk-parallel {display: flex;align-items: stretch;justify-content: center;background-color: white;position: relative;}#sk-container-id-12 div.sk-item::before, #sk-container-id-12 div.sk-parallel-item::before {content: \"\";position: absolute;border-left: 1px solid gray;box-sizing: border-box;top: 0;bottom: 0;left: 50%;z-index: -1;}#sk-container-id-12 div.sk-parallel-item {display: flex;flex-direction: column;z-index: 1;position: relative;background-color: white;}#sk-container-id-12 div.sk-parallel-item:first-child::after {align-self: flex-end;width: 50%;}#sk-container-id-12 div.sk-parallel-item:last-child::after {align-self: flex-start;width: 50%;}#sk-container-id-12 div.sk-parallel-item:only-child::after {width: 0;}#sk-container-id-12 div.sk-dashed-wrapped {border: 1px dashed gray;margin: 0 0.4em 0.5em 0.4em;box-sizing: border-box;padding-bottom: 0.4em;background-color: white;}#sk-container-id-12 div.sk-label label {font-family: monospace;font-weight: bold;display: inline-block;line-height: 1.2em;}#sk-container-id-12 div.sk-label-container {text-align: center;}#sk-container-id-12 div.sk-container {/* jupyter's `normalize.less` sets `[hidden] { display: none; }` but bootstrap.min.css set `[hidden] { display: none !important; }` so we also need the `!important` here to be able to override the default hidden behavior on the sphinx rendered scikit-learn.org. See: https://github.com/scikit-learn/scikit-learn/issues/21755 */display: inline-block !important;position: relative;}#sk-container-id-12 div.sk-text-repr-fallback {display: none;}</style><div id=\"sk-container-id-12\" class=\"sk-top-container\"><div class=\"sk-text-repr-fallback\"><pre>RandomizedSearchCV(cv=5,\n                   estimator=Pipeline(steps=[(&#x27;pipeline&#x27;,\n                                              Pipeline(steps=[(&#x27;columntransformer&#x27;,\n                                                               ColumnTransformer(transformers=[(&#x27;pipeline-1&#x27;,\n                                                                                                Pipeline(steps=[(&#x27;simpleimputer&#x27;,\n                                                                                                                 SimpleImputer(strategy=&#x27;median&#x27;)),\n                                                                                                                (&#x27;minmaxscaler&#x27;,\n                                                                                                                 MinMaxScaler())]),\n                                                                                                [&#x27;delay_in_seconds&#x27;,\n                                                                                                 &#x27;avg_temperature&#x27;,\n                                                                                                 &#x27;avg_atm_pressure&#x27;,\n                                                                                                 &#x27;avg_humidity&#x27;,\n                                                                                                 &#x27;avg_wind_speed&#x27;]),\n                                                                                               (&#x27;pipeline-2&#x27;...\n                                        &#x27;randomforestclassifier__criterion&#x27;: [&#x27;gini&#x27;,\n                                                                              &#x27;entropy&#x27;,\n                                                                              &#x27;log_loss&#x27;],\n                                        &#x27;randomforestclassifier__max_depth&#x27;: [2,\n                                                                              6,\n                                                                              12,\n                                                                              20,\n                                                                              30,\n                                                                              40,\n                                                                              50],\n                                        &#x27;randomforestclassifier__max_features&#x27;: [&#x27;auto&#x27;,\n                                                                                 &#x27;sqrt&#x27;],\n                                        &#x27;randomforestclassifier__min_samples_leaf&#x27;: [1,\n                                                                                     2,\n                                                                                     50],\n                                        &#x27;randomforestclassifier__min_samples_split&#x27;: [2,\n                                                                                      5,\n                                                                                      30],\n                                        &#x27;randomforestclassifier__n_estimators&#x27;: [100,\n                                                                                 150,\n                                                                                 200]},\n                   scoring=&#x27;balanced_accuracy&#x27;, verbose=3)</pre><b>In a Jupyter environment, please rerun this cell to show the HTML representation or trust the notebook. <br />On GitHub, the HTML representation is unable to render, please try loading this page with nbviewer.org.</b></div><div class=\"sk-container\" hidden><div class=\"sk-item sk-dashed-wrapped\"><div class=\"sk-label-container\"><div class=\"sk-label sk-toggleable\"><input class=\"sk-toggleable__control sk-hidden--visually\" id=\"sk-estimator-id-141\" type=\"checkbox\" ><label for=\"sk-estimator-id-141\" class=\"sk-toggleable__label sk-toggleable__label-arrow\">RandomizedSearchCV</label><div class=\"sk-toggleable__content\"><pre>RandomizedSearchCV(cv=5,\n                   estimator=Pipeline(steps=[(&#x27;pipeline&#x27;,\n                                              Pipeline(steps=[(&#x27;columntransformer&#x27;,\n                                                               ColumnTransformer(transformers=[(&#x27;pipeline-1&#x27;,\n                                                                                                Pipeline(steps=[(&#x27;simpleimputer&#x27;,\n                                                                                                                 SimpleImputer(strategy=&#x27;median&#x27;)),\n                                                                                                                (&#x27;minmaxscaler&#x27;,\n                                                                                                                 MinMaxScaler())]),\n                                                                                                [&#x27;delay_in_seconds&#x27;,\n                                                                                                 &#x27;avg_temperature&#x27;,\n                                                                                                 &#x27;avg_atm_pressure&#x27;,\n                                                                                                 &#x27;avg_humidity&#x27;,\n                                                                                                 &#x27;avg_wind_speed&#x27;]),\n                                                                                               (&#x27;pipeline-2&#x27;...\n                                        &#x27;randomforestclassifier__criterion&#x27;: [&#x27;gini&#x27;,\n                                                                              &#x27;entropy&#x27;,\n                                                                              &#x27;log_loss&#x27;],\n                                        &#x27;randomforestclassifier__max_depth&#x27;: [2,\n                                                                              6,\n                                                                              12,\n                                                                              20,\n                                                                              30,\n                                                                              40,\n                                                                              50],\n                                        &#x27;randomforestclassifier__max_features&#x27;: [&#x27;auto&#x27;,\n                                                                                 &#x27;sqrt&#x27;],\n                                        &#x27;randomforestclassifier__min_samples_leaf&#x27;: [1,\n                                                                                     2,\n                                                                                     50],\n                                        &#x27;randomforestclassifier__min_samples_split&#x27;: [2,\n                                                                                      5,\n                                                                                      30],\n                                        &#x27;randomforestclassifier__n_estimators&#x27;: [100,\n                                                                                 150,\n                                                                                 200]},\n                   scoring=&#x27;balanced_accuracy&#x27;, verbose=3)</pre></div></div></div><div class=\"sk-parallel\"><div class=\"sk-parallel-item\"><div class=\"sk-item\"><div class=\"sk-label-container\"><div class=\"sk-label sk-toggleable\"><input class=\"sk-toggleable__control sk-hidden--visually\" id=\"sk-estimator-id-142\" type=\"checkbox\" ><label for=\"sk-estimator-id-142\" class=\"sk-toggleable__label sk-toggleable__label-arrow\">estimator: Pipeline</label><div class=\"sk-toggleable__content\"><pre>Pipeline(steps=[(&#x27;pipeline&#x27;,\n                 Pipeline(steps=[(&#x27;columntransformer&#x27;,\n                                  ColumnTransformer(transformers=[(&#x27;pipeline-1&#x27;,\n                                                                   Pipeline(steps=[(&#x27;simpleimputer&#x27;,\n                                                                                    SimpleImputer(strategy=&#x27;median&#x27;)),\n                                                                                   (&#x27;minmaxscaler&#x27;,\n                                                                                    MinMaxScaler())]),\n                                                                   [&#x27;delay_in_seconds&#x27;,\n                                                                    &#x27;avg_temperature&#x27;,\n                                                                    &#x27;avg_atm_pressure&#x27;,\n                                                                    &#x27;avg_humidity&#x27;,\n                                                                    &#x27;avg_wind_speed&#x27;]),\n                                                                  (&#x27;pipeline-2&#x27;,\n                                                                   Pipeline(steps=[(&#x27;simpleimputer&#x27;,\n                                                                                    SimpleImputer(fill_value=&#x27;missing&#x27;,\n                                                                                                  strategy=&#x27;constant&#x27;)),\n                                                                                   (&#x27;onehotencoder&#x27;,\n                                                                                    OneHotEncoder(handle_unknown=&#x27;ignore&#x27;))]),\n                                                                   [&#x27;luminosity&#x27;,\n                                                                    &#x27;avg_rain&#x27;])])),\n                                 (&#x27;variancethreshold&#x27;, VarianceThreshold()),\n                                 (&#x27;selectkbest&#x27;, SelectKBest(k=&#x27;all&#x27;))])),\n                (&#x27;randomforestclassifier&#x27;, RandomForestClassifier())])</pre></div></div></div><div class=\"sk-serial\"><div class=\"sk-item\"><div class=\"sk-serial\"><div class=\"sk-item\"><div class=\"sk-label-container\"><div class=\"sk-label sk-toggleable\"><input class=\"sk-toggleable__control sk-hidden--visually\" id=\"sk-estimator-id-143\" type=\"checkbox\" ><label for=\"sk-estimator-id-143\" class=\"sk-toggleable__label sk-toggleable__label-arrow\">pipeline: Pipeline</label><div class=\"sk-toggleable__content\"><pre>Pipeline(steps=[(&#x27;columntransformer&#x27;,\n                 ColumnTransformer(transformers=[(&#x27;pipeline-1&#x27;,\n                                                  Pipeline(steps=[(&#x27;simpleimputer&#x27;,\n                                                                   SimpleImputer(strategy=&#x27;median&#x27;)),\n                                                                  (&#x27;minmaxscaler&#x27;,\n                                                                   MinMaxScaler())]),\n                                                  [&#x27;delay_in_seconds&#x27;,\n                                                   &#x27;avg_temperature&#x27;,\n                                                   &#x27;avg_atm_pressure&#x27;,\n                                                   &#x27;avg_humidity&#x27;,\n                                                   &#x27;avg_wind_speed&#x27;]),\n                                                 (&#x27;pipeline-2&#x27;,\n                                                  Pipeline(steps=[(&#x27;simpleimputer&#x27;,\n                                                                   SimpleImputer(fill_value=&#x27;missing&#x27;,\n                                                                                 strategy=&#x27;constant&#x27;)),\n                                                                  (&#x27;onehotencoder&#x27;,\n                                                                   OneHotEncoder(handle_unknown=&#x27;ignore&#x27;))]),\n                                                  [&#x27;luminosity&#x27;,\n                                                   &#x27;avg_rain&#x27;])])),\n                (&#x27;variancethreshold&#x27;, VarianceThreshold()),\n                (&#x27;selectkbest&#x27;, SelectKBest(k=&#x27;all&#x27;))])</pre></div></div></div><div class=\"sk-serial\"><div class=\"sk-item sk-dashed-wrapped\"><div class=\"sk-label-container\"><div class=\"sk-label sk-toggleable\"><input class=\"sk-toggleable__control sk-hidden--visually\" id=\"sk-estimator-id-144\" type=\"checkbox\" ><label for=\"sk-estimator-id-144\" class=\"sk-toggleable__label sk-toggleable__label-arrow\">columntransformer: ColumnTransformer</label><div class=\"sk-toggleable__content\"><pre>ColumnTransformer(transformers=[(&#x27;pipeline-1&#x27;,\n                                 Pipeline(steps=[(&#x27;simpleimputer&#x27;,\n                                                  SimpleImputer(strategy=&#x27;median&#x27;)),\n                                                 (&#x27;minmaxscaler&#x27;,\n                                                  MinMaxScaler())]),\n                                 [&#x27;delay_in_seconds&#x27;, &#x27;avg_temperature&#x27;,\n                                  &#x27;avg_atm_pressure&#x27;, &#x27;avg_humidity&#x27;,\n                                  &#x27;avg_wind_speed&#x27;]),\n                                (&#x27;pipeline-2&#x27;,\n                                 Pipeline(steps=[(&#x27;simpleimputer&#x27;,\n                                                  SimpleImputer(fill_value=&#x27;missing&#x27;,\n                                                                strategy=&#x27;constant&#x27;)),\n                                                 (&#x27;onehotencoder&#x27;,\n                                                  OneHotEncoder(handle_unknown=&#x27;ignore&#x27;))]),\n                                 [&#x27;luminosity&#x27;, &#x27;avg_rain&#x27;])])</pre></div></div></div><div class=\"sk-parallel\"><div class=\"sk-parallel-item\"><div class=\"sk-item\"><div class=\"sk-label-container\"><div class=\"sk-label sk-toggleable\"><input class=\"sk-toggleable__control sk-hidden--visually\" id=\"sk-estimator-id-145\" type=\"checkbox\" ><label for=\"sk-estimator-id-145\" class=\"sk-toggleable__label sk-toggleable__label-arrow\">pipeline-1</label><div class=\"sk-toggleable__content\"><pre>[&#x27;delay_in_seconds&#x27;, &#x27;avg_temperature&#x27;, &#x27;avg_atm_pressure&#x27;, &#x27;avg_humidity&#x27;, &#x27;avg_wind_speed&#x27;]</pre></div></div></div><div class=\"sk-serial\"><div class=\"sk-item\"><div class=\"sk-serial\"><div class=\"sk-item\"><div class=\"sk-estimator sk-toggleable\"><input class=\"sk-toggleable__control sk-hidden--visually\" id=\"sk-estimator-id-146\" type=\"checkbox\" ><label for=\"sk-estimator-id-146\" class=\"sk-toggleable__label sk-toggleable__label-arrow\">SimpleImputer</label><div class=\"sk-toggleable__content\"><pre>SimpleImputer(strategy=&#x27;median&#x27;)</pre></div></div></div><div class=\"sk-item\"><div class=\"sk-estimator sk-toggleable\"><input class=\"sk-toggleable__control sk-hidden--visually\" id=\"sk-estimator-id-147\" type=\"checkbox\" ><label for=\"sk-estimator-id-147\" class=\"sk-toggleable__label sk-toggleable__label-arrow\">MinMaxScaler</label><div class=\"sk-toggleable__content\"><pre>MinMaxScaler()</pre></div></div></div></div></div></div></div></div><div class=\"sk-parallel-item\"><div class=\"sk-item\"><div class=\"sk-label-container\"><div class=\"sk-label sk-toggleable\"><input class=\"sk-toggleable__control sk-hidden--visually\" id=\"sk-estimator-id-148\" type=\"checkbox\" ><label for=\"sk-estimator-id-148\" class=\"sk-toggleable__label sk-toggleable__label-arrow\">pipeline-2</label><div class=\"sk-toggleable__content\"><pre>[&#x27;luminosity&#x27;, &#x27;avg_rain&#x27;]</pre></div></div></div><div class=\"sk-serial\"><div class=\"sk-item\"><div class=\"sk-serial\"><div class=\"sk-item\"><div class=\"sk-estimator sk-toggleable\"><input class=\"sk-toggleable__control sk-hidden--visually\" id=\"sk-estimator-id-149\" type=\"checkbox\" ><label for=\"sk-estimator-id-149\" class=\"sk-toggleable__label sk-toggleable__label-arrow\">SimpleImputer</label><div class=\"sk-toggleable__content\"><pre>SimpleImputer(fill_value=&#x27;missing&#x27;, strategy=&#x27;constant&#x27;)</pre></div></div></div><div class=\"sk-item\"><div class=\"sk-estimator sk-toggleable\"><input class=\"sk-toggleable__control sk-hidden--visually\" id=\"sk-estimator-id-150\" type=\"checkbox\" ><label for=\"sk-estimator-id-150\" class=\"sk-toggleable__label sk-toggleable__label-arrow\">OneHotEncoder</label><div class=\"sk-toggleable__content\"><pre>OneHotEncoder(handle_unknown=&#x27;ignore&#x27;)</pre></div></div></div></div></div></div></div></div></div></div><div class=\"sk-item\"><div class=\"sk-estimator sk-toggleable\"><input class=\"sk-toggleable__control sk-hidden--visually\" id=\"sk-estimator-id-151\" type=\"checkbox\" ><label for=\"sk-estimator-id-151\" class=\"sk-toggleable__label sk-toggleable__label-arrow\">VarianceThreshold</label><div class=\"sk-toggleable__content\"><pre>VarianceThreshold()</pre></div></div></div><div class=\"sk-item\"><div class=\"sk-estimator sk-toggleable\"><input class=\"sk-toggleable__control sk-hidden--visually\" id=\"sk-estimator-id-152\" type=\"checkbox\" ><label for=\"sk-estimator-id-152\" class=\"sk-toggleable__label sk-toggleable__label-arrow\">SelectKBest</label><div class=\"sk-toggleable__content\"><pre>SelectKBest(k=&#x27;all&#x27;)</pre></div></div></div></div></div><div class=\"sk-item\"><div class=\"sk-estimator sk-toggleable\"><input class=\"sk-toggleable__control sk-hidden--visually\" id=\"sk-estimator-id-153\" type=\"checkbox\" ><label for=\"sk-estimator-id-153\" class=\"sk-toggleable__label sk-toggleable__label-arrow\">RandomForestClassifier</label><div class=\"sk-toggleable__content\"><pre>RandomForestClassifier()</pre></div></div></div></div></div></div></div></div></div></div></div></div>"
     },
     "execution_count": 100,
     "metadata": {},
     "output_type": "execute_result"
    }
   ],
   "source": [
    "%%time\n",
    "rf_RandomGrid.fit(X_train, y_train)"
   ],
   "metadata": {
    "collapsed": false
   }
  },
  {
   "cell_type": "code",
   "execution_count": 101,
   "outputs": [
    {
     "data": {
      "text/plain": "0.9964609892450774"
     },
     "execution_count": 101,
     "metadata": {},
     "output_type": "execute_result"
    }
   ],
   "source": [
    "rf_RandomGrid.score(X_train, y_train)"
   ],
   "metadata": {
    "collapsed": false
   }
  },
  {
   "cell_type": "code",
   "execution_count": 102,
   "outputs": [
    {
     "data": {
      "text/plain": "0.8969004738745854"
     },
     "execution_count": 102,
     "metadata": {},
     "output_type": "execute_result"
    }
   ],
   "source": [
    "rf_RandomGrid.best_score_"
   ],
   "metadata": {
    "collapsed": false
   }
  },
  {
   "cell_type": "code",
   "execution_count": 103,
   "outputs": [
    {
     "data": {
      "text/plain": "{'randomforestclassifier__n_estimators': 100,\n 'randomforestclassifier__min_samples_split': 2,\n 'randomforestclassifier__min_samples_leaf': 1,\n 'randomforestclassifier__max_features': 'sqrt',\n 'randomforestclassifier__max_depth': 30,\n 'randomforestclassifier__criterion': 'log_loss',\n 'randomforestclassifier__bootstrap': True}"
     },
     "execution_count": 103,
     "metadata": {},
     "output_type": "execute_result"
    }
   ],
   "source": [
    "rf_RandomGrid.best_params_"
   ],
   "metadata": {
    "collapsed": false
   }
  },
  {
   "cell_type": "code",
   "execution_count": 104,
   "outputs": [
    {
     "data": {
      "text/plain": "Pipeline(steps=[('pipeline',\n                 Pipeline(steps=[('columntransformer',\n                                  ColumnTransformer(transformers=[('pipeline-1',\n                                                                   Pipeline(steps=[('simpleimputer',\n                                                                                    SimpleImputer(strategy='median')),\n                                                                                   ('minmaxscaler',\n                                                                                    MinMaxScaler())]),\n                                                                   ['delay_in_seconds',\n                                                                    'avg_temperature',\n                                                                    'avg_atm_pressure',\n                                                                    'avg_humidity',\n                                                                    'avg_wind_speed']),\n                                                                  ('pipeline-2',\n                                                                   Pipeline(steps=[('simpleimputer',\n                                                                                    SimpleImputer(fill_value='missing',\n                                                                                                  strategy='constant')),\n                                                                                   ('onehotencoder',\n                                                                                    OneHotEncoder(handle_unknown='ignore'))]),\n                                                                   ['luminosity',\n                                                                    'avg_rain'])])),\n                                 ('variancethreshold', VarianceThreshold()),\n                                 ('selectkbest', SelectKBest(k='all'))])),\n                ('randomforestclassifier',\n                 RandomForestClassifier(criterion='log_loss', max_depth=30))])",
      "text/html": "<style>#sk-container-id-13 {color: black;background-color: white;}#sk-container-id-13 pre{padding: 0;}#sk-container-id-13 div.sk-toggleable {background-color: white;}#sk-container-id-13 label.sk-toggleable__label {cursor: pointer;display: block;width: 100%;margin-bottom: 0;padding: 0.3em;box-sizing: border-box;text-align: center;}#sk-container-id-13 label.sk-toggleable__label-arrow:before {content: \"▸\";float: left;margin-right: 0.25em;color: #696969;}#sk-container-id-13 label.sk-toggleable__label-arrow:hover:before {color: black;}#sk-container-id-13 div.sk-estimator:hover label.sk-toggleable__label-arrow:before {color: black;}#sk-container-id-13 div.sk-toggleable__content {max-height: 0;max-width: 0;overflow: hidden;text-align: left;background-color: #f0f8ff;}#sk-container-id-13 div.sk-toggleable__content pre {margin: 0.2em;color: black;border-radius: 0.25em;background-color: #f0f8ff;}#sk-container-id-13 input.sk-toggleable__control:checked~div.sk-toggleable__content {max-height: 200px;max-width: 100%;overflow: auto;}#sk-container-id-13 input.sk-toggleable__control:checked~label.sk-toggleable__label-arrow:before {content: \"▾\";}#sk-container-id-13 div.sk-estimator input.sk-toggleable__control:checked~label.sk-toggleable__label {background-color: #d4ebff;}#sk-container-id-13 div.sk-label input.sk-toggleable__control:checked~label.sk-toggleable__label {background-color: #d4ebff;}#sk-container-id-13 input.sk-hidden--visually {border: 0;clip: rect(1px 1px 1px 1px);clip: rect(1px, 1px, 1px, 1px);height: 1px;margin: -1px;overflow: hidden;padding: 0;position: absolute;width: 1px;}#sk-container-id-13 div.sk-estimator {font-family: monospace;background-color: #f0f8ff;border: 1px dotted black;border-radius: 0.25em;box-sizing: border-box;margin-bottom: 0.5em;}#sk-container-id-13 div.sk-estimator:hover {background-color: #d4ebff;}#sk-container-id-13 div.sk-parallel-item::after {content: \"\";width: 100%;border-bottom: 1px solid gray;flex-grow: 1;}#sk-container-id-13 div.sk-label:hover label.sk-toggleable__label {background-color: #d4ebff;}#sk-container-id-13 div.sk-serial::before {content: \"\";position: absolute;border-left: 1px solid gray;box-sizing: border-box;top: 0;bottom: 0;left: 50%;z-index: 0;}#sk-container-id-13 div.sk-serial {display: flex;flex-direction: column;align-items: center;background-color: white;padding-right: 0.2em;padding-left: 0.2em;position: relative;}#sk-container-id-13 div.sk-item {position: relative;z-index: 1;}#sk-container-id-13 div.sk-parallel {display: flex;align-items: stretch;justify-content: center;background-color: white;position: relative;}#sk-container-id-13 div.sk-item::before, #sk-container-id-13 div.sk-parallel-item::before {content: \"\";position: absolute;border-left: 1px solid gray;box-sizing: border-box;top: 0;bottom: 0;left: 50%;z-index: -1;}#sk-container-id-13 div.sk-parallel-item {display: flex;flex-direction: column;z-index: 1;position: relative;background-color: white;}#sk-container-id-13 div.sk-parallel-item:first-child::after {align-self: flex-end;width: 50%;}#sk-container-id-13 div.sk-parallel-item:last-child::after {align-self: flex-start;width: 50%;}#sk-container-id-13 div.sk-parallel-item:only-child::after {width: 0;}#sk-container-id-13 div.sk-dashed-wrapped {border: 1px dashed gray;margin: 0 0.4em 0.5em 0.4em;box-sizing: border-box;padding-bottom: 0.4em;background-color: white;}#sk-container-id-13 div.sk-label label {font-family: monospace;font-weight: bold;display: inline-block;line-height: 1.2em;}#sk-container-id-13 div.sk-label-container {text-align: center;}#sk-container-id-13 div.sk-container {/* jupyter's `normalize.less` sets `[hidden] { display: none; }` but bootstrap.min.css set `[hidden] { display: none !important; }` so we also need the `!important` here to be able to override the default hidden behavior on the sphinx rendered scikit-learn.org. See: https://github.com/scikit-learn/scikit-learn/issues/21755 */display: inline-block !important;position: relative;}#sk-container-id-13 div.sk-text-repr-fallback {display: none;}</style><div id=\"sk-container-id-13\" class=\"sk-top-container\"><div class=\"sk-text-repr-fallback\"><pre>Pipeline(steps=[(&#x27;pipeline&#x27;,\n                 Pipeline(steps=[(&#x27;columntransformer&#x27;,\n                                  ColumnTransformer(transformers=[(&#x27;pipeline-1&#x27;,\n                                                                   Pipeline(steps=[(&#x27;simpleimputer&#x27;,\n                                                                                    SimpleImputer(strategy=&#x27;median&#x27;)),\n                                                                                   (&#x27;minmaxscaler&#x27;,\n                                                                                    MinMaxScaler())]),\n                                                                   [&#x27;delay_in_seconds&#x27;,\n                                                                    &#x27;avg_temperature&#x27;,\n                                                                    &#x27;avg_atm_pressure&#x27;,\n                                                                    &#x27;avg_humidity&#x27;,\n                                                                    &#x27;avg_wind_speed&#x27;]),\n                                                                  (&#x27;pipeline-2&#x27;,\n                                                                   Pipeline(steps=[(&#x27;simpleimputer&#x27;,\n                                                                                    SimpleImputer(fill_value=&#x27;missing&#x27;,\n                                                                                                  strategy=&#x27;constant&#x27;)),\n                                                                                   (&#x27;onehotencoder&#x27;,\n                                                                                    OneHotEncoder(handle_unknown=&#x27;ignore&#x27;))]),\n                                                                   [&#x27;luminosity&#x27;,\n                                                                    &#x27;avg_rain&#x27;])])),\n                                 (&#x27;variancethreshold&#x27;, VarianceThreshold()),\n                                 (&#x27;selectkbest&#x27;, SelectKBest(k=&#x27;all&#x27;))])),\n                (&#x27;randomforestclassifier&#x27;,\n                 RandomForestClassifier(criterion=&#x27;log_loss&#x27;, max_depth=30))])</pre><b>In a Jupyter environment, please rerun this cell to show the HTML representation or trust the notebook. <br />On GitHub, the HTML representation is unable to render, please try loading this page with nbviewer.org.</b></div><div class=\"sk-container\" hidden><div class=\"sk-item sk-dashed-wrapped\"><div class=\"sk-label-container\"><div class=\"sk-label sk-toggleable\"><input class=\"sk-toggleable__control sk-hidden--visually\" id=\"sk-estimator-id-154\" type=\"checkbox\" ><label for=\"sk-estimator-id-154\" class=\"sk-toggleable__label sk-toggleable__label-arrow\">Pipeline</label><div class=\"sk-toggleable__content\"><pre>Pipeline(steps=[(&#x27;pipeline&#x27;,\n                 Pipeline(steps=[(&#x27;columntransformer&#x27;,\n                                  ColumnTransformer(transformers=[(&#x27;pipeline-1&#x27;,\n                                                                   Pipeline(steps=[(&#x27;simpleimputer&#x27;,\n                                                                                    SimpleImputer(strategy=&#x27;median&#x27;)),\n                                                                                   (&#x27;minmaxscaler&#x27;,\n                                                                                    MinMaxScaler())]),\n                                                                   [&#x27;delay_in_seconds&#x27;,\n                                                                    &#x27;avg_temperature&#x27;,\n                                                                    &#x27;avg_atm_pressure&#x27;,\n                                                                    &#x27;avg_humidity&#x27;,\n                                                                    &#x27;avg_wind_speed&#x27;]),\n                                                                  (&#x27;pipeline-2&#x27;,\n                                                                   Pipeline(steps=[(&#x27;simpleimputer&#x27;,\n                                                                                    SimpleImputer(fill_value=&#x27;missing&#x27;,\n                                                                                                  strategy=&#x27;constant&#x27;)),\n                                                                                   (&#x27;onehotencoder&#x27;,\n                                                                                    OneHotEncoder(handle_unknown=&#x27;ignore&#x27;))]),\n                                                                   [&#x27;luminosity&#x27;,\n                                                                    &#x27;avg_rain&#x27;])])),\n                                 (&#x27;variancethreshold&#x27;, VarianceThreshold()),\n                                 (&#x27;selectkbest&#x27;, SelectKBest(k=&#x27;all&#x27;))])),\n                (&#x27;randomforestclassifier&#x27;,\n                 RandomForestClassifier(criterion=&#x27;log_loss&#x27;, max_depth=30))])</pre></div></div></div><div class=\"sk-serial\"><div class=\"sk-item\"><div class=\"sk-label-container\"><div class=\"sk-label sk-toggleable\"><input class=\"sk-toggleable__control sk-hidden--visually\" id=\"sk-estimator-id-155\" type=\"checkbox\" ><label for=\"sk-estimator-id-155\" class=\"sk-toggleable__label sk-toggleable__label-arrow\">pipeline: Pipeline</label><div class=\"sk-toggleable__content\"><pre>Pipeline(steps=[(&#x27;columntransformer&#x27;,\n                 ColumnTransformer(transformers=[(&#x27;pipeline-1&#x27;,\n                                                  Pipeline(steps=[(&#x27;simpleimputer&#x27;,\n                                                                   SimpleImputer(strategy=&#x27;median&#x27;)),\n                                                                  (&#x27;minmaxscaler&#x27;,\n                                                                   MinMaxScaler())]),\n                                                  [&#x27;delay_in_seconds&#x27;,\n                                                   &#x27;avg_temperature&#x27;,\n                                                   &#x27;avg_atm_pressure&#x27;,\n                                                   &#x27;avg_humidity&#x27;,\n                                                   &#x27;avg_wind_speed&#x27;]),\n                                                 (&#x27;pipeline-2&#x27;,\n                                                  Pipeline(steps=[(&#x27;simpleimputer&#x27;,\n                                                                   SimpleImputer(fill_value=&#x27;missing&#x27;,\n                                                                                 strategy=&#x27;constant&#x27;)),\n                                                                  (&#x27;onehotencoder&#x27;,\n                                                                   OneHotEncoder(handle_unknown=&#x27;ignore&#x27;))]),\n                                                  [&#x27;luminosity&#x27;,\n                                                   &#x27;avg_rain&#x27;])])),\n                (&#x27;variancethreshold&#x27;, VarianceThreshold()),\n                (&#x27;selectkbest&#x27;, SelectKBest(k=&#x27;all&#x27;))])</pre></div></div></div><div class=\"sk-serial\"><div class=\"sk-item sk-dashed-wrapped\"><div class=\"sk-label-container\"><div class=\"sk-label sk-toggleable\"><input class=\"sk-toggleable__control sk-hidden--visually\" id=\"sk-estimator-id-156\" type=\"checkbox\" ><label for=\"sk-estimator-id-156\" class=\"sk-toggleable__label sk-toggleable__label-arrow\">columntransformer: ColumnTransformer</label><div class=\"sk-toggleable__content\"><pre>ColumnTransformer(transformers=[(&#x27;pipeline-1&#x27;,\n                                 Pipeline(steps=[(&#x27;simpleimputer&#x27;,\n                                                  SimpleImputer(strategy=&#x27;median&#x27;)),\n                                                 (&#x27;minmaxscaler&#x27;,\n                                                  MinMaxScaler())]),\n                                 [&#x27;delay_in_seconds&#x27;, &#x27;avg_temperature&#x27;,\n                                  &#x27;avg_atm_pressure&#x27;, &#x27;avg_humidity&#x27;,\n                                  &#x27;avg_wind_speed&#x27;]),\n                                (&#x27;pipeline-2&#x27;,\n                                 Pipeline(steps=[(&#x27;simpleimputer&#x27;,\n                                                  SimpleImputer(fill_value=&#x27;missing&#x27;,\n                                                                strategy=&#x27;constant&#x27;)),\n                                                 (&#x27;onehotencoder&#x27;,\n                                                  OneHotEncoder(handle_unknown=&#x27;ignore&#x27;))]),\n                                 [&#x27;luminosity&#x27;, &#x27;avg_rain&#x27;])])</pre></div></div></div><div class=\"sk-parallel\"><div class=\"sk-parallel-item\"><div class=\"sk-item\"><div class=\"sk-label-container\"><div class=\"sk-label sk-toggleable\"><input class=\"sk-toggleable__control sk-hidden--visually\" id=\"sk-estimator-id-157\" type=\"checkbox\" ><label for=\"sk-estimator-id-157\" class=\"sk-toggleable__label sk-toggleable__label-arrow\">pipeline-1</label><div class=\"sk-toggleable__content\"><pre>[&#x27;delay_in_seconds&#x27;, &#x27;avg_temperature&#x27;, &#x27;avg_atm_pressure&#x27;, &#x27;avg_humidity&#x27;, &#x27;avg_wind_speed&#x27;]</pre></div></div></div><div class=\"sk-serial\"><div class=\"sk-item\"><div class=\"sk-serial\"><div class=\"sk-item\"><div class=\"sk-estimator sk-toggleable\"><input class=\"sk-toggleable__control sk-hidden--visually\" id=\"sk-estimator-id-158\" type=\"checkbox\" ><label for=\"sk-estimator-id-158\" class=\"sk-toggleable__label sk-toggleable__label-arrow\">SimpleImputer</label><div class=\"sk-toggleable__content\"><pre>SimpleImputer(strategy=&#x27;median&#x27;)</pre></div></div></div><div class=\"sk-item\"><div class=\"sk-estimator sk-toggleable\"><input class=\"sk-toggleable__control sk-hidden--visually\" id=\"sk-estimator-id-159\" type=\"checkbox\" ><label for=\"sk-estimator-id-159\" class=\"sk-toggleable__label sk-toggleable__label-arrow\">MinMaxScaler</label><div class=\"sk-toggleable__content\"><pre>MinMaxScaler()</pre></div></div></div></div></div></div></div></div><div class=\"sk-parallel-item\"><div class=\"sk-item\"><div class=\"sk-label-container\"><div class=\"sk-label sk-toggleable\"><input class=\"sk-toggleable__control sk-hidden--visually\" id=\"sk-estimator-id-160\" type=\"checkbox\" ><label for=\"sk-estimator-id-160\" class=\"sk-toggleable__label sk-toggleable__label-arrow\">pipeline-2</label><div class=\"sk-toggleable__content\"><pre>[&#x27;luminosity&#x27;, &#x27;avg_rain&#x27;]</pre></div></div></div><div class=\"sk-serial\"><div class=\"sk-item\"><div class=\"sk-serial\"><div class=\"sk-item\"><div class=\"sk-estimator sk-toggleable\"><input class=\"sk-toggleable__control sk-hidden--visually\" id=\"sk-estimator-id-161\" type=\"checkbox\" ><label for=\"sk-estimator-id-161\" class=\"sk-toggleable__label sk-toggleable__label-arrow\">SimpleImputer</label><div class=\"sk-toggleable__content\"><pre>SimpleImputer(fill_value=&#x27;missing&#x27;, strategy=&#x27;constant&#x27;)</pre></div></div></div><div class=\"sk-item\"><div class=\"sk-estimator sk-toggleable\"><input class=\"sk-toggleable__control sk-hidden--visually\" id=\"sk-estimator-id-162\" type=\"checkbox\" ><label for=\"sk-estimator-id-162\" class=\"sk-toggleable__label sk-toggleable__label-arrow\">OneHotEncoder</label><div class=\"sk-toggleable__content\"><pre>OneHotEncoder(handle_unknown=&#x27;ignore&#x27;)</pre></div></div></div></div></div></div></div></div></div></div><div class=\"sk-item\"><div class=\"sk-estimator sk-toggleable\"><input class=\"sk-toggleable__control sk-hidden--visually\" id=\"sk-estimator-id-163\" type=\"checkbox\" ><label for=\"sk-estimator-id-163\" class=\"sk-toggleable__label sk-toggleable__label-arrow\">VarianceThreshold</label><div class=\"sk-toggleable__content\"><pre>VarianceThreshold()</pre></div></div></div><div class=\"sk-item\"><div class=\"sk-estimator sk-toggleable\"><input class=\"sk-toggleable__control sk-hidden--visually\" id=\"sk-estimator-id-164\" type=\"checkbox\" ><label for=\"sk-estimator-id-164\" class=\"sk-toggleable__label sk-toggleable__label-arrow\">SelectKBest</label><div class=\"sk-toggleable__content\"><pre>SelectKBest(k=&#x27;all&#x27;)</pre></div></div></div></div></div><div class=\"sk-item\"><div class=\"sk-estimator sk-toggleable\"><input class=\"sk-toggleable__control sk-hidden--visually\" id=\"sk-estimator-id-165\" type=\"checkbox\" ><label for=\"sk-estimator-id-165\" class=\"sk-toggleable__label sk-toggleable__label-arrow\">RandomForestClassifier</label><div class=\"sk-toggleable__content\"><pre>RandomForestClassifier(criterion=&#x27;log_loss&#x27;, max_depth=30)</pre></div></div></div></div></div></div></div>"
     },
     "execution_count": 104,
     "metadata": {},
     "output_type": "execute_result"
    }
   ],
   "source": [
    "rf_RandomGrid.best_estimator_"
   ],
   "metadata": {
    "collapsed": false
   }
  },
  {
   "cell_type": "code",
   "execution_count": 105,
   "outputs": [
    {
     "name": "stdout",
     "output_type": "stream",
     "text": [
      "Train: 0.996\n",
      "Test: 0.912\n"
     ]
    }
   ],
   "source": [
    "print(f'Train: {rf_RandomGrid.score(X_train,y_train):.3f}' )\n",
    "print(f'Test: {rf_RandomGrid.score(X_test,y_test):.3f}' )"
   ],
   "metadata": {
    "collapsed": false
   }
  },
  {
   "cell_type": "code",
   "execution_count": 106,
   "outputs": [
    {
     "data": {
      "text/plain": "<sklearn.metrics._plot.confusion_matrix.ConfusionMatrixDisplay at 0x17e5f841f70>"
     },
     "execution_count": 106,
     "metadata": {},
     "output_type": "execute_result"
    },
    {
     "data": {
      "text/plain": "<Figure size 640x480 with 2 Axes>",
      "image/png": "[encoded data removed]"
     },
     "metadata": {},
     "output_type": "display_data"
    }
   ],
   "source": [
    "from sklearn.metrics import confusion_matrix, ConfusionMatrixDisplay\n",
    "\n",
    "predictions = rf_RandomGrid.predict(X_test)\n",
    "\n",
    "cm = confusion_matrix(y_test, predictions)\n",
    "# TP FP\n",
    "# FN TN\n",
    "disp = ConfusionMatrixDisplay(cm)\n",
    "\n",
    "disp.plot()"
   ],
   "metadata": {
    "collapsed": false
   }
  },
  {
   "cell_type": "code",
   "execution_count": 106,
   "outputs": [],
   "source": [],
   "metadata": {
    "collapsed": false
   }
  }
 ],
 "metadata": {
  "kernelspec": {
   "display_name": "Python 3",
   "language": "python",
   "name": "python3"
  },
  "language_info": {
   "codemirror_mode": {
    "name": "ipython",
    "version": 2
   },
   "file_extension": ".py",
   "mimetype": "text/x-python",
   "name": "python",
   "nbconvert_exporter": "python",
   "pygments_lexer": "ipython2",
   "version": "2.7.6"
  }
 },
 "nbformat": 4,
 "nbformat_minor": 0
}
