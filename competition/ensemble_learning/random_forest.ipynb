{
 "cells": [
  {
   "cell_type": "markdown",
   "source": [
    "# Implementação do Random Forest"
   ],
   "metadata": {
    "collapsed": false
   }
  },
  {
   "cell_type": "code",
   "execution_count": 1,
   "outputs": [],
   "source": [
    "TRAINING_DATASET_SOURCE = '../training_data.csv'  # Since we are one directory up, we should go down one directory to import the datasets\n",
    "TEST_DATASET_SOURCE = '../test_data.csv'"
   ],
   "metadata": {
    "collapsed": false
   }
  },
  {
   "cell_type": "code",
   "execution_count": 2,
   "outputs": [],
   "source": [
    "import pandas as pd\n",
    "from sklearn.compose import make_column_transformer\n",
    "from sklearn.impute import SimpleImputer\n",
    "from sklearn.model_selection import RandomizedSearchCV\n",
    "from sklearn.model_selection import train_test_split\n",
    "from sklearn.pipeline import make_pipeline\n",
    "from sklearn.preprocessing import MinMaxScaler, OneHotEncoder\n",
    "from pandas import DataFrame\n",
    "from sklearn.base import BaseEstimator\n",
    "from sklearn.base import TransformerMixin\n",
    "\n",
    "train_df = pd.read_csv(TRAINING_DATASET_SOURCE)\n",
    "test_df = pd.read_csv(TEST_DATASET_SOURCE)"
   ],
   "metadata": {
    "collapsed": false
   }
  },
  {
   "cell_type": "markdown",
   "source": [
    "# Definição dos dados de teste e de treino"
   ],
   "metadata": {
    "collapsed": false
   }
  },
  {
   "cell_type": "code",
   "execution_count": 3,
   "outputs": [
    {
     "name": "stdout",
     "output_type": "stream",
     "text": [
      "(5000, 13) (1206, 12)\n"
     ]
    }
   ],
   "source": [
    "print(train_df.shape, test_df.shape)"
   ],
   "metadata": {
    "collapsed": false
   }
  },
  {
   "cell_type": "code",
   "execution_count": 4,
   "outputs": [
    {
     "data": {
      "text/plain": "None         2028\nHigh         1073\nLow           718\nVery_High     603\nMedium        578\nName: incidents, dtype: int64"
     },
     "execution_count": 4,
     "metadata": {},
     "output_type": "execute_result"
    }
   ],
   "source": [
    "train_df['incidents'].value_counts()"
   ],
   "metadata": {
    "collapsed": false
   }
  },
  {
   "cell_type": "code",
   "execution_count": 5,
   "outputs": [
    {
     "name": "stdout",
     "output_type": "stream",
     "text": [
      "Max value count: 2028\n",
      "None         2028\n",
      "High         2028\n",
      "Low          2028\n",
      "Very_High    2028\n",
      "Medium       2028\n",
      "Name: incidents, dtype: int64\n"
     ]
    }
   ],
   "source": [
    "#count_class0, count_class1, count_class2, count_class3, count_class4 = train_df['incidents'].value_counts().to_frame()\n",
    "\n",
    "incidents_count = train_df['incidents'].value_counts()\n",
    "\n",
    "max_count = incidents_count.max()\n",
    "\n",
    "print('Max value count:', max_count)\n",
    "\n",
    "df_classes = []\n",
    "for category, counts in zip(incidents_count.index, incidents_count):\n",
    "    #print(category, counts)\n",
    "    df_classes.append(train_df[train_df['incidents'] == category])\n",
    "\n",
    "df_classes_over = []\n",
    "\n",
    "for category in df_classes:\n",
    "    df_classes_over.append(category.sample(max_count, replace=True))\n",
    "\n",
    "df_test_over = pd.concat(df_classes_over, axis=0)\n",
    "\n",
    "print(df_test_over['incidents'].value_counts())\n"
   ],
   "metadata": {
    "collapsed": false
   }
  },
  {
   "cell_type": "code",
   "execution_count": 6,
   "outputs": [],
   "source": [
    "features = df_test_over.drop(['incidents'], axis=1)\n",
    "target = df_test_over['incidents']\n",
    "\n",
    "all_features = features.columns.tolist()"
   ],
   "metadata": {
    "collapsed": false
   }
  },
  {
   "cell_type": "code",
   "execution_count": 7,
   "outputs": [
    {
     "data": {
      "text/plain": "      city_name magnitude_of_delay  delay_in_seconds  \\\n321   Guimaraes          UNDEFINED                 0   \n2635  Guimaraes          UNDEFINED               396   \n4904  Guimaraes          UNDEFINED                 0   \n3079  Guimaraes          UNDEFINED                 0   \n149   Guimaraes          UNDEFINED                 0   \n...         ...                ...               ...   \n3472  Guimaraes          UNDEFINED                 0   \n4091  Guimaraes          UNDEFINED                 0   \n3953  Guimaraes          UNDEFINED                 0   \n2530  Guimaraes          UNDEFINED                 0   \n4306  Guimaraes          UNDEFINED              1240   \n\n                     affected_roads       record_date luminosity  \\\n321        N101,N101,N101,N101,N101  2021-07-04 15:00      LIGHT   \n2635                              ,  2021-11-25 12:00      LIGHT   \n4904       N101,N101,N101,N101,N101  2021-09-16 10:00      LIGHT   \n3079       N101,N101,N101,N101,N101  2021-09-28 03:00       DARK   \n149        N101,N101,N101,N101,N101  2021-09-16 12:00      LIGHT   \n...                             ...               ...        ...   \n3472      N101,N101,N101,N101,N101,  2021-06-22 22:00       DARK   \n4091      N101,N101,N101,N101,N101,  2021-04-02 05:00       DARK   \n3953      N101,N101,N101,N101,N101,  2021-06-22 09:00      LIGHT   \n2530      N101,N101,N101,N101,N101,  2021-03-24 04:00       DARK   \n4306  N101,N101,N101,N101,N101,N101  2021-11-03 13:00      LIGHT   \n\n      avg_temperature  avg_atm_pressure  avg_humidity  avg_wind_speed  \\\n321              20.0            1018.0          52.0             4.0   \n2635             11.0            1010.0          73.0             1.0   \n4904             19.0            1020.0          82.0             0.0   \n3079             15.0            1022.0          93.0             0.0   \n149              22.0            1019.0          73.0             0.0   \n...               ...               ...           ...             ...   \n3472             16.0            1021.0          83.0             2.0   \n4091             12.0            1016.0          92.0             0.0   \n3953             16.0            1019.0          88.0             2.0   \n2530              7.0            1024.0          91.0             0.0   \n4306             12.0            1013.0          76.0             3.0   \n\n      avg_precipitation   avg_rain  \n321                 0.0  Sem Chuva  \n2635                0.0  Sem Chuva  \n4904                0.0  Sem Chuva  \n3079                0.0  Sem Chuva  \n149                 0.0  Sem Chuva  \n...                 ...        ...  \n3472                0.0  Sem Chuva  \n4091                0.0  Sem Chuva  \n3953                0.0  Sem Chuva  \n2530                0.0  Sem Chuva  \n4306                0.0  Sem Chuva  \n\n[10140 rows x 12 columns]",
      "text/html": "<div>\n<style scoped>\n    .dataframe tbody tr th:only-of-type {\n        vertical-align: middle;\n    }\n\n    .dataframe tbody tr th {\n        vertical-align: top;\n    }\n\n    .dataframe thead th {\n        text-align: right;\n    }\n</style>\n<table border=\"1\" class=\"dataframe\">\n  <thead>\n    <tr style=\"text-align: right;\">\n      <th></th>\n      <th>city_name</th>\n      <th>magnitude_of_delay</th>\n      <th>delay_in_seconds</th>\n      <th>affected_roads</th>\n      <th>record_date</th>\n      <th>luminosity</th>\n      <th>avg_temperature</th>\n      <th>avg_atm_pressure</th>\n      <th>avg_humidity</th>\n      <th>avg_wind_speed</th>\n      <th>avg_precipitation</th>\n      <th>avg_rain</th>\n    </tr>\n  </thead>\n  <tbody>\n    <tr>\n      <th>321</th>\n      <td>Guimaraes</td>\n      <td>UNDEFINED</td>\n      <td>0</td>\n      <td>N101,N101,N101,N101,N101</td>\n      <td>2021-07-04 15:00</td>\n      <td>LIGHT</td>\n      <td>20.0</td>\n      <td>1018.0</td>\n      <td>52.0</td>\n      <td>4.0</td>\n      <td>0.0</td>\n      <td>Sem Chuva</td>\n    </tr>\n    <tr>\n      <th>2635</th>\n      <td>Guimaraes</td>\n      <td>UNDEFINED</td>\n      <td>396</td>\n      <td>,</td>\n      <td>2021-11-25 12:00</td>\n      <td>LIGHT</td>\n      <td>11.0</td>\n      <td>1010.0</td>\n      <td>73.0</td>\n      <td>1.0</td>\n      <td>0.0</td>\n      <td>Sem Chuva</td>\n    </tr>\n    <tr>\n      <th>4904</th>\n      <td>Guimaraes</td>\n      <td>UNDEFINED</td>\n      <td>0</td>\n      <td>N101,N101,N101,N101,N101</td>\n      <td>2021-09-16 10:00</td>\n      <td>LIGHT</td>\n      <td>19.0</td>\n      <td>1020.0</td>\n      <td>82.0</td>\n      <td>0.0</td>\n      <td>0.0</td>\n      <td>Sem Chuva</td>\n    </tr>\n    <tr>\n      <th>3079</th>\n      <td>Guimaraes</td>\n      <td>UNDEFINED</td>\n      <td>0</td>\n      <td>N101,N101,N101,N101,N101</td>\n      <td>2021-09-28 03:00</td>\n      <td>DARK</td>\n      <td>15.0</td>\n      <td>1022.0</td>\n      <td>93.0</td>\n      <td>0.0</td>\n      <td>0.0</td>\n      <td>Sem Chuva</td>\n    </tr>\n    <tr>\n      <th>149</th>\n      <td>Guimaraes</td>\n      <td>UNDEFINED</td>\n      <td>0</td>\n      <td>N101,N101,N101,N101,N101</td>\n      <td>2021-09-16 12:00</td>\n      <td>LIGHT</td>\n      <td>22.0</td>\n      <td>1019.0</td>\n      <td>73.0</td>\n      <td>0.0</td>\n      <td>0.0</td>\n      <td>Sem Chuva</td>\n    </tr>\n    <tr>\n      <th>...</th>\n      <td>...</td>\n      <td>...</td>\n      <td>...</td>\n      <td>...</td>\n      <td>...</td>\n      <td>...</td>\n      <td>...</td>\n      <td>...</td>\n      <td>...</td>\n      <td>...</td>\n      <td>...</td>\n      <td>...</td>\n    </tr>\n    <tr>\n      <th>3472</th>\n      <td>Guimaraes</td>\n      <td>UNDEFINED</td>\n      <td>0</td>\n      <td>N101,N101,N101,N101,N101,</td>\n      <td>2021-06-22 22:00</td>\n      <td>DARK</td>\n      <td>16.0</td>\n      <td>1021.0</td>\n      <td>83.0</td>\n      <td>2.0</td>\n      <td>0.0</td>\n      <td>Sem Chuva</td>\n    </tr>\n    <tr>\n      <th>4091</th>\n      <td>Guimaraes</td>\n      <td>UNDEFINED</td>\n      <td>0</td>\n      <td>N101,N101,N101,N101,N101,</td>\n      <td>2021-04-02 05:00</td>\n      <td>DARK</td>\n      <td>12.0</td>\n      <td>1016.0</td>\n      <td>92.0</td>\n      <td>0.0</td>\n      <td>0.0</td>\n      <td>Sem Chuva</td>\n    </tr>\n    <tr>\n      <th>3953</th>\n      <td>Guimaraes</td>\n      <td>UNDEFINED</td>\n      <td>0</td>\n      <td>N101,N101,N101,N101,N101,</td>\n      <td>2021-06-22 09:00</td>\n      <td>LIGHT</td>\n      <td>16.0</td>\n      <td>1019.0</td>\n      <td>88.0</td>\n      <td>2.0</td>\n      <td>0.0</td>\n      <td>Sem Chuva</td>\n    </tr>\n    <tr>\n      <th>2530</th>\n      <td>Guimaraes</td>\n      <td>UNDEFINED</td>\n      <td>0</td>\n      <td>N101,N101,N101,N101,N101,</td>\n      <td>2021-03-24 04:00</td>\n      <td>DARK</td>\n      <td>7.0</td>\n      <td>1024.0</td>\n      <td>91.0</td>\n      <td>0.0</td>\n      <td>0.0</td>\n      <td>Sem Chuva</td>\n    </tr>\n    <tr>\n      <th>4306</th>\n      <td>Guimaraes</td>\n      <td>UNDEFINED</td>\n      <td>1240</td>\n      <td>N101,N101,N101,N101,N101,N101</td>\n      <td>2021-11-03 13:00</td>\n      <td>LIGHT</td>\n      <td>12.0</td>\n      <td>1013.0</td>\n      <td>76.0</td>\n      <td>3.0</td>\n      <td>0.0</td>\n      <td>Sem Chuva</td>\n    </tr>\n  </tbody>\n</table>\n<p>10140 rows × 12 columns</p>\n</div>"
     },
     "execution_count": 7,
     "metadata": {},
     "output_type": "execute_result"
    }
   ],
   "source": [
    "features"
   ],
   "metadata": {
    "collapsed": false
   }
  },
  {
   "cell_type": "markdown",
   "source": [
    "### Obtenção das features numericas e categoricas"
   ],
   "metadata": {
    "collapsed": false
   }
  },
  {
   "cell_type": "code",
   "execution_count": 8,
   "outputs": [],
   "source": [
    "dropped_columns = ['city_name', 'avg_precipitation', 'magnitude_of_delay', 'record_date']\n",
    "\n",
    "numerical_features = [column for column, dtype in zip(features.columns, features.dtypes)\n",
    "                      if dtype.kind in ['i', 'f'] and column not in dropped_columns]\n",
    "\n",
    "categorical_features = [column for column, dtype in zip(features.columns, features.dtypes)\n",
    "                        if\n",
    "                        dtype.kind not in ['i', 'f'] and column != 'affected_roads' and column not in dropped_columns]\n",
    "\n",
    "special_features = ['affected_roads']"
   ],
   "metadata": {
    "collapsed": false
   }
  },
  {
   "cell_type": "markdown",
   "source": [
    "### Divisão dos dados em dados de teste e treino"
   ],
   "metadata": {
    "collapsed": false
   }
  },
  {
   "cell_type": "code",
   "execution_count": 9,
   "outputs": [],
   "source": [
    "X_train, X_test, y_train, y_test = train_test_split(features, target, test_size=0.3, random_state=2000)"
   ],
   "metadata": {
    "collapsed": false
   }
  },
  {
   "cell_type": "markdown",
   "source": [
    "#### Criação de steps para tratar da remoção de features\n"
   ],
   "metadata": {
    "collapsed": false
   }
  },
  {
   "cell_type": "code",
   "execution_count": 10,
   "outputs": [],
   "source": [
    "# noinspection PyPep8Naming,PyMethodMayBeStatic\n",
    "class ColumnsRemovalTransformer(BaseEstimator, TransformerMixin):\n",
    "    def __init__(self):\n",
    "        pass\n",
    "\n",
    "    def fit(self, X, y=None):\n",
    "        return self\n",
    "\n",
    "    def transform(self, X: DataFrame, y=None):\n",
    "        X_ = X.copy()\n",
    "\n",
    "        X_.drop(columns=dropped_columns, inplace=True)\n",
    "\n",
    "        return X_"
   ],
   "metadata": {
    "collapsed": false
   }
  },
  {
   "cell_type": "markdown",
   "source": [
    "#### Criação de steps para tratar da feature `record_date`"
   ],
   "metadata": {
    "collapsed": false
   }
  },
  {
   "cell_type": "code",
   "execution_count": 11,
   "outputs": [],
   "source": [
    "# noinspection PyPep8Naming,PyMethodMayBeStatic\n",
    "class RecordDateTransformer(BaseEstimator, TransformerMixin):\n",
    "    def __init__(self):\n",
    "        pass\n",
    "\n",
    "    def fit(self, X, y=None):\n",
    "        return self\n",
    "\n",
    "    def transform(self, X: DataFrame, y=None):\n",
    "        X_ = X.copy()\n",
    "\n",
    "        ### Extrair a hora e dia da semana da feature 'record_date'\n",
    "        record_date = pd.DatetimeIndex(X_['record_date'])\n",
    "\n",
    "        X_['hour'] = record_date.hour\n",
    "        X_['day'] = record_date.day\n",
    "        X_['month'] = record_date.month\n",
    "        X_['weekday'] = record_date.weekday\n",
    "\n",
    "        X_.drop(columns=['record_date'], inplace=True)\n",
    "\n",
    "        imputer = SimpleImputer(strategy='median')\n",
    "        scaler = MinMaxScaler()\n",
    "\n",
    "        imputer.fit(X_)\n",
    "        X_ = imputer.transform(X_)\n",
    "\n",
    "        scaler.fit(X_)\n",
    "        X_ = scaler.transform(X_)\n",
    "\n",
    "        return X_"
   ],
   "metadata": {
    "collapsed": false
   }
  },
  {
   "cell_type": "markdown",
   "source": [
    "#### Criação de steps para tratar da feature `affected_roads`"
   ],
   "metadata": {
    "collapsed": false
   }
  },
  {
   "cell_type": "code",
   "execution_count": 12,
   "outputs": [],
   "source": [
    "# noinspection PyPep8Naming,PyMethodMayBeStatic\n",
    "class AffectedRoadsTransformer(BaseEstimator, TransformerMixin):\n",
    "    def __init__(self):\n",
    "        pass\n",
    "\n",
    "    def fit(self, X, y=None):\n",
    "        return self\n",
    "\n",
    "    def transform(self, X: DataFrame, y=None):\n",
    "        X_ = X.copy()\n",
    "\n",
    "        road_quantity = []\n",
    "        for line in X_['affected_roads']:\n",
    "            unique_roads = set(str(line).split(','))\n",
    "            valid_roads = [elem for elem in unique_roads if elem != '']\n",
    "            count = len(valid_roads)\n",
    "            road_quantity.append(count)\n",
    "\n",
    "        X_['num_affected_roads'] = road_quantity\n",
    "        X_.drop(columns=['affected_roads'], inplace=True)\n",
    "\n",
    "        imputer = SimpleImputer(strategy='median')\n",
    "        scaler = MinMaxScaler()\n",
    "\n",
    "        imputer.fit(X_)\n",
    "        X_ = imputer.transform(X_)\n",
    "\n",
    "        scaler.fit(X_)\n",
    "        X_ = scaler.transform(X_)\n",
    "\n",
    "        return X_"
   ],
   "metadata": {
    "collapsed": false
   }
  },
  {
   "cell_type": "markdown",
   "source": [
    "### Pipeline de preparação de dados"
   ],
   "metadata": {
    "collapsed": false
   }
  },
  {
   "cell_type": "code",
   "execution_count": 13,
   "outputs": [],
   "source": [
    "preprocessor = make_column_transformer(\n",
    "    (make_pipeline(\n",
    "        AffectedRoadsTransformer()\n",
    "    ), special_features),\n",
    "\n",
    "    (make_pipeline(\n",
    "        RecordDateTransformer()\n",
    "    ), ['record_date']),\n",
    "\n",
    "    (make_pipeline(\n",
    "        ColumnsRemovalTransformer()\n",
    "    ), dropped_columns),\n",
    "\n",
    "    (make_pipeline(\n",
    "        SimpleImputer(strategy='median'),\n",
    "        MinMaxScaler(),\n",
    "    ), numerical_features),\n",
    "\n",
    "    (make_pipeline(\n",
    "        SimpleImputer(strategy='constant', fill_value='missing'),\n",
    "        OneHotEncoder(categories='auto', handle_unknown='ignore'),\n",
    "    ), categorical_features),\n",
    ")"
   ],
   "metadata": {
    "collapsed": false
   }
  },
  {
   "cell_type": "code",
   "execution_count": 14,
   "outputs": [
    {
     "data": {
      "text/plain": "      city_name magnitude_of_delay  delay_in_seconds  \\\n2140  Guimaraes          UNDEFINED               577   \n3821  Guimaraes          UNDEFINED               125   \n3067  Guimaraes          UNDEFINED               162   \n1837  Guimaraes          UNDEFINED                 0   \n902   Guimaraes          UNDEFINED               490   \n...         ...                ...               ...   \n2641  Guimaraes              MAJOR               613   \n4149  Guimaraes          UNDEFINED               366   \n711   Guimaraes          UNDEFINED                 0   \n1365  Guimaraes              MAJOR              1173   \n3527  Guimaraes          UNDEFINED                 0   \n\n                               affected_roads       record_date luminosity  \\\n2140       N101,N101,N101,N101,N101,N101,N101  2021-11-27 13:00      LIGHT   \n3821            N101,N101,N101,N101,N101,N101  2021-07-19 12:00      LIGHT   \n3067            N101,N101,N101,N101,N101,N105  2021-04-28 12:00      LIGHT   \n1837                 N101,N101,N101,N101,N101  2021-12-10 07:00       DARK   \n902            N101,N101,N101,N105,N101,N101,  2021-04-02 01:00       DARK   \n...                                       ...               ...        ...   \n2641                     N101,N105,N105,N105,  2021-01-22 18:00       DARK   \n4149  N101,N101,N101,N101,N101,N101,N101,N101  2021-11-16 14:00      LIGHT   \n711                  N101,N101,N101,N101,N101  2021-09-29 04:00       DARK   \n1365                      N101,N101,N101,N101  2021-12-03 13:00      LIGHT   \n3527                 N101,N101,N101,N101,N101  2021-12-07 02:00       DARK   \n\n      avg_temperature  avg_atm_pressure  avg_humidity  avg_wind_speed  \\\n2140             11.0            1015.0          46.0             6.0   \n3821             16.0            1015.0          43.0             1.0   \n3067             14.0            1007.0          89.0             0.0   \n1837             12.0            1022.0          94.0             0.0   \n902              13.0            1015.0          92.0             0.0   \n...               ...               ...           ...             ...   \n2641              8.0            1016.0          91.0             3.0   \n4149             15.0            1019.0          57.0             0.0   \n711              11.0            1027.0          85.0             1.0   \n1365             10.0            1026.0          83.0             1.0   \n3527             12.0            1022.0          94.0             1.0   \n\n      avg_precipitation     avg_rain  \n2140                0.0  chuva fraca  \n3821                0.0    Sem Chuva  \n3067                0.0    Sem Chuva  \n1837                0.0    Sem Chuva  \n902                 0.0  chuva fraca  \n...                 ...          ...  \n2641                0.0    Sem Chuva  \n4149                0.0    Sem Chuva  \n711                 0.0    Sem Chuva  \n1365                0.0    Sem Chuva  \n3527                0.0    Sem Chuva  \n\n[7098 rows x 12 columns]",
      "text/html": "<div>\n<style scoped>\n    .dataframe tbody tr th:only-of-type {\n        vertical-align: middle;\n    }\n\n    .dataframe tbody tr th {\n        vertical-align: top;\n    }\n\n    .dataframe thead th {\n        text-align: right;\n    }\n</style>\n<table border=\"1\" class=\"dataframe\">\n  <thead>\n    <tr style=\"text-align: right;\">\n      <th></th>\n      <th>city_name</th>\n      <th>magnitude_of_delay</th>\n      <th>delay_in_seconds</th>\n      <th>affected_roads</th>\n      <th>record_date</th>\n      <th>luminosity</th>\n      <th>avg_temperature</th>\n      <th>avg_atm_pressure</th>\n      <th>avg_humidity</th>\n      <th>avg_wind_speed</th>\n      <th>avg_precipitation</th>\n      <th>avg_rain</th>\n    </tr>\n  </thead>\n  <tbody>\n    <tr>\n      <th>2140</th>\n      <td>Guimaraes</td>\n      <td>UNDEFINED</td>\n      <td>577</td>\n      <td>N101,N101,N101,N101,N101,N101,N101</td>\n      <td>2021-11-27 13:00</td>\n      <td>LIGHT</td>\n      <td>11.0</td>\n      <td>1015.0</td>\n      <td>46.0</td>\n      <td>6.0</td>\n      <td>0.0</td>\n      <td>chuva fraca</td>\n    </tr>\n    <tr>\n      <th>3821</th>\n      <td>Guimaraes</td>\n      <td>UNDEFINED</td>\n      <td>125</td>\n      <td>N101,N101,N101,N101,N101,N101</td>\n      <td>2021-07-19 12:00</td>\n      <td>LIGHT</td>\n      <td>16.0</td>\n      <td>1015.0</td>\n      <td>43.0</td>\n      <td>1.0</td>\n      <td>0.0</td>\n      <td>Sem Chuva</td>\n    </tr>\n    <tr>\n      <th>3067</th>\n      <td>Guimaraes</td>\n      <td>UNDEFINED</td>\n      <td>162</td>\n      <td>N101,N101,N101,N101,N101,N105</td>\n      <td>2021-04-28 12:00</td>\n      <td>LIGHT</td>\n      <td>14.0</td>\n      <td>1007.0</td>\n      <td>89.0</td>\n      <td>0.0</td>\n      <td>0.0</td>\n      <td>Sem Chuva</td>\n    </tr>\n    <tr>\n      <th>1837</th>\n      <td>Guimaraes</td>\n      <td>UNDEFINED</td>\n      <td>0</td>\n      <td>N101,N101,N101,N101,N101</td>\n      <td>2021-12-10 07:00</td>\n      <td>DARK</td>\n      <td>12.0</td>\n      <td>1022.0</td>\n      <td>94.0</td>\n      <td>0.0</td>\n      <td>0.0</td>\n      <td>Sem Chuva</td>\n    </tr>\n    <tr>\n      <th>902</th>\n      <td>Guimaraes</td>\n      <td>UNDEFINED</td>\n      <td>490</td>\n      <td>N101,N101,N101,N105,N101,N101,</td>\n      <td>2021-04-02 01:00</td>\n      <td>DARK</td>\n      <td>13.0</td>\n      <td>1015.0</td>\n      <td>92.0</td>\n      <td>0.0</td>\n      <td>0.0</td>\n      <td>chuva fraca</td>\n    </tr>\n    <tr>\n      <th>...</th>\n      <td>...</td>\n      <td>...</td>\n      <td>...</td>\n      <td>...</td>\n      <td>...</td>\n      <td>...</td>\n      <td>...</td>\n      <td>...</td>\n      <td>...</td>\n      <td>...</td>\n      <td>...</td>\n      <td>...</td>\n    </tr>\n    <tr>\n      <th>2641</th>\n      <td>Guimaraes</td>\n      <td>MAJOR</td>\n      <td>613</td>\n      <td>N101,N105,N105,N105,</td>\n      <td>2021-01-22 18:00</td>\n      <td>DARK</td>\n      <td>8.0</td>\n      <td>1016.0</td>\n      <td>91.0</td>\n      <td>3.0</td>\n      <td>0.0</td>\n      <td>Sem Chuva</td>\n    </tr>\n    <tr>\n      <th>4149</th>\n      <td>Guimaraes</td>\n      <td>UNDEFINED</td>\n      <td>366</td>\n      <td>N101,N101,N101,N101,N101,N101,N101,N101</td>\n      <td>2021-11-16 14:00</td>\n      <td>LIGHT</td>\n      <td>15.0</td>\n      <td>1019.0</td>\n      <td>57.0</td>\n      <td>0.0</td>\n      <td>0.0</td>\n      <td>Sem Chuva</td>\n    </tr>\n    <tr>\n      <th>711</th>\n      <td>Guimaraes</td>\n      <td>UNDEFINED</td>\n      <td>0</td>\n      <td>N101,N101,N101,N101,N101</td>\n      <td>2021-09-29 04:00</td>\n      <td>DARK</td>\n      <td>11.0</td>\n      <td>1027.0</td>\n      <td>85.0</td>\n      <td>1.0</td>\n      <td>0.0</td>\n      <td>Sem Chuva</td>\n    </tr>\n    <tr>\n      <th>1365</th>\n      <td>Guimaraes</td>\n      <td>MAJOR</td>\n      <td>1173</td>\n      <td>N101,N101,N101,N101</td>\n      <td>2021-12-03 13:00</td>\n      <td>LIGHT</td>\n      <td>10.0</td>\n      <td>1026.0</td>\n      <td>83.0</td>\n      <td>1.0</td>\n      <td>0.0</td>\n      <td>Sem Chuva</td>\n    </tr>\n    <tr>\n      <th>3527</th>\n      <td>Guimaraes</td>\n      <td>UNDEFINED</td>\n      <td>0</td>\n      <td>N101,N101,N101,N101,N101</td>\n      <td>2021-12-07 02:00</td>\n      <td>DARK</td>\n      <td>12.0</td>\n      <td>1022.0</td>\n      <td>94.0</td>\n      <td>1.0</td>\n      <td>0.0</td>\n      <td>Sem Chuva</td>\n    </tr>\n  </tbody>\n</table>\n<p>7098 rows × 12 columns</p>\n</div>"
     },
     "execution_count": 14,
     "metadata": {},
     "output_type": "execute_result"
    }
   ],
   "source": [
    "X_train"
   ],
   "metadata": {
    "collapsed": false
   }
  },
  {
   "cell_type": "code",
   "execution_count": 15,
   "outputs": [
    {
     "data": {
      "text/plain": "array([[0.125     , 0.56521739, 0.86666667, ..., 0.        , 1.        ,\n        0.        ],\n       [0.125     , 0.52173913, 0.6       , ..., 0.        , 0.        ,\n        0.        ],\n       [0.25      , 0.52173913, 0.9       , ..., 0.        , 0.        ,\n        0.        ],\n       ...,\n       [0.125     , 0.17391304, 0.93333333, ..., 0.        , 0.        ,\n        0.        ],\n       [0.125     , 0.56521739, 0.06666667, ..., 0.        , 0.        ,\n        0.        ],\n       [0.125     , 0.08695652, 0.2       , ..., 0.        , 0.        ,\n        0.        ]])"
     },
     "execution_count": 15,
     "metadata": {},
     "output_type": "execute_result"
    }
   ],
   "source": [
    "preprocessor.fit(X_train)\n",
    "preprocessor.transform(X_train)"
   ],
   "metadata": {
    "collapsed": false
   }
  },
  {
   "cell_type": "code",
   "execution_count": 16,
   "outputs": [],
   "source": [
    "from sklearn.feature_selection import SelectKBest, VarianceThreshold, f_classif\n",
    "\n",
    "preprocessor_best = make_pipeline(preprocessor, VarianceThreshold())#, SelectKBest(f_classif, k='all'))"
   ],
   "metadata": {
    "collapsed": false
   }
  },
  {
   "cell_type": "code",
   "execution_count": 17,
   "outputs": [],
   "source": [
    "from sklearn.ensemble import RandomForestClassifier\n",
    "\n",
    "RF_Model = make_pipeline(preprocessor_best, RandomForestClassifier(n_estimators=100))"
   ],
   "metadata": {
    "collapsed": false
   }
  },
  {
   "cell_type": "code",
   "execution_count": 18,
   "outputs": [
    {
     "data": {
      "text/plain": "1.0"
     },
     "execution_count": 18,
     "metadata": {},
     "output_type": "execute_result"
    }
   ],
   "source": [
    "RF_Model.fit(X_train, y_train)\n",
    "RF_Model.score(X_train, y_train)"
   ],
   "metadata": {
    "collapsed": false
   }
  },
  {
   "cell_type": "code",
   "execution_count": 19,
   "outputs": [
    {
     "data": {
      "text/plain": "0.9819197896120972"
     },
     "execution_count": 19,
     "metadata": {},
     "output_type": "execute_result"
    }
   ],
   "source": [
    "RF_Model.score(X_test, y_test)"
   ],
   "metadata": {
    "collapsed": false
   }
  },
  {
   "cell_type": "markdown",
   "source": [
    "## Hyperparameter Tuning"
   ],
   "metadata": {
    "collapsed": false
   }
  },
  {
   "cell_type": "code",
   "execution_count": 20,
   "outputs": [],
   "source": [
    "import numpy as np\n",
    "\n",
    "n_estimators = [int(x) for x in np.linspace(start=10, stop=500, num=5)]\n",
    "\n",
    "max_features = ['sqrt']\n",
    "\n",
    "max_depth = [2, 6, 12, 20, 30, 40, 50]\n",
    "\n",
    "min_samples_split = [2, 5, 30]\n",
    "\n",
    "min_samples_leaf = [1, 2, 50]\n",
    "\n",
    "bootstrap = [True, False]\n",
    "\n",
    "criterions = [\"gini\", \"entropy\", \"log_loss\"]"
   ],
   "metadata": {
    "collapsed": false
   }
  },
  {
   "cell_type": "code",
   "execution_count": 21,
   "outputs": [
    {
     "data": {
      "text/plain": "{'randomforestclassifier__n_estimators': [10, 132, 255, 377, 500],\n 'randomforestclassifier__max_features': ['sqrt'],\n 'randomforestclassifier__max_depth': [2, 6, 12, 20, 30, 40, 50],\n 'randomforestclassifier__min_samples_split': [2, 5, 30],\n 'randomforestclassifier__min_samples_leaf': [1, 2, 50],\n 'randomforestclassifier__bootstrap': [True, False],\n 'randomforestclassifier__criterion': ['gini', 'entropy', 'log_loss']}"
     },
     "execution_count": 21,
     "metadata": {},
     "output_type": "execute_result"
    }
   ],
   "source": [
    "param_grid = {\n",
    "    'randomforestclassifier__n_estimators': n_estimators,\n",
    "    'randomforestclassifier__max_features': max_features,\n",
    "    'randomforestclassifier__max_depth': max_depth,\n",
    "    'randomforestclassifier__min_samples_split': min_samples_split,\n",
    "    'randomforestclassifier__min_samples_leaf': min_samples_leaf,\n",
    "    'randomforestclassifier__bootstrap': bootstrap,\n",
    "    'randomforestclassifier__criterion': criterions\n",
    "}\n",
    "\n",
    "param_grid"
   ],
   "metadata": {
    "collapsed": false
   }
  },
  {
   "cell_type": "code",
   "execution_count": 22,
   "outputs": [
    {
     "name": "stdout",
     "output_type": "stream",
     "text": [
      "['accuracy', 'adjusted_mutual_info_score', 'adjusted_rand_score', 'average_precision', 'balanced_accuracy', 'completeness_score', 'explained_variance', 'f1', 'f1_macro', 'f1_micro', 'f1_samples', 'f1_weighted', 'fowlkes_mallows_score', 'homogeneity_score', 'jaccard', 'jaccard_macro', 'jaccard_micro', 'jaccard_samples', 'jaccard_weighted', 'matthews_corrcoef', 'max_error', 'mutual_info_score', 'neg_brier_score', 'neg_log_loss', 'neg_mean_absolute_error', 'neg_mean_absolute_percentage_error', 'neg_mean_gamma_deviance', 'neg_mean_poisson_deviance', 'neg_mean_squared_error', 'neg_mean_squared_log_error', 'neg_median_absolute_error', 'neg_root_mean_squared_error', 'normalized_mutual_info_score', 'precision', 'precision_macro', 'precision_micro', 'precision_samples', 'precision_weighted', 'r2', 'rand_score', 'recall', 'recall_macro', 'recall_micro', 'recall_samples', 'recall_weighted', 'roc_auc', 'roc_auc_ovo', 'roc_auc_ovo_weighted', 'roc_auc_ovr', 'roc_auc_ovr_weighted', 'top_k_accuracy', 'v_measure_score']\n"
     ]
    }
   ],
   "source": [
    "from sklearn import metrics\n",
    "\n",
    "print(metrics.get_scorer_names())"
   ],
   "metadata": {
    "collapsed": false
   }
  },
  {
   "cell_type": "code",
   "execution_count": 23,
   "outputs": [],
   "source": [
    "rf_RandomGrid = RandomizedSearchCV(estimator=RF_Model, param_distributions=param_grid, cv=20, verbose=3, n_jobs=-1,\n",
    "                                   n_iter=5, scoring='balanced_accuracy')"
   ],
   "metadata": {
    "collapsed": false
   }
  },
  {
   "cell_type": "code",
   "execution_count": 24,
   "outputs": [
    {
     "name": "stdout",
     "output_type": "stream",
     "text": [
      "Fitting 20 folds for each of 5 candidates, totalling 100 fits\n",
      "CPU times: total: 3.48 s\n",
      "Wall time: 25.6 s\n"
     ]
    },
    {
     "data": {
      "text/plain": "RandomizedSearchCV(cv=20,\n                   estimator=Pipeline(steps=[('pipeline',\n                                              Pipeline(steps=[('columntransformer',\n                                                               ColumnTransformer(transformers=[('pipeline-1',\n                                                                                                Pipeline(steps=[('affectedroadstransformer',\n                                                                                                                 AffectedRoadsTransformer())]),\n                                                                                                ['affected_roads']),\n                                                                                               ('pipeline-2',\n                                                                                                Pipeline(steps=[('recorddatetransformer',\n                                                                                                                 RecordDateTransformer())]),\n                                                                                                ['record_date']),\n                                                                                               ('pipeline-...\n                                        'randomforestclassifier__criterion': ['gini',\n                                                                              'entropy',\n                                                                              'log_loss'],\n                                        'randomforestclassifier__max_depth': [2,\n                                                                              6,\n                                                                              12,\n                                                                              20,\n                                                                              30,\n                                                                              40,\n                                                                              50],\n                                        'randomforestclassifier__max_features': ['sqrt'],\n                                        'randomforestclassifier__min_samples_leaf': [1,\n                                                                                     2,\n                                                                                     50],\n                                        'randomforestclassifier__min_samples_split': [2,\n                                                                                      5,\n                                                                                      30],\n                                        'randomforestclassifier__n_estimators': [10,\n                                                                                 132,\n                                                                                 255,\n                                                                                 377,\n                                                                                 500]},\n                   scoring='balanced_accuracy', verbose=3)",
      "text/html": "<style>#sk-container-id-1 {color: black;background-color: white;}#sk-container-id-1 pre{padding: 0;}#sk-container-id-1 div.sk-toggleable {background-color: white;}#sk-container-id-1 label.sk-toggleable__label {cursor: pointer;display: block;width: 100%;margin-bottom: 0;padding: 0.3em;box-sizing: border-box;text-align: center;}#sk-container-id-1 label.sk-toggleable__label-arrow:before {content: \"▸\";float: left;margin-right: 0.25em;color: #696969;}#sk-container-id-1 label.sk-toggleable__label-arrow:hover:before {color: black;}#sk-container-id-1 div.sk-estimator:hover label.sk-toggleable__label-arrow:before {color: black;}#sk-container-id-1 div.sk-toggleable__content {max-height: 0;max-width: 0;overflow: hidden;text-align: left;background-color: #f0f8ff;}#sk-container-id-1 div.sk-toggleable__content pre {margin: 0.2em;color: black;border-radius: 0.25em;background-color: #f0f8ff;}#sk-container-id-1 input.sk-toggleable__control:checked~div.sk-toggleable__content {max-height: 200px;max-width: 100%;overflow: auto;}#sk-container-id-1 input.sk-toggleable__control:checked~label.sk-toggleable__label-arrow:before {content: \"▾\";}#sk-container-id-1 div.sk-estimator input.sk-toggleable__control:checked~label.sk-toggleable__label {background-color: #d4ebff;}#sk-container-id-1 div.sk-label input.sk-toggleable__control:checked~label.sk-toggleable__label {background-color: #d4ebff;}#sk-container-id-1 input.sk-hidden--visually {border: 0;clip: rect(1px 1px 1px 1px);clip: rect(1px, 1px, 1px, 1px);height: 1px;margin: -1px;overflow: hidden;padding: 0;position: absolute;width: 1px;}#sk-container-id-1 div.sk-estimator {font-family: monospace;background-color: #f0f8ff;border: 1px dotted black;border-radius: 0.25em;box-sizing: border-box;margin-bottom: 0.5em;}#sk-container-id-1 div.sk-estimator:hover {background-color: #d4ebff;}#sk-container-id-1 div.sk-parallel-item::after {content: \"\";width: 100%;border-bottom: 1px solid gray;flex-grow: 1;}#sk-container-id-1 div.sk-label:hover label.sk-toggleable__label {background-color: #d4ebff;}#sk-container-id-1 div.sk-serial::before {content: \"\";position: absolute;border-left: 1px solid gray;box-sizing: border-box;top: 0;bottom: 0;left: 50%;z-index: 0;}#sk-container-id-1 div.sk-serial {display: flex;flex-direction: column;align-items: center;background-color: white;padding-right: 0.2em;padding-left: 0.2em;position: relative;}#sk-container-id-1 div.sk-item {position: relative;z-index: 1;}#sk-container-id-1 div.sk-parallel {display: flex;align-items: stretch;justify-content: center;background-color: white;position: relative;}#sk-container-id-1 div.sk-item::before, #sk-container-id-1 div.sk-parallel-item::before {content: \"\";position: absolute;border-left: 1px solid gray;box-sizing: border-box;top: 0;bottom: 0;left: 50%;z-index: -1;}#sk-container-id-1 div.sk-parallel-item {display: flex;flex-direction: column;z-index: 1;position: relative;background-color: white;}#sk-container-id-1 div.sk-parallel-item:first-child::after {align-self: flex-end;width: 50%;}#sk-container-id-1 div.sk-parallel-item:last-child::after {align-self: flex-start;width: 50%;}#sk-container-id-1 div.sk-parallel-item:only-child::after {width: 0;}#sk-container-id-1 div.sk-dashed-wrapped {border: 1px dashed gray;margin: 0 0.4em 0.5em 0.4em;box-sizing: border-box;padding-bottom: 0.4em;background-color: white;}#sk-container-id-1 div.sk-label label {font-family: monospace;font-weight: bold;display: inline-block;line-height: 1.2em;}#sk-container-id-1 div.sk-label-container {text-align: center;}#sk-container-id-1 div.sk-container {/* jupyter's `normalize.less` sets `[hidden] { display: none; }` but bootstrap.min.css set `[hidden] { display: none !important; }` so we also need the `!important` here to be able to override the default hidden behavior on the sphinx rendered scikit-learn.org. See: https://github.com/scikit-learn/scikit-learn/issues/21755 */display: inline-block !important;position: relative;}#sk-container-id-1 div.sk-text-repr-fallback {display: none;}</style><div id=\"sk-container-id-1\" class=\"sk-top-container\"><div class=\"sk-text-repr-fallback\"><pre>RandomizedSearchCV(cv=20,\n                   estimator=Pipeline(steps=[(&#x27;pipeline&#x27;,\n                                              Pipeline(steps=[(&#x27;columntransformer&#x27;,\n                                                               ColumnTransformer(transformers=[(&#x27;pipeline-1&#x27;,\n                                                                                                Pipeline(steps=[(&#x27;affectedroadstransformer&#x27;,\n                                                                                                                 AffectedRoadsTransformer())]),\n                                                                                                [&#x27;affected_roads&#x27;]),\n                                                                                               (&#x27;pipeline-2&#x27;,\n                                                                                                Pipeline(steps=[(&#x27;recorddatetransformer&#x27;,\n                                                                                                                 RecordDateTransformer())]),\n                                                                                                [&#x27;record_date&#x27;]),\n                                                                                               (&#x27;pipeline-...\n                                        &#x27;randomforestclassifier__criterion&#x27;: [&#x27;gini&#x27;,\n                                                                              &#x27;entropy&#x27;,\n                                                                              &#x27;log_loss&#x27;],\n                                        &#x27;randomforestclassifier__max_depth&#x27;: [2,\n                                                                              6,\n                                                                              12,\n                                                                              20,\n                                                                              30,\n                                                                              40,\n                                                                              50],\n                                        &#x27;randomforestclassifier__max_features&#x27;: [&#x27;sqrt&#x27;],\n                                        &#x27;randomforestclassifier__min_samples_leaf&#x27;: [1,\n                                                                                     2,\n                                                                                     50],\n                                        &#x27;randomforestclassifier__min_samples_split&#x27;: [2,\n                                                                                      5,\n                                                                                      30],\n                                        &#x27;randomforestclassifier__n_estimators&#x27;: [10,\n                                                                                 132,\n                                                                                 255,\n                                                                                 377,\n                                                                                 500]},\n                   scoring=&#x27;balanced_accuracy&#x27;, verbose=3)</pre><b>In a Jupyter environment, please rerun this cell to show the HTML representation or trust the notebook. <br />On GitHub, the HTML representation is unable to render, please try loading this page with nbviewer.org.</b></div><div class=\"sk-container\" hidden><div class=\"sk-item sk-dashed-wrapped\"><div class=\"sk-label-container\"><div class=\"sk-label sk-toggleable\"><input class=\"sk-toggleable__control sk-hidden--visually\" id=\"sk-estimator-id-1\" type=\"checkbox\" ><label for=\"sk-estimator-id-1\" class=\"sk-toggleable__label sk-toggleable__label-arrow\">RandomizedSearchCV</label><div class=\"sk-toggleable__content\"><pre>RandomizedSearchCV(cv=20,\n                   estimator=Pipeline(steps=[(&#x27;pipeline&#x27;,\n                                              Pipeline(steps=[(&#x27;columntransformer&#x27;,\n                                                               ColumnTransformer(transformers=[(&#x27;pipeline-1&#x27;,\n                                                                                                Pipeline(steps=[(&#x27;affectedroadstransformer&#x27;,\n                                                                                                                 AffectedRoadsTransformer())]),\n                                                                                                [&#x27;affected_roads&#x27;]),\n                                                                                               (&#x27;pipeline-2&#x27;,\n                                                                                                Pipeline(steps=[(&#x27;recorddatetransformer&#x27;,\n                                                                                                                 RecordDateTransformer())]),\n                                                                                                [&#x27;record_date&#x27;]),\n                                                                                               (&#x27;pipeline-...\n                                        &#x27;randomforestclassifier__criterion&#x27;: [&#x27;gini&#x27;,\n                                                                              &#x27;entropy&#x27;,\n                                                                              &#x27;log_loss&#x27;],\n                                        &#x27;randomforestclassifier__max_depth&#x27;: [2,\n                                                                              6,\n                                                                              12,\n                                                                              20,\n                                                                              30,\n                                                                              40,\n                                                                              50],\n                                        &#x27;randomforestclassifier__max_features&#x27;: [&#x27;sqrt&#x27;],\n                                        &#x27;randomforestclassifier__min_samples_leaf&#x27;: [1,\n                                                                                     2,\n                                                                                     50],\n                                        &#x27;randomforestclassifier__min_samples_split&#x27;: [2,\n                                                                                      5,\n                                                                                      30],\n                                        &#x27;randomforestclassifier__n_estimators&#x27;: [10,\n                                                                                 132,\n                                                                                 255,\n                                                                                 377,\n                                                                                 500]},\n                   scoring=&#x27;balanced_accuracy&#x27;, verbose=3)</pre></div></div></div><div class=\"sk-parallel\"><div class=\"sk-parallel-item\"><div class=\"sk-item\"><div class=\"sk-label-container\"><div class=\"sk-label sk-toggleable\"><input class=\"sk-toggleable__control sk-hidden--visually\" id=\"sk-estimator-id-2\" type=\"checkbox\" ><label for=\"sk-estimator-id-2\" class=\"sk-toggleable__label sk-toggleable__label-arrow\">estimator: Pipeline</label><div class=\"sk-toggleable__content\"><pre>Pipeline(steps=[(&#x27;pipeline&#x27;,\n                 Pipeline(steps=[(&#x27;columntransformer&#x27;,\n                                  ColumnTransformer(transformers=[(&#x27;pipeline-1&#x27;,\n                                                                   Pipeline(steps=[(&#x27;affectedroadstransformer&#x27;,\n                                                                                    AffectedRoadsTransformer())]),\n                                                                   [&#x27;affected_roads&#x27;]),\n                                                                  (&#x27;pipeline-2&#x27;,\n                                                                   Pipeline(steps=[(&#x27;recorddatetransformer&#x27;,\n                                                                                    RecordDateTransformer())]),\n                                                                   [&#x27;record_date&#x27;]),\n                                                                  (&#x27;pipeline-3&#x27;,\n                                                                   Pipeline(steps=[(&#x27;columnsremoval...\n                                                                    &#x27;avg_temperature&#x27;,\n                                                                    &#x27;avg_atm_pressure&#x27;,\n                                                                    &#x27;avg_humidity&#x27;,\n                                                                    &#x27;avg_wind_speed&#x27;]),\n                                                                  (&#x27;pipeline-5&#x27;,\n                                                                   Pipeline(steps=[(&#x27;simpleimputer&#x27;,\n                                                                                    SimpleImputer(fill_value=&#x27;missing&#x27;,\n                                                                                                  strategy=&#x27;constant&#x27;)),\n                                                                                   (&#x27;onehotencoder&#x27;,\n                                                                                    OneHotEncoder(handle_unknown=&#x27;ignore&#x27;))]),\n                                                                   [&#x27;luminosity&#x27;,\n                                                                    &#x27;avg_rain&#x27;])])),\n                                 (&#x27;variancethreshold&#x27;, VarianceThreshold())])),\n                (&#x27;randomforestclassifier&#x27;, RandomForestClassifier())])</pre></div></div></div><div class=\"sk-serial\"><div class=\"sk-item\"><div class=\"sk-serial\"><div class=\"sk-item\"><div class=\"sk-label-container\"><div class=\"sk-label sk-toggleable\"><input class=\"sk-toggleable__control sk-hidden--visually\" id=\"sk-estimator-id-3\" type=\"checkbox\" ><label for=\"sk-estimator-id-3\" class=\"sk-toggleable__label sk-toggleable__label-arrow\">pipeline: Pipeline</label><div class=\"sk-toggleable__content\"><pre>Pipeline(steps=[(&#x27;columntransformer&#x27;,\n                 ColumnTransformer(transformers=[(&#x27;pipeline-1&#x27;,\n                                                  Pipeline(steps=[(&#x27;affectedroadstransformer&#x27;,\n                                                                   AffectedRoadsTransformer())]),\n                                                  [&#x27;affected_roads&#x27;]),\n                                                 (&#x27;pipeline-2&#x27;,\n                                                  Pipeline(steps=[(&#x27;recorddatetransformer&#x27;,\n                                                                   RecordDateTransformer())]),\n                                                  [&#x27;record_date&#x27;]),\n                                                 (&#x27;pipeline-3&#x27;,\n                                                  Pipeline(steps=[(&#x27;columnsremovaltransformer&#x27;,\n                                                                   ColumnsRemovalT...\n                                                                  (&#x27;minmaxscaler&#x27;,\n                                                                   MinMaxScaler())]),\n                                                  [&#x27;delay_in_seconds&#x27;,\n                                                   &#x27;avg_temperature&#x27;,\n                                                   &#x27;avg_atm_pressure&#x27;,\n                                                   &#x27;avg_humidity&#x27;,\n                                                   &#x27;avg_wind_speed&#x27;]),\n                                                 (&#x27;pipeline-5&#x27;,\n                                                  Pipeline(steps=[(&#x27;simpleimputer&#x27;,\n                                                                   SimpleImputer(fill_value=&#x27;missing&#x27;,\n                                                                                 strategy=&#x27;constant&#x27;)),\n                                                                  (&#x27;onehotencoder&#x27;,\n                                                                   OneHotEncoder(handle_unknown=&#x27;ignore&#x27;))]),\n                                                  [&#x27;luminosity&#x27;,\n                                                   &#x27;avg_rain&#x27;])])),\n                (&#x27;variancethreshold&#x27;, VarianceThreshold())])</pre></div></div></div><div class=\"sk-serial\"><div class=\"sk-item sk-dashed-wrapped\"><div class=\"sk-label-container\"><div class=\"sk-label sk-toggleable\"><input class=\"sk-toggleable__control sk-hidden--visually\" id=\"sk-estimator-id-4\" type=\"checkbox\" ><label for=\"sk-estimator-id-4\" class=\"sk-toggleable__label sk-toggleable__label-arrow\">columntransformer: ColumnTransformer</label><div class=\"sk-toggleable__content\"><pre>ColumnTransformer(transformers=[(&#x27;pipeline-1&#x27;,\n                                 Pipeline(steps=[(&#x27;affectedroadstransformer&#x27;,\n                                                  AffectedRoadsTransformer())]),\n                                 [&#x27;affected_roads&#x27;]),\n                                (&#x27;pipeline-2&#x27;,\n                                 Pipeline(steps=[(&#x27;recorddatetransformer&#x27;,\n                                                  RecordDateTransformer())]),\n                                 [&#x27;record_date&#x27;]),\n                                (&#x27;pipeline-3&#x27;,\n                                 Pipeline(steps=[(&#x27;columnsremovaltransformer&#x27;,\n                                                  ColumnsRemovalTransformer())]),\n                                 [&#x27;city_name&#x27;, &#x27;avg_pre...\n                                                  SimpleImputer(strategy=&#x27;median&#x27;)),\n                                                 (&#x27;minmaxscaler&#x27;,\n                                                  MinMaxScaler())]),\n                                 [&#x27;delay_in_seconds&#x27;, &#x27;avg_temperature&#x27;,\n                                  &#x27;avg_atm_pressure&#x27;, &#x27;avg_humidity&#x27;,\n                                  &#x27;avg_wind_speed&#x27;]),\n                                (&#x27;pipeline-5&#x27;,\n                                 Pipeline(steps=[(&#x27;simpleimputer&#x27;,\n                                                  SimpleImputer(fill_value=&#x27;missing&#x27;,\n                                                                strategy=&#x27;constant&#x27;)),\n                                                 (&#x27;onehotencoder&#x27;,\n                                                  OneHotEncoder(handle_unknown=&#x27;ignore&#x27;))]),\n                                 [&#x27;luminosity&#x27;, &#x27;avg_rain&#x27;])])</pre></div></div></div><div class=\"sk-parallel\"><div class=\"sk-parallel-item\"><div class=\"sk-item\"><div class=\"sk-label-container\"><div class=\"sk-label sk-toggleable\"><input class=\"sk-toggleable__control sk-hidden--visually\" id=\"sk-estimator-id-5\" type=\"checkbox\" ><label for=\"sk-estimator-id-5\" class=\"sk-toggleable__label sk-toggleable__label-arrow\">pipeline-1</label><div class=\"sk-toggleable__content\"><pre>[&#x27;affected_roads&#x27;]</pre></div></div></div><div class=\"sk-serial\"><div class=\"sk-item\"><div class=\"sk-serial\"><div class=\"sk-item\"><div class=\"sk-estimator sk-toggleable\"><input class=\"sk-toggleable__control sk-hidden--visually\" id=\"sk-estimator-id-6\" type=\"checkbox\" ><label for=\"sk-estimator-id-6\" class=\"sk-toggleable__label sk-toggleable__label-arrow\">AffectedRoadsTransformer</label><div class=\"sk-toggleable__content\"><pre>AffectedRoadsTransformer()</pre></div></div></div></div></div></div></div></div><div class=\"sk-parallel-item\"><div class=\"sk-item\"><div class=\"sk-label-container\"><div class=\"sk-label sk-toggleable\"><input class=\"sk-toggleable__control sk-hidden--visually\" id=\"sk-estimator-id-7\" type=\"checkbox\" ><label for=\"sk-estimator-id-7\" class=\"sk-toggleable__label sk-toggleable__label-arrow\">pipeline-2</label><div class=\"sk-toggleable__content\"><pre>[&#x27;record_date&#x27;]</pre></div></div></div><div class=\"sk-serial\"><div class=\"sk-item\"><div class=\"sk-serial\"><div class=\"sk-item\"><div class=\"sk-estimator sk-toggleable\"><input class=\"sk-toggleable__control sk-hidden--visually\" id=\"sk-estimator-id-8\" type=\"checkbox\" ><label for=\"sk-estimator-id-8\" class=\"sk-toggleable__label sk-toggleable__label-arrow\">RecordDateTransformer</label><div class=\"sk-toggleable__content\"><pre>RecordDateTransformer()</pre></div></div></div></div></div></div></div></div><div class=\"sk-parallel-item\"><div class=\"sk-item\"><div class=\"sk-label-container\"><div class=\"sk-label sk-toggleable\"><input class=\"sk-toggleable__control sk-hidden--visually\" id=\"sk-estimator-id-9\" type=\"checkbox\" ><label for=\"sk-estimator-id-9\" class=\"sk-toggleable__label sk-toggleable__label-arrow\">pipeline-3</label><div class=\"sk-toggleable__content\"><pre>[&#x27;city_name&#x27;, &#x27;avg_precipitation&#x27;, &#x27;magnitude_of_delay&#x27;, &#x27;record_date&#x27;]</pre></div></div></div><div class=\"sk-serial\"><div class=\"sk-item\"><div class=\"sk-serial\"><div class=\"sk-item\"><div class=\"sk-estimator sk-toggleable\"><input class=\"sk-toggleable__control sk-hidden--visually\" id=\"sk-estimator-id-10\" type=\"checkbox\" ><label for=\"sk-estimator-id-10\" class=\"sk-toggleable__label sk-toggleable__label-arrow\">ColumnsRemovalTransformer</label><div class=\"sk-toggleable__content\"><pre>ColumnsRemovalTransformer()</pre></div></div></div></div></div></div></div></div><div class=\"sk-parallel-item\"><div class=\"sk-item\"><div class=\"sk-label-container\"><div class=\"sk-label sk-toggleable\"><input class=\"sk-toggleable__control sk-hidden--visually\" id=\"sk-estimator-id-11\" type=\"checkbox\" ><label for=\"sk-estimator-id-11\" class=\"sk-toggleable__label sk-toggleable__label-arrow\">pipeline-4</label><div class=\"sk-toggleable__content\"><pre>[&#x27;delay_in_seconds&#x27;, &#x27;avg_temperature&#x27;, &#x27;avg_atm_pressure&#x27;, &#x27;avg_humidity&#x27;, &#x27;avg_wind_speed&#x27;]</pre></div></div></div><div class=\"sk-serial\"><div class=\"sk-item\"><div class=\"sk-serial\"><div class=\"sk-item\"><div class=\"sk-estimator sk-toggleable\"><input class=\"sk-toggleable__control sk-hidden--visually\" id=\"sk-estimator-id-12\" type=\"checkbox\" ><label for=\"sk-estimator-id-12\" class=\"sk-toggleable__label sk-toggleable__label-arrow\">SimpleImputer</label><div class=\"sk-toggleable__content\"><pre>SimpleImputer(strategy=&#x27;median&#x27;)</pre></div></div></div><div class=\"sk-item\"><div class=\"sk-estimator sk-toggleable\"><input class=\"sk-toggleable__control sk-hidden--visually\" id=\"sk-estimator-id-13\" type=\"checkbox\" ><label for=\"sk-estimator-id-13\" class=\"sk-toggleable__label sk-toggleable__label-arrow\">MinMaxScaler</label><div class=\"sk-toggleable__content\"><pre>MinMaxScaler()</pre></div></div></div></div></div></div></div></div><div class=\"sk-parallel-item\"><div class=\"sk-item\"><div class=\"sk-label-container\"><div class=\"sk-label sk-toggleable\"><input class=\"sk-toggleable__control sk-hidden--visually\" id=\"sk-estimator-id-14\" type=\"checkbox\" ><label for=\"sk-estimator-id-14\" class=\"sk-toggleable__label sk-toggleable__label-arrow\">pipeline-5</label><div class=\"sk-toggleable__content\"><pre>[&#x27;luminosity&#x27;, &#x27;avg_rain&#x27;]</pre></div></div></div><div class=\"sk-serial\"><div class=\"sk-item\"><div class=\"sk-serial\"><div class=\"sk-item\"><div class=\"sk-estimator sk-toggleable\"><input class=\"sk-toggleable__control sk-hidden--visually\" id=\"sk-estimator-id-15\" type=\"checkbox\" ><label for=\"sk-estimator-id-15\" class=\"sk-toggleable__label sk-toggleable__label-arrow\">SimpleImputer</label><div class=\"sk-toggleable__content\"><pre>SimpleImputer(fill_value=&#x27;missing&#x27;, strategy=&#x27;constant&#x27;)</pre></div></div></div><div class=\"sk-item\"><div class=\"sk-estimator sk-toggleable\"><input class=\"sk-toggleable__control sk-hidden--visually\" id=\"sk-estimator-id-16\" type=\"checkbox\" ><label for=\"sk-estimator-id-16\" class=\"sk-toggleable__label sk-toggleable__label-arrow\">OneHotEncoder</label><div class=\"sk-toggleable__content\"><pre>OneHotEncoder(handle_unknown=&#x27;ignore&#x27;)</pre></div></div></div></div></div></div></div></div></div></div><div class=\"sk-item\"><div class=\"sk-estimator sk-toggleable\"><input class=\"sk-toggleable__control sk-hidden--visually\" id=\"sk-estimator-id-17\" type=\"checkbox\" ><label for=\"sk-estimator-id-17\" class=\"sk-toggleable__label sk-toggleable__label-arrow\">VarianceThreshold</label><div class=\"sk-toggleable__content\"><pre>VarianceThreshold()</pre></div></div></div></div></div><div class=\"sk-item\"><div class=\"sk-estimator sk-toggleable\"><input class=\"sk-toggleable__control sk-hidden--visually\" id=\"sk-estimator-id-18\" type=\"checkbox\" ><label for=\"sk-estimator-id-18\" class=\"sk-toggleable__label sk-toggleable__label-arrow\">RandomForestClassifier</label><div class=\"sk-toggleable__content\"><pre>RandomForestClassifier()</pre></div></div></div></div></div></div></div></div></div></div></div></div>"
     },
     "execution_count": 24,
     "metadata": {},
     "output_type": "execute_result"
    }
   ],
   "source": [
    "%%time\n",
    "rf_RandomGrid.fit(X_train, y_train)"
   ],
   "metadata": {
    "collapsed": false
   }
  },
  {
   "cell_type": "code",
   "execution_count": 25,
   "outputs": [
    {
     "data": {
      "text/plain": "0.9980089148242293"
     },
     "execution_count": 25,
     "metadata": {},
     "output_type": "execute_result"
    }
   ],
   "source": [
    "rf_RandomGrid.score(X_train, y_train)"
   ],
   "metadata": {
    "collapsed": false
   }
  },
  {
   "cell_type": "code",
   "execution_count": 26,
   "outputs": [
    {
     "data": {
      "text/plain": "0.975411251664001"
     },
     "execution_count": 26,
     "metadata": {},
     "output_type": "execute_result"
    }
   ],
   "source": [
    "rf_RandomGrid.best_score_"
   ],
   "metadata": {
    "collapsed": false
   }
  },
  {
   "cell_type": "code",
   "execution_count": 27,
   "outputs": [
    {
     "data": {
      "text/plain": "{'randomforestclassifier__n_estimators': 500,\n 'randomforestclassifier__min_samples_split': 2,\n 'randomforestclassifier__min_samples_leaf': 1,\n 'randomforestclassifier__max_features': 'sqrt',\n 'randomforestclassifier__max_depth': 12,\n 'randomforestclassifier__criterion': 'entropy',\n 'randomforestclassifier__bootstrap': False}"
     },
     "execution_count": 27,
     "metadata": {},
     "output_type": "execute_result"
    }
   ],
   "source": [
    "rf_RandomGrid.best_params_"
   ],
   "metadata": {
    "collapsed": false
   }
  },
  {
   "cell_type": "code",
   "execution_count": 31,
   "outputs": [
    {
     "data": {
      "text/plain": "Pipeline(steps=[('pipeline',\n                 Pipeline(steps=[('columntransformer',\n                                  ColumnTransformer(transformers=[('pipeline-1',\n                                                                   Pipeline(steps=[('affectedroadstransformer',\n                                                                                    AffectedRoadsTransformer())]),\n                                                                   ['affected_roads']),\n                                                                  ('pipeline-2',\n                                                                   Pipeline(steps=[('recorddatetransformer',\n                                                                                    RecordDateTransformer())]),\n                                                                   ['record_date']),\n                                                                  ('pipeline-3',\n                                                                   Pipeline(steps=[('columnsremoval...\n                                                                  ('pipeline-5',\n                                                                   Pipeline(steps=[('simpleimputer',\n                                                                                    SimpleImputer(fill_value='missing',\n                                                                                                  strategy='constant')),\n                                                                                   ('onehotencoder',\n                                                                                    OneHotEncoder(handle_unknown='ignore'))]),\n                                                                   ['luminosity',\n                                                                    'avg_rain'])])),\n                                 ('variancethreshold', VarianceThreshold())])),\n                ('randomforestclassifier',\n                 RandomForestClassifier(bootstrap=False, criterion='entropy',\n                                        max_depth=12, n_estimators=500))])",
      "text/html": "<style>#sk-container-id-2 {color: black;background-color: white;}#sk-container-id-2 pre{padding: 0;}#sk-container-id-2 div.sk-toggleable {background-color: white;}#sk-container-id-2 label.sk-toggleable__label {cursor: pointer;display: block;width: 100%;margin-bottom: 0;padding: 0.3em;box-sizing: border-box;text-align: center;}#sk-container-id-2 label.sk-toggleable__label-arrow:before {content: \"▸\";float: left;margin-right: 0.25em;color: #696969;}#sk-container-id-2 label.sk-toggleable__label-arrow:hover:before {color: black;}#sk-container-id-2 div.sk-estimator:hover label.sk-toggleable__label-arrow:before {color: black;}#sk-container-id-2 div.sk-toggleable__content {max-height: 0;max-width: 0;overflow: hidden;text-align: left;background-color: #f0f8ff;}#sk-container-id-2 div.sk-toggleable__content pre {margin: 0.2em;color: black;border-radius: 0.25em;background-color: #f0f8ff;}#sk-container-id-2 input.sk-toggleable__control:checked~div.sk-toggleable__content {max-height: 200px;max-width: 100%;overflow: auto;}#sk-container-id-2 input.sk-toggleable__control:checked~label.sk-toggleable__label-arrow:before {content: \"▾\";}#sk-container-id-2 div.sk-estimator input.sk-toggleable__control:checked~label.sk-toggleable__label {background-color: #d4ebff;}#sk-container-id-2 div.sk-label input.sk-toggleable__control:checked~label.sk-toggleable__label {background-color: #d4ebff;}#sk-container-id-2 input.sk-hidden--visually {border: 0;clip: rect(1px 1px 1px 1px);clip: rect(1px, 1px, 1px, 1px);height: 1px;margin: -1px;overflow: hidden;padding: 0;position: absolute;width: 1px;}#sk-container-id-2 div.sk-estimator {font-family: monospace;background-color: #f0f8ff;border: 1px dotted black;border-radius: 0.25em;box-sizing: border-box;margin-bottom: 0.5em;}#sk-container-id-2 div.sk-estimator:hover {background-color: #d4ebff;}#sk-container-id-2 div.sk-parallel-item::after {content: \"\";width: 100%;border-bottom: 1px solid gray;flex-grow: 1;}#sk-container-id-2 div.sk-label:hover label.sk-toggleable__label {background-color: #d4ebff;}#sk-container-id-2 div.sk-serial::before {content: \"\";position: absolute;border-left: 1px solid gray;box-sizing: border-box;top: 0;bottom: 0;left: 50%;z-index: 0;}#sk-container-id-2 div.sk-serial {display: flex;flex-direction: column;align-items: center;background-color: white;padding-right: 0.2em;padding-left: 0.2em;position: relative;}#sk-container-id-2 div.sk-item {position: relative;z-index: 1;}#sk-container-id-2 div.sk-parallel {display: flex;align-items: stretch;justify-content: center;background-color: white;position: relative;}#sk-container-id-2 div.sk-item::before, #sk-container-id-2 div.sk-parallel-item::before {content: \"\";position: absolute;border-left: 1px solid gray;box-sizing: border-box;top: 0;bottom: 0;left: 50%;z-index: -1;}#sk-container-id-2 div.sk-parallel-item {display: flex;flex-direction: column;z-index: 1;position: relative;background-color: white;}#sk-container-id-2 div.sk-parallel-item:first-child::after {align-self: flex-end;width: 50%;}#sk-container-id-2 div.sk-parallel-item:last-child::after {align-self: flex-start;width: 50%;}#sk-container-id-2 div.sk-parallel-item:only-child::after {width: 0;}#sk-container-id-2 div.sk-dashed-wrapped {border: 1px dashed gray;margin: 0 0.4em 0.5em 0.4em;box-sizing: border-box;padding-bottom: 0.4em;background-color: white;}#sk-container-id-2 div.sk-label label {font-family: monospace;font-weight: bold;display: inline-block;line-height: 1.2em;}#sk-container-id-2 div.sk-label-container {text-align: center;}#sk-container-id-2 div.sk-container {/* jupyter's `normalize.less` sets `[hidden] { display: none; }` but bootstrap.min.css set `[hidden] { display: none !important; }` so we also need the `!important` here to be able to override the default hidden behavior on the sphinx rendered scikit-learn.org. See: https://github.com/scikit-learn/scikit-learn/issues/21755 */display: inline-block !important;position: relative;}#sk-container-id-2 div.sk-text-repr-fallback {display: none;}</style><div id=\"sk-container-id-2\" class=\"sk-top-container\"><div class=\"sk-text-repr-fallback\"><pre>Pipeline(steps=[(&#x27;pipeline&#x27;,\n                 Pipeline(steps=[(&#x27;columntransformer&#x27;,\n                                  ColumnTransformer(transformers=[(&#x27;pipeline-1&#x27;,\n                                                                   Pipeline(steps=[(&#x27;affectedroadstransformer&#x27;,\n                                                                                    AffectedRoadsTransformer())]),\n                                                                   [&#x27;affected_roads&#x27;]),\n                                                                  (&#x27;pipeline-2&#x27;,\n                                                                   Pipeline(steps=[(&#x27;recorddatetransformer&#x27;,\n                                                                                    RecordDateTransformer())]),\n                                                                   [&#x27;record_date&#x27;]),\n                                                                  (&#x27;pipeline-3&#x27;,\n                                                                   Pipeline(steps=[(&#x27;columnsremoval...\n                                                                  (&#x27;pipeline-5&#x27;,\n                                                                   Pipeline(steps=[(&#x27;simpleimputer&#x27;,\n                                                                                    SimpleImputer(fill_value=&#x27;missing&#x27;,\n                                                                                                  strategy=&#x27;constant&#x27;)),\n                                                                                   (&#x27;onehotencoder&#x27;,\n                                                                                    OneHotEncoder(handle_unknown=&#x27;ignore&#x27;))]),\n                                                                   [&#x27;luminosity&#x27;,\n                                                                    &#x27;avg_rain&#x27;])])),\n                                 (&#x27;variancethreshold&#x27;, VarianceThreshold())])),\n                (&#x27;randomforestclassifier&#x27;,\n                 RandomForestClassifier(bootstrap=False, criterion=&#x27;entropy&#x27;,\n                                        max_depth=12, n_estimators=500))])</pre><b>In a Jupyter environment, please rerun this cell to show the HTML representation or trust the notebook. <br />On GitHub, the HTML representation is unable to render, please try loading this page with nbviewer.org.</b></div><div class=\"sk-container\" hidden><div class=\"sk-item sk-dashed-wrapped\"><div class=\"sk-label-container\"><div class=\"sk-label sk-toggleable\"><input class=\"sk-toggleable__control sk-hidden--visually\" id=\"sk-estimator-id-19\" type=\"checkbox\" ><label for=\"sk-estimator-id-19\" class=\"sk-toggleable__label sk-toggleable__label-arrow\">Pipeline</label><div class=\"sk-toggleable__content\"><pre>Pipeline(steps=[(&#x27;pipeline&#x27;,\n                 Pipeline(steps=[(&#x27;columntransformer&#x27;,\n                                  ColumnTransformer(transformers=[(&#x27;pipeline-1&#x27;,\n                                                                   Pipeline(steps=[(&#x27;affectedroadstransformer&#x27;,\n                                                                                    AffectedRoadsTransformer())]),\n                                                                   [&#x27;affected_roads&#x27;]),\n                                                                  (&#x27;pipeline-2&#x27;,\n                                                                   Pipeline(steps=[(&#x27;recorddatetransformer&#x27;,\n                                                                                    RecordDateTransformer())]),\n                                                                   [&#x27;record_date&#x27;]),\n                                                                  (&#x27;pipeline-3&#x27;,\n                                                                   Pipeline(steps=[(&#x27;columnsremoval...\n                                                                  (&#x27;pipeline-5&#x27;,\n                                                                   Pipeline(steps=[(&#x27;simpleimputer&#x27;,\n                                                                                    SimpleImputer(fill_value=&#x27;missing&#x27;,\n                                                                                                  strategy=&#x27;constant&#x27;)),\n                                                                                   (&#x27;onehotencoder&#x27;,\n                                                                                    OneHotEncoder(handle_unknown=&#x27;ignore&#x27;))]),\n                                                                   [&#x27;luminosity&#x27;,\n                                                                    &#x27;avg_rain&#x27;])])),\n                                 (&#x27;variancethreshold&#x27;, VarianceThreshold())])),\n                (&#x27;randomforestclassifier&#x27;,\n                 RandomForestClassifier(bootstrap=False, criterion=&#x27;entropy&#x27;,\n                                        max_depth=12, n_estimators=500))])</pre></div></div></div><div class=\"sk-serial\"><div class=\"sk-item\"><div class=\"sk-label-container\"><div class=\"sk-label sk-toggleable\"><input class=\"sk-toggleable__control sk-hidden--visually\" id=\"sk-estimator-id-20\" type=\"checkbox\" ><label for=\"sk-estimator-id-20\" class=\"sk-toggleable__label sk-toggleable__label-arrow\">pipeline: Pipeline</label><div class=\"sk-toggleable__content\"><pre>Pipeline(steps=[(&#x27;columntransformer&#x27;,\n                 ColumnTransformer(transformers=[(&#x27;pipeline-1&#x27;,\n                                                  Pipeline(steps=[(&#x27;affectedroadstransformer&#x27;,\n                                                                   AffectedRoadsTransformer())]),\n                                                  [&#x27;affected_roads&#x27;]),\n                                                 (&#x27;pipeline-2&#x27;,\n                                                  Pipeline(steps=[(&#x27;recorddatetransformer&#x27;,\n                                                                   RecordDateTransformer())]),\n                                                  [&#x27;record_date&#x27;]),\n                                                 (&#x27;pipeline-3&#x27;,\n                                                  Pipeline(steps=[(&#x27;columnsremovaltransformer&#x27;,\n                                                                   ColumnsRemovalT...\n                                                                  (&#x27;minmaxscaler&#x27;,\n                                                                   MinMaxScaler())]),\n                                                  [&#x27;delay_in_seconds&#x27;,\n                                                   &#x27;avg_temperature&#x27;,\n                                                   &#x27;avg_atm_pressure&#x27;,\n                                                   &#x27;avg_humidity&#x27;,\n                                                   &#x27;avg_wind_speed&#x27;]),\n                                                 (&#x27;pipeline-5&#x27;,\n                                                  Pipeline(steps=[(&#x27;simpleimputer&#x27;,\n                                                                   SimpleImputer(fill_value=&#x27;missing&#x27;,\n                                                                                 strategy=&#x27;constant&#x27;)),\n                                                                  (&#x27;onehotencoder&#x27;,\n                                                                   OneHotEncoder(handle_unknown=&#x27;ignore&#x27;))]),\n                                                  [&#x27;luminosity&#x27;,\n                                                   &#x27;avg_rain&#x27;])])),\n                (&#x27;variancethreshold&#x27;, VarianceThreshold())])</pre></div></div></div><div class=\"sk-serial\"><div class=\"sk-item sk-dashed-wrapped\"><div class=\"sk-label-container\"><div class=\"sk-label sk-toggleable\"><input class=\"sk-toggleable__control sk-hidden--visually\" id=\"sk-estimator-id-21\" type=\"checkbox\" ><label for=\"sk-estimator-id-21\" class=\"sk-toggleable__label sk-toggleable__label-arrow\">columntransformer: ColumnTransformer</label><div class=\"sk-toggleable__content\"><pre>ColumnTransformer(transformers=[(&#x27;pipeline-1&#x27;,\n                                 Pipeline(steps=[(&#x27;affectedroadstransformer&#x27;,\n                                                  AffectedRoadsTransformer())]),\n                                 [&#x27;affected_roads&#x27;]),\n                                (&#x27;pipeline-2&#x27;,\n                                 Pipeline(steps=[(&#x27;recorddatetransformer&#x27;,\n                                                  RecordDateTransformer())]),\n                                 [&#x27;record_date&#x27;]),\n                                (&#x27;pipeline-3&#x27;,\n                                 Pipeline(steps=[(&#x27;columnsremovaltransformer&#x27;,\n                                                  ColumnsRemovalTransformer())]),\n                                 [&#x27;city_name&#x27;, &#x27;avg_pre...\n                                                  SimpleImputer(strategy=&#x27;median&#x27;)),\n                                                 (&#x27;minmaxscaler&#x27;,\n                                                  MinMaxScaler())]),\n                                 [&#x27;delay_in_seconds&#x27;, &#x27;avg_temperature&#x27;,\n                                  &#x27;avg_atm_pressure&#x27;, &#x27;avg_humidity&#x27;,\n                                  &#x27;avg_wind_speed&#x27;]),\n                                (&#x27;pipeline-5&#x27;,\n                                 Pipeline(steps=[(&#x27;simpleimputer&#x27;,\n                                                  SimpleImputer(fill_value=&#x27;missing&#x27;,\n                                                                strategy=&#x27;constant&#x27;)),\n                                                 (&#x27;onehotencoder&#x27;,\n                                                  OneHotEncoder(handle_unknown=&#x27;ignore&#x27;))]),\n                                 [&#x27;luminosity&#x27;, &#x27;avg_rain&#x27;])])</pre></div></div></div><div class=\"sk-parallel\"><div class=\"sk-parallel-item\"><div class=\"sk-item\"><div class=\"sk-label-container\"><div class=\"sk-label sk-toggleable\"><input class=\"sk-toggleable__control sk-hidden--visually\" id=\"sk-estimator-id-22\" type=\"checkbox\" ><label for=\"sk-estimator-id-22\" class=\"sk-toggleable__label sk-toggleable__label-arrow\">pipeline-1</label><div class=\"sk-toggleable__content\"><pre>[&#x27;affected_roads&#x27;]</pre></div></div></div><div class=\"sk-serial\"><div class=\"sk-item\"><div class=\"sk-serial\"><div class=\"sk-item\"><div class=\"sk-estimator sk-toggleable\"><input class=\"sk-toggleable__control sk-hidden--visually\" id=\"sk-estimator-id-23\" type=\"checkbox\" ><label for=\"sk-estimator-id-23\" class=\"sk-toggleable__label sk-toggleable__label-arrow\">AffectedRoadsTransformer</label><div class=\"sk-toggleable__content\"><pre>AffectedRoadsTransformer()</pre></div></div></div></div></div></div></div></div><div class=\"sk-parallel-item\"><div class=\"sk-item\"><div class=\"sk-label-container\"><div class=\"sk-label sk-toggleable\"><input class=\"sk-toggleable__control sk-hidden--visually\" id=\"sk-estimator-id-24\" type=\"checkbox\" ><label for=\"sk-estimator-id-24\" class=\"sk-toggleable__label sk-toggleable__label-arrow\">pipeline-2</label><div class=\"sk-toggleable__content\"><pre>[&#x27;record_date&#x27;]</pre></div></div></div><div class=\"sk-serial\"><div class=\"sk-item\"><div class=\"sk-serial\"><div class=\"sk-item\"><div class=\"sk-estimator sk-toggleable\"><input class=\"sk-toggleable__control sk-hidden--visually\" id=\"sk-estimator-id-25\" type=\"checkbox\" ><label for=\"sk-estimator-id-25\" class=\"sk-toggleable__label sk-toggleable__label-arrow\">RecordDateTransformer</label><div class=\"sk-toggleable__content\"><pre>RecordDateTransformer()</pre></div></div></div></div></div></div></div></div><div class=\"sk-parallel-item\"><div class=\"sk-item\"><div class=\"sk-label-container\"><div class=\"sk-label sk-toggleable\"><input class=\"sk-toggleable__control sk-hidden--visually\" id=\"sk-estimator-id-26\" type=\"checkbox\" ><label for=\"sk-estimator-id-26\" class=\"sk-toggleable__label sk-toggleable__label-arrow\">pipeline-3</label><div class=\"sk-toggleable__content\"><pre>[&#x27;city_name&#x27;, &#x27;avg_precipitation&#x27;, &#x27;magnitude_of_delay&#x27;, &#x27;record_date&#x27;]</pre></div></div></div><div class=\"sk-serial\"><div class=\"sk-item\"><div class=\"sk-serial\"><div class=\"sk-item\"><div class=\"sk-estimator sk-toggleable\"><input class=\"sk-toggleable__control sk-hidden--visually\" id=\"sk-estimator-id-27\" type=\"checkbox\" ><label for=\"sk-estimator-id-27\" class=\"sk-toggleable__label sk-toggleable__label-arrow\">ColumnsRemovalTransformer</label><div class=\"sk-toggleable__content\"><pre>ColumnsRemovalTransformer()</pre></div></div></div></div></div></div></div></div><div class=\"sk-parallel-item\"><div class=\"sk-item\"><div class=\"sk-label-container\"><div class=\"sk-label sk-toggleable\"><input class=\"sk-toggleable__control sk-hidden--visually\" id=\"sk-estimator-id-28\" type=\"checkbox\" ><label for=\"sk-estimator-id-28\" class=\"sk-toggleable__label sk-toggleable__label-arrow\">pipeline-4</label><div class=\"sk-toggleable__content\"><pre>[&#x27;delay_in_seconds&#x27;, &#x27;avg_temperature&#x27;, &#x27;avg_atm_pressure&#x27;, &#x27;avg_humidity&#x27;, &#x27;avg_wind_speed&#x27;]</pre></div></div></div><div class=\"sk-serial\"><div class=\"sk-item\"><div class=\"sk-serial\"><div class=\"sk-item\"><div class=\"sk-estimator sk-toggleable\"><input class=\"sk-toggleable__control sk-hidden--visually\" id=\"sk-estimator-id-29\" type=\"checkbox\" ><label for=\"sk-estimator-id-29\" class=\"sk-toggleable__label sk-toggleable__label-arrow\">SimpleImputer</label><div class=\"sk-toggleable__content\"><pre>SimpleImputer(strategy=&#x27;median&#x27;)</pre></div></div></div><div class=\"sk-item\"><div class=\"sk-estimator sk-toggleable\"><input class=\"sk-toggleable__control sk-hidden--visually\" id=\"sk-estimator-id-30\" type=\"checkbox\" ><label for=\"sk-estimator-id-30\" class=\"sk-toggleable__label sk-toggleable__label-arrow\">MinMaxScaler</label><div class=\"sk-toggleable__content\"><pre>MinMaxScaler()</pre></div></div></div></div></div></div></div></div><div class=\"sk-parallel-item\"><div class=\"sk-item\"><div class=\"sk-label-container\"><div class=\"sk-label sk-toggleable\"><input class=\"sk-toggleable__control sk-hidden--visually\" id=\"sk-estimator-id-31\" type=\"checkbox\" ><label for=\"sk-estimator-id-31\" class=\"sk-toggleable__label sk-toggleable__label-arrow\">pipeline-5</label><div class=\"sk-toggleable__content\"><pre>[&#x27;luminosity&#x27;, &#x27;avg_rain&#x27;]</pre></div></div></div><div class=\"sk-serial\"><div class=\"sk-item\"><div class=\"sk-serial\"><div class=\"sk-item\"><div class=\"sk-estimator sk-toggleable\"><input class=\"sk-toggleable__control sk-hidden--visually\" id=\"sk-estimator-id-32\" type=\"checkbox\" ><label for=\"sk-estimator-id-32\" class=\"sk-toggleable__label sk-toggleable__label-arrow\">SimpleImputer</label><div class=\"sk-toggleable__content\"><pre>SimpleImputer(fill_value=&#x27;missing&#x27;, strategy=&#x27;constant&#x27;)</pre></div></div></div><div class=\"sk-item\"><div class=\"sk-estimator sk-toggleable\"><input class=\"sk-toggleable__control sk-hidden--visually\" id=\"sk-estimator-id-33\" type=\"checkbox\" ><label for=\"sk-estimator-id-33\" class=\"sk-toggleable__label sk-toggleable__label-arrow\">OneHotEncoder</label><div class=\"sk-toggleable__content\"><pre>OneHotEncoder(handle_unknown=&#x27;ignore&#x27;)</pre></div></div></div></div></div></div></div></div></div></div><div class=\"sk-item\"><div class=\"sk-estimator sk-toggleable\"><input class=\"sk-toggleable__control sk-hidden--visually\" id=\"sk-estimator-id-34\" type=\"checkbox\" ><label for=\"sk-estimator-id-34\" class=\"sk-toggleable__label sk-toggleable__label-arrow\">VarianceThreshold</label><div class=\"sk-toggleable__content\"><pre>VarianceThreshold()</pre></div></div></div></div></div><div class=\"sk-item\"><div class=\"sk-estimator sk-toggleable\"><input class=\"sk-toggleable__control sk-hidden--visually\" id=\"sk-estimator-id-35\" type=\"checkbox\" ><label for=\"sk-estimator-id-35\" class=\"sk-toggleable__label sk-toggleable__label-arrow\">RandomForestClassifier</label><div class=\"sk-toggleable__content\"><pre>RandomForestClassifier(bootstrap=False, criterion=&#x27;entropy&#x27;, max_depth=12,\n                       n_estimators=500)</pre></div></div></div></div></div></div></div>"
     },
     "execution_count": 31,
     "metadata": {},
     "output_type": "execute_result"
    }
   ],
   "source": [
    "rf_RandomGrid.best_estimator_"
   ],
   "metadata": {
    "collapsed": false
   }
  },
  {
   "cell_type": "code",
   "execution_count": 32,
   "outputs": [
    {
     "name": "stdout",
     "output_type": "stream",
     "text": [
      "Train: 0.998\n",
      "Test: 0.981\n"
     ]
    }
   ],
   "source": [
    "print(f'Train: {rf_RandomGrid.score(X_train, y_train):.3f}')\n",
    "print(f'Test: {rf_RandomGrid.score(X_test, y_test):.3f}')"
   ],
   "metadata": {
    "collapsed": false
   }
  },
  {
   "cell_type": "code",
   "execution_count": 33,
   "outputs": [
    {
     "data": {
      "text/plain": "<sklearn.metrics._plot.confusion_matrix.ConfusionMatrixDisplay at 0x1c3811e8640>"
     },
     "execution_count": 33,
     "metadata": {},
     "output_type": "execute_result"
    },
    {
     "data": {
      "text/plain": "<Figure size 640x480 with 2 Axes>",
      "image/png": "[encoded data removed]"
     },
     "metadata": {},
     "output_type": "display_data"
    }
   ],
   "source": [
    "from sklearn.metrics import confusion_matrix, ConfusionMatrixDisplay\n",
    "\n",
    "predictions = rf_RandomGrid.predict(X_test)\n",
    "\n",
    "cm = confusion_matrix(y_test, predictions)\n",
    "# TP FP\n",
    "# FN TN\n",
    "disp = ConfusionMatrixDisplay(cm)\n",
    "\n",
    "disp.plot()"
   ],
   "metadata": {
    "collapsed": false
   }
  },
  {
   "cell_type": "markdown",
   "source": [
    "### Obtenção das previsões do dataset de submissão"
   ],
   "metadata": {
    "collapsed": false
   }
  },
  {
   "cell_type": "code",
   "execution_count": 34,
   "outputs": [],
   "source": [
    "features = test_df.copy()\n",
    "\n",
    "preprocessor.fit(features)\n",
    "preprocessor.transform(features)\n",
    "\n",
    "predictions = rf_RandomGrid.predict(features)\n",
    "predictions_df = pd.DataFrame(predictions)\n",
    "predictions_df.index += 1\n",
    "predictions_df.to_csv(\"../submission.csv\", header=['Incidents'], index_label='RowId')"
   ],
   "metadata": {
    "collapsed": false
   }
  },
  {
   "cell_type": "code",
   "execution_count": null,
   "outputs": [],
   "source": [],
   "metadata": {
    "collapsed": false
   }
  }
 ],
 "metadata": {
  "kernelspec": {
   "display_name": "Python 3",
   "language": "python",
   "name": "python3"
  },
  "language_info": {
   "codemirror_mode": {
    "name": "ipython",
    "version": 2
   },
   "file_extension": ".py",
   "mimetype": "text/x-python",
   "name": "python",
   "nbconvert_exporter": "python",
   "pygments_lexer": "ipython2",
   "version": "2.7.6"
  }
 },
 "nbformat": 4,
 "nbformat_minor": 0
}
