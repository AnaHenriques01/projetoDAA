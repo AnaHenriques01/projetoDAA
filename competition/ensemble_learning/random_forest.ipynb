{
 "cells": [
  {
   "cell_type": "markdown",
   "source": [
    "# Implementação do Random Forest"
   ],
   "metadata": {
    "collapsed": false
   }
  },
  {
   "cell_type": "code",
   "execution_count": 2,
   "outputs": [],
   "source": [
    "TRAINING_DATASET_SOURCE = '../training_data.csv'  # Since we are one directory up, we should go down one directory to import the datasets\n",
    "TEST_DATASET_SOURCE = '../test_data.csv'"
   ],
   "metadata": {
    "collapsed": false
   }
  },
  {
   "cell_type": "code",
   "execution_count": 3,
   "outputs": [],
   "source": [
    "import pandas as pd\n",
    "from sklearn.compose import make_column_transformer\n",
    "from sklearn.impute import SimpleImputer\n",
    "from sklearn.model_selection import RandomizedSearchCV\n",
    "from sklearn.model_selection import train_test_split\n",
    "from sklearn.pipeline import make_pipeline\n",
    "from sklearn.preprocessing import MinMaxScaler, OneHotEncoder\n",
    "from pandas import DataFrame\n",
    "from sklearn.base import BaseEstimator\n",
    "from sklearn.base import TransformerMixin\n",
    "\n",
    "train_df = pd.read_csv(TRAINING_DATASET_SOURCE)\n",
    "test_df = pd.read_csv(TEST_DATASET_SOURCE)"
   ],
   "metadata": {
    "collapsed": false
   }
  },
  {
   "cell_type": "markdown",
   "source": [
    "# Definição dos dados de teste e de treino"
   ],
   "metadata": {
    "collapsed": false
   }
  },
  {
   "cell_type": "code",
   "execution_count": 4,
   "outputs": [
    {
     "name": "stdout",
     "output_type": "stream",
     "text": [
      "(5000, 13) (1206, 12)\n"
     ]
    }
   ],
   "source": [
    "print(train_df.shape, test_df.shape)"
   ],
   "metadata": {
    "collapsed": false
   }
  },
  {
   "cell_type": "code",
   "execution_count": 5,
   "outputs": [
    {
     "data": {
      "text/plain": "None         2028\nHigh         1073\nLow           718\nVery_High     603\nMedium        578\nName: incidents, dtype: int64"
     },
     "execution_count": 5,
     "metadata": {},
     "output_type": "execute_result"
    }
   ],
   "source": [
    "train_df['incidents'].value_counts()"
   ],
   "metadata": {
    "collapsed": false
   }
  },
  {
   "cell_type": "code",
   "execution_count": 6,
   "outputs": [
    {
     "name": "stdout",
     "output_type": "stream",
     "text": [
      "Max value count: 2028\n",
      "None         2028\n",
      "High         2028\n",
      "Low          2028\n",
      "Very_High    2028\n",
      "Medium       2028\n",
      "Name: incidents, dtype: int64\n"
     ]
    }
   ],
   "source": [
    "#count_class0, count_class1, count_class2, count_class3, count_class4 = train_df['incidents'].value_counts().to_frame()\n",
    "\n",
    "incidents_count = train_df['incidents'].value_counts()\n",
    "\n",
    "max_count = incidents_count.max()\n",
    "\n",
    "print('Max value count:', max_count)\n",
    "\n",
    "df_classes = []\n",
    "for category, counts in zip(incidents_count.index, incidents_count):\n",
    "    #print(category, counts)\n",
    "    df_classes.append(train_df[train_df['incidents'] == category])\n",
    "\n",
    "df_classes_over = []\n",
    "\n",
    "for category in df_classes:\n",
    "    df_classes_over.append(category.sample(max_count, replace=True))\n",
    "\n",
    "df_test_over = pd.concat(df_classes_over, axis=0)\n",
    "\n",
    "print(df_test_over['incidents'].value_counts())\n"
   ],
   "metadata": {
    "collapsed": false
   }
  },
  {
   "cell_type": "code",
   "execution_count": 7,
   "outputs": [],
   "source": [
    "features = df_test_over.drop(['incidents'], axis=1)\n",
    "target = df_test_over['incidents']\n",
    "\n",
    "all_features = features.columns.tolist()"
   ],
   "metadata": {
    "collapsed": false
   }
  },
  {
   "cell_type": "code",
   "execution_count": 8,
   "outputs": [
    {
     "data": {
      "text/plain": "      city_name magnitude_of_delay  delay_in_seconds  \\\n102   Guimaraes          UNDEFINED                 0   \n2654  Guimaraes          UNDEFINED                 0   \n3329  Guimaraes          UNDEFINED                 0   \n2872  Guimaraes          UNDEFINED                 0   \n2017  Guimaraes          UNDEFINED                 0   \n...         ...                ...               ...   \n4882  Guimaraes          UNDEFINED                 0   \n3373  Guimaraes          UNDEFINED                 0   \n4278  Guimaraes          UNDEFINED                 0   \n2611  Guimaraes          UNDEFINED                 0   \n2818  Guimaraes          UNDEFINED                 0   \n\n                 affected_roads       record_date luminosity  avg_temperature  \\\n102    N101,N101,N101,N101,N101  2021-11-15 23:00       DARK             12.0   \n2654                          ,  2021-03-21 10:00      LIGHT             10.0   \n3329                          ,  2021-01-24 14:00      LIGHT             12.0   \n2872                          ,  2021-01-23 11:00      LIGHT             10.0   \n2017   N101,N101,N101,N101,N101  2021-07-03 00:00       DARK             17.0   \n...                         ...               ...        ...              ...   \n4882  N101,N101,N101,N101,N101,  2021-06-23 21:00       DARK             18.0   \n3373  N101,N101,N101,N101,N101,  2021-06-25 00:00       DARK             19.0   \n4278                          ,  2021-01-29 23:00       DARK             12.0   \n2611  N101,N101,N101,N101,N101,  2021-06-16 04:00       DARK             19.0   \n2818  N101,N101,N101,N101,N101,  2021-06-17 02:00       DARK             17.0   \n\n      avg_atm_pressure  avg_humidity  avg_wind_speed  avg_precipitation  \\\n102             1020.0          70.0             1.0                0.0   \n2654            1025.0          45.0             1.0                0.0   \n3329            1015.0          83.0             1.0                0.0   \n2872            1010.0          91.0             1.0                0.0   \n2017            1018.0          91.0             0.0                0.0   \n...                ...           ...             ...                ...   \n4882            1019.0          64.0             1.0                0.0   \n3373            1019.0          58.0             2.0                0.0   \n4278            1015.0          92.0             3.0                0.0   \n2611            1011.0          82.0             1.0                0.0   \n2818            1011.0          85.0             1.0                0.0   \n\n         avg_rain  \n102     Sem Chuva  \n2654    Sem Chuva  \n3329    Sem Chuva  \n2872  chuva fraca  \n2017    Sem Chuva  \n...           ...  \n4882    Sem Chuva  \n3373    Sem Chuva  \n4278  chuva fraca  \n2611    Sem Chuva  \n2818    Sem Chuva  \n\n[10140 rows x 12 columns]",
      "text/html": "<div>\n<style scoped>\n    .dataframe tbody tr th:only-of-type {\n        vertical-align: middle;\n    }\n\n    .dataframe tbody tr th {\n        vertical-align: top;\n    }\n\n    .dataframe thead th {\n        text-align: right;\n    }\n</style>\n<table border=\"1\" class=\"dataframe\">\n  <thead>\n    <tr style=\"text-align: right;\">\n      <th></th>\n      <th>city_name</th>\n      <th>magnitude_of_delay</th>\n      <th>delay_in_seconds</th>\n      <th>affected_roads</th>\n      <th>record_date</th>\n      <th>luminosity</th>\n      <th>avg_temperature</th>\n      <th>avg_atm_pressure</th>\n      <th>avg_humidity</th>\n      <th>avg_wind_speed</th>\n      <th>avg_precipitation</th>\n      <th>avg_rain</th>\n    </tr>\n  </thead>\n  <tbody>\n    <tr>\n      <th>102</th>\n      <td>Guimaraes</td>\n      <td>UNDEFINED</td>\n      <td>0</td>\n      <td>N101,N101,N101,N101,N101</td>\n      <td>2021-11-15 23:00</td>\n      <td>DARK</td>\n      <td>12.0</td>\n      <td>1020.0</td>\n      <td>70.0</td>\n      <td>1.0</td>\n      <td>0.0</td>\n      <td>Sem Chuva</td>\n    </tr>\n    <tr>\n      <th>2654</th>\n      <td>Guimaraes</td>\n      <td>UNDEFINED</td>\n      <td>0</td>\n      <td>,</td>\n      <td>2021-03-21 10:00</td>\n      <td>LIGHT</td>\n      <td>10.0</td>\n      <td>1025.0</td>\n      <td>45.0</td>\n      <td>1.0</td>\n      <td>0.0</td>\n      <td>Sem Chuva</td>\n    </tr>\n    <tr>\n      <th>3329</th>\n      <td>Guimaraes</td>\n      <td>UNDEFINED</td>\n      <td>0</td>\n      <td>,</td>\n      <td>2021-01-24 14:00</td>\n      <td>LIGHT</td>\n      <td>12.0</td>\n      <td>1015.0</td>\n      <td>83.0</td>\n      <td>1.0</td>\n      <td>0.0</td>\n      <td>Sem Chuva</td>\n    </tr>\n    <tr>\n      <th>2872</th>\n      <td>Guimaraes</td>\n      <td>UNDEFINED</td>\n      <td>0</td>\n      <td>,</td>\n      <td>2021-01-23 11:00</td>\n      <td>LIGHT</td>\n      <td>10.0</td>\n      <td>1010.0</td>\n      <td>91.0</td>\n      <td>1.0</td>\n      <td>0.0</td>\n      <td>chuva fraca</td>\n    </tr>\n    <tr>\n      <th>2017</th>\n      <td>Guimaraes</td>\n      <td>UNDEFINED</td>\n      <td>0</td>\n      <td>N101,N101,N101,N101,N101</td>\n      <td>2021-07-03 00:00</td>\n      <td>DARK</td>\n      <td>17.0</td>\n      <td>1018.0</td>\n      <td>91.0</td>\n      <td>0.0</td>\n      <td>0.0</td>\n      <td>Sem Chuva</td>\n    </tr>\n    <tr>\n      <th>...</th>\n      <td>...</td>\n      <td>...</td>\n      <td>...</td>\n      <td>...</td>\n      <td>...</td>\n      <td>...</td>\n      <td>...</td>\n      <td>...</td>\n      <td>...</td>\n      <td>...</td>\n      <td>...</td>\n      <td>...</td>\n    </tr>\n    <tr>\n      <th>4882</th>\n      <td>Guimaraes</td>\n      <td>UNDEFINED</td>\n      <td>0</td>\n      <td>N101,N101,N101,N101,N101,</td>\n      <td>2021-06-23 21:00</td>\n      <td>DARK</td>\n      <td>18.0</td>\n      <td>1019.0</td>\n      <td>64.0</td>\n      <td>1.0</td>\n      <td>0.0</td>\n      <td>Sem Chuva</td>\n    </tr>\n    <tr>\n      <th>3373</th>\n      <td>Guimaraes</td>\n      <td>UNDEFINED</td>\n      <td>0</td>\n      <td>N101,N101,N101,N101,N101,</td>\n      <td>2021-06-25 00:00</td>\n      <td>DARK</td>\n      <td>19.0</td>\n      <td>1019.0</td>\n      <td>58.0</td>\n      <td>2.0</td>\n      <td>0.0</td>\n      <td>Sem Chuva</td>\n    </tr>\n    <tr>\n      <th>4278</th>\n      <td>Guimaraes</td>\n      <td>UNDEFINED</td>\n      <td>0</td>\n      <td>,</td>\n      <td>2021-01-29 23:00</td>\n      <td>DARK</td>\n      <td>12.0</td>\n      <td>1015.0</td>\n      <td>92.0</td>\n      <td>3.0</td>\n      <td>0.0</td>\n      <td>chuva fraca</td>\n    </tr>\n    <tr>\n      <th>2611</th>\n      <td>Guimaraes</td>\n      <td>UNDEFINED</td>\n      <td>0</td>\n      <td>N101,N101,N101,N101,N101,</td>\n      <td>2021-06-16 04:00</td>\n      <td>DARK</td>\n      <td>19.0</td>\n      <td>1011.0</td>\n      <td>82.0</td>\n      <td>1.0</td>\n      <td>0.0</td>\n      <td>Sem Chuva</td>\n    </tr>\n    <tr>\n      <th>2818</th>\n      <td>Guimaraes</td>\n      <td>UNDEFINED</td>\n      <td>0</td>\n      <td>N101,N101,N101,N101,N101,</td>\n      <td>2021-06-17 02:00</td>\n      <td>DARK</td>\n      <td>17.0</td>\n      <td>1011.0</td>\n      <td>85.0</td>\n      <td>1.0</td>\n      <td>0.0</td>\n      <td>Sem Chuva</td>\n    </tr>\n  </tbody>\n</table>\n<p>10140 rows × 12 columns</p>\n</div>"
     },
     "execution_count": 8,
     "metadata": {},
     "output_type": "execute_result"
    }
   ],
   "source": [
    "features"
   ],
   "metadata": {
    "collapsed": false
   }
  },
  {
   "cell_type": "markdown",
   "source": [
    "### Obtenção das features numericas e categoricas"
   ],
   "metadata": {
    "collapsed": false
   }
  },
  {
   "cell_type": "code",
   "execution_count": 9,
   "outputs": [],
   "source": [
    "dropped_columns = ['city_name', 'avg_precipitation', 'magnitude_of_delay', 'record_date']\n",
    "\n",
    "numerical_features = [column for column, dtype in zip(features.columns, features.dtypes)\n",
    "                      if dtype.kind in ['i', 'f'] and column not in dropped_columns]\n",
    "\n",
    "categorical_features = [column for column, dtype in zip(features.columns, features.dtypes)\n",
    "                        if\n",
    "                        dtype.kind not in ['i', 'f'] and column != 'affected_roads' and column not in dropped_columns]"
   ],
   "metadata": {
    "collapsed": false
   }
  },
  {
   "cell_type": "markdown",
   "source": [
    "### Divisão dos dados em dados de teste e treino"
   ],
   "metadata": {
    "collapsed": false
   }
  },
  {
   "cell_type": "code",
   "execution_count": 10,
   "outputs": [],
   "source": [
    "X_train, X_test, y_train, y_test = train_test_split(features, target, test_size=0.3, random_state=2000)"
   ],
   "metadata": {
    "collapsed": false
   }
  },
  {
   "cell_type": "markdown",
   "source": [
    "#### Criação de steps para tratar da remoção de features\n"
   ],
   "metadata": {
    "collapsed": false
   }
  },
  {
   "cell_type": "code",
   "execution_count": 11,
   "outputs": [],
   "source": [
    "# noinspection PyPep8Naming,PyMethodMayBeStatic\n",
    "class ColumnsRemovalTransformer(BaseEstimator, TransformerMixin):\n",
    "    def __init__(self):\n",
    "        pass\n",
    "\n",
    "    def fit(self, X, y=None):\n",
    "        return self\n",
    "\n",
    "    def transform(self, X: DataFrame, y=None):\n",
    "        X_ = X.copy()\n",
    "\n",
    "        X_.drop(columns=dropped_columns, inplace=True)\n",
    "\n",
    "        return X_"
   ],
   "metadata": {
    "collapsed": false
   }
  },
  {
   "cell_type": "markdown",
   "source": [
    "#### Criação de steps para tratar da feature `record_date`"
   ],
   "metadata": {
    "collapsed": false
   }
  },
  {
   "cell_type": "code",
   "execution_count": 12,
   "outputs": [],
   "source": [
    "# noinspection PyPep8Naming,PyMethodMayBeStatic\n",
    "class RecordDateTransformer(BaseEstimator, TransformerMixin):\n",
    "    def __init__(self):\n",
    "        pass\n",
    "\n",
    "    def fit(self, X, y=None):\n",
    "        return self\n",
    "\n",
    "    def transform(self, X: DataFrame, y=None):\n",
    "        X_ = X.copy()\n",
    "\n",
    "        ### Extrair a hora e dia da semana da feature 'record_date'\n",
    "        record_date = pd.DatetimeIndex(X_['record_date'])\n",
    "\n",
    "        X_['hour'] = record_date.hour\n",
    "        X_['day'] = record_date.day\n",
    "        X_['month'] = record_date.month\n",
    "        X_['weekday'] = record_date.weekday\n",
    "\n",
    "        X_.drop(columns=['record_date'], inplace=True)\n",
    "\n",
    "        imputer = SimpleImputer(strategy='median')\n",
    "        scaler = MinMaxScaler()\n",
    "\n",
    "        imputer.fit(X_)\n",
    "        X_ = imputer.transform(X_)\n",
    "\n",
    "        scaler.fit(X_)\n",
    "        X_ = scaler.transform(X_)\n",
    "\n",
    "        return X_"
   ],
   "metadata": {
    "collapsed": false
   }
  },
  {
   "cell_type": "markdown",
   "source": [
    "#### Criação de steps para tratar da feature `affected_roads`"
   ],
   "metadata": {
    "collapsed": false
   }
  },
  {
   "cell_type": "code",
   "execution_count": 13,
   "outputs": [],
   "source": [
    "# noinspection PyPep8Naming,PyMethodMayBeStatic\n",
    "class AffectedRoadsTransformer(BaseEstimator, TransformerMixin):\n",
    "    def __init__(self):\n",
    "        pass\n",
    "\n",
    "    def fit(self, X, y=None):\n",
    "        return self\n",
    "\n",
    "    def transform(self, X: DataFrame, y=None):\n",
    "        X_ = X.copy()\n",
    "\n",
    "        road_quantity = []\n",
    "        for line in X_['affected_roads']:\n",
    "            unique_roads = set(str(line).split(','))\n",
    "            valid_roads = [elem for elem in unique_roads if elem != '']\n",
    "            count = len(valid_roads)\n",
    "            road_quantity.append(count)\n",
    "\n",
    "        X_['num_affected_roads'] = road_quantity\n",
    "        X_.drop(columns=['affected_roads'], inplace=True)\n",
    "\n",
    "        imputer = SimpleImputer(strategy='median')\n",
    "        scaler = MinMaxScaler()\n",
    "\n",
    "        imputer.fit(X_)\n",
    "        X_ = imputer.transform(X_)\n",
    "\n",
    "        scaler.fit(X_)\n",
    "        X_ = scaler.transform(X_)\n",
    "\n",
    "        return X_"
   ],
   "metadata": {
    "collapsed": false
   }
  },
  {
   "cell_type": "markdown",
   "source": [
    "### Pipeline de preparação de dados"
   ],
   "metadata": {
    "collapsed": false
   }
  },
  {
   "cell_type": "code",
   "execution_count": 14,
   "outputs": [],
   "source": [
    "preprocessor = make_column_transformer(\n",
    "    (make_pipeline(\n",
    "        AffectedRoadsTransformer()\n",
    "    ), ['affected_roads']),\n",
    "\n",
    "    (make_pipeline(\n",
    "        RecordDateTransformer()\n",
    "    ), ['record_date']),\n",
    "\n",
    "    (make_pipeline(\n",
    "        ColumnsRemovalTransformer()\n",
    "    ), dropped_columns),\n",
    "\n",
    "    (make_pipeline(\n",
    "        SimpleImputer(strategy='median'),\n",
    "        MinMaxScaler(),\n",
    "    ), numerical_features),\n",
    "\n",
    "    (make_pipeline(\n",
    "        SimpleImputer(strategy='constant', fill_value='missing'),\n",
    "        OneHotEncoder(categories='auto', handle_unknown='ignore'),\n",
    "    ), categorical_features),\n",
    ")"
   ],
   "metadata": {
    "collapsed": false
   }
  },
  {
   "cell_type": "code",
   "execution_count": 15,
   "outputs": [
    {
     "data": {
      "text/plain": "      city_name magnitude_of_delay  delay_in_seconds  \\\n3993  Guimaraes          UNDEFINED                32   \n3213  Guimaraes          UNDEFINED                 0   \n790   Guimaraes          UNDEFINED               877   \n1483  Guimaraes          UNDEFINED               404   \n3327  Guimaraes          UNDEFINED                 0   \n...         ...                ...               ...   \n4994  Guimaraes          UNDEFINED                 0   \n256   Guimaraes          UNDEFINED                90   \n1811  Guimaraes          UNDEFINED                 0   \n493   Guimaraes          UNDEFINED                 0   \n2792  Guimaraes          UNDEFINED               100   \n\n                                         affected_roads       record_date  \\\n3993                      N101,N101,N101,N101,N101,N101  2021-12-09 23:00   \n3213                                                  ,  2021-01-20 07:00   \n790   N101,N101,N101,N101,N105,N101,N101,N101,N101,N...  2021-06-30 19:00   \n1483                      N101,N101,N101,N206,N101,N101  2021-07-09 10:00   \n3327                          N101,N101,N101,N101,N101,  2021-04-17 20:00   \n...                                                 ...               ...   \n4994                          N101,N101,N101,N101,N101,  2021-06-23 22:00   \n256                                                   ,  2021-02-02 22:00   \n1811                           N101,N101,N101,N101,N101  2021-11-01 08:00   \n493                           N101,N101,N101,N101,N101,  2021-06-07 00:00   \n2792                      N101,N101,N101,N101,N101,N105  2021-10-15 12:00   \n\n     luminosity  avg_temperature  avg_atm_pressure  avg_humidity  \\\n3993       DARK             11.0            1025.0          94.0   \n3213       DARK             10.0            1003.0          90.0   \n790       LIGHT             20.0            1016.0          56.0   \n1483      LIGHT             21.0            1020.0          35.0   \n3327  LOW_LIGHT             16.0            1018.0          59.0   \n...         ...              ...               ...           ...   \n4994       DARK             17.0            1020.0          67.0   \n256        DARK             12.0            1010.0          92.0   \n1811      LIGHT             11.0            1016.0          94.0   \n493        DARK             16.0            1021.0          79.0   \n2792      LIGHT             21.0            1021.0          47.0   \n\n      avg_wind_speed  avg_precipitation     avg_rain  \n3993             0.0                0.0    Sem Chuva  \n3213             2.0                0.0  chuva fraca  \n790              1.0                0.0    Sem Chuva  \n1483             0.0                0.0    Sem Chuva  \n3327             3.0                0.0    Sem Chuva  \n...              ...                ...          ...  \n4994             2.0                0.0    Sem Chuva  \n256              0.0                0.0  chuva fraca  \n1811             0.0                0.0    Sem Chuva  \n493              1.0                0.0  chuva fraca  \n2792             1.0                0.0    Sem Chuva  \n\n[7098 rows x 12 columns]",
      "text/html": "<div>\n<style scoped>\n    .dataframe tbody tr th:only-of-type {\n        vertical-align: middle;\n    }\n\n    .dataframe tbody tr th {\n        vertical-align: top;\n    }\n\n    .dataframe thead th {\n        text-align: right;\n    }\n</style>\n<table border=\"1\" class=\"dataframe\">\n  <thead>\n    <tr style=\"text-align: right;\">\n      <th></th>\n      <th>city_name</th>\n      <th>magnitude_of_delay</th>\n      <th>delay_in_seconds</th>\n      <th>affected_roads</th>\n      <th>record_date</th>\n      <th>luminosity</th>\n      <th>avg_temperature</th>\n      <th>avg_atm_pressure</th>\n      <th>avg_humidity</th>\n      <th>avg_wind_speed</th>\n      <th>avg_precipitation</th>\n      <th>avg_rain</th>\n    </tr>\n  </thead>\n  <tbody>\n    <tr>\n      <th>3993</th>\n      <td>Guimaraes</td>\n      <td>UNDEFINED</td>\n      <td>32</td>\n      <td>N101,N101,N101,N101,N101,N101</td>\n      <td>2021-12-09 23:00</td>\n      <td>DARK</td>\n      <td>11.0</td>\n      <td>1025.0</td>\n      <td>94.0</td>\n      <td>0.0</td>\n      <td>0.0</td>\n      <td>Sem Chuva</td>\n    </tr>\n    <tr>\n      <th>3213</th>\n      <td>Guimaraes</td>\n      <td>UNDEFINED</td>\n      <td>0</td>\n      <td>,</td>\n      <td>2021-01-20 07:00</td>\n      <td>DARK</td>\n      <td>10.0</td>\n      <td>1003.0</td>\n      <td>90.0</td>\n      <td>2.0</td>\n      <td>0.0</td>\n      <td>chuva fraca</td>\n    </tr>\n    <tr>\n      <th>790</th>\n      <td>Guimaraes</td>\n      <td>UNDEFINED</td>\n      <td>877</td>\n      <td>N101,N101,N101,N101,N105,N101,N101,N101,N101,N...</td>\n      <td>2021-06-30 19:00</td>\n      <td>LIGHT</td>\n      <td>20.0</td>\n      <td>1016.0</td>\n      <td>56.0</td>\n      <td>1.0</td>\n      <td>0.0</td>\n      <td>Sem Chuva</td>\n    </tr>\n    <tr>\n      <th>1483</th>\n      <td>Guimaraes</td>\n      <td>UNDEFINED</td>\n      <td>404</td>\n      <td>N101,N101,N101,N206,N101,N101</td>\n      <td>2021-07-09 10:00</td>\n      <td>LIGHT</td>\n      <td>21.0</td>\n      <td>1020.0</td>\n      <td>35.0</td>\n      <td>0.0</td>\n      <td>0.0</td>\n      <td>Sem Chuva</td>\n    </tr>\n    <tr>\n      <th>3327</th>\n      <td>Guimaraes</td>\n      <td>UNDEFINED</td>\n      <td>0</td>\n      <td>N101,N101,N101,N101,N101,</td>\n      <td>2021-04-17 20:00</td>\n      <td>LOW_LIGHT</td>\n      <td>16.0</td>\n      <td>1018.0</td>\n      <td>59.0</td>\n      <td>3.0</td>\n      <td>0.0</td>\n      <td>Sem Chuva</td>\n    </tr>\n    <tr>\n      <th>...</th>\n      <td>...</td>\n      <td>...</td>\n      <td>...</td>\n      <td>...</td>\n      <td>...</td>\n      <td>...</td>\n      <td>...</td>\n      <td>...</td>\n      <td>...</td>\n      <td>...</td>\n      <td>...</td>\n      <td>...</td>\n    </tr>\n    <tr>\n      <th>4994</th>\n      <td>Guimaraes</td>\n      <td>UNDEFINED</td>\n      <td>0</td>\n      <td>N101,N101,N101,N101,N101,</td>\n      <td>2021-06-23 22:00</td>\n      <td>DARK</td>\n      <td>17.0</td>\n      <td>1020.0</td>\n      <td>67.0</td>\n      <td>2.0</td>\n      <td>0.0</td>\n      <td>Sem Chuva</td>\n    </tr>\n    <tr>\n      <th>256</th>\n      <td>Guimaraes</td>\n      <td>UNDEFINED</td>\n      <td>90</td>\n      <td>,</td>\n      <td>2021-02-02 22:00</td>\n      <td>DARK</td>\n      <td>12.0</td>\n      <td>1010.0</td>\n      <td>92.0</td>\n      <td>0.0</td>\n      <td>0.0</td>\n      <td>chuva fraca</td>\n    </tr>\n    <tr>\n      <th>1811</th>\n      <td>Guimaraes</td>\n      <td>UNDEFINED</td>\n      <td>0</td>\n      <td>N101,N101,N101,N101,N101</td>\n      <td>2021-11-01 08:00</td>\n      <td>LIGHT</td>\n      <td>11.0</td>\n      <td>1016.0</td>\n      <td>94.0</td>\n      <td>0.0</td>\n      <td>0.0</td>\n      <td>Sem Chuva</td>\n    </tr>\n    <tr>\n      <th>493</th>\n      <td>Guimaraes</td>\n      <td>UNDEFINED</td>\n      <td>0</td>\n      <td>N101,N101,N101,N101,N101,</td>\n      <td>2021-06-07 00:00</td>\n      <td>DARK</td>\n      <td>16.0</td>\n      <td>1021.0</td>\n      <td>79.0</td>\n      <td>1.0</td>\n      <td>0.0</td>\n      <td>chuva fraca</td>\n    </tr>\n    <tr>\n      <th>2792</th>\n      <td>Guimaraes</td>\n      <td>UNDEFINED</td>\n      <td>100</td>\n      <td>N101,N101,N101,N101,N101,N105</td>\n      <td>2021-10-15 12:00</td>\n      <td>LIGHT</td>\n      <td>21.0</td>\n      <td>1021.0</td>\n      <td>47.0</td>\n      <td>1.0</td>\n      <td>0.0</td>\n      <td>Sem Chuva</td>\n    </tr>\n  </tbody>\n</table>\n<p>7098 rows × 12 columns</p>\n</div>"
     },
     "execution_count": 15,
     "metadata": {},
     "output_type": "execute_result"
    }
   ],
   "source": [
    "X_train"
   ],
   "metadata": {
    "collapsed": false
   }
  },
  {
   "cell_type": "code",
   "execution_count": 16,
   "outputs": [
    {
     "data": {
      "text/plain": "array([[0.125     , 1.        , 0.26666667, ..., 0.        , 0.        ,\n        0.        ],\n       [0.        , 0.30434783, 0.63333333, ..., 0.        , 1.        ,\n        0.        ],\n       [0.25      , 0.82608696, 0.96666667, ..., 0.        , 0.        ,\n        0.        ],\n       ...,\n       [0.125     , 0.34782609, 0.        , ..., 0.        , 0.        ,\n        0.        ],\n       [0.125     , 0.        , 0.2       , ..., 0.        , 1.        ,\n        0.        ],\n       [0.25      , 0.52173913, 0.46666667, ..., 0.        , 0.        ,\n        0.        ]])"
     },
     "execution_count": 16,
     "metadata": {},
     "output_type": "execute_result"
    }
   ],
   "source": [
    "preprocessor.fit(X_train)\n",
    "preprocessor.transform(X_train)"
   ],
   "metadata": {
    "collapsed": false
   }
  },
  {
   "cell_type": "code",
   "execution_count": 17,
   "outputs": [],
   "source": [
    "from sklearn.feature_selection import SelectKBest, VarianceThreshold, f_classif\n",
    "\n",
    "preprocessor_best = make_pipeline(preprocessor, VarianceThreshold())#, SelectKBest(f_classif, k='all'))"
   ],
   "metadata": {
    "collapsed": false
   }
  },
  {
   "cell_type": "code",
   "execution_count": 18,
   "outputs": [],
   "source": [
    "from sklearn.ensemble import RandomForestClassifier\n",
    "\n",
    "RF_Model = make_pipeline(preprocessor_best, RandomForestClassifier(n_estimators=100))"
   ],
   "metadata": {
    "collapsed": false
   }
  },
  {
   "cell_type": "code",
   "execution_count": 19,
   "outputs": [
    {
     "data": {
      "text/plain": "1.0"
     },
     "execution_count": 19,
     "metadata": {},
     "output_type": "execute_result"
    }
   ],
   "source": [
    "RF_Model.fit(X_train, y_train)\n",
    "RF_Model.score(X_train, y_train)"
   ],
   "metadata": {
    "collapsed": false
   }
  },
  {
   "cell_type": "code",
   "execution_count": 20,
   "outputs": [
    {
     "data": {
      "text/plain": "0.9819197896120972"
     },
     "execution_count": 20,
     "metadata": {},
     "output_type": "execute_result"
    }
   ],
   "source": [
    "RF_Model.score(X_test, y_test)"
   ],
   "metadata": {
    "collapsed": false
   }
  },
  {
   "cell_type": "markdown",
   "source": [
    "## Hyperparameter Tuning"
   ],
   "metadata": {
    "collapsed": false
   }
  },
  {
   "cell_type": "code",
   "execution_count": 21,
   "outputs": [],
   "source": [
    "import numpy as np\n",
    "\n",
    "n_estimators = [int(x) for x in np.linspace(start=10, stop=500, num=5)]\n",
    "\n",
    "max_features = ['sqrt']\n",
    "\n",
    "max_depth = [2, 6, 12, 20, 30, 40, 50]\n",
    "\n",
    "min_samples_split = [2, 5, 30]\n",
    "\n",
    "min_samples_leaf = [1, 2, 50]\n",
    "\n",
    "bootstrap = [True, False]\n",
    "\n",
    "criterions = [\"gini\", \"entropy\", \"log_loss\"]"
   ],
   "metadata": {
    "collapsed": false
   }
  },
  {
   "cell_type": "code",
   "execution_count": 22,
   "outputs": [
    {
     "data": {
      "text/plain": "{'randomforestclassifier__n_estimators': [10, 132, 255, 377, 500],\n 'randomforestclassifier__max_features': ['sqrt'],\n 'randomforestclassifier__max_depth': [2, 6, 12, 20, 30, 40, 50],\n 'randomforestclassifier__min_samples_split': [2, 5, 30],\n 'randomforestclassifier__min_samples_leaf': [1, 2, 50],\n 'randomforestclassifier__bootstrap': [True, False],\n 'randomforestclassifier__criterion': ['gini', 'entropy', 'log_loss']}"
     },
     "execution_count": 22,
     "metadata": {},
     "output_type": "execute_result"
    }
   ],
   "source": [
    "param_grid = {\n",
    "    'randomforestclassifier__n_estimators': n_estimators,\n",
    "    'randomforestclassifier__max_features': max_features,\n",
    "    'randomforestclassifier__max_depth': max_depth,\n",
    "    'randomforestclassifier__min_samples_split': min_samples_split,\n",
    "    'randomforestclassifier__min_samples_leaf': min_samples_leaf,\n",
    "    'randomforestclassifier__bootstrap': bootstrap,\n",
    "    'randomforestclassifier__criterion': criterions\n",
    "}\n",
    "\n",
    "param_grid"
   ],
   "metadata": {
    "collapsed": false
   }
  },
  {
   "cell_type": "code",
   "execution_count": 23,
   "outputs": [
    {
     "name": "stdout",
     "output_type": "stream",
     "text": [
      "['accuracy', 'adjusted_mutual_info_score', 'adjusted_rand_score', 'average_precision', 'balanced_accuracy', 'completeness_score', 'explained_variance', 'f1', 'f1_macro', 'f1_micro', 'f1_samples', 'f1_weighted', 'fowlkes_mallows_score', 'homogeneity_score', 'jaccard', 'jaccard_macro', 'jaccard_micro', 'jaccard_samples', 'jaccard_weighted', 'matthews_corrcoef', 'max_error', 'mutual_info_score', 'neg_brier_score', 'neg_log_loss', 'neg_mean_absolute_error', 'neg_mean_absolute_percentage_error', 'neg_mean_gamma_deviance', 'neg_mean_poisson_deviance', 'neg_mean_squared_error', 'neg_mean_squared_log_error', 'neg_median_absolute_error', 'neg_root_mean_squared_error', 'normalized_mutual_info_score', 'precision', 'precision_macro', 'precision_micro', 'precision_samples', 'precision_weighted', 'r2', 'rand_score', 'recall', 'recall_macro', 'recall_micro', 'recall_samples', 'recall_weighted', 'roc_auc', 'roc_auc_ovo', 'roc_auc_ovo_weighted', 'roc_auc_ovr', 'roc_auc_ovr_weighted', 'top_k_accuracy', 'v_measure_score']\n"
     ]
    }
   ],
   "source": [
    "from sklearn import metrics\n",
    "\n",
    "print(metrics.get_scorer_names())"
   ],
   "metadata": {
    "collapsed": false
   }
  },
  {
   "cell_type": "code",
   "execution_count": 24,
   "outputs": [],
   "source": [
    "from sklearn.model_selection import GridSearchCV\n",
    "\n",
    "rf_RandomGrid = RandomizedSearchCV(estimator=RF_Model, param_distributions=param_grid, cv=20, verbose=1, n_jobs=-1,\n",
    "                                   n_iter=50, scoring='balanced_accuracy', random_state=1000)\n",
    "\n",
    "\n",
    "#rf_RandomGrid = GridSearchCV(estimator=RF_Model, param_grid=param_grid, cv=5, verbose=1, n_jobs=-1, scoring='balanced_accuracy')"
   ],
   "metadata": {
    "collapsed": false
   }
  },
  {
   "cell_type": "code",
   "execution_count": 25,
   "outputs": [
    {
     "name": "stdout",
     "output_type": "stream",
     "text": [
      "Fitting 20 folds for each of 50 candidates, totalling 1000 fits\n",
      "CPU times: total: 5.77 s\n",
      "Wall time: 1min 45s\n"
     ]
    },
    {
     "data": {
      "text/plain": "RandomizedSearchCV(cv=20,\n                   estimator=Pipeline(steps=[('pipeline',\n                                              Pipeline(steps=[('columntransformer',\n                                                               ColumnTransformer(transformers=[('pipeline-1',\n                                                                                                Pipeline(steps=[('affectedroadstransformer',\n                                                                                                                 AffectedRoadsTransformer())]),\n                                                                                                ['affected_roads']),\n                                                                                               ('pipeline-2',\n                                                                                                Pipeline(steps=[('recorddatetransformer',\n                                                                                                                 RecordDateTransformer())]),\n                                                                                                ['record_date']),\n                                                                                               ('pipeline-...\n                                        'randomforestclassifier__criterion': ['gini',\n                                                                              'entropy',\n                                                                              'log_loss'],\n                                        'randomforestclassifier__max_depth': [2,\n                                                                              6,\n                                                                              12,\n                                                                              20,\n                                                                              30,\n                                                                              40,\n                                                                              50],\n                                        'randomforestclassifier__max_features': ['sqrt'],\n                                        'randomforestclassifier__min_samples_leaf': [1,\n                                                                                     2,\n                                                                                     50],\n                                        'randomforestclassifier__min_samples_split': [2,\n                                                                                      5,\n                                                                                      30],\n                                        'randomforestclassifier__n_estimators': [10,\n                                                                                 132,\n                                                                                 255,\n                                                                                 377,\n                                                                                 500]},\n                   random_state=1000, scoring='balanced_accuracy', verbose=1)",
      "text/html": "<style>#sk-container-id-1 {color: black;background-color: white;}#sk-container-id-1 pre{padding: 0;}#sk-container-id-1 div.sk-toggleable {background-color: white;}#sk-container-id-1 label.sk-toggleable__label {cursor: pointer;display: block;width: 100%;margin-bottom: 0;padding: 0.3em;box-sizing: border-box;text-align: center;}#sk-container-id-1 label.sk-toggleable__label-arrow:before {content: \"▸\";float: left;margin-right: 0.25em;color: #696969;}#sk-container-id-1 label.sk-toggleable__label-arrow:hover:before {color: black;}#sk-container-id-1 div.sk-estimator:hover label.sk-toggleable__label-arrow:before {color: black;}#sk-container-id-1 div.sk-toggleable__content {max-height: 0;max-width: 0;overflow: hidden;text-align: left;background-color: #f0f8ff;}#sk-container-id-1 div.sk-toggleable__content pre {margin: 0.2em;color: black;border-radius: 0.25em;background-color: #f0f8ff;}#sk-container-id-1 input.sk-toggleable__control:checked~div.sk-toggleable__content {max-height: 200px;max-width: 100%;overflow: auto;}#sk-container-id-1 input.sk-toggleable__control:checked~label.sk-toggleable__label-arrow:before {content: \"▾\";}#sk-container-id-1 div.sk-estimator input.sk-toggleable__control:checked~label.sk-toggleable__label {background-color: #d4ebff;}#sk-container-id-1 div.sk-label input.sk-toggleable__control:checked~label.sk-toggleable__label {background-color: #d4ebff;}#sk-container-id-1 input.sk-hidden--visually {border: 0;clip: rect(1px 1px 1px 1px);clip: rect(1px, 1px, 1px, 1px);height: 1px;margin: -1px;overflow: hidden;padding: 0;position: absolute;width: 1px;}#sk-container-id-1 div.sk-estimator {font-family: monospace;background-color: #f0f8ff;border: 1px dotted black;border-radius: 0.25em;box-sizing: border-box;margin-bottom: 0.5em;}#sk-container-id-1 div.sk-estimator:hover {background-color: #d4ebff;}#sk-container-id-1 div.sk-parallel-item::after {content: \"\";width: 100%;border-bottom: 1px solid gray;flex-grow: 1;}#sk-container-id-1 div.sk-label:hover label.sk-toggleable__label {background-color: #d4ebff;}#sk-container-id-1 div.sk-serial::before {content: \"\";position: absolute;border-left: 1px solid gray;box-sizing: border-box;top: 0;bottom: 0;left: 50%;z-index: 0;}#sk-container-id-1 div.sk-serial {display: flex;flex-direction: column;align-items: center;background-color: white;padding-right: 0.2em;padding-left: 0.2em;position: relative;}#sk-container-id-1 div.sk-item {position: relative;z-index: 1;}#sk-container-id-1 div.sk-parallel {display: flex;align-items: stretch;justify-content: center;background-color: white;position: relative;}#sk-container-id-1 div.sk-item::before, #sk-container-id-1 div.sk-parallel-item::before {content: \"\";position: absolute;border-left: 1px solid gray;box-sizing: border-box;top: 0;bottom: 0;left: 50%;z-index: -1;}#sk-container-id-1 div.sk-parallel-item {display: flex;flex-direction: column;z-index: 1;position: relative;background-color: white;}#sk-container-id-1 div.sk-parallel-item:first-child::after {align-self: flex-end;width: 50%;}#sk-container-id-1 div.sk-parallel-item:last-child::after {align-self: flex-start;width: 50%;}#sk-container-id-1 div.sk-parallel-item:only-child::after {width: 0;}#sk-container-id-1 div.sk-dashed-wrapped {border: 1px dashed gray;margin: 0 0.4em 0.5em 0.4em;box-sizing: border-box;padding-bottom: 0.4em;background-color: white;}#sk-container-id-1 div.sk-label label {font-family: monospace;font-weight: bold;display: inline-block;line-height: 1.2em;}#sk-container-id-1 div.sk-label-container {text-align: center;}#sk-container-id-1 div.sk-container {/* jupyter's `normalize.less` sets `[hidden] { display: none; }` but bootstrap.min.css set `[hidden] { display: none !important; }` so we also need the `!important` here to be able to override the default hidden behavior on the sphinx rendered scikit-learn.org. See: https://github.com/scikit-learn/scikit-learn/issues/21755 */display: inline-block !important;position: relative;}#sk-container-id-1 div.sk-text-repr-fallback {display: none;}</style><div id=\"sk-container-id-1\" class=\"sk-top-container\"><div class=\"sk-text-repr-fallback\"><pre>RandomizedSearchCV(cv=20,\n                   estimator=Pipeline(steps=[(&#x27;pipeline&#x27;,\n                                              Pipeline(steps=[(&#x27;columntransformer&#x27;,\n                                                               ColumnTransformer(transformers=[(&#x27;pipeline-1&#x27;,\n                                                                                                Pipeline(steps=[(&#x27;affectedroadstransformer&#x27;,\n                                                                                                                 AffectedRoadsTransformer())]),\n                                                                                                [&#x27;affected_roads&#x27;]),\n                                                                                               (&#x27;pipeline-2&#x27;,\n                                                                                                Pipeline(steps=[(&#x27;recorddatetransformer&#x27;,\n                                                                                                                 RecordDateTransformer())]),\n                                                                                                [&#x27;record_date&#x27;]),\n                                                                                               (&#x27;pipeline-...\n                                        &#x27;randomforestclassifier__criterion&#x27;: [&#x27;gini&#x27;,\n                                                                              &#x27;entropy&#x27;,\n                                                                              &#x27;log_loss&#x27;],\n                                        &#x27;randomforestclassifier__max_depth&#x27;: [2,\n                                                                              6,\n                                                                              12,\n                                                                              20,\n                                                                              30,\n                                                                              40,\n                                                                              50],\n                                        &#x27;randomforestclassifier__max_features&#x27;: [&#x27;sqrt&#x27;],\n                                        &#x27;randomforestclassifier__min_samples_leaf&#x27;: [1,\n                                                                                     2,\n                                                                                     50],\n                                        &#x27;randomforestclassifier__min_samples_split&#x27;: [2,\n                                                                                      5,\n                                                                                      30],\n                                        &#x27;randomforestclassifier__n_estimators&#x27;: [10,\n                                                                                 132,\n                                                                                 255,\n                                                                                 377,\n                                                                                 500]},\n                   random_state=1000, scoring=&#x27;balanced_accuracy&#x27;, verbose=1)</pre><b>In a Jupyter environment, please rerun this cell to show the HTML representation or trust the notebook. <br />On GitHub, the HTML representation is unable to render, please try loading this page with nbviewer.org.</b></div><div class=\"sk-container\" hidden><div class=\"sk-item sk-dashed-wrapped\"><div class=\"sk-label-container\"><div class=\"sk-label sk-toggleable\"><input class=\"sk-toggleable__control sk-hidden--visually\" id=\"sk-estimator-id-1\" type=\"checkbox\" ><label for=\"sk-estimator-id-1\" class=\"sk-toggleable__label sk-toggleable__label-arrow\">RandomizedSearchCV</label><div class=\"sk-toggleable__content\"><pre>RandomizedSearchCV(cv=20,\n                   estimator=Pipeline(steps=[(&#x27;pipeline&#x27;,\n                                              Pipeline(steps=[(&#x27;columntransformer&#x27;,\n                                                               ColumnTransformer(transformers=[(&#x27;pipeline-1&#x27;,\n                                                                                                Pipeline(steps=[(&#x27;affectedroadstransformer&#x27;,\n                                                                                                                 AffectedRoadsTransformer())]),\n                                                                                                [&#x27;affected_roads&#x27;]),\n                                                                                               (&#x27;pipeline-2&#x27;,\n                                                                                                Pipeline(steps=[(&#x27;recorddatetransformer&#x27;,\n                                                                                                                 RecordDateTransformer())]),\n                                                                                                [&#x27;record_date&#x27;]),\n                                                                                               (&#x27;pipeline-...\n                                        &#x27;randomforestclassifier__criterion&#x27;: [&#x27;gini&#x27;,\n                                                                              &#x27;entropy&#x27;,\n                                                                              &#x27;log_loss&#x27;],\n                                        &#x27;randomforestclassifier__max_depth&#x27;: [2,\n                                                                              6,\n                                                                              12,\n                                                                              20,\n                                                                              30,\n                                                                              40,\n                                                                              50],\n                                        &#x27;randomforestclassifier__max_features&#x27;: [&#x27;sqrt&#x27;],\n                                        &#x27;randomforestclassifier__min_samples_leaf&#x27;: [1,\n                                                                                     2,\n                                                                                     50],\n                                        &#x27;randomforestclassifier__min_samples_split&#x27;: [2,\n                                                                                      5,\n                                                                                      30],\n                                        &#x27;randomforestclassifier__n_estimators&#x27;: [10,\n                                                                                 132,\n                                                                                 255,\n                                                                                 377,\n                                                                                 500]},\n                   random_state=1000, scoring=&#x27;balanced_accuracy&#x27;, verbose=1)</pre></div></div></div><div class=\"sk-parallel\"><div class=\"sk-parallel-item\"><div class=\"sk-item\"><div class=\"sk-label-container\"><div class=\"sk-label sk-toggleable\"><input class=\"sk-toggleable__control sk-hidden--visually\" id=\"sk-estimator-id-2\" type=\"checkbox\" ><label for=\"sk-estimator-id-2\" class=\"sk-toggleable__label sk-toggleable__label-arrow\">estimator: Pipeline</label><div class=\"sk-toggleable__content\"><pre>Pipeline(steps=[(&#x27;pipeline&#x27;,\n                 Pipeline(steps=[(&#x27;columntransformer&#x27;,\n                                  ColumnTransformer(transformers=[(&#x27;pipeline-1&#x27;,\n                                                                   Pipeline(steps=[(&#x27;affectedroadstransformer&#x27;,\n                                                                                    AffectedRoadsTransformer())]),\n                                                                   [&#x27;affected_roads&#x27;]),\n                                                                  (&#x27;pipeline-2&#x27;,\n                                                                   Pipeline(steps=[(&#x27;recorddatetransformer&#x27;,\n                                                                                    RecordDateTransformer())]),\n                                                                   [&#x27;record_date&#x27;]),\n                                                                  (&#x27;pipeline-3&#x27;,\n                                                                   Pipeline(steps=[(&#x27;columnsremoval...\n                                                                    &#x27;avg_temperature&#x27;,\n                                                                    &#x27;avg_atm_pressure&#x27;,\n                                                                    &#x27;avg_humidity&#x27;,\n                                                                    &#x27;avg_wind_speed&#x27;]),\n                                                                  (&#x27;pipeline-5&#x27;,\n                                                                   Pipeline(steps=[(&#x27;simpleimputer&#x27;,\n                                                                                    SimpleImputer(fill_value=&#x27;missing&#x27;,\n                                                                                                  strategy=&#x27;constant&#x27;)),\n                                                                                   (&#x27;onehotencoder&#x27;,\n                                                                                    OneHotEncoder(handle_unknown=&#x27;ignore&#x27;))]),\n                                                                   [&#x27;luminosity&#x27;,\n                                                                    &#x27;avg_rain&#x27;])])),\n                                 (&#x27;variancethreshold&#x27;, VarianceThreshold())])),\n                (&#x27;randomforestclassifier&#x27;, RandomForestClassifier())])</pre></div></div></div><div class=\"sk-serial\"><div class=\"sk-item\"><div class=\"sk-serial\"><div class=\"sk-item\"><div class=\"sk-label-container\"><div class=\"sk-label sk-toggleable\"><input class=\"sk-toggleable__control sk-hidden--visually\" id=\"sk-estimator-id-3\" type=\"checkbox\" ><label for=\"sk-estimator-id-3\" class=\"sk-toggleable__label sk-toggleable__label-arrow\">pipeline: Pipeline</label><div class=\"sk-toggleable__content\"><pre>Pipeline(steps=[(&#x27;columntransformer&#x27;,\n                 ColumnTransformer(transformers=[(&#x27;pipeline-1&#x27;,\n                                                  Pipeline(steps=[(&#x27;affectedroadstransformer&#x27;,\n                                                                   AffectedRoadsTransformer())]),\n                                                  [&#x27;affected_roads&#x27;]),\n                                                 (&#x27;pipeline-2&#x27;,\n                                                  Pipeline(steps=[(&#x27;recorddatetransformer&#x27;,\n                                                                   RecordDateTransformer())]),\n                                                  [&#x27;record_date&#x27;]),\n                                                 (&#x27;pipeline-3&#x27;,\n                                                  Pipeline(steps=[(&#x27;columnsremovaltransformer&#x27;,\n                                                                   ColumnsRemovalT...\n                                                                  (&#x27;minmaxscaler&#x27;,\n                                                                   MinMaxScaler())]),\n                                                  [&#x27;delay_in_seconds&#x27;,\n                                                   &#x27;avg_temperature&#x27;,\n                                                   &#x27;avg_atm_pressure&#x27;,\n                                                   &#x27;avg_humidity&#x27;,\n                                                   &#x27;avg_wind_speed&#x27;]),\n                                                 (&#x27;pipeline-5&#x27;,\n                                                  Pipeline(steps=[(&#x27;simpleimputer&#x27;,\n                                                                   SimpleImputer(fill_value=&#x27;missing&#x27;,\n                                                                                 strategy=&#x27;constant&#x27;)),\n                                                                  (&#x27;onehotencoder&#x27;,\n                                                                   OneHotEncoder(handle_unknown=&#x27;ignore&#x27;))]),\n                                                  [&#x27;luminosity&#x27;,\n                                                   &#x27;avg_rain&#x27;])])),\n                (&#x27;variancethreshold&#x27;, VarianceThreshold())])</pre></div></div></div><div class=\"sk-serial\"><div class=\"sk-item sk-dashed-wrapped\"><div class=\"sk-label-container\"><div class=\"sk-label sk-toggleable\"><input class=\"sk-toggleable__control sk-hidden--visually\" id=\"sk-estimator-id-4\" type=\"checkbox\" ><label for=\"sk-estimator-id-4\" class=\"sk-toggleable__label sk-toggleable__label-arrow\">columntransformer: ColumnTransformer</label><div class=\"sk-toggleable__content\"><pre>ColumnTransformer(transformers=[(&#x27;pipeline-1&#x27;,\n                                 Pipeline(steps=[(&#x27;affectedroadstransformer&#x27;,\n                                                  AffectedRoadsTransformer())]),\n                                 [&#x27;affected_roads&#x27;]),\n                                (&#x27;pipeline-2&#x27;,\n                                 Pipeline(steps=[(&#x27;recorddatetransformer&#x27;,\n                                                  RecordDateTransformer())]),\n                                 [&#x27;record_date&#x27;]),\n                                (&#x27;pipeline-3&#x27;,\n                                 Pipeline(steps=[(&#x27;columnsremovaltransformer&#x27;,\n                                                  ColumnsRemovalTransformer())]),\n                                 [&#x27;city_name&#x27;, &#x27;avg_pre...\n                                                  SimpleImputer(strategy=&#x27;median&#x27;)),\n                                                 (&#x27;minmaxscaler&#x27;,\n                                                  MinMaxScaler())]),\n                                 [&#x27;delay_in_seconds&#x27;, &#x27;avg_temperature&#x27;,\n                                  &#x27;avg_atm_pressure&#x27;, &#x27;avg_humidity&#x27;,\n                                  &#x27;avg_wind_speed&#x27;]),\n                                (&#x27;pipeline-5&#x27;,\n                                 Pipeline(steps=[(&#x27;simpleimputer&#x27;,\n                                                  SimpleImputer(fill_value=&#x27;missing&#x27;,\n                                                                strategy=&#x27;constant&#x27;)),\n                                                 (&#x27;onehotencoder&#x27;,\n                                                  OneHotEncoder(handle_unknown=&#x27;ignore&#x27;))]),\n                                 [&#x27;luminosity&#x27;, &#x27;avg_rain&#x27;])])</pre></div></div></div><div class=\"sk-parallel\"><div class=\"sk-parallel-item\"><div class=\"sk-item\"><div class=\"sk-label-container\"><div class=\"sk-label sk-toggleable\"><input class=\"sk-toggleable__control sk-hidden--visually\" id=\"sk-estimator-id-5\" type=\"checkbox\" ><label for=\"sk-estimator-id-5\" class=\"sk-toggleable__label sk-toggleable__label-arrow\">pipeline-1</label><div class=\"sk-toggleable__content\"><pre>[&#x27;affected_roads&#x27;]</pre></div></div></div><div class=\"sk-serial\"><div class=\"sk-item\"><div class=\"sk-serial\"><div class=\"sk-item\"><div class=\"sk-estimator sk-toggleable\"><input class=\"sk-toggleable__control sk-hidden--visually\" id=\"sk-estimator-id-6\" type=\"checkbox\" ><label for=\"sk-estimator-id-6\" class=\"sk-toggleable__label sk-toggleable__label-arrow\">AffectedRoadsTransformer</label><div class=\"sk-toggleable__content\"><pre>AffectedRoadsTransformer()</pre></div></div></div></div></div></div></div></div><div class=\"sk-parallel-item\"><div class=\"sk-item\"><div class=\"sk-label-container\"><div class=\"sk-label sk-toggleable\"><input class=\"sk-toggleable__control sk-hidden--visually\" id=\"sk-estimator-id-7\" type=\"checkbox\" ><label for=\"sk-estimator-id-7\" class=\"sk-toggleable__label sk-toggleable__label-arrow\">pipeline-2</label><div class=\"sk-toggleable__content\"><pre>[&#x27;record_date&#x27;]</pre></div></div></div><div class=\"sk-serial\"><div class=\"sk-item\"><div class=\"sk-serial\"><div class=\"sk-item\"><div class=\"sk-estimator sk-toggleable\"><input class=\"sk-toggleable__control sk-hidden--visually\" id=\"sk-estimator-id-8\" type=\"checkbox\" ><label for=\"sk-estimator-id-8\" class=\"sk-toggleable__label sk-toggleable__label-arrow\">RecordDateTransformer</label><div class=\"sk-toggleable__content\"><pre>RecordDateTransformer()</pre></div></div></div></div></div></div></div></div><div class=\"sk-parallel-item\"><div class=\"sk-item\"><div class=\"sk-label-container\"><div class=\"sk-label sk-toggleable\"><input class=\"sk-toggleable__control sk-hidden--visually\" id=\"sk-estimator-id-9\" type=\"checkbox\" ><label for=\"sk-estimator-id-9\" class=\"sk-toggleable__label sk-toggleable__label-arrow\">pipeline-3</label><div class=\"sk-toggleable__content\"><pre>[&#x27;city_name&#x27;, &#x27;avg_precipitation&#x27;, &#x27;magnitude_of_delay&#x27;, &#x27;record_date&#x27;]</pre></div></div></div><div class=\"sk-serial\"><div class=\"sk-item\"><div class=\"sk-serial\"><div class=\"sk-item\"><div class=\"sk-estimator sk-toggleable\"><input class=\"sk-toggleable__control sk-hidden--visually\" id=\"sk-estimator-id-10\" type=\"checkbox\" ><label for=\"sk-estimator-id-10\" class=\"sk-toggleable__label sk-toggleable__label-arrow\">ColumnsRemovalTransformer</label><div class=\"sk-toggleable__content\"><pre>ColumnsRemovalTransformer()</pre></div></div></div></div></div></div></div></div><div class=\"sk-parallel-item\"><div class=\"sk-item\"><div class=\"sk-label-container\"><div class=\"sk-label sk-toggleable\"><input class=\"sk-toggleable__control sk-hidden--visually\" id=\"sk-estimator-id-11\" type=\"checkbox\" ><label for=\"sk-estimator-id-11\" class=\"sk-toggleable__label sk-toggleable__label-arrow\">pipeline-4</label><div class=\"sk-toggleable__content\"><pre>[&#x27;delay_in_seconds&#x27;, &#x27;avg_temperature&#x27;, &#x27;avg_atm_pressure&#x27;, &#x27;avg_humidity&#x27;, &#x27;avg_wind_speed&#x27;]</pre></div></div></div><div class=\"sk-serial\"><div class=\"sk-item\"><div class=\"sk-serial\"><div class=\"sk-item\"><div class=\"sk-estimator sk-toggleable\"><input class=\"sk-toggleable__control sk-hidden--visually\" id=\"sk-estimator-id-12\" type=\"checkbox\" ><label for=\"sk-estimator-id-12\" class=\"sk-toggleable__label sk-toggleable__label-arrow\">SimpleImputer</label><div class=\"sk-toggleable__content\"><pre>SimpleImputer(strategy=&#x27;median&#x27;)</pre></div></div></div><div class=\"sk-item\"><div class=\"sk-estimator sk-toggleable\"><input class=\"sk-toggleable__control sk-hidden--visually\" id=\"sk-estimator-id-13\" type=\"checkbox\" ><label for=\"sk-estimator-id-13\" class=\"sk-toggleable__label sk-toggleable__label-arrow\">MinMaxScaler</label><div class=\"sk-toggleable__content\"><pre>MinMaxScaler()</pre></div></div></div></div></div></div></div></div><div class=\"sk-parallel-item\"><div class=\"sk-item\"><div class=\"sk-label-container\"><div class=\"sk-label sk-toggleable\"><input class=\"sk-toggleable__control sk-hidden--visually\" id=\"sk-estimator-id-14\" type=\"checkbox\" ><label for=\"sk-estimator-id-14\" class=\"sk-toggleable__label sk-toggleable__label-arrow\">pipeline-5</label><div class=\"sk-toggleable__content\"><pre>[&#x27;luminosity&#x27;, &#x27;avg_rain&#x27;]</pre></div></div></div><div class=\"sk-serial\"><div class=\"sk-item\"><div class=\"sk-serial\"><div class=\"sk-item\"><div class=\"sk-estimator sk-toggleable\"><input class=\"sk-toggleable__control sk-hidden--visually\" id=\"sk-estimator-id-15\" type=\"checkbox\" ><label for=\"sk-estimator-id-15\" class=\"sk-toggleable__label sk-toggleable__label-arrow\">SimpleImputer</label><div class=\"sk-toggleable__content\"><pre>SimpleImputer(fill_value=&#x27;missing&#x27;, strategy=&#x27;constant&#x27;)</pre></div></div></div><div class=\"sk-item\"><div class=\"sk-estimator sk-toggleable\"><input class=\"sk-toggleable__control sk-hidden--visually\" id=\"sk-estimator-id-16\" type=\"checkbox\" ><label for=\"sk-estimator-id-16\" class=\"sk-toggleable__label sk-toggleable__label-arrow\">OneHotEncoder</label><div class=\"sk-toggleable__content\"><pre>OneHotEncoder(handle_unknown=&#x27;ignore&#x27;)</pre></div></div></div></div></div></div></div></div></div></div><div class=\"sk-item\"><div class=\"sk-estimator sk-toggleable\"><input class=\"sk-toggleable__control sk-hidden--visually\" id=\"sk-estimator-id-17\" type=\"checkbox\" ><label for=\"sk-estimator-id-17\" class=\"sk-toggleable__label sk-toggleable__label-arrow\">VarianceThreshold</label><div class=\"sk-toggleable__content\"><pre>VarianceThreshold()</pre></div></div></div></div></div><div class=\"sk-item\"><div class=\"sk-estimator sk-toggleable\"><input class=\"sk-toggleable__control sk-hidden--visually\" id=\"sk-estimator-id-18\" type=\"checkbox\" ><label for=\"sk-estimator-id-18\" class=\"sk-toggleable__label sk-toggleable__label-arrow\">RandomForestClassifier</label><div class=\"sk-toggleable__content\"><pre>RandomForestClassifier()</pre></div></div></div></div></div></div></div></div></div></div></div></div>"
     },
     "execution_count": 25,
     "metadata": {},
     "output_type": "execute_result"
    }
   ],
   "source": [
    "%%time\n",
    "rf_RandomGrid.fit(X_train, y_train)"
   ],
   "metadata": {
    "collapsed": false
   }
  },
  {
   "cell_type": "code",
   "execution_count": 26,
   "outputs": [
    {
     "data": {
      "text/plain": "1.0"
     },
     "execution_count": 26,
     "metadata": {},
     "output_type": "execute_result"
    }
   ],
   "source": [
    "rf_RandomGrid.score(X_train, y_train)"
   ],
   "metadata": {
    "collapsed": false
   }
  },
  {
   "cell_type": "code",
   "execution_count": 27,
   "outputs": [
    {
     "data": {
      "text/plain": "{'mean_fit_time': array([1.35969816, 1.67659901, 1.34374932, 0.99050012, 0.68334918,\n        0.13559951, 2.24194837, 2.98019947, 2.5046995 , 0.75274981,\n        0.84539882, 4.63024957, 1.16200007, 0.97285006, 2.9794497 ,\n        0.10054936, 3.09569937, 0.71529962, 0.67464972, 0.60764942,\n        0.98964955, 1.65734891, 0.10834894, 1.23209949, 2.04039958,\n        0.10864953, 2.43305014, 0.11725001, 1.15399951, 2.39454944,\n        0.57219987, 0.77419863, 3.04420015, 1.30004966, 2.19934981,\n        0.80210024, 1.42920027, 0.08354968, 2.78494858, 1.99949923,\n        3.03214976, 0.12949922, 1.01904873, 0.69364941, 0.42119966,\n        0.674649  , 0.67854997, 2.17269921, 1.12885023, 1.10459942]),\n 'std_fit_time': array([0.2163906 , 0.23204142, 0.19565844, 0.20941102, 0.11072537,\n        0.02359831, 0.36515194, 0.48857099, 0.24730215, 0.12207947,\n        0.13712213, 0.56591655, 0.16366145, 0.1545618 , 0.27994366,\n        0.02205703, 0.33178251, 0.11883005, 0.13081499, 0.11281387,\n        0.16319699, 0.27748462, 0.0257445 , 0.21939138, 0.2275886 ,\n        0.02135292, 0.3361907 , 0.02657982, 0.1327725 , 0.29842283,\n        0.10704496, 0.13054419, 0.49178017, 0.21161796, 0.27640886,\n        0.14816992, 0.2886041 , 0.01862645, 0.40988544, 0.28001218,\n        0.38979795, 0.02748989, 0.12780721, 0.11174447, 0.06471575,\n        0.11070557, 0.09223009, 0.24028144, 0.19095261, 0.15414759]),\n 'mean_score_time': array([0.05894994, 0.05905007, 0.04780061, 0.05185002, 0.03514981,\n        0.0189502 , 0.05090026, 0.08315012, 0.06729959, 0.0377002 ,\n        0.03495079, 0.09720043, 0.03339978, 0.05169966, 0.07860049,\n        0.01745042, 0.08714981, 0.0300002 , 0.03950056, 0.0337    ,\n        0.03535017, 0.06100134, 0.02105083, 0.05279969, 0.06874977,\n        0.01894982, 0.05649953, 0.02259994, 0.03600001, 0.05760043,\n        0.03134985, 0.03304986, 0.07339971, 0.03900048, 0.05715029,\n        0.03540004, 0.06445031, 0.0190498 , 0.08299978, 0.06055039,\n        0.07859999, 0.01975017, 0.0373502 , 0.03750042, 0.03335015,\n        0.0359004 , 0.03564991, 0.05590003, 0.06329931, 0.04025042]),\n 'std_score_time': array([0.01757959, 0.01966093, 0.01678556, 0.02187294, 0.00984485,\n        0.00506379, 0.01844373, 0.03116767, 0.02098086, 0.01429009,\n        0.0100921 , 0.03113935, 0.01123062, 0.02050148, 0.02747806,\n        0.00562578, 0.0293844 , 0.01059237, 0.01447549, 0.01199224,\n        0.01379926, 0.02316881, 0.00665123, 0.01761389, 0.02123183,\n        0.00494432, 0.02073521, 0.00788898, 0.00995483, 0.01768683,\n        0.01100097, 0.01083657, 0.0240905 , 0.01364566, 0.01723184,\n        0.01161212, 0.02561239, 0.00485312, 0.03163773, 0.01969673,\n        0.02304866, 0.00578657, 0.01170571, 0.01051894, 0.01031098,\n        0.01331104, 0.01140336, 0.01762646, 0.01794989, 0.01409924]),\n 'param_randomforestclassifier__n_estimators': masked_array(data=[255, 255, 255, 377, 132, 10, 255, 500, 255, 132, 132,\n                    500, 132, 377, 500, 10, 500, 132, 255, 132, 132, 377,\n                    10, 255, 377, 10, 255, 10, 132, 255, 132, 132, 377,\n                    132, 255, 132, 500, 10, 500, 255, 377, 10, 132, 132,\n                    132, 132, 132, 255, 377, 255],\n              mask=[False, False, False, False, False, False, False, False,\n                    False, False, False, False, False, False, False, False,\n                    False, False, False, False, False, False, False, False,\n                    False, False, False, False, False, False, False, False,\n                    False, False, False, False, False, False, False, False,\n                    False, False, False, False, False, False, False, False,\n                    False, False],\n        fill_value='?',\n             dtype=object),\n 'param_randomforestclassifier__min_samples_split': masked_array(data=[30, 30, 30, 5, 5, 5, 2, 30, 5, 30, 5, 5, 2, 5, 5, 2,\n                    30, 30, 2, 2, 5, 5, 2, 5, 30, 5, 5, 2, 30, 2, 2, 30,\n                    30, 2, 5, 30, 5, 30, 30, 5, 30, 5, 30, 2, 2, 2, 2, 30,\n                    2, 2],\n              mask=[False, False, False, False, False, False, False, False,\n                    False, False, False, False, False, False, False, False,\n                    False, False, False, False, False, False, False, False,\n                    False, False, False, False, False, False, False, False,\n                    False, False, False, False, False, False, False, False,\n                    False, False, False, False, False, False, False, False,\n                    False, False],\n        fill_value='?',\n             dtype=object),\n 'param_randomforestclassifier__min_samples_leaf': masked_array(data=[2, 1, 2, 2, 50, 2, 1, 1, 2, 50, 50, 2, 1, 50, 50, 1, 2,\n                    50, 2, 50, 1, 50, 2, 50, 2, 50, 2, 50, 1, 2, 50, 50, 2,\n                    1, 1, 1, 1, 2, 50, 2, 2, 2, 2, 50, 2, 1, 50, 2, 1, 50],\n              mask=[False, False, False, False, False, False, False, False,\n                    False, False, False, False, False, False, False, False,\n                    False, False, False, False, False, False, False, False,\n                    False, False, False, False, False, False, False, False,\n                    False, False, False, False, False, False, False, False,\n                    False, False, False, False, False, False, False, False,\n                    False, False],\n        fill_value='?',\n             dtype=object),\n 'param_randomforestclassifier__max_features': masked_array(data=['sqrt', 'sqrt', 'sqrt', 'sqrt', 'sqrt', 'sqrt', 'sqrt',\n                    'sqrt', 'sqrt', 'sqrt', 'sqrt', 'sqrt', 'sqrt', 'sqrt',\n                    'sqrt', 'sqrt', 'sqrt', 'sqrt', 'sqrt', 'sqrt', 'sqrt',\n                    'sqrt', 'sqrt', 'sqrt', 'sqrt', 'sqrt', 'sqrt', 'sqrt',\n                    'sqrt', 'sqrt', 'sqrt', 'sqrt', 'sqrt', 'sqrt', 'sqrt',\n                    'sqrt', 'sqrt', 'sqrt', 'sqrt', 'sqrt', 'sqrt', 'sqrt',\n                    'sqrt', 'sqrt', 'sqrt', 'sqrt', 'sqrt', 'sqrt', 'sqrt',\n                    'sqrt'],\n              mask=[False, False, False, False, False, False, False, False,\n                    False, False, False, False, False, False, False, False,\n                    False, False, False, False, False, False, False, False,\n                    False, False, False, False, False, False, False, False,\n                    False, False, False, False, False, False, False, False,\n                    False, False, False, False, False, False, False, False,\n                    False, False],\n        fill_value='?',\n             dtype=object),\n 'param_randomforestclassifier__max_depth': masked_array(data=[12, 30, 6, 2, 30, 50, 30, 12, 50, 6, 30, 20, 30, 2, 40,\n                    6, 40, 20, 2, 12, 12, 50, 6, 40, 6, 40, 20, 20, 12, 40,\n                    6, 40, 50, 50, 40, 50, 2, 2, 50, 40, 12, 50, 30, 20, 2,\n                    6, 50, 20, 2, 50],\n              mask=[False, False, False, False, False, False, False, False,\n                    False, False, False, False, False, False, False, False,\n                    False, False, False, False, False, False, False, False,\n                    False, False, False, False, False, False, False, False,\n                    False, False, False, False, False, False, False, False,\n                    False, False, False, False, False, False, False, False,\n                    False, False],\n        fill_value='?',\n             dtype=object),\n 'param_randomforestclassifier__criterion': masked_array(data=['gini', 'log_loss', 'entropy', 'gini', 'log_loss',\n                    'log_loss', 'entropy', 'log_loss', 'log_loss',\n                    'entropy', 'log_loss', 'log_loss', 'log_loss',\n                    'entropy', 'entropy', 'gini', 'log_loss', 'gini',\n                    'entropy', 'gini', 'gini', 'gini', 'entropy',\n                    'log_loss', 'log_loss', 'gini', 'entropy', 'gini',\n                    'log_loss', 'entropy', 'log_loss', 'gini', 'entropy',\n                    'log_loss', 'gini', 'gini', 'log_loss', 'entropy',\n                    'entropy', 'log_loss', 'entropy', 'log_loss', 'gini',\n                    'entropy', 'entropy', 'log_loss', 'gini', 'entropy',\n                    'log_loss', 'gini'],\n              mask=[False, False, False, False, False, False, False, False,\n                    False, False, False, False, False, False, False, False,\n                    False, False, False, False, False, False, False, False,\n                    False, False, False, False, False, False, False, False,\n                    False, False, False, False, False, False, False, False,\n                    False, False, False, False, False, False, False, False,\n                    False, False],\n        fill_value='?',\n             dtype=object),\n 'param_randomforestclassifier__bootstrap': masked_array(data=[True, True, False, True, True, False, False, True,\n                    False, False, False, False, False, False, False, False,\n                    True, False, False, True, False, True, True, True,\n                    False, False, False, False, False, False, True, False,\n                    False, False, False, True, True, True, True, True,\n                    False, True, False, True, False, True, True, False,\n                    False, True],\n              mask=[False, False, False, False, False, False, False, False,\n                    False, False, False, False, False, False, False, False,\n                    False, False, False, False, False, False, False, False,\n                    False, False, False, False, False, False, False, False,\n                    False, False, False, False, False, False, False, False,\n                    False, False, False, False, False, False, False, False,\n                    False, False],\n        fill_value='?',\n             dtype=object),\n 'params': [{'randomforestclassifier__n_estimators': 255,\n   'randomforestclassifier__min_samples_split': 30,\n   'randomforestclassifier__min_samples_leaf': 2,\n   'randomforestclassifier__max_features': 'sqrt',\n   'randomforestclassifier__max_depth': 12,\n   'randomforestclassifier__criterion': 'gini',\n   'randomforestclassifier__bootstrap': True},\n  {'randomforestclassifier__n_estimators': 255,\n   'randomforestclassifier__min_samples_split': 30,\n   'randomforestclassifier__min_samples_leaf': 1,\n   'randomforestclassifier__max_features': 'sqrt',\n   'randomforestclassifier__max_depth': 30,\n   'randomforestclassifier__criterion': 'log_loss',\n   'randomforestclassifier__bootstrap': True},\n  {'randomforestclassifier__n_estimators': 255,\n   'randomforestclassifier__min_samples_split': 30,\n   'randomforestclassifier__min_samples_leaf': 2,\n   'randomforestclassifier__max_features': 'sqrt',\n   'randomforestclassifier__max_depth': 6,\n   'randomforestclassifier__criterion': 'entropy',\n   'randomforestclassifier__bootstrap': False},\n  {'randomforestclassifier__n_estimators': 377,\n   'randomforestclassifier__min_samples_split': 5,\n   'randomforestclassifier__min_samples_leaf': 2,\n   'randomforestclassifier__max_features': 'sqrt',\n   'randomforestclassifier__max_depth': 2,\n   'randomforestclassifier__criterion': 'gini',\n   'randomforestclassifier__bootstrap': True},\n  {'randomforestclassifier__n_estimators': 132,\n   'randomforestclassifier__min_samples_split': 5,\n   'randomforestclassifier__min_samples_leaf': 50,\n   'randomforestclassifier__max_features': 'sqrt',\n   'randomforestclassifier__max_depth': 30,\n   'randomforestclassifier__criterion': 'log_loss',\n   'randomforestclassifier__bootstrap': True},\n  {'randomforestclassifier__n_estimators': 10,\n   'randomforestclassifier__min_samples_split': 5,\n   'randomforestclassifier__min_samples_leaf': 2,\n   'randomforestclassifier__max_features': 'sqrt',\n   'randomforestclassifier__max_depth': 50,\n   'randomforestclassifier__criterion': 'log_loss',\n   'randomforestclassifier__bootstrap': False},\n  {'randomforestclassifier__n_estimators': 255,\n   'randomforestclassifier__min_samples_split': 2,\n   'randomforestclassifier__min_samples_leaf': 1,\n   'randomforestclassifier__max_features': 'sqrt',\n   'randomforestclassifier__max_depth': 30,\n   'randomforestclassifier__criterion': 'entropy',\n   'randomforestclassifier__bootstrap': False},\n  {'randomforestclassifier__n_estimators': 500,\n   'randomforestclassifier__min_samples_split': 30,\n   'randomforestclassifier__min_samples_leaf': 1,\n   'randomforestclassifier__max_features': 'sqrt',\n   'randomforestclassifier__max_depth': 12,\n   'randomforestclassifier__criterion': 'log_loss',\n   'randomforestclassifier__bootstrap': True},\n  {'randomforestclassifier__n_estimators': 255,\n   'randomforestclassifier__min_samples_split': 5,\n   'randomforestclassifier__min_samples_leaf': 2,\n   'randomforestclassifier__max_features': 'sqrt',\n   'randomforestclassifier__max_depth': 50,\n   'randomforestclassifier__criterion': 'log_loss',\n   'randomforestclassifier__bootstrap': False},\n  {'randomforestclassifier__n_estimators': 132,\n   'randomforestclassifier__min_samples_split': 30,\n   'randomforestclassifier__min_samples_leaf': 50,\n   'randomforestclassifier__max_features': 'sqrt',\n   'randomforestclassifier__max_depth': 6,\n   'randomforestclassifier__criterion': 'entropy',\n   'randomforestclassifier__bootstrap': False},\n  {'randomforestclassifier__n_estimators': 132,\n   'randomforestclassifier__min_samples_split': 5,\n   'randomforestclassifier__min_samples_leaf': 50,\n   'randomforestclassifier__max_features': 'sqrt',\n   'randomforestclassifier__max_depth': 30,\n   'randomforestclassifier__criterion': 'log_loss',\n   'randomforestclassifier__bootstrap': False},\n  {'randomforestclassifier__n_estimators': 500,\n   'randomforestclassifier__min_samples_split': 5,\n   'randomforestclassifier__min_samples_leaf': 2,\n   'randomforestclassifier__max_features': 'sqrt',\n   'randomforestclassifier__max_depth': 20,\n   'randomforestclassifier__criterion': 'log_loss',\n   'randomforestclassifier__bootstrap': False},\n  {'randomforestclassifier__n_estimators': 132,\n   'randomforestclassifier__min_samples_split': 2,\n   'randomforestclassifier__min_samples_leaf': 1,\n   'randomforestclassifier__max_features': 'sqrt',\n   'randomforestclassifier__max_depth': 30,\n   'randomforestclassifier__criterion': 'log_loss',\n   'randomforestclassifier__bootstrap': False},\n  {'randomforestclassifier__n_estimators': 377,\n   'randomforestclassifier__min_samples_split': 5,\n   'randomforestclassifier__min_samples_leaf': 50,\n   'randomforestclassifier__max_features': 'sqrt',\n   'randomforestclassifier__max_depth': 2,\n   'randomforestclassifier__criterion': 'entropy',\n   'randomforestclassifier__bootstrap': False},\n  {'randomforestclassifier__n_estimators': 500,\n   'randomforestclassifier__min_samples_split': 5,\n   'randomforestclassifier__min_samples_leaf': 50,\n   'randomforestclassifier__max_features': 'sqrt',\n   'randomforestclassifier__max_depth': 40,\n   'randomforestclassifier__criterion': 'entropy',\n   'randomforestclassifier__bootstrap': False},\n  {'randomforestclassifier__n_estimators': 10,\n   'randomforestclassifier__min_samples_split': 2,\n   'randomforestclassifier__min_samples_leaf': 1,\n   'randomforestclassifier__max_features': 'sqrt',\n   'randomforestclassifier__max_depth': 6,\n   'randomforestclassifier__criterion': 'gini',\n   'randomforestclassifier__bootstrap': False},\n  {'randomforestclassifier__n_estimators': 500,\n   'randomforestclassifier__min_samples_split': 30,\n   'randomforestclassifier__min_samples_leaf': 2,\n   'randomforestclassifier__max_features': 'sqrt',\n   'randomforestclassifier__max_depth': 40,\n   'randomforestclassifier__criterion': 'log_loss',\n   'randomforestclassifier__bootstrap': True},\n  {'randomforestclassifier__n_estimators': 132,\n   'randomforestclassifier__min_samples_split': 30,\n   'randomforestclassifier__min_samples_leaf': 50,\n   'randomforestclassifier__max_features': 'sqrt',\n   'randomforestclassifier__max_depth': 20,\n   'randomforestclassifier__criterion': 'gini',\n   'randomforestclassifier__bootstrap': False},\n  {'randomforestclassifier__n_estimators': 255,\n   'randomforestclassifier__min_samples_split': 2,\n   'randomforestclassifier__min_samples_leaf': 2,\n   'randomforestclassifier__max_features': 'sqrt',\n   'randomforestclassifier__max_depth': 2,\n   'randomforestclassifier__criterion': 'entropy',\n   'randomforestclassifier__bootstrap': False},\n  {'randomforestclassifier__n_estimators': 132,\n   'randomforestclassifier__min_samples_split': 2,\n   'randomforestclassifier__min_samples_leaf': 50,\n   'randomforestclassifier__max_features': 'sqrt',\n   'randomforestclassifier__max_depth': 12,\n   'randomforestclassifier__criterion': 'gini',\n   'randomforestclassifier__bootstrap': True},\n  {'randomforestclassifier__n_estimators': 132,\n   'randomforestclassifier__min_samples_split': 5,\n   'randomforestclassifier__min_samples_leaf': 1,\n   'randomforestclassifier__max_features': 'sqrt',\n   'randomforestclassifier__max_depth': 12,\n   'randomforestclassifier__criterion': 'gini',\n   'randomforestclassifier__bootstrap': False},\n  {'randomforestclassifier__n_estimators': 377,\n   'randomforestclassifier__min_samples_split': 5,\n   'randomforestclassifier__min_samples_leaf': 50,\n   'randomforestclassifier__max_features': 'sqrt',\n   'randomforestclassifier__max_depth': 50,\n   'randomforestclassifier__criterion': 'gini',\n   'randomforestclassifier__bootstrap': True},\n  {'randomforestclassifier__n_estimators': 10,\n   'randomforestclassifier__min_samples_split': 2,\n   'randomforestclassifier__min_samples_leaf': 2,\n   'randomforestclassifier__max_features': 'sqrt',\n   'randomforestclassifier__max_depth': 6,\n   'randomforestclassifier__criterion': 'entropy',\n   'randomforestclassifier__bootstrap': True},\n  {'randomforestclassifier__n_estimators': 255,\n   'randomforestclassifier__min_samples_split': 5,\n   'randomforestclassifier__min_samples_leaf': 50,\n   'randomforestclassifier__max_features': 'sqrt',\n   'randomforestclassifier__max_depth': 40,\n   'randomforestclassifier__criterion': 'log_loss',\n   'randomforestclassifier__bootstrap': True},\n  {'randomforestclassifier__n_estimators': 377,\n   'randomforestclassifier__min_samples_split': 30,\n   'randomforestclassifier__min_samples_leaf': 2,\n   'randomforestclassifier__max_features': 'sqrt',\n   'randomforestclassifier__max_depth': 6,\n   'randomforestclassifier__criterion': 'log_loss',\n   'randomforestclassifier__bootstrap': False},\n  {'randomforestclassifier__n_estimators': 10,\n   'randomforestclassifier__min_samples_split': 5,\n   'randomforestclassifier__min_samples_leaf': 50,\n   'randomforestclassifier__max_features': 'sqrt',\n   'randomforestclassifier__max_depth': 40,\n   'randomforestclassifier__criterion': 'gini',\n   'randomforestclassifier__bootstrap': False},\n  {'randomforestclassifier__n_estimators': 255,\n   'randomforestclassifier__min_samples_split': 5,\n   'randomforestclassifier__min_samples_leaf': 2,\n   'randomforestclassifier__max_features': 'sqrt',\n   'randomforestclassifier__max_depth': 20,\n   'randomforestclassifier__criterion': 'entropy',\n   'randomforestclassifier__bootstrap': False},\n  {'randomforestclassifier__n_estimators': 10,\n   'randomforestclassifier__min_samples_split': 2,\n   'randomforestclassifier__min_samples_leaf': 50,\n   'randomforestclassifier__max_features': 'sqrt',\n   'randomforestclassifier__max_depth': 20,\n   'randomforestclassifier__criterion': 'gini',\n   'randomforestclassifier__bootstrap': False},\n  {'randomforestclassifier__n_estimators': 132,\n   'randomforestclassifier__min_samples_split': 30,\n   'randomforestclassifier__min_samples_leaf': 1,\n   'randomforestclassifier__max_features': 'sqrt',\n   'randomforestclassifier__max_depth': 12,\n   'randomforestclassifier__criterion': 'log_loss',\n   'randomforestclassifier__bootstrap': False},\n  {'randomforestclassifier__n_estimators': 255,\n   'randomforestclassifier__min_samples_split': 2,\n   'randomforestclassifier__min_samples_leaf': 2,\n   'randomforestclassifier__max_features': 'sqrt',\n   'randomforestclassifier__max_depth': 40,\n   'randomforestclassifier__criterion': 'entropy',\n   'randomforestclassifier__bootstrap': False},\n  {'randomforestclassifier__n_estimators': 132,\n   'randomforestclassifier__min_samples_split': 2,\n   'randomforestclassifier__min_samples_leaf': 50,\n   'randomforestclassifier__max_features': 'sqrt',\n   'randomforestclassifier__max_depth': 6,\n   'randomforestclassifier__criterion': 'log_loss',\n   'randomforestclassifier__bootstrap': True},\n  {'randomforestclassifier__n_estimators': 132,\n   'randomforestclassifier__min_samples_split': 30,\n   'randomforestclassifier__min_samples_leaf': 50,\n   'randomforestclassifier__max_features': 'sqrt',\n   'randomforestclassifier__max_depth': 40,\n   'randomforestclassifier__criterion': 'gini',\n   'randomforestclassifier__bootstrap': False},\n  {'randomforestclassifier__n_estimators': 377,\n   'randomforestclassifier__min_samples_split': 30,\n   'randomforestclassifier__min_samples_leaf': 2,\n   'randomforestclassifier__max_features': 'sqrt',\n   'randomforestclassifier__max_depth': 50,\n   'randomforestclassifier__criterion': 'entropy',\n   'randomforestclassifier__bootstrap': False},\n  {'randomforestclassifier__n_estimators': 132,\n   'randomforestclassifier__min_samples_split': 2,\n   'randomforestclassifier__min_samples_leaf': 1,\n   'randomforestclassifier__max_features': 'sqrt',\n   'randomforestclassifier__max_depth': 50,\n   'randomforestclassifier__criterion': 'log_loss',\n   'randomforestclassifier__bootstrap': False},\n  {'randomforestclassifier__n_estimators': 255,\n   'randomforestclassifier__min_samples_split': 5,\n   'randomforestclassifier__min_samples_leaf': 1,\n   'randomforestclassifier__max_features': 'sqrt',\n   'randomforestclassifier__max_depth': 40,\n   'randomforestclassifier__criterion': 'gini',\n   'randomforestclassifier__bootstrap': False},\n  {'randomforestclassifier__n_estimators': 132,\n   'randomforestclassifier__min_samples_split': 30,\n   'randomforestclassifier__min_samples_leaf': 1,\n   'randomforestclassifier__max_features': 'sqrt',\n   'randomforestclassifier__max_depth': 50,\n   'randomforestclassifier__criterion': 'gini',\n   'randomforestclassifier__bootstrap': True},\n  {'randomforestclassifier__n_estimators': 500,\n   'randomforestclassifier__min_samples_split': 5,\n   'randomforestclassifier__min_samples_leaf': 1,\n   'randomforestclassifier__max_features': 'sqrt',\n   'randomforestclassifier__max_depth': 2,\n   'randomforestclassifier__criterion': 'log_loss',\n   'randomforestclassifier__bootstrap': True},\n  {'randomforestclassifier__n_estimators': 10,\n   'randomforestclassifier__min_samples_split': 30,\n   'randomforestclassifier__min_samples_leaf': 2,\n   'randomforestclassifier__max_features': 'sqrt',\n   'randomforestclassifier__max_depth': 2,\n   'randomforestclassifier__criterion': 'entropy',\n   'randomforestclassifier__bootstrap': True},\n  {'randomforestclassifier__n_estimators': 500,\n   'randomforestclassifier__min_samples_split': 30,\n   'randomforestclassifier__min_samples_leaf': 50,\n   'randomforestclassifier__max_features': 'sqrt',\n   'randomforestclassifier__max_depth': 50,\n   'randomforestclassifier__criterion': 'entropy',\n   'randomforestclassifier__bootstrap': True},\n  {'randomforestclassifier__n_estimators': 255,\n   'randomforestclassifier__min_samples_split': 5,\n   'randomforestclassifier__min_samples_leaf': 2,\n   'randomforestclassifier__max_features': 'sqrt',\n   'randomforestclassifier__max_depth': 40,\n   'randomforestclassifier__criterion': 'log_loss',\n   'randomforestclassifier__bootstrap': True},\n  {'randomforestclassifier__n_estimators': 377,\n   'randomforestclassifier__min_samples_split': 30,\n   'randomforestclassifier__min_samples_leaf': 2,\n   'randomforestclassifier__max_features': 'sqrt',\n   'randomforestclassifier__max_depth': 12,\n   'randomforestclassifier__criterion': 'entropy',\n   'randomforestclassifier__bootstrap': False},\n  {'randomforestclassifier__n_estimators': 10,\n   'randomforestclassifier__min_samples_split': 5,\n   'randomforestclassifier__min_samples_leaf': 2,\n   'randomforestclassifier__max_features': 'sqrt',\n   'randomforestclassifier__max_depth': 50,\n   'randomforestclassifier__criterion': 'log_loss',\n   'randomforestclassifier__bootstrap': True},\n  {'randomforestclassifier__n_estimators': 132,\n   'randomforestclassifier__min_samples_split': 30,\n   'randomforestclassifier__min_samples_leaf': 2,\n   'randomforestclassifier__max_features': 'sqrt',\n   'randomforestclassifier__max_depth': 30,\n   'randomforestclassifier__criterion': 'gini',\n   'randomforestclassifier__bootstrap': False},\n  {'randomforestclassifier__n_estimators': 132,\n   'randomforestclassifier__min_samples_split': 2,\n   'randomforestclassifier__min_samples_leaf': 50,\n   'randomforestclassifier__max_features': 'sqrt',\n   'randomforestclassifier__max_depth': 20,\n   'randomforestclassifier__criterion': 'entropy',\n   'randomforestclassifier__bootstrap': True},\n  {'randomforestclassifier__n_estimators': 132,\n   'randomforestclassifier__min_samples_split': 2,\n   'randomforestclassifier__min_samples_leaf': 2,\n   'randomforestclassifier__max_features': 'sqrt',\n   'randomforestclassifier__max_depth': 2,\n   'randomforestclassifier__criterion': 'entropy',\n   'randomforestclassifier__bootstrap': False},\n  {'randomforestclassifier__n_estimators': 132,\n   'randomforestclassifier__min_samples_split': 2,\n   'randomforestclassifier__min_samples_leaf': 1,\n   'randomforestclassifier__max_features': 'sqrt',\n   'randomforestclassifier__max_depth': 6,\n   'randomforestclassifier__criterion': 'log_loss',\n   'randomforestclassifier__bootstrap': True},\n  {'randomforestclassifier__n_estimators': 132,\n   'randomforestclassifier__min_samples_split': 2,\n   'randomforestclassifier__min_samples_leaf': 50,\n   'randomforestclassifier__max_features': 'sqrt',\n   'randomforestclassifier__max_depth': 50,\n   'randomforestclassifier__criterion': 'gini',\n   'randomforestclassifier__bootstrap': True},\n  {'randomforestclassifier__n_estimators': 255,\n   'randomforestclassifier__min_samples_split': 30,\n   'randomforestclassifier__min_samples_leaf': 2,\n   'randomforestclassifier__max_features': 'sqrt',\n   'randomforestclassifier__max_depth': 20,\n   'randomforestclassifier__criterion': 'entropy',\n   'randomforestclassifier__bootstrap': False},\n  {'randomforestclassifier__n_estimators': 377,\n   'randomforestclassifier__min_samples_split': 2,\n   'randomforestclassifier__min_samples_leaf': 1,\n   'randomforestclassifier__max_features': 'sqrt',\n   'randomforestclassifier__max_depth': 2,\n   'randomforestclassifier__criterion': 'log_loss',\n   'randomforestclassifier__bootstrap': False},\n  {'randomforestclassifier__n_estimators': 255,\n   'randomforestclassifier__min_samples_split': 2,\n   'randomforestclassifier__min_samples_leaf': 50,\n   'randomforestclassifier__max_features': 'sqrt',\n   'randomforestclassifier__max_depth': 50,\n   'randomforestclassifier__criterion': 'gini',\n   'randomforestclassifier__bootstrap': True}],\n 'split0_test_score': array([0.9549632 , 0.95206913, 0.84845787, 0.64937791, 0.82599983,\n        0.9745674 , 0.98297787, 0.95488603, 0.98301811, 0.82318293,\n        0.85135195, 0.98301811, 0.98297787, 0.70374742, 0.85416885,\n        0.82337091, 0.95206913, 0.85980265, 0.72022601, 0.83167057,\n        0.98583501, 0.83167057, 0.81492351, 0.82314269, 0.82873956,\n        0.84833715, 0.98301811, 0.84282076, 0.96056007, 0.98301811,\n        0.82326011, 0.86257931, 0.96337697, 0.98579477, 0.98583501,\n        0.96337697, 0.70625231, 0.62508586, 0.82599983, 0.98020121,\n        0.96337697, 0.96900747, 0.96619388, 0.83445054, 0.67275158,\n        0.84560404, 0.83167057, 0.96056007, 0.70645021, 0.82591935]),\n 'split1_test_score': array([0.90726386, 0.92131143, 0.81206968, 0.57636008, 0.82310245,\n        0.9775789 , 0.98591219, 0.9129379 , 0.98595243, 0.76711337,\n        0.84278383, 0.9832127 , 0.98595243, 0.64223533, 0.842861  ,\n        0.81804581, 0.92123425, 0.84011797, 0.65343238, 0.81218048,\n        0.96912489, 0.82619112, 0.80099336, 0.82897109, 0.80925278,\n        0.85123122, 0.97765607, 0.80372647, 0.93543618, 0.9832127 ,\n        0.77004768, 0.84015821, 0.93825308, 0.9860296 , 0.98309528,\n        0.92127119, 0.6452132 , 0.49554863, 0.82048014, 0.96353132,\n        0.935359  , 0.9717505 , 0.94936633, 0.81492351, 0.6340597 ,\n        0.81770348, 0.81761969, 0.94091563, 0.61676911, 0.8260737 ]),\n 'split2_test_score': array([0.79616052, 0.83325322, 0.77192194, 0.53588324, 0.76698933,\n        0.87296822, 0.95757559, 0.84178771, 0.92638516, 0.77806896,\n        0.79734462, 0.93499683, 0.95178413, 0.52839007, 0.82572145,\n        0.66436372, 0.8333337 , 0.74611725, 0.55962405, 0.70405832,\n        0.86099611, 0.72960833, 0.80627822, 0.74972906, 0.78902125,\n        0.74365591, 0.94063063, 0.73520851, 0.8983738 , 0.95209945,\n        0.74430308, 0.74048676, 0.87547973, 0.95471845, 0.92631129,\n        0.81881646, 0.54220281, 0.54220942, 0.7669524 , 0.91238114,\n        0.86452413, 0.79385022, 0.87579504, 0.78108046, 0.51915438,\n        0.75188501, 0.69853863, 0.88115377, 0.54255506, 0.74373639]),\n 'split3_test_score': array([0.89290758, 0.91258896, 0.80361897, 0.59061217, 0.80624128,\n        0.93520465, 0.96619057, 0.90413825, 0.95210606, 0.78671757,\n        0.83147929, 0.94928916, 0.96619057, 0.61970012, 0.83429619,\n        0.8008357 , 0.91258896, 0.81453433, 0.62529699, 0.79215347,\n        0.95210606, 0.8033439 , 0.80909843, 0.8091756 , 0.80064772,\n        0.80905488, 0.95773986, 0.8064695 , 0.92103966, 0.95210606,\n        0.78413219, 0.81437667, 0.92389681, 0.96619057, 0.95773986,\n        0.9069954 , 0.6447099 , 0.63554808, 0.8119925 , 0.94928916,\n        0.9210799 , 0.93227033, 0.92671371, 0.80377332, 0.62224194,\n        0.80361897, 0.80905818, 0.92389681, 0.63320416, 0.8033439 ]),\n 'split4_test_score': array([0.89904468, 0.90738127, 0.80377332, 0.59589703, 0.77594995,\n        0.95781704, 0.97460434, 0.90182465, 0.97186461, 0.7561947 ,\n        0.80952124, 0.96904771, 0.97460434, 0.62533723, 0.81507786,\n        0.78972575, 0.90738127, 0.81781759, 0.63378793, 0.78412888,\n        0.96345084, 0.79539649, 0.77853201, 0.80107053, 0.8010336 ,\n        0.80952124, 0.9717472 , 0.82896778, 0.92976213, 0.97186461,\n        0.7365905 , 0.81503762, 0.92424575, 0.97186461, 0.97186461,\n        0.91019818, 0.63081337, 0.53157796, 0.79825363, 0.95500014,\n        0.92146578, 0.94134175, 0.9185717 , 0.77876685, 0.61089055,\n        0.80647281, 0.79253935, 0.92138861, 0.63652766, 0.79257959]),\n 'split5_test_score': array([0.90163336, 0.90734434, 0.77818969, 0.57843885, 0.78405502,\n        0.97480224, 0.98880957, 0.91274662, 0.98599267, 0.7474353 ,\n        0.82052038, 0.98317577, 0.98880957, 0.63930763, 0.82333728,\n        0.7251283 , 0.91842066, 0.80369284, 0.62780188, 0.78115763,\n        0.98035887, 0.77552383, 0.77254927, 0.76715361, 0.78953447,\n        0.80060748, 0.98317577, 0.77806896, 0.92968827, 0.98325294,\n        0.74735481, 0.80353849, 0.92687137, 0.99162647, 0.98599267,\n        0.91564069, 0.61649073, 0.60753342, 0.77278741, 0.96341722,\n        0.93813897, 0.97468482, 0.9436956 , 0.76715361, 0.63371076,\n        0.76989333, 0.78115763, 0.93536231, 0.63069926, 0.78960833]),\n 'split6_test_score': array([0.9154461 , 0.92112015, 0.82040627, 0.62610788, 0.80631846,\n        0.97182768, 0.97738431, 0.92112015, 0.97738431, 0.78108376,\n        0.84845787, 0.97742455, 0.98024145, 0.61973374, 0.84845787,\n        0.76961495, 0.92112015, 0.83996692, 0.64247347, 0.80600645,\n        0.9717472 , 0.79485295, 0.75313966, 0.8091756 , 0.81183815,\n        0.82005072, 0.97738431, 0.84556049, 0.93238775, 0.97742455,\n        0.76707643, 0.83996692, 0.92961109, 0.98024145, 0.98305835,\n        0.91830324, 0.64212122, 0.47866376, 0.80064772, 0.96337697,\n        0.93520465, 0.95210606, 0.93234751, 0.80651305, 0.65057523,\n        0.81457788, 0.81179791, 0.93242799, 0.62486095, 0.81461481]),\n 'split7_test_score': array([0.90174416, 0.91289435, 0.78436041, 0.55695708, 0.75086629,\n        0.96897054, 0.9745674 , 0.90170392, 0.96901078, 0.74804939,\n        0.80982663, 0.96901078, 0.9717505 , 0.6081172 , 0.81550068,\n        0.77297208, 0.90174416, 0.81256636, 0.61672887, 0.78443428,\n        0.9661167 , 0.76745239, 0.7755977 , 0.78439734, 0.78154351,\n        0.78987018, 0.97182768, 0.79006477, 0.93547642, 0.97464458,\n        0.72531959, 0.81252612, 0.94111022, 0.9717505 , 0.9717505 ,\n        0.90745514, 0.61418373, 0.6004851 , 0.77606406, 0.95782035,\n        0.92991979, 0.95214299, 0.93539594, 0.77328409, 0.60866404,\n        0.78436041, 0.76760674, 0.94111022, 0.61387172, 0.78725118]),\n 'split8_test_score': array([0.90143215, 0.91825639, 0.80905488, 0.57941181, 0.80920923,\n        0.98031862, 0.98328988, 0.91547973, 0.97483917, 0.76421598,\n        0.82337091, 0.97209945, 0.98328988, 0.63632645, 0.82892754,\n        0.76745239, 0.91000028, 0.83691188, 0.62799316, 0.79508448,\n        0.98047297, 0.79790138, 0.79786445, 0.78949092, 0.78667402,\n        0.81734462, 0.97209945, 0.81202282, 0.92119071, 0.97491635,\n        0.77274386, 0.82877319, 0.94083515, 0.98328988, 0.98047297,\n        0.91262258, 0.6361721 , 0.53624597, 0.79234806, 0.96646564,\n        0.92667016, 0.94948375, 0.9351611 , 0.78111739, 0.64509578,\n        0.80909512, 0.81202613, 0.93238444, 0.63085031, 0.78949092]),\n 'split9_test_score': array([0.92115046, 0.92400761, 0.81179791, 0.60874342, 0.81739147,\n        0.97166671, 0.98289738, 0.92115046, 0.9830148 , 0.78096635,\n        0.85667043, 0.9801979 , 0.9801979 , 0.62162454, 0.85389377,\n        0.83726413, 0.92682451, 0.8482969 , 0.62142995, 0.82587911,\n        0.97166671, 0.81449409, 0.79199912, 0.82298503, 0.80327003,\n        0.82008434, 0.9830148 , 0.85408837, 0.94361181, 0.97734076,\n        0.75839089, 0.84817949, 0.94361181, 0.98008048, 0.9801979 ,\n        0.92968165, 0.61869022, 0.54312395, 0.82020837, 0.96321601,\n        0.93793776, 0.97726358, 0.94376616, 0.82009096, 0.55358948,\n        0.8146115 , 0.82576169, 0.94924561, 0.63281828, 0.81449409]),\n 'split10_test_score': array([0.92405446, 0.92694854, 0.82024861, 0.63964554, 0.82881674,\n        0.96067418, 0.96912489, 0.92694854, 0.96067418, 0.80620435,\n        0.8456779 , 0.96349108, 0.97483917, 0.62459249, 0.84552355,\n        0.82032579, 0.92694854, 0.84540283, 0.66145035, 0.81453102,\n        0.95785728, 0.81167719, 0.78914528, 0.82044321, 0.81747196,\n        0.82548662, 0.96630798, 0.83699237, 0.93821615, 0.96353132,\n        0.7948965 , 0.85103994, 0.94103305, 0.96916513, 0.96630798,\n        0.92686806, 0.63902594, 0.66336815, 0.81750889, 0.96067418,\n        0.93821615, 0.94940658, 0.93821615, 0.81476916, 0.57670847,\n        0.82584548, 0.80882004, 0.94384995, 0.63655798, 0.8089777 ]),\n 'split11_test_score': array([0.91888371, 0.92991979, 0.83499407, 0.61534026, 0.83781098,\n        0.98591219, 0.9888465 , 0.92725724, 0.99158623, 0.8321    ,\n        0.87693889, 0.99158623, 0.98610678, 0.64544472, 0.86879689,\n        0.82036272, 0.9215832 , 0.85474932, 0.65374108, 0.84359913,\n        0.98043273, 0.84633886, 0.82916568, 0.84062788, 0.8292831 ,\n        0.86590281, 0.99158623, 0.84359582, 0.95793446, 0.9888465 ,\n        0.80956479, 0.85474932, 0.95785728, 0.9888465 , 0.9888465 ,\n        0.93289104, 0.6648174 , 0.62192994, 0.84907858, 0.98309528,\n        0.94658968, 0.9607916 , 0.94666685, 0.8377338 , 0.62854662,\n        0.84062788, 0.84352195, 0.95785728, 0.65100135, 0.83796533]),\n 'split12_test_score': array([0.92949807, 0.92092664, 0.80185328, 0.60248736, 0.80517375,\n        0.95228126, 0.97760618, 0.91521236, 0.97490347, 0.78772201,\n        0.82756757, 0.96918919, 0.96617761, 0.65687422, 0.836139  ,\n        0.76807113, 0.92092664, 0.8222024 , 0.66000653, 0.78807113,\n        0.97204633, 0.7993855 , 0.78884333, 0.80216216, 0.80169884,\n        0.82536843, 0.96922943, 0.81649464, 0.93235521, 0.96648649,\n        0.77363098, 0.82776225, 0.94092664, 0.97478928, 0.97474903,\n        0.92953831, 0.65417152, 0.63174398, 0.80787645, 0.96876611,\n        0.9380695 , 0.95177769, 0.94378378, 0.80501931, 0.63702866,\n        0.82169884, 0.80239709, 0.9380695 , 0.65131437, 0.79652836]),\n 'split13_test_score': array([0.93521236, 0.95173745, 0.81660232, 0.62519006, 0.8396139 ,\n        0.98316602, 0.98316602, 0.94633205, 0.98316602, 0.81378542,\n        0.85104247, 0.98316602, 0.98316602, 0.64892055, 0.85675676,\n        0.78571755, 0.94888031, 0.84266572, 0.6434749 , 0.81996302,\n        0.97173745, 0.83695144, 0.796797  , 0.83976834, 0.81945946,\n        0.84266572, 0.98030888, 0.85648812, 0.96316602, 0.97745174,\n        0.7969112 , 0.85405405, 0.96316602, 0.98316602, 0.98316602,\n        0.94918919, 0.65444015, 0.48651259, 0.83119691, 0.97459459,\n        0.96030888, 0.97177769, 0.96602317, 0.83420849, 0.58888683,\n        0.81945946, 0.81714612, 0.96316602, 0.62629833, 0.8340943 ]),\n 'split14_test_score': array([0.93498396, 0.93482952, 0.82953831, 0.62215129, 0.83560172,\n        0.98305182, 0.98305182, 0.9433607 , 0.98586873, 0.80177932,\n        0.86703029, 0.98872587, 0.98586873, 0.6095046 , 0.86973299,\n        0.79606504, 0.9405438 , 0.86139649, 0.61521888, 0.81317418,\n        0.98872587, 0.8356822 , 0.80417967, 0.82703029, 0.82714449,\n        0.82170537, 0.98586873, 0.82707053, 0.96305182, 0.98586873,\n        0.79270433, 0.86128229, 0.96019468, 0.98019468, 0.98586873,\n        0.93482952, 0.6204296 , 0.59146881, 0.83826418, 0.98301158,\n        0.95733754, 0.97714286, 0.9544804 , 0.82699005, 0.61221382,\n        0.80988743, 0.82124205, 0.9544804 , 0.62344771, 0.82436783]),\n 'split15_test_score': array([0.93540704, 0.94397847, 0.81980858, 0.67314373, 0.80594595,\n        0.98030888, 0.98320626, 0.93552124, 0.98590897, 0.78594595,\n        0.83695144, 0.98034912, 0.98316602, 0.64949807, 0.83166023,\n        0.80251128, 0.93552124, 0.84011746, 0.64953831, 0.80583175,\n        0.97463484, 0.80312904, 0.77231823, 0.80328348, 0.81420849,\n        0.83749524, 0.98320626, 0.85154603, 0.95266409, 0.98019468,\n        0.76915221, 0.82587199, 0.95505792, 0.98586873, 0.98320626,\n        0.94108108, 0.64938387, 0.53378542, 0.81451737, 0.9772973 ,\n        0.94980695, 0.98030888, 0.9579553 , 0.81154603, 0.64949807,\n        0.81424874, 0.817455  , 0.9580695 , 0.64185328, 0.8002719 ]),\n 'split16_test_score': array([0.92668117, 0.93235521, 0.83336234, 0.63716896, 0.81923106,\n        0.97463484, 0.97749198, 0.93224101, 0.97463484, 0.79382566,\n        0.86224265, 0.97463484, 0.98034912, 0.67239545, 0.85652836,\n        0.79722008, 0.92953831, 0.86193376, 0.65526565, 0.8193855 ,\n        0.97177769, 0.81652836, 0.8194997 , 0.82795693, 0.82764805,\n        0.85664256, 0.97463484, 0.83085432, 0.94903475, 0.97463484,\n        0.79699168, 0.86448203, 0.9407722 , 0.97749198, 0.97749198,\n        0.92652673, 0.66379031, 0.55699494, 0.81953994, 0.97459459,\n        0.94332046, 0.96637229, 0.94617761, 0.82239709, 0.67509816,\n        0.8387275 , 0.81096851, 0.95173745, 0.67509816, 0.82224265]),\n 'split17_test_score': array([0.92722497, 0.94116156, 0.84529447, 0.66022078, 0.83166676,\n        0.96606341, 0.98590897, 0.92992767, 0.97764642, 0.81151232,\n        0.85406058, 0.98305182, 0.98305182, 0.64317255, 0.85406058,\n        0.817455  , 0.93533308, 0.86498559, 0.68332699, 0.82846049,\n        0.97749198, 0.82846049, 0.79178096, 0.82595247, 0.83436946,\n        0.85379194, 0.98590897, 0.84267225, 0.94930991, 0.98590897,\n        0.8145239 , 0.87065963, 0.96069824, 0.98305182, 0.98305182,\n        0.92147044, 0.68633857, 0.61840448, 0.82610691, 0.97478928,\n        0.9551384 , 0.96340095, 0.95212681, 0.83147208, 0.66826907,\n        0.84274621, 0.84290065, 0.9605438 , 0.68877264, 0.84575779]),\n 'split18_test_score': array([0.85220077, 0.88648649, 0.78169884, 0.50586873, 0.81915058,\n        0.88602317, 0.92046332, 0.88393822, 0.93189189, 0.80772201,\n        0.836139  , 0.94046332, 0.92316602, 0.51861004, 0.83027027,\n        0.65266409, 0.88934363, 0.78471042, 0.53305019, 0.76123552,\n        0.83220077, 0.76185328, 0.79945946, 0.81027027, 0.8188417 ,\n        0.81552124, 0.93204633, 0.74409266, 0.8780695 , 0.95760618,\n        0.78216216, 0.81312741, 0.87490347, 0.95474903, 0.89474903,\n        0.80679537, 0.53861004, 0.48432432, 0.81328185, 0.91204633,\n        0.88378378, 0.84108108, 0.78965251, 0.79930502, 0.56162162,\n        0.83328185, 0.73042471, 0.89220077, 0.54733591, 0.76756757]),\n 'split19_test_score': array([0.95459459, 0.95189189, 0.81915058, 0.5834749 , 0.81644788,\n        0.99142857, 0.98316602, 0.95173745, 0.98857143, 0.80532819,\n        0.8788417 , 0.98857143, 0.98857143, 0.65142857, 0.86501931,\n        0.7823166 , 0.95745174, 0.87359073, 0.64316602, 0.80833977,\n        0.98586873, 0.8196139 , 0.79374517, 0.82216216, 0.81359073,\n        0.85042471, 0.98301158, 0.83135135, 0.96301158, 0.98857143,\n        0.78517375, 0.86756757, 0.97158301, 0.98872587, 0.98586873,\n        0.96872587, 0.65142857, 0.6434749 , 0.81644788, 0.98301158,\n        0.96586873, 0.96903475, 0.96602317, 0.83057915, 0.66030888,\n        0.82756757, 0.82532819, 0.96872587, 0.64934363, 0.81945946]),\n 'mean_test_score': array([0.91152436, 0.92152312, 0.81231012, 0.60312405, 0.81027913,\n        0.96246332, 0.97631205, 0.9190126 , 0.97322101, 0.78894768,\n        0.84139098, 0.97323509, 0.97601307, 0.62824805, 0.84283652,\n        0.78057415, 0.92053938, 0.83357897, 0.63635168, 0.80096726,\n        0.96073245, 0.80480277, 0.79429551, 0.81024743, 0.81026357,\n        0.82523812, 0.97352016, 0.81890783, 0.93771702, 0.97494905,\n        0.77724653, 0.83481096, 0.93867422, 0.97788179, 0.97248123,\n        0.91711386, 0.63596428, 0.57140148, 0.81097765, 0.963329  ,\n        0.93560586, 0.94724979, 0.93440564, 0.8087587 , 0.62044568,\n        0.81459568, 0.80339904, 0.9403573 , 0.6329815 , 0.80721726]),\n 'std_test_score': array([0.03477517, 0.02611927, 0.0208345 , 0.04058794, 0.02352441,\n        0.03041846, 0.01492544, 0.02501687, 0.01743382, 0.0235412 ,\n        0.02175314, 0.01529239, 0.01503562, 0.04107705, 0.01653961,\n        0.04792782, 0.02593273, 0.02999196, 0.03845509, 0.02966201,\n        0.03933952, 0.02825769, 0.01752652, 0.02278202, 0.0152869 ,\n        0.02738393, 0.0146603 , 0.03354483, 0.02148587, 0.01100549,\n        0.02544654, 0.02982601, 0.02513575, 0.01021524, 0.02251285,\n        0.03847221, 0.0387783 , 0.05781244, 0.02078562, 0.01949283,\n        0.02430962, 0.04568369, 0.03858427, 0.02170297, 0.04126759,\n        0.02326572, 0.03488336, 0.02212823, 0.03719421, 0.02414093]),\n 'rank_test_score': array([22, 18, 30, 49, 32, 10,  2, 20,  7, 41, 24,  6,  3, 47, 23, 42, 19,\n        26, 44, 39, 11, 37, 40, 34, 33, 27,  5, 28, 15,  4, 43, 25, 14,  1,\n         8, 21, 45, 50, 31,  9, 16, 12, 17, 35, 48, 29, 38, 13, 46, 36])}"
     },
     "execution_count": 27,
     "metadata": {},
     "output_type": "execute_result"
    }
   ],
   "source": [
    "rf_RandomGrid.cv_results_"
   ],
   "metadata": {
    "collapsed": false
   }
  },
  {
   "cell_type": "code",
   "execution_count": 28,
   "outputs": [
    {
     "data": {
      "text/plain": "0.977881791303169"
     },
     "execution_count": 28,
     "metadata": {},
     "output_type": "execute_result"
    }
   ],
   "source": [
    "rf_RandomGrid.best_score_"
   ],
   "metadata": {
    "collapsed": false
   }
  },
  {
   "cell_type": "code",
   "execution_count": 29,
   "outputs": [
    {
     "data": {
      "text/plain": "{'randomforestclassifier__n_estimators': 132,\n 'randomforestclassifier__min_samples_split': 2,\n 'randomforestclassifier__min_samples_leaf': 1,\n 'randomforestclassifier__max_features': 'sqrt',\n 'randomforestclassifier__max_depth': 50,\n 'randomforestclassifier__criterion': 'log_loss',\n 'randomforestclassifier__bootstrap': False}"
     },
     "execution_count": 29,
     "metadata": {},
     "output_type": "execute_result"
    }
   ],
   "source": [
    "rf_RandomGrid.best_params_"
   ],
   "metadata": {
    "collapsed": false
   }
  },
  {
   "cell_type": "code",
   "execution_count": 30,
   "outputs": [
    {
     "data": {
      "text/plain": "Pipeline(steps=[('pipeline',\n                 Pipeline(steps=[('columntransformer',\n                                  ColumnTransformer(transformers=[('pipeline-1',\n                                                                   Pipeline(steps=[('affectedroadstransformer',\n                                                                                    AffectedRoadsTransformer())]),\n                                                                   ['affected_roads']),\n                                                                  ('pipeline-2',\n                                                                   Pipeline(steps=[('recorddatetransformer',\n                                                                                    RecordDateTransformer())]),\n                                                                   ['record_date']),\n                                                                  ('pipeline-3',\n                                                                   Pipeline(steps=[('columnsremoval...\n                                                                  ('pipeline-5',\n                                                                   Pipeline(steps=[('simpleimputer',\n                                                                                    SimpleImputer(fill_value='missing',\n                                                                                                  strategy='constant')),\n                                                                                   ('onehotencoder',\n                                                                                    OneHotEncoder(handle_unknown='ignore'))]),\n                                                                   ['luminosity',\n                                                                    'avg_rain'])])),\n                                 ('variancethreshold', VarianceThreshold())])),\n                ('randomforestclassifier',\n                 RandomForestClassifier(bootstrap=False, criterion='log_loss',\n                                        max_depth=50, n_estimators=132))])",
      "text/html": "<style>#sk-container-id-2 {color: black;background-color: white;}#sk-container-id-2 pre{padding: 0;}#sk-container-id-2 div.sk-toggleable {background-color: white;}#sk-container-id-2 label.sk-toggleable__label {cursor: pointer;display: block;width: 100%;margin-bottom: 0;padding: 0.3em;box-sizing: border-box;text-align: center;}#sk-container-id-2 label.sk-toggleable__label-arrow:before {content: \"▸\";float: left;margin-right: 0.25em;color: #696969;}#sk-container-id-2 label.sk-toggleable__label-arrow:hover:before {color: black;}#sk-container-id-2 div.sk-estimator:hover label.sk-toggleable__label-arrow:before {color: black;}#sk-container-id-2 div.sk-toggleable__content {max-height: 0;max-width: 0;overflow: hidden;text-align: left;background-color: #f0f8ff;}#sk-container-id-2 div.sk-toggleable__content pre {margin: 0.2em;color: black;border-radius: 0.25em;background-color: #f0f8ff;}#sk-container-id-2 input.sk-toggleable__control:checked~div.sk-toggleable__content {max-height: 200px;max-width: 100%;overflow: auto;}#sk-container-id-2 input.sk-toggleable__control:checked~label.sk-toggleable__label-arrow:before {content: \"▾\";}#sk-container-id-2 div.sk-estimator input.sk-toggleable__control:checked~label.sk-toggleable__label {background-color: #d4ebff;}#sk-container-id-2 div.sk-label input.sk-toggleable__control:checked~label.sk-toggleable__label {background-color: #d4ebff;}#sk-container-id-2 input.sk-hidden--visually {border: 0;clip: rect(1px 1px 1px 1px);clip: rect(1px, 1px, 1px, 1px);height: 1px;margin: -1px;overflow: hidden;padding: 0;position: absolute;width: 1px;}#sk-container-id-2 div.sk-estimator {font-family: monospace;background-color: #f0f8ff;border: 1px dotted black;border-radius: 0.25em;box-sizing: border-box;margin-bottom: 0.5em;}#sk-container-id-2 div.sk-estimator:hover {background-color: #d4ebff;}#sk-container-id-2 div.sk-parallel-item::after {content: \"\";width: 100%;border-bottom: 1px solid gray;flex-grow: 1;}#sk-container-id-2 div.sk-label:hover label.sk-toggleable__label {background-color: #d4ebff;}#sk-container-id-2 div.sk-serial::before {content: \"\";position: absolute;border-left: 1px solid gray;box-sizing: border-box;top: 0;bottom: 0;left: 50%;z-index: 0;}#sk-container-id-2 div.sk-serial {display: flex;flex-direction: column;align-items: center;background-color: white;padding-right: 0.2em;padding-left: 0.2em;position: relative;}#sk-container-id-2 div.sk-item {position: relative;z-index: 1;}#sk-container-id-2 div.sk-parallel {display: flex;align-items: stretch;justify-content: center;background-color: white;position: relative;}#sk-container-id-2 div.sk-item::before, #sk-container-id-2 div.sk-parallel-item::before {content: \"\";position: absolute;border-left: 1px solid gray;box-sizing: border-box;top: 0;bottom: 0;left: 50%;z-index: -1;}#sk-container-id-2 div.sk-parallel-item {display: flex;flex-direction: column;z-index: 1;position: relative;background-color: white;}#sk-container-id-2 div.sk-parallel-item:first-child::after {align-self: flex-end;width: 50%;}#sk-container-id-2 div.sk-parallel-item:last-child::after {align-self: flex-start;width: 50%;}#sk-container-id-2 div.sk-parallel-item:only-child::after {width: 0;}#sk-container-id-2 div.sk-dashed-wrapped {border: 1px dashed gray;margin: 0 0.4em 0.5em 0.4em;box-sizing: border-box;padding-bottom: 0.4em;background-color: white;}#sk-container-id-2 div.sk-label label {font-family: monospace;font-weight: bold;display: inline-block;line-height: 1.2em;}#sk-container-id-2 div.sk-label-container {text-align: center;}#sk-container-id-2 div.sk-container {/* jupyter's `normalize.less` sets `[hidden] { display: none; }` but bootstrap.min.css set `[hidden] { display: none !important; }` so we also need the `!important` here to be able to override the default hidden behavior on the sphinx rendered scikit-learn.org. See: https://github.com/scikit-learn/scikit-learn/issues/21755 */display: inline-block !important;position: relative;}#sk-container-id-2 div.sk-text-repr-fallback {display: none;}</style><div id=\"sk-container-id-2\" class=\"sk-top-container\"><div class=\"sk-text-repr-fallback\"><pre>Pipeline(steps=[(&#x27;pipeline&#x27;,\n                 Pipeline(steps=[(&#x27;columntransformer&#x27;,\n                                  ColumnTransformer(transformers=[(&#x27;pipeline-1&#x27;,\n                                                                   Pipeline(steps=[(&#x27;affectedroadstransformer&#x27;,\n                                                                                    AffectedRoadsTransformer())]),\n                                                                   [&#x27;affected_roads&#x27;]),\n                                                                  (&#x27;pipeline-2&#x27;,\n                                                                   Pipeline(steps=[(&#x27;recorddatetransformer&#x27;,\n                                                                                    RecordDateTransformer())]),\n                                                                   [&#x27;record_date&#x27;]),\n                                                                  (&#x27;pipeline-3&#x27;,\n                                                                   Pipeline(steps=[(&#x27;columnsremoval...\n                                                                  (&#x27;pipeline-5&#x27;,\n                                                                   Pipeline(steps=[(&#x27;simpleimputer&#x27;,\n                                                                                    SimpleImputer(fill_value=&#x27;missing&#x27;,\n                                                                                                  strategy=&#x27;constant&#x27;)),\n                                                                                   (&#x27;onehotencoder&#x27;,\n                                                                                    OneHotEncoder(handle_unknown=&#x27;ignore&#x27;))]),\n                                                                   [&#x27;luminosity&#x27;,\n                                                                    &#x27;avg_rain&#x27;])])),\n                                 (&#x27;variancethreshold&#x27;, VarianceThreshold())])),\n                (&#x27;randomforestclassifier&#x27;,\n                 RandomForestClassifier(bootstrap=False, criterion=&#x27;log_loss&#x27;,\n                                        max_depth=50, n_estimators=132))])</pre><b>In a Jupyter environment, please rerun this cell to show the HTML representation or trust the notebook. <br />On GitHub, the HTML representation is unable to render, please try loading this page with nbviewer.org.</b></div><div class=\"sk-container\" hidden><div class=\"sk-item sk-dashed-wrapped\"><div class=\"sk-label-container\"><div class=\"sk-label sk-toggleable\"><input class=\"sk-toggleable__control sk-hidden--visually\" id=\"sk-estimator-id-19\" type=\"checkbox\" ><label for=\"sk-estimator-id-19\" class=\"sk-toggleable__label sk-toggleable__label-arrow\">Pipeline</label><div class=\"sk-toggleable__content\"><pre>Pipeline(steps=[(&#x27;pipeline&#x27;,\n                 Pipeline(steps=[(&#x27;columntransformer&#x27;,\n                                  ColumnTransformer(transformers=[(&#x27;pipeline-1&#x27;,\n                                                                   Pipeline(steps=[(&#x27;affectedroadstransformer&#x27;,\n                                                                                    AffectedRoadsTransformer())]),\n                                                                   [&#x27;affected_roads&#x27;]),\n                                                                  (&#x27;pipeline-2&#x27;,\n                                                                   Pipeline(steps=[(&#x27;recorddatetransformer&#x27;,\n                                                                                    RecordDateTransformer())]),\n                                                                   [&#x27;record_date&#x27;]),\n                                                                  (&#x27;pipeline-3&#x27;,\n                                                                   Pipeline(steps=[(&#x27;columnsremoval...\n                                                                  (&#x27;pipeline-5&#x27;,\n                                                                   Pipeline(steps=[(&#x27;simpleimputer&#x27;,\n                                                                                    SimpleImputer(fill_value=&#x27;missing&#x27;,\n                                                                                                  strategy=&#x27;constant&#x27;)),\n                                                                                   (&#x27;onehotencoder&#x27;,\n                                                                                    OneHotEncoder(handle_unknown=&#x27;ignore&#x27;))]),\n                                                                   [&#x27;luminosity&#x27;,\n                                                                    &#x27;avg_rain&#x27;])])),\n                                 (&#x27;variancethreshold&#x27;, VarianceThreshold())])),\n                (&#x27;randomforestclassifier&#x27;,\n                 RandomForestClassifier(bootstrap=False, criterion=&#x27;log_loss&#x27;,\n                                        max_depth=50, n_estimators=132))])</pre></div></div></div><div class=\"sk-serial\"><div class=\"sk-item\"><div class=\"sk-label-container\"><div class=\"sk-label sk-toggleable\"><input class=\"sk-toggleable__control sk-hidden--visually\" id=\"sk-estimator-id-20\" type=\"checkbox\" ><label for=\"sk-estimator-id-20\" class=\"sk-toggleable__label sk-toggleable__label-arrow\">pipeline: Pipeline</label><div class=\"sk-toggleable__content\"><pre>Pipeline(steps=[(&#x27;columntransformer&#x27;,\n                 ColumnTransformer(transformers=[(&#x27;pipeline-1&#x27;,\n                                                  Pipeline(steps=[(&#x27;affectedroadstransformer&#x27;,\n                                                                   AffectedRoadsTransformer())]),\n                                                  [&#x27;affected_roads&#x27;]),\n                                                 (&#x27;pipeline-2&#x27;,\n                                                  Pipeline(steps=[(&#x27;recorddatetransformer&#x27;,\n                                                                   RecordDateTransformer())]),\n                                                  [&#x27;record_date&#x27;]),\n                                                 (&#x27;pipeline-3&#x27;,\n                                                  Pipeline(steps=[(&#x27;columnsremovaltransformer&#x27;,\n                                                                   ColumnsRemovalT...\n                                                                  (&#x27;minmaxscaler&#x27;,\n                                                                   MinMaxScaler())]),\n                                                  [&#x27;delay_in_seconds&#x27;,\n                                                   &#x27;avg_temperature&#x27;,\n                                                   &#x27;avg_atm_pressure&#x27;,\n                                                   &#x27;avg_humidity&#x27;,\n                                                   &#x27;avg_wind_speed&#x27;]),\n                                                 (&#x27;pipeline-5&#x27;,\n                                                  Pipeline(steps=[(&#x27;simpleimputer&#x27;,\n                                                                   SimpleImputer(fill_value=&#x27;missing&#x27;,\n                                                                                 strategy=&#x27;constant&#x27;)),\n                                                                  (&#x27;onehotencoder&#x27;,\n                                                                   OneHotEncoder(handle_unknown=&#x27;ignore&#x27;))]),\n                                                  [&#x27;luminosity&#x27;,\n                                                   &#x27;avg_rain&#x27;])])),\n                (&#x27;variancethreshold&#x27;, VarianceThreshold())])</pre></div></div></div><div class=\"sk-serial\"><div class=\"sk-item sk-dashed-wrapped\"><div class=\"sk-label-container\"><div class=\"sk-label sk-toggleable\"><input class=\"sk-toggleable__control sk-hidden--visually\" id=\"sk-estimator-id-21\" type=\"checkbox\" ><label for=\"sk-estimator-id-21\" class=\"sk-toggleable__label sk-toggleable__label-arrow\">columntransformer: ColumnTransformer</label><div class=\"sk-toggleable__content\"><pre>ColumnTransformer(transformers=[(&#x27;pipeline-1&#x27;,\n                                 Pipeline(steps=[(&#x27;affectedroadstransformer&#x27;,\n                                                  AffectedRoadsTransformer())]),\n                                 [&#x27;affected_roads&#x27;]),\n                                (&#x27;pipeline-2&#x27;,\n                                 Pipeline(steps=[(&#x27;recorddatetransformer&#x27;,\n                                                  RecordDateTransformer())]),\n                                 [&#x27;record_date&#x27;]),\n                                (&#x27;pipeline-3&#x27;,\n                                 Pipeline(steps=[(&#x27;columnsremovaltransformer&#x27;,\n                                                  ColumnsRemovalTransformer())]),\n                                 [&#x27;city_name&#x27;, &#x27;avg_pre...\n                                                  SimpleImputer(strategy=&#x27;median&#x27;)),\n                                                 (&#x27;minmaxscaler&#x27;,\n                                                  MinMaxScaler())]),\n                                 [&#x27;delay_in_seconds&#x27;, &#x27;avg_temperature&#x27;,\n                                  &#x27;avg_atm_pressure&#x27;, &#x27;avg_humidity&#x27;,\n                                  &#x27;avg_wind_speed&#x27;]),\n                                (&#x27;pipeline-5&#x27;,\n                                 Pipeline(steps=[(&#x27;simpleimputer&#x27;,\n                                                  SimpleImputer(fill_value=&#x27;missing&#x27;,\n                                                                strategy=&#x27;constant&#x27;)),\n                                                 (&#x27;onehotencoder&#x27;,\n                                                  OneHotEncoder(handle_unknown=&#x27;ignore&#x27;))]),\n                                 [&#x27;luminosity&#x27;, &#x27;avg_rain&#x27;])])</pre></div></div></div><div class=\"sk-parallel\"><div class=\"sk-parallel-item\"><div class=\"sk-item\"><div class=\"sk-label-container\"><div class=\"sk-label sk-toggleable\"><input class=\"sk-toggleable__control sk-hidden--visually\" id=\"sk-estimator-id-22\" type=\"checkbox\" ><label for=\"sk-estimator-id-22\" class=\"sk-toggleable__label sk-toggleable__label-arrow\">pipeline-1</label><div class=\"sk-toggleable__content\"><pre>[&#x27;affected_roads&#x27;]</pre></div></div></div><div class=\"sk-serial\"><div class=\"sk-item\"><div class=\"sk-serial\"><div class=\"sk-item\"><div class=\"sk-estimator sk-toggleable\"><input class=\"sk-toggleable__control sk-hidden--visually\" id=\"sk-estimator-id-23\" type=\"checkbox\" ><label for=\"sk-estimator-id-23\" class=\"sk-toggleable__label sk-toggleable__label-arrow\">AffectedRoadsTransformer</label><div class=\"sk-toggleable__content\"><pre>AffectedRoadsTransformer()</pre></div></div></div></div></div></div></div></div><div class=\"sk-parallel-item\"><div class=\"sk-item\"><div class=\"sk-label-container\"><div class=\"sk-label sk-toggleable\"><input class=\"sk-toggleable__control sk-hidden--visually\" id=\"sk-estimator-id-24\" type=\"checkbox\" ><label for=\"sk-estimator-id-24\" class=\"sk-toggleable__label sk-toggleable__label-arrow\">pipeline-2</label><div class=\"sk-toggleable__content\"><pre>[&#x27;record_date&#x27;]</pre></div></div></div><div class=\"sk-serial\"><div class=\"sk-item\"><div class=\"sk-serial\"><div class=\"sk-item\"><div class=\"sk-estimator sk-toggleable\"><input class=\"sk-toggleable__control sk-hidden--visually\" id=\"sk-estimator-id-25\" type=\"checkbox\" ><label for=\"sk-estimator-id-25\" class=\"sk-toggleable__label sk-toggleable__label-arrow\">RecordDateTransformer</label><div class=\"sk-toggleable__content\"><pre>RecordDateTransformer()</pre></div></div></div></div></div></div></div></div><div class=\"sk-parallel-item\"><div class=\"sk-item\"><div class=\"sk-label-container\"><div class=\"sk-label sk-toggleable\"><input class=\"sk-toggleable__control sk-hidden--visually\" id=\"sk-estimator-id-26\" type=\"checkbox\" ><label for=\"sk-estimator-id-26\" class=\"sk-toggleable__label sk-toggleable__label-arrow\">pipeline-3</label><div class=\"sk-toggleable__content\"><pre>[&#x27;city_name&#x27;, &#x27;avg_precipitation&#x27;, &#x27;magnitude_of_delay&#x27;, &#x27;record_date&#x27;]</pre></div></div></div><div class=\"sk-serial\"><div class=\"sk-item\"><div class=\"sk-serial\"><div class=\"sk-item\"><div class=\"sk-estimator sk-toggleable\"><input class=\"sk-toggleable__control sk-hidden--visually\" id=\"sk-estimator-id-27\" type=\"checkbox\" ><label for=\"sk-estimator-id-27\" class=\"sk-toggleable__label sk-toggleable__label-arrow\">ColumnsRemovalTransformer</label><div class=\"sk-toggleable__content\"><pre>ColumnsRemovalTransformer()</pre></div></div></div></div></div></div></div></div><div class=\"sk-parallel-item\"><div class=\"sk-item\"><div class=\"sk-label-container\"><div class=\"sk-label sk-toggleable\"><input class=\"sk-toggleable__control sk-hidden--visually\" id=\"sk-estimator-id-28\" type=\"checkbox\" ><label for=\"sk-estimator-id-28\" class=\"sk-toggleable__label sk-toggleable__label-arrow\">pipeline-4</label><div class=\"sk-toggleable__content\"><pre>[&#x27;delay_in_seconds&#x27;, &#x27;avg_temperature&#x27;, &#x27;avg_atm_pressure&#x27;, &#x27;avg_humidity&#x27;, &#x27;avg_wind_speed&#x27;]</pre></div></div></div><div class=\"sk-serial\"><div class=\"sk-item\"><div class=\"sk-serial\"><div class=\"sk-item\"><div class=\"sk-estimator sk-toggleable\"><input class=\"sk-toggleable__control sk-hidden--visually\" id=\"sk-estimator-id-29\" type=\"checkbox\" ><label for=\"sk-estimator-id-29\" class=\"sk-toggleable__label sk-toggleable__label-arrow\">SimpleImputer</label><div class=\"sk-toggleable__content\"><pre>SimpleImputer(strategy=&#x27;median&#x27;)</pre></div></div></div><div class=\"sk-item\"><div class=\"sk-estimator sk-toggleable\"><input class=\"sk-toggleable__control sk-hidden--visually\" id=\"sk-estimator-id-30\" type=\"checkbox\" ><label for=\"sk-estimator-id-30\" class=\"sk-toggleable__label sk-toggleable__label-arrow\">MinMaxScaler</label><div class=\"sk-toggleable__content\"><pre>MinMaxScaler()</pre></div></div></div></div></div></div></div></div><div class=\"sk-parallel-item\"><div class=\"sk-item\"><div class=\"sk-label-container\"><div class=\"sk-label sk-toggleable\"><input class=\"sk-toggleable__control sk-hidden--visually\" id=\"sk-estimator-id-31\" type=\"checkbox\" ><label for=\"sk-estimator-id-31\" class=\"sk-toggleable__label sk-toggleable__label-arrow\">pipeline-5</label><div class=\"sk-toggleable__content\"><pre>[&#x27;luminosity&#x27;, &#x27;avg_rain&#x27;]</pre></div></div></div><div class=\"sk-serial\"><div class=\"sk-item\"><div class=\"sk-serial\"><div class=\"sk-item\"><div class=\"sk-estimator sk-toggleable\"><input class=\"sk-toggleable__control sk-hidden--visually\" id=\"sk-estimator-id-32\" type=\"checkbox\" ><label for=\"sk-estimator-id-32\" class=\"sk-toggleable__label sk-toggleable__label-arrow\">SimpleImputer</label><div class=\"sk-toggleable__content\"><pre>SimpleImputer(fill_value=&#x27;missing&#x27;, strategy=&#x27;constant&#x27;)</pre></div></div></div><div class=\"sk-item\"><div class=\"sk-estimator sk-toggleable\"><input class=\"sk-toggleable__control sk-hidden--visually\" id=\"sk-estimator-id-33\" type=\"checkbox\" ><label for=\"sk-estimator-id-33\" class=\"sk-toggleable__label sk-toggleable__label-arrow\">OneHotEncoder</label><div class=\"sk-toggleable__content\"><pre>OneHotEncoder(handle_unknown=&#x27;ignore&#x27;)</pre></div></div></div></div></div></div></div></div></div></div><div class=\"sk-item\"><div class=\"sk-estimator sk-toggleable\"><input class=\"sk-toggleable__control sk-hidden--visually\" id=\"sk-estimator-id-34\" type=\"checkbox\" ><label for=\"sk-estimator-id-34\" class=\"sk-toggleable__label sk-toggleable__label-arrow\">VarianceThreshold</label><div class=\"sk-toggleable__content\"><pre>VarianceThreshold()</pre></div></div></div></div></div><div class=\"sk-item\"><div class=\"sk-estimator sk-toggleable\"><input class=\"sk-toggleable__control sk-hidden--visually\" id=\"sk-estimator-id-35\" type=\"checkbox\" ><label for=\"sk-estimator-id-35\" class=\"sk-toggleable__label sk-toggleable__label-arrow\">RandomForestClassifier</label><div class=\"sk-toggleable__content\"><pre>RandomForestClassifier(bootstrap=False, criterion=&#x27;log_loss&#x27;, max_depth=50,\n                       n_estimators=132)</pre></div></div></div></div></div></div></div>"
     },
     "execution_count": 30,
     "metadata": {},
     "output_type": "execute_result"
    }
   ],
   "source": [
    "rf_RandomGrid.best_estimator_"
   ],
   "metadata": {
    "collapsed": false
   }
  },
  {
   "cell_type": "code",
   "execution_count": 31,
   "outputs": [
    {
     "name": "stdout",
     "output_type": "stream",
     "text": [
      "Train: 1.000\n",
      "Test: 0.981\n"
     ]
    }
   ],
   "source": [
    "print(f'Train: {rf_RandomGrid.score(X_train, y_train):.3f}')\n",
    "print(f'Test: {rf_RandomGrid.score(X_test, y_test):.3f}')"
   ],
   "metadata": {
    "collapsed": false
   }
  },
  {
   "cell_type": "code",
   "execution_count": 32,
   "outputs": [
    {
     "data": {
      "text/plain": "<sklearn.metrics._plot.confusion_matrix.ConfusionMatrixDisplay at 0x2617a6d7700>"
     },
     "execution_count": 32,
     "metadata": {},
     "output_type": "execute_result"
    },
    {
     "data": {
      "text/plain": "<Figure size 640x480 with 2 Axes>",
      "image/png": "[encoded data removed]"
     },
     "metadata": {},
     "output_type": "display_data"
    }
   ],
   "source": [
    "from sklearn.metrics import confusion_matrix, ConfusionMatrixDisplay\n",
    "\n",
    "predictions = rf_RandomGrid.predict(X_test)\n",
    "\n",
    "cm = confusion_matrix(y_test, predictions)\n",
    "# TP FP\n",
    "# FN TN\n",
    "disp = ConfusionMatrixDisplay(cm)\n",
    "\n",
    "disp.plot(cmap='inferno')"
   ],
   "metadata": {
    "collapsed": false
   }
  },
  {
   "cell_type": "markdown",
   "source": [
    "### Obtenção das previsões do dataset de submissão"
   ],
   "metadata": {
    "collapsed": false
   }
  },
  {
   "cell_type": "code",
   "execution_count": 33,
   "outputs": [],
   "source": [
    "features = test_df.copy()\n",
    "\n",
    "preprocessor.fit(features)\n",
    "preprocessor.transform(features)\n",
    "\n",
    "predictions = rf_RandomGrid.predict(features)\n",
    "predictions_df = pd.DataFrame(predictions)\n",
    "predictions_df.index += 1\n",
    "predictions_df.to_csv(\"../submission.csv\", header=['Incidents'], index_label='RowId')"
   ],
   "metadata": {
    "collapsed": false
   }
  },
  {
   "cell_type": "code",
   "execution_count": null,
   "outputs": [],
   "source": [],
   "metadata": {
    "collapsed": false
   }
  }
 ],
 "metadata": {
  "kernelspec": {
   "display_name": "Python 3",
   "language": "python",
   "name": "python3"
  },
  "language_info": {
   "codemirror_mode": {
    "name": "ipython",
    "version": 2
   },
   "file_extension": ".py",
   "mimetype": "text/x-python",
   "name": "python",
   "nbconvert_exporter": "python",
   "pygments_lexer": "ipython2",
   "version": "2.7.6"
  }
 },
 "nbformat": 4,
 "nbformat_minor": 0
}
