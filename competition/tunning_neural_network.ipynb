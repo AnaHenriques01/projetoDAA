{
 "cells": [
  {
   "cell_type": "markdown",
   "source": [
    "# Imports"
   ],
   "metadata": {
    "collapsed": false
   }
  },
  {
   "cell_type": "code",
   "execution_count": null,
   "outputs": [],
   "source": [
    "import pandas as pd\n",
    "import numpy as np\n",
    "import matplotlib.pyplot as plt\n",
    "import seaborn as sns\n",
    "import time\n",
    "\n",
    "from sklearn.model_selection import train_test_split\n",
    "from sklearn.model_selection import cross_val_score\n",
    "\n",
    "from sklearn.tree import DecisionTreeClassifier\n",
    "from sklearn.tree import DecisionTreeRegressor\n",
    "\n",
    "from sklearn.metrics import confusion_matrix, ConfusionMatrixDisplay\n",
    "from sklearn.metrics import recall_score\n",
    "from sklearn.metrics import accuracy_score\n",
    "from sklearn.metrics import precision_score\n",
    "from sklearn.metrics import roc_curve\n",
    "from sklearn.metrics import f1_score\n",
    "from sklearn.metrics import fbeta_score\n",
    "from sklearn.metrics import mean_absolute_error\n",
    "from sklearn.metrics import mean_squared_error\n",
    "\n",
    "import tensorflow as tf\n",
    "from tensorflow.python.keras.models import Sequential\n",
    "from tensorflow.python.keras.layers import Dense, Dropout\n",
    "from tensorflow.python.keras.losses import SparseCategoricalCrossentropy\n",
    "from sklearn.model_selection import GridSearchCV, KFold, train_test_split\n",
    "from sklearn.preprocessing import MinMaxScaler\n",
    "\n",
    "from sklearn.model_selection import train_test_split\n",
    "\n",
    "% matplotlib inline\n",
    "\n",
    "print(tf.__version__)\n"
   ],
   "metadata": {
    "collapsed": false
   }
  },
  {
   "cell_type": "markdown",
   "source": [
    "# Carregamento de dados"
   ],
   "metadata": {
    "collapsed": false
   }
  },
  {
   "cell_type": "code",
   "execution_count": null,
   "outputs": [],
   "source": [
    "TRAINING_DATASET_SOURCE = 'training_data.csv'\n",
    "TEST_DATASET_SOURCE = 'test_data.csv'\n",
    "\n",
    "train_df = pd.read_csv(TRAINING_DATASET_SOURCE)\n",
    "test_df = pd.read_csv(TEST_DATASET_SOURCE)"
   ],
   "metadata": {
    "collapsed": false
   }
  },
  {
   "cell_type": "markdown",
   "source": [
    "# SEED utilizada"
   ],
   "metadata": {
    "collapsed": false
   }
  },
  {
   "cell_type": "code",
   "execution_count": null,
   "outputs": [],
   "source": [
    "SEED = 101"
   ],
   "metadata": {
    "collapsed": false
   }
  },
  {
   "cell_type": "markdown",
   "source": [
    "# Preparação dos dados"
   ],
   "metadata": {
    "collapsed": false
   }
  },
  {
   "cell_type": "code",
   "execution_count": null,
   "outputs": [],
   "source": [
    "categorical_to_numerical = {\n",
    "    'avg_rain': {\n",
    "        'Sem Chuva': 0,\n",
    "        'chuva fraca': 1,\n",
    "        'chuva moderada': 2,\n",
    "        'chuva forte': 3\n",
    "    },\n",
    "    'luminosity': {\n",
    "        'LOW_LIGHT': 0,\n",
    "        'LIGHT': 1,\n",
    "        'DARK': 2,\n",
    "    }\n",
    "}\n",
    "\n",
    "incidents_to_numerical = {\n",
    "    'incidents': {\n",
    "        'None': 0,\n",
    "        'Low': 1,\n",
    "        'Medium': 2,\n",
    "        'High': 3,\n",
    "        'Very_High': 4,\n",
    "    }\n",
    "}"
   ],
   "metadata": {
    "collapsed": false
   }
  },
  {
   "cell_type": "code",
   "execution_count": null,
   "outputs": [],
   "source": [
    "def neural_network_data_preparation(df: pd.DataFrame) -> pd.DataFrame:\n",
    "    dropped_columns = ['city_name', 'magnitude_of_delay', 'avg_precipitation']\n",
    "\n",
    "    prep_df = df.drop(dropped_columns, axis=1)\n",
    "\n",
    "    ### Extrair a hora e dia da semana da feature 'record_date'\n",
    "    record_date = pd.DatetimeIndex(prep_df['record_date'])\n",
    "\n",
    "    prep_df['record_date_hour'] = record_date.hour\n",
    "    prep_df['record_date_day'] = record_date.day\n",
    "    prep_df['record_date_month'] = record_date.month\n",
    "    prep_df['record_date_weekday'] = record_date.weekday\n",
    "\n",
    "    prep_df.drop(columns=['record_date'], inplace=True)\n",
    "\n",
    "    ### Quantificar a feature 'affected_roads' para o número único de estradas afetadas\n",
    "    road_quantity = []\n",
    "    for line in prep_df['affected_roads']:\n",
    "        res = set(str(line).split(','))\n",
    "        res2 = [elem for elem in res if elem != '']\n",
    "        count = len(res2)\n",
    "        road_quantity.append(count)\n",
    "\n",
    "    prep_df['affected_roads'] = road_quantity\n",
    "\n",
    "    prep_df.replace(categorical_to_numerical, inplace=True)\n",
    "\n",
    "    ### Target\n",
    "    if 'incidents' in prep_df.columns:\n",
    "        prep_df.replace(incidents_to_numerical, inplace=True)\n",
    "\n",
    "    return prep_df"
   ],
   "metadata": {
    "collapsed": false
   }
  },
  {
   "cell_type": "code",
   "execution_count": null,
   "outputs": [],
   "source": [
    "X = neural_network_data_preparation(train_df)\n",
    "y = X['incidents']\n",
    "\n",
    "X.drop(columns=['incidents'], inplace=True)"
   ],
   "metadata": {
    "collapsed": false
   }
  },
  {
   "cell_type": "code",
   "execution_count": null,
   "outputs": [],
   "source": [
    "scaler_X = MinMaxScaler(feature_range=(0, 1)).fit(X)\n",
    "X_scaled = pd.DataFrame(scaler_X.transform(X[X.columns]), columns=X.columns)"
   ],
   "metadata": {
    "collapsed": false
   }
  },
  {
   "cell_type": "code",
   "execution_count": null,
   "outputs": [],
   "source": [
    "X_train, X_test, y_train, y_test = train_test_split(X_scaled, y, test_size=0.2, random_state=SEED)"
   ],
   "metadata": {
    "collapsed": false
   }
  },
  {
   "cell_type": "markdown",
   "source": [
    "# Construção da estrutura da rede neuronal"
   ],
   "metadata": {
    "collapsed": false
   }
  },
  {
   "cell_type": "code",
   "execution_count": null,
   "outputs": [],
   "source": [
    "!pip install -q -U keras-tuner"
   ],
   "metadata": {
    "collapsed": false
   }
  },
  {
   "cell_type": "code",
   "execution_count": null,
   "outputs": [],
   "source": [
    "import tensorflow as tf\n",
    "from tensorflow import keras\n",
    "import keras_tuner as kt\n",
    "\n",
    "\n",
    "def build_model(hp):\n",
    "    # Create a sequential model (with three layers - last one is the output)\n",
    "    model = keras.Sequential()\n",
    "\n",
    "    input_hp_units = hp.Int('units', min_value=5, max_value=200, step=5)\n",
    "\n",
    "    model.add(Dense(input_hp_units, input_dim=12, activation='relu'))\n",
    "\n",
    "    hp_units = hp.Int('units', min_value=5, max_value=200, step=5)\n",
    "\n",
    "    hp_activation = hp.Choice(\"activation\", [\"relu\", \"tanh\", 'sigmoid'])\n",
    "\n",
    "    model.add(Dense(hp_units, activation=hp_activation))\n",
    "\n",
    "    # Output Layer\n",
    "    model.add(Dense(5, activation='softmax'))\n",
    "\n",
    "    hp_learning_rate = hp.Choice('learning_rate', values=[1e-1, 1e-2, 1e-3, 1e-4, 1e-5])\n",
    "\n",
    "    # Model compilation\n",
    "    model.compile(loss=SparseCategoricalCrossentropy(), optimizer=keras.optimizers.Adam(learning_rate=hp_learning_rate),\n",
    "                  metrics=['accuracy'])\n",
    "\n",
    "    return model\n"
   ],
   "metadata": {
    "collapsed": false
   }
  },
  {
   "cell_type": "code",
   "execution_count": null,
   "outputs": [],
   "source": [
    "tuner = kt.RandomSearch(\n",
    "    hypermodel=build_model,\n",
    "    objective=\"accuracy\",\n",
    "    max_trials=3,\n",
    "    executions_per_trial=2,\n",
    "    overwrite=True,\n",
    "    directory=\"trials\",\n",
    "    project_name=\"competition\",\n",
    ")\n"
   ],
   "metadata": {
    "collapsed": false
   }
  },
  {
   "cell_type": "code",
   "execution_count": null,
   "outputs": [],
   "source": [
    "stop_early = tf.keras.callbacks.EarlyStopping(monitor='val_loss', patience=5)\n",
    "\n",
    "tuner.search(X, y, epochs=50, validation_split=0.2, callbacks=[stop_early])\n",
    "\n",
    "# Get the optimal hyperparameters\n",
    "best_hps = tuner.get_best_hyperparameters(num_trials=1)[0]\n",
    "\n",
    "print(f\"\"\"\n",
    "The hyperparameter search is complete. The optimal number of units in the first densely-connected\n",
    "layer is {best_hps.get('units')} and the optimal learning rate for the optimizer\n",
    "is {best_hps.get('learning_rate')}.\n",
    "\"\"\")"
   ],
   "metadata": {
    "collapsed": false
   }
  },
  {
   "cell_type": "code",
   "execution_count": null,
   "outputs": [],
   "source": [
    "# Build the model with the optimal hyperparameters and train it on the data for 50 epochs\n",
    "model = tuner.hypermodel.build(best_hps)\n",
    "history = model.fit(X, y, epochs=50, validation_split=0.2)\n",
    "\n",
    "val_acc_per_epoch = history.history['val_accuracy']\n",
    "best_epoch = val_acc_per_epoch.index(max(val_acc_per_epoch)) + 1\n",
    "print('Best epoch: %d' % (best_epoch,))"
   ],
   "metadata": {
    "collapsed": false
   }
  },
  {
   "cell_type": "code",
   "execution_count": null,
   "outputs": [],
   "source": [
    "hypermodel = tuner.hypermodel.build(best_hps)\n",
    "\n",
    "# Retrain the model\n",
    "hypermodel.fit(X, y, epochs=best_epoch, validation_split=0.2)"
   ],
   "metadata": {
    "collapsed": false
   }
  },
  {
   "cell_type": "code",
   "execution_count": null,
   "outputs": [],
   "source": [
    "eval_result = hypermodel.evaluate(X, y)\n",
    "print(\"[test loss, test accuracy]:\", eval_result)"
   ],
   "metadata": {
    "collapsed": false
   }
  },
  {
   "cell_type": "markdown",
   "source": [
    "-------\n",
    "-------\n",
    "-------"
   ],
   "metadata": {
    "collapsed": false
   }
  },
  {
   "cell_type": "code",
   "execution_count": 75,
   "outputs": [
    {
     "name": "stdout",
     "output_type": "stream",
     "text": [
      "Epoch 1/150\n",
      "125/125 [==============================] - 0s 1ms/step - loss: 0.1683 - accuracy: 0.9390 - val_loss: 0.4177 - val_accuracy: 0.8730\n",
      "Epoch 2/150\n",
      "125/125 [==============================] - 0s 1ms/step - loss: 0.1661 - accuracy: 0.9383 - val_loss: 0.4167 - val_accuracy: 0.8760\n",
      "Epoch 3/150\n",
      "125/125 [==============================] - 0s 1ms/step - loss: 0.1684 - accuracy: 0.9405 - val_loss: 0.4064 - val_accuracy: 0.8780\n",
      "Epoch 4/150\n",
      "125/125 [==============================] - 0s 1ms/step - loss: 0.1712 - accuracy: 0.9373 - val_loss: 0.4051 - val_accuracy: 0.8730\n",
      "Epoch 5/150\n",
      "125/125 [==============================] - 0s 1ms/step - loss: 0.1634 - accuracy: 0.9442 - val_loss: 0.4072 - val_accuracy: 0.8750\n",
      "Epoch 6/150\n",
      "125/125 [==============================] - 0s 1ms/step - loss: 0.1640 - accuracy: 0.9440 - val_loss: 0.4284 - val_accuracy: 0.8700\n",
      "Epoch 7/150\n",
      "125/125 [==============================] - 0s 1ms/step - loss: 0.1679 - accuracy: 0.9420 - val_loss: 0.4509 - val_accuracy: 0.8730\n",
      "Epoch 8/150\n",
      "125/125 [==============================] - 0s 1ms/step - loss: 0.1676 - accuracy: 0.9410 - val_loss: 0.4303 - val_accuracy: 0.8760\n",
      "Epoch 9/150\n",
      "125/125 [==============================] - 0s 1ms/step - loss: 0.1612 - accuracy: 0.9383 - val_loss: 0.4184 - val_accuracy: 0.8710\n",
      "Epoch 10/150\n",
      "125/125 [==============================] - 0s 1ms/step - loss: 0.1647 - accuracy: 0.9420 - val_loss: 0.4010 - val_accuracy: 0.8820\n",
      "Epoch 11/150\n",
      "125/125 [==============================] - 0s 1ms/step - loss: 0.1584 - accuracy: 0.9455 - val_loss: 0.3989 - val_accuracy: 0.8820\n",
      "Epoch 12/150\n",
      "125/125 [==============================] - 0s 1ms/step - loss: 0.1610 - accuracy: 0.9417 - val_loss: 0.3959 - val_accuracy: 0.8860\n",
      "Epoch 13/150\n",
      "125/125 [==============================] - 0s 1ms/step - loss: 0.1743 - accuracy: 0.9345 - val_loss: 0.4213 - val_accuracy: 0.8740\n",
      "Epoch 14/150\n",
      "125/125 [==============================] - 0s 1ms/step - loss: 0.1594 - accuracy: 0.9460 - val_loss: 0.4064 - val_accuracy: 0.8820\n",
      "Epoch 15/150\n",
      "125/125 [==============================] - 0s 1ms/step - loss: 0.1626 - accuracy: 0.9425 - val_loss: 0.4066 - val_accuracy: 0.8760\n",
      "Epoch 16/150\n",
      "125/125 [==============================] - 0s 1ms/step - loss: 0.1589 - accuracy: 0.9438 - val_loss: 0.4022 - val_accuracy: 0.8750\n",
      "Epoch 17/150\n",
      "125/125 [==============================] - 0s 1ms/step - loss: 0.1641 - accuracy: 0.9405 - val_loss: 0.4048 - val_accuracy: 0.8790\n",
      "Epoch 18/150\n",
      "125/125 [==============================] - 0s 1ms/step - loss: 0.1564 - accuracy: 0.9435 - val_loss: 0.4188 - val_accuracy: 0.8810\n",
      "Epoch 19/150\n",
      "125/125 [==============================] - 0s 1ms/step - loss: 0.1600 - accuracy: 0.9420 - val_loss: 0.4068 - val_accuracy: 0.8810\n",
      "Epoch 20/150\n",
      "125/125 [==============================] - 0s 1ms/step - loss: 0.1633 - accuracy: 0.9420 - val_loss: 0.4518 - val_accuracy: 0.8550\n",
      "Epoch 21/150\n",
      "125/125 [==============================] - 0s 1ms/step - loss: 0.1748 - accuracy: 0.9365 - val_loss: 0.4590 - val_accuracy: 0.8630\n",
      "Epoch 22/150\n",
      "125/125 [==============================] - 0s 1ms/step - loss: 0.1652 - accuracy: 0.9390 - val_loss: 0.4713 - val_accuracy: 0.8580\n",
      "Epoch 23/150\n",
      "125/125 [==============================] - 0s 1ms/step - loss: 0.1605 - accuracy: 0.9450 - val_loss: 0.3969 - val_accuracy: 0.8810\n",
      "Epoch 24/150\n",
      "125/125 [==============================] - 0s 1ms/step - loss: 0.1551 - accuracy: 0.9492 - val_loss: 0.4158 - val_accuracy: 0.8810\n",
      "Epoch 25/150\n",
      "125/125 [==============================] - 0s 1ms/step - loss: 0.1586 - accuracy: 0.9442 - val_loss: 0.4421 - val_accuracy: 0.8720\n",
      "Epoch 26/150\n",
      "125/125 [==============================] - 0s 1ms/step - loss: 0.1525 - accuracy: 0.9460 - val_loss: 0.4273 - val_accuracy: 0.8730\n",
      "Epoch 27/150\n",
      "125/125 [==============================] - 0s 1ms/step - loss: 0.1510 - accuracy: 0.9480 - val_loss: 0.4017 - val_accuracy: 0.8790\n",
      "Epoch 28/150\n",
      "125/125 [==============================] - 0s 1ms/step - loss: 0.1491 - accuracy: 0.9492 - val_loss: 0.3976 - val_accuracy: 0.8830\n",
      "Epoch 29/150\n",
      "125/125 [==============================] - 0s 1ms/step - loss: 0.1551 - accuracy: 0.9452 - val_loss: 0.4093 - val_accuracy: 0.8790\n",
      "Epoch 30/150\n",
      "125/125 [==============================] - 0s 1ms/step - loss: 0.1498 - accuracy: 0.9485 - val_loss: 0.4166 - val_accuracy: 0.8760\n",
      "Epoch 31/150\n",
      "125/125 [==============================] - 0s 1ms/step - loss: 0.1596 - accuracy: 0.9445 - val_loss: 0.3973 - val_accuracy: 0.8820\n",
      "Epoch 32/150\n",
      "125/125 [==============================] - 0s 1ms/step - loss: 0.1500 - accuracy: 0.9495 - val_loss: 0.4368 - val_accuracy: 0.8650\n",
      "Epoch 33/150\n",
      "125/125 [==============================] - 0s 1ms/step - loss: 0.1473 - accuracy: 0.9507 - val_loss: 0.4076 - val_accuracy: 0.8810\n",
      "Epoch 34/150\n",
      "125/125 [==============================] - 0s 1ms/step - loss: 0.1488 - accuracy: 0.9473 - val_loss: 0.4123 - val_accuracy: 0.8770\n",
      "Epoch 35/150\n",
      "125/125 [==============================] - 0s 1ms/step - loss: 0.1509 - accuracy: 0.9473 - val_loss: 0.4178 - val_accuracy: 0.8810\n",
      "Epoch 36/150\n",
      "125/125 [==============================] - 0s 1ms/step - loss: 0.1460 - accuracy: 0.9500 - val_loss: 0.4049 - val_accuracy: 0.8850\n",
      "Epoch 37/150\n",
      "125/125 [==============================] - 0s 1ms/step - loss: 0.1540 - accuracy: 0.9465 - val_loss: 0.3996 - val_accuracy: 0.8770\n",
      "Epoch 38/150\n",
      "125/125 [==============================] - 0s 1ms/step - loss: 0.1463 - accuracy: 0.9495 - val_loss: 0.4612 - val_accuracy: 0.8630\n",
      "Epoch 39/150\n",
      "125/125 [==============================] - 0s 1ms/step - loss: 0.1507 - accuracy: 0.9467 - val_loss: 0.4178 - val_accuracy: 0.8840\n",
      "Epoch 40/150\n",
      "125/125 [==============================] - 0s 1ms/step - loss: 0.1488 - accuracy: 0.9482 - val_loss: 0.4116 - val_accuracy: 0.8860\n",
      "Epoch 41/150\n",
      "125/125 [==============================] - 0s 1ms/step - loss: 0.1507 - accuracy: 0.9470 - val_loss: 0.4350 - val_accuracy: 0.8760\n",
      "Epoch 42/150\n",
      "125/125 [==============================] - 0s 1ms/step - loss: 0.1490 - accuracy: 0.9507 - val_loss: 0.4062 - val_accuracy: 0.8800\n",
      "Epoch 43/150\n",
      "125/125 [==============================] - 0s 1ms/step - loss: 0.1444 - accuracy: 0.9492 - val_loss: 0.4244 - val_accuracy: 0.8760\n",
      "Epoch 44/150\n",
      "125/125 [==============================] - 0s 2ms/step - loss: 0.1617 - accuracy: 0.9442 - val_loss: 0.4395 - val_accuracy: 0.8760\n",
      "Epoch 45/150\n",
      "125/125 [==============================] - 0s 3ms/step - loss: 0.1468 - accuracy: 0.9490 - val_loss: 0.4064 - val_accuracy: 0.8870\n",
      "Epoch 46/150\n",
      "125/125 [==============================] - 0s 3ms/step - loss: 0.1451 - accuracy: 0.9507 - val_loss: 0.4261 - val_accuracy: 0.8760\n",
      "Epoch 47/150\n",
      "125/125 [==============================] - 0s 4ms/step - loss: 0.1465 - accuracy: 0.9498 - val_loss: 0.4291 - val_accuracy: 0.8750\n",
      "Epoch 48/150\n",
      "125/125 [==============================] - 0s 3ms/step - loss: 0.1481 - accuracy: 0.9482 - val_loss: 0.4355 - val_accuracy: 0.8800\n",
      "Epoch 49/150\n",
      "125/125 [==============================] - 0s 3ms/step - loss: 0.1448 - accuracy: 0.9503 - val_loss: 0.4315 - val_accuracy: 0.8780\n",
      "Epoch 50/150\n",
      "125/125 [==============================] - 0s 3ms/step - loss: 0.1439 - accuracy: 0.9498 - val_loss: 0.4025 - val_accuracy: 0.8780\n",
      "Epoch 51/150\n",
      "125/125 [==============================] - 0s 3ms/step - loss: 0.1433 - accuracy: 0.9523 - val_loss: 0.4092 - val_accuracy: 0.8830\n",
      "Epoch 52/150\n",
      "125/125 [==============================] - 0s 3ms/step - loss: 0.1424 - accuracy: 0.9507 - val_loss: 0.4294 - val_accuracy: 0.8700\n",
      "Epoch 53/150\n",
      "125/125 [==============================] - 0s 2ms/step - loss: 0.1468 - accuracy: 0.9492 - val_loss: 0.4208 - val_accuracy: 0.8720\n",
      "Epoch 54/150\n",
      "125/125 [==============================] - 0s 3ms/step - loss: 0.1386 - accuracy: 0.9538 - val_loss: 0.4110 - val_accuracy: 0.8790\n",
      "Epoch 55/150\n",
      "125/125 [==============================] - 0s 3ms/step - loss: 0.1370 - accuracy: 0.9515 - val_loss: 0.4365 - val_accuracy: 0.8770\n",
      "Epoch 56/150\n",
      "125/125 [==============================] - 0s 2ms/step - loss: 0.1443 - accuracy: 0.9532 - val_loss: 0.4459 - val_accuracy: 0.8730\n",
      "Epoch 57/150\n",
      "125/125 [==============================] - 0s 3ms/step - loss: 0.1412 - accuracy: 0.9525 - val_loss: 0.4821 - val_accuracy: 0.8600\n",
      "Epoch 58/150\n",
      "125/125 [==============================] - 0s 3ms/step - loss: 0.1426 - accuracy: 0.9530 - val_loss: 0.4190 - val_accuracy: 0.8780\n",
      "Epoch 59/150\n",
      "125/125 [==============================] - 0s 2ms/step - loss: 0.1441 - accuracy: 0.9477 - val_loss: 0.4481 - val_accuracy: 0.8740\n",
      "Epoch 60/150\n",
      "125/125 [==============================] - 0s 3ms/step - loss: 0.1432 - accuracy: 0.9488 - val_loss: 0.4150 - val_accuracy: 0.8840\n",
      "Epoch 61/150\n",
      "125/125 [==============================] - 0s 3ms/step - loss: 0.1381 - accuracy: 0.9525 - val_loss: 0.4196 - val_accuracy: 0.8840\n",
      "Epoch 62/150\n",
      "125/125 [==============================] - 0s 3ms/step - loss: 0.1329 - accuracy: 0.9563 - val_loss: 0.4183 - val_accuracy: 0.8860\n",
      "Epoch 63/150\n",
      "125/125 [==============================] - 0s 3ms/step - loss: 0.1431 - accuracy: 0.9515 - val_loss: 0.4273 - val_accuracy: 0.8840\n",
      "Epoch 64/150\n",
      "125/125 [==============================] - 0s 3ms/step - loss: 0.1391 - accuracy: 0.9525 - val_loss: 0.4050 - val_accuracy: 0.8790\n",
      "Epoch 65/150\n",
      "125/125 [==============================] - 0s 3ms/step - loss: 0.1369 - accuracy: 0.9555 - val_loss: 0.4192 - val_accuracy: 0.8890\n",
      "Epoch 66/150\n",
      "125/125 [==============================] - 0s 3ms/step - loss: 0.1351 - accuracy: 0.9538 - val_loss: 0.4102 - val_accuracy: 0.8810\n",
      "Epoch 67/150\n",
      "125/125 [==============================] - 0s 3ms/step - loss: 0.1348 - accuracy: 0.9523 - val_loss: 0.4285 - val_accuracy: 0.8740\n",
      "Epoch 68/150\n",
      "125/125 [==============================] - 0s 3ms/step - loss: 0.1349 - accuracy: 0.9548 - val_loss: 0.4258 - val_accuracy: 0.8790\n",
      "Epoch 69/150\n",
      "125/125 [==============================] - 0s 3ms/step - loss: 0.1460 - accuracy: 0.9455 - val_loss: 0.4432 - val_accuracy: 0.8710\n",
      "Epoch 70/150\n",
      "125/125 [==============================] - 0s 3ms/step - loss: 0.1323 - accuracy: 0.9553 - val_loss: 0.4625 - val_accuracy: 0.8730\n",
      "Epoch 71/150\n",
      "125/125 [==============================] - 0s 2ms/step - loss: 0.1384 - accuracy: 0.9542 - val_loss: 0.4188 - val_accuracy: 0.8830\n",
      "Epoch 72/150\n",
      "125/125 [==============================] - 0s 1ms/step - loss: 0.1455 - accuracy: 0.9495 - val_loss: 0.4299 - val_accuracy: 0.8820\n",
      "Epoch 73/150\n",
      "125/125 [==============================] - 0s 1ms/step - loss: 0.1330 - accuracy: 0.9545 - val_loss: 0.4362 - val_accuracy: 0.8770\n",
      "Epoch 74/150\n",
      "125/125 [==============================] - 0s 1ms/step - loss: 0.1398 - accuracy: 0.9517 - val_loss: 0.4735 - val_accuracy: 0.8710\n",
      "Epoch 75/150\n",
      "125/125 [==============================] - 0s 1ms/step - loss: 0.1326 - accuracy: 0.9560 - val_loss: 0.4335 - val_accuracy: 0.8790\n",
      "Epoch 76/150\n",
      "125/125 [==============================] - 0s 1ms/step - loss: 0.1353 - accuracy: 0.9553 - val_loss: 0.4820 - val_accuracy: 0.8700\n",
      "Epoch 77/150\n",
      "125/125 [==============================] - 0s 1ms/step - loss: 0.1332 - accuracy: 0.9538 - val_loss: 0.4102 - val_accuracy: 0.8840\n",
      "Epoch 78/150\n",
      "125/125 [==============================] - 0s 1ms/step - loss: 0.1488 - accuracy: 0.9492 - val_loss: 0.4116 - val_accuracy: 0.8890\n",
      "Epoch 79/150\n",
      "125/125 [==============================] - 0s 1ms/step - loss: 0.1319 - accuracy: 0.9525 - val_loss: 0.4157 - val_accuracy: 0.8850\n",
      "Epoch 80/150\n",
      "125/125 [==============================] - 0s 1ms/step - loss: 0.1298 - accuracy: 0.9582 - val_loss: 0.4184 - val_accuracy: 0.8830\n",
      "Epoch 81/150\n",
      "125/125 [==============================] - 0s 1ms/step - loss: 0.1255 - accuracy: 0.9610 - val_loss: 0.4237 - val_accuracy: 0.8880\n",
      "Epoch 82/150\n",
      "125/125 [==============================] - 0s 1ms/step - loss: 0.1244 - accuracy: 0.9620 - val_loss: 0.4159 - val_accuracy: 0.8850\n",
      "Epoch 83/150\n",
      "125/125 [==============================] - 0s 1ms/step - loss: 0.1333 - accuracy: 0.9550 - val_loss: 0.4357 - val_accuracy: 0.8790\n",
      "Epoch 84/150\n",
      "125/125 [==============================] - 0s 1ms/step - loss: 0.1258 - accuracy: 0.9560 - val_loss: 0.4239 - val_accuracy: 0.8780\n",
      "Epoch 85/150\n",
      "125/125 [==============================] - 0s 1ms/step - loss: 0.1295 - accuracy: 0.9565 - val_loss: 0.4206 - val_accuracy: 0.8850\n",
      "Epoch 86/150\n",
      "125/125 [==============================] - 0s 1ms/step - loss: 0.1300 - accuracy: 0.9555 - val_loss: 0.4342 - val_accuracy: 0.8820\n",
      "Epoch 87/150\n",
      "125/125 [==============================] - 0s 1ms/step - loss: 0.1329 - accuracy: 0.9548 - val_loss: 0.4180 - val_accuracy: 0.8860\n",
      "Epoch 88/150\n",
      "125/125 [==============================] - 0s 1ms/step - loss: 0.1230 - accuracy: 0.9613 - val_loss: 0.4306 - val_accuracy: 0.8830\n",
      "Epoch 89/150\n",
      "125/125 [==============================] - 0s 1ms/step - loss: 0.1295 - accuracy: 0.9553 - val_loss: 0.4221 - val_accuracy: 0.8760\n",
      "Epoch 90/150\n",
      "125/125 [==============================] - 0s 1ms/step - loss: 0.1388 - accuracy: 0.9517 - val_loss: 0.4206 - val_accuracy: 0.8840\n",
      "Epoch 91/150\n",
      "125/125 [==============================] - 0s 1ms/step - loss: 0.1296 - accuracy: 0.9588 - val_loss: 0.4360 - val_accuracy: 0.8770\n",
      "Epoch 92/150\n",
      "125/125 [==============================] - 0s 1ms/step - loss: 0.1231 - accuracy: 0.9600 - val_loss: 0.4258 - val_accuracy: 0.8780\n",
      "Epoch 93/150\n",
      "125/125 [==============================] - 0s 1ms/step - loss: 0.1256 - accuracy: 0.9565 - val_loss: 0.4271 - val_accuracy: 0.8840\n",
      "Epoch 94/150\n",
      "125/125 [==============================] - 0s 1ms/step - loss: 0.1264 - accuracy: 0.9540 - val_loss: 0.4229 - val_accuracy: 0.8900\n",
      "Epoch 95/150\n",
      "125/125 [==============================] - 0s 1ms/step - loss: 0.1251 - accuracy: 0.9563 - val_loss: 0.4465 - val_accuracy: 0.8760\n",
      "Epoch 96/150\n",
      "125/125 [==============================] - 0s 1ms/step - loss: 0.1259 - accuracy: 0.9585 - val_loss: 0.4378 - val_accuracy: 0.8820\n",
      "Epoch 97/150\n",
      "125/125 [==============================] - 0s 1ms/step - loss: 0.1221 - accuracy: 0.9592 - val_loss: 0.4474 - val_accuracy: 0.8790\n",
      "Epoch 98/150\n",
      "125/125 [==============================] - 0s 1ms/step - loss: 0.1214 - accuracy: 0.9582 - val_loss: 0.4239 - val_accuracy: 0.8770\n",
      "Epoch 99/150\n",
      "125/125 [==============================] - 0s 1ms/step - loss: 0.1237 - accuracy: 0.9610 - val_loss: 0.4319 - val_accuracy: 0.8780\n",
      "Epoch 100/150\n",
      "125/125 [==============================] - 0s 1ms/step - loss: 0.1212 - accuracy: 0.9595 - val_loss: 0.4286 - val_accuracy: 0.8830\n",
      "Epoch 101/150\n",
      "125/125 [==============================] - 0s 1ms/step - loss: 0.1255 - accuracy: 0.9588 - val_loss: 0.4440 - val_accuracy: 0.8750\n",
      "Epoch 102/150\n",
      "125/125 [==============================] - 0s 1ms/step - loss: 0.1215 - accuracy: 0.9605 - val_loss: 0.4482 - val_accuracy: 0.8740\n",
      "Epoch 103/150\n",
      "125/125 [==============================] - 0s 1ms/step - loss: 0.1238 - accuracy: 0.9597 - val_loss: 0.4203 - val_accuracy: 0.8820\n",
      "Epoch 104/150\n",
      "125/125 [==============================] - 0s 1ms/step - loss: 0.1214 - accuracy: 0.9603 - val_loss: 0.4326 - val_accuracy: 0.8870\n",
      "Epoch 105/150\n",
      "125/125 [==============================] - 0s 1ms/step - loss: 0.1190 - accuracy: 0.9607 - val_loss: 0.4376 - val_accuracy: 0.8800\n",
      "Epoch 106/150\n",
      "125/125 [==============================] - 0s 1ms/step - loss: 0.1221 - accuracy: 0.9630 - val_loss: 0.4321 - val_accuracy: 0.8810\n",
      "Epoch 107/150\n",
      "125/125 [==============================] - 0s 1ms/step - loss: 0.1216 - accuracy: 0.9580 - val_loss: 0.4705 - val_accuracy: 0.8750\n",
      "Epoch 108/150\n",
      "125/125 [==============================] - 0s 1ms/step - loss: 0.1235 - accuracy: 0.9582 - val_loss: 0.4252 - val_accuracy: 0.8880\n",
      "Epoch 109/150\n",
      "125/125 [==============================] - 0s 1ms/step - loss: 0.1161 - accuracy: 0.9645 - val_loss: 0.4637 - val_accuracy: 0.8740\n",
      "Epoch 110/150\n",
      "125/125 [==============================] - 0s 1ms/step - loss: 0.1221 - accuracy: 0.9588 - val_loss: 0.4410 - val_accuracy: 0.8820\n",
      "Epoch 111/150\n",
      "125/125 [==============================] - 0s 1ms/step - loss: 0.1182 - accuracy: 0.9570 - val_loss: 0.4432 - val_accuracy: 0.8830\n",
      "Epoch 112/150\n",
      "125/125 [==============================] - 0s 1ms/step - loss: 0.1250 - accuracy: 0.9597 - val_loss: 0.4413 - val_accuracy: 0.8810\n",
      "Epoch 113/150\n",
      "125/125 [==============================] - 0s 1ms/step - loss: 0.1153 - accuracy: 0.9607 - val_loss: 0.4691 - val_accuracy: 0.8720\n",
      "Epoch 114/150\n",
      "125/125 [==============================] - 0s 1ms/step - loss: 0.1196 - accuracy: 0.9575 - val_loss: 0.4236 - val_accuracy: 0.8850\n",
      "Epoch 115/150\n",
      "125/125 [==============================] - 0s 1ms/step - loss: 0.1198 - accuracy: 0.9590 - val_loss: 0.4340 - val_accuracy: 0.8870\n",
      "Epoch 116/150\n",
      "125/125 [==============================] - 0s 1ms/step - loss: 0.1168 - accuracy: 0.9643 - val_loss: 0.4260 - val_accuracy: 0.8900\n",
      "Epoch 117/150\n",
      "125/125 [==============================] - 0s 1ms/step - loss: 0.1201 - accuracy: 0.9610 - val_loss: 0.4579 - val_accuracy: 0.8820\n",
      "Epoch 118/150\n",
      "125/125 [==============================] - 0s 1ms/step - loss: 0.1169 - accuracy: 0.9617 - val_loss: 0.4237 - val_accuracy: 0.8880\n",
      "Epoch 119/150\n",
      "125/125 [==============================] - 0s 1ms/step - loss: 0.1132 - accuracy: 0.9635 - val_loss: 0.4358 - val_accuracy: 0.8810\n",
      "Epoch 120/150\n",
      "125/125 [==============================] - 0s 1ms/step - loss: 0.1205 - accuracy: 0.9590 - val_loss: 0.4404 - val_accuracy: 0.8830\n",
      "Epoch 121/150\n",
      "125/125 [==============================] - 0s 1ms/step - loss: 0.1127 - accuracy: 0.9643 - val_loss: 0.4297 - val_accuracy: 0.8910\n",
      "Epoch 122/150\n",
      "125/125 [==============================] - 0s 1ms/step - loss: 0.1139 - accuracy: 0.9615 - val_loss: 0.4613 - val_accuracy: 0.8870\n",
      "Epoch 123/150\n",
      "125/125 [==============================] - 0s 1ms/step - loss: 0.1187 - accuracy: 0.9628 - val_loss: 0.4592 - val_accuracy: 0.8760\n",
      "Epoch 124/150\n",
      "125/125 [==============================] - 0s 1ms/step - loss: 0.1152 - accuracy: 0.9635 - val_loss: 0.4348 - val_accuracy: 0.8850\n",
      "Epoch 125/150\n",
      "125/125 [==============================] - 0s 1ms/step - loss: 0.1167 - accuracy: 0.9632 - val_loss: 0.4836 - val_accuracy: 0.8740\n",
      "Epoch 126/150\n",
      "125/125 [==============================] - 0s 1ms/step - loss: 0.1191 - accuracy: 0.9580 - val_loss: 0.4485 - val_accuracy: 0.8770\n",
      "Epoch 127/150\n",
      "125/125 [==============================] - 0s 1ms/step - loss: 0.1132 - accuracy: 0.9610 - val_loss: 0.4758 - val_accuracy: 0.8760\n",
      "Epoch 128/150\n",
      "125/125 [==============================] - 0s 1ms/step - loss: 0.1104 - accuracy: 0.9675 - val_loss: 0.4351 - val_accuracy: 0.8820\n",
      "Epoch 129/150\n",
      "125/125 [==============================] - 0s 1ms/step - loss: 0.1080 - accuracy: 0.9638 - val_loss: 0.4551 - val_accuracy: 0.8880\n",
      "Epoch 130/150\n",
      "125/125 [==============================] - 0s 1ms/step - loss: 0.1095 - accuracy: 0.9640 - val_loss: 0.4402 - val_accuracy: 0.8800\n",
      "Epoch 131/150\n",
      "125/125 [==============================] - 0s 1ms/step - loss: 0.1139 - accuracy: 0.9617 - val_loss: 0.4663 - val_accuracy: 0.8770\n",
      "Epoch 132/150\n",
      "125/125 [==============================] - 0s 1ms/step - loss: 0.1091 - accuracy: 0.9660 - val_loss: 0.4498 - val_accuracy: 0.8850\n",
      "Epoch 133/150\n",
      "125/125 [==============================] - 0s 1ms/step - loss: 0.1080 - accuracy: 0.9657 - val_loss: 0.4847 - val_accuracy: 0.8740\n",
      "Epoch 134/150\n",
      "125/125 [==============================] - 0s 1ms/step - loss: 0.1186 - accuracy: 0.9590 - val_loss: 0.4437 - val_accuracy: 0.8750\n",
      "Epoch 135/150\n",
      "125/125 [==============================] - 0s 1ms/step - loss: 0.1164 - accuracy: 0.9603 - val_loss: 0.5373 - val_accuracy: 0.8560\n",
      "Epoch 136/150\n",
      "125/125 [==============================] - 0s 1ms/step - loss: 0.1157 - accuracy: 0.9590 - val_loss: 0.4445 - val_accuracy: 0.8830\n",
      "Epoch 137/150\n",
      "125/125 [==============================] - 0s 1ms/step - loss: 0.1124 - accuracy: 0.9622 - val_loss: 0.4353 - val_accuracy: 0.8920\n",
      "Epoch 138/150\n",
      "125/125 [==============================] - 0s 1ms/step - loss: 0.1051 - accuracy: 0.9665 - val_loss: 0.4624 - val_accuracy: 0.8880\n",
      "Epoch 139/150\n",
      "125/125 [==============================] - 0s 1ms/step - loss: 0.1070 - accuracy: 0.9647 - val_loss: 0.4476 - val_accuracy: 0.8840\n",
      "Epoch 140/150\n",
      "125/125 [==============================] - 0s 1ms/step - loss: 0.1057 - accuracy: 0.9668 - val_loss: 0.4349 - val_accuracy: 0.8880\n",
      "Epoch 141/150\n",
      "125/125 [==============================] - 0s 1ms/step - loss: 0.1046 - accuracy: 0.9672 - val_loss: 0.4426 - val_accuracy: 0.8840\n",
      "Epoch 142/150\n",
      "125/125 [==============================] - 0s 1ms/step - loss: 0.1029 - accuracy: 0.9685 - val_loss: 0.4521 - val_accuracy: 0.8840\n",
      "Epoch 143/150\n",
      "125/125 [==============================] - 0s 1ms/step - loss: 0.1083 - accuracy: 0.9625 - val_loss: 0.4942 - val_accuracy: 0.8680\n",
      "Epoch 144/150\n",
      "125/125 [==============================] - 0s 1ms/step - loss: 0.1106 - accuracy: 0.9640 - val_loss: 0.4723 - val_accuracy: 0.8760\n",
      "Epoch 145/150\n",
      "125/125 [==============================] - 0s 1ms/step - loss: 0.1048 - accuracy: 0.9645 - val_loss: 0.4632 - val_accuracy: 0.8840\n",
      "Epoch 146/150\n",
      "125/125 [==============================] - 0s 1ms/step - loss: 0.1039 - accuracy: 0.9657 - val_loss: 0.4800 - val_accuracy: 0.8780\n",
      "Epoch 147/150\n",
      "125/125 [==============================] - 0s 1ms/step - loss: 0.1063 - accuracy: 0.9640 - val_loss: 0.4519 - val_accuracy: 0.8840\n",
      "Epoch 148/150\n",
      "125/125 [==============================] - 0s 1ms/step - loss: 0.1073 - accuracy: 0.9647 - val_loss: 0.4717 - val_accuracy: 0.8850\n",
      "Epoch 149/150\n",
      "125/125 [==============================] - 0s 1ms/step - loss: 0.1117 - accuracy: 0.9635 - val_loss: 0.4527 - val_accuracy: 0.8880\n",
      "Epoch 150/150\n",
      "125/125 [==============================] - 0s 1ms/step - loss: 0.1136 - accuracy: 0.9610 - val_loss: 0.4492 - val_accuracy: 0.8860\n"
     ]
    }
   ],
   "source": [
    "history = model.fit(X_train, y_train, validation_data=(X_test, y_test), epochs=150, batch_size=32)"
   ],
   "metadata": {
    "collapsed": false
   }
  },
  {
   "cell_type": "code",
   "execution_count": 76,
   "metadata": {
    "collapsed": true
   },
   "outputs": [
    {
     "data": {
      "text/plain": "<Figure size 640x480 with 1 Axes>",
      "image/png": "[encoded data removed]"
     },
     "metadata": {},
     "output_type": "display_data"
    }
   ],
   "source": [
    "history_dict = history.history\n",
    "\n",
    "acc = history_dict['accuracy']\n",
    "loss = history_dict['loss']\n",
    "\n",
    "epochs = range(1, len(acc) + 1)\n",
    "\n",
    "# \"bo\" is for \"blue dot\"\n",
    "plt.plot(epochs, loss, 'bo', label='Training loss')\n",
    "# b is for \"solid blue line\"\n",
    "plt.plot(epochs, acc, 'b', label='Validation loss')\n",
    "plt.title('Training and validation loss')\n",
    "plt.xlabel('Epochs')\n",
    "plt.ylabel('Loss')\n",
    "plt.legend()\n",
    "\n",
    "plt.show()"
   ]
  },
  {
   "cell_type": "code",
   "execution_count": 77,
   "outputs": [
    {
     "name": "stdout",
     "output_type": "stream",
     "text": [
      "32/32 [==============================] - 0s 504us/step - loss: 0.4492 - accuracy: 0.8860\n"
     ]
    }
   ],
   "source": [
    "loss, accuracy = model.evaluate(X_test, y_test, verbose=1)"
   ],
   "metadata": {
    "collapsed": false
   }
  },
  {
   "cell_type": "code",
   "execution_count": 78,
   "outputs": [
    {
     "name": "stdout",
     "output_type": "stream",
     "text": [
      "32/32 [==============================] - 0s 504us/step\n"
     ]
    },
    {
     "data": {
      "text/plain": "[0,\n 3,\n 1,\n 0,\n 0,\n 0,\n 0,\n 0,\n 1,\n 0,\n 2,\n 0,\n 0,\n 0,\n 0,\n 0,\n 0,\n 3,\n 0,\n 4,\n 2,\n 3,\n 1,\n 0,\n 0,\n 1,\n 0,\n 0,\n 0,\n 0,\n 2,\n 3,\n 0,\n 1,\n 1,\n 0,\n 0,\n 3,\n 3,\n 3,\n 0,\n 0,\n 1,\n 0,\n 0,\n 0,\n 0,\n 1,\n 0,\n 0,\n 3,\n 2,\n 2,\n 0,\n 3,\n 3,\n 0,\n 0,\n 0,\n 1,\n 0,\n 1,\n 3,\n 0,\n 4,\n 0,\n 0,\n 0,\n 2,\n 0,\n 4,\n 0,\n 0,\n 2,\n 4,\n 3,\n 0,\n 2,\n 4,\n 3,\n 4,\n 1,\n 3,\n 2,\n 0,\n 0,\n 0,\n 0,\n 0,\n 0,\n 2,\n 0,\n 0,\n 1,\n 0,\n 2,\n 3,\n 3,\n 1,\n 4,\n 0,\n 3,\n 0,\n 3,\n 2,\n 4,\n 0,\n 1,\n 0,\n 0,\n 1,\n 0,\n 0,\n 0,\n 2,\n 2,\n 0,\n 0,\n 0,\n 3,\n 0,\n 0,\n 0,\n 2,\n 4,\n 0,\n 1,\n 0,\n 3,\n 1,\n 0,\n 3,\n 0,\n 3,\n 0,\n 3,\n 3,\n 4,\n 0,\n 0,\n 0,\n 2,\n 0,\n 2,\n 1,\n 0,\n 0,\n 1,\n 0,\n 4,\n 2,\n 1,\n 3,\n 0,\n 0,\n 0,\n 1,\n 0,\n 0,\n 2,\n 3,\n 0,\n 1,\n 0,\n 1,\n 0,\n 0,\n 3,\n 1,\n 3,\n 1,\n 1,\n 4,\n 0,\n 0,\n 1,\n 3,\n 0,\n 3,\n 0,\n 1,\n 1,\n 1,\n 1,\n 4,\n 0,\n 4,\n 0,\n 3,\n 2,\n 3,\n 4,\n 0,\n 2,\n 0,\n 2,\n 0,\n 0,\n 0,\n 2,\n 4,\n 2,\n 1,\n 0,\n 3,\n 0,\n 0,\n 4,\n 3,\n 0,\n 0,\n 0,\n 0,\n 3,\n 0,\n 3,\n 3,\n 0,\n 3,\n 0,\n 2,\n 0,\n 4,\n 0,\n 0,\n 0,\n 4,\n 4,\n 1,\n 3,\n 1,\n 0,\n 4,\n 3,\n 1,\n 0,\n 2,\n 3,\n 4,\n 0,\n 3,\n 4,\n 2,\n 1,\n 3,\n 0,\n 0,\n 2,\n 0,\n 2,\n 1,\n 0,\n 0,\n 3,\n 0,\n 0,\n 3,\n 2,\n 1,\n 1,\n 0,\n 0,\n 4,\n 4,\n 0,\n 3,\n 4,\n 0,\n 3,\n 0,\n 1,\n 2,\n 4,\n 2,\n 0,\n 2,\n 0,\n 3,\n 0,\n 3,\n 3,\n 3,\n 0,\n 0,\n 0,\n 3,\n 0,\n 4,\n 1,\n 1,\n 0,\n 0,\n 3,\n 1,\n 4,\n 2,\n 2,\n 2,\n 4,\n 3,\n 3,\n 3,\n 1,\n 0,\n 0,\n 0,\n 0,\n 0,\n 3,\n 0,\n 3,\n 2,\n 3,\n 1,\n 3,\n 0,\n 3,\n 4,\n 3,\n 1,\n 3,\n 2,\n 3,\n 0,\n 4,\n 3,\n 4,\n 0,\n 1,\n 2,\n 0,\n 2,\n 0,\n 0,\n 4,\n 2,\n 0,\n 1,\n 0,\n 0,\n 3,\n 0,\n 1,\n 0,\n 3,\n 1,\n 3,\n 0,\n 3,\n 1,\n 3,\n 0,\n 2,\n 0,\n 0,\n 1,\n 0,\n 3,\n 0,\n 0,\n 2,\n 0,\n 0,\n 0,\n 2,\n 4,\n 2,\n 3,\n 0,\n 2,\n 1,\n 0,\n 0,\n 1,\n 0,\n 4,\n 1,\n 3,\n 0,\n 4,\n 3,\n 3,\n 0,\n 2,\n 0,\n 4,\n 0,\n 4,\n 0,\n 1,\n 2,\n 0,\n 1,\n 0,\n 0,\n 1,\n 2,\n 3,\n 0,\n 0,\n 0,\n 0,\n 1,\n 4,\n 0,\n 3,\n 0,\n 2,\n 0,\n 0,\n 3,\n 3,\n 0,\n 3,\n 0,\n 2,\n 1,\n 3,\n 0,\n 0,\n 4,\n 4,\n 2,\n 0,\n 0,\n 0,\n 3,\n 1,\n 1,\n 1,\n 3,\n 0,\n 2,\n 0,\n 1,\n 0,\n 0,\n 0,\n 1,\n 0,\n 4,\n 4,\n 0,\n 0,\n 1,\n 1,\n 1,\n 1,\n 0,\n 0,\n 0,\n 0,\n 2,\n 0,\n 0,\n 0,\n 1,\n 0,\n 3,\n 0,\n 3,\n 0,\n 4,\n 1,\n 0,\n 0,\n 0,\n 1,\n 0,\n 2,\n 0,\n 0,\n 1,\n 4,\n 1,\n 3,\n 3,\n 1,\n 3,\n 1,\n 3,\n 1,\n 0,\n 3,\n 0,\n 0,\n 3,\n 2,\n 0,\n 3,\n 0,\n 0,\n 0,\n 3,\n 1,\n 0,\n 2,\n 0,\n 2,\n 3,\n 4,\n 3,\n 2,\n 0,\n 0,\n 2,\n 0,\n 0,\n 0,\n 0,\n 0,\n 0,\n 0,\n 0,\n 0,\n 2,\n 3,\n 1,\n 3,\n 2,\n 0,\n 2,\n 2,\n 0,\n 3,\n 4,\n 0,\n 0,\n 0,\n 4,\n 1,\n 3,\n 0,\n 0,\n 4,\n 1,\n 1,\n 0,\n 4,\n 3,\n 3,\n 3,\n 0,\n 4,\n 0,\n 3,\n 3,\n 4,\n 1,\n 0,\n 0,\n 3,\n 4,\n 3,\n 3,\n 0,\n 0,\n 1,\n 4,\n 3,\n 0,\n 0,\n 3,\n 3,\n 1,\n 3,\n 3,\n 4,\n 3,\n 0,\n 3,\n 0,\n 3,\n 0,\n 3,\n 0,\n 4,\n 2,\n 3,\n 0,\n 3,\n 0,\n 3,\n 0,\n 0,\n 4,\n 0,\n 3,\n 4,\n 4,\n 3,\n 3,\n 1,\n 1,\n 0,\n 0,\n 2,\n 0,\n 0,\n 2,\n 3,\n 0,\n 3,\n 4,\n 3,\n 3,\n 2,\n 0,\n 3,\n 0,\n 0,\n 0,\n 4,\n 0,\n 1,\n 3,\n 2,\n 1,\n 3,\n 2,\n 0,\n 3,\n 0,\n 4,\n 3,\n 4,\n 3,\n 0,\n 1,\n 3,\n 0,\n 2,\n 4,\n 0,\n 0,\n 1,\n 0,\n 4,\n 1,\n 0,\n 2,\n 3,\n 4,\n 0,\n 3,\n 0,\n 2,\n 1,\n 0,\n 1,\n 0,\n 0,\n 4,\n 0,\n 3,\n 0,\n 0,\n 0,\n 0,\n 3,\n 0,\n 0,\n 1,\n 2,\n 0,\n 4,\n 1,\n 0,\n 0,\n 0,\n 0,\n 0,\n 3,\n 4,\n 2,\n 0,\n 1,\n 0,\n 3,\n 3,\n 0,\n 2,\n 1,\n 1,\n 0,\n 0,\n 0,\n 2,\n 4,\n 0,\n 0,\n 3,\n 0,\n 2,\n 2,\n 2,\n 0,\n 1,\n 3,\n 0,\n 3,\n 3,\n 0,\n 2,\n 1,\n 0,\n 0,\n 1,\n 2,\n 0,\n 0,\n 1,\n 2,\n 0,\n 0,\n 3,\n 3,\n 3,\n 0,\n 3,\n 0,\n 3,\n 0,\n 0,\n 1,\n 4,\n 1,\n 3,\n 3,\n 0,\n 0,\n 2,\n 2,\n 0,\n 1,\n 0,\n 1,\n 1,\n 1,\n 1,\n 0,\n 0,\n 1,\n 3,\n 1,\n 3,\n 4,\n 4,\n 1,\n 3,\n 3,\n 3,\n 2,\n 4,\n 2,\n 1,\n 2,\n 1,\n 0,\n 3,\n 4,\n 0,\n 1,\n 0,\n 3,\n 0,\n 3,\n 2,\n 0,\n 3,\n 0,\n 3,\n 0,\n 2,\n 0,\n 0,\n 2,\n 0,\n 2,\n 0,\n 2,\n 3,\n 0,\n 0,\n 2,\n 4,\n 4,\n 0,\n 0,\n 0,\n 0,\n 2,\n 3,\n 0,\n 3,\n 2,\n 3,\n 3,\n 3,\n 1,\n 0,\n 3,\n 0,\n 3,\n 3,\n 0,\n 0,\n 3,\n 1,\n 4,\n 0,\n 3,\n 2,\n 0,\n 3,\n 4,\n 1,\n 0,\n 3,\n 4,\n 1,\n 0,\n 1,\n 2,\n 4,\n 0,\n 0,\n 3,\n 3,\n 0,\n 2,\n 0,\n 2,\n 0,\n 0,\n 0,\n 0,\n 2,\n 0,\n 3,\n 3,\n 3,\n 0,\n 0,\n 0,\n 4,\n 1,\n 2,\n 0,\n 0,\n 3,\n 0,\n 3,\n 4,\n 0,\n 1,\n 2,\n 3,\n 1,\n 2,\n 0,\n 3,\n 1,\n 4,\n 1,\n 1,\n 0,\n 4,\n 0,\n 0,\n 3,\n 1,\n 4,\n 0,\n 3,\n 0,\n 0,\n 0,\n 0,\n 3,\n 1,\n 4,\n 0,\n 3,\n 4,\n 4,\n 1,\n 0,\n 0,\n 3,\n 2,\n 3,\n 0,\n 3,\n 0,\n 3,\n 0,\n 0,\n 0,\n 0,\n 2,\n 4,\n 3,\n 3,\n 3,\n 0,\n 3,\n 0,\n 2,\n 3,\n 1,\n 4,\n 4,\n 0,\n 0,\n 0,\n 0,\n 0,\n 2,\n 0,\n 0,\n 2,\n 1,\n 1,\n 1,\n 2,\n 1,\n 0,\n 0,\n 4,\n 0,\n 4,\n 0,\n 4,\n 3,\n 0,\n 1,\n 0,\n 0,\n 3,\n 1,\n 3,\n 0,\n 3,\n 4,\n 3,\n 0,\n 1,\n 3,\n 2,\n 4,\n 0,\n 4,\n 0,\n 3,\n 0,\n 3,\n 0,\n 2,\n 2,\n 3,\n 3,\n 1,\n 0,\n 1,\n 3,\n 4,\n 2,\n 4,\n 3,\n 2,\n 0,\n 3,\n 0,\n 3,\n 1,\n 0,\n 2,\n 0,\n 1,\n 2,\n 0,\n 3,\n 3,\n 3,\n 1,\n 2,\n 3,\n 0,\n 0,\n 0,\n 4,\n 2,\n 0,\n 4,\n 4,\n 0,\n 3,\n 0,\n 3]"
     },
     "execution_count": 78,
     "metadata": {},
     "output_type": "execute_result"
    }
   ],
   "source": [
    "predicts = model.predict(X_test)\n",
    "\n",
    "categories_predicted = [np.argmax(pred) for pred in predicts]\n",
    "\n",
    "categories_predicted"
   ],
   "metadata": {
    "collapsed": false
   }
  },
  {
   "cell_type": "code",
   "execution_count": 79,
   "outputs": [
    {
     "data": {
      "text/plain": "1718    0\n2511    1\n345     1\n2521    0\n54      0\n       ..\n3900    4\n3753    0\n3582    3\n2392    0\n3343    4\nName: incidents, Length: 1000, dtype: int64"
     },
     "execution_count": 79,
     "metadata": {},
     "output_type": "execute_result"
    }
   ],
   "source": [
    "y_test"
   ],
   "metadata": {
    "collapsed": false
   }
  },
  {
   "cell_type": "markdown",
   "source": [
    "# Obter as previsões no dataset de submissão"
   ],
   "metadata": {
    "collapsed": false
   }
  },
  {
   "cell_type": "code",
   "execution_count": 80,
   "outputs": [
    {
     "data": {
      "text/plain": "      delay_in_seconds  affected_roads  luminosity  avg_temperature  \\\n0             0.081461        0.142857         0.5         0.464286   \n1             0.000000        0.142857         1.0         0.500000   \n2             0.000000        0.142857         0.5         0.714286   \n3             0.009417        0.285714         0.5         0.571429   \n4             0.000000        0.142857         0.5         0.642857   \n...                ...             ...         ...              ...   \n1201          0.000000        0.142857         0.5         0.357143   \n1202          0.002960        0.142857         1.0         0.785714   \n1203          0.084824        0.142857         0.5         0.392857   \n1204          0.016548        0.142857         0.5         0.464286   \n1205          0.000000        0.142857         0.5         0.607143   \n\n      avg_atm_pressure  avg_humidity  avg_wind_speed  avg_rain  \\\n0              0.59375      0.784946        0.000000       0.0   \n1              0.59375      0.365591        0.222222       0.0   \n2              0.56250      0.688172        0.000000       0.0   \n3              0.28125      0.795699        0.333333       0.0   \n4              0.71875      0.849462        0.000000       0.0   \n...                ...           ...             ...       ...   \n1201           0.81250      0.677419        0.222222       0.0   \n1202           0.53125      0.344086        0.222222       0.0   \n1203           0.59375      0.569892        0.000000       0.0   \n1204           0.50000      0.462366        0.111111       0.0   \n1205           0.71875      0.408602        0.111111       0.0   \n\n      record_date_hour  record_date_day  record_date_month  \\\n0             0.826087         0.400000           0.272727   \n1             0.173913         0.400000           0.818182   \n2             0.826087         0.566667           0.545455   \n3             0.652174         0.966667           0.818182   \n4             0.434783         0.566667           0.818182   \n...                ...              ...                ...   \n1201          0.434783         1.000000           1.000000   \n1202          0.000000         0.500000           0.545455   \n1203          0.652174         0.600000           1.000000   \n1204          0.739130         0.233333           0.181818   \n1205          0.434783         0.166667           0.454545   \n\n      record_date_weekday  \n0                0.166667  \n1                0.333333  \n2                1.000000  \n3                0.833333  \n4                0.000000  \n...                   ...  \n1201             0.666667  \n1202             0.666667  \n1203             1.000000  \n1204             0.000000  \n1205             1.000000  \n\n[1206 rows x 12 columns]",
      "text/html": "<div>\n<style scoped>\n    .dataframe tbody tr th:only-of-type {\n        vertical-align: middle;\n    }\n\n    .dataframe tbody tr th {\n        vertical-align: top;\n    }\n\n    .dataframe thead th {\n        text-align: right;\n    }\n</style>\n<table border=\"1\" class=\"dataframe\">\n  <thead>\n    <tr style=\"text-align: right;\">\n      <th></th>\n      <th>delay_in_seconds</th>\n      <th>affected_roads</th>\n      <th>luminosity</th>\n      <th>avg_temperature</th>\n      <th>avg_atm_pressure</th>\n      <th>avg_humidity</th>\n      <th>avg_wind_speed</th>\n      <th>avg_rain</th>\n      <th>record_date_hour</th>\n      <th>record_date_day</th>\n      <th>record_date_month</th>\n      <th>record_date_weekday</th>\n    </tr>\n  </thead>\n  <tbody>\n    <tr>\n      <th>0</th>\n      <td>0.081461</td>\n      <td>0.142857</td>\n      <td>0.5</td>\n      <td>0.464286</td>\n      <td>0.59375</td>\n      <td>0.784946</td>\n      <td>0.000000</td>\n      <td>0.0</td>\n      <td>0.826087</td>\n      <td>0.400000</td>\n      <td>0.272727</td>\n      <td>0.166667</td>\n    </tr>\n    <tr>\n      <th>1</th>\n      <td>0.000000</td>\n      <td>0.142857</td>\n      <td>1.0</td>\n      <td>0.500000</td>\n      <td>0.59375</td>\n      <td>0.365591</td>\n      <td>0.222222</td>\n      <td>0.0</td>\n      <td>0.173913</td>\n      <td>0.400000</td>\n      <td>0.818182</td>\n      <td>0.333333</td>\n    </tr>\n    <tr>\n      <th>2</th>\n      <td>0.000000</td>\n      <td>0.142857</td>\n      <td>0.5</td>\n      <td>0.714286</td>\n      <td>0.56250</td>\n      <td>0.688172</td>\n      <td>0.000000</td>\n      <td>0.0</td>\n      <td>0.826087</td>\n      <td>0.566667</td>\n      <td>0.545455</td>\n      <td>1.000000</td>\n    </tr>\n    <tr>\n      <th>3</th>\n      <td>0.009417</td>\n      <td>0.285714</td>\n      <td>0.5</td>\n      <td>0.571429</td>\n      <td>0.28125</td>\n      <td>0.795699</td>\n      <td>0.333333</td>\n      <td>0.0</td>\n      <td>0.652174</td>\n      <td>0.966667</td>\n      <td>0.818182</td>\n      <td>0.833333</td>\n    </tr>\n    <tr>\n      <th>4</th>\n      <td>0.000000</td>\n      <td>0.142857</td>\n      <td>0.5</td>\n      <td>0.642857</td>\n      <td>0.71875</td>\n      <td>0.849462</td>\n      <td>0.000000</td>\n      <td>0.0</td>\n      <td>0.434783</td>\n      <td>0.566667</td>\n      <td>0.818182</td>\n      <td>0.000000</td>\n    </tr>\n    <tr>\n      <th>...</th>\n      <td>...</td>\n      <td>...</td>\n      <td>...</td>\n      <td>...</td>\n      <td>...</td>\n      <td>...</td>\n      <td>...</td>\n      <td>...</td>\n      <td>...</td>\n      <td>...</td>\n      <td>...</td>\n      <td>...</td>\n    </tr>\n    <tr>\n      <th>1201</th>\n      <td>0.000000</td>\n      <td>0.142857</td>\n      <td>0.5</td>\n      <td>0.357143</td>\n      <td>0.81250</td>\n      <td>0.677419</td>\n      <td>0.222222</td>\n      <td>0.0</td>\n      <td>0.434783</td>\n      <td>1.000000</td>\n      <td>1.000000</td>\n      <td>0.666667</td>\n    </tr>\n    <tr>\n      <th>1202</th>\n      <td>0.002960</td>\n      <td>0.142857</td>\n      <td>1.0</td>\n      <td>0.785714</td>\n      <td>0.53125</td>\n      <td>0.344086</td>\n      <td>0.222222</td>\n      <td>0.0</td>\n      <td>0.000000</td>\n      <td>0.500000</td>\n      <td>0.545455</td>\n      <td>0.666667</td>\n    </tr>\n    <tr>\n      <th>1203</th>\n      <td>0.084824</td>\n      <td>0.142857</td>\n      <td>0.5</td>\n      <td>0.392857</td>\n      <td>0.59375</td>\n      <td>0.569892</td>\n      <td>0.000000</td>\n      <td>0.0</td>\n      <td>0.652174</td>\n      <td>0.600000</td>\n      <td>1.000000</td>\n      <td>1.000000</td>\n    </tr>\n    <tr>\n      <th>1204</th>\n      <td>0.016548</td>\n      <td>0.142857</td>\n      <td>0.5</td>\n      <td>0.464286</td>\n      <td>0.50000</td>\n      <td>0.462366</td>\n      <td>0.111111</td>\n      <td>0.0</td>\n      <td>0.739130</td>\n      <td>0.233333</td>\n      <td>0.181818</td>\n      <td>0.000000</td>\n    </tr>\n    <tr>\n      <th>1205</th>\n      <td>0.000000</td>\n      <td>0.142857</td>\n      <td>0.5</td>\n      <td>0.607143</td>\n      <td>0.71875</td>\n      <td>0.408602</td>\n      <td>0.111111</td>\n      <td>0.0</td>\n      <td>0.434783</td>\n      <td>0.166667</td>\n      <td>0.454545</td>\n      <td>1.000000</td>\n    </tr>\n  </tbody>\n</table>\n<p>1206 rows × 12 columns</p>\n</div>"
     },
     "execution_count": 80,
     "metadata": {},
     "output_type": "execute_result"
    }
   ],
   "source": [
    "X = neural_network_data_preparation(test_df)\n",
    "\n",
    "scaler_X = MinMaxScaler(feature_range=(0, 1)).fit(X)\n",
    "X_scaled = pd.DataFrame(scaler_X.transform(X[X.columns]), columns=X.columns)\n",
    "\n",
    "X_scaled"
   ],
   "metadata": {
    "collapsed": false
   }
  },
  {
   "cell_type": "code",
   "execution_count": 81,
   "outputs": [
    {
     "name": "stdout",
     "output_type": "stream",
     "text": [
      "38/38 [==============================] - 0s 422us/step\n"
     ]
    },
    {
     "data": {
      "text/plain": "array([[5.57705838e-33, 1.03291772e-15, 9.39767500e-11, 2.20422262e-05,\n        9.99977887e-01],\n       [9.99352753e-01, 6.47066277e-04, 7.22356930e-08, 6.82782891e-14,\n        6.27919685e-17],\n       [9.99992073e-01, 3.16565047e-06, 4.60154251e-06, 1.88462683e-11,\n        4.76805235e-17],\n       ...,\n       [2.36871340e-08, 9.08942166e-05, 4.46850155e-03, 9.84091461e-01,\n        1.13492105e-02],\n       [1.27998962e-19, 9.27853525e-01, 1.29503580e-02, 2.61129085e-02,\n        3.30830291e-02],\n       [1.94978797e-10, 3.71610440e-07, 3.03487104e-05, 9.99661684e-01,\n        3.07561451e-04]], dtype=float32)"
     },
     "execution_count": 81,
     "metadata": {},
     "output_type": "execute_result"
    }
   ],
   "source": [
    "categories_prob_predictions = model.predict(X_scaled)\n",
    "\n",
    "categories_prob_predictions"
   ],
   "metadata": {
    "collapsed": false
   }
  },
  {
   "cell_type": "code",
   "execution_count": 82,
   "outputs": [
    {
     "data": {
      "text/plain": "[4, 0, 0, 1, 0, 4, 4, 0, 3, 1]"
     },
     "execution_count": 82,
     "metadata": {},
     "output_type": "execute_result"
    }
   ],
   "source": [
    "numerical_predictions = [np.argmax(pred) for pred in categories_prob_predictions]\n",
    "\n",
    "numerical_predictions[:10]"
   ],
   "metadata": {
    "collapsed": false
   }
  },
  {
   "cell_type": "code",
   "execution_count": 83,
   "outputs": [],
   "source": [
    "numerical_predictions_df = pd.DataFrame(numerical_predictions)\n",
    "\n",
    "incidents_categories = {\n",
    "    0: 'None',\n",
    "    1: 'Low',\n",
    "    2: 'Medium',\n",
    "    3: 'High',\n",
    "    4: 'Very_High',\n",
    "}\n",
    "\n",
    "predictions_df = numerical_predictions_df.replace(incidents_categories)"
   ],
   "metadata": {
    "collapsed": false
   }
  },
  {
   "cell_type": "code",
   "execution_count": 84,
   "outputs": [],
   "source": [
    "predictions_df.index += 1\n",
    "\n",
    "predictions_df.to_csv(\"submission.csv\", header=['Incidents'], index_label='RowId')"
   ],
   "metadata": {
    "collapsed": false
   }
  }
 ],
 "metadata": {
  "kernelspec": {
   "display_name": "Python 3",
   "language": "python",
   "name": "python3"
  },
  "language_info": {
   "codemirror_mode": {
    "name": "ipython",
    "version": 2
   },
   "file_extension": ".py",
   "mimetype": "text/x-python",
   "name": "python",
   "nbconvert_exporter": "python",
   "pygments_lexer": "ipython2",
   "version": "2.7.6"
  }
 },
 "nbformat": 4,
 "nbformat_minor": 0
}
