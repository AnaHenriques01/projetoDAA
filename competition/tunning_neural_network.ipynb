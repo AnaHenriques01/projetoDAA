{
 "cells": [
  {
   "cell_type": "markdown",
   "source": [
    "# Imports"
   ],
   "metadata": {
    "collapsed": false
   }
  },
  {
   "cell_type": "code",
   "execution_count": 1,
   "outputs": [
    {
     "name": "stdout",
     "output_type": "stream",
     "text": [
      "2.9.1\n"
     ]
    }
   ],
   "source": [
    "import pandas as pd\n",
    "import numpy as np\n",
    "import matplotlib.pyplot as plt\n",
    "import seaborn as sns\n",
    "import time\n",
    "\n",
    "from sklearn.model_selection import train_test_split\n",
    "from sklearn.model_selection import cross_val_score\n",
    "\n",
    "from sklearn.tree import DecisionTreeClassifier\n",
    "from sklearn.tree import DecisionTreeRegressor\n",
    "\n",
    "from sklearn.metrics import confusion_matrix, ConfusionMatrixDisplay\n",
    "from sklearn.metrics import recall_score\n",
    "from sklearn.metrics import accuracy_score\n",
    "from sklearn.metrics import precision_score\n",
    "from sklearn.metrics import roc_curve\n",
    "from sklearn.metrics import f1_score\n",
    "from sklearn.metrics import fbeta_score\n",
    "from sklearn.metrics import mean_absolute_error\n",
    "from sklearn.metrics import mean_squared_error\n",
    "\n",
    "import tensorflow as tf\n",
    "from tensorflow.python.keras.models import Sequential\n",
    "from tensorflow.python.keras.layers import Dense, Dropout\n",
    "from tensorflow.python.keras.losses import SparseCategoricalCrossentropy\n",
    "from sklearn.model_selection import GridSearchCV, KFold, train_test_split\n",
    "from sklearn.preprocessing import MinMaxScaler\n",
    "\n",
    "from sklearn.model_selection import train_test_split\n",
    "\n",
    "%matplotlib inline\n",
    "\n",
    "print(tf.__version__)\n"
   ],
   "metadata": {
    "collapsed": false
   }
  },
  {
   "cell_type": "markdown",
   "source": [
    "# Carregamento de dados"
   ],
   "metadata": {
    "collapsed": false
   }
  },
  {
   "cell_type": "code",
   "execution_count": 2,
   "outputs": [],
   "source": [
    "TRAINING_DATASET_SOURCE = 'training_data.csv'\n",
    "TEST_DATASET_SOURCE = 'test_data.csv'\n",
    "\n",
    "train_df = pd.read_csv(TRAINING_DATASET_SOURCE)\n",
    "test_df = pd.read_csv(TEST_DATASET_SOURCE)"
   ],
   "metadata": {
    "collapsed": false
   }
  },
  {
   "cell_type": "markdown",
   "source": [
    "# SEED utilizada"
   ],
   "metadata": {
    "collapsed": false
   }
  },
  {
   "cell_type": "code",
   "execution_count": 3,
   "outputs": [],
   "source": [
    "SEED = 101"
   ],
   "metadata": {
    "collapsed": false
   }
  },
  {
   "cell_type": "markdown",
   "source": [
    "# Preparação dos dados"
   ],
   "metadata": {
    "collapsed": false
   }
  },
  {
   "cell_type": "code",
   "execution_count": 4,
   "outputs": [],
   "source": [
    "categorical_to_numerical = {\n",
    "    'avg_rain': {\n",
    "        'Sem Chuva': 0,\n",
    "        'chuva fraca': 1,\n",
    "        'chuva moderada': 2,\n",
    "        'chuva forte': 3\n",
    "    },\n",
    "    'luminosity': {\n",
    "        'LOW_LIGHT': 0,\n",
    "        'LIGHT': 1,\n",
    "        'DARK': 2,\n",
    "    }\n",
    "}\n",
    "\n",
    "incidents_to_numerical = {\n",
    "    'incidents': {\n",
    "        'None': 0,\n",
    "        'Low': 1,\n",
    "        'Medium': 2,\n",
    "        'High': 3,\n",
    "        'Very_High': 4,\n",
    "    }\n",
    "}"
   ],
   "metadata": {
    "collapsed": false
   }
  },
  {
   "cell_type": "code",
   "execution_count": 5,
   "outputs": [],
   "source": [
    "def neural_network_data_preparation(df: pd.DataFrame) -> pd.DataFrame:\n",
    "    dropped_columns = ['city_name', 'magnitude_of_delay', 'avg_precipitation']\n",
    "\n",
    "    prep_df = df.drop(dropped_columns, axis=1)\n",
    "\n",
    "    ### Extrair a hora e dia da semana da feature 'record_date'\n",
    "    record_date = pd.DatetimeIndex(prep_df['record_date'])\n",
    "\n",
    "    prep_df['record_date_hour'] = record_date.hour\n",
    "    prep_df['record_date_day'] = record_date.day\n",
    "    prep_df['record_date_month'] = record_date.month\n",
    "    prep_df['record_date_weekday'] = record_date.weekday\n",
    "\n",
    "    prep_df.drop(columns=['record_date'], inplace=True)\n",
    "\n",
    "    ### Quantificar a feature 'affected_roads' para o número único de estradas afetadas\n",
    "    road_quantity = []\n",
    "    for line in prep_df['affected_roads']:\n",
    "        res = set(str(line).split(','))\n",
    "        res2 = [elem for elem in res if elem != '']\n",
    "        count = len(res2)\n",
    "        road_quantity.append(count)\n",
    "\n",
    "    prep_df['affected_roads'] = road_quantity\n",
    "\n",
    "    prep_df.replace(categorical_to_numerical, inplace=True)\n",
    "\n",
    "    ### Target\n",
    "    if 'incidents' in prep_df.columns:\n",
    "        prep_df.replace(incidents_to_numerical, inplace=True)\n",
    "\n",
    "    return prep_df"
   ],
   "metadata": {
    "collapsed": false
   }
  },
  {
   "cell_type": "code",
   "execution_count": 6,
   "outputs": [],
   "source": [
    "X = neural_network_data_preparation(train_df)\n",
    "y = X['incidents']\n",
    "\n",
    "X.drop(columns=['incidents'], inplace=True)"
   ],
   "metadata": {
    "collapsed": false
   }
  },
  {
   "cell_type": "code",
   "execution_count": 7,
   "outputs": [],
   "source": [
    "scaler_X = MinMaxScaler(feature_range=(0, 1)).fit(X)\n",
    "X_scaled = pd.DataFrame(scaler_X.transform(X[X.columns]), columns=X.columns)"
   ],
   "metadata": {
    "collapsed": false
   }
  },
  {
   "cell_type": "code",
   "execution_count": 8,
   "outputs": [],
   "source": [
    "X_train, X_test, y_train, y_test = train_test_split(X_scaled, y, test_size=0.2, random_state=SEED)"
   ],
   "metadata": {
    "collapsed": false
   }
  },
  {
   "cell_type": "markdown",
   "source": [
    "# Construção da estrutura da rede neuronal"
   ],
   "metadata": {
    "collapsed": false
   }
  },
  {
   "cell_type": "code",
   "execution_count": 9,
   "outputs": [],
   "source": [
    "!pip install -q -U keras-tuner"
   ],
   "metadata": {
    "collapsed": false
   }
  },
  {
   "cell_type": "code",
   "execution_count": 10,
   "outputs": [],
   "source": [
    "import tensorflow as tf\n",
    "from tensorflow import keras\n",
    "import keras_tuner as kt\n",
    "\n",
    "\n",
    "def build_model(hp):\n",
    "    # Create a sequential model (with three layers - last one is the output)\n",
    "    model = keras.Sequential()\n",
    "\n",
    "    input_hp_units = hp.Int('units', min_value=5, max_value=200, step=5)\n",
    "\n",
    "    model.add(Dense(input_hp_units, input_dim=12, activation='relu'))\n",
    "\n",
    "    hp_units = hp.Int('units', min_value=5, max_value=200, step=5)\n",
    "\n",
    "    hp_activation = hp.Choice(\"activation\", [\"relu\", \"tanh\", 'sigmoid'])\n",
    "\n",
    "    model.add(Dense(hp_units, activation=hp_activation))\n",
    "\n",
    "    # Output Layer\n",
    "    model.add(Dense(5, activation='softmax'))\n",
    "\n",
    "    hp_learning_rate = hp.Choice('learning_rate', values=[1e-1, 1e-2, 1e-3, 1e-4, 1e-5])\n",
    "\n",
    "    # Model compilation\n",
    "    model.compile(loss=SparseCategoricalCrossentropy(), optimizer=keras.optimizers.Adam(learning_rate=hp_learning_rate),\n",
    "                  metrics=['accuracy'])\n",
    "\n",
    "    return model\n"
   ],
   "metadata": {
    "collapsed": false
   }
  },
  {
   "cell_type": "code",
   "execution_count": 11,
   "outputs": [],
   "source": [
    "tuner = kt.RandomSearch(\n",
    "    hypermodel=build_model,\n",
    "    objective=\"accuracy\",\n",
    "    max_trials=3,\n",
    "    executions_per_trial=2,\n",
    "    overwrite=True,\n",
    "    directory=\"trials\",\n",
    "    project_name=\"competition\",\n",
    ")\n"
   ],
   "metadata": {
    "collapsed": false
   }
  },
  {
   "cell_type": "code",
   "execution_count": 12,
   "outputs": [
    {
     "name": "stdout",
     "output_type": "stream",
     "text": [
      "Trial 3 Complete [00h 00m 04s]\n",
      "accuracy: 0.5038750171661377\n",
      "\n",
      "Best accuracy So Far: 0.5832499861717224\n",
      "Total elapsed time: 00h 00m 31s\n",
      "INFO:tensorflow:Oracle triggered exit\n",
      "\n",
      "The hyperparameter search is complete. The optimal number of units in the first densely-connected\n",
      "layer is 125 and the optimal learning rate for the optimizer\n",
      "is 0.0001.\n",
      "\n"
     ]
    }
   ],
   "source": [
    "stop_early = tf.keras.callbacks.EarlyStopping(monitor='val_loss', patience=5)\n",
    "\n",
    "tuner.search(X, y, epochs=500, validation_split=0.2, callbacks=[stop_early])\n",
    "\n",
    "# Get the optimal hyperparameters\n",
    "best_hps = tuner.get_best_hyperparameters(num_trials=1)[0]\n",
    "\n",
    "print(f\"\"\"\n",
    "The hyperparameter search is complete. The optimal number of units in the first densely-connected\n",
    "layer is {best_hps.get('units')} and the optimal learning rate for the optimizer\n",
    "is {best_hps.get('learning_rate')}.\n",
    "\"\"\")"
   ],
   "metadata": {
    "collapsed": false
   }
  },
  {
   "cell_type": "code",
   "execution_count": 13,
   "outputs": [
    {
     "name": "stdout",
     "output_type": "stream",
     "text": [
      "Epoch 1/50\n",
      "125/125 [==============================] - 0s 2ms/step - loss: 14.4710 - accuracy: 0.4500 - val_loss: 2.1900 - val_accuracy: 0.5500\n",
      "Epoch 2/50\n",
      "125/125 [==============================] - 0s 1ms/step - loss: 1.9765 - accuracy: 0.5260 - val_loss: 1.8644 - val_accuracy: 0.5570\n",
      "Epoch 3/50\n",
      "125/125 [==============================] - 0s 1ms/step - loss: 1.6485 - accuracy: 0.5393 - val_loss: 1.7964 - val_accuracy: 0.5590\n",
      "Epoch 4/50\n",
      "125/125 [==============================] - 0s 1ms/step - loss: 1.5566 - accuracy: 0.5315 - val_loss: 1.4571 - val_accuracy: 0.5660\n",
      "Epoch 5/50\n",
      "125/125 [==============================] - 0s 1ms/step - loss: 1.4021 - accuracy: 0.5595 - val_loss: 1.2927 - val_accuracy: 0.5760\n",
      "Epoch 6/50\n",
      "125/125 [==============================] - 0s 1ms/step - loss: 1.3314 - accuracy: 0.5713 - val_loss: 1.3746 - val_accuracy: 0.5380\n",
      "Epoch 7/50\n",
      "125/125 [==============================] - 0s 1ms/step - loss: 1.3599 - accuracy: 0.5455 - val_loss: 1.6464 - val_accuracy: 0.5680\n",
      "Epoch 8/50\n",
      "125/125 [==============================] - 0s 1ms/step - loss: 1.4012 - accuracy: 0.5665 - val_loss: 1.8118 - val_accuracy: 0.3800\n",
      "Epoch 9/50\n",
      "125/125 [==============================] - 0s 1ms/step - loss: 1.2399 - accuracy: 0.5715 - val_loss: 1.2423 - val_accuracy: 0.5630\n",
      "Epoch 10/50\n",
      "125/125 [==============================] - 0s 1ms/step - loss: 1.2567 - accuracy: 0.5673 - val_loss: 1.3462 - val_accuracy: 0.5750\n",
      "Epoch 11/50\n",
      "125/125 [==============================] - 0s 1ms/step - loss: 1.2434 - accuracy: 0.5780 - val_loss: 1.4563 - val_accuracy: 0.5760\n",
      "Epoch 12/50\n",
      "125/125 [==============================] - 0s 1ms/step - loss: 1.2945 - accuracy: 0.5683 - val_loss: 1.3771 - val_accuracy: 0.5250\n",
      "Epoch 13/50\n",
      "125/125 [==============================] - 0s 1ms/step - loss: 1.2330 - accuracy: 0.5638 - val_loss: 1.2636 - val_accuracy: 0.5660\n",
      "Epoch 14/50\n",
      "125/125 [==============================] - 0s 1ms/step - loss: 1.2938 - accuracy: 0.5715 - val_loss: 1.3622 - val_accuracy: 0.5820\n",
      "Epoch 15/50\n",
      "125/125 [==============================] - 0s 1ms/step - loss: 1.2179 - accuracy: 0.5857 - val_loss: 1.1917 - val_accuracy: 0.5700\n",
      "Epoch 16/50\n",
      "125/125 [==============================] - 0s 1ms/step - loss: 1.1313 - accuracy: 0.5855 - val_loss: 1.5022 - val_accuracy: 0.5570\n",
      "Epoch 17/50\n",
      "125/125 [==============================] - 0s 1ms/step - loss: 1.2325 - accuracy: 0.5803 - val_loss: 1.4916 - val_accuracy: 0.5540\n",
      "Epoch 18/50\n",
      "125/125 [==============================] - 0s 1ms/step - loss: 1.1718 - accuracy: 0.5860 - val_loss: 1.2095 - val_accuracy: 0.5780\n",
      "Epoch 19/50\n",
      "125/125 [==============================] - 0s 1ms/step - loss: 1.1895 - accuracy: 0.5897 - val_loss: 1.2432 - val_accuracy: 0.5290\n",
      "Epoch 20/50\n",
      "125/125 [==============================] - 0s 1ms/step - loss: 1.1325 - accuracy: 0.5813 - val_loss: 1.5135 - val_accuracy: 0.5590\n",
      "Epoch 21/50\n",
      "125/125 [==============================] - 0s 1ms/step - loss: 1.1189 - accuracy: 0.5925 - val_loss: 1.1111 - val_accuracy: 0.5710\n",
      "Epoch 22/50\n",
      "125/125 [==============================] - 0s 1ms/step - loss: 1.1270 - accuracy: 0.5825 - val_loss: 1.1624 - val_accuracy: 0.5870\n",
      "Epoch 23/50\n",
      "125/125 [==============================] - 0s 1ms/step - loss: 1.0837 - accuracy: 0.5903 - val_loss: 1.1933 - val_accuracy: 0.5630\n",
      "Epoch 24/50\n",
      "125/125 [==============================] - 0s 1ms/step - loss: 1.1370 - accuracy: 0.5932 - val_loss: 1.2339 - val_accuracy: 0.5790\n",
      "Epoch 25/50\n",
      "125/125 [==============================] - 0s 1ms/step - loss: 1.1339 - accuracy: 0.5940 - val_loss: 1.5821 - val_accuracy: 0.5830\n",
      "Epoch 26/50\n",
      "125/125 [==============================] - 0s 1ms/step - loss: 1.1652 - accuracy: 0.5910 - val_loss: 1.2358 - val_accuracy: 0.5620\n",
      "Epoch 27/50\n",
      "125/125 [==============================] - 0s 1ms/step - loss: 1.0821 - accuracy: 0.5935 - val_loss: 1.2307 - val_accuracy: 0.5400\n",
      "Epoch 28/50\n",
      "125/125 [==============================] - 0s 1ms/step - loss: 1.1420 - accuracy: 0.5897 - val_loss: 1.1460 - val_accuracy: 0.5560\n",
      "Epoch 29/50\n",
      "125/125 [==============================] - 0s 1ms/step - loss: 1.0297 - accuracy: 0.6050 - val_loss: 1.0224 - val_accuracy: 0.6150\n",
      "Epoch 30/50\n",
      "125/125 [==============================] - 0s 1ms/step - loss: 1.1104 - accuracy: 0.5957 - val_loss: 1.0970 - val_accuracy: 0.6110\n",
      "Epoch 31/50\n",
      "125/125 [==============================] - 0s 1ms/step - loss: 1.1238 - accuracy: 0.5980 - val_loss: 1.0868 - val_accuracy: 0.5830\n",
      "Epoch 32/50\n",
      "125/125 [==============================] - 0s 1ms/step - loss: 1.0413 - accuracy: 0.6055 - val_loss: 0.9890 - val_accuracy: 0.6140\n",
      "Epoch 33/50\n",
      "125/125 [==============================] - 0s 1ms/step - loss: 1.0568 - accuracy: 0.6058 - val_loss: 1.0962 - val_accuracy: 0.5980\n",
      "Epoch 34/50\n",
      "125/125 [==============================] - 0s 1ms/step - loss: 1.0762 - accuracy: 0.6100 - val_loss: 1.2446 - val_accuracy: 0.5860\n",
      "Epoch 35/50\n",
      "125/125 [==============================] - 0s 1ms/step - loss: 1.0920 - accuracy: 0.6060 - val_loss: 1.1748 - val_accuracy: 0.6020\n",
      "Epoch 36/50\n",
      "125/125 [==============================] - 0s 1ms/step - loss: 1.0320 - accuracy: 0.6205 - val_loss: 1.0421 - val_accuracy: 0.5990\n",
      "Epoch 37/50\n",
      "125/125 [==============================] - 0s 1ms/step - loss: 1.0393 - accuracy: 0.6100 - val_loss: 0.9683 - val_accuracy: 0.6170\n",
      "Epoch 38/50\n",
      "125/125 [==============================] - 0s 1ms/step - loss: 1.0115 - accuracy: 0.6030 - val_loss: 1.3135 - val_accuracy: 0.6230\n",
      "Epoch 39/50\n",
      "125/125 [==============================] - 0s 1ms/step - loss: 1.0997 - accuracy: 0.6095 - val_loss: 1.0766 - val_accuracy: 0.6290\n",
      "Epoch 40/50\n",
      "125/125 [==============================] - 0s 1ms/step - loss: 1.0980 - accuracy: 0.6135 - val_loss: 1.0212 - val_accuracy: 0.6060\n",
      "Epoch 41/50\n",
      "125/125 [==============================] - 0s 1ms/step - loss: 1.0615 - accuracy: 0.6177 - val_loss: 1.1328 - val_accuracy: 0.5700\n",
      "Epoch 42/50\n",
      "125/125 [==============================] - 0s 1ms/step - loss: 1.0230 - accuracy: 0.6250 - val_loss: 1.3332 - val_accuracy: 0.5530\n",
      "Epoch 43/50\n",
      "125/125 [==============================] - 0s 1ms/step - loss: 1.0355 - accuracy: 0.6083 - val_loss: 0.9788 - val_accuracy: 0.6150\n",
      "Epoch 44/50\n",
      "125/125 [==============================] - 0s 1ms/step - loss: 1.0693 - accuracy: 0.6162 - val_loss: 1.1333 - val_accuracy: 0.6030\n",
      "Epoch 45/50\n",
      "125/125 [==============================] - 0s 1ms/step - loss: 1.0225 - accuracy: 0.6225 - val_loss: 1.1477 - val_accuracy: 0.6070\n",
      "Epoch 46/50\n",
      "125/125 [==============================] - 0s 1ms/step - loss: 1.0119 - accuracy: 0.6248 - val_loss: 1.0816 - val_accuracy: 0.5800\n",
      "Epoch 47/50\n",
      "125/125 [==============================] - 0s 1ms/step - loss: 0.9962 - accuracy: 0.6270 - val_loss: 0.9684 - val_accuracy: 0.6200\n",
      "Epoch 48/50\n",
      "125/125 [==============================] - 0s 1ms/step - loss: 1.0599 - accuracy: 0.6105 - val_loss: 1.1408 - val_accuracy: 0.5950\n",
      "Epoch 49/50\n",
      "125/125 [==============================] - 0s 1ms/step - loss: 1.0216 - accuracy: 0.6345 - val_loss: 0.9653 - val_accuracy: 0.6240\n",
      "Epoch 50/50\n",
      "125/125 [==============================] - 0s 1ms/step - loss: 1.0265 - accuracy: 0.6208 - val_loss: 1.0169 - val_accuracy: 0.6050\n",
      "Best epoch: 39\n"
     ]
    }
   ],
   "source": [
    "# Build the model with the optimal hyperparameters and train it on the data for 50 epochs\n",
    "model = tuner.hypermodel.build(best_hps)\n",
    "history = model.fit(X, y, epochs=50, validation_split=0.2)\n",
    "\n",
    "val_acc_per_epoch = history.history['val_accuracy']\n",
    "best_epoch = val_acc_per_epoch.index(max(val_acc_per_epoch)) + 1\n",
    "print('Best epoch: %d' % (best_epoch,))"
   ],
   "metadata": {
    "collapsed": false
   }
  },
  {
   "cell_type": "code",
   "execution_count": 14,
   "outputs": [
    {
     "name": "stdout",
     "output_type": "stream",
     "text": [
      "Epoch 1/39\n",
      "125/125 [==============================] - 0s 2ms/step - loss: 16.7546 - accuracy: 0.3685 - val_loss: 2.6389 - val_accuracy: 0.5000\n",
      "Epoch 2/39\n",
      "125/125 [==============================] - 0s 1ms/step - loss: 2.0260 - accuracy: 0.4695 - val_loss: 1.8231 - val_accuracy: 0.4610\n",
      "Epoch 3/39\n",
      "125/125 [==============================] - 0s 1ms/step - loss: 1.8682 - accuracy: 0.4753 - val_loss: 1.8711 - val_accuracy: 0.4180\n",
      "Epoch 4/39\n",
      "125/125 [==============================] - 0s 1ms/step - loss: 1.6993 - accuracy: 0.4950 - val_loss: 1.6981 - val_accuracy: 0.5010\n",
      "Epoch 5/39\n",
      "125/125 [==============================] - 0s 1ms/step - loss: 1.5689 - accuracy: 0.5117 - val_loss: 1.7308 - val_accuracy: 0.5460\n",
      "Epoch 6/39\n",
      "125/125 [==============================] - 0s 1ms/step - loss: 1.5108 - accuracy: 0.5343 - val_loss: 1.4812 - val_accuracy: 0.5580\n",
      "Epoch 7/39\n",
      "125/125 [==============================] - 0s 1ms/step - loss: 1.4075 - accuracy: 0.5387 - val_loss: 1.3997 - val_accuracy: 0.5660\n",
      "Epoch 8/39\n",
      "125/125 [==============================] - 0s 1ms/step - loss: 1.3747 - accuracy: 0.5573 - val_loss: 1.4215 - val_accuracy: 0.5770\n",
      "Epoch 9/39\n",
      "125/125 [==============================] - 0s 1ms/step - loss: 1.3934 - accuracy: 0.5510 - val_loss: 1.3499 - val_accuracy: 0.5590\n",
      "Epoch 10/39\n",
      "125/125 [==============================] - 0s 1ms/step - loss: 1.2965 - accuracy: 0.5600 - val_loss: 1.3525 - val_accuracy: 0.5790\n",
      "Epoch 11/39\n",
      "125/125 [==============================] - 0s 1ms/step - loss: 1.2741 - accuracy: 0.5633 - val_loss: 1.2939 - val_accuracy: 0.5620\n",
      "Epoch 12/39\n",
      "125/125 [==============================] - 0s 1ms/step - loss: 1.2745 - accuracy: 0.5660 - val_loss: 1.2830 - val_accuracy: 0.5740\n",
      "Epoch 13/39\n",
      "125/125 [==============================] - 0s 1ms/step - loss: 1.2985 - accuracy: 0.5660 - val_loss: 1.3265 - val_accuracy: 0.5710\n",
      "Epoch 14/39\n",
      "125/125 [==============================] - 0s 1ms/step - loss: 1.2045 - accuracy: 0.5778 - val_loss: 1.1155 - val_accuracy: 0.5830\n",
      "Epoch 15/39\n",
      "125/125 [==============================] - 0s 1ms/step - loss: 1.1607 - accuracy: 0.5903 - val_loss: 1.0781 - val_accuracy: 0.6170\n",
      "Epoch 16/39\n",
      "125/125 [==============================] - 0s 1ms/step - loss: 1.1856 - accuracy: 0.5775 - val_loss: 1.1113 - val_accuracy: 0.5810\n",
      "Epoch 17/39\n",
      "125/125 [==============================] - 0s 1ms/step - loss: 1.2158 - accuracy: 0.5748 - val_loss: 1.2186 - val_accuracy: 0.5890\n",
      "Epoch 18/39\n",
      "125/125 [==============================] - 0s 1ms/step - loss: 1.1771 - accuracy: 0.5842 - val_loss: 1.1583 - val_accuracy: 0.6020\n",
      "Epoch 19/39\n",
      "125/125 [==============================] - 0s 1ms/step - loss: 1.1836 - accuracy: 0.5803 - val_loss: 1.3291 - val_accuracy: 0.5430\n",
      "Epoch 20/39\n",
      "125/125 [==============================] - 0s 1ms/step - loss: 1.1726 - accuracy: 0.5835 - val_loss: 1.0920 - val_accuracy: 0.6100\n",
      "Epoch 21/39\n",
      "125/125 [==============================] - 0s 1ms/step - loss: 1.2926 - accuracy: 0.5723 - val_loss: 1.1848 - val_accuracy: 0.5810\n",
      "Epoch 22/39\n",
      "125/125 [==============================] - 0s 1ms/step - loss: 1.1498 - accuracy: 0.5918 - val_loss: 1.3854 - val_accuracy: 0.5530\n",
      "Epoch 23/39\n",
      "125/125 [==============================] - 0s 1ms/step - loss: 1.0926 - accuracy: 0.5968 - val_loss: 1.2134 - val_accuracy: 0.5860\n",
      "Epoch 24/39\n",
      "125/125 [==============================] - 0s 1ms/step - loss: 1.1373 - accuracy: 0.5880 - val_loss: 1.1726 - val_accuracy: 0.5700\n",
      "Epoch 25/39\n",
      "125/125 [==============================] - 0s 1ms/step - loss: 1.1209 - accuracy: 0.5957 - val_loss: 1.2050 - val_accuracy: 0.5820\n",
      "Epoch 26/39\n",
      "125/125 [==============================] - 0s 1ms/step - loss: 1.1630 - accuracy: 0.5803 - val_loss: 1.0453 - val_accuracy: 0.5900\n",
      "Epoch 27/39\n",
      "125/125 [==============================] - 0s 1ms/step - loss: 1.1112 - accuracy: 0.5867 - val_loss: 1.6813 - val_accuracy: 0.5610\n",
      "Epoch 28/39\n",
      "125/125 [==============================] - 0s 1ms/step - loss: 1.1093 - accuracy: 0.6000 - val_loss: 1.1969 - val_accuracy: 0.6020\n",
      "Epoch 29/39\n",
      "125/125 [==============================] - 0s 1ms/step - loss: 1.2866 - accuracy: 0.5922 - val_loss: 1.1132 - val_accuracy: 0.5860\n",
      "Epoch 30/39\n",
      "125/125 [==============================] - 0s 1ms/step - loss: 1.1559 - accuracy: 0.5875 - val_loss: 1.1793 - val_accuracy: 0.5920\n",
      "Epoch 31/39\n",
      "125/125 [==============================] - 0s 1ms/step - loss: 1.0716 - accuracy: 0.6012 - val_loss: 1.0781 - val_accuracy: 0.6250\n",
      "Epoch 32/39\n",
      "125/125 [==============================] - 0s 1ms/step - loss: 1.1303 - accuracy: 0.5880 - val_loss: 1.2106 - val_accuracy: 0.5550\n",
      "Epoch 33/39\n",
      "125/125 [==============================] - 0s 1ms/step - loss: 1.1023 - accuracy: 0.6033 - val_loss: 1.0616 - val_accuracy: 0.6180\n",
      "Epoch 34/39\n",
      "125/125 [==============================] - 0s 1ms/step - loss: 1.2870 - accuracy: 0.5895 - val_loss: 1.1503 - val_accuracy: 0.5650\n",
      "Epoch 35/39\n",
      "125/125 [==============================] - 0s 1ms/step - loss: 1.0818 - accuracy: 0.5985 - val_loss: 1.1461 - val_accuracy: 0.5160\n",
      "Epoch 36/39\n",
      "125/125 [==============================] - 0s 2ms/step - loss: 1.1286 - accuracy: 0.5995 - val_loss: 1.0368 - val_accuracy: 0.6280\n",
      "Epoch 37/39\n",
      "125/125 [==============================] - 0s 1ms/step - loss: 1.0569 - accuracy: 0.6120 - val_loss: 1.0577 - val_accuracy: 0.5990\n",
      "Epoch 38/39\n",
      "125/125 [==============================] - 0s 1ms/step - loss: 1.1513 - accuracy: 0.5845 - val_loss: 1.2565 - val_accuracy: 0.5510\n",
      "Epoch 39/39\n",
      "125/125 [==============================] - 0s 1ms/step - loss: 1.1293 - accuracy: 0.6043 - val_loss: 1.0239 - val_accuracy: 0.6020\n"
     ]
    },
    {
     "data": {
      "text/plain": "<keras.callbacks.History at 0x219f5cb8460>"
     },
     "execution_count": 14,
     "metadata": {},
     "output_type": "execute_result"
    }
   ],
   "source": [
    "hypermodel = tuner.hypermodel.build(best_hps)\n",
    "\n",
    "# Retrain the model\n",
    "hypermodel.fit(X, y, epochs=best_epoch, validation_split=0.2)"
   ],
   "metadata": {
    "collapsed": false
   }
  },
  {
   "cell_type": "code",
   "execution_count": 15,
   "outputs": [
    {
     "name": "stdout",
     "output_type": "stream",
     "text": [
      "157/157 [==============================] - 0s 738us/step - loss: 0.9730 - accuracy: 0.6164\n",
      "[test loss, test accuracy]: [0.9730112552642822, 0.6164000034332275]\n"
     ]
    }
   ],
   "source": [
    "eval_result = hypermodel.evaluate(X, y)\n",
    "print(\"[test loss, test accuracy]:\", eval_result)"
   ],
   "metadata": {
    "collapsed": false
   }
  },
  {
   "cell_type": "markdown",
   "source": [
    "-------\n",
    "-------\n",
    "-------"
   ],
   "metadata": {
    "collapsed": false
   }
  },
  {
   "cell_type": "code",
   "execution_count": 16,
   "outputs": [
    {
     "name": "stdout",
     "output_type": "stream",
     "text": [
      "Epoch 1/150\n",
      "125/125 [==============================] - 0s 1ms/step - loss: 1.4791 - accuracy: 0.3862 - val_loss: 1.4063 - val_accuracy: 0.4130\n",
      "Epoch 2/150\n",
      "125/125 [==============================] - 0s 1ms/step - loss: 1.3778 - accuracy: 0.4150 - val_loss: 1.3494 - val_accuracy: 0.4360\n",
      "Epoch 3/150\n",
      "125/125 [==============================] - 0s 1ms/step - loss: 1.3274 - accuracy: 0.4487 - val_loss: 1.3064 - val_accuracy: 0.5010\n",
      "Epoch 4/150\n",
      "125/125 [==============================] - 0s 1ms/step - loss: 1.2864 - accuracy: 0.4947 - val_loss: 1.2688 - val_accuracy: 0.5140\n",
      "Epoch 5/150\n",
      "125/125 [==============================] - 0s 1ms/step - loss: 1.2515 - accuracy: 0.5165 - val_loss: 1.2388 - val_accuracy: 0.5320\n",
      "Epoch 6/150\n",
      "125/125 [==============================] - 0s 1ms/step - loss: 1.2212 - accuracy: 0.5272 - val_loss: 1.2115 - val_accuracy: 0.5410\n",
      "Epoch 7/150\n",
      "125/125 [==============================] - 0s 1ms/step - loss: 1.1952 - accuracy: 0.5375 - val_loss: 1.1873 - val_accuracy: 0.5400\n",
      "Epoch 8/150\n",
      "125/125 [==============================] - 0s 1ms/step - loss: 1.1734 - accuracy: 0.5480 - val_loss: 1.1673 - val_accuracy: 0.5590\n",
      "Epoch 9/150\n",
      "125/125 [==============================] - 0s 1ms/step - loss: 1.1525 - accuracy: 0.5573 - val_loss: 1.1487 - val_accuracy: 0.5680\n",
      "Epoch 10/150\n",
      "125/125 [==============================] - 0s 1ms/step - loss: 1.1350 - accuracy: 0.5667 - val_loss: 1.1316 - val_accuracy: 0.5790\n",
      "Epoch 11/150\n",
      "125/125 [==============================] - 0s 1ms/step - loss: 1.1184 - accuracy: 0.5790 - val_loss: 1.1170 - val_accuracy: 0.5850\n",
      "Epoch 12/150\n",
      "125/125 [==============================] - 0s 1ms/step - loss: 1.1028 - accuracy: 0.5872 - val_loss: 1.1034 - val_accuracy: 0.5980\n",
      "Epoch 13/150\n",
      "125/125 [==============================] - 0s 1ms/step - loss: 1.0889 - accuracy: 0.5940 - val_loss: 1.0914 - val_accuracy: 0.5970\n",
      "Epoch 14/150\n",
      "125/125 [==============================] - 0s 1ms/step - loss: 1.0767 - accuracy: 0.6015 - val_loss: 1.0790 - val_accuracy: 0.6090\n",
      "Epoch 15/150\n",
      "125/125 [==============================] - 0s 1ms/step - loss: 1.0653 - accuracy: 0.6097 - val_loss: 1.0677 - val_accuracy: 0.6160\n",
      "Epoch 16/150\n",
      "125/125 [==============================] - 0s 1ms/step - loss: 1.0549 - accuracy: 0.6160 - val_loss: 1.0581 - val_accuracy: 0.6150\n",
      "Epoch 17/150\n",
      "125/125 [==============================] - 0s 1ms/step - loss: 1.0449 - accuracy: 0.6210 - val_loss: 1.0503 - val_accuracy: 0.6170\n",
      "Epoch 18/150\n",
      "125/125 [==============================] - 0s 1ms/step - loss: 1.0357 - accuracy: 0.6255 - val_loss: 1.0402 - val_accuracy: 0.6290\n",
      "Epoch 19/150\n",
      "125/125 [==============================] - 0s 1ms/step - loss: 1.0278 - accuracy: 0.6290 - val_loss: 1.0312 - val_accuracy: 0.6340\n",
      "Epoch 20/150\n",
      "125/125 [==============================] - 0s 1ms/step - loss: 1.0188 - accuracy: 0.6370 - val_loss: 1.0240 - val_accuracy: 0.6370\n",
      "Epoch 21/150\n",
      "125/125 [==============================] - 0s 1ms/step - loss: 1.0113 - accuracy: 0.6398 - val_loss: 1.0174 - val_accuracy: 0.6370\n",
      "Epoch 22/150\n",
      "125/125 [==============================] - 0s 1ms/step - loss: 1.0044 - accuracy: 0.6407 - val_loss: 1.0093 - val_accuracy: 0.6410\n",
      "Epoch 23/150\n",
      "125/125 [==============================] - 0s 1ms/step - loss: 0.9976 - accuracy: 0.6495 - val_loss: 1.0026 - val_accuracy: 0.6420\n",
      "Epoch 24/150\n",
      "125/125 [==============================] - 0s 1ms/step - loss: 0.9911 - accuracy: 0.6480 - val_loss: 0.9954 - val_accuracy: 0.6510\n",
      "Epoch 25/150\n",
      "125/125 [==============================] - 0s 1ms/step - loss: 0.9853 - accuracy: 0.6532 - val_loss: 0.9937 - val_accuracy: 0.6390\n",
      "Epoch 26/150\n",
      "125/125 [==============================] - 0s 1ms/step - loss: 0.9797 - accuracy: 0.6532 - val_loss: 0.9849 - val_accuracy: 0.6490\n",
      "Epoch 27/150\n",
      "125/125 [==============================] - 0s 1ms/step - loss: 0.9743 - accuracy: 0.6530 - val_loss: 0.9801 - val_accuracy: 0.6510\n",
      "Epoch 28/150\n",
      "125/125 [==============================] - 0s 1ms/step - loss: 0.9697 - accuracy: 0.6547 - val_loss: 0.9777 - val_accuracy: 0.6460\n",
      "Epoch 29/150\n",
      "125/125 [==============================] - 0s 1ms/step - loss: 0.9660 - accuracy: 0.6545 - val_loss: 0.9722 - val_accuracy: 0.6490\n",
      "Epoch 30/150\n",
      "125/125 [==============================] - 0s 1ms/step - loss: 0.9608 - accuracy: 0.6528 - val_loss: 0.9671 - val_accuracy: 0.6570\n",
      "Epoch 31/150\n",
      "125/125 [==============================] - 0s 1ms/step - loss: 0.9580 - accuracy: 0.6578 - val_loss: 0.9617 - val_accuracy: 0.6500\n",
      "Epoch 32/150\n",
      "125/125 [==============================] - 0s 1ms/step - loss: 0.9528 - accuracy: 0.6595 - val_loss: 0.9640 - val_accuracy: 0.6460\n",
      "Epoch 33/150\n",
      "125/125 [==============================] - 0s 1ms/step - loss: 0.9499 - accuracy: 0.6562 - val_loss: 0.9559 - val_accuracy: 0.6520\n",
      "Epoch 34/150\n",
      "125/125 [==============================] - 0s 1ms/step - loss: 0.9460 - accuracy: 0.6615 - val_loss: 0.9511 - val_accuracy: 0.6520\n",
      "Epoch 35/150\n",
      "125/125 [==============================] - 0s 1ms/step - loss: 0.9429 - accuracy: 0.6600 - val_loss: 0.9501 - val_accuracy: 0.6510\n",
      "Epoch 36/150\n",
      "125/125 [==============================] - 0s 1ms/step - loss: 0.9397 - accuracy: 0.6618 - val_loss: 0.9492 - val_accuracy: 0.6510\n",
      "Epoch 37/150\n",
      "125/125 [==============================] - 0s 1ms/step - loss: 0.9357 - accuracy: 0.6628 - val_loss: 0.9429 - val_accuracy: 0.6550\n",
      "Epoch 38/150\n",
      "125/125 [==============================] - 0s 1ms/step - loss: 0.9325 - accuracy: 0.6607 - val_loss: 0.9399 - val_accuracy: 0.6540\n",
      "Epoch 39/150\n",
      "125/125 [==============================] - 0s 1ms/step - loss: 0.9296 - accuracy: 0.6622 - val_loss: 0.9378 - val_accuracy: 0.6530\n",
      "Epoch 40/150\n",
      "125/125 [==============================] - 0s 1ms/step - loss: 0.9261 - accuracy: 0.6615 - val_loss: 0.9360 - val_accuracy: 0.6530\n",
      "Epoch 41/150\n",
      "125/125 [==============================] - 0s 1ms/step - loss: 0.9235 - accuracy: 0.6660 - val_loss: 0.9316 - val_accuracy: 0.6540\n",
      "Epoch 42/150\n",
      "125/125 [==============================] - 0s 1ms/step - loss: 0.9202 - accuracy: 0.6637 - val_loss: 0.9286 - val_accuracy: 0.6540\n",
      "Epoch 43/150\n",
      "125/125 [==============================] - 0s 1ms/step - loss: 0.9184 - accuracy: 0.6655 - val_loss: 0.9257 - val_accuracy: 0.6530\n",
      "Epoch 44/150\n",
      "125/125 [==============================] - 0s 1ms/step - loss: 0.9147 - accuracy: 0.6645 - val_loss: 0.9237 - val_accuracy: 0.6570\n",
      "Epoch 45/150\n",
      "125/125 [==============================] - 0s 1ms/step - loss: 0.9120 - accuracy: 0.6678 - val_loss: 0.9206 - val_accuracy: 0.6500\n",
      "Epoch 46/150\n",
      "125/125 [==============================] - 0s 1ms/step - loss: 0.9087 - accuracy: 0.6647 - val_loss: 0.9190 - val_accuracy: 0.6600\n",
      "Epoch 47/150\n",
      "125/125 [==============================] - 0s 1ms/step - loss: 0.9067 - accuracy: 0.6683 - val_loss: 0.9154 - val_accuracy: 0.6550\n",
      "Epoch 48/150\n",
      "125/125 [==============================] - 0s 1ms/step - loss: 0.9035 - accuracy: 0.6695 - val_loss: 0.9132 - val_accuracy: 0.6550\n",
      "Epoch 49/150\n",
      "125/125 [==============================] - 0s 1ms/step - loss: 0.9011 - accuracy: 0.6665 - val_loss: 0.9096 - val_accuracy: 0.6620\n",
      "Epoch 50/150\n",
      "125/125 [==============================] - 0s 1ms/step - loss: 0.8988 - accuracy: 0.6697 - val_loss: 0.9109 - val_accuracy: 0.6610\n",
      "Epoch 51/150\n",
      "125/125 [==============================] - 0s 1ms/step - loss: 0.8963 - accuracy: 0.6680 - val_loss: 0.9092 - val_accuracy: 0.6650\n",
      "Epoch 52/150\n",
      "125/125 [==============================] - 0s 1ms/step - loss: 0.8938 - accuracy: 0.6697 - val_loss: 0.9028 - val_accuracy: 0.6630\n",
      "Epoch 53/150\n",
      "125/125 [==============================] - 0s 1ms/step - loss: 0.8920 - accuracy: 0.6740 - val_loss: 0.9026 - val_accuracy: 0.6600\n",
      "Epoch 54/150\n",
      "125/125 [==============================] - 0s 1ms/step - loss: 0.8884 - accuracy: 0.6727 - val_loss: 0.8995 - val_accuracy: 0.6650\n",
      "Epoch 55/150\n",
      "125/125 [==============================] - 0s 1ms/step - loss: 0.8865 - accuracy: 0.6760 - val_loss: 0.8972 - val_accuracy: 0.6580\n",
      "Epoch 56/150\n",
      "125/125 [==============================] - 0s 1ms/step - loss: 0.8838 - accuracy: 0.6725 - val_loss: 0.8962 - val_accuracy: 0.6630\n",
      "Epoch 57/150\n",
      "125/125 [==============================] - 0s 1ms/step - loss: 0.8811 - accuracy: 0.6747 - val_loss: 0.8924 - val_accuracy: 0.6570\n",
      "Epoch 58/150\n",
      "125/125 [==============================] - 0s 1ms/step - loss: 0.8781 - accuracy: 0.6752 - val_loss: 0.8928 - val_accuracy: 0.6610\n",
      "Epoch 59/150\n",
      "125/125 [==============================] - 0s 1ms/step - loss: 0.8761 - accuracy: 0.6715 - val_loss: 0.8883 - val_accuracy: 0.6680\n",
      "Epoch 60/150\n",
      "125/125 [==============================] - 0s 1ms/step - loss: 0.8728 - accuracy: 0.6743 - val_loss: 0.8890 - val_accuracy: 0.6710\n",
      "Epoch 61/150\n",
      "125/125 [==============================] - 0s 1ms/step - loss: 0.8722 - accuracy: 0.6765 - val_loss: 0.8852 - val_accuracy: 0.6680\n",
      "Epoch 62/150\n",
      "125/125 [==============================] - 0s 1ms/step - loss: 0.8682 - accuracy: 0.6812 - val_loss: 0.8838 - val_accuracy: 0.6610\n",
      "Epoch 63/150\n",
      "125/125 [==============================] - 0s 1ms/step - loss: 0.8657 - accuracy: 0.6768 - val_loss: 0.8801 - val_accuracy: 0.6760\n",
      "Epoch 64/150\n",
      "125/125 [==============================] - 0s 1ms/step - loss: 0.8634 - accuracy: 0.6808 - val_loss: 0.8779 - val_accuracy: 0.6750\n",
      "Epoch 65/150\n",
      "125/125 [==============================] - 0s 1ms/step - loss: 0.8607 - accuracy: 0.6842 - val_loss: 0.8812 - val_accuracy: 0.6630\n",
      "Epoch 66/150\n",
      "125/125 [==============================] - 0s 1ms/step - loss: 0.8588 - accuracy: 0.6848 - val_loss: 0.8771 - val_accuracy: 0.6640\n",
      "Epoch 67/150\n",
      "125/125 [==============================] - 0s 1ms/step - loss: 0.8563 - accuracy: 0.6820 - val_loss: 0.8726 - val_accuracy: 0.6810\n",
      "Epoch 68/150\n",
      "125/125 [==============================] - 0s 1ms/step - loss: 0.8553 - accuracy: 0.6877 - val_loss: 0.8729 - val_accuracy: 0.6650\n",
      "Epoch 69/150\n",
      "125/125 [==============================] - 0s 1ms/step - loss: 0.8509 - accuracy: 0.6877 - val_loss: 0.8691 - val_accuracy: 0.6770\n",
      "Epoch 70/150\n",
      "125/125 [==============================] - 0s 1ms/step - loss: 0.8488 - accuracy: 0.6850 - val_loss: 0.8658 - val_accuracy: 0.6790\n",
      "Epoch 71/150\n",
      "125/125 [==============================] - 0s 1ms/step - loss: 0.8466 - accuracy: 0.6875 - val_loss: 0.8658 - val_accuracy: 0.6710\n",
      "Epoch 72/150\n",
      "125/125 [==============================] - 0s 1ms/step - loss: 0.8447 - accuracy: 0.6845 - val_loss: 0.8648 - val_accuracy: 0.6730\n",
      "Epoch 73/150\n",
      "125/125 [==============================] - 0s 1ms/step - loss: 0.8414 - accuracy: 0.6867 - val_loss: 0.8591 - val_accuracy: 0.6820\n",
      "Epoch 74/150\n",
      "125/125 [==============================] - 0s 1ms/step - loss: 0.8395 - accuracy: 0.6908 - val_loss: 0.8575 - val_accuracy: 0.6790\n",
      "Epoch 75/150\n",
      "125/125 [==============================] - 0s 1ms/step - loss: 0.8362 - accuracy: 0.6905 - val_loss: 0.8583 - val_accuracy: 0.6800\n",
      "Epoch 76/150\n",
      "125/125 [==============================] - 0s 1ms/step - loss: 0.8338 - accuracy: 0.6915 - val_loss: 0.8543 - val_accuracy: 0.6810\n",
      "Epoch 77/150\n",
      "125/125 [==============================] - 0s 1ms/step - loss: 0.8313 - accuracy: 0.6938 - val_loss: 0.8608 - val_accuracy: 0.6720\n",
      "Epoch 78/150\n",
      "125/125 [==============================] - 0s 1ms/step - loss: 0.8294 - accuracy: 0.6915 - val_loss: 0.8506 - val_accuracy: 0.6870\n",
      "Epoch 79/150\n",
      "125/125 [==============================] - 0s 1ms/step - loss: 0.8271 - accuracy: 0.6982 - val_loss: 0.8493 - val_accuracy: 0.6860\n",
      "Epoch 80/150\n",
      "125/125 [==============================] - 0s 1ms/step - loss: 0.8248 - accuracy: 0.6940 - val_loss: 0.8488 - val_accuracy: 0.6780\n",
      "Epoch 81/150\n",
      "125/125 [==============================] - 0s 1ms/step - loss: 0.8229 - accuracy: 0.6975 - val_loss: 0.8441 - val_accuracy: 0.6820\n",
      "Epoch 82/150\n",
      "125/125 [==============================] - 0s 1ms/step - loss: 0.8204 - accuracy: 0.6975 - val_loss: 0.8446 - val_accuracy: 0.6790\n",
      "Epoch 83/150\n",
      "125/125 [==============================] - 0s 1ms/step - loss: 0.8172 - accuracy: 0.6965 - val_loss: 0.8404 - val_accuracy: 0.6840\n",
      "Epoch 84/150\n",
      "125/125 [==============================] - 0s 1ms/step - loss: 0.8140 - accuracy: 0.7023 - val_loss: 0.8462 - val_accuracy: 0.6790\n",
      "Epoch 85/150\n",
      "125/125 [==============================] - 0s 1ms/step - loss: 0.8135 - accuracy: 0.7017 - val_loss: 0.8366 - val_accuracy: 0.6940\n",
      "Epoch 86/150\n",
      "125/125 [==============================] - 0s 1ms/step - loss: 0.8107 - accuracy: 0.6980 - val_loss: 0.8366 - val_accuracy: 0.6810\n",
      "Epoch 87/150\n",
      "125/125 [==============================] - 0s 1ms/step - loss: 0.8094 - accuracy: 0.7007 - val_loss: 0.8362 - val_accuracy: 0.6820\n",
      "Epoch 88/150\n",
      "125/125 [==============================] - 0s 1ms/step - loss: 0.8061 - accuracy: 0.6990 - val_loss: 0.8340 - val_accuracy: 0.6830\n",
      "Epoch 89/150\n",
      "125/125 [==============================] - 0s 1ms/step - loss: 0.8046 - accuracy: 0.7045 - val_loss: 0.8301 - val_accuracy: 0.6870\n",
      "Epoch 90/150\n",
      "125/125 [==============================] - 0s 1ms/step - loss: 0.8015 - accuracy: 0.7042 - val_loss: 0.8363 - val_accuracy: 0.6750\n",
      "Epoch 91/150\n",
      "125/125 [==============================] - 0s 1ms/step - loss: 0.8001 - accuracy: 0.7042 - val_loss: 0.8253 - val_accuracy: 0.6980\n",
      "Epoch 92/150\n",
      "125/125 [==============================] - 0s 1ms/step - loss: 0.7970 - accuracy: 0.7050 - val_loss: 0.8250 - val_accuracy: 0.6980\n",
      "Epoch 93/150\n",
      "125/125 [==============================] - 0s 1ms/step - loss: 0.7948 - accuracy: 0.7055 - val_loss: 0.8227 - val_accuracy: 0.6880\n",
      "Epoch 94/150\n",
      "125/125 [==============================] - 0s 1ms/step - loss: 0.7921 - accuracy: 0.7078 - val_loss: 0.8202 - val_accuracy: 0.7000\n",
      "Epoch 95/150\n",
      "125/125 [==============================] - 0s 1ms/step - loss: 0.7893 - accuracy: 0.7105 - val_loss: 0.8190 - val_accuracy: 0.6950\n",
      "Epoch 96/150\n",
      "125/125 [==============================] - 0s 1ms/step - loss: 0.7869 - accuracy: 0.7080 - val_loss: 0.8233 - val_accuracy: 0.6810\n",
      "Epoch 97/150\n",
      "125/125 [==============================] - 0s 1ms/step - loss: 0.7871 - accuracy: 0.7115 - val_loss: 0.8190 - val_accuracy: 0.6850\n",
      "Epoch 98/150\n",
      "125/125 [==============================] - 0s 1ms/step - loss: 0.7820 - accuracy: 0.7097 - val_loss: 0.8119 - val_accuracy: 0.6990\n",
      "Epoch 99/150\n",
      "125/125 [==============================] - 0s 1ms/step - loss: 0.7805 - accuracy: 0.7115 - val_loss: 0.8110 - val_accuracy: 0.6970\n",
      "Epoch 100/150\n",
      "125/125 [==============================] - 0s 1ms/step - loss: 0.7781 - accuracy: 0.7117 - val_loss: 0.8134 - val_accuracy: 0.6900\n",
      "Epoch 101/150\n",
      "125/125 [==============================] - 0s 1ms/step - loss: 0.7773 - accuracy: 0.7132 - val_loss: 0.8098 - val_accuracy: 0.6880\n",
      "Epoch 102/150\n",
      "125/125 [==============================] - 0s 1ms/step - loss: 0.7743 - accuracy: 0.7115 - val_loss: 0.8078 - val_accuracy: 0.6960\n",
      "Epoch 103/150\n",
      "125/125 [==============================] - 0s 1ms/step - loss: 0.7708 - accuracy: 0.7153 - val_loss: 0.8044 - val_accuracy: 0.6940\n",
      "Epoch 104/150\n",
      "125/125 [==============================] - 0s 1ms/step - loss: 0.7689 - accuracy: 0.7163 - val_loss: 0.8048 - val_accuracy: 0.6930\n",
      "Epoch 105/150\n",
      "125/125 [==============================] - 0s 1ms/step - loss: 0.7661 - accuracy: 0.7165 - val_loss: 0.8050 - val_accuracy: 0.6910\n",
      "Epoch 106/150\n",
      "125/125 [==============================] - 0s 1ms/step - loss: 0.7652 - accuracy: 0.7178 - val_loss: 0.7991 - val_accuracy: 0.6970\n",
      "Epoch 107/150\n",
      "125/125 [==============================] - 0s 1ms/step - loss: 0.7626 - accuracy: 0.7193 - val_loss: 0.7953 - val_accuracy: 0.7030\n",
      "Epoch 108/150\n",
      "125/125 [==============================] - 0s 1ms/step - loss: 0.7596 - accuracy: 0.7188 - val_loss: 0.7959 - val_accuracy: 0.6960\n",
      "Epoch 109/150\n",
      "125/125 [==============================] - 0s 1ms/step - loss: 0.7575 - accuracy: 0.7210 - val_loss: 0.7937 - val_accuracy: 0.7110\n",
      "Epoch 110/150\n",
      "125/125 [==============================] - 0s 1ms/step - loss: 0.7557 - accuracy: 0.7207 - val_loss: 0.7910 - val_accuracy: 0.7030\n",
      "Epoch 111/150\n",
      "125/125 [==============================] - 0s 1ms/step - loss: 0.7534 - accuracy: 0.7255 - val_loss: 0.7890 - val_accuracy: 0.7000\n",
      "Epoch 112/150\n",
      "125/125 [==============================] - 0s 1ms/step - loss: 0.7502 - accuracy: 0.7225 - val_loss: 0.7883 - val_accuracy: 0.6970\n",
      "Epoch 113/150\n",
      "125/125 [==============================] - 0s 1ms/step - loss: 0.7483 - accuracy: 0.7247 - val_loss: 0.7911 - val_accuracy: 0.6950\n",
      "Epoch 114/150\n",
      "125/125 [==============================] - 0s 1ms/step - loss: 0.7472 - accuracy: 0.7240 - val_loss: 0.7857 - val_accuracy: 0.6950\n",
      "Epoch 115/150\n",
      "125/125 [==============================] - 0s 1ms/step - loss: 0.7445 - accuracy: 0.7275 - val_loss: 0.7821 - val_accuracy: 0.7030\n",
      "Epoch 116/150\n",
      "125/125 [==============================] - 0s 1ms/step - loss: 0.7419 - accuracy: 0.7297 - val_loss: 0.7867 - val_accuracy: 0.6960\n",
      "Epoch 117/150\n",
      "125/125 [==============================] - 0s 1ms/step - loss: 0.7398 - accuracy: 0.7290 - val_loss: 0.7845 - val_accuracy: 0.6980\n",
      "Epoch 118/150\n",
      "125/125 [==============================] - 0s 1ms/step - loss: 0.7378 - accuracy: 0.7290 - val_loss: 0.7775 - val_accuracy: 0.7060\n",
      "Epoch 119/150\n",
      "125/125 [==============================] - 0s 1ms/step - loss: 0.7351 - accuracy: 0.7315 - val_loss: 0.7752 - val_accuracy: 0.7050\n",
      "Epoch 120/150\n",
      "125/125 [==============================] - 0s 1ms/step - loss: 0.7325 - accuracy: 0.7315 - val_loss: 0.7742 - val_accuracy: 0.7060\n",
      "Epoch 121/150\n",
      "125/125 [==============================] - 0s 1ms/step - loss: 0.7295 - accuracy: 0.7330 - val_loss: 0.7694 - val_accuracy: 0.7110\n",
      "Epoch 122/150\n",
      "125/125 [==============================] - 0s 1ms/step - loss: 0.7278 - accuracy: 0.7315 - val_loss: 0.7683 - val_accuracy: 0.7150\n",
      "Epoch 123/150\n",
      "125/125 [==============================] - 0s 1ms/step - loss: 0.7266 - accuracy: 0.7347 - val_loss: 0.7668 - val_accuracy: 0.7070\n",
      "Epoch 124/150\n",
      "125/125 [==============================] - 0s 1ms/step - loss: 0.7239 - accuracy: 0.7337 - val_loss: 0.7642 - val_accuracy: 0.7190\n",
      "Epoch 125/150\n",
      "125/125 [==============================] - 0s 1ms/step - loss: 0.7227 - accuracy: 0.7350 - val_loss: 0.7646 - val_accuracy: 0.7200\n",
      "Epoch 126/150\n",
      "125/125 [==============================] - 0s 1ms/step - loss: 0.7199 - accuracy: 0.7372 - val_loss: 0.7742 - val_accuracy: 0.6980\n",
      "Epoch 127/150\n",
      "125/125 [==============================] - 0s 1ms/step - loss: 0.7175 - accuracy: 0.7365 - val_loss: 0.7596 - val_accuracy: 0.7220\n",
      "Epoch 128/150\n",
      "125/125 [==============================] - 0s 1ms/step - loss: 0.7149 - accuracy: 0.7400 - val_loss: 0.7575 - val_accuracy: 0.7130\n",
      "Epoch 129/150\n",
      "125/125 [==============================] - 0s 1ms/step - loss: 0.7132 - accuracy: 0.7352 - val_loss: 0.7547 - val_accuracy: 0.7240\n",
      "Epoch 130/150\n",
      "125/125 [==============================] - 0s 1ms/step - loss: 0.7096 - accuracy: 0.7423 - val_loss: 0.7541 - val_accuracy: 0.7230\n",
      "Epoch 131/150\n",
      "125/125 [==============================] - 0s 1ms/step - loss: 0.7089 - accuracy: 0.7408 - val_loss: 0.7526 - val_accuracy: 0.7160\n",
      "Epoch 132/150\n",
      "125/125 [==============================] - 0s 1ms/step - loss: 0.7055 - accuracy: 0.7390 - val_loss: 0.7488 - val_accuracy: 0.7230\n",
      "Epoch 133/150\n",
      "125/125 [==============================] - 0s 1ms/step - loss: 0.7037 - accuracy: 0.7435 - val_loss: 0.7466 - val_accuracy: 0.7310\n",
      "Epoch 134/150\n",
      "125/125 [==============================] - 0s 1ms/step - loss: 0.7025 - accuracy: 0.7448 - val_loss: 0.7459 - val_accuracy: 0.7210\n",
      "Epoch 135/150\n",
      "125/125 [==============================] - 0s 1ms/step - loss: 0.7013 - accuracy: 0.7448 - val_loss: 0.7462 - val_accuracy: 0.7160\n",
      "Epoch 136/150\n",
      "125/125 [==============================] - 0s 1ms/step - loss: 0.6978 - accuracy: 0.7418 - val_loss: 0.7436 - val_accuracy: 0.7240\n",
      "Epoch 137/150\n",
      "125/125 [==============================] - 0s 1ms/step - loss: 0.6959 - accuracy: 0.7467 - val_loss: 0.7436 - val_accuracy: 0.7230\n",
      "Epoch 138/150\n",
      "125/125 [==============================] - 0s 1ms/step - loss: 0.6935 - accuracy: 0.7442 - val_loss: 0.7393 - val_accuracy: 0.7240\n",
      "Epoch 139/150\n",
      "125/125 [==============================] - 0s 1ms/step - loss: 0.6917 - accuracy: 0.7450 - val_loss: 0.7374 - val_accuracy: 0.7280\n",
      "Epoch 140/150\n",
      "125/125 [==============================] - 0s 1ms/step - loss: 0.6897 - accuracy: 0.7483 - val_loss: 0.7390 - val_accuracy: 0.7230\n",
      "Epoch 141/150\n",
      "125/125 [==============================] - 0s 1ms/step - loss: 0.6869 - accuracy: 0.7492 - val_loss: 0.7339 - val_accuracy: 0.7250\n",
      "Epoch 142/150\n",
      "125/125 [==============================] - 0s 1ms/step - loss: 0.6853 - accuracy: 0.7483 - val_loss: 0.7393 - val_accuracy: 0.7150\n",
      "Epoch 143/150\n",
      "125/125 [==============================] - 0s 1ms/step - loss: 0.6822 - accuracy: 0.7502 - val_loss: 0.7314 - val_accuracy: 0.7240\n",
      "Epoch 144/150\n",
      "125/125 [==============================] - 0s 1ms/step - loss: 0.6816 - accuracy: 0.7500 - val_loss: 0.7293 - val_accuracy: 0.7260\n",
      "Epoch 145/150\n",
      "125/125 [==============================] - 0s 1ms/step - loss: 0.6794 - accuracy: 0.7513 - val_loss: 0.7281 - val_accuracy: 0.7280\n",
      "Epoch 146/150\n",
      "125/125 [==============================] - 0s 1ms/step - loss: 0.6780 - accuracy: 0.7525 - val_loss: 0.7272 - val_accuracy: 0.7240\n",
      "Epoch 147/150\n",
      "125/125 [==============================] - 0s 1ms/step - loss: 0.6760 - accuracy: 0.7513 - val_loss: 0.7232 - val_accuracy: 0.7360\n",
      "Epoch 148/150\n",
      "125/125 [==============================] - 0s 1ms/step - loss: 0.6747 - accuracy: 0.7513 - val_loss: 0.7222 - val_accuracy: 0.7310\n",
      "Epoch 149/150\n",
      "125/125 [==============================] - 0s 1ms/step - loss: 0.6711 - accuracy: 0.7565 - val_loss: 0.7201 - val_accuracy: 0.7260\n",
      "Epoch 150/150\n",
      "125/125 [==============================] - 0s 1ms/step - loss: 0.6690 - accuracy: 0.7542 - val_loss: 0.7200 - val_accuracy: 0.7350\n"
     ]
    }
   ],
   "source": [
    "history = model.fit(X_train, y_train, validation_data=(X_test, y_test), epochs=150, batch_size=32)"
   ],
   "metadata": {
    "collapsed": false
   }
  },
  {
   "cell_type": "code",
   "execution_count": 17,
   "metadata": {
    "collapsed": true
   },
   "outputs": [
    {
     "data": {
      "text/plain": "<Figure size 640x480 with 1 Axes>",
      "image/png": "[encoded data removed]"
     },
     "metadata": {},
     "output_type": "display_data"
    }
   ],
   "source": [
    "history_dict = history.history\n",
    "\n",
    "acc = history_dict['accuracy']\n",
    "loss = history_dict['loss']\n",
    "\n",
    "epochs = range(1, len(acc) + 1)\n",
    "\n",
    "# \"bo\" is for \"blue dot\"\n",
    "plt.plot(epochs, loss, 'bo', label='Training loss')\n",
    "# b is for \"solid blue line\"\n",
    "plt.plot(epochs, acc, 'b', label='Validation loss')\n",
    "plt.title('Training and validation loss')\n",
    "plt.xlabel('Epochs')\n",
    "plt.ylabel('Loss')\n",
    "plt.legend()\n",
    "\n",
    "plt.show()"
   ]
  },
  {
   "cell_type": "code",
   "execution_count": 18,
   "outputs": [
    {
     "name": "stdout",
     "output_type": "stream",
     "text": [
      "32/32 [==============================] - 0s 501us/step - loss: 0.7200 - accuracy: 0.7350\n"
     ]
    }
   ],
   "source": [
    "loss, accuracy = model.evaluate(X_test, y_test, verbose=1)"
   ],
   "metadata": {
    "collapsed": false
   }
  },
  {
   "cell_type": "code",
   "execution_count": 19,
   "outputs": [
    {
     "name": "stdout",
     "output_type": "stream",
     "text": [
      "32/32 [==============================] - 0s 630us/step\n"
     ]
    },
    {
     "data": {
      "text/plain": "[0,\n 3,\n 3,\n 0,\n 0,\n 0,\n 0,\n 0,\n 0,\n 0,\n 3,\n 0,\n 0,\n 0,\n 0,\n 0,\n 0,\n 3,\n 0,\n 4,\n 0,\n 3,\n 0,\n 1,\n 0,\n 1,\n 0,\n 0,\n 1,\n 0,\n 4,\n 3,\n 0,\n 1,\n 0,\n 0,\n 0,\n 3,\n 3,\n 2,\n 0,\n 0,\n 0,\n 0,\n 0,\n 0,\n 0,\n 0,\n 0,\n 0,\n 3,\n 2,\n 2,\n 0,\n 3,\n 3,\n 1,\n 0,\n 0,\n 1,\n 0,\n 1,\n 3,\n 0,\n 4,\n 0,\n 0,\n 0,\n 2,\n 0,\n 4,\n 0,\n 0,\n 2,\n 4,\n 4,\n 0,\n 3,\n 4,\n 4,\n 4,\n 0,\n 3,\n 3,\n 0,\n 1,\n 0,\n 0,\n 0,\n 0,\n 2,\n 0,\n 0,\n 2,\n 0,\n 3,\n 3,\n 4,\n 0,\n 4,\n 0,\n 3,\n 0,\n 4,\n 1,\n 3,\n 0,\n 1,\n 0,\n 0,\n 0,\n 0,\n 0,\n 0,\n 1,\n 4,\n 0,\n 0,\n 0,\n 3,\n 0,\n 0,\n 0,\n 3,\n 3,\n 0,\n 3,\n 0,\n 4,\n 1,\n 0,\n 3,\n 0,\n 4,\n 0,\n 2,\n 3,\n 4,\n 0,\n 0,\n 0,\n 3,\n 0,\n 2,\n 1,\n 0,\n 0,\n 1,\n 0,\n 4,\n 2,\n 0,\n 3,\n 0,\n 1,\n 0,\n 2,\n 0,\n 1,\n 2,\n 3,\n 0,\n 0,\n 0,\n 0,\n 0,\n 0,\n 0,\n 0,\n 3,\n 1,\n 2,\n 4,\n 0,\n 0,\n 1,\n 3,\n 0,\n 3,\n 0,\n 1,\n 0,\n 1,\n 0,\n 4,\n 0,\n 4,\n 0,\n 3,\n 1,\n 3,\n 4,\n 0,\n 2,\n 0,\n 3,\n 0,\n 0,\n 0,\n 2,\n 4,\n 4,\n 0,\n 0,\n 3,\n 0,\n 0,\n 4,\n 3,\n 0,\n 0,\n 0,\n 0,\n 1,\n 0,\n 3,\n 3,\n 0,\n 3,\n 0,\n 2,\n 0,\n 4,\n 0,\n 0,\n 0,\n 4,\n 4,\n 0,\n 3,\n 1,\n 0,\n 4,\n 3,\n 0,\n 0,\n 3,\n 3,\n 4,\n 0,\n 3,\n 4,\n 2,\n 3,\n 3,\n 0,\n 0,\n 3,\n 0,\n 1,\n 1,\n 0,\n 0,\n 3,\n 0,\n 0,\n 3,\n 3,\n 0,\n 1,\n 0,\n 0,\n 4,\n 3,\n 0,\n 3,\n 4,\n 0,\n 0,\n 0,\n 1,\n 0,\n 3,\n 2,\n 0,\n 2,\n 0,\n 4,\n 0,\n 3,\n 3,\n 1,\n 0,\n 0,\n 0,\n 1,\n 0,\n 4,\n 2,\n 2,\n 0,\n 0,\n 3,\n 1,\n 4,\n 1,\n 3,\n 3,\n 4,\n 3,\n 3,\n 3,\n 0,\n 0,\n 0,\n 0,\n 0,\n 0,\n 1,\n 0,\n 3,\n 2,\n 3,\n 1,\n 3,\n 0,\n 1,\n 4,\n 3,\n 0,\n 4,\n 4,\n 1,\n 0,\n 4,\n 3,\n 4,\n 0,\n 1,\n 2,\n 0,\n 1,\n 0,\n 0,\n 4,\n 0,\n 0,\n 1,\n 0,\n 0,\n 3,\n 0,\n 1,\n 0,\n 0,\n 0,\n 1,\n 0,\n 3,\n 0,\n 3,\n 0,\n 1,\n 0,\n 0,\n 1,\n 0,\n 1,\n 0,\n 0,\n 3,\n 0,\n 3,\n 0,\n 3,\n 3,\n 2,\n 3,\n 0,\n 0,\n 0,\n 0,\n 0,\n 3,\n 0,\n 4,\n 3,\n 3,\n 0,\n 4,\n 3,\n 3,\n 0,\n 3,\n 0,\n 4,\n 0,\n 4,\n 0,\n 2,\n 3,\n 0,\n 1,\n 0,\n 0,\n 1,\n 3,\n 3,\n 0,\n 0,\n 0,\n 0,\n 0,\n 4,\n 0,\n 3,\n 0,\n 1,\n 0,\n 0,\n 4,\n 3,\n 0,\n 3,\n 0,\n 2,\n 0,\n 3,\n 0,\n 0,\n 4,\n 4,\n 0,\n 0,\n 0,\n 0,\n 0,\n 0,\n 0,\n 0,\n 3,\n 0,\n 3,\n 0,\n 1,\n 0,\n 0,\n 0,\n 1,\n 0,\n 4,\n 4,\n 0,\n 0,\n 1,\n 0,\n 1,\n 1,\n 0,\n 0,\n 0,\n 0,\n 2,\n 0,\n 0,\n 0,\n 0,\n 0,\n 3,\n 0,\n 3,\n 0,\n 4,\n 3,\n 0,\n 0,\n 0,\n 0,\n 0,\n 2,\n 0,\n 1,\n 2,\n 4,\n 0,\n 3,\n 3,\n 1,\n 3,\n 0,\n 3,\n 0,\n 0,\n 3,\n 0,\n 0,\n 3,\n 3,\n 0,\n 3,\n 0,\n 0,\n 0,\n 3,\n 1,\n 0,\n 3,\n 0,\n 3,\n 3,\n 4,\n 3,\n 3,\n 0,\n 0,\n 3,\n 0,\n 0,\n 0,\n 0,\n 0,\n 0,\n 0,\n 0,\n 0,\n 3,\n 3,\n 0,\n 3,\n 0,\n 0,\n 3,\n 0,\n 0,\n 3,\n 4,\n 0,\n 1,\n 0,\n 4,\n 0,\n 3,\n 0,\n 0,\n 4,\n 0,\n 3,\n 0,\n 4,\n 2,\n 4,\n 3,\n 0,\n 3,\n 0,\n 3,\n 1,\n 3,\n 0,\n 0,\n 0,\n 3,\n 3,\n 3,\n 3,\n 0,\n 0,\n 0,\n 4,\n 3,\n 0,\n 0,\n 3,\n 3,\n 0,\n 3,\n 3,\n 4,\n 3,\n 0,\n 3,\n 0,\n 3,\n 0,\n 3,\n 0,\n 4,\n 1,\n 3,\n 0,\n 3,\n 0,\n 3,\n 0,\n 0,\n 4,\n 0,\n 3,\n 4,\n 3,\n 3,\n 3,\n 2,\n 0,\n 0,\n 0,\n 2,\n 0,\n 0,\n 3,\n 3,\n 0,\n 3,\n 4,\n 3,\n 3,\n 3,\n 0,\n 3,\n 0,\n 1,\n 0,\n 3,\n 0,\n 1,\n 3,\n 3,\n 1,\n 3,\n 1,\n 0,\n 3,\n 0,\n 4,\n 4,\n 4,\n 3,\n 0,\n 0,\n 3,\n 0,\n 3,\n 4,\n 0,\n 0,\n 0,\n 0,\n 4,\n 1,\n 0,\n 2,\n 3,\n 4,\n 0,\n 3,\n 0,\n 2,\n 0,\n 0,\n 0,\n 0,\n 0,\n 4,\n 0,\n 3,\n 0,\n 0,\n 0,\n 1,\n 3,\n 0,\n 0,\n 1,\n 3,\n 0,\n 4,\n 0,\n 0,\n 0,\n 0,\n 0,\n 0,\n 3,\n 4,\n 3,\n 0,\n 3,\n 0,\n 3,\n 3,\n 0,\n 0,\n 1,\n 1,\n 0,\n 0,\n 0,\n 0,\n 4,\n 0,\n 0,\n 3,\n 0,\n 1,\n 2,\n 3,\n 0,\n 0,\n 3,\n 0,\n 3,\n 3,\n 0,\n 3,\n 0,\n 0,\n 0,\n 0,\n 3,\n 0,\n 0,\n 0,\n 2,\n 1,\n 0,\n 3,\n 3,\n 4,\n 0,\n 3,\n 0,\n 3,\n 0,\n 0,\n 1,\n 4,\n 0,\n 3,\n 4,\n 0,\n 0,\n 3,\n 2,\n 0,\n 1,\n 0,\n 3,\n 0,\n 0,\n 0,\n 0,\n 0,\n 0,\n 3,\n 0,\n 3,\n 4,\n 4,\n 0,\n 3,\n 3,\n 3,\n 2,\n 4,\n 3,\n 1,\n 2,\n 1,\n 0,\n 3,\n 4,\n 0,\n 0,\n 0,\n 1,\n 0,\n 3,\n 0,\n 0,\n 3,\n 0,\n 3,\n 0,\n 1,\n 0,\n 0,\n 0,\n 0,\n 2,\n 0,\n 2,\n 3,\n 0,\n 0,\n 2,\n 4,\n 4,\n 0,\n 0,\n 0,\n 0,\n 0,\n 3,\n 0,\n 4,\n 3,\n 3,\n 3,\n 0,\n 0,\n 0,\n 3,\n 0,\n 3,\n 3,\n 0,\n 0,\n 3,\n 1,\n 4,\n 0,\n 3,\n 0,\n 0,\n 3,\n 4,\n 0,\n 0,\n 3,\n 3,\n 1,\n 0,\n 0,\n 3,\n 3,\n 0,\n 0,\n 3,\n 3,\n 0,\n 0,\n 0,\n 2,\n 0,\n 0,\n 0,\n 0,\n 2,\n 0,\n 0,\n 3,\n 3,\n 0,\n 0,\n 0,\n 3,\n 3,\n 3,\n 0,\n 0,\n 4,\n 0,\n 3,\n 4,\n 0,\n 0,\n 2,\n 3,\n 1,\n 2,\n 0,\n 3,\n 0,\n 4,\n 0,\n 0,\n 0,\n 4,\n 0,\n 0,\n 3,\n 0,\n 4,\n 0,\n 3,\n 0,\n 0,\n 0,\n 0,\n 3,\n 0,\n 4,\n 0,\n 3,\n 3,\n 4,\n 3,\n 0,\n 0,\n 0,\n 2,\n 0,\n 0,\n 3,\n 0,\n 3,\n 0,\n 0,\n 0,\n 0,\n 3,\n 4,\n 0,\n 3,\n 3,\n 0,\n 2,\n 0,\n 2,\n 3,\n 0,\n 4,\n 4,\n 0,\n 0,\n 0,\n 0,\n 0,\n 3,\n 0,\n 0,\n 1,\n 0,\n 1,\n 1,\n 3,\n 0,\n 0,\n 0,\n 4,\n 0,\n 4,\n 0,\n 3,\n 4,\n 0,\n 0,\n 0,\n 0,\n 0,\n 0,\n 3,\n 0,\n 3,\n 4,\n 2,\n 0,\n 1,\n 3,\n 0,\n 4,\n 0,\n 3,\n 0,\n 3,\n 0,\n 3,\n 0,\n 2,\n 1,\n 3,\n 3,\n 1,\n 0,\n 1,\n 3,\n 4,\n 1,\n 4,\n 3,\n 3,\n 0,\n 3,\n 0,\n 3,\n 1,\n 0,\n 3,\n 1,\n 1,\n 2,\n 0,\n 2,\n 3,\n 3,\n 0,\n 3,\n 0,\n 0,\n 0,\n 0,\n 4,\n 1,\n 0,\n 3,\n 4,\n 0,\n 3,\n 0,\n 4]"
     },
     "execution_count": 19,
     "metadata": {},
     "output_type": "execute_result"
    }
   ],
   "source": [
    "predicts = model.predict(X_test)\n",
    "\n",
    "categories_predicted = [np.argmax(pred) for pred in predicts]\n",
    "\n",
    "categories_predicted"
   ],
   "metadata": {
    "collapsed": false
   }
  },
  {
   "cell_type": "code",
   "execution_count": 20,
   "outputs": [
    {
     "data": {
      "text/plain": "1718    0\n2511    1\n345     1\n2521    0\n54      0\n       ..\n3900    4\n3753    0\n3582    3\n2392    0\n3343    4\nName: incidents, Length: 1000, dtype: int64"
     },
     "execution_count": 20,
     "metadata": {},
     "output_type": "execute_result"
    }
   ],
   "source": [
    "y_test"
   ],
   "metadata": {
    "collapsed": false
   }
  },
  {
   "cell_type": "markdown",
   "source": [
    "# Obter as previsões no dataset de submissão"
   ],
   "metadata": {
    "collapsed": false
   }
  },
  {
   "cell_type": "code",
   "execution_count": 21,
   "outputs": [
    {
     "data": {
      "text/plain": "      delay_in_seconds  affected_roads  luminosity  avg_temperature  \\\n0             0.081461        0.142857         0.5         0.464286   \n1             0.000000        0.142857         1.0         0.500000   \n2             0.000000        0.142857         0.5         0.714286   \n3             0.009417        0.285714         0.5         0.571429   \n4             0.000000        0.142857         0.5         0.642857   \n...                ...             ...         ...              ...   \n1201          0.000000        0.142857         0.5         0.357143   \n1202          0.002960        0.142857         1.0         0.785714   \n1203          0.084824        0.142857         0.5         0.392857   \n1204          0.016548        0.142857         0.5         0.464286   \n1205          0.000000        0.142857         0.5         0.607143   \n\n      avg_atm_pressure  avg_humidity  avg_wind_speed  avg_rain  \\\n0              0.59375      0.784946        0.000000       0.0   \n1              0.59375      0.365591        0.222222       0.0   \n2              0.56250      0.688172        0.000000       0.0   \n3              0.28125      0.795699        0.333333       0.0   \n4              0.71875      0.849462        0.000000       0.0   \n...                ...           ...             ...       ...   \n1201           0.81250      0.677419        0.222222       0.0   \n1202           0.53125      0.344086        0.222222       0.0   \n1203           0.59375      0.569892        0.000000       0.0   \n1204           0.50000      0.462366        0.111111       0.0   \n1205           0.71875      0.408602        0.111111       0.0   \n\n      record_date_hour  record_date_day  record_date_month  \\\n0             0.826087         0.400000           0.272727   \n1             0.173913         0.400000           0.818182   \n2             0.826087         0.566667           0.545455   \n3             0.652174         0.966667           0.818182   \n4             0.434783         0.566667           0.818182   \n...                ...              ...                ...   \n1201          0.434783         1.000000           1.000000   \n1202          0.000000         0.500000           0.545455   \n1203          0.652174         0.600000           1.000000   \n1204          0.739130         0.233333           0.181818   \n1205          0.434783         0.166667           0.454545   \n\n      record_date_weekday  \n0                0.166667  \n1                0.333333  \n2                1.000000  \n3                0.833333  \n4                0.000000  \n...                   ...  \n1201             0.666667  \n1202             0.666667  \n1203             1.000000  \n1204             0.000000  \n1205             1.000000  \n\n[1206 rows x 12 columns]",
      "text/html": "<div>\n<style scoped>\n    .dataframe tbody tr th:only-of-type {\n        vertical-align: middle;\n    }\n\n    .dataframe tbody tr th {\n        vertical-align: top;\n    }\n\n    .dataframe thead th {\n        text-align: right;\n    }\n</style>\n<table border=\"1\" class=\"dataframe\">\n  <thead>\n    <tr style=\"text-align: right;\">\n      <th></th>\n      <th>delay_in_seconds</th>\n      <th>affected_roads</th>\n      <th>luminosity</th>\n      <th>avg_temperature</th>\n      <th>avg_atm_pressure</th>\n      <th>avg_humidity</th>\n      <th>avg_wind_speed</th>\n      <th>avg_rain</th>\n      <th>record_date_hour</th>\n      <th>record_date_day</th>\n      <th>record_date_month</th>\n      <th>record_date_weekday</th>\n    </tr>\n  </thead>\n  <tbody>\n    <tr>\n      <th>0</th>\n      <td>0.081461</td>\n      <td>0.142857</td>\n      <td>0.5</td>\n      <td>0.464286</td>\n      <td>0.59375</td>\n      <td>0.784946</td>\n      <td>0.000000</td>\n      <td>0.0</td>\n      <td>0.826087</td>\n      <td>0.400000</td>\n      <td>0.272727</td>\n      <td>0.166667</td>\n    </tr>\n    <tr>\n      <th>1</th>\n      <td>0.000000</td>\n      <td>0.142857</td>\n      <td>1.0</td>\n      <td>0.500000</td>\n      <td>0.59375</td>\n      <td>0.365591</td>\n      <td>0.222222</td>\n      <td>0.0</td>\n      <td>0.173913</td>\n      <td>0.400000</td>\n      <td>0.818182</td>\n      <td>0.333333</td>\n    </tr>\n    <tr>\n      <th>2</th>\n      <td>0.000000</td>\n      <td>0.142857</td>\n      <td>0.5</td>\n      <td>0.714286</td>\n      <td>0.56250</td>\n      <td>0.688172</td>\n      <td>0.000000</td>\n      <td>0.0</td>\n      <td>0.826087</td>\n      <td>0.566667</td>\n      <td>0.545455</td>\n      <td>1.000000</td>\n    </tr>\n    <tr>\n      <th>3</th>\n      <td>0.009417</td>\n      <td>0.285714</td>\n      <td>0.5</td>\n      <td>0.571429</td>\n      <td>0.28125</td>\n      <td>0.795699</td>\n      <td>0.333333</td>\n      <td>0.0</td>\n      <td>0.652174</td>\n      <td>0.966667</td>\n      <td>0.818182</td>\n      <td>0.833333</td>\n    </tr>\n    <tr>\n      <th>4</th>\n      <td>0.000000</td>\n      <td>0.142857</td>\n      <td>0.5</td>\n      <td>0.642857</td>\n      <td>0.71875</td>\n      <td>0.849462</td>\n      <td>0.000000</td>\n      <td>0.0</td>\n      <td>0.434783</td>\n      <td>0.566667</td>\n      <td>0.818182</td>\n      <td>0.000000</td>\n    </tr>\n    <tr>\n      <th>...</th>\n      <td>...</td>\n      <td>...</td>\n      <td>...</td>\n      <td>...</td>\n      <td>...</td>\n      <td>...</td>\n      <td>...</td>\n      <td>...</td>\n      <td>...</td>\n      <td>...</td>\n      <td>...</td>\n      <td>...</td>\n    </tr>\n    <tr>\n      <th>1201</th>\n      <td>0.000000</td>\n      <td>0.142857</td>\n      <td>0.5</td>\n      <td>0.357143</td>\n      <td>0.81250</td>\n      <td>0.677419</td>\n      <td>0.222222</td>\n      <td>0.0</td>\n      <td>0.434783</td>\n      <td>1.000000</td>\n      <td>1.000000</td>\n      <td>0.666667</td>\n    </tr>\n    <tr>\n      <th>1202</th>\n      <td>0.002960</td>\n      <td>0.142857</td>\n      <td>1.0</td>\n      <td>0.785714</td>\n      <td>0.53125</td>\n      <td>0.344086</td>\n      <td>0.222222</td>\n      <td>0.0</td>\n      <td>0.000000</td>\n      <td>0.500000</td>\n      <td>0.545455</td>\n      <td>0.666667</td>\n    </tr>\n    <tr>\n      <th>1203</th>\n      <td>0.084824</td>\n      <td>0.142857</td>\n      <td>0.5</td>\n      <td>0.392857</td>\n      <td>0.59375</td>\n      <td>0.569892</td>\n      <td>0.000000</td>\n      <td>0.0</td>\n      <td>0.652174</td>\n      <td>0.600000</td>\n      <td>1.000000</td>\n      <td>1.000000</td>\n    </tr>\n    <tr>\n      <th>1204</th>\n      <td>0.016548</td>\n      <td>0.142857</td>\n      <td>0.5</td>\n      <td>0.464286</td>\n      <td>0.50000</td>\n      <td>0.462366</td>\n      <td>0.111111</td>\n      <td>0.0</td>\n      <td>0.739130</td>\n      <td>0.233333</td>\n      <td>0.181818</td>\n      <td>0.000000</td>\n    </tr>\n    <tr>\n      <th>1205</th>\n      <td>0.000000</td>\n      <td>0.142857</td>\n      <td>0.5</td>\n      <td>0.607143</td>\n      <td>0.71875</td>\n      <td>0.408602</td>\n      <td>0.111111</td>\n      <td>0.0</td>\n      <td>0.434783</td>\n      <td>0.166667</td>\n      <td>0.454545</td>\n      <td>1.000000</td>\n    </tr>\n  </tbody>\n</table>\n<p>1206 rows × 12 columns</p>\n</div>"
     },
     "execution_count": 21,
     "metadata": {},
     "output_type": "execute_result"
    }
   ],
   "source": [
    "X = neural_network_data_preparation(test_df)\n",
    "\n",
    "scaler_X = MinMaxScaler(feature_range=(0, 1)).fit(X)\n",
    "X_scaled = pd.DataFrame(scaler_X.transform(X[X.columns]), columns=X.columns)\n",
    "\n",
    "X_scaled"
   ],
   "metadata": {
    "collapsed": false
   }
  },
  {
   "cell_type": "code",
   "execution_count": 22,
   "outputs": [
    {
     "name": "stdout",
     "output_type": "stream",
     "text": [
      "38/38 [==============================] - 0s 686us/step\n"
     ]
    },
    {
     "data": {
      "text/plain": "array([[1.52413477e-08, 4.09123197e-04, 2.37359107e-03, 7.54288286e-02,\n        9.21788394e-01],\n       [8.18769336e-01, 1.69369355e-01, 9.92000010e-03, 1.92007620e-03,\n        2.12839241e-05],\n       [6.13695025e-01, 1.74736843e-01, 9.03705433e-02, 1.16669051e-01,\n        4.52848338e-03],\n       ...,\n       [1.62932804e-04, 3.32928419e-01, 1.64157778e-01, 3.90572309e-01,\n        1.12178609e-01],\n       [1.24576123e-04, 4.45571542e-02, 4.18528020e-02, 2.98368812e-01,\n        6.15096629e-01],\n       [1.15508154e-01, 7.92004913e-02, 9.86063331e-02, 6.47278309e-01,\n        5.94067462e-02]], dtype=float32)"
     },
     "execution_count": 22,
     "metadata": {},
     "output_type": "execute_result"
    }
   ],
   "source": [
    "categories_prob_predictions = model.predict(X_scaled)\n",
    "\n",
    "categories_prob_predictions"
   ],
   "metadata": {
    "collapsed": false
   }
  },
  {
   "cell_type": "code",
   "execution_count": 23,
   "outputs": [
    {
     "data": {
      "text/plain": "[4, 0, 0, 1, 0, 4, 4, 0, 3, 0]"
     },
     "execution_count": 23,
     "metadata": {},
     "output_type": "execute_result"
    }
   ],
   "source": [
    "numerical_predictions = [np.argmax(pred) for pred in categories_prob_predictions]\n",
    "\n",
    "numerical_predictions[:10]"
   ],
   "metadata": {
    "collapsed": false
   }
  },
  {
   "cell_type": "code",
   "execution_count": 24,
   "outputs": [],
   "source": [
    "numerical_predictions_df = pd.DataFrame(numerical_predictions)\n",
    "\n",
    "incidents_categories = {\n",
    "    0: 'None',\n",
    "    1: 'Low',\n",
    "    2: 'Medium',\n",
    "    3: 'High',\n",
    "    4: 'Very_High',\n",
    "}\n",
    "\n",
    "predictions_df = numerical_predictions_df.replace(incidents_categories)"
   ],
   "metadata": {
    "collapsed": false
   }
  },
  {
   "cell_type": "code",
   "execution_count": 25,
   "outputs": [],
   "source": [
    "predictions_df.index += 1\n",
    "\n",
    "predictions_df.to_csv(\"submission.csv\", header=['Incidents'], index_label='RowId')"
   ],
   "metadata": {
    "collapsed": false
   }
  }
 ],
 "metadata": {
  "kernelspec": {
   "display_name": "Python 3",
   "language": "python",
   "name": "python3"
  },
  "language_info": {
   "codemirror_mode": {
    "name": "ipython",
    "version": 2
   },
   "file_extension": ".py",
   "mimetype": "text/x-python",
   "name": "python",
   "nbconvert_exporter": "python",
   "pygments_lexer": "ipython2",
   "version": "2.7.6"
  }
 },
 "nbformat": 4,
 "nbformat_minor": 0
}
