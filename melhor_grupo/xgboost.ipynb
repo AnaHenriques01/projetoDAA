{
 "cells": [
  {
   "cell_type": "markdown",
   "id": "a83e7540-8165-425f-abbf-583ddd877bc6",
   "metadata": {},
   "source": [
    "### Imports"
   ]
  },
  {
   "cell_type": "code",
   "execution_count": 1,
   "id": "e1e38320-c91a-4712-8b9c-eddf2614840d",
   "metadata": {},
   "outputs": [],
   "source": [
    "import pandas as pd\n",
    "import numpy as np\n",
    "import matplotlib.pyplot as plt\n",
    "import seaborn as sns\n",
    "import time\n",
    "from sklearn.model_selection import train_test_split\n",
    "from sklearn.impute import SimpleImputer\n",
    "from pandas import DatetimeIndex\n",
    "\n",
    "%matplotlib inline\n",
    "from sklearn.model_selection import train_test_split\n",
    "from sklearn.model_selection import cross_val_score\n",
    "\n",
    "from sklearn.tree import DecisionTreeClassifier\n",
    "from sklearn.tree import DecisionTreeRegressor\n",
    "\n",
    "from sklearn.metrics import confusion_matrix, ConfusionMatrixDisplay\n",
    "from sklearn.metrics import recall_score\n",
    "from sklearn.metrics import accuracy_score\n",
    "from sklearn.metrics import precision_score\n",
    "from sklearn.metrics import roc_curve\n",
    "from sklearn.metrics import f1_score\n",
    "from sklearn.metrics import fbeta_score\n",
    "from sklearn.metrics import mean_absolute_error\n",
    "from sklearn.metrics import mean_squared_error\n",
    "from sklearn import metrics"
   ]
  },
  {
   "cell_type": "markdown",
   "id": "0dbbfb26-9509-4f69-a5c0-a0c1b044c3b2",
   "metadata": {},
   "source": [
    "### Carregamento de Dados"
   ]
  },
  {
   "cell_type": "code",
   "execution_count": 2,
   "id": "13602a54-0bd6-47a0-a721-480d99fd1c92",
   "metadata": {},
   "outputs": [],
   "source": [
    "dataOriginal = pd.read_csv('new_Global_Superstore2.csv', index_col=0, comment='#') \n",
    "df = dataOriginal \n",
    "\n"
   ]
  },
  {
   "cell_type": "markdown",
   "id": "4c284a5d-b90a-4826-9d25-6710efbd0fe2",
   "metadata": {},
   "source": [
    "# Modelação\n",
    "\n",
    "## XGBoost\n",
    "\n",
    "Para utilizarmos XGBoost, temos de converter os dados com \"string\" para numéricos. \n",
    "E removemos colunas que não consideramos importantes."
   ]
  },
  {
   "cell_type": "code",
   "execution_count": 3,
   "id": "51d50e02-e35f-4df5-967b-a32dad87ef5d",
   "metadata": {},
   "outputs": [],
   "source": [
    "import xgboost as xgb\n",
    "from sklearn.model_selection import GridSearchCV\n",
    "\n",
    "\n",
    "dataset = df\n",
    "\n",
    "X = dataset.drop(['Profit'],axis=1)\n",
    "y = dataset['Profit']\n",
    "\n",
    "small_dataset = False\n",
    "if small_dataset: \n",
    "    remove_n = 20000\n",
    "    drop_indices = np.random.choice(dataset.index, remove_n, replace=False)\n",
    "    dataset_subset = dataset.drop(drop_indices)\n",
    "    X = dataset_subset.drop('Profit', axis=1)\n",
    "    y = dataset_subset[['Profit']]\n"
   ]
  },
  {
   "cell_type": "code",
   "execution_count": 4,
   "id": "59ba07f6-2a0a-4710-ae7f-50cc038beff1",
   "metadata": {},
   "outputs": [],
   "source": [
    "\n",
    "\n",
    "RANDOM_SEED = 2021\n",
    "\n",
    "X_train, X_test, y_train, y_test = train_test_split(X, y, test_size=0.2, random_state=RANDOM_SEED)\n",
    "\n"
   ]
  },
  {
   "cell_type": "code",
   "execution_count": 33,
   "id": "cefd5bf9-c2ce-46da-b142-9d9a8bc0b558",
   "metadata": {},
   "outputs": [],
   "source": [
    "def analise_model(model, graph=True): \n",
    "    start_time = time.time()\n",
    "    model.fit(X_train, y_train)\n",
    "    predictions = model.predict(X_test)\n",
    "    print(\"time - {}\".format(time.time()-start_time))\n",
    "    #predictions  = predictions.reshape(len(predictions),1 )\n",
    "    # Métricas\n",
    "    if graph:\n",
    "        print(model)\n",
    "        print(\"Mean Absolute Error: \", mean_absolute_error(y_test, predictions))\n",
    "        print(\"Mean Squared Error: \", mean_squared_error(y_test, predictions, squared=True))\n",
    "    print('RMSE: ', np.sqrt(metrics.mean_squared_error(y_test, predictions)))\n",
    "    if graph:\n",
    "        sns.histplot(y_test-predictions, bins=10,stat=\"density\")\n",
    "        plt.show()\n",
    "    \n",
    "        sns.displot(y_test-predictions)\n",
    "        plt.show() \n",
    "        ax = plt.axes()\n",
    "        ax.plot([-2000, -250, 0, 1500, 3000], [-2000, -250, 0, 1500, 3000], 'r')\n",
    "        plt.scatter(y_test,predictions)\n",
    "        plt.show()\n",
    "    return predictions\n",
    "    \n",
    "\n",
    "\n",
    "# Estudar o de baixo\n",
    "#print(metrics.r2_score(y_test,predictions ))\n",
    "#df.info()"
   ]
  },
  {
   "cell_type": "code",
   "execution_count": null,
   "id": "cb807778",
   "metadata": {},
   "outputs": [],
   "source": [
    "\n",
    "\n",
    "xgbModel = xgb.XGBRegressor()\n",
    "\n",
    "analise_model(xgbModel)\n",
    "\n"
   ]
  },
  {
   "cell_type": "code",
   "execution_count": 12,
   "id": "b4b086c8",
   "metadata": {},
   "outputs": [],
   "source": [
    "# Veio daqui:\n",
    "# https://www.nbshare.io/notebook/312837011/Decision-Tree-Regression-With-Hyper-Parameter-Tuning-In-Python/\n",
    "\n",
    "\n",
    "def hyper_param(model, params):\n",
    "    print(\"Modelo atual: \" , model)\n",
    "    \n",
    "    # cv = cross-validation generator\n",
    "    # verbose = quanto é apresentado\n",
    "    tuning_model=GridSearchCV(model,param_grid=params,scoring='neg_mean_squared_error',cv=3)\n",
    "    tuning_model.fit(X_train, y_train)\n",
    "    \n",
    "    return tuning_model.best_params_\n",
    "    "
   ]
  },
  {
   "cell_type": "code",
   "execution_count": 13,
   "id": "9231b1a5",
   "metadata": {},
   "outputs": [
    {
     "name": "stdout",
     "output_type": "stream",
     "text": [
      "Modelo atual:  XGBRegressor(base_score=0.5, booster='gbtree', callbacks=None,\n",
      "             colsample_bylevel=1, colsample_bynode=1, colsample_bytree=1,\n",
      "             early_stopping_rounds=None, enable_categorical=False,\n",
      "             eval_metric=None, feature_types=None, gamma=0, gpu_id=-1,\n",
      "             grow_policy='depthwise', importance_type=None,\n",
      "             interaction_constraints='', learning_rate=0.300000012, max_bin=256,\n",
      "             max_cat_threshold=64, max_cat_to_onehot=4, max_delta_step=0,\n",
      "             max_depth=6, max_leaves=0, min_child_weight=1, missing=nan,\n",
      "             monotone_constraints='()', n_estimators=100, n_jobs=0,\n",
      "             num_parallel_tree=1, predictor='auto', random_state=0, ...)\n",
      "Melhores parâmetros:  {'learning_rate': 0.1, 'max_depth': 4, 'n_estimators': 100}\n",
      "XGBRegressor(base_score=None, booster=None, callbacks=None,\n",
      "             colsample_bylevel=None, colsample_bynode=None,\n",
      "             colsample_bytree=None, early_stopping_rounds=None,\n",
      "             enable_categorical=False, eval_metric=None, feature_types=None,\n",
      "             gamma=None, gpu_id=None, grow_policy=None, importance_type=None,\n",
      "             interaction_constraints=None, learning_rate=0.1, max_bin=None,\n",
      "             max_cat_threshold=None, max_cat_to_onehot=None,\n",
      "             max_delta_step=None, max_depth=4, max_leaves=None,\n",
      "             min_child_weight=None, missing=nan, monotone_constraints=None,\n",
      "             n_estimators=100, n_jobs=None, num_parallel_tree=None,\n",
      "             predictor=None, random_state=2021, ...)\n",
      "time - 1.9288017749786377\n",
      "XGBRegressor(base_score=0.5, booster='gbtree', callbacks=None,\n",
      "             colsample_bylevel=1, colsample_bynode=1, colsample_bytree=1,\n",
      "             early_stopping_rounds=None, enable_categorical=False,\n",
      "             eval_metric=None, feature_types=None, gamma=0, gpu_id=-1,\n",
      "             grow_policy='depthwise', importance_type=None,\n",
      "             interaction_constraints='', learning_rate=0.1, max_bin=256,\n",
      "             max_cat_threshold=64, max_cat_to_onehot=4, max_delta_step=0,\n",
      "             max_depth=4, max_leaves=0, min_child_weight=1, missing=nan,\n",
      "             monotone_constraints='()', n_estimators=100, n_jobs=0,\n",
      "             num_parallel_tree=1, predictor='auto', random_state=2021, ...)\n",
      "Mean Absolute Error:  42.58218132001612\n",
      "Mean Squared Error:  12074.156548845796\n",
      "RMSE:  109.88246697651904\n"
     ]
    },
    {
     "data": {
      "image/png": "[encoded data removed]",
      "text/plain": [
       "<Figure size 432x288 with 1 Axes>"
      ]
     },
     "metadata": {
      "needs_background": "light"
     },
     "output_type": "display_data"
    },
    {
     "data": {
      "image/png": "[encoded data removed]",
      "text/plain": [
       "<Figure size 360x360 with 1 Axes>"
      ]
     },
     "metadata": {
      "needs_background": "light"
     },
     "output_type": "display_data"
    },
    {
     "data": {
      "image/png": "[encoded data removed]",
      "text/plain": [
       "<Figure size 432x288 with 1 Axes>"
      ]
     },
     "metadata": {
      "needs_background": "light"
     },
     "output_type": "display_data"
    }
   ],
   "source": [
    "parameters = {\n",
    "    'max_depth': [2,4,6],\n",
    "    'n_estimators': [80,100,120],\n",
    "    'learning_rate': [0.01, 0.1, 0.3]\n",
    "}\n",
    "\n",
    "''' Parámetros default, para comparar\n",
    "{\n",
    "'objective': 'reg:squarederror', 'base_score': 0.5, 'booster': 'gbtree', 'callbacks': None, 'colsample_bylevel': 1, \n",
    "'colsample_bynode': 1, 'colsample_bytree': 1, 'early_stopping_rounds': None, 'enable_categorical': False, \n",
    "'eval_metric': None, 'feature_types': None, 'gamma': 0, 'gpu_id': -1, 'grow_policy': 'depthwise', \n",
    "'importance_type': None, 'interaction_constraints': '', \n",
    "'learning_rate': 0.300000012, \n",
    "\n",
    "'max_bin': 256, 'max_cat_threshold': 64, 'max_cat_to_onehot': 4, 'max_delta_step': 0, \n",
    "\n",
    "'max_depth': 6, \n",
    "\n",
    "'max_leaves': 0, 'min_child_weight': 1, 'missing': nan, 'monotone_constraints': '()', \n",
    "\n",
    "'n_estimators': 100, \n",
    "\n",
    "'n_jobs': 0, 'num_parallel_tree': 1, 'predictor': 'auto', 'random_state': 0, 'reg_alpha': 0, 'reg_lambda': 1, \n",
    "'sampling_method': 'uniform', 'scale_pos_weight': 1, 'subsample': 1, 'tree_method': 'exact', 'validate_parameters': 1, \n",
    "'verbosity': None}\n",
    "'''\n",
    "\n",
    "\n",
    "best_param1 = hyper_param(xgbModel, parameters)\n",
    "\n",
    "best_XGB = xgb.XGBRegressor(random_state=RANDOM_SEED)\n",
    "print(\"Melhores parâmetros: \", best_param1)\n",
    "print(best_XGB.set_params(**best_param1))\n",
    "predictions = analise_model(best_XGB)"
   ]
  },
  {
   "cell_type": "markdown",
   "id": "2af80361",
   "metadata": {},
   "source": [
    "# Análise da coluna objetivo"
   ]
  },
  {
   "cell_type": "code",
   "execution_count": 34,
   "id": "d02eb1b9",
   "metadata": {},
   "outputs": [
    {
     "name": "stdout",
     "output_type": "stream",
     "text": [
      "Analise num cols:  5\n",
      "time - 41.416077852249146\n",
      "RMSE:  118.17627317672412\n",
      "Analise num cols:  6\n",
      "time - 34.199162006378174\n",
      "RMSE:  117.8018534154536\n",
      "Analise num cols:  7\n",
      "time - 31.904320240020752\n",
      "RMSE:  115.66463898952034\n",
      "Analise num cols:  8\n",
      "time - 34.37749266624451\n",
      "RMSE:  116.4183649990145\n",
      "Analise num cols:  9\n",
      "time - 33.09720540046692\n",
      "RMSE:  110.52459567071533\n",
      "Analise num cols:  10\n",
      "time - 37.29664087295532\n",
      "RMSE:  111.14068071525348\n",
      "Analise num cols:  11\n",
      "time - 27.35859704017639\n",
      "RMSE:  110.06437453129442\n",
      "Analise num cols:  12\n",
      "time - 28.522120237350464\n",
      "RMSE:  111.26502164397195\n",
      "Analise num cols:  13\n",
      "time - 23.208619356155396\n",
      "RMSE:  111.25485598441159\n",
      "Analise num cols:  14\n",
      "time - 24.156521558761597\n",
      "RMSE:  110.08385753190794\n",
      "Analise num cols:  15\n",
      "time - 17.99457025527954\n",
      "RMSE:  112.5826418446743\n",
      "Analise num cols:  16\n",
      "time - 16.918201446533203\n",
      "RMSE:  112.53900067222034\n",
      "Analise num cols:  17\n",
      "time - 15.509914636611938\n",
      "RMSE:  112.26843901165648\n",
      "Analise num cols:  18\n",
      "time - 13.01903510093689\n",
      "RMSE:  110.55055783329509\n",
      "Analise num cols:  19\n",
      "time - 9.167495250701904\n",
      "RMSE:  111.25493274182216\n",
      "Analise num cols:  20\n",
      "time - 8.30516004562378\n",
      "RMSE:  109.88246697651904\n",
      "Analise num cols:  21\n",
      "time - 5.049723863601685\n",
      "RMSE:  109.88246697651904\n",
      "Analise num cols:  22\n",
      "time - 2.6891961097717285\n",
      "RMSE:  109.88246697651904\n"
     ]
    }
   ],
   "source": [
    "from sklearn.feature_selection import RFE\n",
    "\n",
    "for num_cols in range(5,23):\n",
    "    print(\"Analise num cols: \" , num_cols)\n",
    "    rfe = RFE(best_XGB, n_features_to_select=num_cols)\n",
    "    analise_model(rfe, False)\n",
    "\n",
    "best_num_cols = 20\n"
   ]
  },
  {
   "cell_type": "code",
   "execution_count": 36,
   "id": "612146ae",
   "metadata": {},
   "outputs": [
    {
     "name": "stdout",
     "output_type": "stream",
     "text": [
      "time - 20.85552716255188\n",
      "RMSE:  110.52459567071533\n",
      "1 Ship Mode\n",
      "1 Country\n",
      "1 Quantity\n",
      "1 Shipping_Cost\n",
      "1 Order_Priority\n",
      "1 Day_ship\n",
      "1 pib_country\n",
      "1 Sub-Category LabelEnc\n",
      "1 Discount LabelEnc\n",
      "2 Category LabelEnc\n",
      "3 Year_order\n",
      "4 Month_order\n",
      "5 Month_ship\n",
      "6 Market\n",
      "7 Region\n",
      "8 Day_order\n",
      "9 City\n",
      "10 Market_binned\n",
      "11 State\n",
      "12 Segment\n",
      "13 Ship_mode_binned\n",
      "14 Year_ship\n"
     ]
    }
   ],
   "source": [
    "from operator import itemgetter\n",
    "\n",
    "\n",
    "best_num_cols = 9\n",
    "\n",
    "rfe = RFE(best_XGB, n_features_to_select=best_num_cols)\n",
    "analise_model(rfe, False)\n",
    "\n",
    "features = X_train.columns.to_list()\n",
    "for x, y in (sorted(zip(rfe.ranking_ , features), key=itemgetter(0))):\n",
    "    print(x, y)"
   ]
  },
  {
   "cell_type": "code",
   "execution_count": 38,
   "id": "80b2279b",
   "metadata": {},
   "outputs": [
    {
     "data": {
      "image/png": "[encoded data removed]",
      "text/plain": [
       "<Figure size 432x288 with 1 Axes>"
      ]
     },
     "metadata": {
      "needs_background": "light"
     },
     "output_type": "display_data"
    },
    {
     "name": "stdout",
     "output_type": "stream",
     "text": [
      "Quartis\n",
      "[-6599.978      0.         9.2551    36.8415  8399.976 ]\n"
     ]
    }
   ],
   "source": [
    "sns.histplot(dataset['Profit'], bins=30,stat=\"density\")\n",
    "plt.show()\n",
    "    \n",
    "print(\"Quartis\")\n",
    "x = np.quantile(dataset['Profit'], [0,0.25,0.5,0.75,1])\n",
    "\n",
    "print(x)\n",
    "#plt.scatter(y_test,predictions)\n",
    "#plt.show()"
   ]
  },
  {
   "cell_type": "code",
   "execution_count": null,
   "id": "31f76952",
   "metadata": {},
   "outputs": [],
   "source": []
  }
 ],
 "metadata": {
  "kernelspec": {
   "display_name": "Python 3 (ipykernel)",
   "language": "python",
   "name": "python3"
  },
  "language_info": {
   "codemirror_mode": {
    "name": "ipython",
    "version": 3
   },
   "file_extension": ".py",
   "mimetype": "text/x-python",
   "name": "python",
   "nbconvert_exporter": "python",
   "pygments_lexer": "ipython3",
   "version": "3.9.12"
  }
 },
 "nbformat": 4,
 "nbformat_minor": 5
}
