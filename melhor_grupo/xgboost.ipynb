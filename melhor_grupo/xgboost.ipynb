{
 "cells": [
  {
   "cell_type": "markdown",
   "id": "a83e7540-8165-425f-abbf-583ddd877bc6",
   "metadata": {},
   "source": [
    "### Imports"
   ]
  },
  {
   "cell_type": "code",
   "execution_count": 1,
   "id": "e1e38320-c91a-4712-8b9c-eddf2614840d",
   "metadata": {},
   "outputs": [],
   "source": [
    "import pandas as pd\n",
    "import numpy as np\n",
    "import matplotlib.pyplot as plt\n",
    "import seaborn as sns\n",
    "import time\n",
    "from sklearn.model_selection import train_test_split\n",
    "from sklearn.impute import SimpleImputer\n",
    "from pandas import DatetimeIndex\n",
    "\n",
    "%matplotlib inline\n",
    "from sklearn.model_selection import train_test_split\n",
    "from sklearn.model_selection import cross_val_score\n",
    "\n",
    "from sklearn.tree import DecisionTreeClassifier\n",
    "from sklearn.tree import DecisionTreeRegressor\n",
    "\n",
    "from sklearn.metrics import confusion_matrix, ConfusionMatrixDisplay\n",
    "from sklearn.metrics import recall_score\n",
    "from sklearn.metrics import accuracy_score\n",
    "from sklearn.metrics import precision_score\n",
    "from sklearn.metrics import roc_curve\n",
    "from sklearn.metrics import f1_score\n",
    "from sklearn.metrics import fbeta_score\n",
    "from sklearn.metrics import mean_absolute_error\n",
    "from sklearn.metrics import mean_squared_error\n",
    "from sklearn import metrics"
   ]
  },
  {
   "cell_type": "markdown",
   "id": "0dbbfb26-9509-4f69-a5c0-a0c1b044c3b2",
   "metadata": {},
   "source": [
    "### Carregamento de Dados"
   ]
  },
  {
   "cell_type": "code",
   "execution_count": 2,
   "id": "13602a54-0bd6-47a0-a721-480d99fd1c92",
   "metadata": {},
   "outputs": [],
   "source": [
    "dataOriginal = pd.read_csv('new_Global_Superstore_With_Outliers.csv', index_col=0, comment='#') \n",
    "df = dataOriginal \n",
    "\n"
   ]
  },
  {
   "cell_type": "markdown",
   "id": "4c284a5d-b90a-4826-9d25-6710efbd0fe2",
   "metadata": {},
   "source": [
    "# Modelação\n",
    "\n",
    "## XGBoost\n",
    "\n",
    "Para utilizarmos XGBoost, temos de converter os dados com \"string\" para numéricos. \n",
    "E removemos colunas que não consideramos importantes."
   ]
  },
  {
   "cell_type": "code",
   "execution_count": 3,
   "id": "51d50e02-e35f-4df5-967b-a32dad87ef5d",
   "metadata": {},
   "outputs": [],
   "source": [
    "import xgboost as xgb\n",
    "from sklearn.model_selection import GridSearchCV\n",
    "\n",
    "\n",
    "dataset = df\n",
    "\n",
    "X = dataset.drop(['Profit'],axis=1)\n",
    "y = dataset['Profit']\n",
    "\n",
    "small_dataset = False\n",
    "if small_dataset: \n",
    "    remove_n = 20000\n",
    "    drop_indices = np.random.choice(dataset.index, remove_n, replace=False)\n",
    "    dataset_subset = dataset.drop(drop_indices)\n",
    "    X = dataset_subset.drop('Profit', axis=1)\n",
    "    y = dataset_subset[['Profit']]\n"
   ]
  },
  {
   "cell_type": "code",
   "execution_count": 4,
   "id": "59ba07f6-2a0a-4710-ae7f-50cc038beff1",
   "metadata": {},
   "outputs": [],
   "source": [
    "\n",
    "\n",
    "RANDOM_SEED = 2021\n",
    "\n",
    "X_train, X_test, y_train, y_test = train_test_split(X, y, test_size=0.2, random_state=RANDOM_SEED)\n",
    "\n"
   ]
  },
  {
   "cell_type": "code",
   "execution_count": 17,
   "id": "cefd5bf9-c2ce-46da-b142-9d9a8bc0b558",
   "metadata": {},
   "outputs": [],
   "source": [
    "def analise_model(model,  graph=True, X_train_this=X_train, X_test_this=X_test, y_train_this=y_train, y_test_this=y_test): \n",
    "    start_time = time.time()\n",
    "    model.fit(X_train_this, y_train_this)\n",
    "    predictions = model.predict(X_test_this)\n",
    "    print(\"time - {}\".format(time.time()-start_time))\n",
    "    #predictions  = predictions.reshape(len(predictions),1 )\n",
    "    # Métricas\n",
    "    if graph:\n",
    "        print(model)\n",
    "        print(\"Mean Absolute Error: \", mean_absolute_error(y_test_this, predictions))\n",
    "        print(\"Mean Squared Error: \", mean_squared_error(y_test_this, predictions, squared=True))\n",
    "    print('RMSE: ', np.sqrt(metrics.mean_squared_error(y_test_this, predictions)))\n",
    "    if graph:\n",
    "        sns.histplot(y_test_this-predictions, bins=10,stat=\"density\")\n",
    "        plt.show()\n",
    "    \n",
    "        sns.displot(y_test_this-predictions)\n",
    "        plt.show() \n",
    "        ax = plt.axes()\n",
    "        ax.plot([-2000, -250, 0, 1500, 3000], [-2000, -250, 0, 1500, 3000], 'r')\n",
    "        plt.scatter(y_test_this,predictions)\n",
    "        plt.show()\n",
    "    return predictions\n",
    "    \n",
    "\n"
   ]
  },
  {
   "cell_type": "code",
   "execution_count": 6,
   "id": "cb807778",
   "metadata": {},
   "outputs": [
    {
     "name": "stdout",
     "output_type": "stream",
     "text": [
      "time - 9.150588750839233\n",
      "XGBRegressor(base_score=0.5, booster='gbtree', callbacks=None,\n",
      "             colsample_bylevel=1, colsample_bynode=1, colsample_bytree=1,\n",
      "             early_stopping_rounds=None, enable_categorical=False,\n",
      "             eval_metric=None, feature_types=None, gamma=0, gpu_id=-1,\n",
      "             grow_policy='depthwise', importance_type=None,\n",
      "             interaction_constraints='', learning_rate=0.300000012, max_bin=256,\n",
      "             max_cat_threshold=64, max_cat_to_onehot=4, max_delta_step=0,\n",
      "             max_depth=6, max_leaves=0, min_child_weight=1, missing=nan,\n",
      "             monotone_constraints='()', n_estimators=100, n_jobs=0,\n",
      "             num_parallel_tree=1, predictor='auto', random_state=0, ...)\n",
      "Mean Absolute Error:  34.74843758316463\n",
      "Mean Squared Error:  8292.353555772377\n",
      "RMSE:  91.06236080715443\n"
     ]
    },
    {
     "data": {
      "image/png": "[encoded data removed]",
      "text/plain": [
       "<Figure size 432x288 with 1 Axes>"
      ]
     },
     "metadata": {
      "needs_background": "light"
     },
     "output_type": "display_data"
    },
    {
     "data": {
      "image/png": "[encoded data removed]",
      "text/plain": [
       "<Figure size 360x360 with 1 Axes>"
      ]
     },
     "metadata": {
      "needs_background": "light"
     },
     "output_type": "display_data"
    },
    {
     "data": {
      "image/png": "[encoded data removed]",
      "text/plain": [
       "<Figure size 432x288 with 1 Axes>"
      ]
     },
     "metadata": {
      "needs_background": "light"
     },
     "output_type": "display_data"
    },
    {
     "data": {
      "text/plain": [
       "array([ 52.198288,  30.603205,   5.322511, ...,  11.517274,  88.53084 ,\n",
       "       -25.332373], dtype=float32)"
      ]
     },
     "execution_count": 6,
     "metadata": {},
     "output_type": "execute_result"
    }
   ],
   "source": [
    "\n",
    "\n",
    "xgbModel = xgb.XGBRegressor()\n",
    "\n",
    "analise_model(xgbModel)\n",
    "\n"
   ]
  },
  {
   "cell_type": "code",
   "execution_count": 7,
   "id": "b4b086c8",
   "metadata": {},
   "outputs": [],
   "source": [
    "\n",
    "def hyper_param(model, params):\n",
    "    print(\"Modelo atual: \" , model)\n",
    "    \n",
    "    # cv = cross-validation generator\n",
    "    # verbose = quanto é apresentado\n",
    "    tuning_model=GridSearchCV(model,param_grid=params,scoring='neg_mean_squared_error',cv=3)\n",
    "    tuning_model.fit(X_train, y_train)\n",
    "    \n",
    "    return tuning_model.best_params_\n",
    "    "
   ]
  },
  {
   "cell_type": "code",
   "execution_count": 12,
   "id": "9231b1a5",
   "metadata": {},
   "outputs": [
    {
     "name": "stdout",
     "output_type": "stream",
     "text": [
      "Modelo atual:  XGBRegressor(base_score=0.5, booster='gbtree', callbacks=None,\n",
      "             colsample_bylevel=1, colsample_bynode=1, colsample_bytree=1,\n",
      "             early_stopping_rounds=None, enable_categorical=False,\n",
      "             eval_metric=None, feature_types=None, gamma=0, gpu_id=-1,\n",
      "             grow_policy='depthwise', importance_type=None,\n",
      "             interaction_constraints='', learning_rate=0.300000012, max_bin=256,\n",
      "             max_cat_threshold=64, max_cat_to_onehot=4, max_delta_step=0,\n",
      "             max_depth=6, max_leaves=0, min_child_weight=1, missing=nan,\n",
      "             monotone_constraints='()', n_estimators=100, n_jobs=0,\n",
      "             num_parallel_tree=1, predictor='auto', random_state=0, ...)\n",
      "Melhores parâmetros:  {'learning_rate': 0.3, 'max_depth': 2, 'n_estimators': 120}\n",
      "XGBRegressor(base_score=None, booster=None, callbacks=None,\n",
      "             colsample_bylevel=None, colsample_bynode=None,\n",
      "             colsample_bytree=None, early_stopping_rounds=None,\n",
      "             enable_categorical=False, eval_metric=None, feature_types=None,\n",
      "             gamma=None, gpu_id=None, grow_policy=None, importance_type=None,\n",
      "             interaction_constraints=None, learning_rate=0.3, max_bin=None,\n",
      "             max_cat_threshold=None, max_cat_to_onehot=None,\n",
      "             max_delta_step=None, max_depth=2, max_leaves=None,\n",
      "             min_child_weight=None, missing=nan, monotone_constraints=None,\n",
      "             n_estimators=120, n_jobs=None, num_parallel_tree=None,\n",
      "             predictor=None, random_state=2021, ...)\n",
      "time - 2.495249032974243\n",
      "XGBRegressor(base_score=0.5, booster='gbtree', callbacks=None,\n",
      "             colsample_bylevel=1, colsample_bynode=1, colsample_bytree=1,\n",
      "             early_stopping_rounds=None, enable_categorical=False,\n",
      "             eval_metric=None, feature_types=None, gamma=0, gpu_id=-1,\n",
      "             grow_policy='depthwise', importance_type=None,\n",
      "             interaction_constraints='', learning_rate=0.3, max_bin=256,\n",
      "             max_cat_threshold=64, max_cat_to_onehot=4, max_delta_step=0,\n",
      "             max_depth=2, max_leaves=0, min_child_weight=1, missing=nan,\n",
      "             monotone_constraints='()', n_estimators=120, n_jobs=0,\n",
      "             num_parallel_tree=1, predictor='auto', random_state=2021, ...)\n",
      "Mean Absolute Error:  38.36170641367251\n",
      "Mean Squared Error:  8607.29942000535\n",
      "RMSE:  92.77553244258613\n"
     ]
    },
    {
     "data": {
      "image/png": "[encoded data removed]",
      "text/plain": [
       "<Figure size 432x288 with 1 Axes>"
      ]
     },
     "metadata": {
      "needs_background": "light"
     },
     "output_type": "display_data"
    },
    {
     "data": {
      "image/png": "[encoded data removed]",
      "text/plain": [
       "<Figure size 360x360 with 1 Axes>"
      ]
     },
     "metadata": {
      "needs_background": "light"
     },
     "output_type": "display_data"
    },
    {
     "data": {
      "image/png": "[encoded data removed]",
      "text/plain": [
       "<Figure size 432x288 with 1 Axes>"
      ]
     },
     "metadata": {
      "needs_background": "light"
     },
     "output_type": "display_data"
    }
   ],
   "source": [
    "parameters = {\n",
    "    'max_depth': [2,4,6],\n",
    "    'n_estimators': [80,100,120],\n",
    "    'learning_rate': [0.01, 0.1, 0.3]\n",
    "}\n",
    "\n",
    "''' Parámetros default, para comparar\n",
    "{\n",
    "'objective': 'reg:squarederror', 'base_score': 0.5, 'booster': 'gbtree', 'callbacks': None, 'colsample_bylevel': 1, \n",
    "'colsample_bynode': 1, 'colsample_bytree': 1, 'early_stopping_rounds': None, 'enable_categorical': False, \n",
    "'eval_metric': None, 'feature_types': None, 'gamma': 0, 'gpu_id': -1, 'grow_policy': 'depthwise', \n",
    "'importance_type': None, 'interaction_constraints': '', \n",
    "'learning_rate': 0.300000012, \n",
    "\n",
    "'max_bin': 256, 'max_cat_threshold': 64, 'max_cat_to_onehot': 4, 'max_delta_step': 0, \n",
    "\n",
    "'max_depth': 6, \n",
    "\n",
    "'max_leaves': 0, 'min_child_weight': 1, 'missing': nan, 'monotone_constraints': '()', \n",
    "\n",
    "'n_estimators': 100, \n",
    "\n",
    "'n_jobs': 0, 'num_parallel_tree': 1, 'predictor': 'auto', 'random_state': 0, 'reg_alpha': 0, 'reg_lambda': 1, \n",
    "'sampling_method': 'uniform', 'scale_pos_weight': 1, 'subsample': 1, 'tree_method': 'exact', 'validate_parameters': 1, \n",
    "'verbosity': None}\n",
    "'''\n",
    "\n",
    "\n",
    "best_param1 = hyper_param(xgbModel, parameters)\n",
    "\n",
    "best_XGB = xgb.XGBRegressor(random_state=RANDOM_SEED)\n",
    "print(\"Melhores parâmetros: \", best_param1)\n",
    "print(best_XGB.set_params(**best_param1))\n",
    "predictions = analise_model(best_XGB)"
   ]
  },
  {
   "cell_type": "markdown",
   "id": "2af80361",
   "metadata": {},
   "source": [
    "# Importância das features\n",
    "\n"
   ]
  },
  {
   "cell_type": "code",
   "execution_count": 13,
   "id": "d02eb1b9",
   "metadata": {},
   "outputs": [
    {
     "name": "stdout",
     "output_type": "stream",
     "text": [
      "Analise num cols:  5\n",
      "time - 39.74572563171387\n",
      "RMSE:  92.40419263616876\n",
      "Analise num cols:  6\n",
      "time - 34.076416015625\n",
      "RMSE:  93.41466702021424\n",
      "Analise num cols:  7\n",
      "time - 30.27528166770935\n",
      "RMSE:  92.47878957537846\n",
      "Analise num cols:  8\n",
      "time - 21.40565299987793\n",
      "RMSE:  92.21426737297526\n",
      "Analise num cols:  9\n",
      "time - 20.13286852836609\n",
      "RMSE:  91.97666600086227\n",
      "Analise num cols:  10\n",
      "time - 18.935193061828613\n",
      "RMSE:  91.20913979741609\n",
      "Analise num cols:  11\n",
      "time - 17.24923038482666\n",
      "RMSE:  92.29991596349832\n",
      "Analise num cols:  12\n",
      "time - 15.655853509902954\n",
      "RMSE:  93.15953300583615\n",
      "Analise num cols:  13\n",
      "time - 15.527931213378906\n",
      "RMSE:  93.30195026806354\n",
      "Analise num cols:  14\n",
      "time - 13.045831680297852\n",
      "RMSE:  92.77553244258613\n",
      "Analise num cols:  15\n",
      "time - 12.82042384147644\n",
      "RMSE:  92.77553244258613\n",
      "Analise num cols:  16\n",
      "time - 11.537693500518799\n",
      "RMSE:  92.77553244258613\n",
      "Analise num cols:  17\n",
      "time - 9.683753728866577\n",
      "RMSE:  92.77553244258613\n",
      "Analise num cols:  18\n",
      "time - 8.808676719665527\n",
      "RMSE:  92.77553244258613\n",
      "Analise num cols:  19\n",
      "time - 7.18813419342041\n",
      "RMSE:  92.77553244258613\n",
      "Analise num cols:  20\n",
      "time - 5.877163648605347\n",
      "RMSE:  92.77553244258613\n",
      "Analise num cols:  21\n",
      "time - 4.082109212875366\n",
      "RMSE:  92.77553244258613\n",
      "Analise num cols:  22\n",
      "time - 2.9105966091156006\n",
      "RMSE:  92.77553244258613\n"
     ]
    }
   ],
   "source": [
    "from sklearn.feature_selection import RFE\n",
    "\n",
    "for num_cols in range(5,23):\n",
    "    print(\"Analise num cols: \" , num_cols)\n",
    "    rfe = RFE(best_XGB, n_features_to_select=num_cols)\n",
    "    analise_model(rfe, False)\n",
    "\n",
    "best_num_cols = 20\n"
   ]
  },
  {
   "cell_type": "code",
   "execution_count": 14,
   "id": "612146ae",
   "metadata": {},
   "outputs": [
    {
     "name": "stdout",
     "output_type": "stream",
     "text": [
      "time - 19.5446035861969\n",
      "RMSE:  91.97666600086227\n",
      "1 Segment\n",
      "1 City\n",
      "1 State\n",
      "1 Sub-Category\n",
      "1 Sales\n",
      "1 Quantity\n",
      "1 Discount\n",
      "1 order_month\n",
      "1 ship_day\n",
      "2 Country\n",
      "3 pib_country\n",
      "4 Shipping Cost\n",
      "5 Category\n",
      "6 order_day\n",
      "7 Region\n",
      "8 Ship Mode\n",
      "9 discount_bracket\n",
      "10 Order Priority\n",
      "11 order_year\n",
      "12 ship_year\n",
      "13 ship_month\n",
      "14 ship_mode_binned\n",
      "15 Market_binned\n"
     ]
    }
   ],
   "source": [
    "from operator import itemgetter\n",
    "\n",
    "\n",
    "best_num_cols = 9\n",
    "\n",
    "rfe = RFE(best_XGB, n_features_to_select=best_num_cols)\n",
    "analise_model(rfe, False)\n",
    "\n",
    "features = X_train.columns.to_list()\n",
    "for x, y in (sorted(zip(rfe.ranking_ , features), key=itemgetter(0))):\n",
    "    print(x, y)"
   ]
  },
  {
   "cell_type": "code",
   "execution_count": 15,
   "id": "80b2279b",
   "metadata": {},
   "outputs": [
    {
     "data": {
      "image/png": "[encoded data removed]",
      "text/plain": [
       "<Figure size 432x288 with 1 Axes>"
      ]
     },
     "metadata": {
      "needs_background": "light"
     },
     "output_type": "display_data"
    },
    {
     "name": "stdout",
     "output_type": "stream",
     "text": [
      "Quartis\n",
      "[-6599.978      0.         9.2551    36.8415  8399.976 ]\n"
     ]
    }
   ],
   "source": [
    "sns.histplot(dataset['Profit'], bins=30,stat=\"density\")\n",
    "plt.show()\n",
    "    \n",
    "print(\"Quartis\")\n",
    "x = np.quantile(dataset['Profit'], [0,0.25,0.5,0.75,1])\n",
    "\n",
    "print(x)\n",
    "#plt.scatter(y_test,predictions)\n",
    "#plt.show()"
   ]
  },
  {
   "cell_type": "markdown",
   "id": "4f382c1d",
   "metadata": {},
   "source": [
    "# Análise sem outliers"
   ]
  },
  {
   "cell_type": "code",
   "execution_count": 22,
   "id": "ceb41d7d",
   "metadata": {},
   "outputs": [
    {
     "name": "stdout",
     "output_type": "stream",
     "text": [
      "time - 0.8868551254272461\n",
      "XGBRegressor(base_score=0.5, booster='gbtree', callbacks=None,\n",
      "             colsample_bylevel=1, colsample_bynode=1, colsample_bytree=1,\n",
      "             early_stopping_rounds=None, enable_categorical=False,\n",
      "             eval_metric=None, feature_types=None, gamma=0, gpu_id=-1,\n",
      "             grow_policy='depthwise', importance_type=None,\n",
      "             interaction_constraints='', learning_rate=0.3, max_bin=256,\n",
      "             max_cat_threshold=64, max_cat_to_onehot=4, max_delta_step=0,\n",
      "             max_depth=2, max_leaves=0, min_child_weight=1, missing=nan,\n",
      "             monotone_constraints='()', n_estimators=120, n_jobs=0,\n",
      "             num_parallel_tree=1, predictor='auto', random_state=2021, ...)\n",
      "Mean Absolute Error:  13.25666005674608\n",
      "Mean Squared Error:  527.8611840138554\n",
      "RMSE:  22.975229792405894\n"
     ]
    },
    {
     "data": {
      "image/png": "[encoded data removed]",
      "text/plain": [
       "<Figure size 432x288 with 1 Axes>"
      ]
     },
     "metadata": {
      "needs_background": "light"
     },
     "output_type": "display_data"
    },
    {
     "data": {
      "image/png": "[encoded data removed]",
      "text/plain": [
       "<Figure size 360x360 with 1 Axes>"
      ]
     },
     "metadata": {
      "needs_background": "light"
     },
     "output_type": "display_data"
    },
    {
     "data": {
      "image/png": "[encoded data removed]",
      "text/plain": [
       "<Figure size 432x288 with 1 Axes>"
      ]
     },
     "metadata": {
      "needs_background": "light"
     },
     "output_type": "display_data"
    }
   ],
   "source": [
    "dataNoOutliers = pd.read_csv('new_Global_Superstore_Without_Outliers.csv', index_col=0, comment='#') \n",
    "df = dataNoOutliers \n",
    "\n",
    "\n",
    "X_no_outliers = df.drop(['Profit'],axis=1)\n",
    "y_no_outliers = df['Profit']\n",
    "\n",
    "\n",
    "X_train, X_test, y_train, y_test = train_test_split(X_no_outliers, y_no_outliers, test_size=0.2, random_state=RANDOM_SEED)\n",
    "#def analise_model(model,  graph=True, X_train_this=X_train, X_test_this=X_test, y_train_this=y_train, y_test_this=y_test): \n",
    "\n",
    "predictions = analise_model(best_XGB, True, X_train, X_test, y_train, y_test)"
   ]
  },
  {
   "cell_type": "code",
   "execution_count": 24,
   "id": "f1a6e885",
   "metadata": {},
   "outputs": [
    {
     "data": {
      "image/png": "[encoded data removed]",
      "text/plain": [
       "<Figure size 432x288 with 1 Axes>"
      ]
     },
     "metadata": {
      "needs_background": "light"
     },
     "output_type": "display_data"
    },
    {
     "name": "stdout",
     "output_type": "stream",
     "text": [
      "Quartis\n",
      "[-1.218384e+03 -4.882500e-01  6.360000e+00  1.987200e+01  2.131200e+02]\n"
     ]
    }
   ],
   "source": [
    "sns.histplot(dataNoOutliers['Profit'], bins=30,stat=\"density\")\n",
    "plt.show()\n",
    "    \n",
    "print(\"Quartis\")\n",
    "x = np.quantile(dataNoOutliers['Profit'], [0,0.25,0.5,0.75,1])\n",
    "\n",
    "print(x)"
   ]
  },
  {
   "cell_type": "code",
   "execution_count": null,
   "id": "4d1226e7",
   "metadata": {},
   "outputs": [],
   "source": []
  }
 ],
 "metadata": {
  "kernelspec": {
   "display_name": "Python 3 (ipykernel)",
   "language": "python",
   "name": "python3"
  },
  "language_info": {
   "codemirror_mode": {
    "name": "ipython",
    "version": 3
   },
   "file_extension": ".py",
   "mimetype": "text/x-python",
   "name": "python",
   "nbconvert_exporter": "python",
   "pygments_lexer": "ipython3",
   "version": "3.9.12"
  }
 },
 "nbformat": 4,
 "nbformat_minor": 5
}
