{
 "cells": [
  {
   "cell_type": "markdown",
   "id": "a83e7540-8165-425f-abbf-583ddd877bc6",
   "metadata": {},
   "source": [
    "### Imports"
   ]
  },
  {
   "cell_type": "code",
   "execution_count": 7,
   "id": "e1e38320-c91a-4712-8b9c-eddf2614840d",
   "metadata": {},
   "outputs": [],
   "source": [
    "import pandas as pd\n",
    "import numpy as np\n",
    "import matplotlib.pyplot as plt\n",
    "import seaborn as sns\n",
    "import time\n",
    "from sklearn.model_selection import train_test_split\n",
    "from sklearn.impute import SimpleImputer\n",
    "from pandas import DatetimeIndex\n",
    "\n",
    "%matplotlib inline\n",
    "from sklearn.model_selection import train_test_split\n",
    "from sklearn.model_selection import cross_val_score\n",
    "\n",
    "from sklearn.tree import DecisionTreeClassifier\n",
    "from sklearn.tree import DecisionTreeRegressor\n",
    "\n",
    "from sklearn.metrics import confusion_matrix, ConfusionMatrixDisplay\n",
    "from sklearn.metrics import recall_score\n",
    "from sklearn.metrics import accuracy_score\n",
    "from sklearn.metrics import precision_score\n",
    "from sklearn.metrics import roc_curve\n",
    "from sklearn.metrics import f1_score\n",
    "from sklearn.metrics import fbeta_score\n",
    "from sklearn.metrics import mean_absolute_error\n",
    "from sklearn.metrics import mean_squared_error\n",
    "from sklearn import metrics"
   ]
  },
  {
   "cell_type": "markdown",
   "id": "0dbbfb26-9509-4f69-a5c0-a0c1b044c3b2",
   "metadata": {},
   "source": [
    "### Carregamento de Dados"
   ]
  },
  {
   "cell_type": "code",
   "execution_count": 8,
   "id": "13602a54-0bd6-47a0-a721-480d99fd1c92",
   "metadata": {},
   "outputs": [],
   "source": [
    "dataOriginal = pd.read_csv('new_Global_Superstore2.csv', index_col=0, comment='#') \n",
    "df = dataOriginal \n",
    "\n"
   ]
  },
  {
   "cell_type": "markdown",
   "id": "4c284a5d-b90a-4826-9d25-6710efbd0fe2",
   "metadata": {},
   "source": [
    "# Modelação\n",
    "\n",
    "## XGBoost\n",
    "\n",
    "Para utilizarmos XGBoost, temos de converter os dados com \"string\" para numéricos. \n",
    "E removemos colunas que não consideramos importantes."
   ]
  },
  {
   "cell_type": "code",
   "execution_count": 9,
   "id": "51d50e02-e35f-4df5-967b-a32dad87ef5d",
   "metadata": {},
   "outputs": [],
   "source": [
    "import xgboost as xgb\n",
    "from sklearn.model_selection import GridSearchCV\n",
    "\n",
    "\n",
    "dataset = df\n",
    "\n",
    "X = dataset.drop(['Profit'],axis=1)\n",
    "y = dataset['Profit']\n",
    "\n",
    "small_dataset = False\n",
    "if small_dataset: \n",
    "    remove_n = 20000\n",
    "    drop_indices = np.random.choice(dataset.index, remove_n, replace=False)\n",
    "    dataset_subset = dataset.drop(drop_indices)\n",
    "    X = dataset_subset.drop('Profit', axis=1)\n",
    "    y = dataset_subset[['Profit']]\n"
   ]
  },
  {
   "cell_type": "code",
   "execution_count": 10,
   "id": "59ba07f6-2a0a-4710-ae7f-50cc038beff1",
   "metadata": {},
   "outputs": [
    {
     "name": "stdout",
     "output_type": "stream",
     "text": [
      "        Ship Mode  Segment  City  State  Country  Market  Region  Quantity  \\\n",
      "Row ID                                                                       \n",
      "32298           0        0     1      5       23       6       5       7.0   \n",
      "26341           2        1     2      4        0       0       8       9.0   \n",
      "25330           1        0     2      9        0       0       8       9.0   \n",
      "13524           1        2     2      7        7       4       2       5.0   \n",
      "47221           0        0     2      7       18       1       0       8.0   \n",
      "...           ...      ...   ...    ...      ...     ...     ...       ...   \n",
      "24175           3        2     2      9        0       0       8       5.0   \n",
      "29002           0        1     2      7       18       0       7       5.0   \n",
      "35398           3        0     2     11       23       6       2       1.0   \n",
      "9596            3        2     2      7        1       5      10       2.0   \n",
      "6147            2        0     2      7       16       5       2       3.0   \n",
      "\n",
      "        Shipping_Cost  Order_Priority  ...  Month_order  Month_ship  \\\n",
      "Row ID                                 ...                            \n",
      "32298          933.57               1  ...            7           7   \n",
      "26341          923.63               1  ...            2           2   \n",
      "25330          915.49               3  ...           10          10   \n",
      "13524          910.16               3  ...            1           1   \n",
      "47221          903.04               1  ...           11          11   \n",
      "...               ...             ...  ...          ...         ...   \n",
      "24175            0.01               3  ...            8           8   \n",
      "29002            0.01               3  ...            6           6   \n",
      "35398            0.01               3  ...            6           6   \n",
      "9596             0.00               3  ...            2           2   \n",
      "6147             0.00               2  ...            5           5   \n",
      "\n",
      "        Day_order  Day_ship   pib_country  Category LabelEnc  \\\n",
      "Row ID                                                         \n",
      "32298          31        31  1.619700e+13                  2   \n",
      "26341           5         7  1.576340e+12                  0   \n",
      "25330          17        18  1.576340e+12                  2   \n",
      "13524          28        30  3.732740e+12                  2   \n",
      "47221           5         6  8.747774e+09                  2   \n",
      "...           ...       ...           ...                ...   \n",
      "24175           5        10  1.467500e+12                  1   \n",
      "29002          19        19  9.297231e+09                  1   \n",
      "35398          20        24  1.752720e+13                  1   \n",
      "9596           18        22  2.465230e+12                  1   \n",
      "6147           22        26  1.053201e+10                  1   \n",
      "\n",
      "        Sub-Category LabelEnc  Discount LabelEnc  Ship_mode_binned  \\\n",
      "Row ID                                                               \n",
      "32298                       0                  0               1.0   \n",
      "26341                       5                  0               1.0   \n",
      "25330                      13                  0               1.0   \n",
      "13524                      13                  0               1.0   \n",
      "47221                       6                  0               1.0   \n",
      "...                       ...                ...               ...   \n",
      "24175                       3                  0               0.0   \n",
      "29002                       8                  0               1.0   \n",
      "35398                       1                  4               0.0   \n",
      "9596                        3                  0               0.0   \n",
      "6147                       12                  0               1.0   \n",
      "\n",
      "        Market_binned  \n",
      "Row ID                 \n",
      "32298               2  \n",
      "26341               0  \n",
      "25330               0  \n",
      "13524               4  \n",
      "47221               1  \n",
      "...               ...  \n",
      "24175               0  \n",
      "29002               0  \n",
      "35398               2  \n",
      "9596                5  \n",
      "6147                5  \n",
      "\n",
      "[51200 rows x 22 columns]\n",
      "        Ship Mode  Segment  City  State  Country  Market  Region  Quantity  \\\n",
      "Row ID                                                                       \n",
      "32298           0        0     1      5       23       6       5       7.0   \n",
      "26341           2        1     2      4        0       0       8       9.0   \n",
      "25330           1        0     2      9        0       0       8       9.0   \n",
      "13524           1        2     2      7        7       4       2       5.0   \n",
      "47221           0        0     2      7       18       1       0       8.0   \n",
      "...           ...      ...   ...    ...      ...     ...     ...       ...   \n",
      "24175           3        2     2      9        0       0       8       5.0   \n",
      "29002           0        1     2      7       18       0       7       5.0   \n",
      "35398           3        0     2     11       23       6       2       1.0   \n",
      "9596            3        2     2      7        1       5      10       2.0   \n",
      "6147            2        0     2      7       16       5       2       3.0   \n",
      "\n",
      "        Shipping_Cost  Order_Priority  ...  Month_order  Month_ship  \\\n",
      "Row ID                                 ...                            \n",
      "32298          933.57               1  ...            7           7   \n",
      "26341          923.63               1  ...            2           2   \n",
      "25330          915.49               3  ...           10          10   \n",
      "13524          910.16               3  ...            1           1   \n",
      "47221          903.04               1  ...           11          11   \n",
      "...               ...             ...  ...          ...         ...   \n",
      "24175            0.01               3  ...            8           8   \n",
      "29002            0.01               3  ...            6           6   \n",
      "35398            0.01               3  ...            6           6   \n",
      "9596             0.00               3  ...            2           2   \n",
      "6147             0.00               2  ...            5           5   \n",
      "\n",
      "        Day_order  Day_ship   pib_country  Category LabelEnc  \\\n",
      "Row ID                                                         \n",
      "32298          31        31  1.619700e+13                  2   \n",
      "26341           5         7  1.576340e+12                  0   \n",
      "25330          17        18  1.576340e+12                  2   \n",
      "13524          28        30  3.732740e+12                  2   \n",
      "47221           5         6  8.747774e+09                  2   \n",
      "...           ...       ...           ...                ...   \n",
      "24175           5        10  1.467500e+12                  1   \n",
      "29002          19        19  9.297231e+09                  1   \n",
      "35398          20        24  1.752720e+13                  1   \n",
      "9596           18        22  2.465230e+12                  1   \n",
      "6147           22        26  1.053201e+10                  1   \n",
      "\n",
      "        Sub-Category LabelEnc  Discount LabelEnc  Ship_mode_binned  \\\n",
      "Row ID                                                               \n",
      "32298                       0                  0               1.0   \n",
      "26341                       5                  0               1.0   \n",
      "25330                      13                  0               1.0   \n",
      "13524                      13                  0               1.0   \n",
      "47221                       6                  0               1.0   \n",
      "...                       ...                ...               ...   \n",
      "24175                       3                  0               0.0   \n",
      "29002                       8                  0               1.0   \n",
      "35398                       1                  4               0.0   \n",
      "9596                        3                  0               0.0   \n",
      "6147                       12                  0               1.0   \n",
      "\n",
      "        Market_binned  \n",
      "Row ID                 \n",
      "32298               2  \n",
      "26341               0  \n",
      "25330               0  \n",
      "13524               4  \n",
      "47221               1  \n",
      "...               ...  \n",
      "24175               0  \n",
      "29002               0  \n",
      "35398               2  \n",
      "9596                5  \n",
      "6147                5  \n",
      "\n",
      "[51200 rows x 22 columns]\n"
     ]
    }
   ],
   "source": [
    "\n",
    "\n",
    "RANDOM_SEED = 2021\n",
    "print(X)\n",
    "X_train, X_test, y_train, y_test = train_test_split(X, y, test_size=0.2, random_state=RANDOM_SEED)\n",
    "\n"
   ]
  },
  {
   "cell_type": "code",
   "execution_count": 18,
   "id": "cefd5bf9-c2ce-46da-b142-9d9a8bc0b558",
   "metadata": {},
   "outputs": [],
   "source": [
    "def analise_model(model): \n",
    "   \n",
    "    model.fit(X_train, y_train)\n",
    "    predictions = model.predict(X_test)\n",
    "    \n",
    "    #predictions  = predictions.reshape(len(predictions),1 )\n",
    "    # Métricas\n",
    "    print(model)\n",
    "   # print(model.get_params())\n",
    "    print(\"Mean Absolute Error: \", mean_absolute_error(y_test, predictions))\n",
    "    print(\"Mean Squared Error: \", mean_squared_error(y_test, predictions, squared=True))\n",
    "    print('RMSE: ', np.sqrt(metrics.mean_squared_error(y_test, predictions)))\n",
    "    sns.histplot(y_test-predictions, bins=10,stat=\"density\")\n",
    "    plt.show()\n",
    "    \n",
    "    sns.displot(y_test-predictions)\n",
    "    plt.show() \n",
    "    ax = plt.axes()\n",
    "    ax.plot([-2000, -250, 0, 1500, 3000], [-2000, -250, 0, 1500, 3000], 'r')\n",
    "    plt.scatter(y_test,predictions)\n",
    "    plt.show()\n",
    "    return predictions\n",
    "    \n",
    "\n",
    "\n",
    "# Estudar o de baixo\n",
    "#print(metrics.r2_score(y_test,predictions ))\n",
    "#df.info()"
   ]
  },
  {
   "cell_type": "code",
   "execution_count": 19,
   "id": "0e4069d6",
   "metadata": {},
   "outputs": [
    {
     "name": "stdout",
     "output_type": "stream",
     "text": [
      "XGBRegressor(base_score=0.5, booster='gbtree', callbacks=None,\n",
      "             colsample_bylevel=1, colsample_bynode=1, colsample_bytree=1,\n",
      "             early_stopping_rounds=None, enable_categorical=False,\n",
      "             eval_metric=None, feature_types=None, gamma=0, gpu_id=-1,\n",
      "             grow_policy='depthwise', importance_type=None,\n",
      "             interaction_constraints='', learning_rate=0.300000012, max_bin=256,\n",
      "             max_cat_threshold=64, max_cat_to_onehot=4, max_delta_step=0,\n",
      "             max_depth=6, max_leaves=0, min_child_weight=1, missing=nan,\n",
      "             monotone_constraints='()', n_estimators=100, n_jobs=0,\n",
      "             num_parallel_tree=1, predictor='auto', random_state=0, ...)\n",
      "Mean Absolute Error:  42.83081649417965\n",
      "Mean Squared Error:  14089.373410055112\n",
      "RMSE:  118.69866642071052\n",
      "XGBRegressor(base_score=0.5, booster='gbtree', callbacks=None,\n",
      "             colsample_bylevel=1, colsample_bynode=1, colsample_bytree=1,\n",
      "             early_stopping_rounds=None, enable_categorical=False,\n",
      "             eval_metric=None, feature_types=None, gamma=0, gpu_id=-1,\n",
      "             grow_policy='depthwise', importance_type=None,\n",
      "             interaction_constraints='', learning_rate=0.300000012, max_bin=256,\n",
      "             max_cat_threshold=64, max_cat_to_onehot=4, max_delta_step=0,\n",
      "             max_depth=6, max_leaves=0, min_child_weight=1, missing=nan,\n",
      "             monotone_constraints='()', n_estimators=100, n_jobs=0,\n",
      "             num_parallel_tree=1, predictor='auto', random_state=0, ...)\n",
      "Mean Absolute Error:  42.83081649417965\n",
      "Mean Squared Error:  14089.373410055112\n",
      "RMSE:  118.69866642071052\n"
     ]
    },
    {
     "data": {
      "image/png": "[encoded data removed]",
      "text/plain": [
       "<Figure size 432x288 with 1 Axes>"
      ]
     },
     "metadata": {
      "needs_background": "light"
     },
     "output_type": "display_data"
    },
    {
     "data": {
      "image/png": "[encoded data removed]",
      "text/plain": [
       "<Figure size 432x288 with 1 Axes>"
      ]
     },
     "metadata": {
      "needs_background": "light"
     },
     "output_type": "display_data"
    },
    {
     "data": {
      "image/png": "[encoded data removed]",
      "text/plain": [
       "<Figure size 360x360 with 1 Axes>"
      ]
     },
     "metadata": {
      "needs_background": "light"
     },
     "output_type": "display_data"
    },
    {
     "data": {
      "image/png": "[encoded data removed]",
      "text/plain": [
       "<Figure size 360x360 with 1 Axes>"
      ]
     },
     "metadata": {
      "needs_background": "light"
     },
     "output_type": "display_data"
    },
    {
     "data": {
      "image/png": "[encoded data removed]",
      "text/plain": [
       "<Figure size 432x288 with 1 Axes>"
      ]
     },
     "metadata": {
      "needs_background": "light"
     },
     "output_type": "display_data"
    },
    {
     "data": {
      "text/plain": [
       "array([ 84.36166  ,  26.429207 ,   2.7511342, ...,  15.367623 ,\n",
       "        74.32802  , -20.813145 ], dtype=float32)"
      ]
     },
     "execution_count": 19,
     "metadata": {},
     "output_type": "execute_result"
    },
    {
     "data": {
      "image/png": "[encoded data removed]",
      "text/plain": [
       "<Figure size 432x288 with 1 Axes>"
      ]
     },
     "metadata": {
      "needs_background": "light"
     },
     "output_type": "display_data"
    },
    {
     "data": {
      "text/plain": [
       "array([ 84.36166  ,  26.429207 ,   2.7511342, ...,  15.367623 ,\n",
       "        74.32802  , -20.813145 ], dtype=float32)"
      ]
     },
     "execution_count": 19,
     "metadata": {},
     "output_type": "execute_result"
    }
   ],
   "source": [
    "\n",
    "xgbModel = xgb.XGBRegressor()\n",
    "\n",
    "analise_model(xgbModel)\n",
    "\n"
   ]
  },
  {
   "cell_type": "code",
   "execution_count": 20,
   "id": "b4b086c8",
   "metadata": {},
   "outputs": [],
   "source": [
    "# Veio daqui:\n",
    "# https://www.nbshare.io/notebook/312837011/Decision-Tree-Regression-With-Hyper-Parameter-Tuning-In-Python/\n",
    "\n",
    "\n",
    "def hyper_param(model, params):\n",
    "    print(\"Modelo atual: \" , model)\n",
    "    \n",
    "    # cv = cross-validation generator\n",
    "    # verbose = quanto é apresentado\n",
    "    tuning_model=GridSearchCV(model,param_grid=params,scoring='neg_mean_squared_error',cv=3)\n",
    "    tuning_model.fit(X_train, y_train)\n",
    "    \n",
    "    return tuning_model.best_params_\n",
    "    "
   ]
  },
  {
   "cell_type": "code",
   "execution_count": 21,
   "id": "634b1c28",
   "metadata": {},
   "outputs": [],
   "source": [
    "\n",
    "\n",
    "def analise_worst_errors(predictions): \n",
    "   \n",
    "    predictions  = predictions.reshape(len(predictions),1 )\n",
    "\n",
    "    \n",
    " \n",
    "    # Métricas\n",
    "    print(\"Piores casos\")\n",
    "   \n",
    "    only_bigger_than = mean_absolute_error(y_test, predictions)\n",
    "    df = y_test-predictions\n",
    "  \n",
    "\n",
    "    df = df[df[\"Profit\"] > only_bigger_than]\n",
    "    sns.histplot(df, bins=10,stat=\"density\")\n",
    "    plt.show()\n",
    "    \n",
    "    sns.displot(df)\n",
    "    plt.show() \n",
    "\n",
    "  \n",
    "    \n"
   ]
  },
  {
   "cell_type": "code",
   "execution_count": null,
   "id": "29c25049",
   "metadata": {},
   "outputs": [],
   "source": [
    "parameters = {\n",
    "    'max_depth': range (2, 10, 2),\n",
    "    'n_estimators': range(60, 220, 40),\n",
    "    'learning_rate': [0.01, 0.1, 0.3]\n",
    "}\n",
    "\n",
    "''' Parámetros default, para comparar\n",
    "{\n",
    "'objective': 'reg:squarederror', 'base_score': 0.5, 'booster': 'gbtree', 'callbacks': None, 'colsample_bylevel': 1, \n",
    "'colsample_bynode': 1, 'colsample_bytree': 1, 'early_stopping_rounds': None, 'enable_categorical': False, \n",
    "'eval_metric': None, 'feature_types': None, 'gamma': 0, 'gpu_id': -1, 'grow_policy': 'depthwise', \n",
    "'importance_type': None, 'interaction_constraints': '', \n",
    "'learning_rate': 0.300000012, \n",
    "\n",
    "'max_bin': 256, 'max_cat_threshold': 64, 'max_cat_to_onehot': 4, 'max_delta_step': 0, \n",
    "\n",
    "'max_depth': 6, \n",
    "\n",
    "'max_leaves': 0, 'min_child_weight': 1, 'missing': nan, 'monotone_constraints': '()', \n",
    "\n",
    "'n_estimators': 100, \n",
    "\n",
    "'n_jobs': 0, 'num_parallel_tree': 1, 'predictor': 'auto', 'random_state': 0, 'reg_alpha': 0, 'reg_lambda': 1, \n",
    "'sampling_method': 'uniform', 'scale_pos_weight': 1, 'subsample': 1, 'tree_method': 'exact', 'validate_parameters': 1, \n",
    "'verbosity': None}\n",
    "'''\n",
    "\n",
    "\n",
    "best_param1 = hyper_param(xgbModel, parameters)\n",
    "\n",
    "best_XGB = xgb.XGBRegressor(random_state=RANDOM_SEED)\n",
    "print(\"Melhores parâmetros: \", best_param1)\n",
    "print(best_XGB.set_params(**best_param1))\n",
    "predictions = analise_model(best_XGB)\n",
    "\n",
    "analise_worst_errors(predictions)"
   ]
  },
  {
   "cell_type": "markdown",
   "id": "2af80361",
   "metadata": {},
   "source": [
    "# Análise da coluna objetivo"
   ]
  },
  {
   "cell_type": "code",
   "execution_count": null,
   "id": "80b2279b",
   "metadata": {},
   "outputs": [],
   "source": [
    "sns.histplot(dataset['Profit'], bins=30,stat=\"density\")\n",
    "plt.show()\n",
    "    \n",
    "sns.displot(dataset['Profit'])\n",
    "plt.show() \n",
    "\n",
    "\n",
    "x = np.quantile(dataset['Profit'], [0,0.25,0.5,0.75,1])\n",
    "\n",
    "print(x)\n",
    "#plt.scatter(y_test,predictions)\n",
    "#plt.show()"
   ]
  },
  {
   "cell_type": "markdown",
   "id": "657eb17a",
   "metadata": {},
   "source": [
    "### Comentários aos resultados\n",
    "\n",
    "A versão inicial, sem ajuste dos hiperparêmtros, não apresenta muitos erros, mas a versão após já ajustada consegue melhorar mais os resultados. Pelos gráficos podemos analisar quais as melhores versões.\n",
    "Para além disso, o RandomForestRegressor continua a ser o melhor modelo, com uma diferença de ~~11376 - 10350 =~~ 1026.\n",
    "\n",
    "Como a maior parte do lucro está concentrada entre 0 e 36 unidades monetárias, a média de erro pode ser considerada bastante má, porque tem o valor de 36. No entanto, tendo em conta a variação total do target, consideramos que o valor é bastante aceitável, porque \n",
    "\n",
    "Estou a avaliar com coisas incorretas, não está o dataset todo\n"
   ]
  },
  {
   "cell_type": "code",
   "execution_count": null,
   "id": "31f76952",
   "metadata": {},
   "outputs": [],
   "source": []
  }
 ],
 "metadata": {
  "kernelspec": {
   "display_name": "Python 3 (ipykernel)",
   "language": "python",
   "name": "python3"
  },
  "language_info": {
   "codemirror_mode": {
    "name": "ipython",
    "version": 3
   },
   "file_extension": ".py",
   "mimetype": "text/x-python",
   "name": "python",
   "nbconvert_exporter": "python",
   "pygments_lexer": "ipython3",
   "version": "3.9.12"
  }
 },
 "nbformat": 4,
 "nbformat_minor": 5
}
