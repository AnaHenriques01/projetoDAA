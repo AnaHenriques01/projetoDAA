{
 "cells": [
  {
   "cell_type": "markdown",
   "id": "2bb2fd19-c6ee-4936-9f62-c752b2ac173d",
   "metadata": {},
   "source": [
    "### Imports"
   ]
  },
  {
   "cell_type": "code",
   "execution_count": 1,
   "id": "175385a9-d329-44ad-8251-54453052f8d5",
   "metadata": {},
   "outputs": [],
   "source": [
    "import pandas as pd\n",
    "import numpy as np\n",
    "import matplotlib.pyplot as plt\n",
    "import seaborn as sns\n",
    "import time\n",
    "from sklearn.model_selection import train_test_split\n",
    "from sklearn.impute import SimpleImputer\n",
    "from pandas import DatetimeIndex\n",
    "\n",
    "%matplotlib inline"
   ]
  },
  {
   "cell_type": "markdown",
   "id": "e5fd4891-555e-4edd-9168-eafd6d1b678d",
   "metadata": {},
   "source": [
    "### Carregamento de dados"
   ]
  },
  {
   "cell_type": "code",
   "execution_count": 2,
   "id": "144b51a4-212c-4ee3-8d0d-cf1f8f2cf0a7",
   "metadata": {},
   "outputs": [],
   "source": [
    "dataOriginal = pd.read_excel('Global_Superstore2.xlsx', index_col=0, comment='#') \n",
    "df = dataOriginal"
   ]
  },
  {
   "cell_type": "markdown",
   "id": "c40952c5-e4ec-4570-b8df-917ca8d7f748",
   "metadata": {},
   "source": [
    "### Exploração dos dados"
   ]
  },
  {
   "cell_type": "code",
   "execution_count": 3,
   "id": "101534b2-b4dd-4f9b-957f-a805deac4f0d",
   "metadata": {},
   "outputs": [
    {
     "data": {
      "text/html": [
       "<div>\n",
       "<style scoped>\n",
       "    .dataframe tbody tr th:only-of-type {\n",
       "        vertical-align: middle;\n",
       "    }\n",
       "\n",
       "    .dataframe tbody tr th {\n",
       "        vertical-align: top;\n",
       "    }\n",
       "\n",
       "    .dataframe thead th {\n",
       "        text-align: right;\n",
       "    }\n",
       "</style>\n",
       "<table border=\"1\" class=\"dataframe\">\n",
       "  <thead>\n",
       "    <tr style=\"text-align: right;\">\n",
       "      <th></th>\n",
       "      <th>Order ID</th>\n",
       "      <th>Order Date</th>\n",
       "      <th>Ship Date</th>\n",
       "      <th>Ship Mode</th>\n",
       "      <th>Customer ID</th>\n",
       "      <th>Customer Name</th>\n",
       "      <th>Segment</th>\n",
       "      <th>City</th>\n",
       "      <th>State</th>\n",
       "      <th>Country</th>\n",
       "      <th>...</th>\n",
       "      <th>Product ID</th>\n",
       "      <th>Category</th>\n",
       "      <th>Sub-Category</th>\n",
       "      <th>Product Name</th>\n",
       "      <th>Sales</th>\n",
       "      <th>Quantity</th>\n",
       "      <th>Discount</th>\n",
       "      <th>Profit</th>\n",
       "      <th>Shipping Cost</th>\n",
       "      <th>Order Priority</th>\n",
       "    </tr>\n",
       "    <tr>\n",
       "      <th>Row ID</th>\n",
       "      <th></th>\n",
       "      <th></th>\n",
       "      <th></th>\n",
       "      <th></th>\n",
       "      <th></th>\n",
       "      <th></th>\n",
       "      <th></th>\n",
       "      <th></th>\n",
       "      <th></th>\n",
       "      <th></th>\n",
       "      <th></th>\n",
       "      <th></th>\n",
       "      <th></th>\n",
       "      <th></th>\n",
       "      <th></th>\n",
       "      <th></th>\n",
       "      <th></th>\n",
       "      <th></th>\n",
       "      <th></th>\n",
       "      <th></th>\n",
       "      <th></th>\n",
       "    </tr>\n",
       "  </thead>\n",
       "  <tbody>\n",
       "    <tr>\n",
       "      <th>32298</th>\n",
       "      <td>CA-2012-124891</td>\n",
       "      <td>31-07-2012</td>\n",
       "      <td>31-07-2012</td>\n",
       "      <td>Same Day</td>\n",
       "      <td>RH-19495</td>\n",
       "      <td>Rick Hansen</td>\n",
       "      <td>Consumer</td>\n",
       "      <td>New York City</td>\n",
       "      <td>New York</td>\n",
       "      <td>United States</td>\n",
       "      <td>...</td>\n",
       "      <td>TEC-AC-10003033</td>\n",
       "      <td>Technology</td>\n",
       "      <td>Accessories</td>\n",
       "      <td>Plantronics CS510 - Over-the-Head monaural Wir...</td>\n",
       "      <td>2309.650</td>\n",
       "      <td>7.0</td>\n",
       "      <td>0.0</td>\n",
       "      <td>762.1845</td>\n",
       "      <td>933.57</td>\n",
       "      <td>Critical</td>\n",
       "    </tr>\n",
       "    <tr>\n",
       "      <th>26341</th>\n",
       "      <td>IN-2013-77878</td>\n",
       "      <td>05-02-2013</td>\n",
       "      <td>07-02-2013</td>\n",
       "      <td>Second Class</td>\n",
       "      <td>JR-16210</td>\n",
       "      <td>Justin Ritter</td>\n",
       "      <td>Corporate</td>\n",
       "      <td>Wollongong</td>\n",
       "      <td>New South Wales</td>\n",
       "      <td>Australia</td>\n",
       "      <td>...</td>\n",
       "      <td>FUR-CH-10003950</td>\n",
       "      <td>Furniture</td>\n",
       "      <td>Chairs</td>\n",
       "      <td>Novimex Executive Leather Armchair, Black</td>\n",
       "      <td>3709.395</td>\n",
       "      <td>9.0</td>\n",
       "      <td>0.1</td>\n",
       "      <td>-288.7650</td>\n",
       "      <td>923.63</td>\n",
       "      <td>Critical</td>\n",
       "    </tr>\n",
       "    <tr>\n",
       "      <th>25330</th>\n",
       "      <td>IN-2013-71249</td>\n",
       "      <td>17-10-2013</td>\n",
       "      <td>18-10-2013</td>\n",
       "      <td>First Class</td>\n",
       "      <td>CR-12730</td>\n",
       "      <td>Craig Reiter</td>\n",
       "      <td>Consumer</td>\n",
       "      <td>Brisbane</td>\n",
       "      <td>Queensland</td>\n",
       "      <td>Australia</td>\n",
       "      <td>...</td>\n",
       "      <td>TEC-PH-10004664</td>\n",
       "      <td>Technology</td>\n",
       "      <td>Phones</td>\n",
       "      <td>Nokia Smart Phone, with Caller ID</td>\n",
       "      <td>5175.171</td>\n",
       "      <td>9.0</td>\n",
       "      <td>0.1</td>\n",
       "      <td>919.9710</td>\n",
       "      <td>915.49</td>\n",
       "      <td>Medium</td>\n",
       "    </tr>\n",
       "  </tbody>\n",
       "</table>\n",
       "<p>3 rows × 23 columns</p>\n",
       "</div>"
      ],
      "text/plain": [
       "              Order ID  Order Date   Ship Date     Ship Mode Customer ID  \\\n",
       "Row ID                                                                     \n",
       "32298   CA-2012-124891  31-07-2012  31-07-2012      Same Day    RH-19495   \n",
       "26341    IN-2013-77878  05-02-2013  07-02-2013  Second Class    JR-16210   \n",
       "25330    IN-2013-71249  17-10-2013  18-10-2013   First Class    CR-12730   \n",
       "\n",
       "        Customer Name    Segment           City            State  \\\n",
       "Row ID                                                             \n",
       "32298     Rick Hansen   Consumer  New York City         New York   \n",
       "26341   Justin Ritter  Corporate     Wollongong  New South Wales   \n",
       "25330    Craig Reiter   Consumer       Brisbane       Queensland   \n",
       "\n",
       "              Country  ...       Product ID    Category Sub-Category  \\\n",
       "Row ID                 ...                                             \n",
       "32298   United States  ...  TEC-AC-10003033  Technology  Accessories   \n",
       "26341       Australia  ...  FUR-CH-10003950   Furniture       Chairs   \n",
       "25330       Australia  ...  TEC-PH-10004664  Technology       Phones   \n",
       "\n",
       "                                             Product Name     Sales Quantity  \\\n",
       "Row ID                                                                         \n",
       "32298   Plantronics CS510 - Over-the-Head monaural Wir...  2309.650      7.0   \n",
       "26341           Novimex Executive Leather Armchair, Black  3709.395      9.0   \n",
       "25330                   Nokia Smart Phone, with Caller ID  5175.171      9.0   \n",
       "\n",
       "       Discount    Profit  Shipping Cost  Order Priority  \n",
       "Row ID                                                    \n",
       "32298       0.0  762.1845         933.57        Critical  \n",
       "26341       0.1 -288.7650         923.63        Critical  \n",
       "25330       0.1  919.9710         915.49          Medium  \n",
       "\n",
       "[3 rows x 23 columns]"
      ]
     },
     "execution_count": 3,
     "metadata": {},
     "output_type": "execute_result"
    }
   ],
   "source": [
    "df.head(3)"
   ]
  },
  {
   "cell_type": "code",
   "execution_count": 4,
   "id": "7ca7f403-e488-47bb-801f-5eda149e3411",
   "metadata": {},
   "outputs": [
    {
     "data": {
      "text/html": [
       "<div>\n",
       "<style scoped>\n",
       "    .dataframe tbody tr th:only-of-type {\n",
       "        vertical-align: middle;\n",
       "    }\n",
       "\n",
       "    .dataframe tbody tr th {\n",
       "        vertical-align: top;\n",
       "    }\n",
       "\n",
       "    .dataframe thead th {\n",
       "        text-align: right;\n",
       "    }\n",
       "</style>\n",
       "<table border=\"1\" class=\"dataframe\">\n",
       "  <thead>\n",
       "    <tr style=\"text-align: right;\">\n",
       "      <th></th>\n",
       "      <th>Postal Code</th>\n",
       "      <th>Sales</th>\n",
       "      <th>Quantity</th>\n",
       "      <th>Discount</th>\n",
       "      <th>Profit</th>\n",
       "      <th>Shipping Cost</th>\n",
       "    </tr>\n",
       "  </thead>\n",
       "  <tbody>\n",
       "    <tr>\n",
       "      <th>count</th>\n",
       "      <td>9994.000000</td>\n",
       "      <td>51200.000000</td>\n",
       "      <td>51200.000000</td>\n",
       "      <td>51200.000000</td>\n",
       "      <td>51200.000000</td>\n",
       "      <td>51200.000000</td>\n",
       "    </tr>\n",
       "    <tr>\n",
       "      <th>mean</th>\n",
       "      <td>55190.379428</td>\n",
       "      <td>246.865006</td>\n",
       "      <td>3.476426</td>\n",
       "      <td>0.143026</td>\n",
       "      <td>28.639338</td>\n",
       "      <td>26.416522</td>\n",
       "    </tr>\n",
       "    <tr>\n",
       "      <th>std</th>\n",
       "      <td>32063.693350</td>\n",
       "      <td>487.908698</td>\n",
       "      <td>2.278923</td>\n",
       "      <td>0.212409</td>\n",
       "      <td>174.491125</td>\n",
       "      <td>57.338685</td>\n",
       "    </tr>\n",
       "    <tr>\n",
       "      <th>min</th>\n",
       "      <td>1040.000000</td>\n",
       "      <td>0.444000</td>\n",
       "      <td>1.000000</td>\n",
       "      <td>0.000000</td>\n",
       "      <td>-6599.978000</td>\n",
       "      <td>0.000000</td>\n",
       "    </tr>\n",
       "    <tr>\n",
       "      <th>25%</th>\n",
       "      <td>23223.000000</td>\n",
       "      <td>30.880000</td>\n",
       "      <td>2.000000</td>\n",
       "      <td>0.000000</td>\n",
       "      <td>0.000000</td>\n",
       "      <td>2.620000</td>\n",
       "    </tr>\n",
       "    <tr>\n",
       "      <th>50%</th>\n",
       "      <td>56430.500000</td>\n",
       "      <td>85.273800</td>\n",
       "      <td>3.000000</td>\n",
       "      <td>0.000000</td>\n",
       "      <td>9.255100</td>\n",
       "      <td>7.810000</td>\n",
       "    </tr>\n",
       "    <tr>\n",
       "      <th>75%</th>\n",
       "      <td>90008.000000</td>\n",
       "      <td>251.640000</td>\n",
       "      <td>5.000000</td>\n",
       "      <td>0.200000</td>\n",
       "      <td>36.841500</td>\n",
       "      <td>24.530000</td>\n",
       "    </tr>\n",
       "    <tr>\n",
       "      <th>max</th>\n",
       "      <td>99301.000000</td>\n",
       "      <td>22638.480000</td>\n",
       "      <td>14.000000</td>\n",
       "      <td>0.850000</td>\n",
       "      <td>8399.976000</td>\n",
       "      <td>933.570000</td>\n",
       "    </tr>\n",
       "  </tbody>\n",
       "</table>\n",
       "</div>"
      ],
      "text/plain": [
       "        Postal Code         Sales      Quantity      Discount        Profit  \\\n",
       "count   9994.000000  51200.000000  51200.000000  51200.000000  51200.000000   \n",
       "mean   55190.379428    246.865006      3.476426      0.143026     28.639338   \n",
       "std    32063.693350    487.908698      2.278923      0.212409    174.491125   \n",
       "min     1040.000000      0.444000      1.000000      0.000000  -6599.978000   \n",
       "25%    23223.000000     30.880000      2.000000      0.000000      0.000000   \n",
       "50%    56430.500000     85.273800      3.000000      0.000000      9.255100   \n",
       "75%    90008.000000    251.640000      5.000000      0.200000     36.841500   \n",
       "max    99301.000000  22638.480000     14.000000      0.850000   8399.976000   \n",
       "\n",
       "       Shipping Cost  \n",
       "count   51200.000000  \n",
       "mean       26.416522  \n",
       "std        57.338685  \n",
       "min         0.000000  \n",
       "25%         2.620000  \n",
       "50%         7.810000  \n",
       "75%        24.530000  \n",
       "max       933.570000  "
      ]
     },
     "execution_count": 4,
     "metadata": {},
     "output_type": "execute_result"
    }
   ],
   "source": [
    "df.describe()"
   ]
  },
  {
   "cell_type": "code",
   "execution_count": 5,
   "id": "92da8691-fb55-4d80-b4cb-b1d5955c99b5",
   "metadata": {},
   "outputs": [
    {
     "name": "stdout",
     "output_type": "stream",
     "text": [
      "<class 'pandas.core.frame.DataFrame'>\n",
      "Int64Index: 51290 entries, 32298 to 6147\n",
      "Data columns (total 23 columns):\n",
      " #   Column          Non-Null Count  Dtype  \n",
      "---  ------          --------------  -----  \n",
      " 0   Order ID        51290 non-null  object \n",
      " 1   Order Date      51290 non-null  object \n",
      " 2   Ship Date       51290 non-null  object \n",
      " 3   Ship Mode       51290 non-null  object \n",
      " 4   Customer ID     51290 non-null  object \n",
      " 5   Customer Name   51290 non-null  object \n",
      " 6   Segment         51290 non-null  object \n",
      " 7   City            51290 non-null  object \n",
      " 8   State           51290 non-null  object \n",
      " 9   Country         51290 non-null  object \n",
      " 10  Postal Code     9994 non-null   float64\n",
      " 11  Market          51290 non-null  object \n",
      " 12  Region          51290 non-null  object \n",
      " 13  Product ID      51290 non-null  object \n",
      " 14  Category        51290 non-null  object \n",
      " 15  Sub-Category    51290 non-null  object \n",
      " 16  Product Name    51251 non-null  object \n",
      " 17  Sales           51200 non-null  float64\n",
      " 18  Quantity        51200 non-null  float64\n",
      " 19  Discount        51200 non-null  float64\n",
      " 20  Profit          51200 non-null  float64\n",
      " 21  Shipping Cost   51200 non-null  float64\n",
      " 22  Order Priority  51200 non-null  object \n",
      "dtypes: float64(6), object(17)\n",
      "memory usage: 9.4+ MB\n"
     ]
    }
   ],
   "source": [
    "df.info()"
   ]
  },
  {
   "cell_type": "markdown",
   "id": "46f83b2c-9cd6-486e-8842-a16432ef1a28",
   "metadata": {},
   "source": [
    "Por esta análise, temos 51290 entradas, sendo que apenas 51200 tem o nosso target.\n",
    "\n",
    "Também podemos ver que temos alguns dados repetidos, por exemplo \"customer id\" e \"customer name\".\n",
    "\n",
    "Pela tabela podemos concluir que temos falta de dados do tipo \"Postal code\". E, visto que esta coluna retrata a mesma informação que as colunas \"City\" e \"Country\", é lógico removermos esta informação na parte de tratamento de dados.\n",
    "\n",
    "Todas as colunas tem regiões muito diferentes, logo é preciso normalizá-las, porque quantidade varia entre 1 e 14, e sales entre 0.44 e 22638."
   ]
  },
  {
   "cell_type": "code",
   "execution_count": 6,
   "id": "cf6ca1e6-1127-40f0-a000-b97a235610e0",
   "metadata": {},
   "outputs": [
    {
     "data": {
      "text/plain": [
       "Order ID          25035\n",
       "Order Date         1430\n",
       "Ship Date          1464\n",
       "Ship Mode             4\n",
       "Customer ID        1590\n",
       "Customer Name       795\n",
       "Segment               3\n",
       "City               3636\n",
       "State              1094\n",
       "Country             147\n",
       "Postal Code         631\n",
       "Market                7\n",
       "Region               13\n",
       "Product ID        10292\n",
       "Category              3\n",
       "Sub-Category         17\n",
       "Product Name       3781\n",
       "Sales             22967\n",
       "Quantity             14\n",
       "Discount             27\n",
       "Profit            24523\n",
       "Shipping Cost     10037\n",
       "Order Priority        4\n",
       "dtype: int64"
      ]
     },
     "execution_count": 6,
     "metadata": {},
     "output_type": "execute_result"
    }
   ],
   "source": [
    "# count number of distinct elements in specified axis. Can ignore NaN values\n",
    "df.nunique()"
   ]
  },
  {
   "cell_type": "markdown",
   "id": "bcc8dc34-ae36-4547-926c-3a782285088e",
   "metadata": {},
   "source": [
    "Como temos muitos códigos postais ausentes, e essa informação é redundante com as colunas de cidade, estado, e país, podemos removê-la."
   ]
  },
  {
   "cell_type": "code",
   "execution_count": 7,
   "id": "729ece27-7376-44a5-a94c-3c7bd9234864",
   "metadata": {},
   "outputs": [
    {
     "name": "stdout",
     "output_type": "stream",
     "text": [
      "Order ID\n",
      "Order Date\n",
      "Ship Date\n",
      "Ship Mode\n",
      "Customer ID\n",
      "Customer Name\n",
      "Segment\n",
      "City\n",
      "State\n",
      "Country\n",
      "Postal Code\n",
      "Market\n",
      "Region\n",
      "Product ID\n",
      "Category\n",
      "Sub-Category\n",
      "Product Name\n",
      "Sales\n",
      "Quantity\n",
      "Discount\n",
      "Profit\n",
      "Shipping Cost\n",
      "Order Priority\n"
     ]
    }
   ],
   "source": [
    "# verifica que feautures tem duplicados, verificando se o número rows únicos de cada feature é igual ao número de rows do dataset. \n",
    "# Se não for igual quer dizer que há repetidos.\n",
    "columns = df.columns\n",
    "for i in columns:\n",
    "    if not ( len(df[i].unique()) == len(df) ) :  \n",
    "        print(i)"
   ]
  },
  {
   "cell_type": "code",
   "execution_count": 8,
   "id": "4285de91-9611-4578-b2f4-45bd349bf5b7",
   "metadata": {},
   "outputs": [
    {
     "name": "stdout",
     "output_type": "stream",
     "text": [
      "Total de valores nulos \n",
      "Order ID              0\n",
      "Order Date            0\n",
      "Ship Date             0\n",
      "Ship Mode             0\n",
      "Customer ID           0\n",
      "Customer Name         0\n",
      "Segment               0\n",
      "City                  0\n",
      "State                 0\n",
      "Country               0\n",
      "Postal Code       41296\n",
      "Market                0\n",
      "Region                0\n",
      "Product ID            0\n",
      "Category              0\n",
      "Sub-Category          0\n",
      "Product Name         39\n",
      "Sales                90\n",
      "Quantity             90\n",
      "Discount             90\n",
      "Profit               90\n",
      "Shipping Cost        90\n",
      "Order Priority       90\n",
      "dtype: int64\n"
     ]
    }
   ],
   "source": [
    "# Análise de colunas com valores nulos\n",
    "print(\"Total de valores nulos \")\n",
    "print(df.isnull().sum())\n",
    "\n",
    "#print(\"\\nTotal de valores NaN \")\n",
    "#print(df.isna().sum())"
   ]
  },
  {
   "cell_type": "code",
   "execution_count": 9,
   "id": "5daaab2d-961b-4423-a250-ccbfb8a3b269",
   "metadata": {
    "tags": []
   },
   "outputs": [
    {
     "name": "stdout",
     "output_type": "stream",
     "text": [
      "How many entrances without Product name?  39\n",
      "Those, how many don't have the profit column as well?  39\n",
      "Total number of columns without profit:  90\n",
      "Those, how many are from US?  90\n",
      "From the columns without profit, how many are related to Art or Envelopes?  90\n"
     ]
    }
   ],
   "source": [
    "# Rows without Product name\n",
    "data_with_no_Product_Name = df[df['Product Name'].isnull()]\n",
    "print(\"How many entrances without Product name? \", len(data_with_no_Product_Name.index))\n",
    "print(\"Those, how many don't have the profit column as well? \", data_with_no_Product_Name['Profit'].isnull().sum())\n",
    "\n",
    "# Rows without Profit\n",
    "data_with_no_profit = df[df['Profit'].isnull()]\n",
    "#print(data_with_no_profit)\n",
    "print(\"Total number of columns without profit: \", len(data_with_no_profit.index))\n",
    "print(\"Those, how many are from US? \",data_with_no_profit['Country'].str.contains(\"United States\").size)\n",
    "#print(\"Number of columns without profit: \",data_with_no_profit['Sub-Category'].str.contains(\"Art\").contains(\"Envelopes\"))\n",
    "print(\"From the columns without profit, how many are related to Art or Envelopes? \", len(data_with_no_profit.set_index('Sub-Category').filter(regex='(Art)|(Envelopes)', axis=0).index))"
   ]
  },
  {
   "cell_type": "markdown",
   "id": "5e9605dd-9878-42c0-8793-df410d3bd34d",
   "metadata": {},
   "source": [
    "Logo, podemos concluir que todas as colunas que não tem a informação \"Product name\" também não tem informação sobre o lucro.\n",
    "Outra informação interessante é que todas as colunas que não tem \"profit\" registado são dos USA, e estão relacionadas com Artes ou Envelopes.\n",
    "\n",
    "Logo, como não temos a coluna \"profit\", podemos remover essas entradas da base de dados.\n",
    "\n",
    "Perguntar a um professor se esta informação é relevante.\n"
   ]
  },
  {
   "cell_type": "markdown",
   "id": "3fe19da9-f2ed-4d9c-9314-f68baa9a3d80",
   "metadata": {},
   "source": [
    "### Análise Visual dos dados"
   ]
  },
  {
   "cell_type": "code",
   "execution_count": 10,
   "id": "2adf21de-32cf-4e94-88bd-3dbfa3153d18",
   "metadata": {},
   "outputs": [
    {
     "name": "stdout",
     "output_type": "stream",
     "text": [
      "Coluna:  Ship Mode\n"
     ]
    },
    {
     "data": {
      "image/png": "[encoded data removed]",
      "text/plain": [
       "<Figure size 432x288 with 1 Axes>"
      ]
     },
     "metadata": {
      "needs_background": "light"
     },
     "output_type": "display_data"
    },
    {
     "name": "stdout",
     "output_type": "stream",
     "text": [
      "Coluna:  Segment\n"
     ]
    },
    {
     "data": {
      "image/png": "[encoded data removed]",
      "text/plain": [
       "<Figure size 432x288 with 1 Axes>"
      ]
     },
     "metadata": {
      "needs_background": "light"
     },
     "output_type": "display_data"
    },
    {
     "name": "stdout",
     "output_type": "stream",
     "text": [
      "Coluna:  Market\n"
     ]
    },
    {
     "data": {
      "image/png": "[encoded data removed]",
      "text/plain": [
       "<Figure size 432x288 with 1 Axes>"
      ]
     },
     "metadata": {
      "needs_background": "light"
     },
     "output_type": "display_data"
    },
    {
     "name": "stdout",
     "output_type": "stream",
     "text": [
      "Coluna:  Category\n"
     ]
    },
    {
     "data": {
      "image/png": "[encoded data removed]",
      "text/plain": [
       "<Figure size 432x288 with 1 Axes>"
      ]
     },
     "metadata": {
      "needs_background": "light"
     },
     "output_type": "display_data"
    },
    {
     "name": "stdout",
     "output_type": "stream",
     "text": [
      "Coluna:  Order Priority\n"
     ]
    },
    {
     "data": {
      "image/png": "[encoded data removed]",
      "text/plain": [
       "<Figure size 432x288 with 1 Axes>"
      ]
     },
     "metadata": {
      "needs_background": "light"
     },
     "output_type": "display_data"
    }
   ],
   "source": [
    "#Histograma com colunas com menos de 10 elementos.\n",
    "plt.show()\n",
    "for coluna in df.select_dtypes(exclude=[\"number\",\"bool_\"]).columns:\n",
    "    if df[coluna].nunique() < 10:\n",
    "        print(\"Coluna: \", coluna)\n",
    "        #print(data[coluna])\n",
    "        plt.hist(df[coluna].dropna(), bins = 20)\n",
    "        plt.show()"
   ]
  },
  {
   "cell_type": "markdown",
   "id": "7153987e-c1cb-444f-8f52-1654c5708fa9",
   "metadata": {},
   "source": [
    "Pela análise dos gráficos, podemos concluir que os dados não estão bem distribuídos, mas a informação que possuem pode ajudar na previsão dos modelos."
   ]
  },
  {
   "cell_type": "code",
   "execution_count": 17,
   "id": "0531c717-d6ec-472c-8056-9531780e3c4d",
   "metadata": {},
   "outputs": [
    {
     "name": "stdout",
     "output_type": "stream",
     "text": [
      "Order ID\n",
      "Order Date\n",
      "Ship Date\n",
      "Ship Mode\n",
      "Customer ID\n",
      "Customer Name\n",
      "Segment\n",
      "City\n",
      "\n",
      " City 's com mais de 1% de valores\n",
      "\n",
      "New York City    1.783973\n",
      "Los Angeles      1.456424\n",
      "Philadelphia     1.046988\n",
      "Name: City, dtype: float64\n",
      "State\n",
      "\n",
      " State 's com mais de 1% de valores\n",
      "\n",
      "California                3.901345\n",
      "England                   2.922597\n",
      "New York                  2.199259\n",
      "Texas                     1.920452\n",
      "Ile-de-France             1.912654\n",
      "New South Wales           1.522714\n",
      "North Rhine-Westphalia    1.401833\n",
      "Queensland                1.397933\n",
      "San Salvador              1.199064\n",
      "Pennsylvania              1.144473\n",
      "National Capital          1.136674\n",
      "Name: State, dtype: float64\n",
      "Country\n",
      "\n",
      " Country 's com mais de 1% de valores\n",
      "\n",
      "United States         19.485280\n",
      "Australia              5.531293\n",
      "France                 5.511796\n",
      "Mexico                 5.155001\n",
      "Germany                4.026126\n",
      "China                  3.665432\n",
      "United Kingdom         3.183857\n",
      "Brazil                 3.117567\n",
      "India                  3.031780\n",
      "Indonesia              2.710080\n",
      "Turkey                 2.686684\n",
      "Italy                  2.160265\n",
      "Nigeria                1.764477\n",
      "Spain                  1.674790\n",
      "Dominican Republic     1.446676\n",
      "El Salvador            1.434978\n",
      "Cuba                   1.411581\n",
      "Honduras               1.390135\n",
      "Philippines            1.327744\n",
      "New Zealand            1.224410\n",
      "Nicaragua              1.197114\n",
      "Iran                   1.183467\n",
      "Guatemala              1.015793\n",
      "Name: Country, dtype: float64\n",
      "Market\n",
      "Region\n",
      "\n",
      " Region 's com mais de 1% de valores\n",
      "\n",
      "Central           21.674790\n",
      "South             12.955742\n",
      "EMEA               9.805030\n",
      "North              9.329304\n",
      "Africa             8.943264\n",
      "Oceania            6.798596\n",
      "West               6.244882\n",
      "Southeast Asia     6.100604\n",
      "East               5.552739\n",
      "North Asia         4.558393\n",
      "Central Asia       3.992981\n",
      "Caribbean          3.294989\n",
      "Name: Region, dtype: float64\n",
      "Product ID\n",
      "Category\n",
      "Sub-Category\n",
      "\n",
      " Sub-Category 's com mais de 1% de valores\n",
      "\n",
      "Binders        11.994541\n",
      "Storage         9.863521\n",
      "Art             9.520374\n",
      "Paper           6.898031\n",
      "Chairs          6.695262\n",
      "Phones          6.545136\n",
      "Furnishings     6.180542\n",
      "Accessories     5.995321\n",
      "Labels          5.080912\n",
      "Envelopes       4.747514\n",
      "Supplies        4.728017\n",
      "Fasteners       4.718269\n",
      "Bookcases       4.700721\n",
      "Copiers         4.334178\n",
      "Appliances      3.421720\n",
      "Machines        2.897251\n",
      "Tables          1.678690\n",
      "Name: Sub-Category, dtype: float64\n",
      "Product Name\n",
      "Order Priority\n"
     ]
    }
   ],
   "source": [
    "# Análise de percentagens\n",
    "def show_frequencies_categorys():\n",
    "    for coluna in df.select_dtypes(exclude=[\"number\",\"bool_\", \"float64\"]).columns:\n",
    "        #print(coluna)\n",
    "        if df[coluna].nunique() > 10 and (\"Date\" not in coluna) and (\"ID\" not in coluna):\n",
    "\n",
    "            \n",
    "            #df2=dfgroupby([coluna])[coluna].sum().rename(\"Courses_fee\").groupby(level = 0).transform(lambda x: x/x.sum())\n",
    "            coluna_percentagens = (df[coluna].value_counts()/df[coluna].count())*100\n",
    "           # print(coluna_percentagens)\n",
    "           # print(\"Exp:\")\n",
    "            values = coluna_percentagens.groupby(coluna_percentagens > 1).filter(lambda x: x.mean() > 1)\n",
    "            if values.size > 0:\n",
    "                print(\"\\n\", coluna, \"'s com mais de 1% de valores\\n\")\n",
    "                print(values)\n",
    "show_frequencies_categorys()"
   ]
  },
  {
   "cell_type": "markdown",
   "id": "5add8935-a6ad-4748-8405-149e364e21f3",
   "metadata": {},
   "source": [
    "> Acho que para evitarmos overfitting, tudo o que é menos de 1% é para juntar. Porque assim, ele pode começar a decorar, o que não faz sentido. Escolher percentagem, também. Se calhar confirmamos com um professor?\n",
    "\n",
    "Como podemos ver, são poucas as categorias que possuem elementos com mais de 1%, logo, os dados são bastante dispersos."
   ]
  },
  {
   "cell_type": "code",
   "execution_count": 12,
   "id": "fef1ec40-c5a4-4b0f-889c-e5e8b90060ec",
   "metadata": {},
   "outputs": [
    {
     "name": "stdout",
     "output_type": "stream",
     "text": [
      "\n",
      "Coluna:  Sales\n",
      "Min: 0.444; Max: 22638.48\n"
     ]
    },
    {
     "data": {
      "image/png": "[encoded data removed]",
      "text/plain": [
       "<Figure size 360x360 with 1 Axes>"
      ]
     },
     "metadata": {
      "needs_background": "light"
     },
     "output_type": "display_data"
    },
    {
     "name": "stdout",
     "output_type": "stream",
     "text": [
      "\n",
      "Coluna:  Quantity\n",
      "Min: 1.0; Max: 14.0\n"
     ]
    },
    {
     "data": {
      "image/png": "[encoded data removed]",
      "text/plain": [
       "<Figure size 360x360 with 1 Axes>"
      ]
     },
     "metadata": {
      "needs_background": "light"
     },
     "output_type": "display_data"
    },
    {
     "name": "stdout",
     "output_type": "stream",
     "text": [
      "\n",
      "Coluna:  Discount\n",
      "Min: 0.0; Max: 0.85\n"
     ]
    },
    {
     "data": {
      "image/png": "[encoded data removed]",
      "text/plain": [
       "<Figure size 360x360 with 1 Axes>"
      ]
     },
     "metadata": {
      "needs_background": "light"
     },
     "output_type": "display_data"
    },
    {
     "name": "stdout",
     "output_type": "stream",
     "text": [
      "\n",
      "Coluna:  Profit\n",
      "Min: -6599.978; Max: 8399.976\n"
     ]
    },
    {
     "data": {
      "image/png": "[encoded data removed]",
      "text/plain": [
       "<Figure size 360x360 with 1 Axes>"
      ]
     },
     "metadata": {
      "needs_background": "light"
     },
     "output_type": "display_data"
    },
    {
     "name": "stdout",
     "output_type": "stream",
     "text": [
      "\n",
      "Coluna:  Shipping Cost\n",
      "Min: 0.0; Max: 933.57\n"
     ]
    },
    {
     "data": {
      "image/png": "[encoded data removed]",
      "text/plain": [
       "<Figure size 360x360 with 1 Axes>"
      ]
     },
     "metadata": {
      "needs_background": "light"
     },
     "output_type": "display_data"
    }
   ],
   "source": [
    "# Gostava de perceber o gráfico do Profit\n",
    "\n",
    "data = df.drop('Postal Code', axis=1)\n",
    "\n",
    "for coluna in data.select_dtypes(include=[\"number\",\"float64\"]).columns:\n",
    "    print(\"\\nColuna: \", coluna)\n",
    "    #sns.displot(df[coluna],height=5,aspect=10)\n",
    "    sns.displot(data[coluna])\n",
    "    print(\"Min: {}; Max: {}\".format(data[coluna].min(),data[coluna].max()))\n",
    "    plt.show()\n",
    "    \n",
    "#df.groupby([\"Sales\"])[\"Sales\"].count().sort_values(ascending=False)\n",
    "#df[df[\"Sales\"]<15]"
   ]
  },
  {
   "cell_type": "markdown",
   "id": "528a71e9-1b91-4792-bf8d-29e34ec1728d",
   "metadata": {},
   "source": [
    "Analisando cada uma das colunas:\n",
    "- Quantity, faz sentido juntar os que estão no máximo, a partir do 10.\n",
    "- Discount, faz sentido fazer bins por regiões, tipo 0 a 0.2, 0.2 a 0.4, ... Assim não perdemos muita informação.\n",
    "- Profit, remover outliers, acho.\n",
    "- Shipping cost, meter mais de 200 para uma categoria.\n",
    "\n",
    "Postal code não devia ser visto assim :)"
   ]
  },
  {
   "cell_type": "code",
   "execution_count": 13,
   "id": "b96dc9af-bd1a-457a-b0cc-bdf37f04ddd1",
   "metadata": {},
   "outputs": [
    {
     "data": {
      "text/plain": [
       "<AxesSubplot:>"
      ]
     },
     "execution_count": 13,
     "metadata": {},
     "output_type": "execute_result"
    },
    {
     "data": {
      "image/png": "[encoded data removed]",
      "text/plain": [
       "<Figure size 432x288 with 2 Axes>"
      ]
     },
     "metadata": {
      "needs_background": "light"
     },
     "output_type": "display_data"
    }
   ],
   "source": [
    "corr_matrix = df.corr()\n",
    "sns.heatmap(corr_matrix, vmin=-1, vmax=1, square=True,annot=True)"
   ]
  },
  {
   "cell_type": "markdown",
   "id": "c27ba611-deeb-4eaf-a16b-4fca8b1aaa2c",
   "metadata": {},
   "source": [
    "Como podemos ver, existe bastante correlação entre o shipping cost e as sales, logo provavelmente poderemos remover uma das colunas. \n",
    "Depois de converter colunas, e converter algumas para números, talvez voltar a relacionar.\n",
    "\n",
    "É preciso normalizar para meter na matriz? :eyes:"
   ]
  },
  {
   "cell_type": "code",
   "execution_count": 14,
   "id": "7ae6896c-3bfd-4774-9220-d0585f26587b",
   "metadata": {},
   "outputs": [
    {
     "name": "stdout",
     "output_type": "stream",
     "text": [
      "\n",
      "Coluna:  Postal Code\n"
     ]
    },
    {
     "data": {
      "image/png": "[encoded data removed]",
      "text/plain": [
       "<Figure size 432x288 with 1 Axes>"
      ]
     },
     "metadata": {
      "needs_background": "light"
     },
     "output_type": "display_data"
    },
    {
     "name": "stdout",
     "output_type": "stream",
     "text": [
      "\n",
      "Coluna:  Sales\n"
     ]
    },
    {
     "data": {
      "image/png": "[encoded data removed]",
      "text/plain": [
       "<Figure size 432x288 with 1 Axes>"
      ]
     },
     "metadata": {
      "needs_background": "light"
     },
     "output_type": "display_data"
    },
    {
     "name": "stdout",
     "output_type": "stream",
     "text": [
      "\n",
      "Coluna:  Quantity\n"
     ]
    },
    {
     "data": {
      "image/png": "[encoded data removed]",
      "text/plain": [
       "<Figure size 432x288 with 1 Axes>"
      ]
     },
     "metadata": {
      "needs_background": "light"
     },
     "output_type": "display_data"
    },
    {
     "name": "stdout",
     "output_type": "stream",
     "text": [
      "\n",
      "Coluna:  Discount\n"
     ]
    },
    {
     "data": {
      "image/png": "[encoded data removed]",
      "text/plain": [
       "<Figure size 432x288 with 1 Axes>"
      ]
     },
     "metadata": {
      "needs_background": "light"
     },
     "output_type": "display_data"
    },
    {
     "name": "stdout",
     "output_type": "stream",
     "text": [
      "\n",
      "Coluna:  Profit\n"
     ]
    },
    {
     "data": {
      "image/png": "[encoded data removed]",
      "text/plain": [
       "<Figure size 432x288 with 1 Axes>"
      ]
     },
     "metadata": {
      "needs_background": "light"
     },
     "output_type": "display_data"
    },
    {
     "name": "stdout",
     "output_type": "stream",
     "text": [
      "\n",
      "Coluna:  Shipping Cost\n"
     ]
    },
    {
     "data": {
      "image/png": "[encoded data removed]",
      "text/plain": [
       "<Figure size 432x288 with 1 Axes>"
      ]
     },
     "metadata": {
      "needs_background": "light"
     },
     "output_type": "display_data"
    }
   ],
   "source": [
    "# Análise de dispersão de dados\n",
    "for coluna in df.select_dtypes(include=[\"number\",\"float64\"]).columns:\n",
    "    print(\"\\nColuna: \", coluna)\n",
    "    sns.boxplot(x = df[coluna])\n",
    "    plt.show()"
   ]
  },
  {
   "cell_type": "markdown",
   "id": "7b6be17a-0d6e-46f6-a554-90504ea1f80b",
   "metadata": {},
   "source": [
    "### Pela análise dos gráficos:\n",
    "- Postal code: É ignorar\n",
    "- Sales : Ou dividimos por bins, ou removemos outilers, mas são demasiados\n",
    "- Quantity remover outliers superiores\n",
    "- Discount igual\n",
    "- Profit, aproveitar para analisar que se calhar é normalizado"
   ]
  },
  {
   "cell_type": "code",
   "execution_count": 16,
   "id": "a2d27385-f746-4af3-b61b-216647880e3a",
   "metadata": {},
   "outputs": [
    {
     "name": "stdout",
     "output_type": "stream",
     "text": [
      "\n",
      "Coluna:  Sales\n"
     ]
    },
    {
     "data": {
      "image/png": "[encoded data removed]",
      "text/plain": [
       "<Figure size 2880x216 with 1 Axes>"
      ]
     },
     "metadata": {},
     "output_type": "display_data"
    },
    {
     "name": "stdout",
     "output_type": "stream",
     "text": [
      "\n",
      "Coluna:  Profit\n"
     ]
    },
    {
     "data": {
      "image/png": "[encoded data removed]",
      "text/plain": [
       "<Figure size 2880x216 with 1 Axes>"
      ]
     },
     "metadata": {},
     "output_type": "display_data"
    },
    {
     "name": "stdout",
     "output_type": "stream",
     "text": [
      "\n",
      "Coluna:  Shipping Cost\n"
     ]
    },
    {
     "data": {
      "image/png": "[encoded data removed]",
      "text/plain": [
       "<Figure size 2880x216 with 1 Axes>"
      ]
     },
     "metadata": {},
     "output_type": "display_data"
    }
   ],
   "source": [
    "data2 = df[[\"Sales\", \"Profit\", \"Shipping Cost\"]]\n",
    "\n",
    "for coluna in data2.columns:\n",
    "    print(\"\\nColuna: \", coluna)\n",
    "    sns.boxplot(x = df[coluna])\n",
    "    sns.set(rc={'figure.figsize':(40,3)})\n",
    "    if coluna==\"Sales\":\n",
    "        plt.xlim(700,1200)\n",
    "    if coluna==\"Profit\":\n",
    "        plt.xlim(600,1000)\n",
    "    if coluna==\"Shipping Cost\":\n",
    "        plt.xlim(200,400)\n",
    "    plt.show()"
   ]
  },
  {
   "cell_type": "code",
   "execution_count": null,
   "id": "9660fe4d-0cc7-4de6-a10f-c35140801ee3",
   "metadata": {},
   "outputs": [],
   "source": []
  }
 ],
 "metadata": {
  "kernelspec": {
   "display_name": "Python 3 (ipykernel)",
   "language": "python",
   "name": "python3"
  },
  "language_info": {
   "codemirror_mode": {
    "name": "ipython",
    "version": 3
   },
   "file_extension": ".py",
   "mimetype": "text/x-python",
   "name": "python",
   "nbconvert_exporter": "python",
   "pygments_lexer": "ipython3",
   "version": "3.9.12"
  }
 },
 "nbformat": 4,
 "nbformat_minor": 5
}
