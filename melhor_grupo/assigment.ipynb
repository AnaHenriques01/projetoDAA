{
 "cells": [
  {
   "cell_type": "markdown",
   "metadata": {},
   "source": [
    "Imports"
   ]
  },
  {
   "cell_type": "code",
   "execution_count": 1,
   "metadata": {
    "tags": []
   },
   "outputs": [],
   "source": [
    "import pandas as pd\n",
    "import numpy as np\n",
    "import matplotlib.pyplot as plt\n",
    "import seaborn as sns\n",
    "import time\n",
    "from sklearn.model_selection import train_test_split\n",
    "from sklearn.impute import SimpleImputer\n",
    "from pandas import DatetimeIndex\n",
    "\n",
    "%matplotlib inline"
   ]
  },
  {
   "cell_type": "markdown",
   "metadata": {},
   "source": [
    "# Carregamento de dados"
   ]
  },
  {
   "cell_type": "code",
   "execution_count": 2,
   "metadata": {
    "tags": []
   },
   "outputs": [],
   "source": [
    "dataOri = pd.read_excel('Global_Superstore2.xlsx', index_col=0, comment='#') \n",
    "dataset = dataOri #pd.read_excel('Global_Superstore2.xlsx', index_col=0, comment='#') "
   ]
  },
  {
   "cell_type": "code",
   "execution_count": 3,
   "metadata": {},
   "outputs": [],
   "source": [
    "# Assim, quando se mexe no dataset original, e se quer voltar atrás, temos o dataOri :)\n",
    "data = dataOri\n",
    "if data['Profit'].isnull().sum() > 0:\n",
    "    data = data[data['Profit'].notna()]\n",
    "    "
   ]
  },
  {
   "cell_type": "markdown",
   "metadata": {
    "tags": []
   },
   "source": [
    "# Exploração dos dados\n",
    "\n"
   ]
  },
  {
   "cell_type": "code",
   "execution_count": 4,
   "metadata": {},
   "outputs": [
    {
     "name": "stdout",
     "output_type": "stream",
     "text": [
      "<class 'pandas.core.frame.DataFrame'>\n",
      "Int64Index: 51200 entries, 32298 to 6147\n",
      "Data columns (total 23 columns):\n",
      " #   Column          Non-Null Count  Dtype  \n",
      "---  ------          --------------  -----  \n",
      " 0   Order ID        51200 non-null  object \n",
      " 1   Order Date      51200 non-null  object \n",
      " 2   Ship Date       51200 non-null  object \n",
      " 3   Ship Mode       51200 non-null  object \n",
      " 4   Customer ID     51200 non-null  object \n",
      " 5   Customer Name   51200 non-null  object \n",
      " 6   Segment         51200 non-null  object \n",
      " 7   City            51200 non-null  object \n",
      " 8   State           51200 non-null  object \n",
      " 9   Country         51200 non-null  object \n",
      " 10  Postal Code     9904 non-null   float64\n",
      " 11  Market          51200 non-null  object \n",
      " 12  Region          51200 non-null  object \n",
      " 13  Product ID      51200 non-null  object \n",
      " 14  Category        51200 non-null  object \n",
      " 15  Sub-Category    51200 non-null  object \n",
      " 16  Product Name    51200 non-null  object \n",
      " 17  Sales           51200 non-null  float64\n",
      " 18  Quantity        51200 non-null  float64\n",
      " 19  Discount        51200 non-null  float64\n",
      " 20  Profit          51200 non-null  float64\n",
      " 21  Shipping Cost   51200 non-null  float64\n",
      " 22  Order Priority  51200 non-null  object \n",
      "dtypes: float64(6), object(17)\n",
      "memory usage: 9.4+ MB\n"
     ]
    }
   ],
   "source": [
    "data.info()"
   ]
  },
  {
   "cell_type": "code",
   "execution_count": 5,
   "metadata": {},
   "outputs": [
    {
     "name": "stderr",
     "output_type": "stream",
     "text": [
      "C:\\Users\\Diogo\\AppData\\Local\\Temp\\ipykernel_12528\\246431339.py:1: SettingWithCopyWarning: \n",
      "A value is trying to be set on a copy of a slice from a DataFrame.\n",
      "Try using .loc[row_indexer,col_indexer] = value instead\n",
      "\n",
      "See the caveats in the documentation: https://pandas.pydata.org/pandas-docs/stable/user_guide/indexing.html#returning-a-view-versus-a-copy\n",
      "  data['Ship Mode'] = data['Ship Mode'].astype('category')\n",
      "C:\\Users\\Diogo\\AppData\\Local\\Temp\\ipykernel_12528\\246431339.py:2: SettingWithCopyWarning: \n",
      "A value is trying to be set on a copy of a slice from a DataFrame.\n",
      "Try using .loc[row_indexer,col_indexer] = value instead\n",
      "\n",
      "See the caveats in the documentation: https://pandas.pydata.org/pandas-docs/stable/user_guide/indexing.html#returning-a-view-versus-a-copy\n",
      "  data['Segment'] = data['Segment'].astype('category')\n",
      "C:\\Users\\Diogo\\AppData\\Local\\Temp\\ipykernel_12528\\246431339.py:3: SettingWithCopyWarning: \n",
      "A value is trying to be set on a copy of a slice from a DataFrame.\n",
      "Try using .loc[row_indexer,col_indexer] = value instead\n",
      "\n",
      "See the caveats in the documentation: https://pandas.pydata.org/pandas-docs/stable/user_guide/indexing.html#returning-a-view-versus-a-copy\n",
      "  data['Country'] = data['Country'].astype('category')\n",
      "C:\\Users\\Diogo\\AppData\\Local\\Temp\\ipykernel_12528\\246431339.py:4: SettingWithCopyWarning: \n",
      "A value is trying to be set on a copy of a slice from a DataFrame.\n",
      "Try using .loc[row_indexer,col_indexer] = value instead\n",
      "\n",
      "See the caveats in the documentation: https://pandas.pydata.org/pandas-docs/stable/user_guide/indexing.html#returning-a-view-versus-a-copy\n",
      "  data['Market'] = data['Market'].astype('category')\n",
      "C:\\Users\\Diogo\\AppData\\Local\\Temp\\ipykernel_12528\\246431339.py:5: SettingWithCopyWarning: \n",
      "A value is trying to be set on a copy of a slice from a DataFrame.\n",
      "Try using .loc[row_indexer,col_indexer] = value instead\n",
      "\n",
      "See the caveats in the documentation: https://pandas.pydata.org/pandas-docs/stable/user_guide/indexing.html#returning-a-view-versus-a-copy\n",
      "  data['Region'] = data['Region'].astype('category')\n",
      "C:\\Users\\Diogo\\AppData\\Local\\Temp\\ipykernel_12528\\246431339.py:6: SettingWithCopyWarning: \n",
      "A value is trying to be set on a copy of a slice from a DataFrame.\n",
      "Try using .loc[row_indexer,col_indexer] = value instead\n",
      "\n",
      "See the caveats in the documentation: https://pandas.pydata.org/pandas-docs/stable/user_guide/indexing.html#returning-a-view-versus-a-copy\n",
      "  data['Category'] = data['Category'].astype('category')\n",
      "C:\\Users\\Diogo\\AppData\\Local\\Temp\\ipykernel_12528\\246431339.py:7: SettingWithCopyWarning: \n",
      "A value is trying to be set on a copy of a slice from a DataFrame.\n",
      "Try using .loc[row_indexer,col_indexer] = value instead\n",
      "\n",
      "See the caveats in the documentation: https://pandas.pydata.org/pandas-docs/stable/user_guide/indexing.html#returning-a-view-versus-a-copy\n",
      "  data['Sub-Category'] = data['Sub-Category'].astype('category')\n"
     ]
    }
   ],
   "source": [
    "data['Ship Mode'] = data['Ship Mode'].astype('category')\n",
    "data['Segment'] = data['Segment'].astype('category')\n",
    "data['Country'] = data['Country'].astype('category')\n",
    "data['Market'] = data['Market'].astype('category')\n",
    "data['Region'] = data['Region'].astype('category')\n",
    "data['Category'] = data['Category'].astype('category')\n",
    "data['Sub-Category'] = data['Sub-Category'].astype('category')\n",
    "#data['Orde rPriority'] = data['Order Priority'].astype('category')"
   ]
  },
  {
   "cell_type": "markdown",
   "metadata": {},
   "source": [
    "Por esta análise, temos 51290 entradas, sendo que apenas 51200 tem o nosso target.\n",
    "\n",
    "Também podemos ver que temos alguns dados repetidos, por exemplo \"customer id\" e \"customer name\". "
   ]
  },
  {
   "cell_type": "code",
   "execution_count": 6,
   "metadata": {},
   "outputs": [
    {
     "data": {
      "text/html": [
       "<div>\n",
       "<style scoped>\n",
       "    .dataframe tbody tr th:only-of-type {\n",
       "        vertical-align: middle;\n",
       "    }\n",
       "\n",
       "    .dataframe tbody tr th {\n",
       "        vertical-align: top;\n",
       "    }\n",
       "\n",
       "    .dataframe thead th {\n",
       "        text-align: right;\n",
       "    }\n",
       "</style>\n",
       "<table border=\"1\" class=\"dataframe\">\n",
       "  <thead>\n",
       "    <tr style=\"text-align: right;\">\n",
       "      <th></th>\n",
       "      <th>Order ID</th>\n",
       "      <th>Order Date</th>\n",
       "      <th>Ship Date</th>\n",
       "      <th>Ship Mode</th>\n",
       "      <th>Customer ID</th>\n",
       "      <th>Customer Name</th>\n",
       "      <th>Segment</th>\n",
       "      <th>City</th>\n",
       "      <th>State</th>\n",
       "      <th>Country</th>\n",
       "      <th>...</th>\n",
       "      <th>Product ID</th>\n",
       "      <th>Category</th>\n",
       "      <th>Sub-Category</th>\n",
       "      <th>Product Name</th>\n",
       "      <th>Sales</th>\n",
       "      <th>Quantity</th>\n",
       "      <th>Discount</th>\n",
       "      <th>Profit</th>\n",
       "      <th>Shipping Cost</th>\n",
       "      <th>Order Priority</th>\n",
       "    </tr>\n",
       "    <tr>\n",
       "      <th>Row ID</th>\n",
       "      <th></th>\n",
       "      <th></th>\n",
       "      <th></th>\n",
       "      <th></th>\n",
       "      <th></th>\n",
       "      <th></th>\n",
       "      <th></th>\n",
       "      <th></th>\n",
       "      <th></th>\n",
       "      <th></th>\n",
       "      <th></th>\n",
       "      <th></th>\n",
       "      <th></th>\n",
       "      <th></th>\n",
       "      <th></th>\n",
       "      <th></th>\n",
       "      <th></th>\n",
       "      <th></th>\n",
       "      <th></th>\n",
       "      <th></th>\n",
       "      <th></th>\n",
       "    </tr>\n",
       "  </thead>\n",
       "  <tbody>\n",
       "    <tr>\n",
       "      <th>32298</th>\n",
       "      <td>CA-2012-124891</td>\n",
       "      <td>31-07-2012</td>\n",
       "      <td>31-07-2012</td>\n",
       "      <td>Same Day</td>\n",
       "      <td>RH-19495</td>\n",
       "      <td>Rick Hansen</td>\n",
       "      <td>Consumer</td>\n",
       "      <td>New York City</td>\n",
       "      <td>New York</td>\n",
       "      <td>United States</td>\n",
       "      <td>...</td>\n",
       "      <td>TEC-AC-10003033</td>\n",
       "      <td>Technology</td>\n",
       "      <td>Accessories</td>\n",
       "      <td>Plantronics CS510 - Over-the-Head monaural Wir...</td>\n",
       "      <td>2309.650</td>\n",
       "      <td>7.0</td>\n",
       "      <td>0.0</td>\n",
       "      <td>762.1845</td>\n",
       "      <td>933.57</td>\n",
       "      <td>Critical</td>\n",
       "    </tr>\n",
       "    <tr>\n",
       "      <th>26341</th>\n",
       "      <td>IN-2013-77878</td>\n",
       "      <td>05-02-2013</td>\n",
       "      <td>07-02-2013</td>\n",
       "      <td>Second Class</td>\n",
       "      <td>JR-16210</td>\n",
       "      <td>Justin Ritter</td>\n",
       "      <td>Corporate</td>\n",
       "      <td>Wollongong</td>\n",
       "      <td>New South Wales</td>\n",
       "      <td>Australia</td>\n",
       "      <td>...</td>\n",
       "      <td>FUR-CH-10003950</td>\n",
       "      <td>Furniture</td>\n",
       "      <td>Chairs</td>\n",
       "      <td>Novimex Executive Leather Armchair, Black</td>\n",
       "      <td>3709.395</td>\n",
       "      <td>9.0</td>\n",
       "      <td>0.1</td>\n",
       "      <td>-288.7650</td>\n",
       "      <td>923.63</td>\n",
       "      <td>Critical</td>\n",
       "    </tr>\n",
       "    <tr>\n",
       "      <th>25330</th>\n",
       "      <td>IN-2013-71249</td>\n",
       "      <td>17-10-2013</td>\n",
       "      <td>18-10-2013</td>\n",
       "      <td>First Class</td>\n",
       "      <td>CR-12730</td>\n",
       "      <td>Craig Reiter</td>\n",
       "      <td>Consumer</td>\n",
       "      <td>Brisbane</td>\n",
       "      <td>Queensland</td>\n",
       "      <td>Australia</td>\n",
       "      <td>...</td>\n",
       "      <td>TEC-PH-10004664</td>\n",
       "      <td>Technology</td>\n",
       "      <td>Phones</td>\n",
       "      <td>Nokia Smart Phone, with Caller ID</td>\n",
       "      <td>5175.171</td>\n",
       "      <td>9.0</td>\n",
       "      <td>0.1</td>\n",
       "      <td>919.9710</td>\n",
       "      <td>915.49</td>\n",
       "      <td>Medium</td>\n",
       "    </tr>\n",
       "  </tbody>\n",
       "</table>\n",
       "<p>3 rows × 23 columns</p>\n",
       "</div>"
      ],
      "text/plain": [
       "              Order ID  Order Date   Ship Date     Ship Mode Customer ID  \\\n",
       "Row ID                                                                     \n",
       "32298   CA-2012-124891  31-07-2012  31-07-2012      Same Day    RH-19495   \n",
       "26341    IN-2013-77878  05-02-2013  07-02-2013  Second Class    JR-16210   \n",
       "25330    IN-2013-71249  17-10-2013  18-10-2013   First Class    CR-12730   \n",
       "\n",
       "        Customer Name    Segment           City            State  \\\n",
       "Row ID                                                             \n",
       "32298     Rick Hansen   Consumer  New York City         New York   \n",
       "26341   Justin Ritter  Corporate     Wollongong  New South Wales   \n",
       "25330    Craig Reiter   Consumer       Brisbane       Queensland   \n",
       "\n",
       "              Country  ...       Product ID    Category Sub-Category  \\\n",
       "Row ID                 ...                                             \n",
       "32298   United States  ...  TEC-AC-10003033  Technology  Accessories   \n",
       "26341       Australia  ...  FUR-CH-10003950   Furniture       Chairs   \n",
       "25330       Australia  ...  TEC-PH-10004664  Technology       Phones   \n",
       "\n",
       "                                             Product Name     Sales Quantity  \\\n",
       "Row ID                                                                         \n",
       "32298   Plantronics CS510 - Over-the-Head monaural Wir...  2309.650      7.0   \n",
       "26341           Novimex Executive Leather Armchair, Black  3709.395      9.0   \n",
       "25330                   Nokia Smart Phone, with Caller ID  5175.171      9.0   \n",
       "\n",
       "       Discount    Profit  Shipping Cost  Order Priority  \n",
       "Row ID                                                    \n",
       "32298       0.0  762.1845         933.57        Critical  \n",
       "26341       0.1 -288.7650         923.63        Critical  \n",
       "25330       0.1  919.9710         915.49          Medium  \n",
       "\n",
       "[3 rows x 23 columns]"
      ]
     },
     "execution_count": 6,
     "metadata": {},
     "output_type": "execute_result"
    }
   ],
   "source": [
    "data.head(3)"
   ]
  },
  {
   "cell_type": "code",
   "execution_count": 7,
   "metadata": {},
   "outputs": [
    {
     "data": {
      "text/html": [
       "<div>\n",
       "<style scoped>\n",
       "    .dataframe tbody tr th:only-of-type {\n",
       "        vertical-align: middle;\n",
       "    }\n",
       "\n",
       "    .dataframe tbody tr th {\n",
       "        vertical-align: top;\n",
       "    }\n",
       "\n",
       "    .dataframe thead th {\n",
       "        text-align: right;\n",
       "    }\n",
       "</style>\n",
       "<table border=\"1\" class=\"dataframe\">\n",
       "  <thead>\n",
       "    <tr style=\"text-align: right;\">\n",
       "      <th></th>\n",
       "      <th>Postal Code</th>\n",
       "      <th>Sales</th>\n",
       "      <th>Quantity</th>\n",
       "      <th>Discount</th>\n",
       "      <th>Profit</th>\n",
       "      <th>Shipping Cost</th>\n",
       "    </tr>\n",
       "  </thead>\n",
       "  <tbody>\n",
       "    <tr>\n",
       "      <th>count</th>\n",
       "      <td>9904.000000</td>\n",
       "      <td>51200.000000</td>\n",
       "      <td>51200.000000</td>\n",
       "      <td>51200.000000</td>\n",
       "      <td>51200.000000</td>\n",
       "      <td>51200.000000</td>\n",
       "    </tr>\n",
       "    <tr>\n",
       "      <th>mean</th>\n",
       "      <td>55169.201838</td>\n",
       "      <td>246.865006</td>\n",
       "      <td>3.476426</td>\n",
       "      <td>0.143026</td>\n",
       "      <td>28.639338</td>\n",
       "      <td>26.416522</td>\n",
       "    </tr>\n",
       "    <tr>\n",
       "      <th>std</th>\n",
       "      <td>32067.320530</td>\n",
       "      <td>487.908698</td>\n",
       "      <td>2.278923</td>\n",
       "      <td>0.212409</td>\n",
       "      <td>174.491125</td>\n",
       "      <td>57.338685</td>\n",
       "    </tr>\n",
       "    <tr>\n",
       "      <th>min</th>\n",
       "      <td>1040.000000</td>\n",
       "      <td>0.444000</td>\n",
       "      <td>1.000000</td>\n",
       "      <td>0.000000</td>\n",
       "      <td>-6599.978000</td>\n",
       "      <td>0.000000</td>\n",
       "    </tr>\n",
       "    <tr>\n",
       "      <th>25%</th>\n",
       "      <td>23223.000000</td>\n",
       "      <td>30.880000</td>\n",
       "      <td>2.000000</td>\n",
       "      <td>0.000000</td>\n",
       "      <td>0.000000</td>\n",
       "      <td>2.620000</td>\n",
       "    </tr>\n",
       "    <tr>\n",
       "      <th>50%</th>\n",
       "      <td>56301.000000</td>\n",
       "      <td>85.273800</td>\n",
       "      <td>3.000000</td>\n",
       "      <td>0.000000</td>\n",
       "      <td>9.255100</td>\n",
       "      <td>7.810000</td>\n",
       "    </tr>\n",
       "    <tr>\n",
       "      <th>75%</th>\n",
       "      <td>90008.000000</td>\n",
       "      <td>251.640000</td>\n",
       "      <td>5.000000</td>\n",
       "      <td>0.200000</td>\n",
       "      <td>36.841500</td>\n",
       "      <td>24.530000</td>\n",
       "    </tr>\n",
       "    <tr>\n",
       "      <th>max</th>\n",
       "      <td>99301.000000</td>\n",
       "      <td>22638.480000</td>\n",
       "      <td>14.000000</td>\n",
       "      <td>0.850000</td>\n",
       "      <td>8399.976000</td>\n",
       "      <td>933.570000</td>\n",
       "    </tr>\n",
       "  </tbody>\n",
       "</table>\n",
       "</div>"
      ],
      "text/plain": [
       "        Postal Code         Sales      Quantity      Discount        Profit  \\\n",
       "count   9904.000000  51200.000000  51200.000000  51200.000000  51200.000000   \n",
       "mean   55169.201838    246.865006      3.476426      0.143026     28.639338   \n",
       "std    32067.320530    487.908698      2.278923      0.212409    174.491125   \n",
       "min     1040.000000      0.444000      1.000000      0.000000  -6599.978000   \n",
       "25%    23223.000000     30.880000      2.000000      0.000000      0.000000   \n",
       "50%    56301.000000     85.273800      3.000000      0.000000      9.255100   \n",
       "75%    90008.000000    251.640000      5.000000      0.200000     36.841500   \n",
       "max    99301.000000  22638.480000     14.000000      0.850000   8399.976000   \n",
       "\n",
       "       Shipping Cost  \n",
       "count   51200.000000  \n",
       "mean       26.416522  \n",
       "std        57.338685  \n",
       "min         0.000000  \n",
       "25%         2.620000  \n",
       "50%         7.810000  \n",
       "75%        24.530000  \n",
       "max       933.570000  "
      ]
     },
     "execution_count": 7,
     "metadata": {},
     "output_type": "execute_result"
    }
   ],
   "source": [
    "data.describe()"
   ]
  },
  {
   "cell_type": "markdown",
   "metadata": {},
   "source": [
    "Pela tabela anterior podemos concluir que temos falta de dados do tipo \"Postal code\". E, visto que esta coluna retrata a mesma informação que as colunas \"City\" e \"Country\", é lógico removermos esta informação na parte de tratamento de dados.  \n",
    "\n",
    "Todas as colunas tem regiões muito diferentes, logo é preciso normalizá-las, porque quantidade varia entre 1 e 14, e sales entre 0.44 e 22638.\n"
   ]
  },
  {
   "cell_type": "code",
   "execution_count": 8,
   "metadata": {},
   "outputs": [
    {
     "data": {
      "text/plain": [
       "Order ID          25010\n",
       "Order Date         1430\n",
       "Ship Date          1464\n",
       "Ship Mode             4\n",
       "Customer ID        1590\n",
       "Customer Name       795\n",
       "Segment               3\n",
       "City               3636\n",
       "State              1094\n",
       "Country             147\n",
       "Postal Code         631\n",
       "Market                7\n",
       "Region               13\n",
       "Product ID        10275\n",
       "Category              3\n",
       "Sub-Category         17\n",
       "Product Name       3771\n",
       "Sales             22967\n",
       "Quantity             14\n",
       "Discount             27\n",
       "Profit            24523\n",
       "Shipping Cost     10037\n",
       "Order Priority        4\n",
       "dtype: int64"
      ]
     },
     "execution_count": 8,
     "metadata": {},
     "output_type": "execute_result"
    }
   ],
   "source": [
    "data.nunique() # count number od distinct elements in specified axis. Can ignore NaN values"
   ]
  },
  {
   "cell_type": "markdown",
   "metadata": {},
   "source": [
    "O product id e a category/sub-category devem estar muito relacionadas, escolher qual é a melhor.\n"
   ]
  },
  {
   "cell_type": "code",
   "execution_count": 9,
   "metadata": {},
   "outputs": [
    {
     "name": "stdout",
     "output_type": "stream",
     "text": [
      "Order ID\n",
      "Order Date\n",
      "Ship Date\n",
      "Ship Mode\n",
      "Customer ID\n",
      "Customer Name\n",
      "Segment\n",
      "City\n",
      "State\n",
      "Country\n",
      "Postal Code\n",
      "Market\n",
      "Region\n",
      "Product ID\n",
      "Category\n",
      "Sub-Category\n",
      "Product Name\n",
      "Sales\n",
      "Quantity\n",
      "Discount\n",
      "Profit\n",
      "Shipping Cost\n",
      "Order Priority\n"
     ]
    }
   ],
   "source": [
    "# Não percebi <- Diogo\n",
    "\n",
    "columns = data.columns\n",
    "for i in columns:\n",
    "    if not ( len(data[i].unique()) == len(data) ) :  # se o número de order id,.... unicos não é igual ao número de rows do dataset, então há repetidos\n",
    "        print(i)"
   ]
  },
  {
   "cell_type": "code",
   "execution_count": 10,
   "metadata": {},
   "outputs": [
    {
     "name": "stdout",
     "output_type": "stream",
     "text": [
      "Total de valores nulos \n",
      "Order ID              0\n",
      "Order Date            0\n",
      "Ship Date             0\n",
      "Ship Mode             0\n",
      "Customer ID           0\n",
      "Customer Name         0\n",
      "Segment               0\n",
      "City                  0\n",
      "State                 0\n",
      "Country               0\n",
      "Postal Code       41296\n",
      "Market                0\n",
      "Region                0\n",
      "Product ID            0\n",
      "Category              0\n",
      "Sub-Category          0\n",
      "Product Name          0\n",
      "Sales                 0\n",
      "Quantity              0\n",
      "Discount              0\n",
      "Profit                0\n",
      "Shipping Cost         0\n",
      "Order Priority        0\n",
      "dtype: int64\n"
     ]
    }
   ],
   "source": [
    "# Análise de colunas com valores nulos\n",
    "print(\"Total de valores nulos \")\n",
    "print(data.isnull().sum())\n",
    "\n",
    "#print(\"\\nTotal de valores NaN \")\n",
    "#print(data.isna().sum())"
   ]
  },
  {
   "cell_type": "markdown",
   "metadata": {},
   "source": [
    "Como temos muitos códigos postais ausentes, e essa informação é redundante com as colunas de cidade, estado, e país, podemos removê-la.\n",
    "\n"
   ]
  },
  {
   "cell_type": "code",
   "execution_count": 11,
   "metadata": {},
   "outputs": [
    {
     "name": "stdout",
     "output_type": "stream",
     "text": [
      "How many entrances without Product name?  0\n",
      "Those, how many don't have the profit column as well?  0\n",
      "Total number of columns without profit:  0\n",
      "Those, how many are from US?  0\n",
      "From the columns without profit, how many are related to Art or Envelopes?  0\n"
     ]
    }
   ],
   "source": [
    "# Rows without Product name\n",
    "data_with_no_Product_Name = data[data['Product Name'].isnull()]\n",
    "print(\"How many entrances without Product name? \", len(data_with_no_Product_Name.index))\n",
    "print(\"Those, how many don't have the profit column as well? \", data_with_no_Product_Name['Profit'].isnull().sum())\n",
    "\n",
    "# Rows without Profit\n",
    "data_with_no_profit = data[data['Profit'].isnull()]\n",
    "#print(data_with_no_profit)\n",
    "print(\"Total number of columns without profit: \", len(data_with_no_profit.index))\n",
    "print(\"Those, how many are from US? \",data_with_no_profit['Country'].str.contains(\"United States\").size)\n",
    "#print(\"Number of columns without profit: \",data_with_no_profit['Sub-Category'].str.contains(\"Art\").contains(\"Envelopes\"))\n",
    "print(\"From the columns without profit, how many are related to Art or Envelopes? \", len(data_with_no_profit.set_index('Sub-Category').filter(regex='(Art)|(Envelopes)', axis=0).index))"
   ]
  },
  {
   "cell_type": "markdown",
   "metadata": {},
   "source": [
    "Logo, podemos concluir que todas as colunas que não tem a informação \"Product name\" também não tem informação sobre o lucro.\n",
    "Outra informação interessante é que todas as colunas que não tem \"profit\" registado são dos USA, e estão relacionadas com Artes ou Envelopes.\n",
    "\n",
    "Logo, como não temos a coluna \"profit\", podemos remover essas entradas da base de dados.\n",
    "\n",
    "Perguntar a um professor se esta informação é relevante.\n"
   ]
  },
  {
   "cell_type": "markdown",
   "metadata": {},
   "source": [
    "### Análise visual"
   ]
  },
  {
   "cell_type": "code",
   "execution_count": 12,
   "metadata": {},
   "outputs": [
    {
     "name": "stdout",
     "output_type": "stream",
     "text": [
      "Coluna:  Ship Mode\n"
     ]
    },
    {
     "data": {
      "image/png": "[encoded data removed]",
      "text/plain": [
       "<Figure size 432x288 with 1 Axes>"
      ]
     },
     "metadata": {
      "needs_background": "light"
     },
     "output_type": "display_data"
    },
    {
     "name": "stdout",
     "output_type": "stream",
     "text": [
      "Coluna:  Segment\n"
     ]
    },
    {
     "data": {
      "image/png": "[encoded data removed]",
      "text/plain": [
       "<Figure size 432x288 with 1 Axes>"
      ]
     },
     "metadata": {
      "needs_background": "light"
     },
     "output_type": "display_data"
    },
    {
     "name": "stdout",
     "output_type": "stream",
     "text": [
      "Coluna:  Market\n"
     ]
    },
    {
     "data": {
      "image/png": "[encoded data removed]",
      "text/plain": [
       "<Figure size 432x288 with 1 Axes>"
      ]
     },
     "metadata": {
      "needs_background": "light"
     },
     "output_type": "display_data"
    },
    {
     "name": "stdout",
     "output_type": "stream",
     "text": [
      "Coluna:  Category\n"
     ]
    },
    {
     "data": {
      "image/png": "[encoded data removed]",
      "text/plain": [
       "<Figure size 432x288 with 1 Axes>"
      ]
     },
     "metadata": {
      "needs_background": "light"
     },
     "output_type": "display_data"
    },
    {
     "name": "stdout",
     "output_type": "stream",
     "text": [
      "Coluna:  Order Priority\n"
     ]
    },
    {
     "data": {
      "image/png": "[encoded data removed]",
      "text/plain": [
       "<Figure size 432x288 with 1 Axes>"
      ]
     },
     "metadata": {
      "needs_background": "light"
     },
     "output_type": "display_data"
    }
   ],
   "source": [
    "#Histograma com colunas com menos de 10 elementos.\n",
    "plt.show()\n",
    "for coluna in data.select_dtypes(exclude=[\"number\",\"bool_\"]).columns:\n",
    "    if data[coluna].nunique() < 10:\n",
    "        print(\"Coluna: \", coluna)\n",
    "        #print(data[coluna])\n",
    "        plt.hist(data[coluna].dropna(), bins = 20)\n",
    "        plt.show()"
   ]
  },
  {
   "cell_type": "markdown",
   "metadata": {},
   "source": [
    "Pela análise dos gráficos, podemos concluir que os dados não estão bem distribuídos, mas a informação que possuem pode ajudar na previsão dos modelos."
   ]
  },
  {
   "cell_type": "code",
   "execution_count": 13,
   "metadata": {},
   "outputs": [
    {
     "name": "stdout",
     "output_type": "stream",
     "text": [
      "\n",
      " City 's com mais de 1% de valores\n",
      "\n",
      "New York City    1.771484\n",
      "Los Angeles      1.455078\n",
      "Philadelphia     1.041016\n",
      "Name: City, dtype: float64\n",
      "\n",
      " State 's com mais de 1% de valores\n",
      "\n",
      "California                3.865234\n",
      "England                   2.927734\n",
      "New York                  2.187500\n",
      "Ile-de-France             1.916016\n",
      "Texas                     1.906250\n",
      "New South Wales           1.525391\n",
      "North Rhine-Westphalia    1.404297\n",
      "Queensland                1.400391\n",
      "San Salvador              1.201172\n",
      "National Capital          1.138672\n",
      "Pennsylvania              1.138672\n",
      "Name: State, dtype: float64\n",
      "\n",
      " Country 's com mais de 1% de valores\n",
      "\n",
      "United States         19.343750\n",
      "Australia              5.541016\n",
      "France                 5.521484\n",
      "Mexico                 5.164062\n",
      "Germany                4.033203\n",
      "China                  3.671875\n",
      "United Kingdom         3.189453\n",
      "Brazil                 3.123047\n",
      "India                  3.037109\n",
      "Indonesia              2.714844\n",
      "Turkey                 2.691406\n",
      "Italy                  2.164062\n",
      "Nigeria                1.767578\n",
      "Spain                  1.677734\n",
      "Dominican Republic     1.449219\n",
      "El Salvador            1.437500\n",
      "Cuba                   1.414062\n",
      "Honduras               1.392578\n",
      "Philippines            1.330078\n",
      "New Zealand            1.226562\n",
      "Nicaragua              1.199219\n",
      "Iran                   1.185547\n",
      "Guatemala              1.017578\n",
      "Name: Country, dtype: float64\n",
      "\n",
      " Region 's com mais de 1% de valores\n",
      "\n",
      "Central           21.683594\n",
      "South             12.947266\n",
      "EMEA               9.822266\n",
      "North              9.345703\n",
      "Africa             8.958984\n",
      "Oceania            6.810547\n",
      "West               6.191406\n",
      "Southeast Asia     6.111328\n",
      "East               5.511719\n",
      "North Asia         4.566406\n",
      "Central Asia       4.000000\n",
      "Caribbean          3.300781\n",
      "Name: Region, dtype: float64\n",
      "\n",
      " Sub-Category 's com mais de 1% de valores\n",
      "\n",
      "Binders        12.015625\n",
      "Storage         9.880859\n",
      "Art             9.464844\n",
      "Paper           6.910156\n",
      "Chairs          6.707031\n",
      "Phones          6.556641\n",
      "Furnishings     6.191406\n",
      "Accessories     6.005859\n",
      "Labels          5.089844\n",
      "Supplies        4.736328\n",
      "Fasteners       4.726562\n",
      "Bookcases       4.708984\n",
      "Envelopes       4.652344\n",
      "Copiers         4.341797\n",
      "Appliances      3.427734\n",
      "Machines        2.902344\n",
      "Tables          1.681641\n",
      "Name: Sub-Category, dtype: float64\n"
     ]
    }
   ],
   "source": [
    "# Análise de percentagens\n",
    "def show_frequencies_categorys():\n",
    "    for coluna in data.select_dtypes(exclude=[\"number\",\"bool_\", \"float64\"]).columns:\n",
    "        #print(coluna)\n",
    "        if data[coluna].nunique() > 10 and (\"Date\" not in coluna) and (\"ID\" not in coluna):\n",
    "\n",
    "            \n",
    "            #df2=data.groupby([coluna])[coluna].sum().rename(\"Courses_fee\").groupby(level = 0).transform(lambda x: x/x.sum())\n",
    "            coluna_percentagens = (data[coluna].value_counts()/data[coluna].count())*100\n",
    "           # print(coluna_percentagens)\n",
    "           # print(\"Exp:\")\n",
    "            values = coluna_percentagens.groupby(coluna_percentagens > 1).filter(lambda x: x.mean() > 1)\n",
    "            if values.size > 0:\n",
    "                print(\"\\n\", coluna, \"'s com mais de 1% de valores\\n\")\n",
    "                print(values)\n",
    "show_frequencies_categorys()"
   ]
  },
  {
   "cell_type": "markdown",
   "metadata": {},
   "source": [
    "> Acho que para evitarmos overfitting, tudo o que é menos de 1% é para juntar. Porque assim, ele pode começar a decorar, o que não faz sentido. Escolher percentagem, também. Se calhar confirmamos com um professor?\n",
    "\n",
    "Como podemos ver, são poucas as categorias que possuem elementos com mais de 1%, logo, os dados são bastante dispersos."
   ]
  },
  {
   "cell_type": "code",
   "execution_count": 14,
   "metadata": {},
   "outputs": [
    {
     "name": "stdout",
     "output_type": "stream",
     "text": [
      "\n",
      "Coluna:  Postal Code\n"
     ]
    },
    {
     "data": {
      "image/png": "[encoded data removed]",
      "text/plain": [
       "<Figure size 360x360 with 1 Axes>"
      ]
     },
     "metadata": {
      "needs_background": "light"
     },
     "output_type": "display_data"
    },
    {
     "name": "stdout",
     "output_type": "stream",
     "text": [
      "\n",
      "Coluna:  Sales\n"
     ]
    },
    {
     "data": {
      "image/png": "[encoded data removed]",
      "text/plain": [
       "<Figure size 360x360 with 1 Axes>"
      ]
     },
     "metadata": {
      "needs_background": "light"
     },
     "output_type": "display_data"
    },
    {
     "name": "stdout",
     "output_type": "stream",
     "text": [
      "\n",
      "Coluna:  Quantity\n"
     ]
    },
    {
     "data": {
      "image/png": "[encoded data removed]",
      "text/plain": [
       "<Figure size 360x360 with 1 Axes>"
      ]
     },
     "metadata": {
      "needs_background": "light"
     },
     "output_type": "display_data"
    },
    {
     "name": "stdout",
     "output_type": "stream",
     "text": [
      "\n",
      "Coluna:  Discount\n"
     ]
    },
    {
     "data": {
      "image/png": "[encoded data removed]",
      "text/plain": [
       "<Figure size 360x360 with 1 Axes>"
      ]
     },
     "metadata": {
      "needs_background": "light"
     },
     "output_type": "display_data"
    },
    {
     "name": "stdout",
     "output_type": "stream",
     "text": [
      "\n",
      "Coluna:  Profit\n"
     ]
    },
    {
     "data": {
      "image/png": "[encoded data removed]",
      "text/plain": [
       "<Figure size 360x360 with 1 Axes>"
      ]
     },
     "metadata": {
      "needs_background": "light"
     },
     "output_type": "display_data"
    },
    {
     "name": "stdout",
     "output_type": "stream",
     "text": [
      "\n",
      "Coluna:  Shipping Cost\n"
     ]
    },
    {
     "data": {
      "image/png": "[encoded data removed]",
      "text/plain": [
       "<Figure size 360x360 with 1 Axes>"
      ]
     },
     "metadata": {
      "needs_background": "light"
     },
     "output_type": "display_data"
    }
   ],
   "source": [
    "# Gostava de perceber o gráfico do Profit\n",
    "for coluna in data.select_dtypes(include=[\"number\",\"float64\"]).columns:\n",
    "    print(\"\\nColuna: \", coluna)\n",
    "    sns.displot(data[coluna])\n",
    "    plt.show()"
   ]
  },
  {
   "cell_type": "markdown",
   "metadata": {},
   "source": [
    "Analisando cada uma das colunas:\n",
    "- Quantity, faz sentido juntar os que estão no máximo, a partir do 10.\n",
    "- Discount, faz sentido fazer bins por regiões, tipo 0 a 0.2, 0.2 a 0.4, ... Assim não perdemos muita informação.\n",
    "- Profit, remover outliers, acho.\n",
    "- Shipping cost, meter mais de 200 para uma categoria.\n",
    "\n",
    "Postal code não devia ser visto assim :)"
   ]
  },
  {
   "cell_type": "code",
   "execution_count": 15,
   "metadata": {},
   "outputs": [
    {
     "data": {
      "text/plain": [
       "<AxesSubplot:>"
      ]
     },
     "execution_count": 15,
     "metadata": {},
     "output_type": "execute_result"
    },
    {
     "data": {
      "image/png": "[encoded data removed]",
      "text/plain": [
       "<Figure size 432x288 with 2 Axes>"
      ]
     },
     "metadata": {
      "needs_background": "light"
     },
     "output_type": "display_data"
    }
   ],
   "source": [
    "corr_matrix = data.corr()\n",
    "sns.heatmap(corr_matrix, vmin=-1, vmax=1, square=True,annot=True)"
   ]
  },
  {
   "cell_type": "markdown",
   "metadata": {},
   "source": [
    "Como podemos ver, existe bastante correlação entre o shipping cost e as sales, logo provavelmente poderemos remover uma das colunas. \n",
    "Depois de converter colunas, e converter algumas para números, talvez voltar a relacionar.\n",
    "\n",
    "É preciso normalizar para meter na matriz? :eyes:"
   ]
  },
  {
   "cell_type": "code",
   "execution_count": 16,
   "metadata": {},
   "outputs": [
    {
     "name": "stdout",
     "output_type": "stream",
     "text": [
      "\n",
      "Coluna:  Postal Code\n"
     ]
    },
    {
     "data": {
      "image/png": "[encoded data removed]",
      "text/plain": [
       "<Figure size 432x288 with 1 Axes>"
      ]
     },
     "metadata": {
      "needs_background": "light"
     },
     "output_type": "display_data"
    },
    {
     "name": "stdout",
     "output_type": "stream",
     "text": [
      "\n",
      "Coluna:  Sales\n"
     ]
    },
    {
     "data": {
      "image/png": "[encoded data removed]",
      "text/plain": [
       "<Figure size 432x288 with 1 Axes>"
      ]
     },
     "metadata": {
      "needs_background": "light"
     },
     "output_type": "display_data"
    },
    {
     "name": "stdout",
     "output_type": "stream",
     "text": [
      "\n",
      "Coluna:  Quantity\n"
     ]
    },
    {
     "data": {
      "image/png": "[encoded data removed]",
      "text/plain": [
       "<Figure size 432x288 with 1 Axes>"
      ]
     },
     "metadata": {
      "needs_background": "light"
     },
     "output_type": "display_data"
    },
    {
     "name": "stdout",
     "output_type": "stream",
     "text": [
      "\n",
      "Coluna:  Discount\n"
     ]
    },
    {
     "data": {
      "image/png": "[encoded data removed]",
      "text/plain": [
       "<Figure size 432x288 with 1 Axes>"
      ]
     },
     "metadata": {
      "needs_background": "light"
     },
     "output_type": "display_data"
    },
    {
     "name": "stdout",
     "output_type": "stream",
     "text": [
      "\n",
      "Coluna:  Profit\n"
     ]
    },
    {
     "data": {
      "image/png": "[encoded data removed]",
      "text/plain": [
       "<Figure size 432x288 with 1 Axes>"
      ]
     },
     "metadata": {
      "needs_background": "light"
     },
     "output_type": "display_data"
    },
    {
     "name": "stdout",
     "output_type": "stream",
     "text": [
      "\n",
      "Coluna:  Shipping Cost\n"
     ]
    },
    {
     "data": {
      "image/png": "[encoded data removed]",
      "text/plain": [
       "<Figure size 432x288 with 1 Axes>"
      ]
     },
     "metadata": {
      "needs_background": "light"
     },
     "output_type": "display_data"
    }
   ],
   "source": [
    "# Análise de dispersão de dados\n",
    "for coluna in data.select_dtypes(include=[\"number\",\"float64\"]).columns:\n",
    "    print(\"\\nColuna: \", coluna)\n",
    "    sns.boxplot(x = data[coluna])\n",
    "    plt.show()\n",
    "\n"
   ]
  },
  {
   "cell_type": "markdown",
   "metadata": {},
   "source": [
    "Pela análise dos gráficos:\n",
    "- Postal code: É ignorar\n",
    "- Sales : Ou dividimos por bins, ou removemos outilers, mas são demasiados\n",
    "- Quantity remover outliers superiores\n",
    "- Discount igual\n",
    "- Profit, aproveitar para analisar que se calhar é normalizado\n",
    "    "
   ]
  },
  {
   "cell_type": "markdown",
   "metadata": {
    "tags": []
   },
   "source": [
    "# Tratamento de dados - falta visualizar datas\n"
   ]
  },
  {
   "cell_type": "code",
   "execution_count": 17,
   "metadata": {},
   "outputs": [],
   "source": [
    "#data = data.drop(columns=['Order ID', 'Customer ID', 'Customer Name', 'Product Name', 'Postal Code'])"
   ]
  },
  {
   "cell_type": "code",
   "execution_count": 18,
   "metadata": {},
   "outputs": [],
   "source": [
    "#data = data.drop(['Sales'], axis=1)"
   ]
  },
  {
   "cell_type": "code",
   "execution_count": 19,
   "metadata": {},
   "outputs": [
    {
     "name": "stdout",
     "output_type": "stream",
     "text": [
      "<class 'pandas.core.frame.DataFrame'>\n",
      "Int64Index: 51200 entries, 32298 to 6147\n",
      "Data columns (total 23 columns):\n",
      " #   Column          Non-Null Count  Dtype   \n",
      "---  ------          --------------  -----   \n",
      " 0   Order ID        51200 non-null  object  \n",
      " 1   Order Date      51200 non-null  object  \n",
      " 2   Ship Date       51200 non-null  object  \n",
      " 3   Ship Mode       51200 non-null  category\n",
      " 4   Customer ID     51200 non-null  object  \n",
      " 5   Customer Name   51200 non-null  object  \n",
      " 6   Segment         51200 non-null  category\n",
      " 7   City            51200 non-null  object  \n",
      " 8   State           51200 non-null  object  \n",
      " 9   Country         51200 non-null  category\n",
      " 10  Postal Code     9904 non-null   float64 \n",
      " 11  Market          51200 non-null  category\n",
      " 12  Region          51200 non-null  category\n",
      " 13  Product ID      51200 non-null  object  \n",
      " 14  Category        51200 non-null  category\n",
      " 15  Sub-Category    51200 non-null  category\n",
      " 16  Product Name    51200 non-null  object  \n",
      " 17  Sales           51200 non-null  float64 \n",
      " 18  Quantity        51200 non-null  float64 \n",
      " 19  Discount        51200 non-null  float64 \n",
      " 20  Profit          51200 non-null  float64 \n",
      " 21  Shipping Cost   51200 non-null  float64 \n",
      " 22  Order Priority  51200 non-null  object  \n",
      "dtypes: category(7), float64(6), object(10)\n",
      "memory usage: 7.0+ MB\n"
     ]
    }
   ],
   "source": [
    "data.info()"
   ]
  },
  {
   "cell_type": "markdown",
   "metadata": {},
   "source": [
    "### Corrigindo nome de parâmetros, e removendo valores nulos"
   ]
  },
  {
   "cell_type": "code",
   "execution_count": 20,
   "metadata": {},
   "outputs": [
    {
     "name": "stdout",
     "output_type": "stream",
     "text": [
      "Total de valores nulos \n",
      "Order ID          0\n",
      "Order Date        0\n",
      "Ship Date         0\n",
      "Ship Mode         0\n",
      "Customer ID       0\n",
      "Customer Name     0\n",
      "Segment           0\n",
      "City              0\n",
      "State             0\n",
      "Country           0\n",
      "Market            0\n",
      "Region            0\n",
      "Product ID        0\n",
      "Category          0\n",
      "Sub-Category      0\n",
      "Product Name      0\n",
      "Sales             0\n",
      "Quantity          0\n",
      "Discount          0\n",
      "Profit            0\n",
      "Shipping_Cost     0\n",
      "Order_Priority    0\n",
      "dtype: int64\n"
     ]
    }
   ],
   "source": [
    "# Já está justificado em cima o porquê de removermos Códigos postais.\n",
    "if 'Postal Code' in data.columns:\n",
    "    data = data.drop('Postal Code', axis=1)\n",
    "\n",
    "# Remover linhas cujo objetivo é desconhecido, consequentemente removemos outros valores nulos.\n",
    "if data['Profit'].isnull().sum() > 0:\n",
    "    data = data[data['Profit'].notna()]\n",
    "    \n",
    "\n",
    "data = data.rename(columns = {'Shipping Cost':'Shipping_Cost'})\n",
    "data = data.rename(columns = {'Order Priority':'Order_Priority'})\n",
    "'''\n",
    "median_imputer = SimpleImputer(missing_values=np.nan,strategy='median')\n",
    "most_imputer = SimpleImputer(missing_values=np.nan,strategy='most_frequent')\n",
    "data.Quantity = median_imputer.fit_transform(data[['Quantity']])\n",
    "data.Discount = median_imputer.fit_transform(data[['Discount']])\n",
    "data.Profit = median_imputer.fit_transform(data[['Profit']])\n",
    "data.Shipping_Cost = median_imputer.fit_transform(data[['Shipping_Cost']])\n",
    "\n",
    "# Decidimos substituir pela mediana pela distribuição desta variável.\n",
    "data.Sales = median_imputer.fit_transform(data[['Sales']])\n",
    "'''\n",
    "#data['Product Name'] = data['Product Name'].mode().iloc[0]\n",
    "#data.Order_Priority = most_imputer2.fit_transform(data[['Order_Priority']])\n",
    "\n",
    "print(\"Total de valores nulos \")\n",
    "print(data.isnull().sum())\n"
   ]
  },
  {
   "cell_type": "code",
   "execution_count": 21,
   "metadata": {},
   "outputs": [
    {
     "data": {
      "text/plain": [
       "'\\nc = [\\'Quantity\\',\\'Discount\\',\\'Shipping_Cost\\']\\nfor column in c:\\n    outliers = []\\n# def detect_outliers_iqr(dataset):\\n    #dataset[column] = sorted(dataset[column])\\n    Q1 = dataset[column].quantile[0.25]\\n    Q2 = dataset[column].quantile[0.75]\\n    #q1 = np.percentile(dataset[column], 25)\\n    #q3 = np.percentile(dataset[column], 75)\\n    # print(q1, q3)\\n    IQR = Q3-Q1\\n    lwr_bound = Q1-(1.5*IQR)\\n    upr_bound = Q3+(1.5*IQR)\\n    # print(lwr_bound, upr_bound)\\n    for i in data: \\n        if (i<lwr_bound or i>upr_bound):\\n            outliers.append(i)\\n    print(\"Outliers: \", outliers)\\n'"
      ]
     },
     "execution_count": 21,
     "metadata": {},
     "output_type": "execute_result"
    }
   ],
   "source": [
    "# Tenho de ver com a Murta se está correto, já estava em comentário, acho, mas não tenho a certeza.\n",
    "\n",
    "\"\"\"\n",
    "c = ['Quantity','Discount','Shipping_Cost']\n",
    "for column in c:\n",
    "    outliers = []\n",
    "# def detect_outliers_iqr(dataset):\n",
    "    #dataset[column] = sorted(dataset[column])\n",
    "    Q1 = dataset[column].quantile[0.25]\n",
    "    Q2 = dataset[column].quantile[0.75]\n",
    "    #q1 = np.percentile(dataset[column], 25)\n",
    "    #q3 = np.percentile(dataset[column], 75)\n",
    "    # print(q1, q3)\n",
    "    IQR = Q3-Q1\n",
    "    lwr_bound = Q1-(1.5*IQR)\n",
    "    upr_bound = Q3+(1.5*IQR)\n",
    "    # print(lwr_bound, upr_bound)\n",
    "    for i in data: \n",
    "        if (i<lwr_bound or i>upr_bound):\n",
    "            outliers.append(i)\n",
    "    print(\"Outliers: \", outliers)\n",
    "\"\"\""
   ]
  },
  {
   "cell_type": "code",
   "execution_count": 22,
   "metadata": {},
   "outputs": [
    {
     "name": "stdout",
     "output_type": "stream",
     "text": [
      "\n",
      " State 's com mais de 1% de valores\n",
      "\n",
      "Other                     79.388672\n",
      "California                 3.865234\n",
      "England                    2.927734\n",
      "New York                   2.187500\n",
      "Ile-de-France              1.916016\n",
      "Texas                      1.906250\n",
      "New South Wales            1.525391\n",
      "North Rhine-Westphalia     1.404297\n",
      "Queensland                 1.400391\n",
      "San Salvador               1.201172\n",
      "Pennsylvania               1.138672\n",
      "National Capital           1.138672\n",
      "Name: State, dtype: float64\n",
      "\n",
      " Country 's com mais de 1% de valores\n",
      "\n",
      "Other                 24.707031\n",
      "United States         19.343750\n",
      "Australia              5.541016\n",
      "France                 5.521484\n",
      "Mexico                 5.164062\n",
      "Germany                4.033203\n",
      "China                  3.671875\n",
      "United Kingdom         3.189453\n",
      "Brazil                 3.123047\n",
      "India                  3.037109\n",
      "Indonesia              2.714844\n",
      "Turkey                 2.691406\n",
      "Italy                  2.164062\n",
      "Nigeria                1.767578\n",
      "Spain                  1.677734\n",
      "Dominican Republic     1.449219\n",
      "El Salvador            1.437500\n",
      "Cuba                   1.414062\n",
      "Honduras               1.392578\n",
      "Philippines            1.330078\n",
      "New Zealand            1.226562\n",
      "Nicaragua              1.199219\n",
      "Iran                   1.185547\n",
      "Guatemala              1.017578\n",
      "Name: Country, dtype: float64\n",
      "\n",
      " Region 's com mais de 1% de valores\n",
      "\n",
      "Central           21.683594\n",
      "South             12.947266\n",
      "EMEA               9.822266\n",
      "North              9.345703\n",
      "Africa             8.958984\n",
      "Oceania            6.810547\n",
      "West               6.191406\n",
      "Southeast Asia     6.111328\n",
      "East               5.511719\n",
      "North Asia         4.566406\n",
      "Central Asia       4.000000\n",
      "Caribbean          3.300781\n",
      "Name: Region, dtype: float64\n",
      "\n",
      " Sub-Category 's com mais de 1% de valores\n",
      "\n",
      "Binders        12.015625\n",
      "Storage         9.880859\n",
      "Art             9.464844\n",
      "Paper           6.910156\n",
      "Chairs          6.707031\n",
      "Phones          6.556641\n",
      "Furnishings     6.191406\n",
      "Accessories     6.005859\n",
      "Labels          5.089844\n",
      "Supplies        4.736328\n",
      "Fasteners       4.726562\n",
      "Bookcases       4.708984\n",
      "Envelopes       4.652344\n",
      "Copiers         4.341797\n",
      "Appliances      3.427734\n",
      "Machines        2.902344\n",
      "Tables          1.681641\n",
      "Name: Sub-Category, dtype: float64\n"
     ]
    }
   ],
   "source": [
    "# Juntar países e cidades cuja frequência é menor que uma especificada, para dados categóricos\n",
    "# Esses dados são: \"State\", \"City\", \"Country\", \"Market\", \"Region\"\n",
    "#show_frequencies_categorys()\n",
    "percentage = 1\n",
    "\n",
    "data3 = data\n",
    "for coluna in [\"State\", \"City\", \"Country\", \"Market\", \"Region\" ]:\n",
    "\n",
    "        #print(coluna)\n",
    "        series = data3.value_counts(data3[coluna])\n",
    "        mask = (series/series.sum() * 100).lt(percentage)\n",
    "        #print(mask,\"\\n\\n\")\n",
    "        data3[coluna] = np.where(data3[coluna].isin(series[mask].index),'Other',data3[coluna])\n",
    "\n",
    "data = data3\n",
    "show_frequencies_categorys()"
   ]
  },
  {
   "cell_type": "code",
   "execution_count": 23,
   "metadata": {},
   "outputs": [
    {
     "name": "stdout",
     "output_type": "stream",
     "text": [
      "0  Row ID\n",
      "32298    0.0\n",
      "26341    0.1\n",
      "25330    0.1\n",
      "13524    0.1\n",
      "47221    0.0\n",
      "        ... \n",
      "24175    0.1\n",
      "29002    0.0\n",
      "35398    0.8\n",
      "9596     0.0\n",
      "6147     0.0\n",
      "Name: Discount, Length: 51200, dtype: float64\n",
      "1 0.0\n",
      "2 0.85\n",
      "3 [0.   0.17 0.34 0.51 0.68 0.85]\n",
      "               Order ID  Order Date   Ship Date       Ship Mode Customer ID  \\\n",
      "Row ID                                                                        \n",
      "32298    CA-2012-124891  31-07-2012  31-07-2012        Same Day    RH-19495   \n",
      "26341     IN-2013-77878  05-02-2013  07-02-2013    Second Class    JR-16210   \n",
      "25330     IN-2013-71249  17-10-2013  18-10-2013     First Class    CR-12730   \n",
      "13524   ES-2013-1579342  28-01-2013  30-01-2013     First Class    KM-16375   \n",
      "47221      SG-2013-4320  05-11-2013  06-11-2013        Same Day     RH-9495   \n",
      "...                 ...         ...         ...             ...         ...   \n",
      "24175     IN-2014-57662  05-08-2014  10-08-2014  Standard Class    DB-13270   \n",
      "29002     IN-2014-62366  19-06-2014  19-06-2014        Same Day    KE-16420   \n",
      "35398    US-2014-102288  20-06-2014  24-06-2014  Standard Class    ZC-21910   \n",
      "9596     MX-2012-140767  18-02-2012  22-02-2012  Standard Class    RB-19795   \n",
      "6147     MX-2012-134460  22-05-2012  26-05-2012    Second Class    MC-18100   \n",
      "\n",
      "            Customer Name      Segment           City            State  \\\n",
      "Row ID                                                                   \n",
      "32298         Rick Hansen     Consumer  New York City         New York   \n",
      "26341       Justin Ritter    Corporate          Other  New South Wales   \n",
      "25330        Craig Reiter     Consumer          Other       Queensland   \n",
      "13524    Katherine Murray  Home Office          Other            Other   \n",
      "47221         Rick Hansen     Consumer          Other            Other   \n",
      "...                   ...          ...            ...              ...   \n",
      "24175   Deborah Brumfield  Home Office          Other       Queensland   \n",
      "29002     Katrina Edelman    Corporate          Other            Other   \n",
      "35398    Zuschuss Carroll     Consumer          Other            Texas   \n",
      "9596           Ross Baird  Home Office          Other            Other   \n",
      "6147        Mick Crebagga     Consumer          Other            Other   \n",
      "\n",
      "              Country  ...        Product ID         Category Sub-Category  \\\n",
      "Row ID                 ...                                                   \n",
      "32298   United States  ...   TEC-AC-10003033       Technology  Accessories   \n",
      "26341       Australia  ...   FUR-CH-10003950        Furniture       Chairs   \n",
      "25330       Australia  ...   TEC-PH-10004664       Technology       Phones   \n",
      "13524         Germany  ...   TEC-PH-10004583       Technology       Phones   \n",
      "47221           Other  ...  TEC-SHA-10000501       Technology      Copiers   \n",
      "...               ...  ...               ...              ...          ...   \n",
      "24175       Australia  ...   OFF-BI-10002424  Office Supplies      Binders   \n",
      "29002           Other  ...   OFF-FA-10000746  Office Supplies    Fasteners   \n",
      "35398   United States  ...   OFF-AP-10002906  Office Supplies   Appliances   \n",
      "9596           Brazil  ...   OFF-BI-10000806  Office Supplies      Binders   \n",
      "6147        Nicaragua  ...   OFF-PA-10004155  Office Supplies        Paper   \n",
      "\n",
      "                                             Product Name     Sales Quantity  \\\n",
      "Row ID                                                                         \n",
      "32298   Plantronics CS510 - Over-the-Head monaural Wir...  2309.650      7.0   \n",
      "26341           Novimex Executive Leather Armchair, Black  3709.395      9.0   \n",
      "25330                   Nokia Smart Phone, with Caller ID  5175.171      9.0   \n",
      "13524                      Motorola Smart Phone, Cordless  2892.510      5.0   \n",
      "47221                      Sharp Wireless Fax, High-Speed  2832.960      8.0   \n",
      "...                                                   ...       ...      ...   \n",
      "24175                               Avery Binder, Economy    58.050      5.0   \n",
      "29002                       Advantus Thumb Tacks, 12 Pack    65.100      5.0   \n",
      "35398   Hoover Replacement Belt for Commercial Guardsm...     0.444      1.0   \n",
      "9596                              Acco Index Tab, Economy    13.440      2.0   \n",
      "6147              Eaton Computer Printout Paper, 8.5 x 11    61.380      3.0   \n",
      "\n",
      "         Discount    Profit Shipping_Cost  Order_Priority  \n",
      "Row ID                                                     \n",
      "32298   0.00-0.17  762.1845        933.57        Critical  \n",
      "26341   0.00-0.17 -288.7650        923.63        Critical  \n",
      "25330   0.00-0.17  919.9710        915.49          Medium  \n",
      "13524   0.00-0.17  -96.5400        910.16          Medium  \n",
      "47221   0.00-0.17  311.5200        903.04        Critical  \n",
      "...           ...       ...           ...             ...  \n",
      "24175   0.00-0.17   19.9500          0.01          Medium  \n",
      "29002   0.00-0.17    4.5000          0.01          Medium  \n",
      "35398   0.68-0.85   -1.1100          0.01          Medium  \n",
      "9596    0.00-0.17    2.4000          0.00          Medium  \n",
      "6147    0.00-0.17    1.8000          0.00            High  \n",
      "\n",
      "[51200 rows x 22 columns]\n"
     ]
    }
   ],
   "source": [
    "data4 = data\n",
    "number_bins = 6\n",
    "\n",
    "from pandas.api.types import is_numeric_dtype\n",
    "if is_numeric_dtype(data4['Discount']):\n",
    "    # Bins in discount\n",
    "    print(\"0 \", data4['Discount'])\n",
    "    min_value = data4['Discount'].min()\n",
    "    print(\"1\", min_value)\n",
    "    max_value = data4['Discount'].max()\n",
    "    print(\"2\", max_value)\n",
    "    limits_bins = np.linspace(min_value,max_value , num=number_bins)\n",
    "    print(\"3\", limits_bins)\n",
    "    labels_names = []\n",
    "    for i in range(0, len(limits_bins) - 1):\n",
    "#    print(\"Olá\")   \n",
    "        v1 = '{:.2f}'.format(limits_bins[i])\n",
    "        v2 = '{:.2f}'.format(limits_bins[i+1])\n",
    "        labels_names.append(f'{v1}-{v2}')\n",
    "    #print(\"v1: \", limits_bins[i])\n",
    "    #print(\"v2: \", limits_bins[i+1])\n",
    "    #print(\"----\")\n",
    "#    data4.loc[data4['score'].between(0, 50, 'both'), 'grade'] = 'C'\n",
    "#print(labels_names)\n",
    "    data4['Discount'] = pd.cut(x = data4['Discount'], bins = limits_bins, labels = labels_names, include_lowest = True)\n",
    "    print(data4)\n",
    "data = data4"
   ]
  },
  {
   "cell_type": "code",
   "execution_count": 24,
   "metadata": {},
   "outputs": [],
   "source": [
    "\n",
    "# Tratar das datas\n",
    "data2 = data\n",
    "# Acho que se pode remover este bloco, está igual lá para baixo\n",
    "if \"Order Date\" in data2:\n",
    "    consider_year = True\n",
    "    consider_month = True\n",
    "    consider_day = True\n",
    "else: \n",
    "    consider_year = False\n",
    "    consider_month = False\n",
    "    consider_day = False\n",
    "    \n",
    "# Converter datas, acho que já está feito em cima, depois confirmar\n",
    "dates_order = DatetimeIndex(pd.to_datetime(data2['Order Date'],format='%d-%m-%Y', errors='coerce'))\n",
    "dates_ship = DatetimeIndex(pd.to_datetime(data2['Ship Date'],format='%d-%m-%Y', errors='coerce'))\n",
    "if consider_year : \n",
    "    data2['Year_order'] = dates_order.year\n",
    "    data2['Year_ship'] = dates_ship.year\n",
    "    \n",
    "if consider_month : \n",
    "    data2['Month_order'] = dates_order.month\n",
    "    data2['Month_ship'] = dates_ship.month\n",
    "\n",
    "if consider_day : \n",
    "    data2['Day_order'] = dates_order.day\n",
    "    data2['Day_ship'] = dates_ship.day\n",
    "if 'Order Date' in data2:\n",
    "    data2 = data2.drop(['Order Date', 'Ship Date'], axis=1)\n",
    "\n",
    "data = data2"
   ]
  },
  {
   "cell_type": "code",
   "execution_count": 25,
   "metadata": {},
   "outputs": [
    {
     "name": "stdout",
     "output_type": "stream",
     "text": [
      "\n",
      "Após fazer Label Encoding\n",
      "               Order ID Ship Mode      Customer Name      Segment  \\\n",
      "Row ID                                                              \n",
      "32298    CA-2012-124891         1        Rick Hansen     Consumer   \n",
      "26341     IN-2013-77878         3      Justin Ritter    Corporate   \n",
      "25330     IN-2013-71249         2       Craig Reiter     Consumer   \n",
      "13524   ES-2013-1579342         2   Katherine Murray  Home Office   \n",
      "47221      SG-2013-4320         1        Rick Hansen     Consumer   \n",
      "...                 ...       ...                ...          ...   \n",
      "24175     IN-2014-57662         4  Deborah Brumfield  Home Office   \n",
      "29002     IN-2014-62366         1    Katrina Edelman    Corporate   \n",
      "35398    US-2014-102288         4   Zuschuss Carroll     Consumer   \n",
      "9596     MX-2012-140767         4         Ross Baird  Home Office   \n",
      "6147     MX-2012-134460         3      Mick Crebagga     Consumer   \n",
      "\n",
      "                 City            State        Country  Market      Region  \\\n",
      "Row ID                                                                      \n",
      "32298   New York City         New York  United States      US        East   \n",
      "26341           Other  New South Wales      Australia    APAC     Oceania   \n",
      "25330           Other       Queensland      Australia    APAC     Oceania   \n",
      "13524           Other            Other        Germany      EU     Central   \n",
      "47221           Other            Other          Other  Africa      Africa   \n",
      "...               ...              ...            ...     ...         ...   \n",
      "24175           Other       Queensland      Australia    APAC     Oceania   \n",
      "29002           Other            Other          Other    APAC  North Asia   \n",
      "35398           Other            Texas  United States      US     Central   \n",
      "9596            Other            Other         Brazil   LATAM       South   \n",
      "6147            Other            Other      Nicaragua   LATAM     Central   \n",
      "\n",
      "                                             Product Name  ...  Year_ship  \\\n",
      "Row ID                                                     ...              \n",
      "32298   Plantronics CS510 - Over-the-Head monaural Wir...  ...       2012   \n",
      "26341           Novimex Executive Leather Armchair, Black  ...       2013   \n",
      "25330                   Nokia Smart Phone, with Caller ID  ...       2013   \n",
      "13524                      Motorola Smart Phone, Cordless  ...       2013   \n",
      "47221                      Sharp Wireless Fax, High-Speed  ...       2013   \n",
      "...                                                   ...  ...        ...   \n",
      "24175                               Avery Binder, Economy  ...       2014   \n",
      "29002                       Advantus Thumb Tacks, 12 Pack  ...       2014   \n",
      "35398   Hoover Replacement Belt for Commercial Guardsm...  ...       2014   \n",
      "9596                              Acco Index Tab, Economy  ...       2012   \n",
      "6147              Eaton Computer Printout Paper, 8.5 x 11  ...       2012   \n",
      "\n",
      "        Month_order  Month_ship  Day_order  Day_ship  Product ID LabelEnc  \\\n",
      "Row ID                                                                      \n",
      "32298             7           7         31        31                 8229   \n",
      "26341             2           2          5         7                  907   \n",
      "25330            10          10         17        18                10140   \n",
      "13524             1           1         28        30                10129   \n",
      "47221            11          11          5         6                10232   \n",
      "...             ...         ...        ...       ...                  ...   \n",
      "24175             8           8          5        10                 3683   \n",
      "29002             6           6         19        19                 4793   \n",
      "35398             6           6         20        24                 2622   \n",
      "9596              2           2         18        22                 3484   \n",
      "6147              5           5         22        26                 6546   \n",
      "\n",
      "        Costumer ID LabelEnc  Category LabelEnc  Sub-Category LabelEnc  \\\n",
      "Row ID                                                                   \n",
      "32298                   1286                  2                      0   \n",
      "26341                    808                  0                      5   \n",
      "25330                    336                  2                     13   \n",
      "13524                    873                  2                     13   \n",
      "47221                   1290                  2                      6   \n",
      "...                      ...                ...                    ...   \n",
      "24175                    383                  1                      3   \n",
      "29002                    854                  1                      8   \n",
      "35398                   1587                  1                      1   \n",
      "9596                    1249                  1                      3   \n",
      "6147                     981                  1                     12   \n",
      "\n",
      "        Discount LabelEnc  \n",
      "Row ID                     \n",
      "32298                   0  \n",
      "26341                   0  \n",
      "25330                   0  \n",
      "13524                   0  \n",
      "47221                   0  \n",
      "...                   ...  \n",
      "24175                   0  \n",
      "29002                   0  \n",
      "35398                   4  \n",
      "9596                    0  \n",
      "6147                    0  \n",
      "\n",
      "[51200 rows x 26 columns]\n"
     ]
    }
   ],
   "source": [
    "# Label encoding de algumas variáveis\n",
    "from sklearn.preprocessing import LabelEncoder\n",
    "\n",
    "if \"Category\" in data2:\n",
    "    process_Product_ID = True\n",
    "    process_Costumer_ID = True\n",
    "    process_Category = True\n",
    "    process_Sub_Category = True\n",
    "    process_Discount = True\n",
    "else: \n",
    "    process_Product_ID = False\n",
    "    process_Costumer_ID = False\n",
    "    process_Category = False\n",
    "    process_Sub_Category = False\n",
    "    process_Discount = False\n",
    "\n",
    "lb_make = LabelEncoder()\n",
    "\n",
    "if process_Product_ID:\n",
    "    data2[\"Product ID LabelEnc\"] = lb_make.fit_transform(data2[\"Product ID\"])\n",
    "\n",
    "if process_Costumer_ID:\n",
    "    data2[\"Costumer ID LabelEnc\"] = lb_make.fit_transform(data2[\"Customer ID\"])\n",
    "\n",
    "if process_Category:\n",
    "    data2[\"Category LabelEnc\"] = lb_make.fit_transform(data2[\"Category\"])\n",
    "\n",
    "if process_Sub_Category:\n",
    "    data2[\"Sub-Category LabelEnc\"] = lb_make.fit_transform(data2[\"Sub-Category\"])\n",
    "if process_Discount:\n",
    "    data2[\"Discount LabelEnc\"] = lb_make.fit_transform(data2[\"Discount\"])\n",
    "\n",
    "    \n",
    "if process_Product_ID: \n",
    "    data2 = data2.drop(['Product ID', 'Customer ID', \"Category\", \"Sub-Category\", \"Discount\"], axis=1)\n",
    "#from pandas.api.types import is_string_dtype\n",
    "\n",
    "if data2['Ship Mode'].dtype == 'category' or data2['Ship Mode'].dtype == 'object':\n",
    "   # print(\"Ship mode ainda está em categorias\")\n",
    "    #print(data2['Ship Mode'].unique())\n",
    "    ship_mode_dic = {'Same Day':1, 'First Class':2, 'Second Class':3,'Standard Class':4}\n",
    "    #dataTemp = pd.DataFrame({\"Ship Mode\": ship_mode_dic.keys()})\n",
    "    #print(\"Aqui vai\\n\")\n",
    "    data2[\"Ship Mode\"]= data2[\"Ship Mode\"].apply(lambda x: ship_mode_dic.get(x))\n",
    "    #print(data2)\n",
    "\n",
    "if \"Order_Priority\" in data2 and (data2['Order_Priority'].dtype == 'category' or data2['Order_Priority'].dtype == 'object'):\n",
    "    dataTemp = data2\n",
    "    # print(\"Ship mode ainda está em categorias\")\n",
    "    #print(dataTemp['Order_Priority'].unique())\n",
    "    priorities_dic = {'Critical':1, 'High':2, 'Medium':3,'Low':4}\n",
    "    #dataTemp = pd.DataFrame({\"Order_Priority\": priorities_dic.keys()})\n",
    "    #print(\"Aqui vai\\n\")\n",
    "    dataTemp[\"Order_Priority\"]= dataTemp[\"Order_Priority\"].apply(lambda x: priorities_dic.get(x))\n",
    "    #print(dataTemp.info())\n",
    "    data2 = dataTemp\n",
    "    \n",
    "print(\"\\nApós fazer Label Encoding\")\n",
    "print(data2)\n"
   ]
  },
  {
   "cell_type": "markdown",
   "metadata": {},
   "source": [
    "# Coisas que faltam:\n",
    "- Visualizar datas\n",
    "- Arranjar o Order_Priority, não percebo como é que desapareceu, mas vou conseguir :)"
   ]
  },
  {
   "cell_type": "markdown",
   "metadata": {},
   "source": [
    "# Modelação\n"
   ]
  },
  {
   "cell_type": "code",
   "execution_count": 26,
   "metadata": {},
   "outputs": [],
   "source": [
    "\n",
    "from sklearn.model_selection import train_test_split\n",
    "from sklearn.model_selection import cross_val_score\n",
    "\n",
    "from sklearn.tree import DecisionTreeClassifier\n",
    "from sklearn.tree import DecisionTreeRegressor\n",
    "\n",
    "from sklearn.metrics import confusion_matrix, ConfusionMatrixDisplay\n",
    "from sklearn.metrics import recall_score\n",
    "from sklearn.metrics import accuracy_score\n",
    "from sklearn.metrics import precision_score\n",
    "from sklearn.metrics import roc_curve\n",
    "from sklearn.metrics import f1_score\n",
    "from sklearn.metrics import fbeta_score\n",
    "from sklearn.metrics import mean_absolute_error\n",
    "from sklearn.metrics import mean_squared_error\n"
   ]
  },
  {
   "cell_type": "markdown",
   "metadata": {},
   "source": [
    "### O target é o profit. Depois remover colunas de ID's\n"
   ]
  },
  {
   "cell_type": "code",
   "execution_count": 27,
   "metadata": {},
   "outputs": [],
   "source": [
    "#dataset = dataset.drop(columns=['Order ID', 'Customer ID', 'Customer Name', 'Product ID', 'Product Name', 'Postal Code'])"
   ]
  },
  {
   "cell_type": "code",
   "execution_count": 28,
   "metadata": {},
   "outputs": [
    {
     "name": "stdout",
     "output_type": "stream",
     "text": [
      "<class 'pandas.core.frame.DataFrame'>\n",
      "Int64Index: 51290 entries, 32298 to 6147\n",
      "Data columns (total 19 columns):\n",
      " #   Column          Non-Null Count  Dtype  \n",
      "---  ------          --------------  -----  \n",
      " 0   Order ID        51290 non-null  object \n",
      " 1   Order Date      51290 non-null  object \n",
      " 2   Ship Date       51290 non-null  object \n",
      " 3   Ship Mode       51290 non-null  object \n",
      " 4   Customer ID     51290 non-null  object \n",
      " 5   Customer Name   51290 non-null  object \n",
      " 6   Segment         51290 non-null  object \n",
      " 7   City            51290 non-null  object \n",
      " 8   State           51290 non-null  object \n",
      " 9   Country         51290 non-null  object \n",
      " 10  Postal Code     9994 non-null   float64\n",
      " 11  Market          51290 non-null  object \n",
      " 12  Region          51290 non-null  object \n",
      " 13  Product ID      51290 non-null  object \n",
      " 14  Category        51290 non-null  object \n",
      " 15  Sub-Category    51290 non-null  object \n",
      " 16  Product Name    51251 non-null  object \n",
      " 17  Profit          51200 non-null  float64\n",
      " 18  Order Priority  51200 non-null  object \n",
      "dtypes: float64(2), object(17)\n",
      "memory usage: 7.8+ MB\n",
      "None\n"
     ]
    }
   ],
   "source": [
    "#dataset.reset_index(drop=True)\n",
    "#dataset1 = pd.read_excel('Global_Superstore2.xlsx', index_col=0, comment='#') \n",
    "dataset = dataset.drop(columns=['Quantity', 'Discount', 'Shipping Cost', 'Sales'])\n",
    "#print(dataset)\n",
    "\n",
    "y = dataset['Profit']\n",
    "print(dataset.info())\n",
    "X = dataset.drop(['Profit', 'Order ID', 'Customer Name', 'Product Name','Postal Code', 'Region', 'City' ], axis=1)\n",
    "\n",
    "#print(X)"
   ]
  },
  {
   "cell_type": "code",
   "execution_count": 29,
   "metadata": {},
   "outputs": [],
   "source": [
    "from sklearn.model_selection import train_test_split\n",
    "\n",
    "# Para testar, falta corrigir estas categorias:\n",
    "if 'Order Priority' in X:\n",
    "    X = X.drop(['Order Priority', 'Market', \"Country\", \"State\", \"Segment\", \"Ship Mode\"], axis=1)\n",
    "\n",
    "    \n",
    "\n"
   ]
  },
  {
   "cell_type": "code",
   "execution_count": 30,
   "metadata": {},
   "outputs": [
    {
     "ename": "IntCastingNaNError",
     "evalue": "Cannot convert non-finite values (NA or inf) to integer",
     "output_type": "error",
     "traceback": [
      "\u001b[1;31m---------------------------------------------------------------------------\u001b[0m",
      "\u001b[1;31mIntCastingNaNError\u001b[0m                        Traceback (most recent call last)",
      "Input \u001b[1;32mIn [30]\u001b[0m, in \u001b[0;36m<cell line: 26>\u001b[1;34m()\u001b[0m\n\u001b[0;32m      6\u001b[0m \u001b[38;5;124;03m\"\"\"\u001b[39;00m\n\u001b[0;32m      7\u001b[0m \n\u001b[0;32m      8\u001b[0m \u001b[38;5;124;03m#Acho que podemos converter os mais importantes para one-hot enconding ou algo do género. Depois continuo\u001b[39;00m\n\u001b[1;32m   (...)\u001b[0m\n\u001b[0;32m     23\u001b[0m \u001b[38;5;124;03mprint(y.info())\u001b[39;00m\n\u001b[0;32m     24\u001b[0m \u001b[38;5;124;03m\"\"\"\u001b[39;00m\n\u001b[0;32m     25\u001b[0m \u001b[38;5;66;03m# Para este\u001b[39;00m\n\u001b[1;32m---> 26\u001b[0m y_train \u001b[38;5;241m=\u001b[39m \u001b[43my_train\u001b[49m\u001b[38;5;241;43m.\u001b[39;49m\u001b[43mastype\u001b[49m\u001b[43m(\u001b[49m\u001b[38;5;28;43mint\u001b[39;49m\u001b[43m)\u001b[49m\n\u001b[0;32m     27\u001b[0m y_train_transformed \u001b[38;5;241m=\u001b[39m lb_make\u001b[38;5;241m.\u001b[39mfit_transform(y_train)\n\u001b[0;32m     29\u001b[0m \u001b[38;5;66;03m# Análise de variáveis que são do tipo float, para descobrir se é necessário multiplicar para não se perder informação na conversão para int.\u001b[39;00m\n",
      "File \u001b[1;32m~\\anaconda3\\lib\\site-packages\\pandas\\core\\generic.py:5912\u001b[0m, in \u001b[0;36mNDFrame.astype\u001b[1;34m(self, dtype, copy, errors)\u001b[0m\n\u001b[0;32m   5905\u001b[0m     results \u001b[38;5;241m=\u001b[39m [\n\u001b[0;32m   5906\u001b[0m         \u001b[38;5;28mself\u001b[39m\u001b[38;5;241m.\u001b[39miloc[:, i]\u001b[38;5;241m.\u001b[39mastype(dtype, copy\u001b[38;5;241m=\u001b[39mcopy)\n\u001b[0;32m   5907\u001b[0m         \u001b[38;5;28;01mfor\u001b[39;00m i \u001b[38;5;129;01min\u001b[39;00m \u001b[38;5;28mrange\u001b[39m(\u001b[38;5;28mlen\u001b[39m(\u001b[38;5;28mself\u001b[39m\u001b[38;5;241m.\u001b[39mcolumns))\n\u001b[0;32m   5908\u001b[0m     ]\n\u001b[0;32m   5910\u001b[0m \u001b[38;5;28;01melse\u001b[39;00m:\n\u001b[0;32m   5911\u001b[0m     \u001b[38;5;66;03m# else, only a single dtype is given\u001b[39;00m\n\u001b[1;32m-> 5912\u001b[0m     new_data \u001b[38;5;241m=\u001b[39m \u001b[38;5;28;43mself\u001b[39;49m\u001b[38;5;241;43m.\u001b[39;49m\u001b[43m_mgr\u001b[49m\u001b[38;5;241;43m.\u001b[39;49m\u001b[43mastype\u001b[49m\u001b[43m(\u001b[49m\u001b[43mdtype\u001b[49m\u001b[38;5;241;43m=\u001b[39;49m\u001b[43mdtype\u001b[49m\u001b[43m,\u001b[49m\u001b[43m \u001b[49m\u001b[43mcopy\u001b[49m\u001b[38;5;241;43m=\u001b[39;49m\u001b[43mcopy\u001b[49m\u001b[43m,\u001b[49m\u001b[43m \u001b[49m\u001b[43merrors\u001b[49m\u001b[38;5;241;43m=\u001b[39;49m\u001b[43merrors\u001b[49m\u001b[43m)\u001b[49m\n\u001b[0;32m   5913\u001b[0m     \u001b[38;5;28;01mreturn\u001b[39;00m \u001b[38;5;28mself\u001b[39m\u001b[38;5;241m.\u001b[39m_constructor(new_data)\u001b[38;5;241m.\u001b[39m__finalize__(\u001b[38;5;28mself\u001b[39m, method\u001b[38;5;241m=\u001b[39m\u001b[38;5;124m\"\u001b[39m\u001b[38;5;124mastype\u001b[39m\u001b[38;5;124m\"\u001b[39m)\n\u001b[0;32m   5915\u001b[0m \u001b[38;5;66;03m# GH 33113: handle empty frame or series\u001b[39;00m\n",
      "File \u001b[1;32m~\\anaconda3\\lib\\site-packages\\pandas\\core\\internals\\managers.py:419\u001b[0m, in \u001b[0;36mBaseBlockManager.astype\u001b[1;34m(self, dtype, copy, errors)\u001b[0m\n\u001b[0;32m    418\u001b[0m \u001b[38;5;28;01mdef\u001b[39;00m \u001b[38;5;21mastype\u001b[39m(\u001b[38;5;28mself\u001b[39m: T, dtype, copy: \u001b[38;5;28mbool\u001b[39m \u001b[38;5;241m=\u001b[39m \u001b[38;5;28;01mFalse\u001b[39;00m, errors: \u001b[38;5;28mstr\u001b[39m \u001b[38;5;241m=\u001b[39m \u001b[38;5;124m\"\u001b[39m\u001b[38;5;124mraise\u001b[39m\u001b[38;5;124m\"\u001b[39m) \u001b[38;5;241m-\u001b[39m\u001b[38;5;241m>\u001b[39m T:\n\u001b[1;32m--> 419\u001b[0m     \u001b[38;5;28;01mreturn\u001b[39;00m \u001b[38;5;28;43mself\u001b[39;49m\u001b[38;5;241;43m.\u001b[39;49m\u001b[43mapply\u001b[49m\u001b[43m(\u001b[49m\u001b[38;5;124;43m\"\u001b[39;49m\u001b[38;5;124;43mastype\u001b[39;49m\u001b[38;5;124;43m\"\u001b[39;49m\u001b[43m,\u001b[49m\u001b[43m \u001b[49m\u001b[43mdtype\u001b[49m\u001b[38;5;241;43m=\u001b[39;49m\u001b[43mdtype\u001b[49m\u001b[43m,\u001b[49m\u001b[43m \u001b[49m\u001b[43mcopy\u001b[49m\u001b[38;5;241;43m=\u001b[39;49m\u001b[43mcopy\u001b[49m\u001b[43m,\u001b[49m\u001b[43m \u001b[49m\u001b[43merrors\u001b[49m\u001b[38;5;241;43m=\u001b[39;49m\u001b[43merrors\u001b[49m\u001b[43m)\u001b[49m\n",
      "File \u001b[1;32m~\\anaconda3\\lib\\site-packages\\pandas\\core\\internals\\managers.py:304\u001b[0m, in \u001b[0;36mBaseBlockManager.apply\u001b[1;34m(self, f, align_keys, ignore_failures, **kwargs)\u001b[0m\n\u001b[0;32m    302\u001b[0m         applied \u001b[38;5;241m=\u001b[39m b\u001b[38;5;241m.\u001b[39mapply(f, \u001b[38;5;241m*\u001b[39m\u001b[38;5;241m*\u001b[39mkwargs)\n\u001b[0;32m    303\u001b[0m     \u001b[38;5;28;01melse\u001b[39;00m:\n\u001b[1;32m--> 304\u001b[0m         applied \u001b[38;5;241m=\u001b[39m \u001b[38;5;28mgetattr\u001b[39m(b, f)(\u001b[38;5;241m*\u001b[39m\u001b[38;5;241m*\u001b[39mkwargs)\n\u001b[0;32m    305\u001b[0m \u001b[38;5;28;01mexcept\u001b[39;00m (\u001b[38;5;167;01mTypeError\u001b[39;00m, \u001b[38;5;167;01mNotImplementedError\u001b[39;00m):\n\u001b[0;32m    306\u001b[0m     \u001b[38;5;28;01mif\u001b[39;00m \u001b[38;5;129;01mnot\u001b[39;00m ignore_failures:\n",
      "File \u001b[1;32m~\\anaconda3\\lib\\site-packages\\pandas\\core\\internals\\blocks.py:580\u001b[0m, in \u001b[0;36mBlock.astype\u001b[1;34m(self, dtype, copy, errors)\u001b[0m\n\u001b[0;32m    562\u001b[0m \u001b[38;5;124;03m\"\"\"\u001b[39;00m\n\u001b[0;32m    563\u001b[0m \u001b[38;5;124;03mCoerce to the new dtype.\u001b[39;00m\n\u001b[0;32m    564\u001b[0m \n\u001b[1;32m   (...)\u001b[0m\n\u001b[0;32m    576\u001b[0m \u001b[38;5;124;03mBlock\u001b[39;00m\n\u001b[0;32m    577\u001b[0m \u001b[38;5;124;03m\"\"\"\u001b[39;00m\n\u001b[0;32m    578\u001b[0m values \u001b[38;5;241m=\u001b[39m \u001b[38;5;28mself\u001b[39m\u001b[38;5;241m.\u001b[39mvalues\n\u001b[1;32m--> 580\u001b[0m new_values \u001b[38;5;241m=\u001b[39m \u001b[43mastype_array_safe\u001b[49m\u001b[43m(\u001b[49m\u001b[43mvalues\u001b[49m\u001b[43m,\u001b[49m\u001b[43m \u001b[49m\u001b[43mdtype\u001b[49m\u001b[43m,\u001b[49m\u001b[43m \u001b[49m\u001b[43mcopy\u001b[49m\u001b[38;5;241;43m=\u001b[39;49m\u001b[43mcopy\u001b[49m\u001b[43m,\u001b[49m\u001b[43m \u001b[49m\u001b[43merrors\u001b[49m\u001b[38;5;241;43m=\u001b[39;49m\u001b[43merrors\u001b[49m\u001b[43m)\u001b[49m\n\u001b[0;32m    582\u001b[0m new_values \u001b[38;5;241m=\u001b[39m maybe_coerce_values(new_values)\n\u001b[0;32m    583\u001b[0m newb \u001b[38;5;241m=\u001b[39m \u001b[38;5;28mself\u001b[39m\u001b[38;5;241m.\u001b[39mmake_block(new_values)\n",
      "File \u001b[1;32m~\\anaconda3\\lib\\site-packages\\pandas\\core\\dtypes\\cast.py:1292\u001b[0m, in \u001b[0;36mastype_array_safe\u001b[1;34m(values, dtype, copy, errors)\u001b[0m\n\u001b[0;32m   1289\u001b[0m     dtype \u001b[38;5;241m=\u001b[39m dtype\u001b[38;5;241m.\u001b[39mnumpy_dtype\n\u001b[0;32m   1291\u001b[0m \u001b[38;5;28;01mtry\u001b[39;00m:\n\u001b[1;32m-> 1292\u001b[0m     new_values \u001b[38;5;241m=\u001b[39m \u001b[43mastype_array\u001b[49m\u001b[43m(\u001b[49m\u001b[43mvalues\u001b[49m\u001b[43m,\u001b[49m\u001b[43m \u001b[49m\u001b[43mdtype\u001b[49m\u001b[43m,\u001b[49m\u001b[43m \u001b[49m\u001b[43mcopy\u001b[49m\u001b[38;5;241;43m=\u001b[39;49m\u001b[43mcopy\u001b[49m\u001b[43m)\u001b[49m\n\u001b[0;32m   1293\u001b[0m \u001b[38;5;28;01mexcept\u001b[39;00m (\u001b[38;5;167;01mValueError\u001b[39;00m, \u001b[38;5;167;01mTypeError\u001b[39;00m):\n\u001b[0;32m   1294\u001b[0m     \u001b[38;5;66;03m# e.g. astype_nansafe can fail on object-dtype of strings\u001b[39;00m\n\u001b[0;32m   1295\u001b[0m     \u001b[38;5;66;03m#  trying to convert to float\u001b[39;00m\n\u001b[0;32m   1296\u001b[0m     \u001b[38;5;28;01mif\u001b[39;00m errors \u001b[38;5;241m==\u001b[39m \u001b[38;5;124m\"\u001b[39m\u001b[38;5;124mignore\u001b[39m\u001b[38;5;124m\"\u001b[39m:\n",
      "File \u001b[1;32m~\\anaconda3\\lib\\site-packages\\pandas\\core\\dtypes\\cast.py:1237\u001b[0m, in \u001b[0;36mastype_array\u001b[1;34m(values, dtype, copy)\u001b[0m\n\u001b[0;32m   1234\u001b[0m     values \u001b[38;5;241m=\u001b[39m values\u001b[38;5;241m.\u001b[39mastype(dtype, copy\u001b[38;5;241m=\u001b[39mcopy)\n\u001b[0;32m   1236\u001b[0m \u001b[38;5;28;01melse\u001b[39;00m:\n\u001b[1;32m-> 1237\u001b[0m     values \u001b[38;5;241m=\u001b[39m \u001b[43mastype_nansafe\u001b[49m\u001b[43m(\u001b[49m\u001b[43mvalues\u001b[49m\u001b[43m,\u001b[49m\u001b[43m \u001b[49m\u001b[43mdtype\u001b[49m\u001b[43m,\u001b[49m\u001b[43m \u001b[49m\u001b[43mcopy\u001b[49m\u001b[38;5;241;43m=\u001b[39;49m\u001b[43mcopy\u001b[49m\u001b[43m)\u001b[49m\n\u001b[0;32m   1239\u001b[0m \u001b[38;5;66;03m# in pandas we don't store numpy str dtypes, so convert to object\u001b[39;00m\n\u001b[0;32m   1240\u001b[0m \u001b[38;5;28;01mif\u001b[39;00m \u001b[38;5;28misinstance\u001b[39m(dtype, np\u001b[38;5;241m.\u001b[39mdtype) \u001b[38;5;129;01mand\u001b[39;00m \u001b[38;5;28missubclass\u001b[39m(values\u001b[38;5;241m.\u001b[39mdtype\u001b[38;5;241m.\u001b[39mtype, \u001b[38;5;28mstr\u001b[39m):\n",
      "File \u001b[1;32m~\\anaconda3\\lib\\site-packages\\pandas\\core\\dtypes\\cast.py:1148\u001b[0m, in \u001b[0;36mastype_nansafe\u001b[1;34m(arr, dtype, copy, skipna)\u001b[0m\n\u001b[0;32m   1145\u001b[0m     \u001b[38;5;28;01mraise\u001b[39;00m \u001b[38;5;167;01mTypeError\u001b[39;00m(\u001b[38;5;124mf\u001b[39m\u001b[38;5;124m\"\u001b[39m\u001b[38;5;124mcannot astype a timedelta from [\u001b[39m\u001b[38;5;132;01m{\u001b[39;00marr\u001b[38;5;241m.\u001b[39mdtype\u001b[38;5;132;01m}\u001b[39;00m\u001b[38;5;124m] to [\u001b[39m\u001b[38;5;132;01m{\u001b[39;00mdtype\u001b[38;5;132;01m}\u001b[39;00m\u001b[38;5;124m]\u001b[39m\u001b[38;5;124m\"\u001b[39m)\n\u001b[0;32m   1147\u001b[0m \u001b[38;5;28;01melif\u001b[39;00m np\u001b[38;5;241m.\u001b[39missubdtype(arr\u001b[38;5;241m.\u001b[39mdtype, np\u001b[38;5;241m.\u001b[39mfloating) \u001b[38;5;129;01mand\u001b[39;00m np\u001b[38;5;241m.\u001b[39missubdtype(dtype, np\u001b[38;5;241m.\u001b[39minteger):\n\u001b[1;32m-> 1148\u001b[0m     \u001b[38;5;28;01mreturn\u001b[39;00m \u001b[43mastype_float_to_int_nansafe\u001b[49m\u001b[43m(\u001b[49m\u001b[43marr\u001b[49m\u001b[43m,\u001b[49m\u001b[43m \u001b[49m\u001b[43mdtype\u001b[49m\u001b[43m,\u001b[49m\u001b[43m \u001b[49m\u001b[43mcopy\u001b[49m\u001b[43m)\u001b[49m\n\u001b[0;32m   1150\u001b[0m \u001b[38;5;28;01melif\u001b[39;00m is_object_dtype(arr\u001b[38;5;241m.\u001b[39mdtype):\n\u001b[0;32m   1151\u001b[0m \n\u001b[0;32m   1152\u001b[0m     \u001b[38;5;66;03m# work around NumPy brokenness, #1987\u001b[39;00m\n\u001b[0;32m   1153\u001b[0m     \u001b[38;5;28;01mif\u001b[39;00m np\u001b[38;5;241m.\u001b[39missubdtype(dtype\u001b[38;5;241m.\u001b[39mtype, np\u001b[38;5;241m.\u001b[39minteger):\n",
      "File \u001b[1;32m~\\anaconda3\\lib\\site-packages\\pandas\\core\\dtypes\\cast.py:1193\u001b[0m, in \u001b[0;36mastype_float_to_int_nansafe\u001b[1;34m(values, dtype, copy)\u001b[0m\n\u001b[0;32m   1189\u001b[0m \u001b[38;5;124;03m\"\"\"\u001b[39;00m\n\u001b[0;32m   1190\u001b[0m \u001b[38;5;124;03mastype with a check preventing converting NaN to an meaningless integer value.\u001b[39;00m\n\u001b[0;32m   1191\u001b[0m \u001b[38;5;124;03m\"\"\"\u001b[39;00m\n\u001b[0;32m   1192\u001b[0m \u001b[38;5;28;01mif\u001b[39;00m \u001b[38;5;129;01mnot\u001b[39;00m np\u001b[38;5;241m.\u001b[39misfinite(values)\u001b[38;5;241m.\u001b[39mall():\n\u001b[1;32m-> 1193\u001b[0m     \u001b[38;5;28;01mraise\u001b[39;00m IntCastingNaNError(\n\u001b[0;32m   1194\u001b[0m         \u001b[38;5;124m\"\u001b[39m\u001b[38;5;124mCannot convert non-finite values (NA or inf) to integer\u001b[39m\u001b[38;5;124m\"\u001b[39m\n\u001b[0;32m   1195\u001b[0m     )\n\u001b[0;32m   1196\u001b[0m \u001b[38;5;28;01mreturn\u001b[39;00m values\u001b[38;5;241m.\u001b[39mastype(dtype, copy\u001b[38;5;241m=\u001b[39mcopy)\n",
      "\u001b[1;31mIntCastingNaNError\u001b[0m: Cannot convert non-finite values (NA or inf) to integer"
     ]
    }
   ],
   "source": [
    "\n",
    "\n",
    "\n",
    "X_train, X_test, y_train, y_test = train_test_split(X, y, test_size=0.2, random_state=101)\n",
    "clf = DecisionTreeClassifier(random_state=2021)\n",
    "\n",
    "\n",
    "#X_train1 = X_train[X_train.isna().any(axis=1)]\n",
    "\"\"\"\n",
    "\n",
    "#Acho que podemos converter os mais importantes para one-hot enconding ou algo do género. Depois continuo\n",
    "print(\"Será que há Na\\n\")\n",
    "count = np.isnan(X_train).values.sum()\n",
    "count = np.isnan(X_train).any()\n",
    "print(\"\\nX -> It contains \" + str(count) + \" nan values\\n\")\n",
    "count = np.isnan(y_train).values.sum()\n",
    "print(\"Y -> It contains \" + str(count) + \" nan values\")\n",
    "print(\"Será que há Inf\")\n",
    "\n",
    "count = np.isinf(X_train).values.sum()\n",
    "print(\"X -> It contains \" + str(count) + \" infinite values\")\n",
    "count = np.isinf(y_train).values.sum()\n",
    "print(\"Y -> It contains \" + str(count) + \" infinite values\")\n",
    "\n",
    "print(X.info())\n",
    "print(y.info())\n",
    "\"\"\"\n",
    "# Para este\n",
    "y_train = y_train.astype(int)\n",
    "y_train_transformed = lb_make.fit_transform(y_train)\n",
    "\n",
    "# Análise de variáveis que são do tipo float, para descobrir se é necessário multiplicar para não se perder informação na conversão para int.\n",
    "\n",
    "\n",
    "\n",
    "\n",
    "\n",
    "X_train_transformed = {}\n",
    "for coisa in X_train:\n",
    "    #print(X_train[coisa])\n",
    "    X_train_transformed[coisa] = lb_make.fit_transform(X_train[coisa]) \n",
    "# X_train_transformed = lb_make.fit_transform(X_train)\n",
    "\n",
    "\n",
    "#X_train = X_train.filter(['Quantity'])\n",
    "\n",
    "clf.fit(X_train, y_train)\n",
    "predictions = clf.predict(X_test)\n",
    "\n",
    "\n",
    "#scores = cross_val_score(clf, X, y, cv=5)"
   ]
  },
  {
   "cell_type": "code",
   "execution_count": null,
   "metadata": {},
   "outputs": [],
   "source": [
    "# Métricas\n",
    "print(mean_absolute_error(y_test, predictions))\n",
    "print(mean_squared_error(y_test, predictions, squared=True))\n",
    "print(mean_squared_error(y_test, predictions, squared=True))"
   ]
  },
  {
   "cell_type": "code",
   "execution_count": null,
   "metadata": {},
   "outputs": [],
   "source": [
    "### Regressão linear\n"
   ]
  },
  {
   "cell_type": "code",
   "execution_count": null,
   "metadata": {},
   "outputs": [],
   "source": [
    "from sklearn.linear_model import LinearRegression\n",
    "\n",
    "lm = LinearRegression()\n",
    "lm.fit(X_train, y_train)"
   ]
  },
  {
   "cell_type": "code",
   "execution_count": null,
   "metadata": {},
   "outputs": [],
   "source": [
    "predictions = lm.predict(X_test)\n",
    "sns.distplot((y_test - predictions), bins=4)"
   ]
  },
  {
   "cell_type": "code",
   "execution_count": null,
   "metadata": {},
   "outputs": [],
   "source": [
    "from sklearn import metrics\n",
    "\n",
    "print ('MAE: ', metrics.mean_absolute_error(y_test, predictions))\n",
    "print ('MSE: ', metrics.mean_squared_error(y_test, predictions))\n",
    "print('RMSE: ', np.sqrt(metrics.mean_squared_error(y_test, predictions)))\n"
   ]
  },
  {
   "cell_type": "markdown",
   "metadata": {},
   "source": [
    "### Neurónios\n"
   ]
  },
  {
   "cell_type": "code",
   "execution_count": null,
   "metadata": {},
   "outputs": [],
   "source": [
    "dataset_MLP = dataset.drop(columns=['Order ID', 'Customer ID', 'Customer Name', 'Product ID', 'Product Name', 'Postal Code'])\n",
    "dataset_MLP = dataset_MLP.drop(['Order Priority', 'Market', \"City\", \"Segment\", \"Ship Mode\", \"Ship Date\"], axis=1)\n",
    "print(dataset_MLP.info())"
   ]
  },
  {
   "cell_type": "code",
   "execution_count": null,
   "metadata": {},
   "outputs": [],
   "source": [
    "import tensorflow as tf\n",
    "\n",
    "from tensorflow.keras.models import Sequential\n",
    "\n",
    "from tensorflow.keras.layers import Dense, Dropout, BatchNormalization\n",
    "from tensorflow.keras.wrappers.scikit_learn import KerasRegressor\n",
    "\n",
    "from sklearn.model_selection import GridSearchCV, KFold, train_test_split\n",
    "from sklearn.preprocessing import MinMaxScaler\n",
    "\n",
    "RANDOM_SEED = 2021\n",
    "\n",
    "print(\"Tensorflow version:\", tf.__version__)\n",
    "\n",
    "\n",
    "\n"
   ]
  },
  {
   "cell_type": "code",
   "execution_count": null,
   "metadata": {},
   "outputs": [],
   "source": [
    "X_MLP = dataset_MLP.drop('Profit', axis=1)\n",
    "y_MLP = dataset_MLP[['Profit']]\n",
    "print(X_MLP.info())\n",
    "\n",
    "# Convert data\n",
    "if \"Order Date\" in X_MLP:\n",
    "    consider_year = True\n",
    "    consider_month = True\n",
    "    consider_day = True\n",
    "else: \n",
    "    consider_year = False\n",
    "    consider_month = False\n",
    "    consider_day = False\n",
    "    \n",
    "# Converter datas \n",
    "dates_order = DatetimeIndex(pd.to_datetime(X_MLP['Order Date'],format='%d-%m-%Y', errors='coerce'))\n",
    "if consider_year : \n",
    "    X_MLP['Year_order'] = dates_order.year\n",
    "    \n",
    "if consider_month : \n",
    "    X_MLP['Month_order'] = dates_order.month\n",
    "    \n",
    "if consider_day : \n",
    "    X_MLP['Day_order'] = dates_order.day\n",
    "    \n",
    "if 'Order Date' in X_MLP:\n",
    "    X_MLP = X_MLP.drop(['Order Date'], axis=1)\n",
    "#print(X)\n",
    "# Convert ID's to Label encoding\n",
    "from sklearn.preprocessing import LabelEncoder\n",
    "\n",
    "if \"State\" in X_MLP:\n",
    "    list_to_process = [\"State\", \"Country\", \"Region\", \"Category\", \"Sub-Category\"]\n",
    "\n",
    "lb_make = LabelEncoder()\n",
    "\n",
    "if list_to_process:\n",
    "    for column in list_to_process:\n",
    "        X_MLP[column] = lb_make.fit_transform(X_MLP[column]) \n",
    "\n",
    "\n",
    "\n",
    "scaler_X = MinMaxScaler(feature_range=(0, 1)).fit(X_MLP)\n",
    "\n",
    "scaler_y = MinMaxScaler(feature_range=(0, 1)).fit(y_MLP)\n",
    "\n",
    "X_scaled = pd.DataFrame(scaler_X.transform(X_MLP[X_MLP.columns]), columns=X_MLP.columns)\n",
    "y_scaled = pd.DataFrame(scaler_y.transform(y_MLP[y_MLP.columns]), columns=y_MLP.columns)\n",
    "\n"
   ]
  },
  {
   "cell_type": "code",
   "execution_count": null,
   "metadata": {},
   "outputs": [],
   "source": [
    "X_scaled=X_scaled.dropna().reset_index(drop=True)\n",
    "y_scaled=y_scaled.dropna().reset_index(drop=True)\n",
    "\n",
    "\n",
    "\n",
    "X_train, X_test, y_train, y_test = train_test_split(X_scaled, y_scaled, test_size=0.2, random_state=RANDOM_SEED)\n",
    "\n",
    "number_columns = len(X_scaled.columns)#.count()\n",
    "#print(\"Número de colunas: \", number_columns)\n",
    "\n",
    "def build_model(activation='relu', learning_rate=0.01):\n",
    "#create a sequential model (with three Layers - Last one is the output)\n",
    "    model = Sequential()\n",
    "    model.add(Dense(number_columns, input_dim=number_columns, activation=activation))\n",
    "    model.add(Dense(6, activation=activation))\n",
    "    model.add(Dense(1, activation='relu'))\n",
    "  \n",
    "     #compile the model\n",
    "    #Define the Loss function, the otimizer and metrics to be used\n",
    "    model. compile(\n",
    "        loss = 'mae',\n",
    "        optimizer = tf.optimizers.Adam(learning_rate),\n",
    "        metrics = ['mae', 'mse'])\n",
    "    return model\n",
    "\n",
    "model = build_model()\n",
    "model.summary()\n",
    "TUNING_DICT = {\n",
    "    'activation' : ['relu', 'sigmoid'],\n",
    "    'learning_rate' : [0.01, 0.001]\n",
    "}\n",
    "\n",
    "kf = KFold(n_splits=2, shuffle=True, random_state=RANDOM_SEED)\n",
    "\n",
    "model = KerasRegressor(build_fn=build_model, epochs=15,batch_size=number_columns)\n",
    "grid_search = GridSearchCV(estimator = model,\n",
    "                            param_grid = TUNING_DICT,\n",
    "                            cv = kf,\n",
    "                            scoring = 'neg_mean_absolute_error',\n",
    "                            refit ='True',\n",
    "                            verbose = 1)\n",
    "\n",
    "grid_search.fit(X_train, y_train, validation_split=0.2)\n",
    "\n",
    "\"\"\"\n",
    "def BuildModel():\n",
    "     model = Sequential()\n",
    "     model.add(Dense(128, input_dim=12,activation='relu')) \n",
    "     model.add(Dense(32, activation='relu')) \n",
    "     model.add(Dense(8,activation='relu')) \n",
    "     model.add(Dense(1,activation='linear'))\n",
    "     model.compile(loss=\"mean_squared_error\", optimizer=\"adam\")   \n",
    "     return model\n",
    "\n",
    "BuildModel().summary()\n",
    "\n",
    "regressor = KerasRegressor(build_fn=BuildModel,epochs=20,batch_size=12)\n",
    "print(X_scaled)\n",
    "print(y_scaled)\n",
    "regressor.fit(X_scaled,y_scaled) \n",
    "\n",
    "y_pred = regressor.predict(X_scaled)\n",
    " \n",
    "\n",
    "mse_krr = mean_squared_error(y_scaled, y_pred)\n",
    "\n",
    "\"\"\""
   ]
  },
  {
   "cell_type": "code",
   "execution_count": null,
   "metadata": {},
   "outputs": [],
   "source": [
    "# Overfitting analisys\n",
    "\n",
    "#Our best model (remember we set refit\n",
    "best_mlp_model = grid_search.best_estimator_\n",
    "\n",
    "from livelossplot import PlotLossesKerasTF\n",
    "best_mlp_model.fit(X_train, y_train, epochs=20,\n",
    "validation_data=(X_test, y_test),\n",
    "callbacks=[PlotLossesKerasTF()], verbose=1)\n",
    "\n",
    " \n",
    "\n"
   ]
  },
  {
   "cell_type": "code",
   "execution_count": null,
   "metadata": {},
   "outputs": [],
   "source": [
    " #0btain predictions\n",
    "\n",
    "predictions = best_mlp_model.predict(X_test)\n",
    "\n",
    "predictions = predictions.reshape(predictions.shape[0], 1)\n",
    "predicions_unscaled = scaler_y.inverse_transform(predictions)\n",
    "predicions_unscaled[:5]\n"
   ]
  },
  {
   "cell_type": "code",
   "execution_count": null,
   "metadata": {},
   "outputs": [],
   "source": [
    "y_test_unscaled = scaler_y.inverse_transform(y_test)\n",
    "\n",
    "#Visualising the actual and predicted result\n",
    "def real_predicted_viz(limit):\n",
    "    plt.figure(figsize=(14,6))\n",
    "    plt.plot(y_test_unscaled[:limit], color = 'green', label = 'Actual')\n",
    "    plt.plot (predicions_unscaled[:limit], color = 'red', label = 'Predicted')\n",
    "    plt.grid(alpha = 0.3)\n",
    "    plt.xlabel('I don`t know')\n",
    "    plt.ylabel ('Profit')\n",
    "    plt.title('Real vs Predicted')\n",
    "    plt.legend()\n",
    "    plt.show()\n",
    "\n",
    "#let's Limit to 200 comparisions for better visualization\n",
    "real_predicted_viz(200)\n"
   ]
  },
  {
   "cell_type": "code",
   "execution_count": null,
   "metadata": {},
   "outputs": [],
   "source": [
    "\n",
    "print(\"Best: %f using %s\" % (grid_search.best_score_, grid_search.best_params_))\n",
    "means = grid_search.cv_results_['mean_test_score']\n",
    "stds = grid_search.cv_results_['std_test_score']\n",
    "params = grid_search.cv_results_['params']\n",
    "for mean, stdev, param in zip(means, stds, params):\n",
    "    print(\"%f (%f) with: %r\" % (mean, stdev, param))\n"
   ]
  },
  {
   "cell_type": "code",
   "execution_count": null,
   "metadata": {},
   "outputs": [],
   "source": []
  }
 ],
 "metadata": {
  "kernelspec": {
   "display_name": "Python 3 (ipykernel)",
   "language": "python",
   "name": "python3"
  },
  "language_info": {
   "codemirror_mode": {
    "name": "ipython",
    "version": 3
   },
   "file_extension": ".py",
   "mimetype": "text/x-python",
   "name": "python",
   "nbconvert_exporter": "python",
   "pygments_lexer": "ipython3",
   "version": "3.9.12"
  },
  "vscode": {
   "interpreter": {
    "hash": "369f2c481f4da34e4445cda3fffd2e751bd1c4d706f27375911949ba6bb62e1c"
   }
  }
 },
 "nbformat": 4,
 "nbformat_minor": 4
}
