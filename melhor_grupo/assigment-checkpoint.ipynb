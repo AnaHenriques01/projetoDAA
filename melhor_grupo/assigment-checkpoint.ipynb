{
 "cells": [
  {
   "cell_type": "markdown",
   "metadata": {},
   "source": [
    "Imports"
   ]
  },
  {
   "cell_type": "code",
   "execution_count": 1,
   "metadata": {
    "tags": []
   },
   "outputs": [],
   "source": [
    "import pandas as pd\n",
    "import numpy as np\n",
    "import matplotlib.pyplot as plt\n",
    "import seaborn as sns\n",
    "import time\n",
    "from sklearn.model_selection import train_test_split\n",
    "from sklearn.impute import SimpleImputer\n",
    "%matplotlib inline"
   ]
  },
  {
   "cell_type": "markdown",
   "metadata": {},
   "source": [
    "# Carregamento de dados"
   ]
  },
  {
   "cell_type": "code",
   "execution_count": 2,
   "metadata": {
    "tags": []
   },
   "outputs": [],
   "source": [
    "data = pd.read_excel('Global_Superstore2.xlsx', index_col=0, comment='#') \n",
    "dataset = pd.read_excel('Global_Superstore2.xlsx', index_col=0, comment='#') "
   ]
  },
  {
   "cell_type": "markdown",
   "metadata": {
    "tags": []
   },
   "source": [
    "# Exploração dos dados"
   ]
  },
  {
   "cell_type": "code",
   "execution_count": 3,
   "metadata": {},
   "outputs": [
    {
     "data": {
      "text/html": [
       "<div>\n",
       "<style scoped>\n",
       "    .dataframe tbody tr th:only-of-type {\n",
       "        vertical-align: middle;\n",
       "    }\n",
       "\n",
       "    .dataframe tbody tr th {\n",
       "        vertical-align: top;\n",
       "    }\n",
       "\n",
       "    .dataframe thead th {\n",
       "        text-align: right;\n",
       "    }\n",
       "</style>\n",
       "<table border=\"1\" class=\"dataframe\">\n",
       "  <thead>\n",
       "    <tr style=\"text-align: right;\">\n",
       "      <th></th>\n",
       "      <th>Order ID</th>\n",
       "      <th>Order Date</th>\n",
       "      <th>Ship Date</th>\n",
       "      <th>Ship Mode</th>\n",
       "      <th>Customer ID</th>\n",
       "      <th>Customer Name</th>\n",
       "      <th>Segment</th>\n",
       "      <th>City</th>\n",
       "      <th>State</th>\n",
       "      <th>Country</th>\n",
       "      <th>...</th>\n",
       "      <th>Product ID</th>\n",
       "      <th>Category</th>\n",
       "      <th>Sub-Category</th>\n",
       "      <th>Product Name</th>\n",
       "      <th>Sales</th>\n",
       "      <th>Quantity</th>\n",
       "      <th>Discount</th>\n",
       "      <th>Profit</th>\n",
       "      <th>Shipping Cost</th>\n",
       "      <th>Order Priority</th>\n",
       "    </tr>\n",
       "    <tr>\n",
       "      <th>Row ID</th>\n",
       "      <th></th>\n",
       "      <th></th>\n",
       "      <th></th>\n",
       "      <th></th>\n",
       "      <th></th>\n",
       "      <th></th>\n",
       "      <th></th>\n",
       "      <th></th>\n",
       "      <th></th>\n",
       "      <th></th>\n",
       "      <th></th>\n",
       "      <th></th>\n",
       "      <th></th>\n",
       "      <th></th>\n",
       "      <th></th>\n",
       "      <th></th>\n",
       "      <th></th>\n",
       "      <th></th>\n",
       "      <th></th>\n",
       "      <th></th>\n",
       "      <th></th>\n",
       "    </tr>\n",
       "  </thead>\n",
       "  <tbody>\n",
       "    <tr>\n",
       "      <th>32298</th>\n",
       "      <td>CA-2012-124891</td>\n",
       "      <td>31-07-2012</td>\n",
       "      <td>31-07-2012</td>\n",
       "      <td>Same Day</td>\n",
       "      <td>RH-19495</td>\n",
       "      <td>Rick Hansen</td>\n",
       "      <td>Consumer</td>\n",
       "      <td>New York City</td>\n",
       "      <td>New York</td>\n",
       "      <td>United States</td>\n",
       "      <td>...</td>\n",
       "      <td>TEC-AC-10003033</td>\n",
       "      <td>Technology</td>\n",
       "      <td>Accessories</td>\n",
       "      <td>Plantronics CS510 - Over-the-Head monaural Wir...</td>\n",
       "      <td>2309.650</td>\n",
       "      <td>7.0</td>\n",
       "      <td>0.0</td>\n",
       "      <td>762.1845</td>\n",
       "      <td>933.57</td>\n",
       "      <td>Critical</td>\n",
       "    </tr>\n",
       "    <tr>\n",
       "      <th>26341</th>\n",
       "      <td>IN-2013-77878</td>\n",
       "      <td>05-02-2013</td>\n",
       "      <td>07-02-2013</td>\n",
       "      <td>Second Class</td>\n",
       "      <td>JR-16210</td>\n",
       "      <td>Justin Ritter</td>\n",
       "      <td>Corporate</td>\n",
       "      <td>Wollongong</td>\n",
       "      <td>New South Wales</td>\n",
       "      <td>Australia</td>\n",
       "      <td>...</td>\n",
       "      <td>FUR-CH-10003950</td>\n",
       "      <td>Furniture</td>\n",
       "      <td>Chairs</td>\n",
       "      <td>Novimex Executive Leather Armchair, Black</td>\n",
       "      <td>3709.395</td>\n",
       "      <td>9.0</td>\n",
       "      <td>0.1</td>\n",
       "      <td>-288.7650</td>\n",
       "      <td>923.63</td>\n",
       "      <td>Critical</td>\n",
       "    </tr>\n",
       "    <tr>\n",
       "      <th>25330</th>\n",
       "      <td>IN-2013-71249</td>\n",
       "      <td>17-10-2013</td>\n",
       "      <td>18-10-2013</td>\n",
       "      <td>First Class</td>\n",
       "      <td>CR-12730</td>\n",
       "      <td>Craig Reiter</td>\n",
       "      <td>Consumer</td>\n",
       "      <td>Brisbane</td>\n",
       "      <td>Queensland</td>\n",
       "      <td>Australia</td>\n",
       "      <td>...</td>\n",
       "      <td>TEC-PH-10004664</td>\n",
       "      <td>Technology</td>\n",
       "      <td>Phones</td>\n",
       "      <td>Nokia Smart Phone, with Caller ID</td>\n",
       "      <td>5175.171</td>\n",
       "      <td>9.0</td>\n",
       "      <td>0.1</td>\n",
       "      <td>919.9710</td>\n",
       "      <td>915.49</td>\n",
       "      <td>Medium</td>\n",
       "    </tr>\n",
       "  </tbody>\n",
       "</table>\n",
       "<p>3 rows × 23 columns</p>\n",
       "</div>"
      ],
      "text/plain": [
       "              Order ID  Order Date   Ship Date     Ship Mode Customer ID  \\\n",
       "Row ID                                                                     \n",
       "32298   CA-2012-124891  31-07-2012  31-07-2012      Same Day    RH-19495   \n",
       "26341    IN-2013-77878  05-02-2013  07-02-2013  Second Class    JR-16210   \n",
       "25330    IN-2013-71249  17-10-2013  18-10-2013   First Class    CR-12730   \n",
       "\n",
       "        Customer Name    Segment           City            State  \\\n",
       "Row ID                                                             \n",
       "32298     Rick Hansen   Consumer  New York City         New York   \n",
       "26341   Justin Ritter  Corporate     Wollongong  New South Wales   \n",
       "25330    Craig Reiter   Consumer       Brisbane       Queensland   \n",
       "\n",
       "              Country  ...       Product ID    Category Sub-Category  \\\n",
       "Row ID                 ...                                             \n",
       "32298   United States  ...  TEC-AC-10003033  Technology  Accessories   \n",
       "26341       Australia  ...  FUR-CH-10003950   Furniture       Chairs   \n",
       "25330       Australia  ...  TEC-PH-10004664  Technology       Phones   \n",
       "\n",
       "                                             Product Name     Sales Quantity  \\\n",
       "Row ID                                                                         \n",
       "32298   Plantronics CS510 - Over-the-Head monaural Wir...  2309.650      7.0   \n",
       "26341           Novimex Executive Leather Armchair, Black  3709.395      9.0   \n",
       "25330                   Nokia Smart Phone, with Caller ID  5175.171      9.0   \n",
       "\n",
       "       Discount    Profit  Shipping Cost  Order Priority  \n",
       "Row ID                                                    \n",
       "32298       0.0  762.1845         933.57        Critical  \n",
       "26341       0.1 -288.7650         923.63        Critical  \n",
       "25330       0.1  919.9710         915.49          Medium  \n",
       "\n",
       "[3 rows x 23 columns]"
      ]
     },
     "execution_count": 3,
     "metadata": {},
     "output_type": "execute_result"
    }
   ],
   "source": [
    "data.head(3)"
   ]
  },
  {
   "cell_type": "code",
   "execution_count": 4,
   "metadata": {},
   "outputs": [
    {
     "data": {
      "text/html": [
       "<div>\n",
       "<style scoped>\n",
       "    .dataframe tbody tr th:only-of-type {\n",
       "        vertical-align: middle;\n",
       "    }\n",
       "\n",
       "    .dataframe tbody tr th {\n",
       "        vertical-align: top;\n",
       "    }\n",
       "\n",
       "    .dataframe thead th {\n",
       "        text-align: right;\n",
       "    }\n",
       "</style>\n",
       "<table border=\"1\" class=\"dataframe\">\n",
       "  <thead>\n",
       "    <tr style=\"text-align: right;\">\n",
       "      <th></th>\n",
       "      <th>Postal Code</th>\n",
       "      <th>Sales</th>\n",
       "      <th>Quantity</th>\n",
       "      <th>Discount</th>\n",
       "      <th>Profit</th>\n",
       "      <th>Shipping Cost</th>\n",
       "    </tr>\n",
       "  </thead>\n",
       "  <tbody>\n",
       "    <tr>\n",
       "      <th>count</th>\n",
       "      <td>9994.000000</td>\n",
       "      <td>51200.000000</td>\n",
       "      <td>51200.000000</td>\n",
       "      <td>51200.000000</td>\n",
       "      <td>51200.000000</td>\n",
       "      <td>51200.000000</td>\n",
       "    </tr>\n",
       "    <tr>\n",
       "      <th>mean</th>\n",
       "      <td>55190.379428</td>\n",
       "      <td>246.865006</td>\n",
       "      <td>3.476426</td>\n",
       "      <td>0.143026</td>\n",
       "      <td>28.639338</td>\n",
       "      <td>26.416522</td>\n",
       "    </tr>\n",
       "    <tr>\n",
       "      <th>std</th>\n",
       "      <td>32063.693350</td>\n",
       "      <td>487.908698</td>\n",
       "      <td>2.278923</td>\n",
       "      <td>0.212409</td>\n",
       "      <td>174.491125</td>\n",
       "      <td>57.338685</td>\n",
       "    </tr>\n",
       "    <tr>\n",
       "      <th>min</th>\n",
       "      <td>1040.000000</td>\n",
       "      <td>0.444000</td>\n",
       "      <td>1.000000</td>\n",
       "      <td>0.000000</td>\n",
       "      <td>-6599.978000</td>\n",
       "      <td>0.000000</td>\n",
       "    </tr>\n",
       "    <tr>\n",
       "      <th>25%</th>\n",
       "      <td>23223.000000</td>\n",
       "      <td>30.880000</td>\n",
       "      <td>2.000000</td>\n",
       "      <td>0.000000</td>\n",
       "      <td>0.000000</td>\n",
       "      <td>2.620000</td>\n",
       "    </tr>\n",
       "    <tr>\n",
       "      <th>50%</th>\n",
       "      <td>56430.500000</td>\n",
       "      <td>85.273800</td>\n",
       "      <td>3.000000</td>\n",
       "      <td>0.000000</td>\n",
       "      <td>9.255100</td>\n",
       "      <td>7.810000</td>\n",
       "    </tr>\n",
       "    <tr>\n",
       "      <th>75%</th>\n",
       "      <td>90008.000000</td>\n",
       "      <td>251.640000</td>\n",
       "      <td>5.000000</td>\n",
       "      <td>0.200000</td>\n",
       "      <td>36.841500</td>\n",
       "      <td>24.530000</td>\n",
       "    </tr>\n",
       "    <tr>\n",
       "      <th>max</th>\n",
       "      <td>99301.000000</td>\n",
       "      <td>22638.480000</td>\n",
       "      <td>14.000000</td>\n",
       "      <td>0.850000</td>\n",
       "      <td>8399.976000</td>\n",
       "      <td>933.570000</td>\n",
       "    </tr>\n",
       "  </tbody>\n",
       "</table>\n",
       "</div>"
      ],
      "text/plain": [
       "        Postal Code         Sales      Quantity      Discount        Profit  \\\n",
       "count   9994.000000  51200.000000  51200.000000  51200.000000  51200.000000   \n",
       "mean   55190.379428    246.865006      3.476426      0.143026     28.639338   \n",
       "std    32063.693350    487.908698      2.278923      0.212409    174.491125   \n",
       "min     1040.000000      0.444000      1.000000      0.000000  -6599.978000   \n",
       "25%    23223.000000     30.880000      2.000000      0.000000      0.000000   \n",
       "50%    56430.500000     85.273800      3.000000      0.000000      9.255100   \n",
       "75%    90008.000000    251.640000      5.000000      0.200000     36.841500   \n",
       "max    99301.000000  22638.480000     14.000000      0.850000   8399.976000   \n",
       "\n",
       "       Shipping Cost  \n",
       "count   51200.000000  \n",
       "mean       26.416522  \n",
       "std        57.338685  \n",
       "min         0.000000  \n",
       "25%         2.620000  \n",
       "50%         7.810000  \n",
       "75%        24.530000  \n",
       "max       933.570000  "
      ]
     },
     "execution_count": 4,
     "metadata": {},
     "output_type": "execute_result"
    }
   ],
   "source": [
    "data.describe()"
   ]
  },
  {
   "cell_type": "code",
   "execution_count": 5,
   "metadata": {},
   "outputs": [
    {
     "name": "stdout",
     "output_type": "stream",
     "text": [
      "<class 'pandas.core.frame.DataFrame'>\n",
      "Int64Index: 51290 entries, 32298 to 6147\n",
      "Data columns (total 23 columns):\n",
      " #   Column          Non-Null Count  Dtype  \n",
      "---  ------          --------------  -----  \n",
      " 0   Order ID        51290 non-null  object \n",
      " 1   Order Date      51290 non-null  object \n",
      " 2   Ship Date       51290 non-null  object \n",
      " 3   Ship Mode       51290 non-null  object \n",
      " 4   Customer ID     51290 non-null  object \n",
      " 5   Customer Name   51290 non-null  object \n",
      " 6   Segment         51290 non-null  object \n",
      " 7   City            51290 non-null  object \n",
      " 8   State           51290 non-null  object \n",
      " 9   Country         51290 non-null  object \n",
      " 10  Postal Code     9994 non-null   float64\n",
      " 11  Market          51290 non-null  object \n",
      " 12  Region          51290 non-null  object \n",
      " 13  Product ID      51290 non-null  object \n",
      " 14  Category        51290 non-null  object \n",
      " 15  Sub-Category    51290 non-null  object \n",
      " 16  Product Name    51251 non-null  object \n",
      " 17  Sales           51200 non-null  float64\n",
      " 18  Quantity        51200 non-null  float64\n",
      " 19  Discount        51200 non-null  float64\n",
      " 20  Profit          51200 non-null  float64\n",
      " 21  Shipping Cost   51200 non-null  float64\n",
      " 22  Order Priority  51200 non-null  object \n",
      "dtypes: float64(6), object(17)\n",
      "memory usage: 9.4+ MB\n"
     ]
    }
   ],
   "source": [
    "data.info()"
   ]
  },
  {
   "cell_type": "code",
   "execution_count": 6,
   "metadata": {},
   "outputs": [
    {
     "data": {
      "text/plain": [
       "Order ID          25035\n",
       "Order Date         1430\n",
       "Ship Date          1464\n",
       "Ship Mode             4\n",
       "Customer ID        1590\n",
       "Customer Name       795\n",
       "Segment               3\n",
       "City               3636\n",
       "State              1094\n",
       "Country             147\n",
       "Postal Code         631\n",
       "Market                7\n",
       "Region               13\n",
       "Product ID        10292\n",
       "Category              3\n",
       "Sub-Category         17\n",
       "Product Name       3781\n",
       "Sales             22967\n",
       "Quantity             14\n",
       "Discount             27\n",
       "Profit            24523\n",
       "Shipping Cost     10037\n",
       "Order Priority        4\n",
       "dtype: int64"
      ]
     },
     "execution_count": 6,
     "metadata": {},
     "output_type": "execute_result"
    }
   ],
   "source": [
    "data.nunique() # count number od distinct elements in specified axis. Can ignore NaN values"
   ]
  },
  {
   "cell_type": "code",
   "execution_count": 7,
   "metadata": {},
   "outputs": [
    {
     "name": "stdout",
     "output_type": "stream",
     "text": [
      "Order ID\n",
      "Order Date\n",
      "Ship Date\n",
      "Ship Mode\n",
      "Customer ID\n",
      "Customer Name\n",
      "Segment\n",
      "City\n",
      "State\n",
      "Country\n",
      "Postal Code\n",
      "Market\n",
      "Region\n",
      "Product ID\n",
      "Category\n",
      "Sub-Category\n",
      "Product Name\n",
      "Sales\n",
      "Quantity\n",
      "Discount\n",
      "Profit\n",
      "Shipping Cost\n",
      "Order Priority\n"
     ]
    }
   ],
   "source": [
    "columns = data.columns\n",
    "for i in columns:\n",
    "    if not ( len(data[i].unique()) == len(data) ) :  # se o número de order id,.... unicos não é igual ao número de rows do dataset, então há repetidos\n",
    "        print(i)"
   ]
  },
  {
   "cell_type": "markdown",
   "metadata": {
    "tags": []
   },
   "source": [
    "# Tratamento de dados"
   ]
  },
  {
   "cell_type": "code",
   "execution_count": 8,
   "metadata": {},
   "outputs": [],
   "source": [
    "data = data.drop(columns=['Order ID', 'Customer ID', 'Customer Name', 'Product Name', 'Postal Code'])"
   ]
  },
  {
   "cell_type": "code",
   "execution_count": 9,
   "metadata": {},
   "outputs": [
    {
     "data": {
      "text/plain": [
       "<AxesSubplot:>"
      ]
     },
     "execution_count": 9,
     "metadata": {},
     "output_type": "execute_result"
    },
    {
     "data": {
      "image/png": "[encoded data removed]",
      "text/plain": [
       "<Figure size 432x288 with 2 Axes>"
      ]
     },
     "metadata": {
      "needs_background": "light"
     },
     "output_type": "display_data"
    }
   ],
   "source": [
    "corr_matrix = data.corr()\n",
    "sns.heatmap(corr_matrix, vmin=-1, vmax=1, square=True,annot=True)"
   ]
  },
  {
   "cell_type": "code",
   "execution_count": 10,
   "metadata": {},
   "outputs": [],
   "source": [
    "data = data.drop(['Sales'], axis=1)"
   ]
  },
  {
   "cell_type": "code",
   "execution_count": 11,
   "metadata": {},
   "outputs": [],
   "source": [
    "data['Ship Mode'] = data['Ship Mode'].astype('category')\n",
    "data['Segment'] = data['Segment'].astype('category')\n",
    "data['Country'] = data['Country'].astype('category')\n",
    "data['Market'] = data['Market'].astype('category')\n",
    "data['Region'] = data['Region'].astype('category')\n",
    "data['Category'] = data['Category'].astype('category')\n",
    "data['Sub-Category'] = data['Sub-Category'].astype('category')\n",
    "data['Order Priority'] = data['Order Priority'].astype('category')"
   ]
  },
  {
   "cell_type": "code",
   "execution_count": 12,
   "metadata": {},
   "outputs": [
    {
     "name": "stdout",
     "output_type": "stream",
     "text": [
      "<class 'pandas.core.frame.DataFrame'>\n",
      "Int64Index: 51290 entries, 32298 to 6147\n",
      "Data columns (total 17 columns):\n",
      " #   Column          Non-Null Count  Dtype   \n",
      "---  ------          --------------  -----   \n",
      " 0   Order Date      51290 non-null  object  \n",
      " 1   Ship Date       51290 non-null  object  \n",
      " 2   Ship Mode       51290 non-null  category\n",
      " 3   Segment         51290 non-null  category\n",
      " 4   City            51290 non-null  object  \n",
      " 5   State           51290 non-null  object  \n",
      " 6   Country         51290 non-null  category\n",
      " 7   Market          51290 non-null  category\n",
      " 8   Region          51290 non-null  category\n",
      " 9   Product ID      51290 non-null  object  \n",
      " 10  Category        51290 non-null  category\n",
      " 11  Sub-Category    51290 non-null  category\n",
      " 12  Quantity        51200 non-null  float64 \n",
      " 13  Discount        51200 non-null  float64 \n",
      " 14  Profit          51200 non-null  float64 \n",
      " 15  Shipping Cost   51200 non-null  float64 \n",
      " 16  Order Priority  51200 non-null  category\n",
      "dtypes: category(8), float64(4), object(5)\n",
      "memory usage: 4.4+ MB\n"
     ]
    }
   ],
   "source": [
    "data.info()"
   ]
  },
  {
   "cell_type": "code",
   "execution_count": 13,
   "metadata": {},
   "outputs": [
    {
     "data": {
      "text/plain": [
       "Order Date         0\n",
       "Ship Date          0\n",
       "Ship Mode          0\n",
       "Segment            0\n",
       "City               0\n",
       "State              0\n",
       "Country            0\n",
       "Market             0\n",
       "Region             0\n",
       "Product ID         0\n",
       "Category           0\n",
       "Sub-Category       0\n",
       "Quantity          90\n",
       "Discount          90\n",
       "Profit            90\n",
       "Shipping Cost     90\n",
       "Order Priority    90\n",
       "dtype: int64"
      ]
     },
     "execution_count": 13,
     "metadata": {},
     "output_type": "execute_result"
    }
   ],
   "source": [
    "data.isnull().sum()\n",
    "#dataset.isnull().sum()/dataset.shape[0]*100"
   ]
  },
  {
   "cell_type": "code",
   "execution_count": 14,
   "metadata": {},
   "outputs": [],
   "source": [
    "data = data.rename(columns = {'Shipping Cost':'Shipping_Cost'})\n",
    "data = data.rename(columns = {'Order Priority':'Order_Priority'})\n",
    "median_imputer = SimpleImputer(missing_values=np.nan,strategy='median')\n",
    "most_imputer = SimpleImputer(missing_values=np.nan,strategy='most_frequent')\n",
    "data.Quantity = median_imputer.fit_transform(data[['Quantity']])\n",
    "data.Discount = median_imputer.fit_transform(data[['Discount']])\n",
    "data.Profit = median_imputer.fit_transform(data[['Profit']])\n",
    "data.Shipping_Cost = median_imputer.fit_transform(data[['Shipping_Cost']])\n",
    "data.Order_Priority = most_imputer.fit_transform(data[['Order_Priority']])"
   ]
  },
  {
   "cell_type": "code",
   "execution_count": 15,
   "metadata": {},
   "outputs": [
    {
     "data": {
      "text/plain": [
       "'\\nc = [\\'Quantity\\',\\'Discount\\',\\'Shipping_Cost\\']\\nfor column in c:\\n    outliers = []\\n# def detect_outliers_iqr(dataset):\\n    #dataset[column] = sorted(dataset[column])\\n    Q1 = dataset[column].quantile[0.25]\\n    Q2 = dataset[column].quantile[0.75]\\n    #q1 = np.percentile(dataset[column], 25)\\n    #q3 = np.percentile(dataset[column], 75)\\n    # print(q1, q3)\\n    IQR = Q3-Q1\\n    lwr_bound = Q1-(1.5*IQR)\\n    upr_bound = Q3+(1.5*IQR)\\n    # print(lwr_bound, upr_bound)\\n    for i in data: \\n        if (i<lwr_bound or i>upr_bound):\\n            outliers.append(i)\\n    print(\"Outliers: \", outliers)\\n'"
      ]
     },
     "execution_count": 15,
     "metadata": {},
     "output_type": "execute_result"
    }
   ],
   "source": [
    "\"\"\"\n",
    "c = ['Quantity','Discount','Shipping_Cost']\n",
    "for column in c:\n",
    "    outliers = []\n",
    "# def detect_outliers_iqr(dataset):\n",
    "    #dataset[column] = sorted(dataset[column])\n",
    "    Q1 = dataset[column].quantile[0.25]\n",
    "    Q2 = dataset[column].quantile[0.75]\n",
    "    #q1 = np.percentile(dataset[column], 25)\n",
    "    #q3 = np.percentile(dataset[column], 75)\n",
    "    # print(q1, q3)\n",
    "    IQR = Q3-Q1\n",
    "    lwr_bound = Q1-(1.5*IQR)\n",
    "    upr_bound = Q3+(1.5*IQR)\n",
    "    # print(lwr_bound, upr_bound)\n",
    "    for i in data: \n",
    "        if (i<lwr_bound or i>upr_bound):\n",
    "            outliers.append(i)\n",
    "    print(\"Outliers: \", outliers)\n",
    "\"\"\""
   ]
  },
  {
   "cell_type": "code",
   "execution_count": 16,
   "metadata": {},
   "outputs": [
    {
     "data": {
      "text/plain": [
       "<AxesSubplot:xlabel='Quantity'>"
      ]
     },
     "execution_count": 16,
     "metadata": {},
     "output_type": "execute_result"
    },
    {
     "data": {
      "image/png": "[encoded data removed]",
      "text/plain": [
       "<Figure size 432x288 with 1 Axes>"
      ]
     },
     "metadata": {
      "needs_background": "light"
     },
     "output_type": "display_data"
    }
   ],
   "source": [
    "sns.boxplot(x = data['Quantity'])"
   ]
  },
  {
   "cell_type": "code",
   "execution_count": 17,
   "metadata": {},
   "outputs": [
    {
     "data": {
      "text/plain": [
       "<AxesSubplot:xlabel='Discount'>"
      ]
     },
     "execution_count": 17,
     "metadata": {},
     "output_type": "execute_result"
    },
    {
     "data": {
      "image/png": "[encoded data removed]",
      "text/plain": [
       "<Figure size 432x288 with 1 Axes>"
      ]
     },
     "metadata": {
      "needs_background": "light"
     },
     "output_type": "display_data"
    }
   ],
   "source": [
    "sns.boxplot(x = data['Discount'])"
   ]
  },
  {
   "cell_type": "code",
   "execution_count": 18,
   "metadata": {},
   "outputs": [
    {
     "data": {
      "text/plain": [
       "<AxesSubplot:xlabel='Shipping_Cost'>"
      ]
     },
     "execution_count": 18,
     "metadata": {},
     "output_type": "execute_result"
    },
    {
     "data": {
      "image/png": "[encoded data removed]",
      "text/plain": [
       "<Figure size 432x288 with 1 Axes>"
      ]
     },
     "metadata": {
      "needs_background": "light"
     },
     "output_type": "display_data"
    }
   ],
   "source": [
    "sns.boxplot(x = data['Shipping_Cost'])"
   ]
  },
  {
   "cell_type": "code",
   "execution_count": 19,
   "metadata": {},
   "outputs": [
    {
     "data": {
      "text/plain": [
       "<AxesSubplot:xlabel='Sub-Category', ylabel='Count'>"
      ]
     },
     "execution_count": 19,
     "metadata": {},
     "output_type": "execute_result"
    },
    {
     "data": {
      "image/png": "[encoded data removed]",
      "text/plain": [
       "<Figure size 432x288 with 1 Axes>"
      ]
     },
     "metadata": {
      "needs_background": "light"
     },
     "output_type": "display_data"
    }
   ],
   "source": [
    "sns.histplot(data['Sub-Category'])"
   ]
  },
  {
   "cell_type": "markdown",
   "metadata": {},
   "source": [
    "# Modelação\n"
   ]
  },
  {
   "cell_type": "code",
   "execution_count": 20,
   "metadata": {},
   "outputs": [],
   "source": [
    "from pandas import DatetimeIndex\n",
    "\n",
    "from sklearn.model_selection import train_test_split\n",
    "from sklearn.model_selection import cross_val_score\n",
    "\n",
    "from sklearn.tree import DecisionTreeClassifier\n",
    "from sklearn.tree import DecisionTreeRegressor\n",
    "\n",
    "from sklearn.metrics import confusion_matrix, ConfusionMatrixDisplay\n",
    "from sklearn.metrics import recall_score\n",
    "from sklearn.metrics import accuracy_score\n",
    "from sklearn.metrics import precision_score\n",
    "from sklearn.metrics import roc_curve\n",
    "from sklearn.metrics import f1_score\n",
    "from sklearn.metrics import fbeta_score\n",
    "from sklearn.metrics import mean_absolute_error\n",
    "from sklearn.metrics import mean_squared_error\n"
   ]
  },
  {
   "cell_type": "markdown",
   "metadata": {},
   "source": [
    "### O target são as sales. Depois melhoro o texto :)"
   ]
  },
  {
   "cell_type": "code",
   "execution_count": 21,
   "metadata": {},
   "outputs": [],
   "source": [
    "#dataset = dataset.drop(columns=['Order ID', 'Customer ID', 'Customer Name', 'Product ID', 'Product Name', 'Postal Code'])"
   ]
  },
  {
   "cell_type": "code",
   "execution_count": 22,
   "metadata": {},
   "outputs": [
    {
     "name": "stdout",
     "output_type": "stream",
     "text": [
      "<class 'pandas.core.frame.DataFrame'>\n",
      "Int64Index: 51290 entries, 32298 to 6147\n",
      "Data columns (total 19 columns):\n",
      " #   Column          Non-Null Count  Dtype  \n",
      "---  ------          --------------  -----  \n",
      " 0   Order ID        51290 non-null  object \n",
      " 1   Order Date      51290 non-null  object \n",
      " 2   Ship Date       51290 non-null  object \n",
      " 3   Ship Mode       51290 non-null  object \n",
      " 4   Customer ID     51290 non-null  object \n",
      " 5   Customer Name   51290 non-null  object \n",
      " 6   Segment         51290 non-null  object \n",
      " 7   City            51290 non-null  object \n",
      " 8   State           51290 non-null  object \n",
      " 9   Country         51290 non-null  object \n",
      " 10  Postal Code     9994 non-null   float64\n",
      " 11  Market          51290 non-null  object \n",
      " 12  Region          51290 non-null  object \n",
      " 13  Product ID      51290 non-null  object \n",
      " 14  Category        51290 non-null  object \n",
      " 15  Sub-Category    51290 non-null  object \n",
      " 16  Product Name    51251 non-null  object \n",
      " 17  Profit          51200 non-null  float64\n",
      " 18  Order Priority  51200 non-null  object \n",
      "dtypes: float64(2), object(17)\n",
      "memory usage: 7.8+ MB\n",
      "None\n"
     ]
    }
   ],
   "source": [
    "#dataset.reset_index(drop=True)\n",
    "#dataset1 = pd.read_excel('Global_Superstore2.xlsx', index_col=0, comment='#') \n",
    "dataset = dataset.drop(columns=['Quantity', 'Discount', 'Shipping Cost', 'Sales'])\n",
    "#print(dataset)\n",
    "\n",
    "y = dataset['Profit']\n",
    "print(dataset.info())\n",
    "X = dataset.drop(['Profit', 'Order ID', 'Customer Name', 'Product Name','Postal Code', 'Region', 'City' ], axis=1)\n",
    "\n",
    "#print(X)"
   ]
  },
  {
   "cell_type": "code",
   "execution_count": 23,
   "metadata": {},
   "outputs": [],
   "source": [
    "# Acho que se pode remover este bloco, está igual lá para baixo\n",
    "if \"Order Date\" in X:\n",
    "    consider_year = True\n",
    "    consider_month = True\n",
    "    consider_day = True\n",
    "else: \n",
    "    consider_year = False\n",
    "    consider_month = False\n",
    "    consider_day = False\n",
    "    \n",
    "# Converter datas \n",
    "dates_order = DatetimeIndex(pd.to_datetime(X['Order Date'],format='%d-%m-%Y', errors='coerce'))\n",
    "dates_ship = DatetimeIndex(pd.to_datetime(X['Ship Date'],format='%d-%m-%Y', errors='coerce'))\n",
    "if consider_year : \n",
    "    X['Year_order'] = dates_order.year\n",
    "    X['Year_ship'] = dates_ship.year\n",
    "    \n",
    "if consider_month : \n",
    "    X['Month_order'] = dates_order.month\n",
    "    X['Month_ship'] = dates_ship.month\n",
    "\n",
    "if consider_day : \n",
    "    X['Day_order'] = dates_order.day\n",
    "    X['Day_ship'] = dates_ship.day\n",
    "if 'Order Date' in X:\n",
    "    X = X.drop(['Order Date', 'Ship Date'], axis=1)\n",
    "#print(X)\n",
    "# Convert ID's to Label encoding\n",
    "from sklearn.preprocessing import LabelEncoder\n",
    "\n",
    "if \"Category\" in X:\n",
    "    process_Product_ID = True\n",
    "    process_Costumer_ID = True\n",
    "    process_Category = True\n",
    "    process_Sub_Category = True\n",
    "else: \n",
    "    process_Product_ID = False\n",
    "    process_Costumer_ID = False\n",
    "    process_Category = False\n",
    "    process_Sub_Category = False\n",
    "\n",
    "lb_make = LabelEncoder()\n",
    "\n",
    "if process_Product_ID:\n",
    "    X[\"Product ID LabelEnc\"] = lb_make.fit_transform(X[\"Product ID\"])\n",
    "\n",
    "if process_Costumer_ID:\n",
    "    X[\"Costumer ID LabelEnc\"] = lb_make.fit_transform(X[\"Customer ID\"])\n",
    "\n",
    "if process_Category:\n",
    "    X[\"Category LabelEnc\"] = lb_make.fit_transform(X[\"Category\"])\n",
    "\n",
    "if process_Sub_Category:\n",
    "    X[\"Sub-Category LabelEnc\"] = lb_make.fit_transform(X[\"Sub-Category\"])\n",
    "\n",
    "if process_Product_ID: \n",
    "    X = X.drop(['Product ID', 'Customer ID', \"Category\", \"Sub-Category\"], axis=1)\n",
    "#print(X)"
   ]
  },
  {
   "cell_type": "code",
   "execution_count": 24,
   "metadata": {},
   "outputs": [],
   "source": [
    "from sklearn.model_selection import train_test_split\n",
    "\n",
    "# Para testar, falta corrigir estas categorias:\n",
    "if 'Order Priority' in X:\n",
    "    X = X.drop(['Order Priority', 'Market', \"Country\", \"State\", \"Segment\", \"Ship Mode\"], axis=1)\n",
    "\n",
    "# Tirar os NaN de y, substituindo pela média\n",
    "mean_value= y.mean()\n",
    "# Trocar infinitos por nan\n",
    "\n",
    "X.replace([np.inf, -np.inf], np.nan, inplace=True)\n",
    "#X.fillna(value=mean_value, inplace=True)\n",
    "y.fillna(value=mean_value, inplace=True)\n",
    "\n",
    "\n"
   ]
  },
  {
   "cell_type": "code",
   "execution_count": 25,
   "metadata": {},
   "outputs": [],
   "source": [
    "\n",
    "\n",
    "\n",
    "X_train, X_test, y_train, y_test = train_test_split(X, y, test_size=0.2, random_state=101)\n",
    "clf = DecisionTreeClassifier(random_state=2021)\n",
    "\n",
    "\n",
    "#X_train1 = X_train[X_train.isna().any(axis=1)]\n",
    "\"\"\"\n",
    "\n",
    "#Acho que podemos converter os mais importantes para one-hot enconding ou algo do género. Depois continuo\n",
    "print(\"Será que há Na\\n\")\n",
    "count = np.isnan(X_train).values.sum()\n",
    "count = np.isnan(X_train).any()\n",
    "print(\"\\nX -> It contains \" + str(count) + \" nan values\\n\")\n",
    "count = np.isnan(y_train).values.sum()\n",
    "print(\"Y -> It contains \" + str(count) + \" nan values\")\n",
    "print(\"Será que há Inf\")\n",
    "\n",
    "count = np.isinf(X_train).values.sum()\n",
    "print(\"X -> It contains \" + str(count) + \" infinite values\")\n",
    "count = np.isinf(y_train).values.sum()\n",
    "print(\"Y -> It contains \" + str(count) + \" infinite values\")\n",
    "\n",
    "print(X.info())\n",
    "print(y.info())\n",
    "\"\"\"\n",
    "# Para este\n",
    "y_train = y_train.astype(int)\n",
    "y_train_transformed = lb_make.fit_transform(y_train)\n",
    "\n",
    "# Análise de variáveis que são do tipo float, para descobrir se é necessário multiplicar para não se perder informação na conversão para int.\n",
    "\n",
    "\n",
    "\n",
    "\n",
    "\n",
    "X_train_transformed = {}\n",
    "for coisa in X_train:\n",
    "    #print(X_train[coisa])\n",
    "    X_train_transformed[coisa] = lb_make.fit_transform(X_train[coisa]) \n",
    "# X_train_transformed = lb_make.fit_transform(X_train)\n",
    "\n",
    "\n",
    "#X_train = X_train.filter(['Quantity'])\n",
    "\n",
    "clf.fit(X_train, y_train)\n",
    "predictions = clf.predict(X_test)\n",
    "\n",
    "\n",
    "#scores = cross_val_score(clf, X, y, cv=5)"
   ]
  },
  {
   "cell_type": "code",
   "execution_count": 26,
   "metadata": {},
   "outputs": [
    {
     "name": "stdout",
     "output_type": "stream",
     "text": [
      "92.37722085800229\n",
      "52802.52277870455\n",
      "52802.52277870455\n"
     ]
    }
   ],
   "source": [
    "# Métricas\n",
    "print(mean_absolute_error(y_test, predictions))\n",
    "print(mean_squared_error(y_test, predictions, squared=True))\n",
    "print(mean_squared_error(y_test, predictions, squared=True))"
   ]
  },
  {
   "cell_type": "code",
   "execution_count": 27,
   "metadata": {},
   "outputs": [],
   "source": [
    "### Regressão linear\n"
   ]
  },
  {
   "cell_type": "code",
   "execution_count": 28,
   "metadata": {},
   "outputs": [
    {
     "data": {
      "text/plain": [
       "LinearRegression()"
      ]
     },
     "execution_count": 28,
     "metadata": {},
     "output_type": "execute_result"
    }
   ],
   "source": [
    "from sklearn.linear_model import LinearRegression\n",
    "\n",
    "lm = LinearRegression()\n",
    "lm.fit(X_train, y_train)"
   ]
  },
  {
   "cell_type": "code",
   "execution_count": 29,
   "metadata": {},
   "outputs": [
    {
     "name": "stderr",
     "output_type": "stream",
     "text": [
      "C:\\ProgramData\\Anaconda3\\lib\\site-packages\\seaborn\\distributions.py:2619: FutureWarning: `distplot` is a deprecated function and will be removed in a future version. Please adapt your code to use either `displot` (a figure-level function with similar flexibility) or `histplot` (an axes-level function for histograms).\n",
      "  warnings.warn(msg, FutureWarning)\n"
     ]
    },
    {
     "data": {
      "text/plain": [
       "<AxesSubplot:xlabel='Profit', ylabel='Density'>"
      ]
     },
     "execution_count": 29,
     "metadata": {},
     "output_type": "execute_result"
    },
    {
     "data": {
      "image/png": "[encoded data removed]",
      "text/plain": [
       "<Figure size 432x288 with 1 Axes>"
      ]
     },
     "metadata": {
      "needs_background": "light"
     },
     "output_type": "display_data"
    }
   ],
   "source": [
    "predictions = lm.predict(X_test)\n",
    "sns.distplot((y_test - predictions), bins=4)"
   ]
  },
  {
   "cell_type": "code",
   "execution_count": 30,
   "metadata": {},
   "outputs": [
    {
     "name": "stdout",
     "output_type": "stream",
     "text": [
      "MAE:  66.95207655873821\n",
      "MSE:  27070.399837704295\n",
      "RMSE:  164.53084767819163\n"
     ]
    }
   ],
   "source": [
    "from sklearn import metrics\n",
    "\n",
    "print ('MAE: ', metrics.mean_absolute_error(y_test, predictions))\n",
    "print ('MSE: ', metrics.mean_squared_error(y_test, predictions))\n",
    "print('RMSE: ', np.sqrt(metrics.mean_squared_error(y_test, predictions)))\n"
   ]
  },
  {
   "cell_type": "markdown",
   "metadata": {},
   "source": [
    "### Neurónios\n"
   ]
  },
  {
   "cell_type": "code",
   "execution_count": 31,
   "metadata": {},
   "outputs": [
    {
     "name": "stdout",
     "output_type": "stream",
     "text": [
      "<class 'pandas.core.frame.DataFrame'>\n",
      "Int64Index: 51290 entries, 32298 to 6147\n",
      "Data columns (total 7 columns):\n",
      " #   Column        Non-Null Count  Dtype  \n",
      "---  ------        --------------  -----  \n",
      " 0   Order Date    51290 non-null  object \n",
      " 1   State         51290 non-null  object \n",
      " 2   Country       51290 non-null  object \n",
      " 3   Region        51290 non-null  object \n",
      " 4   Category      51290 non-null  object \n",
      " 5   Sub-Category  51290 non-null  object \n",
      " 6   Profit        51290 non-null  float64\n",
      "dtypes: float64(1), object(6)\n",
      "memory usage: 3.1+ MB\n",
      "None\n"
     ]
    }
   ],
   "source": [
    "dataset_MLP = dataset.drop(columns=['Order ID', 'Customer ID', 'Customer Name', 'Product ID', 'Product Name', 'Postal Code'])\n",
    "dataset_MLP = dataset_MLP.drop(['Order Priority', 'Market', \"City\", \"Segment\", \"Ship Mode\", \"Ship Date\"], axis=1)\n",
    "print(dataset_MLP.info())"
   ]
  },
  {
   "cell_type": "code",
   "execution_count": 32,
   "metadata": {},
   "outputs": [
    {
     "ename": "ModuleNotFoundError",
     "evalue": "No module named 'tensorflow'",
     "output_type": "error",
     "traceback": [
      "\u001b[1;31m---------------------------------------------------------------------------\u001b[0m",
      "\u001b[1;31mModuleNotFoundError\u001b[0m                       Traceback (most recent call last)",
      "Input \u001b[1;32mIn [32]\u001b[0m, in \u001b[0;36m<cell line: 1>\u001b[1;34m()\u001b[0m\n\u001b[1;32m----> 1\u001b[0m \u001b[38;5;28;01mimport\u001b[39;00m \u001b[38;5;21;01mtensorflow\u001b[39;00m \u001b[38;5;28;01mas\u001b[39;00m \u001b[38;5;21;01mtf\u001b[39;00m\n\u001b[0;32m      3\u001b[0m \u001b[38;5;28;01mfrom\u001b[39;00m \u001b[38;5;21;01mtensorflow\u001b[39;00m\u001b[38;5;21;01m.\u001b[39;00m\u001b[38;5;21;01mkeras\u001b[39;00m\u001b[38;5;21;01m.\u001b[39;00m\u001b[38;5;21;01mmodels\u001b[39;00m \u001b[38;5;28;01mimport\u001b[39;00m Sequential\n\u001b[0;32m      5\u001b[0m \u001b[38;5;28;01mfrom\u001b[39;00m \u001b[38;5;21;01mtensorflow\u001b[39;00m\u001b[38;5;21;01m.\u001b[39;00m\u001b[38;5;21;01mkeras\u001b[39;00m\u001b[38;5;21;01m.\u001b[39;00m\u001b[38;5;21;01mlayers\u001b[39;00m \u001b[38;5;28;01mimport\u001b[39;00m Dense, Dropout, BatchNormalization\n",
      "\u001b[1;31mModuleNotFoundError\u001b[0m: No module named 'tensorflow'"
     ]
    }
   ],
   "source": [
    "import tensorflow as tf\n",
    "\n",
    "from tensorflow.keras.models import Sequential\n",
    "\n",
    "from tensorflow.keras.layers import Dense, Dropout, BatchNormalization\n",
    "from tensorflow.keras.wrappers.scikit_learn import KerasRegressor\n",
    "\n",
    "from sklearn.model_selection import GridSearchCV, KFold, train_test_split\n",
    "from sklearn.preprocessing import MinMaxScaler\n",
    "\n",
    "RANDOM_SEED = 2021\n",
    "\n",
    "print(\"Tensorflow version:\", tf.__version__)\n",
    "\n",
    "\n",
    "\n"
   ]
  },
  {
   "cell_type": "code",
   "execution_count": null,
   "metadata": {},
   "outputs": [],
   "source": [
    "X_MLP = dataset_MLP.drop('Profit', axis=1)\n",
    "y_MLP = dataset_MLP[['Profit']]\n",
    "print(X_MLP.info())\n",
    "\n",
    "# Convert data\n",
    "if \"Order Date\" in X_MLP:\n",
    "    consider_year = True\n",
    "    consider_month = True\n",
    "    consider_day = True\n",
    "else: \n",
    "    consider_year = False\n",
    "    consider_month = False\n",
    "    consider_day = False\n",
    "    \n",
    "# Converter datas \n",
    "dates_order = DatetimeIndex(pd.to_datetime(X_MLP['Order Date'],format='%d-%m-%Y', errors='coerce'))\n",
    "if consider_year : \n",
    "    X_MLP['Year_order'] = dates_order.year\n",
    "    \n",
    "if consider_month : \n",
    "    X_MLP['Month_order'] = dates_order.month\n",
    "    \n",
    "if consider_day : \n",
    "    X_MLP['Day_order'] = dates_order.day\n",
    "    \n",
    "if 'Order Date' in X_MLP:\n",
    "    X_MLP = X_MLP.drop(['Order Date'], axis=1)\n",
    "#print(X)\n",
    "# Convert ID's to Label encoding\n",
    "from sklearn.preprocessing import LabelEncoder\n",
    "\n",
    "if \"State\" in X_MLP:\n",
    "    list_to_process = [\"State\", \"Country\", \"Region\", \"Category\", \"Sub-Category\"]\n",
    "\n",
    "lb_make = LabelEncoder()\n",
    "\n",
    "if list_to_process:\n",
    "    for column in list_to_process:\n",
    "        X_MLP[column] = lb_make.fit_transform(X_MLP[column]) \n",
    "\n",
    "\n",
    "\n",
    "scaler_X = MinMaxScaler(feature_range=(0, 1)).fit(X_MLP)\n",
    "\n",
    "scaler_y = MinMaxScaler(feature_range=(0, 1)).fit(y_MLP)\n",
    "\n",
    "X_scaled = pd.DataFrame(scaler_X.transform(X_MLP[X_MLP.columns]), columns=X_MLP.columns)\n",
    "y_scaled = pd.DataFrame(scaler_y.transform(y_MLP[y_MLP.columns]), columns=y_MLP.columns)\n",
    "\n"
   ]
  },
  {
   "cell_type": "code",
   "execution_count": null,
   "metadata": {},
   "outputs": [],
   "source": [
    "X_scaled=X_scaled.dropna().reset_index(drop=True)\n",
    "y_scaled=y_scaled.dropna().reset_index(drop=True)\n",
    "\n",
    "\n",
    "\n",
    "X_train, X_test, y_train, y_test = train_test_split(X_scaled, y_scaled, test_size=0.2, random_state=RANDOM_SEED)\n",
    "\n",
    "def build_model(activation='relu', learning_rate=0.01):\n",
    "#create a sequential model (with three Layers - Last one is the output)\n",
    "    model = Sequential()\n",
    "    model.add(Dense(12, input_dim=12, activation=activation))\n",
    "    model.add(Dense(6, activation=activation))\n",
    "    model.add(Dense(1, activation='relu'))\n",
    "  \n",
    "     #compile the model\n",
    "    #Define the Loss function, the otimizer and metrics to be used\n",
    "    model. compile(\n",
    "        loss = 'mae',\n",
    "        optimizer = tf.optimizers.Adam(learning_rate),\n",
    "        metrics = ['mae', 'mse'])\n",
    "    return model\n",
    "\n",
    "model = build_model()\n",
    "model.summary()\n",
    "TUNING_DICT = {\n",
    "    'activation' : ['relu', 'sigmoid'],\n",
    "    'learning_rate' : [0.01, 0.001]\n",
    "}\n",
    "\n",
    "kf = KFold(n_splits=2, shuffle=True, random_state=RANDOM_SEED)\n",
    "\n",
    "model = KerasRegressor(build_fn=build_model, epochs=15,batch_size=12)\n",
    "grid_search = GridSearchCV(estimator = model,\n",
    "                            param_grid = TUNING_DICT,\n",
    "                            cv = kf,\n",
    "                            scoring = 'neg_mean_absolute_error',\n",
    "                            refit ='True',\n",
    "                            verbose = 1)\n",
    "\n",
    "grid_search.fit(X_train, y_train, validation_split=0.2)\n",
    "\n",
    "\"\"\"\n",
    "def BuildModel():\n",
    "     model = Sequential()\n",
    "     model.add(Dense(128, input_dim=12,activation='relu')) \n",
    "     model.add(Dense(32, activation='relu')) \n",
    "     model.add(Dense(8,activation='relu')) \n",
    "     model.add(Dense(1,activation='linear'))\n",
    "     model.compile(loss=\"mean_squared_error\", optimizer=\"adam\")   \n",
    "     return model\n",
    "\n",
    "BuildModel().summary()\n",
    "\n",
    "regressor = KerasRegressor(build_fn=BuildModel,epochs=20,batch_size=12)\n",
    "print(X_scaled)\n",
    "print(y_scaled)\n",
    "regressor.fit(X_scaled,y_scaled) \n",
    "\n",
    "y_pred = regressor.predict(X_scaled)\n",
    " \n",
    "\n",
    "mse_krr = mean_squared_error(y_scaled, y_pred)\n",
    "\n",
    "\"\"\""
   ]
  },
  {
   "cell_type": "code",
   "execution_count": null,
   "metadata": {},
   "outputs": [],
   "source": [
    "plt.plot(y_pred, label=\"y-original\")\n",
    "plt.plot(y_pred, label=\"y-predicted\")\n",
    "plt.legend()\n",
    "plt.show()\n",
    "print(\"Best: %f using %s\" % (grid_search.best_score_, grid_search.best_params_))\n",
    "means = grid_search.cv_results_['mean_test_score']\n",
    "stds = grid_search.cv_results_['std_test_score']\n",
    "params = grid_search.cv_results_['params']\n",
    "for mean, stdev, param in zip(means, stds, params):\n",
    "    print(\"%f (%f) with: %r\" % (mean, stdev, param))\n"
   ]
  }
 ],
 "metadata": {
  "kernelspec": {
   "display_name": "Python 3 (ipykernel)",
   "language": "python",
   "name": "python3"
  },
  "language_info": {
   "codemirror_mode": {
    "name": "ipython",
    "version": 3
   },
   "file_extension": ".py",
   "mimetype": "text/x-python",
   "name": "python",
   "nbconvert_exporter": "python",
   "pygments_lexer": "ipython3",
   "version": "3.9.12"
  },
  "vscode": {
   "interpreter": {
    "hash": "369f2c481f4da34e4445cda3fffd2e751bd1c4d706f27375911949ba6bb62e1c"
   }
  }
 },
 "nbformat": 4,
 "nbformat_minor": 4
}
